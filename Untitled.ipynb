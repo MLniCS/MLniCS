{
 "cells": [
  {
   "cell_type": "code",
   "execution_count": 15,
   "id": "f3aa2fa4",
   "metadata": {},
   "outputs": [],
   "source": [
    "import numpy as np\n",
    "import matplotlib.pyplot as plt"
   ]
  },
  {
   "cell_type": "code",
   "execution_count": 16,
   "id": "ea4ab207",
   "metadata": {},
   "outputs": [],
   "source": [
    "N = 1\n",
    "tol = 1e-10\n",
    "\n",
    "W1 = np.random.uniform(size=(N, 1))\n",
    "b1 = np.random.uniform(size=(N, 1))\n",
    "W2 = np.random.uniform(size=(1, N))\n",
    "b2 = np.random.uniform(size=(1, 1))\n",
    "\n",
    "def relu(x):\n",
    "    return np.maximum(0, x)\n",
    "\n",
    "def drelu(x):\n",
    "    return 1. * (x > 0)"
   ]
  },
  {
   "cell_type": "code",
   "execution_count": 17,
   "id": "0fadc46b",
   "metadata": {},
   "outputs": [],
   "source": [
    "# x \\in [0, 1], y = x**2\n",
    "x = np.random.uniform(size=(1, 1))\n",
    "y = x**2"
   ]
  },
  {
   "cell_type": "code",
   "execution_count": 22,
   "id": "4b0a36de",
   "metadata": {},
   "outputs": [
    {
     "name": "stdout",
     "output_type": "stream",
     "text": [
      "0 1.3229394595782673e-26\n",
      "1000 3.6042315202449385e-28\n",
      "2000 1.4914401489334754e-28\n",
      "3000 1.2573703272124283e-28\n",
      "4000 1.066071557696333e-28\n",
      "5000 9.329512799402872e-29\n",
      "6000 7.888609052210118e-29\n",
      "7000 6.749691120297282e-29\n",
      "8000 5.69952004022181e-29\n",
      "9000 4.738095811983702e-29\n"
     ]
    }
   ],
   "source": [
    "lr = 0.001\n",
    "\n",
    "def f(x):\n",
    "    return b2 + W2 @ relu(b1 + W1 @ x)\n",
    "\n",
    "for i in range(10000):\n",
    "    out = f(x)\n",
    "    loss = np.sum((out - y)**2)\n",
    "\n",
    "    db2 = 2 * (out - y).T @ np.ones_like(b2)\n",
    "    dW2 = 2 * (out - y).T @ np.repeat(relu(b1 + W1 @ x).T, W2.shape[0], axis=0)\n",
    "    db1 = 2 * (out - y).T @ W2 @ np.diag(drelu(b1 + W1 @ x).reshape(-1)) @ np.ones_like(b1)\n",
    "    dW1 = 2 * (out - y).T @ W2 @ np.diag(drelu(b1 + W1 @ x).reshape(-1)) @ np.repeat(x.T, W1.shape[0], axis=0)\n",
    "    \n",
    "    b2 -= lr * db2\n",
    "    W2 -= lr * dW2\n",
    "    b1 -= lr * db1\n",
    "    W1 -= lr * dW1\n",
    "    \n",
    "    if i%1000 == 0:\n",
    "        print(i, loss)"
   ]
  },
  {
   "cell_type": "code",
   "execution_count": 23,
   "id": "c6a71162",
   "metadata": {},
   "outputs": [
    {
     "name": "stdout",
     "output_type": "stream",
     "text": [
      "[[0.68481424]] [[0.68481424]] [[0.68329768]] [[0.09535458]]\n",
      "0.34567708927569235\n"
     ]
    }
   ],
   "source": [
    "# add new point\n",
    "x_new = np.random.uniform(size=(1, 1))\n",
    "y_new = x_new**2\n",
    "\n",
    "print(f(x), y, f(x_new), y_new)\n",
    "\n",
    "out = f(x_new)\n",
    "\n",
    "loss = np.sum((out - y_new)**2)\n",
    "\n",
    "lr = 0.001\n",
    "\n",
    "if loss > tol:\n",
    "    # add a new node to the network\n",
    "    print(loss)\n",
    "    # make W1, b1, W2 bigger\n",
    "    W1_new = np.random.uniform(size=(W1.shape[0]+1, W1.shape[1]))\n",
    "    W1_new[:-1, :] = W1\n",
    "    \n",
    "    b1_new = np.random.uniform(size=(b1.shape[0]+1, b1.shape[1]))\n",
    "    b1_new[:-1] = b1\n",
    "    \n",
    "    W2_new = np.random.uniform(size=(W2.shape[0], W2.shape[1]+1))\n",
    "    W2_new[:, :-1] = W2\n",
    "    \n",
    "    def f_(x):\n",
    "        return b2 + W2_new @ relu(b1_new + W1_new @ x)\n",
    "else:\n",
    "    print(\"we good\")"
   ]
  },
  {
   "cell_type": "code",
   "execution_count": 24,
   "id": "9eed9baf",
   "metadata": {},
   "outputs": [
    {
     "name": "stdout",
     "output_type": "stream",
     "text": [
      "0 0.7559488035906442\n",
      "1000 0.37246676896351755\n",
      "2000 0.3500139277809952\n",
      "3000 0.34773355627970903\n",
      "4000 0.34749156626569555\n",
      "5000 0.3474657692519184\n",
      "6000 0.3474630178625666\n",
      "7000 0.34746272439701575\n",
      "8000 0.3474626930955552\n",
      "9000 0.3474626897568945\n"
     ]
    }
   ],
   "source": [
    "for i in range(10000):\n",
    "    out = f_(x_new)\n",
    "    loss = np.sum((out - y_new)**2)\n",
    "\n",
    "    dW2 = 2 * (out - y).T @ np.repeat(relu(b1_new + W1_new @ x).T, W2_new.shape[0], axis=0)\n",
    "    dW2[:, :-1] = 0\n",
    "\n",
    "    db1 = 2 * (out - y).T @ W2_new @ np.diag(drelu(b1_new + W1_new @ x).reshape(-1)) @ np.ones_like(b1_new)\n",
    "    db1[:-1] = 0\n",
    "\n",
    "    dW1 = 2 * (out - y).T @ W2_new @ np.diag(drelu(b1_new + W1_new @ x).reshape(-1)) @ np.repeat(x.T, W1_new.shape[0], axis=0)\n",
    "    dW1[:-1, :] = 0\n",
    "\n",
    "    W2_new -= lr * dW2\n",
    "    b1_new -= lr * db1\n",
    "    W1_new -= lr * dW1\n",
    "\n",
    "    if i%1000 == 0:\n",
    "        print(i, loss)"
   ]
  },
  {
   "cell_type": "code",
   "execution_count": 25,
   "id": "48523342",
   "metadata": {},
   "outputs": [
    {
     "name": "stdout",
     "output_type": "stream",
     "text": [
      "[[0.34746269]] [[0.06969104]]\n"
     ]
    }
   ],
   "source": [
    "print((f_(x_new) - y_new)**2, (f_(x) - y)**2)"
   ]
  },
  {
   "cell_type": "code",
   "execution_count": null,
   "id": "b9167b21",
   "metadata": {},
   "outputs": [],
   "source": []
  }
 ],
 "metadata": {
  "kernelspec": {
   "display_name": "Python 3 (ipykernel)",
   "language": "python",
   "name": "python3"
  },
  "language_info": {
   "codemirror_mode": {
    "name": "ipython",
    "version": 3
   },
   "file_extension": ".py",
   "mimetype": "text/x-python",
   "name": "python",
   "nbconvert_exporter": "python",
   "pygments_lexer": "ipython3",
   "version": "3.10.4"
  }
 },
 "nbformat": 4,
 "nbformat_minor": 5
}
