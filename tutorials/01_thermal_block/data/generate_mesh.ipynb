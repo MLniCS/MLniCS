{
 "cells": [
  {
   "cell_type": "code",
   "execution_count": 1,
   "metadata": {},
   "outputs": [],
   "source": [
    "from dolfin import *\n",
    "from mshr import *"
   ]
  },
  {
   "cell_type": "code",
   "execution_count": 2,
   "metadata": {},
   "outputs": [],
   "source": [
    "# Create mesh\n",
    "rectangle = Rectangle(Point(-1., -1.), Point(1., 1.))\n",
    "circle = Circle(Point(0., 0.), 0.5, segments=32)\n",
    "domain = rectangle\n",
    "domain.set_subdomain(1, circle)\n",
    "domain.set_subdomain(2, rectangle - circle)\n",
    "mesh = generate_mesh(domain, 15)"
   ]
  },
  {
   "cell_type": "code",
   "execution_count": 3,
   "metadata": {},
   "outputs": [],
   "source": [
    "# Create subdomains\n",
    "subdomains = MeshFunction(\"size_t\", mesh, 2, mesh.domains())"
   ]
  },
  {
   "cell_type": "code",
   "execution_count": 4,
   "metadata": {},
   "outputs": [],
   "source": [
    "# Create boundaries\n",
    "class Left(SubDomain):\n",
    "    def inside(self, x, on_boundary):\n",
    "        return on_boundary and abs(x[0] + 1.) < DOLFIN_EPS\n",
    "\n",
    "\n",
    "class Right(SubDomain):\n",
    "    def inside(self, x, on_boundary):\n",
    "        return on_boundary and abs(x[0] - 1.) < DOLFIN_EPS\n",
    "\n",
    "\n",
    "class Bottom(SubDomain):\n",
    "    def inside(self, x, on_boundary):\n",
    "        return on_boundary and abs(x[1] + 1.) < DOLFIN_EPS\n",
    "\n",
    "\n",
    "class Top(SubDomain):\n",
    "    def inside(self, x, on_boundary):\n",
    "        return on_boundary and abs(x[1] - 1.) < DOLFIN_EPS\n",
    "\n",
    "\n",
    "boundaries = MeshFunction(\"size_t\", mesh, mesh.topology().dim() - 1)\n",
    "boundaries.set_all(0)\n",
    "bottom = Bottom()\n",
    "bottom.mark(boundaries, 1)\n",
    "left = Left()\n",
    "left.mark(boundaries, 2)\n",
    "right = Right()\n",
    "right.mark(boundaries, 2)\n",
    "top = Top()\n",
    "top.mark(boundaries, 3)"
   ]
  },
  {
   "cell_type": "code",
   "execution_count": 5,
   "metadata": {},
   "outputs": [],
   "source": [
    "# Save\n",
    "File(\"thermal_block.xml\") << mesh\n",
    "File(\"thermal_block_physical_region.xml\") << subdomains\n",
    "File(\"thermal_block_facet_region.xml\") << boundaries\n",
    "XDMFFile(\"thermal_block.xdmf\").write(mesh)\n",
    "XDMFFile(\"thermal_block_physical_region.xdmf\").write(subdomains)\n",
    "XDMFFile(\"thermal_block_facet_region.xdmf\").write(boundaries)"
   ]
  }
 ],
 "metadata": {
  "kernelspec": {
   "display_name": "fenicsproject",
   "language": "python",
   "name": "python3"
  },
  "language_info": {
   "codemirror_mode": {
    "name": "ipython",
    "version": 3
   },
   "file_extension": ".py",
   "mimetype": "text/x-python",
   "name": "python",
   "nbconvert_exporter": "python",
   "pygments_lexer": "ipython3",
   "version": "3.10.8"
  },
  "vscode": {
   "interpreter": {
    "hash": "350886dd400890bdab5bb475c6063c29c7de30eb69ba1c0ec092516149a9f42d"
   }
  }
 },
 "nbformat": 4,
 "nbformat_minor": 2
}
