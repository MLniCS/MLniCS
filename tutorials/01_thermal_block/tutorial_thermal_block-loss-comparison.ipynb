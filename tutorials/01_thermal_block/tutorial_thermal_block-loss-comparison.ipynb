{
 "cells": [
  {
   "cell_type": "markdown",
   "metadata": {},
   "source": [
    "## TUTORIAL 01 - Thermal block problem\n",
    "**_Keywords: certified reduced basis method, scalar problem_**\n",
    "\n",
    "### 1. Introduction\n",
    "In this Tutorial, we consider steady heat conduction in a two-dimensional domain $\\Omega$.\n",
    "\n",
    "<img src=\"data/thermal_block.png\" />\n",
    "\n",
    "We define two subdomains $\\Omega_1$ and $\\Omega_2$, such that\n",
    "1. $\\Omega_1$ is a disk centered at the origin of radius $r_0=0.5$, and\n",
    "2. $\\Omega_2=\\Omega/\\ \\overline{\\Omega_1}$. \n",
    "\n",
    "The conductivity $\\kappa$ is assumed to be constant on $\\Omega_1$ and $\\Omega_2$, i.e.\n",
    "$$\n",
    "\\kappa|_{\\Omega_1}=\\kappa_0 \\quad \\textrm{and} \\quad \\kappa|_{\\Omega_2}=1.\n",
    "$$\n",
    "\n",
    "For this problem, we consider $P=2$ parameters:\n",
    "1. the first one is related to the conductivity in $\\Omega_1$, i.e. $\\mu_0\\equiv k_0$ (_note that parameters numbering is zero-based_);\n",
    "2. the second parameter $\\mu_1$ takes into account the constant heat flux over $\\Gamma_{base}$.\n",
    "\n",
    "The parameter vector $\\boldsymbol{\\mu}$ is thus given by \n",
    "$$\n",
    "\\boldsymbol{\\mu} = (\\mu_0,\\mu_1)\n",
    "$$\n",
    "on the parameter domain\n",
    "$$\n",
    "\\mathbb{P}=[0.1,10]\\times[-1,1].\n",
    "$$\n",
    "\n",
    "In this problem we model the heat transfer process due to the heat flux over the bottom boundary $\\Gamma_{base}$ and the following conditions on the remaining boundaries:\n",
    "* the left and right boundaries $\\Gamma_{side}$ are insulated,\n",
    "* the top boundary $\\Gamma_{top}$ is kept at a reference temperature (say, zero),\n",
    "\n",
    "with the aim of measuring the average temperature on $\\Gamma_{base}$.\n",
    "\n",
    "In order to obtain a faster evaluation (yet, provably accurate) of the output of interest we propose to use a certified reduced basis approximation for the problem."
   ]
  },
  {
   "cell_type": "markdown",
   "metadata": {},
   "source": [
    "### 2. Parametrized formulation\n",
    "\n",
    "Let $u(\\boldsymbol{\\mu})$ be the temperature in the domain $\\Omega$.\n",
    "\n",
    "The strong formulation of the parametrized problem is given by:\n",
    "<center>for a given parameter $\\boldsymbol{\\mu}\\in\\mathbb{P}$, find $u(\\boldsymbol{\\mu})$ such that</center>\n",
    "\n",
    "$$\n",
    "\\begin{cases}\n",
    "\t- \\text{div} (\\kappa(\\mu_0)\\nabla u(\\boldsymbol{\\mu})) = 0 & \\text{in } \\Omega,\\\\\n",
    "\tu(\\boldsymbol{\\mu}) = 0 & \\text{on } \\Gamma_{top},\\\\\n",
    "\t\\kappa(\\mu_0)\\nabla u(\\boldsymbol{\\mu})\\cdot \\mathbf{n} = 0 & \\text{on } \\Gamma_{side},\\\\\n",
    "\t\\kappa(\\mu_0)\\nabla u(\\boldsymbol{\\mu})\\cdot \\mathbf{n} = \\mu_1 & \\text{on } \\Gamma_{base}.\n",
    "\\end{cases}\n",
    "$$\n",
    "<br>\n",
    "\n",
    "where \n",
    "* $\\mathbf{n}$ denotes the outer normal to the boundaries $\\Gamma_{side}$ and $\\Gamma_{base}$,\n",
    "* the conductivity $\\kappa(\\mu_0)$ is defined as follows:\n",
    "$$\n",
    "\\kappa(\\mu_0) =\n",
    "\\begin{cases}\n",
    "\t\\mu_0 & \\text{in } \\Omega_1,\\\\\n",
    "\t1 & \\text{in } \\Omega_2,\\\\\n",
    "\\end{cases}\n",
    "$$\n",
    "\n",
    "The corresponding weak formulation reads:\n",
    "<center>for a given parameter $\\boldsymbol{\\mu}\\in\\mathbb{P}$, find $u(\\boldsymbol{\\mu})\\in\\mathbb{V}$ such that</center>\n",
    "\n",
    "$$a\\left(u(\\boldsymbol{\\mu}),v;\\boldsymbol{\\mu}\\right)=f(v;\\boldsymbol{\\mu})\\quad \\forall v\\in\\mathbb{V}$$\n",
    "\n",
    "where\n",
    "\n",
    "* the function space $\\mathbb{V}$ is defined as\n",
    "$$\n",
    "\\mathbb{V} = \\{v\\in H^1(\\Omega) : v|_{\\Gamma_{top}}=0\\}\n",
    "$$\n",
    "* the parametrized bilinear form $a(\\cdot, \\cdot; \\boldsymbol{\\mu}): \\mathbb{V} \\times \\mathbb{V} \\to \\mathbb{R}$ is defined by\n",
    "$$a(u, v;\\boldsymbol{\\mu})=\\int_{\\Omega} \\kappa(\\mu_0)\\nabla u\\cdot \\nabla v \\ d\\boldsymbol{x},$$\n",
    "* the parametrized linear form $f(\\cdot; \\boldsymbol{\\mu}): \\mathbb{V} \\to \\mathbb{R}$ is defined by\n",
    "$$f(v; \\boldsymbol{\\mu})= \\mu_1\\int_{\\Gamma_{base}}v \\ ds.$$\n",
    "\n",
    "The (compliant) output of interest $s(\\boldsymbol{\\mu})$ given by\n",
    "$$s(\\boldsymbol{\\mu}) = \\mu_1\\int_{\\Gamma_{base}} u(\\boldsymbol{\\mu})$$\n",
    "is computed for each $\\boldsymbol{\\mu}$."
   ]
  },
  {
   "cell_type": "code",
   "execution_count": 1,
   "metadata": {},
   "outputs": [],
   "source": [
    "import os\n",
    "import sys\n",
    "sys.path.append('../../')\n",
    "\n",
    "from mlnics import NN, Losses, Normalization, RONNData, IO, Training, ErrorAnalysis\n",
    "from dolfin import *\n",
    "from rbnics import *\n",
    "import torch\n",
    "import numpy as np\n",
    "\n",
    "torch.manual_seed(0)\n",
    "np.random.seed(0)"
   ]
  },
  {
   "cell_type": "markdown",
   "metadata": {},
   "source": [
    "## 3. Affine decomposition\n",
    "\n",
    "For this problem the affine decomposition is straightforward:\n",
    "$$a(u,v;\\boldsymbol{\\mu})=\\underbrace{\\mu_0}_{\\Theta^{a}_0(\\boldsymbol{\\mu})}\\underbrace{\\int_{\\Omega_1}\\nabla u \\cdot \\nabla v \\ d\\boldsymbol{x}}_{a_0(u,v)} \\ + \\  \\underbrace{1}_{\\Theta^{a}_1(\\boldsymbol{\\mu})}\\underbrace{\\int_{\\Omega_2}\\nabla u \\cdot \\nabla v \\ d\\boldsymbol{x}}_{a_1(u,v)},$$\n",
    "$$f(v; \\boldsymbol{\\mu}) = \\underbrace{\\mu_1}_{\\Theta^{f}_0(\\boldsymbol{\\mu})} \\underbrace{\\int_{\\Gamma_{base}}v \\ ds}_{f_0(v)}.$$\n",
    "We will implement the numerical discretization of the problem in the class\n",
    "```\n",
    "class ThermalBlock(EllipticCoerciveCompliantProblem):\n",
    "```\n",
    "by specifying the coefficients $\\Theta^{a}_*(\\boldsymbol{\\mu})$ and $\\Theta^{f}_*(\\boldsymbol{\\mu})$ in the method\n",
    "```\n",
    "    def compute_theta(self, term):     \n",
    "```\n",
    "and the bilinear forms $a_*(u, v)$ and linear forms $f_*(v)$ in\n",
    "```\n",
    "    def assemble_operator(self, term):\n",
    "```"
   ]
  },
  {
   "cell_type": "code",
   "execution_count": 2,
   "metadata": {},
   "outputs": [],
   "source": [
    "class ThermalBlock(EllipticCoerciveCompliantProblem):\n",
    "\n",
    "    # Default initialization of members\n",
    "    def __init__(self, V, **kwargs):\n",
    "        # Call the standard initialization\n",
    "        EllipticCoerciveCompliantProblem.__init__(self, V, **kwargs)\n",
    "        # ... and also store FEniCS data structures for assembly\n",
    "        assert \"subdomains\" in kwargs\n",
    "        assert \"boundaries\" in kwargs\n",
    "        self.subdomains, self.boundaries = kwargs[\"subdomains\"], kwargs[\"boundaries\"]\n",
    "        self.u = TrialFunction(V)\n",
    "        self.v = TestFunction(V)\n",
    "        self.dx = Measure(\"dx\")(subdomain_data=self.subdomains)\n",
    "        self.ds = Measure(\"ds\")(subdomain_data=self.boundaries)\n",
    "\n",
    "    # Return custom problem name\n",
    "    def name(self):\n",
    "        return \"ThermalBlock\"\n",
    "\n",
    "    # Return the alpha_lower bound.\n",
    "    def get_stability_factor_lower_bound(self):\n",
    "        return min(self.compute_theta(\"a\"))\n",
    "\n",
    "    # Return theta multiplicative terms of the affine expansion of the problem.\n",
    "    def compute_theta(self, term):\n",
    "        mu = self.mu\n",
    "        if term == \"a\":\n",
    "            theta_a0 = mu[0]\n",
    "            theta_a1 = 1.\n",
    "            return (theta_a0, theta_a1)\n",
    "        elif term == \"f\":\n",
    "            theta_f0 = mu[1]\n",
    "            return (theta_f0,)\n",
    "        else:\n",
    "            raise ValueError(\"Invalid term for compute_theta().\")\n",
    "\n",
    "    # Return forms resulting from the discretization of the affine expansion of the problem operators.\n",
    "    def assemble_operator(self, term):\n",
    "        v = self.v\n",
    "        dx = self.dx\n",
    "        if term == \"a\":\n",
    "            u = self.u\n",
    "            a0 = inner(grad(u), grad(v)) * dx(1)\n",
    "            a1 = inner(grad(u), grad(v)) * dx(2)\n",
    "            return (a0, a1)\n",
    "        elif term == \"f\":\n",
    "            ds = self.ds\n",
    "            f0 = v * ds(1)\n",
    "            return (f0,)\n",
    "        elif term == \"dirichlet_bc\":\n",
    "            bc0 = [DirichletBC(self.V, Constant(0.0), self.boundaries, 3)]\n",
    "            return (bc0,)\n",
    "        elif term == \"inner_product\":\n",
    "            u = self.u\n",
    "            x0 = inner(grad(u), grad(v)) * dx\n",
    "            return (x0,)\n",
    "        else:\n",
    "            raise ValueError(\"Invalid term for assemble_operator().\")"
   ]
  },
  {
   "cell_type": "markdown",
   "metadata": {},
   "source": [
    "## 4. Main program\n",
    "### 4.1. Read the mesh for this problem\n",
    "The mesh was generated by the [data/generate_mesh.ipynb](data/generate_mesh.ipynb) notebook."
   ]
  },
  {
   "cell_type": "code",
   "execution_count": 3,
   "metadata": {},
   "outputs": [],
   "source": [
    "mesh = Mesh(\"data/thermal_block.xml\")\n",
    "subdomains = MeshFunction(\"size_t\", mesh, \"data/thermal_block_physical_region.xml\")\n",
    "boundaries = MeshFunction(\"size_t\", mesh, \"data/thermal_block_facet_region.xml\")"
   ]
  },
  {
   "cell_type": "markdown",
   "metadata": {},
   "source": [
    "### 4.2. Create Finite Element space (Lagrange P1)"
   ]
  },
  {
   "cell_type": "code",
   "execution_count": 4,
   "metadata": {},
   "outputs": [],
   "source": [
    "V = FunctionSpace(mesh, \"Lagrange\", 1)"
   ]
  },
  {
   "cell_type": "markdown",
   "metadata": {},
   "source": [
    "### 4.3. Allocate an object of the ThermalBlock class"
   ]
  },
  {
   "cell_type": "code",
   "execution_count": 5,
   "metadata": {},
   "outputs": [],
   "source": [
    "problem = ThermalBlock(V, subdomains=subdomains, boundaries=boundaries)\n",
    "mu_range = [(0.1, 10.0), (-1.0, 1.0)]\n",
    "problem.set_mu_range(mu_range)"
   ]
  },
  {
   "cell_type": "markdown",
   "metadata": {},
   "source": [
    "### 4.4. Prepare reduction with a reduced basis method"
   ]
  },
  {
   "cell_type": "code",
   "execution_count": 6,
   "metadata": {},
   "outputs": [],
   "source": [
    "reduction_method = PODGalerkin(problem)#ReducedBasis(problem)\n",
    "reduction_method.set_Nmax(20)\n",
    "reduction_method.set_tolerance(1e-10)#1e-5)"
   ]
  },
  {
   "cell_type": "markdown",
   "metadata": {},
   "source": [
    "### 4.5. Perform the offline phase"
   ]
  },
  {
   "cell_type": "code",
   "execution_count": 7,
   "metadata": {
    "scrolled": true
   },
   "outputs": [],
   "source": [
    "reduction_method.initialize_training_set(100)\n",
    "reduced_problem = reduction_method.offline()"
   ]
  },
  {
   "cell_type": "markdown",
   "metadata": {},
   "source": [
    "### 4.5b Train the neural network"
   ]
  },
  {
   "cell_type": "code",
   "execution_count": 8,
   "metadata": {},
   "outputs": [],
   "source": [
    "reduction_method.initialize_testing_set(100)\n",
    "test_mu = torch.tensor(reduction_method.testing_set)"
   ]
  },
  {
   "cell_type": "code",
   "execution_count": 9,
   "metadata": {
    "scrolled": true
   },
   "outputs": [],
   "source": [
    "input_normalization_pinn = Normalization.StandardNormalization(input_normalization=True)\n",
    "output_normalization_pinn = Normalization.StandardNormalization()\n",
    "\n",
    "pinn_net  = NN.RONN(problem, reduction_method, n_neurons=20)\n",
    "pinn_loss = Losses.PINN_Loss(pinn_net, output_normalization_pinn)\n",
    "data      = RONNData.RONNDataLoader(pinn_net, validation_proportion=0.2, \n",
    "                                    num_without_snapshots=100)\n",
    "optimizer = torch.optim.Adam(pinn_net.parameters(), lr=0.001)\n",
    "\n",
    "loaded, starting_epoch = IO.initialize_parameters(\n",
    "    pinn_net, data, optimizer, \n",
    "    suffix=pinn_loss.name(), by_validation=True\n",
    ")"
   ]
  },
  {
   "cell_type": "code",
   "execution_count": 10,
   "metadata": {
    "scrolled": true
   },
   "outputs": [
    {
     "name": "stdout",
     "output_type": "stream",
     "text": [
      "19800 2.1653553217332176e-06 \tLoss(validation) = 0.0003201684421589933\n",
      "19900 2.1460765780634348e-06 \tLoss(validation) = 0.00031803754528396085\n",
      "20000 7.751389048020403e-06 \tLoss(validation) = 0.0003180593905442217\n",
      "20100 2.116081769275687e-06 \tLoss(validation) = 0.0003144043101608401\n",
      "20200 2.0969009936419496e-06 \tLoss(validation) = 0.0003123331942576875\n",
      "20300 5.631510800795694e-06 \tLoss(validation) = 0.00030825666771644195\n",
      "20400 2.0687839652942133e-06 \tLoss(validation) = 0.00030890178855944364\n",
      "20500 2.0507967702481568e-06 \tLoss(validation) = 0.0003069711407435498\n",
      "20600 3.279505363035261e-05 \tLoss(validation) = 0.00030776202237301354\n",
      "20700 2.0277284426602754e-06 \tLoss(validation) = 0.000304069728301438\n",
      "20800 2.0116175008301866e-06 \tLoss(validation) = 0.00030228792376958143\n",
      "20900 1.9951421116346904e-06 \tLoss(validation) = 0.00030041491756356597\n",
      "21000 1.1298966908582952e-05 \tLoss(validation) = 0.0003008760025741492\n",
      "21100 1.968962117129967e-06 \tLoss(validation) = 0.00029714420717869114\n",
      "21200 1.952690989729852e-06 \tLoss(validation) = 0.0002953248995066978\n",
      "21300 2.28606191300865e-06 \tLoss(validation) = 0.00029282082680349666\n",
      "21400 1.9270079580718638e-06 \tLoss(validation) = 0.0002921852786149744\n",
      "21500 0.0001227482574833565 \tLoss(validation) = 0.0004279572316136083\n",
      "21600 1.9033494181425251e-06 \tLoss(validation) = 0.00028916077133447053\n",
      "21700 1.886970987485794e-06 \tLoss(validation) = 0.0002875132999723805\n",
      "21800 5.1522166766366125e-06 \tLoss(validation) = 0.00028362743772516655\n",
      "21900 1.8633767220663115e-06 \tLoss(validation) = 0.000284615830018991\n",
      "22000 5.40079461257126e-05 \tLoss(validation) = 0.0003686772542361499\n",
      "22100 1.84455988312781e-06 \tLoss(validation) = 0.0002820534044385216\n",
      "22200 1.82627437154084e-06 \tLoss(validation) = 0.00028033393132050033\n",
      "22300 2.6850516786212434e-06 \tLoss(validation) = 0.0002775128603812491\n",
      "22400 1.8044859314849176e-06 \tLoss(validation) = 0.00027768813863553383\n",
      "22500 2.1798731401361204e-06 \tLoss(validation) = 0.000278733243599024\n",
      "22600 1.7860823320196984e-06 \tLoss(validation) = 0.00027484978106910856\n",
      "22700 1.7690972780906086e-06 \tLoss(validation) = 0.00027361560241236007\n",
      "22800 5.446210470447658e-06 \tLoss(validation) = 0.00027678030973239453\n",
      "22900 1.7491353825843586e-06 \tLoss(validation) = 0.00027118571162428913\n",
      "23000 1.7601498874434329e-06 \tLoss(validation) = 0.0002693412207767882\n",
      "23100 1.7301864634082827e-06 \tLoss(validation) = 0.0002685012730935245\n",
      "23200 1.7167794980760932e-06 \tLoss(validation) = 0.0002675102245661314\n",
      "23300 8.81418618311926e-06 \tLoss(validation) = 0.0002637576200933572\n",
      "23400 1.6985112664394537e-06 \tLoss(validation) = 0.0002652572584362628\n",
      "23500 1.6855807342365568e-06 \tLoss(validation) = 0.0002639190582393477\n",
      "23600 2.093056053328017e-06 \tLoss(validation) = 0.00026533086602104484\n",
      "23700 1.6678600097467695e-06 \tLoss(validation) = 0.00026183638837157724\n",
      "23800 1.6584033966281178e-06 \tLoss(validation) = 0.00026042521503131226\n",
      "23900 1.6539524009315288e-06 \tLoss(validation) = 0.00025953227696557936\n",
      "24000 1.637461841444568e-06 \tLoss(validation) = 0.00025848085428299553\n",
      "24100 2.3677034039352455e-06 \tLoss(validation) = 0.00025674460282241497\n",
      "24200 1.6202130313509547e-06 \tLoss(validation) = 0.0002564957070913019\n",
      "24300 3.4835091714652393e-06 \tLoss(validation) = 0.0002621468731776813\n",
      "24400 1.6097086494971056e-06 \tLoss(validation) = 0.00025433894415624706\n",
      "24500 1.5917917029142066e-06 \tLoss(validation) = 0.00025337087514349304\n",
      "24600 1.720326245792744e-06 \tLoss(validation) = 0.0002508736725289446\n",
      "24700 1.5754358382648312e-06 \tLoss(validation) = 0.0002515494372217369\n",
      "24800 1.7890906155816087e-06 \tLoss(validation) = 0.0002519140082899176\n",
      "24900 1.5727690901414178e-06 \tLoss(validation) = 0.0002493293888563164\n",
      "25000 3.466097022478249e-06 \tLoss(validation) = 0.00024947215868684083\n",
      "25100 1.5395362888045356e-06 \tLoss(validation) = 0.0002477405186089276\n",
      "25200 2.0331649184630347e-06 \tLoss(validation) = 0.00024562889229652076\n",
      "25300 1.524948984685288e-06 \tLoss(validation) = 0.0002461172626079259\n",
      "25400 1.5146276652978061e-06 \tLoss(validation) = 0.0002451135422828363\n",
      "25500 1.5180854986453377e-06 \tLoss(validation) = 0.00024473472948439355\n",
      "25600 1.4994747672879862e-06 \tLoss(validation) = 0.00024328252593773655\n",
      "25700 1.521571814390586e-06 \tLoss(validation) = 0.00024310184902086212\n",
      "25800 1.4834808208254696e-06 \tLoss(validation) = 0.00024181909100945306\n",
      "25900 2.1159336227755028e-05 \tLoss(validation) = 0.0002443324556869656\n",
      "26000 1.4722781885720244e-06 \tLoss(validation) = 0.00024033166356844226\n",
      "26100 1.461071890040137e-06 \tLoss(validation) = 0.000239573980120672\n",
      "26200 2.5932159895435266e-05 \tLoss(validation) = 0.00024053522323902026\n",
      "26300 1.4478577416782441e-06 \tLoss(validation) = 0.00023804043365216514\n",
      "26400 1.438270632030317e-06 \tLoss(validation) = 0.0002372575371551322\n",
      "26500 8.264425126685683e-06 \tLoss(validation) = 0.00023575145069965343\n",
      "26600 1.427336187561004e-06 \tLoss(validation) = 0.00023585583432523044\n",
      "26700 1.4181117786290717e-06 \tLoss(validation) = 0.00023508027598150138\n",
      "26800 1.4226941879337155e-06 \tLoss(validation) = 0.00023457872308751986\n",
      "26900 1.4145763356414976e-06 \tLoss(validation) = 0.0002335116784283787\n",
      "27000 1.3978259647365478e-06 \tLoss(validation) = 0.00023312089932263168\n",
      "27100 7.221908983944838e-06 \tLoss(validation) = 0.00024781714339024917\n",
      "27200 1.3953121869812216e-06 \tLoss(validation) = 0.00023197618392052652\n",
      "27300 1.3783618358261048e-06 \tLoss(validation) = 0.00023118392776203873\n",
      "27400 1.3772348383900249e-06 \tLoss(validation) = 0.0002307062794238269\n",
      "27500 1.3718872495386312e-06 \tLoss(validation) = 0.00022975925137276986\n",
      "27600 1.3579917516883043e-06 \tLoss(validation) = 0.00022921555157185309\n",
      "27700 1.5721803146634217e-06 \tLoss(validation) = 0.00023025010187152645\n",
      "27800 1.3624392094371464e-06 \tLoss(validation) = 0.00022817425969196692\n",
      "27900 1.3392764412157092e-06 \tLoss(validation) = 0.00022730746270693743\n",
      "28000 6.42657357465529e-06 \tLoss(validation) = 0.00023540029982534218\n",
      "28100 5.59531832540627e-06 \tLoss(validation) = 0.00023443398242547304\n",
      "28200 2.67334568965293e-06 \tLoss(validation) = 0.0002293278805805457\n",
      "28300 3.9835894902799495e-05 \tLoss(validation) = 0.00024901863595847907\n",
      "28400 1.3079486592805435e-06 \tLoss(validation) = 0.000224281700664515\n",
      "28500 1.714778094318226e-06 \tLoss(validation) = 0.00022312852779606446\n",
      "28600 1.3089494755864529e-06 \tLoss(validation) = 0.00022363363181305808\n",
      "28700 1.3183280635097455e-06 \tLoss(validation) = 0.00022241652192183699\n",
      "28800 1.2810530182353953e-06 \tLoss(validation) = 0.0002222639298926468\n",
      "28900 1.3182529748939156e-06 \tLoss(validation) = 0.00022112866691596073\n",
      "29000 1.2715367950042963e-06 \tLoss(validation) = 0.00022116336508133682\n",
      "29100 1.2635945632342484e-06 \tLoss(validation) = 0.00022062596944396142\n",
      "29200 1.298146471820474e-06 \tLoss(validation) = 0.00022042910357590798\n",
      "29300 1.2533793311121188e-06 \tLoss(validation) = 0.0002198037952251747\n",
      "29400 8.274645323856622e-06 \tLoss(validation) = 0.00021729761727721204\n",
      "29500 1.2444117642406275e-06 \tLoss(validation) = 0.00021885612990939674\n",
      "29600 1.236549273735997e-06 \tLoss(validation) = 0.00021842778833008775\n",
      "29700 4.61954463941641e-06 \tLoss(validation) = 0.00022008860466101853\n"
     ]
    },
    {
     "data": {
      "text/plain": [
       "<mlnics.Losses.PINN_Loss at 0x1067a77c0>"
      ]
     },
     "execution_count": 10,
     "metadata": {},
     "output_type": "execute_result"
    }
   ],
   "source": [
    "Training.normalize_and_train_pinn(\n",
    "    pinn_net, data, pinn_loss, optimizer,\n",
    "    input_normalization_pinn, epochs=10000, starting_epoch=starting_epoch\n",
    ")"
   ]
  },
  {
   "cell_type": "code",
   "execution_count": 11,
   "metadata": {},
   "outputs": [
    {
     "data": {
      "image/png": "[encoded data removed]",
      "text/plain": [
       "<Figure size 432x288 with 1 Axes>"
      ]
     },
     "metadata": {
      "needs_background": "light"
     },
     "output_type": "display_data"
    }
   ],
   "source": [
    "fig, ax = Training.plot_loss(pinn_net)"
   ]
  },
  {
   "cell_type": "code",
   "execution_count": 12,
   "metadata": {},
   "outputs": [
    {
     "name": "stdout",
     "output_type": "stream",
     "text": [
      "Mean Relative Error:\n",
      "N\tNN-HF\t\t\tNN-RO\t\t\tRO-HF\n",
      "4\t0.005878684464831368\t0.0058786854196173025\t5.070341389591286e-07\n"
     ]
    }
   ],
   "source": [
    "_ = ErrorAnalysis.error_analysis_fixed_net(\n",
    "    pinn_net, test_mu, input_normalization_pinn, output_normalization_pinn\n",
    ")"
   ]
  },
  {
   "cell_type": "code",
   "execution_count": 13,
   "metadata": {},
   "outputs": [
    {
     "data": {
      "image/png": "[encoded data removed]",
      "text/plain": [
       "<Figure size 432x288 with 2 Axes>"
      ]
     },
     "metadata": {
      "needs_background": "light"
     },
     "output_type": "display_data"
    }
   ],
   "source": [
    "ErrorAnalysis.plot_solution_difference(\n",
    "    pinn_net, (8.0, -1.0), input_normalization_pinn, output_normalization_pinn\n",
    ")"
   ]
  },
  {
   "cell_type": "code",
   "execution_count": 14,
   "metadata": {
    "scrolled": true
   },
   "outputs": [],
   "source": [
    "input_normalization_pdnn = Normalization.StandardNormalization(input_normalization=True)\n",
    "output_normalization_pdnn = Normalization.StandardNormalization()\n",
    "\n",
    "pdnn_net  = NN.RONN(problem, reduction_method, n_neurons=20)\n",
    "pdnn_loss = Losses.PDNN_Loss(pdnn_net, output_normalization_pdnn)\n",
    "data      = RONNData.RONNDataLoader(pdnn_net, validation_proportion=0.2)\n",
    "optimizer = torch.optim.Adam(pdnn_net.parameters(), lr=0.001)\n",
    "\n",
    "loaded, starting_epoch = IO.initialize_parameters(\n",
    "    pdnn_net, data, optimizer, \n",
    "    suffix=pdnn_loss.name(), by_validation=True\n",
    ")"
   ]
  },
  {
   "cell_type": "code",
   "execution_count": 15,
   "metadata": {
    "scrolled": true
   },
   "outputs": [
    {
     "name": "stdout",
     "output_type": "stream",
     "text": [
      "300 0.33434419897086354 \tLoss(validation) = 0.68419463102944\n",
      "400 0.2669816418331992 \tLoss(validation) = 0.7132790679177319\n",
      "500 0.22252733151079346 \tLoss(validation) = 0.7790712678160608\n",
      "600 0.18485537868235524 \tLoss(validation) = 0.8556157150641642\n",
      "700 0.15009277482504615 \tLoss(validation) = 0.9269146980203281\n",
      "800 0.11999695289635329 \tLoss(validation) = 0.9813879511096397\n",
      "900 0.09450027945992026 \tLoss(validation) = 1.0165728518058912\n",
      "1000 0.07298096234781334 \tLoss(validation) = 1.0324987506699184\n",
      "1100 0.05464054988326583 \tLoss(validation) = 1.0302019840400476\n",
      "1200 0.03888020790374934 \tLoss(validation) = 1.0128769781835565\n",
      "1300 0.026177361577758063 \tLoss(validation) = 0.9928199757520622\n",
      "1400 0.017020014976342333 \tLoss(validation) = 0.9827573887574605\n",
      "1500 0.010970254823226161 \tLoss(validation) = 0.9867956433833772\n",
      "1600 0.007152599793000369 \tLoss(validation) = 0.9982949889396826\n",
      "1700 0.004797319324369241 \tLoss(validation) = 1.0095420818597982\n",
      "1800 0.0033447752327161956 \tLoss(validation) = 1.017202280258381\n",
      "1900 0.0024303555226514767 \tLoss(validation) = 1.0214200291256765\n",
      "2000 0.001836952745899447 \tLoss(validation) = 1.0237886856828973\n",
      "2100 0.0014393431972986393 \tLoss(validation) = 1.0257732386967857\n",
      "2200 0.0011638714608181405 \tLoss(validation) = 1.0281391604990333\n",
      "2300 0.0009659291918231283 \tLoss(validation) = 1.0310832463546178\n",
      "2400 0.0008182607348014399 \tLoss(validation) = 1.0345042633787078\n",
      "2500 0.0007042778902972695 \tLoss(validation) = 1.0382147931035193\n",
      "2600 0.0006138801133776879 \tLoss(validation) = 1.0420417021579276\n",
      "2700 0.0005407566235765872 \tLoss(validation) = 1.045851171069604\n",
      "2800 0.00048076379563412075 \tLoss(validation) = 1.0495474682401542\n",
      "2900 0.00043099534042681205 \tLoss(validation) = 1.0530703960413506\n",
      "3000 0.00038930519787852644 \tLoss(validation) = 1.0563807843422222\n",
      "3100 0.0003540467419335913 \tLoss(validation) = 1.0594642408116421\n",
      "3200 0.0003239417938531436 \tLoss(validation) = 1.062322752514454\n",
      "3300 0.0002979821729695608 \tLoss(validation) = 1.0649733727291952\n",
      "3400 0.0002753831771697089 \tLoss(validation) = 1.067435973116878\n",
      "3500 0.0002555236206349651 \tLoss(validation) = 1.069738251137013\n",
      "3600 0.00023791466592561466 \tLoss(validation) = 1.071905568913753\n",
      "3700 0.0002221705858786121 \tLoss(validation) = 1.073961338765105\n",
      "3800 0.000207982086409736 \tLoss(validation) = 1.0759237116827955\n",
      "3900 0.000195103484008954 \tLoss(validation) = 1.0778063085512724\n",
      "4000 0.0001833340697792325 \tLoss(validation) = 1.0796200857595362\n",
      "4100 0.00017251548497744943 \tLoss(validation) = 1.081374886425517\n",
      "4200 0.0001625145199563272 \tLoss(validation) = 1.0830711211670034\n",
      "4300 0.00015322761405485325 \tLoss(validation) = 1.0847088079823899\n",
      "4400 0.0001445652348405204 \tLoss(validation) = 1.0862895998885562\n",
      "4500 0.0001364942606628178 \tLoss(validation) = 1.087921720594863\n",
      "4600 0.00012896094366111264 \tLoss(validation) = 1.0893950290257772\n",
      "4700 0.00012199476835396514 \tLoss(validation) = 1.0910097692365048\n",
      "4800 0.00011532597297070949 \tLoss(validation) = 1.0924282438348973\n",
      "4900 0.00010918641437590213 \tLoss(validation) = 1.09382713614971\n",
      "5000 0.00010338163909751671 \tLoss(validation) = 1.0953171900068293\n",
      "5100 9.831481331942203e-05 \tLoss(validation) = 1.0965896358779152\n",
      "5200 9.284855622218392e-05 \tLoss(validation) = 1.0979804265199828\n",
      "5300 8.848509183279803e-05 \tLoss(validation) = 1.0994242041853817\n",
      "5400 8.356903171590156e-05 \tLoss(validation) = 1.1003834586962882\n",
      "5500 7.930236121898241e-05 \tLoss(validation) = 1.1014834271099965\n",
      "5600 7.531979776208225e-05 \tLoss(validation) = 1.102528984410352\n",
      "5700 7.152648092554779e-05 \tLoss(validation) = 1.1034884106615368\n",
      "5800 6.799883432819802e-05 \tLoss(validation) = 1.104361436055635\n",
      "5900 6.560627611845438e-05 \tLoss(validation) = 1.105252116865104\n",
      "6000 6.150107548488583e-05 \tLoss(validation) = 1.106083937330486\n",
      "6100 5.8553938330133604e-05 \tLoss(validation) = 1.106876521398606\n",
      "6200 6.314819165527885e-05 \tLoss(validation) = 1.110074714008475\n",
      "6300 5.3211887432534565e-05 \tLoss(validation) = 1.1082182114607886\n",
      "6400 5.069709728836066e-05 \tLoss(validation) = 1.1089844726921274\n",
      "6500 4.8299536143433665e-05 \tLoss(validation) = 1.1096096859011912\n",
      "6600 4.603308776770559e-05 \tLoss(validation) = 1.1104099812580928\n",
      "6700 4.398074879573558e-05 \tLoss(validation) = 1.1109615420950907\n",
      "6800 4.1977072711454934e-05 \tLoss(validation) = 1.1114861197235713\n",
      "6900 5.117073359912086e-05 \tLoss(validation) = 1.1129366371475438\n",
      "7000 3.836098464713323e-05 \tLoss(validation) = 1.1128762593080295\n",
      "7100 4.32897733655444e-05 \tLoss(validation) = 1.113706437868744\n",
      "7200 3.5137399564100135e-05 \tLoss(validation) = 1.113946934316833\n",
      "7300 3.3648154870415415e-05 \tLoss(validation) = 1.1146919178555992\n",
      "7400 3.359545633132202e-05 \tLoss(validation) = 1.1158073724713695\n",
      "7500 3.1168899631392795e-05 \tLoss(validation) = 1.1153098134229062\n",
      "7600 2.96679904287784e-05 \tLoss(validation) = 1.1164714195579246\n",
      "7700 2.8884740693190033e-05 \tLoss(validation) = 1.1161479079053531\n",
      "7800 2.7460098890698522e-05 \tLoss(validation) = 1.1176176840676284\n",
      "7900 2.6441257238411747e-05 \tLoss(validation) = 1.1177734656603098\n",
      "8000 3.434647732498538e-05 \tLoss(validation) = 1.1178512412159523\n",
      "8100 2.556915610423218e-05 \tLoss(validation) = 1.1187192670713206\n",
      "8200 2.3501949942094384e-05 \tLoss(validation) = 1.1194111077677147\n",
      "8300 2.8222315631726466e-05 \tLoss(validation) = 1.1204570308861754\n",
      "8400 2.183676712390115e-05 \tLoss(validation) = 1.1205518006727337\n",
      "8500 2.1559349567974496e-05 \tLoss(validation) = 1.1219013879187092\n",
      "8600 2.0375585318779854e-05 \tLoss(validation) = 1.121336504801644\n",
      "8700 1.9708953108247655e-05 \tLoss(validation) = 1.1218305855108066\n",
      "8800 1.907885580711031e-05 \tLoss(validation) = 1.1222203442570806\n",
      "8900 1.8647261531630817e-05 \tLoss(validation) = 1.1224836413466002\n",
      "9000 2.3361777148944307e-05 \tLoss(validation) = 1.1256678137472813\n",
      "9100 1.7361733027552024e-05 \tLoss(validation) = 1.1230487209268727\n",
      "9200 1.694346715067503e-05 \tLoss(validation) = 1.1235845452077764\n",
      "9300 1.63752604729629e-05 \tLoss(validation) = 1.1236018933629404\n",
      "9400 1.5921084022345063e-05 \tLoss(validation) = 1.1237742006633953\n",
      "9500 1.5528403716843384e-05 \tLoss(validation) = 1.1240514081444561\n",
      "9600 1.5073314943282604e-05 \tLoss(validation) = 1.124257098280403\n",
      "9700 1.4692166537792148e-05 \tLoss(validation) = 1.1243180771427401\n",
      "9800 1.6189042865174376e-05 \tLoss(validation) = 1.1245083811244903\n",
      "9900 1.394692980410465e-05 \tLoss(validation) = 1.1248139730951727\n",
      "10000 1.3639518039452902e-05 \tLoss(validation) = 1.1248825735163124\n",
      "10100 1.3406638360138797e-05 \tLoss(validation) = 1.1251031815962484\n",
      "10200 1.2971231025259597e-05 \tLoss(validation) = 1.1252594281377792\n"
     ]
    },
    {
     "data": {
      "text/plain": [
       "<mlnics.Losses.PDNN_Loss at 0x12f98ab60>"
      ]
     },
     "execution_count": 15,
     "metadata": {},
     "output_type": "execute_result"
    }
   ],
   "source": [
    "Training.normalize_and_train_pdnn(\n",
    "    pdnn_net, data, pdnn_loss, optimizer,\n",
    "    input_normalization_pdnn, epochs=10000, starting_epoch=starting_epoch\n",
    ")"
   ]
  },
  {
   "cell_type": "code",
   "execution_count": 16,
   "metadata": {},
   "outputs": [
    {
     "data": {
      "image/png": "[encoded data removed]",
      "text/plain": [
       "<Figure size 432x288 with 1 Axes>"
      ]
     },
     "metadata": {
      "needs_background": "light"
     },
     "output_type": "display_data"
    }
   ],
   "source": [
    "fig, ax = Training.plot_loss(pdnn_net)"
   ]
  },
  {
   "cell_type": "code",
   "execution_count": 17,
   "metadata": {},
   "outputs": [
    {
     "name": "stdout",
     "output_type": "stream",
     "text": [
      "Mean Relative Error:\n",
      "N\tNN-HF\t\t\tNN-RO\t\t\tRO-HF\n",
      "4\t0.012205501159397758\t0.012205501925801252\t5.070341389591286e-07\n"
     ]
    }
   ],
   "source": [
    "_ = ErrorAnalysis.error_analysis_fixed_net(\n",
    "    pdnn_net, test_mu, input_normalization_pdnn, output_normalization_pdnn\n",
    ")"
   ]
  },
  {
   "cell_type": "code",
   "execution_count": 18,
   "metadata": {},
   "outputs": [
    {
     "data": {
      "image/png": "[encoded data removed]",
      "text/plain": [
       "<Figure size 432x288 with 2 Axes>"
      ]
     },
     "metadata": {
      "needs_background": "light"
     },
     "output_type": "display_data"
    }
   ],
   "source": [
    "ErrorAnalysis.plot_solution_difference(\n",
    "    pdnn_net, (8.0, -1.0), input_normalization_pdnn, output_normalization_pdnn\n",
    ")"
   ]
  },
  {
   "cell_type": "code",
   "execution_count": 19,
   "metadata": {
    "scrolled": true
   },
   "outputs": [],
   "source": [
    "input_normalization_prnn = Normalization.StandardNormalization(input_normalization=True)\n",
    "output_normalization_prnn = Normalization.StandardNormalization()\n",
    "\n",
    "prnn_net  = NN.RONN(problem, reduction_method, n_neurons=20)\n",
    "prnn_loss = Losses.PRNN_Loss(prnn_net, output_normalization_prnn, omega=1.)\n",
    "data      = RONNData.RONNDataLoader(prnn_net, validation_proportion=0.2,\n",
    "                                    num_without_snapshots=100)\n",
    "optimizer = torch.optim.Adam(prnn_net.parameters(), lr=0.001)\n",
    "\n",
    "loaded, starting_epoch = IO.initialize_parameters(\n",
    "    prnn_net, data, optimizer, \n",
    "    suffix=prnn_loss.name(), by_validation=True\n",
    ")"
   ]
  },
  {
   "cell_type": "code",
   "execution_count": 20,
   "metadata": {
    "scrolled": true
   },
   "outputs": [
    {
     "name": "stdout",
     "output_type": "stream",
     "text": [
      "3600 0.0020739050627862515 \tLoss(validation) = 0.00486058526493076\n",
      "3700 0.001845145498366922 \tLoss(validation) = 0.0048681205379219284\n",
      "3800 0.0016549081670397547 \tLoss(validation) = 0.004886775807126717\n",
      "3900 0.0014952707898433725 \tLoss(validation) = 0.004914385529630145\n",
      "4000 0.0013601603252700687 \tLoss(validation) = 0.004949211429216203\n",
      "4100 0.0012448082988314863 \tLoss(validation) = 0.0049896953420015926\n",
      "4200 0.0011454505279490737 \tLoss(validation) = 0.005034510139411964\n",
      "4300 0.0010591107562254924 \tLoss(validation) = 0.005082356610691395\n",
      "4400 0.0009834202691937771 \tLoss(validation) = 0.005132289105366881\n",
      "4500 0.0009165030654432111 \tLoss(validation) = 0.005183167319566963\n",
      "4600 0.0008568600998751503 \tLoss(validation) = 0.005234210058155921\n",
      "4700 0.0008032856745006073 \tLoss(validation) = 0.005284442883638159\n",
      "4800 0.0007548103673247839 \tLoss(validation) = 0.00533324765396901\n",
      "4900 0.0007111823862182782 \tLoss(validation) = 0.005368514214220915\n",
      "5000 0.0006702379216507685 \tLoss(validation) = 0.005422528615327479\n",
      "5100 0.000633121314853748 \tLoss(validation) = 0.005472052518249949\n",
      "5200 0.0005987036367079688 \tLoss(validation) = 0.005506170776355111\n",
      "5300 0.0005666441155257696 \tLoss(validation) = 0.005530487448510426\n",
      "5400 0.0005371593006100771 \tLoss(validation) = 0.0055619440448748895\n",
      "5500 0.0005097825475111556 \tLoss(validation) = 0.0055900556796611\n",
      "5600 0.0004842779466313871 \tLoss(validation) = 0.005612447787198945\n",
      "5700 0.0004616310110447695 \tLoss(validation) = 0.005626402723601728\n",
      "5800 0.0004402466978368719 \tLoss(validation) = 0.0056752211981264695\n",
      "5900 0.0004189092409278847 \tLoss(validation) = 0.005664894050215985\n",
      "6000 0.00042389594675040115 \tLoss(validation) = 0.005628967126809924\n",
      "6100 0.0003802499528021328 \tLoss(validation) = 0.005676552928868936\n",
      "6200 0.0003633900068226784 \tLoss(validation) = 0.005674421744276053\n",
      "6300 0.0003480785674526504 \tLoss(validation) = 0.005683297023489112\n",
      "6400 0.0003330861685013635 \tLoss(validation) = 0.0056549198184677775\n",
      "6500 0.00032028707300867196 \tLoss(validation) = 0.005642391898421278\n",
      "6600 0.00030897731817335343 \tLoss(validation) = 0.005639540436921243\n",
      "6700 0.00029715333134526305 \tLoss(validation) = 0.005589759278667977\n",
      "6800 0.0002854097726550435 \tLoss(validation) = 0.0056218871922274994\n",
      "6900 0.0002754667998164579 \tLoss(validation) = 0.0055582546908898404\n",
      "7000 0.0002621909311605931 \tLoss(validation) = 0.0055794997486799764\n",
      "7100 0.0002546508322146205 \tLoss(validation) = 0.005546912424209096\n",
      "7200 0.00024373534314108843 \tLoss(validation) = 0.005525333302300225\n",
      "7300 0.00023551441204471062 \tLoss(validation) = 0.005492528510880903\n",
      "7400 0.00023509819847043244 \tLoss(validation) = 0.005509145099003295\n",
      "7500 0.00022050321163119828 \tLoss(validation) = 0.005460608462410197\n",
      "7600 0.0002133909217738943 \tLoss(validation) = 0.005463736972833569\n",
      "7700 0.0002062984881768878 \tLoss(validation) = 0.005412894909508252\n",
      "7800 0.00020012601096014394 \tLoss(validation) = 0.005397830150202741\n",
      "7900 0.00019943220496417555 \tLoss(validation) = 0.005394958723466901\n",
      "8000 0.00018822356042390547 \tLoss(validation) = 0.00535427574229976\n",
      "8100 0.00018306844351000361 \tLoss(validation) = 0.005311613460101673\n",
      "8200 0.00017809001370532198 \tLoss(validation) = 0.005291281198670231\n",
      "8300 0.00017268967070698183 \tLoss(validation) = 0.005308058027801628\n",
      "8400 0.00016801909069583942 \tLoss(validation) = 0.005291233991150418\n",
      "8500 0.0001634846177228576 \tLoss(validation) = 0.005278946671983083\n",
      "8600 0.00016032716184811093 \tLoss(validation) = 0.005258911333514083\n",
      "8700 0.00015540984263421017 \tLoss(validation) = 0.005247460755815903\n",
      "8800 0.0001515217510315592 \tLoss(validation) = 0.005258784725747753\n",
      "8900 0.0001534716269987662 \tLoss(validation) = 0.005257912233271677\n",
      "9000 0.00014444596175196078 \tLoss(validation) = 0.005237182220475427\n",
      "9100 0.00013977845559865208 \tLoss(validation) = 0.0052027997864650235\n",
      "9200 0.00013620380615529182 \tLoss(validation) = 0.005206141039636687\n",
      "9300 0.00013524613670301837 \tLoss(validation) = 0.005263341074016412\n",
      "9400 0.0001296257224598416 \tLoss(validation) = 0.005186177946527924\n",
      "9500 0.00012671736424226202 \tLoss(validation) = 0.0051734441819830754\n",
      "9600 0.00012372085097631707 \tLoss(validation) = 0.0051626533829405566\n",
      "9700 0.0001206218081103263 \tLoss(validation) = 0.005167472059556623\n",
      "9800 0.00011784678612792894 \tLoss(validation) = 0.005141553979080094\n",
      "9900 0.000116223379723189 \tLoss(validation) = 0.005153421037368918\n",
      "10000 0.00011274887647540194 \tLoss(validation) = 0.00514223787819809\n",
      "10100 0.00011352940887476951 \tLoss(validation) = 0.0051377678091673925\n",
      "10200 0.000107609569606249 \tLoss(validation) = 0.005114651127118377\n",
      "10300 0.0001053214855185892 \tLoss(validation) = 0.005132259589485936\n",
      "10400 0.00010285437190569072 \tLoss(validation) = 0.005112992903676512\n",
      "10500 0.00011355259000912813 \tLoss(validation) = 0.005303059770811087\n",
      "10600 0.00010743890919048257 \tLoss(validation) = 0.005148488328157585\n",
      "10700 0.0001397936307295389 \tLoss(validation) = 0.004946855268097434\n",
      "10800 9.44370726472472e-05 \tLoss(validation) = 0.005092186574781656\n",
      "10900 9.207757978640898e-05 \tLoss(validation) = 0.005076537717523976\n",
      "11000 0.00012150344580327404 \tLoss(validation) = 0.005067942208527229\n",
      "11100 0.00010036188494625253 \tLoss(validation) = 0.005133067594966197\n",
      "11200 8.825841737677323e-05 \tLoss(validation) = 0.005023969989740807\n",
      "11300 8.4719754502238e-05 \tLoss(validation) = 0.005066141896821738\n",
      "11400 8.310696736808174e-05 \tLoss(validation) = 0.005061440922261082\n",
      "11500 8.67985831162564e-05 \tLoss(validation) = 0.005191433031025578\n",
      "11600 7.986094994039753e-05 \tLoss(validation) = 0.005050989118331811\n",
      "11700 7.836467492603274e-05 \tLoss(validation) = 0.005043147933730598\n",
      "11800 8.437978541684646e-05 \tLoss(validation) = 0.005179470758166987\n",
      "11900 7.743506079968672e-05 \tLoss(validation) = 0.004979680070978962\n",
      "12000 0.0001281193298825121 \tLoss(validation) = 0.005037811150955675\n",
      "12100 7.27646370017222e-05 \tLoss(validation) = 0.005045418941855918\n",
      "12200 7.154317549690889e-05 \tLoss(validation) = 0.005042288945501471\n",
      "12300 9.425848224615671e-05 \tLoss(validation) = 0.00536713927634832\n",
      "12400 6.910980369758062e-05 \tLoss(validation) = 0.00505065674670491\n",
      "12500 6.803627140408551e-05 \tLoss(validation) = 0.005042988400967048\n",
      "12600 6.914261528696454e-05 \tLoss(validation) = 0.004967529097883144\n",
      "12700 6.686349207152471e-05 \tLoss(validation) = 0.005117675976822505\n",
      "12800 6.619429654997846e-05 \tLoss(validation) = 0.00497968354715041\n",
      "12900 6.68782599661029e-05 \tLoss(validation) = 0.005106644478428095\n",
      "13000 6.293016407904551e-05 \tLoss(validation) = 0.0050680825612751165\n",
      "13100 7.63789567900797e-05 \tLoss(validation) = 0.004848724727663796\n",
      "13200 6.75139545527942e-05 \tLoss(validation) = 0.005024216038693562\n",
      "13300 6.531559024427974e-05 \tLoss(validation) = 0.00516024127882772\n",
      "13400 5.9920733336741445e-05 \tLoss(validation) = 0.005097925785176164\n",
      "13500 8.599311772052234e-05 \tLoss(validation) = 0.005266853019944057\n"
     ]
    },
    {
     "data": {
      "text/plain": [
       "<mlnics.Losses.PRNN_Loss at 0x12f92d930>"
      ]
     },
     "execution_count": 20,
     "metadata": {},
     "output_type": "execute_result"
    }
   ],
   "source": [
    "Training.normalize_and_train_prnn(\n",
    "    prnn_net, data, prnn_loss, optimizer,\n",
    "    input_normalization_prnn, epochs=10000, starting_epoch=starting_epoch\n",
    ")"
   ]
  },
  {
   "cell_type": "code",
   "execution_count": 21,
   "metadata": {},
   "outputs": [
    {
     "data": {
      "image/png": "[encoded data removed]",
      "text/plain": [
       "<Figure size 432x288 with 1 Axes>"
      ]
     },
     "metadata": {
      "needs_background": "light"
     },
     "output_type": "display_data"
    }
   ],
   "source": [
    "fig, ax = Training.plot_loss(prnn_net, separate=True)"
   ]
  },
  {
   "cell_type": "code",
   "execution_count": 22,
   "metadata": {},
   "outputs": [
    {
     "name": "stdout",
     "output_type": "stream",
     "text": [
      "Mean Relative Error:\n",
      "N\tNN-HF\t\t\tNN-RO\t\t\tRO-HF\n",
      "4\t0.0071577392964258715\t0.007157739438930144\t5.070341389591286e-07\n"
     ]
    }
   ],
   "source": [
    "_ = ErrorAnalysis.error_analysis_fixed_net(\n",
    "    prnn_net, test_mu, input_normalization_prnn, output_normalization_prnn\n",
    ")"
   ]
  },
  {
   "cell_type": "code",
   "execution_count": 23,
   "metadata": {},
   "outputs": [
    {
     "data": {
      "image/png": "[encoded data removed]",
      "text/plain": [
       "<Figure size 432x288 with 2 Axes>"
      ]
     },
     "metadata": {
      "needs_background": "light"
     },
     "output_type": "display_data"
    }
   ],
   "source": [
    "ErrorAnalysis.plot_solution_difference(\n",
    "    prnn_net, (8.0, -1.0), input_normalization_prnn, output_normalization_prnn\n",
    ")"
   ]
  },
  {
   "cell_type": "code",
   "execution_count": 24,
   "metadata": {
    "scrolled": true
   },
   "outputs": [
    {
     "name": "stdout",
     "output_type": "stream",
     "text": [
      "#####################################################################################\n",
      "Mean Relative Error for 4 Basis Functions\n",
      "Network\t\tNN-HF\t\t\tNN-RO\t\t\tRO-HF\n",
      "pinn_net\t0.005878684464831368\t0.0058786854196173025\t5.070341389591286e-07\n",
      "pdnn_net\t0.012205501159397758\t0.012205501925801252\t5.070341389591286e-07\n",
      "prnn_net\t0.0071577392964258715\t0.007157739438930144\t5.070341389591286e-07\n",
      "#####################################################################################\n"
     ]
    }
   ],
   "source": [
    "nets = dict()\n",
    "nets[\"pinn_net\"] = pinn_net\n",
    "nets[\"pdnn_net\"] = pdnn_net\n",
    "nets[\"prnn_net\"] = prnn_net\n",
    "\n",
    "input_normalizations = dict()\n",
    "input_normalizations[\"pinn_net\"] = input_normalization_pinn\n",
    "input_normalizations[\"pdnn_net\"] = input_normalization_pdnn\n",
    "input_normalizations[\"prnn_net\"] = input_normalization_prnn\n",
    "\n",
    "output_normalizations = dict()\n",
    "output_normalizations[\"pinn_net\"] = output_normalization_pinn\n",
    "output_normalizations[\"pdnn_net\"] = output_normalization_pdnn\n",
    "output_normalizations[\"prnn_net\"] = output_normalization_prnn\n",
    "\n",
    "_ = ErrorAnalysis.error_analysis_by_network(\n",
    "    nets, test_mu, input_normalizations, output_normalizations, euclidean=False\n",
    ")"
   ]
  },
  {
   "cell_type": "markdown",
   "metadata": {},
   "source": [
    "### 4.7. Perform an error analysis"
   ]
  },
  {
   "cell_type": "code",
   "execution_count": null,
   "metadata": {
    "scrolled": true
   },
   "outputs": [],
   "source": [
    "reduction_method.initialize_testing_set(100)\n",
    "reduction_method.error_analysis()"
   ]
  },
  {
   "cell_type": "markdown",
   "metadata": {},
   "source": [
    "### 4.8. Perform a speedup analysis"
   ]
  },
  {
   "cell_type": "code",
   "execution_count": null,
   "metadata": {},
   "outputs": [],
   "source": [
    "reduction_method.initialize_testing_set(100)\n",
    "reduction_method.speedup_analysis()"
   ]
  }
 ],
 "metadata": {
  "kernelspec": {
   "display_name": "Python 3 (ipykernel)",
   "language": "python",
   "name": "python3"
  },
  "language_info": {
   "codemirror_mode": {
    "name": "ipython",
    "version": 3
   },
   "file_extension": ".py",
   "mimetype": "text/x-python",
   "name": "python",
   "nbconvert_exporter": "python",
   "pygments_lexer": "ipython3",
   "version": "3.10.4"
  }
 },
 "nbformat": 4,
 "nbformat_minor": 2
}
