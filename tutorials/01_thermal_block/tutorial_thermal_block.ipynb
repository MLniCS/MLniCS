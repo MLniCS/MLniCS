{
 "cells": [
  {
   "cell_type": "markdown",
   "metadata": {},
   "source": [
    "## TUTORIAL 01 - Thermal block problem\n",
    "**_Keywords: certified reduced basis method, scalar problem_**\n",
    "\n",
    "### 1. Introduction\n",
    "In this Tutorial, we consider steady heat conduction in a two-dimensional domain $\\Omega$.\n",
    "\n",
    "We define two subdomains $\\Omega_1$ and $\\Omega_2$, such that\n",
    "1. $\\Omega_1$ is a disk centered at the origin of radius $r_0=0.5$, and\n",
    "2. $\\Omega_2=\\Omega/\\ \\overline{\\Omega_1}$. \n",
    "\n",
    "The conductivity $\\kappa$ is assumed to be constant on $\\Omega_1$ and $\\Omega_2$, i.e.\n",
    "$$\n",
    "\\kappa|_{\\Omega_1}=\\kappa_0 \\quad \\textrm{and} \\quad \\kappa|_{\\Omega_2}=1.\n",
    "$$\n",
    "\n",
    "For this problem, we consider $P=2$ parameters:\n",
    "1. the first one is related to the conductivity in $\\Omega_1$, i.e. $\\mu_0\\equiv k_0$ (_note that parameters numbering is zero-based_);\n",
    "2. the second parameter $\\mu_1$ takes into account the constant heat flux over $\\Gamma_{base}$.\n",
    "\n",
    "The parameter vector $\\boldsymbol{\\mu}$ is thus given by \n",
    "$$\n",
    "\\boldsymbol{\\mu} = (\\mu_0,\\mu_1)\n",
    "$$\n",
    "on the parameter domain\n",
    "$$\n",
    "\\mathbb{P}=[0.1,10]\\times[-1,1].\n",
    "$$\n",
    "\n",
    "In this problem we model the heat transfer process due to the heat flux over the bottom boundary $\\Gamma_{base}$ and the following conditions on the remaining boundaries:\n",
    "* the left and right boundaries $\\Gamma_{side}$ are insulated,\n",
    "* the top boundary $\\Gamma_{top}$ is kept at a reference temperature (say, zero),\n",
    "\n",
    "with the aim of measuring the average temperature on $\\Gamma_{base}$.\n",
    "\n",
    "In order to obtain a faster evaluation (yet, provably accurate) of the output of interest we propose to use a certified reduced basis approximation for the problem."
   ]
  },
  {
   "cell_type": "markdown",
   "metadata": {},
   "source": [
    "### 2. Parametrized formulation\n",
    "\n",
    "Let $u(\\boldsymbol{\\mu})$ be the temperature in the domain $\\Omega$.\n",
    "\n",
    "The strong formulation of the parametrized problem is given by: for a given parameter $\\boldsymbol{\\mu}\\in\\mathbb{P}$, find $u(\\boldsymbol{\\mu})$ such that\n",
    "\n",
    "$$\n",
    "\\begin{cases}\n",
    "\t- \\text{div} (\\kappa(\\mu_0)\\nabla u(\\boldsymbol{\\mu})) = 0 & \\text{in } \\Omega,\\\\\n",
    "\tu(\\boldsymbol{\\mu}) = 0 & \\text{on } \\Gamma_{top},\\\\\n",
    "\t\\kappa(\\mu_0)\\nabla u(\\boldsymbol{\\mu})\\cdot \\mathbf{n} = 0 & \\text{on } \\Gamma_{side},\\\\\n",
    "\t\\kappa(\\mu_0)\\nabla u(\\boldsymbol{\\mu})\\cdot \\mathbf{n} = \\mu_1 & \\text{on } \\Gamma_{base}.\n",
    "\\end{cases}\n",
    "$$\n",
    "<br>\n",
    "\n",
    "where \n",
    "* $\\mathbf{n}$ denotes the outer normal to the boundaries $\\Gamma_{side}$ and $\\Gamma_{base}$,\n",
    "* the conductivity $\\kappa(\\mu_0)$ is defined as follows:\n",
    "$$\n",
    "\\kappa(\\mu_0) =\n",
    "\\begin{cases}\n",
    "\t\\mu_0 & \\text{in } \\Omega_1,\\\\\n",
    "\t1 & \\text{in } \\Omega_2,\\\\\n",
    "\\end{cases}\n",
    "$$\n",
    "\n",
    "The corresponding weak formulation reads: for a given parameter $\\boldsymbol{\\mu}\\in\\mathbb{P}$, find $u(\\boldsymbol{\\mu})\\in\\mathbb{V}$ such that\n",
    "\n",
    "$$a\\left(u(\\boldsymbol{\\mu}),v;\\boldsymbol{\\mu}\\right)=f(v;\\boldsymbol{\\mu})\\quad \\forall v\\in\\mathbb{V}$$\n",
    "\n",
    "where\n",
    "\n",
    "* the function space $\\mathbb{V}$ is defined as\n",
    "$$\n",
    "\\mathbb{V} = \\{v\\in H^1(\\Omega) : v|_{\\Gamma_{top}}=0\\}\n",
    "$$\n",
    "* the parametrized bilinear form $a(\\cdot, \\cdot; \\boldsymbol{\\mu}): \\mathbb{V} \\times \\mathbb{V} \\to \\mathbb{R}$ is defined by\n",
    "$$a(u, v;\\boldsymbol{\\mu})=\\int_{\\Omega} \\kappa(\\mu_0)\\nabla u\\cdot \\nabla v \\ d\\boldsymbol{x},$$\n",
    "* the parametrized linear form $f(\\cdot; \\boldsymbol{\\mu}): \\mathbb{V} \\to \\mathbb{R}$ is defined by\n",
    "$$f(v; \\boldsymbol{\\mu})= \\mu_1\\int_{\\Gamma_{base}}v \\ ds.$$\n",
    "\n",
    "The (compliant) output of interest $s(\\boldsymbol{\\mu})$ given by\n",
    "$$s(\\boldsymbol{\\mu}) = \\mu_1\\int_{\\Gamma_{base}} u(\\boldsymbol{\\mu})$$\n",
    "is computed for each $\\boldsymbol{\\mu}$."
   ]
  },
  {
   "cell_type": "code",
   "execution_count": 1,
   "metadata": {},
   "outputs": [],
   "source": [
    "import os\n",
    "import sys\n",
    "sys.path.append('../../')\n",
    "\n",
    "from mlnics import NN, Losses, Normalization, RONNData, IO, Training, ErrorAnalysis\n",
    "from dolfin import *\n",
    "from rbnics import *\n",
    "import torch\n",
    "import numpy as np\n",
    "\n",
    "torch.manual_seed(0)\n",
    "np.random.seed(0)"
   ]
  },
  {
   "cell_type": "markdown",
   "metadata": {},
   "source": [
    "## 3. Affine decomposition\n",
    "\n",
    "For this problem the affine decomposition is straightforward:\n",
    "$$a(u,v;\\boldsymbol{\\mu})=\\underbrace{\\mu_0}_{\\Theta^{a}_0(\\boldsymbol{\\mu})}\\underbrace{\\int_{\\Omega_1}\\nabla u \\cdot \\nabla v \\ d\\boldsymbol{x}}_{a_0(u,v)} \\ + \\  \\underbrace{1}_{\\Theta^{a}_1(\\boldsymbol{\\mu})}\\underbrace{\\int_{\\Omega_2}\\nabla u \\cdot \\nabla v \\ d\\boldsymbol{x}}_{a_1(u,v)},$$\n",
    "$$f(v; \\boldsymbol{\\mu}) = \\underbrace{\\mu_1}_{\\Theta^{f}_0(\\boldsymbol{\\mu})} \\underbrace{\\int_{\\Gamma_{base}}v \\ ds}_{f_0(v)}.$$\n",
    "We will implement the numerical discretization of the problem in the class\n",
    "```\n",
    "class ThermalBlock(EllipticCoerciveCompliantProblem):\n",
    "```\n",
    "by specifying the coefficients $\\Theta^{a}_*(\\boldsymbol{\\mu})$ and $\\Theta^{f}_*(\\boldsymbol{\\mu})$ in the method\n",
    "```\n",
    "    def compute_theta(self, term):     \n",
    "```\n",
    "and the bilinear forms $a_*(u, v)$ and linear forms $f_*(v)$ in\n",
    "```\n",
    "    def assemble_operator(self, term):\n",
    "```"
   ]
  },
  {
   "cell_type": "code",
   "execution_count": 2,
   "metadata": {},
   "outputs": [],
   "source": [
    "class ThermalBlock(EllipticCoerciveCompliantProblem):\n",
    "\n",
    "    # Default initialization of members\n",
    "    def __init__(self, V, **kwargs):\n",
    "        # Call the standard initialization\n",
    "        EllipticCoerciveCompliantProblem.__init__(self, V, **kwargs)\n",
    "        # ... and also store FEniCS data structures for assembly\n",
    "        assert \"subdomains\" in kwargs\n",
    "        assert \"boundaries\" in kwargs\n",
    "        self.subdomains, self.boundaries = kwargs[\"subdomains\"], kwargs[\"boundaries\"]\n",
    "        self.u = TrialFunction(V)\n",
    "        self.v = TestFunction(V)\n",
    "        self.dx = Measure(\"dx\")(subdomain_data=self.subdomains)\n",
    "        self.ds = Measure(\"ds\")(subdomain_data=self.boundaries)\n",
    "\n",
    "    # Return custom problem name\n",
    "    def name(self):\n",
    "        return \"ThermalBlock\"\n",
    "\n",
    "    # Return the alpha_lower bound.\n",
    "    def get_stability_factor_lower_bound(self):\n",
    "        return min(self.compute_theta(\"a\"))\n",
    "\n",
    "    # Return theta multiplicative terms of the affine expansion of the problem.\n",
    "    def compute_theta(self, term):\n",
    "        mu = self.mu\n",
    "        if term == \"a\":\n",
    "            theta_a0 = mu[0]\n",
    "            theta_a1 = 1.\n",
    "            return (theta_a0, theta_a1)\n",
    "        elif term == \"f\":\n",
    "            theta_f0 = mu[1]\n",
    "            return (theta_f0,)\n",
    "        else:\n",
    "            raise ValueError(\"Invalid term for compute_theta().\")\n",
    "\n",
    "    # Return forms resulting from the discretization of the affine expansion of the problem operators.\n",
    "    def assemble_operator(self, term):\n",
    "        v = self.v\n",
    "        dx = self.dx\n",
    "        if term == \"a\":\n",
    "            u = self.u\n",
    "            a0 = inner(grad(u), grad(v)) * dx(1)\n",
    "            a1 = inner(grad(u), grad(v)) * dx(2)\n",
    "            return (a0, a1)\n",
    "        elif term == \"f\":\n",
    "            ds = self.ds\n",
    "            f0 = v * ds(1)\n",
    "            return (f0,)\n",
    "        elif term == \"dirichlet_bc\":\n",
    "            bc0 = [DirichletBC(self.V, Constant(0.0), self.boundaries, 3)]\n",
    "            return (bc0,)\n",
    "        elif term == \"inner_product\":\n",
    "            u = self.u\n",
    "            x0 = inner(grad(u), grad(v)) * dx\n",
    "            return (x0,)\n",
    "        else:\n",
    "            raise ValueError(\"Invalid term for assemble_operator().\")"
   ]
  },
  {
   "cell_type": "markdown",
   "metadata": {},
   "source": [
    "## 4. Main program\n",
    "### 4.1. Read the mesh for this problem\n",
    "The mesh was generated by the [data/generate_mesh.ipynb](data/generate_mesh.ipynb) notebook."
   ]
  },
  {
   "cell_type": "code",
   "execution_count": 3,
   "metadata": {},
   "outputs": [],
   "source": [
    "mesh = Mesh(\"data/thermal_block.xml\")\n",
    "subdomains = MeshFunction(\"size_t\", mesh, \"data/thermal_block_physical_region.xml\")\n",
    "boundaries = MeshFunction(\"size_t\", mesh, \"data/thermal_block_facet_region.xml\")"
   ]
  },
  {
   "cell_type": "markdown",
   "metadata": {},
   "source": [
    "### 4.2. Create Finite Element space (Lagrange P1)"
   ]
  },
  {
   "cell_type": "code",
   "execution_count": 4,
   "metadata": {},
   "outputs": [],
   "source": [
    "V = FunctionSpace(mesh, \"Lagrange\", 1)"
   ]
  },
  {
   "cell_type": "markdown",
   "metadata": {},
   "source": [
    "### 4.3. Allocate an object of the ThermalBlock class"
   ]
  },
  {
   "cell_type": "code",
   "execution_count": 5,
   "metadata": {},
   "outputs": [],
   "source": [
    "problem = ThermalBlock(V, subdomains=subdomains, boundaries=boundaries)\n",
    "mu_range = [(0.1, 10.0), (-1.0, 1.0)]\n",
    "problem.set_mu_range(mu_range)"
   ]
  },
  {
   "cell_type": "markdown",
   "metadata": {},
   "source": [
    "### 4.4. Prepare reduction with a reduced basis method"
   ]
  },
  {
   "cell_type": "code",
   "execution_count": 6,
   "metadata": {},
   "outputs": [],
   "source": [
    "reduction_method = PODGalerkin(problem)\n",
    "reduction_method.set_Nmax(20)\n",
    "reduction_method.set_tolerance(1e-10)"
   ]
  },
  {
   "cell_type": "markdown",
   "metadata": {},
   "source": [
    "### 4.5. Perform the offline phase"
   ]
  },
  {
   "cell_type": "markdown",
   "metadata": {},
   "source": [
    "#### 4.5.1 Fit Reduction Method"
   ]
  },
  {
   "cell_type": "code",
   "execution_count": 7,
   "metadata": {
    "scrolled": true
   },
   "outputs": [],
   "source": [
    "reduction_method.initialize_training_set(10)\n",
    "reduced_problem = reduction_method.offline()"
   ]
  },
  {
   "cell_type": "markdown",
   "metadata": {},
   "source": [
    "#### 4.5.2 Train PINN\n",
    "\n",
    "Given a training set $X_{PINN} = (\\boldsymbol{\\mu}^{(1)}, \\dots, \\boldsymbol{\\mu}^{(n)})$ of parameters for the PDE, we train a Physics-Informed Neural Network (PINN) $\\operatorname{N}_W(\\boldsymbol{\\mu})$ dependent on the weights and biases $W$ of the network to minimize the loss function\n",
    "\n",
    "$$L_{PINN}(X_{PINN}; W) = \\frac1n \\sum_{i=1}^n \\|A(\\boldsymbol{\\mu^{(i)}}) \\operatorname{N}_W(\\boldsymbol{\\mu}^{(i)}) - \\boldsymbol{f}(\\boldsymbol{\\mu}^{(i)})\\|_2^2$$\n",
    "\n",
    "over $W$, where for a given $\\boldsymbol{\\mu}$, $A(\\boldsymbol{\\mu})$ is the assembled matrix corresponding to the bilinear form $a$ and $\\boldsymbol{f}(\\boldsymbol{\\mu})$ is the assembled vector corresponding to the linear form $f$."
   ]
  },
  {
   "cell_type": "code",
   "execution_count": 8,
   "metadata": {
    "scrolled": true
   },
   "outputs": [],
   "source": [
    "input_normalization_pinn = Normalization.StandardNormalization(input_normalization=True)\n",
    "output_normalization_pinn = Normalization.StandardNormalization()\n",
    "\n",
    "pinn_net  = NN.RONN(\"PINN\", problem, reduction_method, n_hidden=2, n_neurons=40)\n",
    "pinn_loss = Losses.PINN_Loss(pinn_net, output_normalization_pinn)\n",
    "data      = RONNData.RONNDataLoader(pinn_net, validation_proportion=0.2, \n",
    "                                    num_without_snapshots=100)\n",
    "optimizer = torch.optim.Adam(pinn_net.parameters(), lr=0.001)\n",
    "scheduler = torch.optim.lr_scheduler.ExponentialLR(optimizer, 0.99999)\n",
    "\n",
    "pinn_trainer = Training.PINNTrainer(\n",
    "    pinn_net, data, pinn_loss, optimizer, scheduler,\n",
    "    input_normalization_pinn, num_epochs=10000\n",
    ")\n",
    "\n",
    "loaded, starting_epoch = IO.initialize_parameters(\n",
    "    pinn_net, data, pinn_trainer, optimizer\n",
    ")"
   ]
  },
  {
   "cell_type": "code",
   "execution_count": 9,
   "metadata": {
    "scrolled": true
   },
   "outputs": [
    {
     "name": "stdout",
     "output_type": "stream",
     "text": [
      "29900 1.585191403671664e-06 \tLoss(validation) = 2.858352512632555e-05\n",
      "30000 9.924709200205935e-06 \tLoss(validation) = 3.431911601675528e-05\n",
      "30100 1.305712351304045e-06 \tLoss(validation) = 2.7776309555602847e-05\n",
      "30200 1.8220276002414987e-06 \tLoss(validation) = 2.843944593691434e-05\n",
      "30300 1.2887499422729078e-06 \tLoss(validation) = 2.7427108195180463e-05\n",
      "30400 4.660723812178841e-05 \tLoss(validation) = 8.09937826861946e-05\n",
      "30500 1.2735008194572759e-06 \tLoss(validation) = 2.720796321336045e-05\n",
      "30600 1.2642643291379169e-06 \tLoss(validation) = 2.6952762337551015e-05\n",
      "30700 4.177139493159236e-06 \tLoss(validation) = 3.6079538256859126e-05\n",
      "30800 1.2493192755101838e-06 \tLoss(validation) = 2.6674967213016847e-05\n",
      "30900 1.2412331412958999e-06 \tLoss(validation) = 2.645623233837068e-05\n",
      "31000 1.2808300955282463e-06 \tLoss(validation) = 2.621240608343822e-05\n",
      "31100 1.2258094627819927e-06 \tLoss(validation) = 2.6169301549131056e-05\n",
      "31200 0.00025517690168962214 \tLoss(validation) = 0.0004028891382560759\n",
      "31300 1.2185217100632548e-06 \tLoss(validation) = 2.595310077322728e-05\n",
      "31400 1.2030645577171354e-06 \tLoss(validation) = 2.571689810085345e-05\n",
      "31500 4.607720396491151e-06 \tLoss(validation) = 2.6261468213056405e-05\n",
      "31600 1.1887204313205457e-06 \tLoss(validation) = 2.5466421783191537e-05\n",
      "31700 1.1813183628186628e-06 \tLoss(validation) = 2.5311004800504024e-05\n",
      "31800 1.3331338927117716e-06 \tLoss(validation) = 2.5344045882947818e-05\n",
      "31900 1.1684657281095498e-06 \tLoss(validation) = 2.5139790241052585e-05\n",
      "32000 1.1607254668688955e-06 \tLoss(validation) = 2.4930782571838535e-05\n",
      "32100 8.639364589982785e-06 \tLoss(validation) = 3.204185269332374e-05\n",
      "32200 1.1485518657894922e-06 \tLoss(validation) = 2.467184275188466e-05\n",
      "32300 1.1405951106430843e-06 \tLoss(validation) = 2.4482401869357514e-05\n",
      "32400 1.487385930573674e-06 \tLoss(validation) = 2.5136816569834087e-05\n",
      "32500 1.1280921548087983e-06 \tLoss(validation) = 2.4276231288313205e-05\n",
      "32600 1.5860758325572773e-06 \tLoss(validation) = 2.5078635305952956e-05\n",
      "32700 1.1274308880597525e-06 \tLoss(validation) = 2.4093123154897096e-05\n",
      "32800 1.108660430520567e-06 \tLoss(validation) = 2.3887875810562948e-05\n",
      "32900 1.1117140196142613e-06 \tLoss(validation) = 2.3760404178013435e-05\n",
      "33000 1.0993239938011923e-06 \tLoss(validation) = 2.3648940612652594e-05\n",
      "33100 1.0906387364010505e-06 \tLoss(validation) = 2.351776661615081e-05\n",
      "33200 1.4264051836253166e-05 \tLoss(validation) = 2.4732873225652706e-05\n",
      "33300 1.0812257396335205e-06 \tLoss(validation) = 2.34492743815774e-05\n",
      "33400 1.0724711605386004e-06 \tLoss(validation) = 2.3222414233273627e-05\n",
      "33500 1.1878678661788905e-05 \tLoss(validation) = 4.2038996224432185e-05\n",
      "33600 1.061460936502778e-06 \tLoss(validation) = 2.307833210775236e-05\n",
      "33700 1.0544782851155481e-06 \tLoss(validation) = 2.2857359059367615e-05\n",
      "33800 8.43698647278017e-06 \tLoss(validation) = 3.511075552067332e-05\n",
      "33900 1.0436614368650482e-06 \tLoss(validation) = 2.267574682807733e-05\n",
      "34000 1.0763890355558244e-06 \tLoss(validation) = 2.229782352026436e-05\n",
      "34100 1.2244741944835784e-06 \tLoss(validation) = 2.268683989724085e-05\n",
      "34200 1.0260429930257348e-06 \tLoss(validation) = 2.232290031091813e-05\n",
      "34300 3.3420098204099483e-05 \tLoss(validation) = 3.0591524208029624e-05\n",
      "34400 1.017131592354418e-06 \tLoss(validation) = 2.219322592886111e-05\n",
      "34500 1.009338977621398e-06 \tLoss(validation) = 2.2012269238916005e-05\n",
      "34600 1.57073229355766e-05 \tLoss(validation) = 4.552593381020456e-05\n",
      "34700 1.0011938920155305e-06 \tLoss(validation) = 2.1872864935324782e-05\n",
      "34800 9.939890954383377e-07 \tLoss(validation) = 2.1696716389992386e-05\n",
      "34900 2.764152974315228e-06 \tLoss(validation) = 2.2462197127993883e-05\n",
      "35000 9.837813521660872e-07 \tLoss(validation) = 2.158119239853049e-05\n",
      "35100 6.532661118076415e-06 \tLoss(validation) = 3.1603614456440226e-05\n",
      "35200 9.89483361872742e-07 \tLoss(validation) = 2.1437918874445664e-05\n",
      "35300 9.678819809333256e-07 \tLoss(validation) = 2.1245331937349786e-05\n",
      "35400 1.83888128163518e-06 \tLoss(validation) = 2.2943646878577983e-05\n",
      "35500 1.2648669643431472e-05 \tLoss(validation) = 4.071944813176668e-05\n",
      "35600 9.664364939645608e-07 \tLoss(validation) = 2.10587044868987e-05\n",
      "35700 1.7756994665075677e-05 \tLoss(validation) = 2.0719046755189302e-05\n",
      "35800 9.437279161317452e-07 \tLoss(validation) = 2.084490273455419e-05\n",
      "35900 1.0531279469872159e-05 \tLoss(validation) = 2.6415209697894124e-05\n",
      "36000 9.521573033070981e-07 \tLoss(validation) = 2.07395672588722e-05\n",
      "36100 9.40052508662431e-07 \tLoss(validation) = 2.055430913209056e-05\n",
      "36200 9.940722846400763e-07 \tLoss(validation) = 2.063889343454032e-05\n",
      "36300 9.201491383397399e-07 \tLoss(validation) = 2.0433465121392745e-05\n",
      "36400 6.648442650288018e-05 \tLoss(validation) = 0.0001467673946365488\n",
      "36500 9.248763731674023e-07 \tLoss(validation) = 2.0356355712042666e-05\n",
      "36600 9.063349387964179e-07 \tLoss(validation) = 2.0179770920776876e-05\n",
      "36700 1.594212058983505e-06 \tLoss(validation) = 2.6599601090865288e-05\n",
      "36800 8.986786565342714e-07 \tLoss(validation) = 2.005057902837917e-05\n",
      "36900 4.136310527643545e-06 \tLoss(validation) = 2.4518303088459622e-05\n",
      "37000 8.890959560061871e-07 \tLoss(validation) = 1.9900907802942294e-05\n",
      "37100 6.094020918461026e-06 \tLoss(validation) = 2.9544003915808027e-05\n",
      "37200 8.828907093841303e-07 \tLoss(validation) = 1.9806001687430648e-05\n",
      "37300 8.76379243235609e-07 \tLoss(validation) = 1.967986040419199e-05\n",
      "37400 4.2152668652671954e-05 \tLoss(validation) = 4.574462748825838e-05\n",
      "37500 8.694535726579229e-07 \tLoss(validation) = 1.963132949223563e-05\n",
      "37600 8.638456836480736e-07 \tLoss(validation) = 1.946842078057042e-05\n",
      "37700 3.3018440944640516e-05 \tLoss(validation) = 4.538505697672541e-05\n",
      "37800 8.578126114525498e-07 \tLoss(validation) = 1.9383827479889538e-05\n",
      "37900 3.862577386865199e-06 \tLoss(validation) = 2.426881866548543e-05\n",
      "38000 9.123949795891066e-07 \tLoss(validation) = 1.9537418213336838e-05\n",
      "38100 3.5901650671341713e-06 \tLoss(validation) = 2.622796795500062e-05\n",
      "38200 8.395147205006797e-07 \tLoss(validation) = 1.9080433203727956e-05\n",
      "38300 1.1543440248577902e-06 \tLoss(validation) = 1.9090232853663226e-05\n",
      "38400 8.328802453231934e-07 \tLoss(validation) = 1.8845728683342473e-05\n",
      "38500 1.1024233352499678e-06 \tLoss(validation) = 1.9114842324155948e-05\n",
      "38600 1.4033663422189255e-06 \tLoss(validation) = 3.1289313261073716e-05\n",
      "38700 8.20841690013957e-07 \tLoss(validation) = 1.8795189742665894e-05\n",
      "38800 3.505118418915805e-05 \tLoss(validation) = 3.9484828236257006e-05\n",
      "38900 8.137323247315515e-07 \tLoss(validation) = 1.8695606064071657e-05\n",
      "39000 1.1977890321065646e-06 \tLoss(validation) = 1.9159138950484965e-05\n",
      "39100 8.301230224293156e-07 \tLoss(validation) = 1.8656769915252e-05\n",
      "39200 8.021781029693226e-07 \tLoss(validation) = 1.849270164944321e-05\n",
      "39300 8.622686093588738e-06 \tLoss(validation) = 2.6237423727189342e-05\n",
      "39400 7.959015113021548e-07 \tLoss(validation) = 1.8404220155069378e-05\n",
      "39500 1.0925650649005595e-06 \tLoss(validation) = 1.8937915745929626e-05\n",
      "39600 8.01513337024481e-07 \tLoss(validation) = 1.8397723195021806e-05\n",
      "39700 2.1091786605492736e-05 \tLoss(validation) = 8.423851087301578e-05\n",
      "39800 7.826557814831285e-07 \tLoss(validation) = 1.8224187258774785e-05\n"
     ]
    },
    {
     "data": {
      "text/plain": [
       "<mlnics.Losses.PINN_Loss at 0x13836f370>"
      ]
     },
     "execution_count": 9,
     "metadata": {},
     "output_type": "execute_result"
    }
   ],
   "source": [
    "pinn_trainer.train()"
   ]
  },
  {
   "cell_type": "code",
   "execution_count": 10,
   "metadata": {},
   "outputs": [
    {
     "data": {
      "image/png": "[encoded data removed]",
      "text/plain": [
       "<Figure size 432x288 with 1 Axes>"
      ]
     },
     "metadata": {
      "needs_background": "light"
     },
     "output_type": "display_data"
    }
   ],
   "source": [
    "fig, ax = Training.plot_loss(pinn_trainer, pinn_net)"
   ]
  },
  {
   "cell_type": "code",
   "execution_count": 60,
   "metadata": {},
   "outputs": [
    {
     "data": {
      "text/plain": [
       "8.669322297219455"
      ]
     },
     "execution_count": 60,
     "metadata": {},
     "output_type": "execute_result"
    }
   ],
   "source": [
    "A = pinn_loss.operators['a'].detach().numpy()\n",
    "np.mean(np.trace(np.transpose(A, axes=(0, 2, 1)) @ A, axis1=1, axis2=2) / 4)"
   ]
  },
  {
   "cell_type": "markdown",
   "metadata": {},
   "source": [
    "#### 4.5.3 Train PDNN\n",
    "\n",
    "Given a training set $X_{PDNN} = ((\\boldsymbol{\\mu}^{(1)}, \\operatorname{HF}(\\boldsymbol{\\mu}^{(1)})), \\dots, (\\boldsymbol{\\mu}^{(n)}, \\operatorname{HF}(\\boldsymbol{\\mu}^{(n)})))$ of parameter and high fidelity solution pairs for the PDE, we train a Projection-Driven Neural Network (PDNN) $\\operatorname{N}_W(\\boldsymbol{\\mu})$ dependent on the weights and biases $W$ of the network to minimize the loss function\n",
    "$$L_{PDNN}(X_{PDNN}; W) = \\frac1n \\sum_{i=1}^n \\|\\operatorname{N}_W(\\boldsymbol{\\mu}^{(i)}) - \\tilde{\\operatorname{HF}}(\\boldsymbol{\\mu}^{(i)})\\|_2^2,$$\n",
    "where for a given $\\boldsymbol{\\mu}$, $\\tilde{\\operatorname{HF}}(\\boldsymbol{\\mu})$ is the projection of $\\operatorname{HF}(\\boldsymbol{\\mu})$ onto the reduced order solution space."
   ]
  },
  {
   "cell_type": "code",
   "execution_count": 22,
   "metadata": {
    "scrolled": true
   },
   "outputs": [],
   "source": [
    "input_normalization_pdnn = Normalization.StandardNormalization(input_normalization=True)\n",
    "output_normalization_pdnn = Normalization.StandardNormalization()\n",
    "\n",
    "pdnn_net  = NN.RONN(\"PDNN\", problem, reduction_method, n_hidden=2, n_neurons=40)\n",
    "pdnn_loss = Losses.PDNN_Loss(pdnn_net, output_normalization_pdnn)\n",
    "data      = RONNData.RONNDataLoader(pdnn_net, validation_proportion=0.2)\n",
    "optimizer = torch.optim.Adam(pdnn_net.parameters(), lr=0.001)\n",
    "scheduler = torch.optim.lr_scheduler.ExponentialLR(optimizer, 0.99999)\n",
    "\n",
    "pdnn_trainer = Training.PDNNTrainer(\n",
    "    pdnn_net, data, pdnn_loss, optimizer, scheduler,\n",
    "    input_normalization_pdnn, num_epochs=3000\n",
    ")\n",
    "\n",
    "loaded, starting_epoch = IO.initialize_parameters(\n",
    "    pdnn_net, data, pdnn_trainer, optimizer\n",
    ")"
   ]
  },
  {
   "cell_type": "code",
   "execution_count": 23,
   "metadata": {
    "scrolled": true
   },
   "outputs": [
    {
     "name": "stdout",
     "output_type": "stream",
     "text": [
      "300 0.00202637448023782 \tLoss(validation) = 0.06439205192548868\n",
      "400 0.0002878692893024562 \tLoss(validation) = 0.07721753073001203\n",
      "500 0.00016367729857954811 \tLoss(validation) = 0.07916251084126316\n",
      "600 0.0001082444860842698 \tLoss(validation) = 0.0791994956868909\n",
      "700 6.94483076863594e-05 \tLoss(validation) = 0.07904061118737221\n",
      "800 4.282451278418656e-05 \tLoss(validation) = 0.07889734367319089\n",
      "900 2.53309374489302e-05 \tLoss(validation) = 0.07876492035063408\n",
      "1000 1.4343361824213335e-05 \tLoss(validation) = 0.07863030155781822\n",
      "1100 7.755681636105945e-06 \tLoss(validation) = 0.07849396571463003\n",
      "1200 3.993712036793498e-06 \tLoss(validation) = 0.07836381366189633\n",
      "1300 1.9532471145280067e-06 \tLoss(validation) = 0.07824792237548595\n",
      "1400 9.049845166078536e-07 \tLoss(validation) = 0.07815137012976482\n",
      "1500 3.963683329633638e-07 \tLoss(validation) = 0.07807569709279737\n",
      "1600 1.6369270609801953e-07 \tLoss(validation) = 0.07801948928913155\n",
      "1700 6.361035475616663e-08 \tLoss(validation) = 0.07797961565398497\n",
      "1800 2.3204689273521476e-08 \tLoss(validation) = 0.0779527744396234\n",
      "1900 7.923850796848185e-09 \tLoss(validation) = 0.07793539502426874\n",
      "2000 2.5287819914236854e-09 \tLoss(validation) = 0.07792460074046474\n",
      "2100 7.504857370687958e-10 \tLoss(validation) = 0.07791806730653188\n",
      "2200 2.064231910066121e-10 \tLoss(validation) = 0.07791445888132573\n",
      "2300 5.312884608888678e-11 \tLoss(validation) = 0.0779123106071227\n",
      "2400 1.2966190790177123e-11 \tLoss(validation) = 0.07791143638199491\n",
      "2500 3.205932397303722e-12 \tLoss(validation) = 0.07791114510087652\n",
      "2600 8.827030953492419e-13 \tLoss(validation) = 0.07791105299686836\n",
      "2700 3.141507183770108e-13 \tLoss(validation) = 0.0779110029483124\n",
      "2800 1.165483224022409e-13 \tLoss(validation) = 0.0779110111815488\n",
      "2900 5.022215405633946e-14 \tLoss(validation) = 0.07791097166508092\n",
      "3000 2.416518940113626e-14 \tLoss(validation) = 0.07791095017903885\n",
      "3100 1.2028203697489966e-14 \tLoss(validation) = 0.0779109521044173\n",
      "3200 1.3706308431529595e-14 \tLoss(validation) = 0.07791102903434516\n"
     ]
    },
    {
     "data": {
      "text/plain": [
       "<mlnics.Losses.PDNN_Loss at 0x13847cc70>"
      ]
     },
     "execution_count": 23,
     "metadata": {},
     "output_type": "execute_result"
    }
   ],
   "source": [
    "pdnn_trainer.train()"
   ]
  },
  {
   "cell_type": "code",
   "execution_count": 24,
   "metadata": {
    "scrolled": true
   },
   "outputs": [
    {
     "data": {
      "image/png": "[encoded data removed]",
      "text/plain": [
       "<Figure size 432x288 with 1 Axes>"
      ]
     },
     "metadata": {
      "needs_background": "light"
     },
     "output_type": "display_data"
    }
   ],
   "source": [
    "fig, ax = Training.plot_loss(pdnn_trainer, pdnn_net)"
   ]
  },
  {
   "cell_type": "markdown",
   "metadata": {},
   "source": [
    "#### 4.5.4 Train PRNN\n",
    "\n",
    "We train a Physics-Reinforced Neural Network (PRNN) $N_W(\\boldsymbol{\\mu})$ dependnent on the weights and biases $W$ of the network to minimize the loss function\n",
    "\n",
    "$$L_{PRNN}(X_{PINN}, X_{PDNN}; W) = L_{PINN}(X_{PINN}; W) + \\omega L_{PDNN}(X_{PDNN}; W)$$\n",
    "\n",
    "where $\\omega$ is a scaling parameter which can be chosen freely."
   ]
  },
  {
   "cell_type": "code",
   "execution_count": 66,
   "metadata": {
    "scrolled": true
   },
   "outputs": [],
   "source": [
    "input_normalization_prnn = Normalization.StandardNormalization(input_normalization=True)\n",
    "output_normalization_prnn = Normalization.StandardNormalization()\n",
    "\n",
    "omega = 8.669322297219455\n",
    "prnn_net  = NN.RONN(f\"PRNN_{omega}\", problem, reduction_method, n_hidden=2, n_neurons=40)\n",
    "prnn_loss = Losses.PRNN_Loss(prnn_net, output_normalization_prnn, omega=omega)\n",
    "data      = RONNData.RONNDataLoader(prnn_net, validation_proportion=0.2,\n",
    "                                    num_without_snapshots=1)#100)\n",
    "optimizer = torch.optim.Adam(prnn_net.parameters(), lr=0.001)\n",
    "scheduler = torch.optim.lr_scheduler.ExponentialLR(optimizer, 0.99999)\n",
    "\n",
    "prnn_trainer = Training.PRNNTrainer(\n",
    "    prnn_net, data, prnn_loss, optimizer, scheduler,\n",
    "    input_normalization_prnn, num_epochs=40000\n",
    ")\n",
    "\n",
    "loaded, starting_epoch = IO.initialize_parameters(\n",
    "    prnn_net, data, prnn_trainer, optimizer\n",
    ")"
   ]
  },
  {
   "cell_type": "code",
   "execution_count": 67,
   "metadata": {
    "scrolled": true
   },
   "outputs": [
    {
     "name": "stdout",
     "output_type": "stream",
     "text": [
      "0 7.038840608623753\n",
      "100 2.959363775645786\n",
      "200 0.9603287335398372\n",
      "300 0.22208588134354315\n",
      "400 0.0372794961130524\n",
      "500 0.003271367562692484\n",
      "600 0.0002336153904750871\n",
      "700 5.404491714969381e-05\n",
      "800 3.6252244687541216e-05\n",
      "900 3.385669257402611e-05\n",
      "1000 3.356640826392155e-05\n",
      "1100 3.3530078062494734e-05\n",
      "1200 3.351781135258499e-05\n",
      "1300 3.350677166884708e-05\n",
      "1400 3.349505713322734e-05\n",
      "1500 3.348256619120147e-05\n",
      "1600 3.346927262265754e-05\n",
      "1700 3.345513848300556e-05\n",
      "1800 3.3440163735721885e-05\n",
      "1900 3.342428337518501e-05\n",
      "2000 3.340744809690771e-05\n",
      "2100 3.338964613400951e-05\n",
      "2200 3.3370869520434496e-05\n",
      "2300 3.3351043465598884e-05\n",
      "2400 3.333009288897707e-05\n",
      "2500 3.330802487540852e-05\n",
      "2600 3.3284775404831755e-05\n",
      "2700 3.3260300384188894e-05\n",
      "2800 3.32345544494276e-05\n",
      "2900 3.32074648238732e-05\n",
      "3000 3.3178975134065726e-05\n",
      "3100 3.314898927774386e-05\n",
      "3200 3.311751078281676e-05\n",
      "3300 3.308446679147108e-05\n",
      "3400 3.304974881797217e-05\n",
      "3500 3.301330605519855e-05\n",
      "3600 0.00016003684658188867\n",
      "3700 3.293792499390697e-05\n",
      "3800 6.648150177331736e-05\n",
      "3900 3.285222379399651e-05\n",
      "4000 0.00010087609281793236\n",
      "4100 3.276240712107708e-05\n",
      "4200 3.277365810260157e-05\n",
      "4300 3.272722817308513e-05\n",
      "4400 3.261510507488781e-05\n",
      "4500 4.106527512781578e-05\n",
      "4600 3.2510476274325824e-05\n",
      "4700 0.0001498064171029706\n",
      "4800 3.2406420289397416e-05\n",
      "4900 3.233543936299251e-05\n",
      "5000 3.231240047499856e-05\n",
      "5100 3.2211033204384236e-05\n",
      "5200 4.1843929178467017e-05\n",
      "5300 3.208170806375209e-05\n",
      "5400 3.590974491732618e-05\n",
      "5500 3.194288203536739e-05\n",
      "5600 3.359588139578292e-05\n",
      "5700 3.8791677219526234e-05\n",
      "5800 4.3213318654578996e-05\n",
      "5900 0.0001338422079802557\n",
      "6000 7.453139654877619e-05\n",
      "6100 3.154726913168006e-05\n",
      "6200 3.738559606838258e-05\n",
      "6300 3.243966863357265e-05\n",
      "6400 4.242998914947849e-05\n",
      "6500 0.00010638831700479593\n",
      "6600 3.109923023328982e-05\n",
      "6700 3.274109669397954e-05\n",
      "6800 3.113770592186175e-05\n",
      "6900 3.144263172880065e-05\n",
      "7000 8.917112326590077e-05\n",
      "7100 3.567407369818548e-05\n",
      "7200 3.1996175565852936e-05\n",
      "7300 0.00020707466525415175\n",
      "7400 8.144262815391545e-05\n",
      "7500 3.0370207455008e-05\n",
      "7600 3.0556593480660365e-05\n",
      "7700 3.157023373755726e-05\n",
      "7800 8.248943367141336e-05\n",
      "7900 2.997896508443261e-05\n",
      "8000 3.0163997198623225e-05\n",
      "8100 3.096164152943733e-05\n",
      "8200 3.5807820972745e-05\n",
      "8300 3.099282271150416e-05\n",
      "8400 4.493029459136784e-05\n",
      "8500 2.9591841303234633e-05\n",
      "8600 2.9608095089844658e-05\n",
      "8700 3.034543346057382e-05\n",
      "8800 0.00022318052255807736\n",
      "8900 2.9133995469785844e-05\n",
      "9000 2.925709154639764e-05\n",
      "9100 2.9426085610243428e-05\n",
      "9200 3.9645551451287605e-05\n",
      "9300 0.00019243693981028841\n",
      "9400 0.00021627141911846308\n",
      "9500 3.4071587338157953e-05\n",
      "9600 2.8808771280566276e-05\n",
      "9700 2.883930622286328e-05\n",
      "9800 2.8653021768828956e-05\n",
      "9900 3.116149047821843e-05\n",
      "10000 2.8518240197917414e-05\n",
      "10100 2.868816324067079e-05\n",
      "10200 6.392673049093515e-05\n",
      "10300 2.78933481663743e-05\n",
      "10400 2.8144943025240206e-05\n",
      "10500 2.8397305278913178e-05\n",
      "10600 2.785066468307027e-05\n",
      "10700 3.0253544571240813e-05\n",
      "10800 0.00016590550047014015\n",
      "10900 4.498409899130795e-05\n",
      "11000 2.7754122195628072e-05\n",
      "11100 2.7683081050560373e-05\n",
      "11200 3.3979642751310036e-05\n",
      "11300 2.86161931203794e-05\n",
      "11400 2.7842433686292874e-05\n",
      "11500 3.0065644314838886e-05\n",
      "11600 2.998630479928018e-05\n",
      "11700 3.197364411193827e-05\n",
      "11800 2.6643246789117434e-05\n",
      "11900 3.0767693076141304e-05\n",
      "12000 2.6590220639655998e-05\n",
      "12100 4.1663325262713814e-05\n",
      "12200 2.6269891838517115e-05\n",
      "12300 2.619094245611024e-05\n",
      "12400 2.6280893475431775e-05\n",
      "12500 2.674327769826161e-05\n",
      "12600 3.141644419341675e-05\n",
      "12700 2.7324361482620673e-05\n",
      "12800 2.6552682618595685e-05\n",
      "12900 3.760549366757105e-05\n",
      "13000 2.7684837930839472e-05\n",
      "13100 4.2300203400343055e-05\n",
      "13200 4.468438274945067e-05\n",
      "13300 8.345162412679331e-05\n",
      "13400 2.732228673843979e-05\n",
      "13500 2.548877225664926e-05\n",
      "13600 2.6542549662142985e-05\n",
      "13700 2.5165002721535163e-05\n",
      "13800 2.6643897627824e-05\n",
      "13900 2.9116022192132372e-05\n",
      "14000 2.6400898474008305e-05\n",
      "14100 0.00010978589382696418\n",
      "14200 2.4696672221061295e-05\n",
      "14300 0.00013137132683291715\n",
      "14400 2.4541910507324306e-05\n",
      "14500 2.510728290104592e-05\n",
      "14600 2.754180477315592e-05\n",
      "14700 2.4294111637855195e-05\n",
      "14800 2.4480001230528055e-05\n",
      "14900 2.6157903935777325e-05\n",
      "15000 6.562394745544047e-05\n",
      "15100 2.4037243308465366e-05\n",
      "15200 2.404425481858271e-05\n",
      "15300 2.401533446460736e-05\n",
      "15400 2.4124895485323143e-05\n",
      "15500 0.00014239536513935115\n",
      "15600 0.00011350835973485993\n",
      "15700 4.507871047483781e-05\n",
      "15800 5.038263329547565e-05\n",
      "15900 3.377068461257454e-05\n",
      "16000 3.079938758412993e-05\n",
      "16100 2.5883526633001035e-05\n",
      "16200 2.738747386028262e-05\n",
      "16300 2.8863512098833548e-05\n",
      "16400 2.4968483492710697e-05\n",
      "16500 2.3004731167155015e-05\n",
      "16600 2.8937666963534858e-05\n",
      "16700 2.4125208926887103e-05\n",
      "16800 2.467415231791229e-05\n",
      "16900 2.5142796466927815e-05\n",
      "17000 2.373197607446585e-05\n",
      "17100 2.264825592973893e-05\n",
      "17200 2.260353752694229e-05\n",
      "17300 2.2513188413188113e-05\n",
      "17400 2.478151126099629e-05\n",
      "17500 2.489944350148017e-05\n",
      "17600 7.207439635429342e-05\n",
      "17700 2.215473366851788e-05\n",
      "17800 2.227760760383073e-05\n",
      "17900 0.00016408715759654713\n",
      "18000 2.196425998958722e-05\n",
      "18100 4.135166957038144e-05\n",
      "18200 2.1813438890702636e-05\n",
      "18300 2.2915412871664144e-05\n",
      "18400 2.2689051830499974e-05\n",
      "18500 2.2736822455854957e-05\n",
      "18600 2.2000599533597175e-05\n",
      "18700 2.1917283491009646e-05\n",
      "18800 2.428760965947421e-05\n",
      "18900 5.4133429467576504e-05\n",
      "19000 2.207241021386794e-05\n",
      "19100 2.1508913347837758e-05\n",
      "19200 2.1345693981498417e-05\n",
      "19300 2.2675860276871165e-05\n",
      "19400 2.143507437270803e-05\n",
      "19500 2.1523763838604323e-05\n",
      "19600 2.0960477299419893e-05\n",
      "19700 2.601960408464743e-05\n",
      "19800 2.4514790282765934e-05\n",
      "19900 2.6395615357202328e-05\n",
      "20000 2.0784997001031493e-05\n",
      "20100 6.816414838039766e-05\n",
      "20200 2.9427087335587328e-05\n",
      "20300 2.599113063188266e-05\n",
      "20400 2.6121648227778424e-05\n",
      "20500 2.0626422224584426e-05\n",
      "20600 2.6946594123247143e-05\n",
      "20700 9.204102657992791e-05\n",
      "20800 2.1614392446206866e-05\n",
      "20900 2.1855515809716537e-05\n",
      "21000 4.283164170529625e-05\n",
      "21100 3.8993103589331256e-05\n",
      "21200 2.479146479784582e-05\n",
      "21300 1.998117408794043e-05\n",
      "21400 1.987523417712491e-05\n",
      "21500 2.0212276643924845e-05\n",
      "21600 2.9460524749478207e-05\n",
      "21700 0.00012579045449735845\n",
      "21800 2.097400310504732e-05\n",
      "21900 2.626346585411148e-05\n",
      "22000 3.23682773675032e-05\n",
      "22100 1.9725314332867405e-05\n",
      "22200 2.011979984208728e-05\n",
      "22300 1.9338231611186874e-05\n",
      "22400 5.608157864188936e-05\n",
      "22500 1.9187766499859922e-05\n",
      "22600 2.1631580456333942e-05\n",
      "22700 2.2009444537360856e-05\n",
      "22800 2.4733728231648827e-05\n",
      "22900 1.941255270455159e-05\n",
      "23000 1.9142282957583034e-05\n",
      "23100 1.916264835527621e-05\n",
      "23200 2.5990451268611346e-05\n",
      "23300 2.0013425158804805e-05\n",
      "23400 2.474241871317463e-05\n",
      "23500 1.8783208941434012e-05\n",
      "23600 1.8900587720309284e-05\n",
      "23700 1.8882085862989004e-05\n",
      "23800 2.2490823249244216e-05\n",
      "23900 0.00015306495146152693\n",
      "24000 2.7682384260761377e-05\n",
      "24100 1.869256403184486e-05\n",
      "24200 1.8861874083086182e-05\n",
      "24300 3.661710147838664e-05\n",
      "24400 1.8037535159059923e-05\n",
      "24500 1.8876474588972857e-05\n",
      "24600 1.803432270179247e-05\n",
      "24700 1.803735801059703e-05\n",
      "24800 1.789765560231991e-05\n",
      "24900 4.088574423518016e-05\n",
      "25000 1.7712484456912262e-05\n",
      "25100 1.828527099449954e-05\n",
      "25200 2.7225487532243554e-05\n",
      "25300 1.832483160208785e-05\n",
      "25400 1.7677217671136483e-05\n",
      "25500 1.7807427118595142e-05\n",
      "25600 2.049415161456169e-05\n",
      "25700 1.9868963095080317e-05\n",
      "25800 4.931695167013014e-05\n",
      "25900 2.5756904835133227e-05\n",
      "26000 3.434484097411079e-05\n",
      "26100 1.924371558469605e-05\n",
      "26200 1.792905030278839e-05\n",
      "26300 1.879444865894561e-05\n",
      "26400 0.00011728640334496297\n",
      "26500 1.9010251720755933e-05\n",
      "26600 1.695465690905442e-05\n",
      "26700 1.7359714931752834e-05\n",
      "26800 1.6825640865304755e-05\n",
      "26900 5.56465275400007e-05\n",
      "27000 2.0444508481988932e-05\n",
      "27100 0.00013210379335771284\n",
      "27200 6.692553911670938e-05\n",
      "27300 1.9963014976404708e-05\n",
      "27400 2.71244898834444e-05\n",
      "27500 0.00014323728243260313\n",
      "27600 2.53740841802285e-05\n",
      "27700 1.6688918030124972e-05\n",
      "27800 1.6442312026755673e-05\n",
      "27900 1.8369511909651665e-05\n",
      "28000 1.622111396991171e-05\n",
      "28100 2.207196975586058e-05\n",
      "28200 3.7878131679763724e-05\n",
      "28300 5.2022818761662104e-05\n",
      "28400 6.651279775057685e-05\n",
      "28500 1.6032384401560396e-05\n",
      "28600 1.5918389221088386e-05\n",
      "28700 1.590078784063098e-05\n",
      "28800 0.00015326864882423362\n",
      "28900 2.1432149968629963e-05\n",
      "29000 1.6588614694375297e-05\n",
      "29100 3.413168070229399e-05\n",
      "29200 4.7286029447583675e-05\n"
     ]
    },
    {
     "name": "stdout",
     "output_type": "stream",
     "text": [
      "29300 1.549691394606296e-05\n",
      "29400 1.9597860478574508e-05\n",
      "29500 3.340203486921151e-05\n",
      "29600 1.6127089895641014e-05\n",
      "29700 1.8659168537628412e-05\n",
      "29800 3.0215845132378262e-05\n",
      "29900 5.150457664009493e-05\n",
      "30000 1.959075294789557e-05\n",
      "30100 1.6083099470937104e-05\n",
      "30200 6.345566836891454e-05\n",
      "30300 1.6091778577741936e-05\n",
      "30400 1.5233693845754829e-05\n",
      "30500 1.7237444085906372e-05\n",
      "30600 1.9980342186423994e-05\n",
      "30700 2.6860645276970847e-05\n",
      "30800 1.5280334425536433e-05\n",
      "30900 3.113780921498715e-05\n",
      "31000 2.1667280950973445e-05\n",
      "31100 1.785624651066857e-05\n",
      "31200 1.915966201978104e-05\n",
      "31300 1.5002318542067179e-05\n",
      "31400 2.1650203430731012e-05\n",
      "31500 1.552043377774827e-05\n",
      "31600 6.245278249685811e-05\n",
      "31700 1.6582628117189088e-05\n",
      "31800 2.194659184219286e-05\n",
      "31900 3.9654372944943e-05\n",
      "32000 3.0504480019278942e-05\n",
      "32100 6.797799003679867e-05\n",
      "32200 1.7506630966169983e-05\n",
      "32300 1.408002184917389e-05\n",
      "32400 1.5177034438348661e-05\n",
      "32500 1.9936875487593195e-05\n",
      "32600 1.650253869120135e-05\n",
      "32700 1.7923649450386452e-05\n",
      "32800 1.3832773270709452e-05\n",
      "32900 3.765938716816294e-05\n",
      "33000 2.8046264118185126e-05\n",
      "33100 1.533377831818148e-05\n",
      "33200 2.2498432255902347e-05\n",
      "33300 1.6078132724162618e-05\n",
      "33400 1.5147012730787235e-05\n",
      "33500 1.4317450417545313e-05\n",
      "33600 1.4078151810687605e-05\n",
      "33700 1.699635880497983e-05\n",
      "33800 7.414115655057683e-05\n",
      "33900 1.3366987689005614e-05\n",
      "34000 1.3367611961002014e-05\n",
      "34100 1.3365738261283285e-05\n",
      "34200 2.7471789529466577e-05\n",
      "34300 1.3192365896934821e-05\n",
      "34400 1.6225684384144152e-05\n",
      "34500 1.5670492377823457e-05\n",
      "34600 1.3399886096217148e-05\n",
      "34700 1.3305500461700909e-05\n",
      "34800 6.296133087781283e-05\n",
      "34900 1.2907899028327356e-05\n",
      "35000 1.2921622767378535e-05\n",
      "35100 1.2852716505154514e-05\n",
      "35200 1.3155953763674853e-05\n",
      "35300 1.3105078176565699e-05\n",
      "35400 2.456348683249138e-05\n",
      "35500 1.4566554237190114e-05\n",
      "35600 1.4358190947669428e-05\n",
      "35700 1.3140877783026884e-05\n",
      "35800 4.086931779215022e-05\n",
      "35900 1.610654773127373e-05\n",
      "36000 1.3011886968359702e-05\n",
      "36100 1.4092748874180664e-05\n",
      "36200 1.344780876153156e-05\n",
      "36300 1.8540265233404882e-05\n",
      "36400 7.934301992577276e-05\n",
      "36500 0.00011822780034319828\n",
      "36600 4.320502851951001e-05\n",
      "36700 2.50312610417462e-05\n",
      "36800 5.3768406839455236e-05\n",
      "36900 1.3682344501032417e-05\n",
      "37000 1.3378300844995452e-05\n",
      "37100 1.720624289544186e-05\n",
      "37200 1.7529140956432505e-05\n",
      "37300 4.971387440381741e-05\n",
      "37400 3.281841085945633e-05\n",
      "37500 0.0001204204521525386\n",
      "37600 1.3588342014118067e-05\n",
      "37700 1.5094294485173504e-05\n",
      "37800 2.5213755266687147e-05\n",
      "37900 1.3316331347805565e-05\n",
      "38000 1.3319443469002503e-05\n",
      "38100 1.2623757004727733e-05\n",
      "38200 0.0001105272667652789\n",
      "38300 1.4002560852626147e-05\n",
      "38400 1.3911817835640418e-05\n",
      "38500 1.242891134407945e-05\n",
      "38600 1.6720017910096145e-05\n",
      "38700 1.1352879134492947e-05\n",
      "38800 1.4749253943949765e-05\n",
      "38900 1.676939463949707e-05\n",
      "39000 8.766710274767781e-05\n",
      "39100 1.3772991010610376e-05\n",
      "39200 1.1457883380105963e-05\n",
      "39300 1.1252693679301136e-05\n",
      "39400 1.2414455063060195e-05\n",
      "39500 1.103135212474329e-05\n",
      "39600 1.1259222886216635e-05\n",
      "39700 1.2777380267206566e-05\n",
      "39800 2.7667733927186872e-05\n",
      "39900 1.0901313525178699e-05\n"
     ]
    }
   ],
   "source": [
    "prnn_trainer.train()"
   ]
  },
  {
   "cell_type": "code",
   "execution_count": 68,
   "metadata": {},
   "outputs": [
    {
     "data": {
      "image/png": "[encoded data removed]",
      "text/plain": [
       "<Figure size 432x288 with 1 Axes>"
      ]
     },
     "metadata": {
      "needs_background": "light"
     },
     "output_type": "display_data"
    }
   ],
   "source": [
    "fig, ax = Training.plot_loss(prnn_trainer, prnn_net, separate=True)"
   ]
  },
  {
   "cell_type": "markdown",
   "metadata": {},
   "source": [
    "### 4.6. Perform an error analysis"
   ]
  },
  {
   "cell_type": "markdown",
   "metadata": {},
   "source": [
    "#### 4.6.1 Reduction Method Error Analysis"
   ]
  },
  {
   "cell_type": "code",
   "execution_count": 40,
   "metadata": {
    "scrolled": true
   },
   "outputs": [
    {
     "data": {
      "text/plain": [
       "False"
      ]
     },
     "execution_count": 40,
     "metadata": {},
     "output_type": "execute_result"
    }
   ],
   "source": [
    "reduction_method.initialize_testing_set(100)\n",
    "#reduction_method.error_analysis()"
   ]
  },
  {
   "cell_type": "markdown",
   "metadata": {},
   "source": [
    "#### 4.6.2 PINN Error Analysis"
   ]
  },
  {
   "cell_type": "code",
   "execution_count": 41,
   "metadata": {},
   "outputs": [],
   "source": [
    "#test_mu = torch.tensor(reduction_method.testing_set)\n",
    "test_mu = data.train_data_no_snaps#torch.tensor(reduction_method.training_set)"
   ]
  },
  {
   "cell_type": "code",
   "execution_count": 43,
   "metadata": {},
   "outputs": [
    {
     "name": "stdout",
     "output_type": "stream",
     "text": [
      "#################################### N = 4 #####################################\n",
      "ERROR\tNN-HF\t\t\tNN-RO\t\t\tRO-HF\n",
      "min\t7.15096893394435e-05\t7.150683462642147e-05\t4.1179454431958455e-07\n",
      "mean\t0.004060950304590483\t0.004060950055744394\t6.267269765320966e-07\n",
      "max\t0.09157360749280959\t0.09157360915272272\t1.8462820012419785e-06\n"
     ]
    }
   ],
   "source": [
    "_ = ErrorAnalysis.error_analysis_fixed_net(\n",
    "    pinn_net, test_mu, input_normalization_pinn, output_normalization_pinn\n",
    ")"
   ]
  },
  {
   "cell_type": "code",
   "execution_count": null,
   "metadata": {},
   "outputs": [],
   "source": [
    "ErrorAnalysis.plot_solution_difference(\n",
    "    pinn_net, (8.0, -1.0), input_normalization_pinn, output_normalization_pinn\n",
    ")"
   ]
  },
  {
   "cell_type": "markdown",
   "metadata": {},
   "source": [
    "#### 4.6.3 PDNN Error Analysis"
   ]
  },
  {
   "cell_type": "code",
   "execution_count": null,
   "metadata": {},
   "outputs": [],
   "source": [
    "_ = ErrorAnalysis.error_analysis_fixed_net(\n",
    "    pdnn_net, test_mu, input_normalization_pdnn, output_normalization_pdnn\n",
    ")"
   ]
  },
  {
   "cell_type": "code",
   "execution_count": null,
   "metadata": {},
   "outputs": [],
   "source": [
    "ErrorAnalysis.plot_solution_difference(\n",
    "    pdnn_net, (8.0, -1.0), input_normalization_pdnn, output_normalization_pdnn\n",
    ")"
   ]
  },
  {
   "cell_type": "markdown",
   "metadata": {},
   "source": [
    "#### 4.6.4 PRNN Error Analysis"
   ]
  },
  {
   "cell_type": "code",
   "execution_count": 69,
   "metadata": {},
   "outputs": [
    {
     "name": "stdout",
     "output_type": "stream",
     "text": [
      "#################################### N = 4 #####################################\n",
      "ERROR\tNN-HF\t\t\tNN-RO\t\t\tRO-HF\n",
      "min\t0.20087355605187154\t0.20087355500643456\t4.1179454431958455e-07\n",
      "mean\t8.973210601236158\t8.973210607265042\t6.267269765320966e-07\n",
      "max\t458.9615103087711\t458.9615105848353\t1.8462820012419785e-06\n"
     ]
    }
   ],
   "source": [
    "_ = ErrorAnalysis.error_analysis_fixed_net(\n",
    "    prnn_net, test_mu, input_normalization_prnn, output_normalization_prnn\n",
    ")"
   ]
  },
  {
   "cell_type": "code",
   "execution_count": null,
   "metadata": {},
   "outputs": [],
   "source": [
    "ErrorAnalysis.plot_solution_difference(\n",
    "    prnn_net, (8.0, -1.0), input_normalization_prnn, output_normalization_prnn\n",
    ")"
   ]
  },
  {
   "cell_type": "markdown",
   "metadata": {},
   "source": [
    "#### 4.6.5 Neural Network Error Comparison"
   ]
  },
  {
   "cell_type": "code",
   "execution_count": null,
   "metadata": {
    "scrolled": true
   },
   "outputs": [],
   "source": [
    "nets = dict()\n",
    "nets[\"pinn_net\"] = pinn_net\n",
    "nets[\"pdnn_net\"] = pdnn_net\n",
    "nets[\"prnn_net\"] = prnn_net\n",
    "\n",
    "input_normalizations = dict()\n",
    "input_normalizations[\"pinn_net\"] = input_normalization_pinn\n",
    "input_normalizations[\"pdnn_net\"] = input_normalization_pdnn\n",
    "input_normalizations[\"prnn_net\"] = input_normalization_prnn\n",
    "\n",
    "output_normalizations = dict()\n",
    "output_normalizations[\"pinn_net\"] = output_normalization_pinn\n",
    "output_normalizations[\"pdnn_net\"] = output_normalization_pdnn\n",
    "output_normalizations[\"prnn_net\"] = output_normalization_prnn\n",
    "\n",
    "_ = ErrorAnalysis.error_analysis_by_network(\n",
    "    nets, test_mu, input_normalizations, output_normalizations, euclidean=False\n",
    ")"
   ]
  },
  {
   "cell_type": "markdown",
   "metadata": {},
   "source": [
    "### 4.7. Perform a speedup analysis"
   ]
  },
  {
   "cell_type": "code",
   "execution_count": null,
   "metadata": {},
   "outputs": [],
   "source": [
    "reduction_method.initialize_testing_set(100)\n",
    "reduction_method.speedup_analysis()"
   ]
  },
  {
   "cell_type": "code",
   "execution_count": null,
   "metadata": {},
   "outputs": [],
   "source": []
  },
  {
   "cell_type": "code",
   "execution_count": null,
   "metadata": {},
   "outputs": [],
   "source": []
  },
  {
   "cell_type": "code",
   "execution_count": null,
   "metadata": {},
   "outputs": [],
   "source": []
  }
 ],
 "metadata": {
  "kernelspec": {
   "display_name": "Python 3 (ipykernel)",
   "language": "python",
   "name": "python3"
  },
  "language_info": {
   "codemirror_mode": {
    "name": "ipython",
    "version": 3
   },
   "file_extension": ".py",
   "mimetype": "text/x-python",
   "name": "python",
   "nbconvert_exporter": "python",
   "pygments_lexer": "ipython3",
   "version": "3.10.4"
  }
 },
 "nbformat": 4,
 "nbformat_minor": 2
}
