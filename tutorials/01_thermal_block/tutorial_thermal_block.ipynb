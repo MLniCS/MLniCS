{
 "cells": [
  {
   "cell_type": "markdown",
   "metadata": {},
   "source": [
    "## TUTORIAL 01 - Thermal block problem\n",
    "**_Keywords: certified reduced basis method, scalar problem_**\n",
    "\n",
    "### 1. Introduction\n",
    "In this Tutorial, we consider steady heat conduction in a two-dimensional domain $\\Omega$.\n",
    "\n",
    "We define two subdomains $\\Omega_1$ and $\\Omega_2$, such that\n",
    "1. $\\Omega_1$ is a disk centered at the origin of radius $r_0=0.5$, and\n",
    "2. $\\Omega_2=\\Omega/\\ \\overline{\\Omega_1}$. \n",
    "\n",
    "The conductivity $\\kappa$ is assumed to be constant on $\\Omega_1$ and $\\Omega_2$, i.e.\n",
    "$$\n",
    "\\kappa|_{\\Omega_1}=\\kappa_0 \\quad \\textrm{and} \\quad \\kappa|_{\\Omega_2}=1.\n",
    "$$\n",
    "\n",
    "For this problem, we consider $P=2$ parameters:\n",
    "1. the first one is related to the conductivity in $\\Omega_1$, i.e. $\\mu_0\\equiv k_0$ (_note that parameters numbering is zero-based_);\n",
    "2. the second parameter $\\mu_1$ takes into account the constant heat flux over $\\Gamma_{base}$.\n",
    "\n",
    "The parameter vector $\\boldsymbol{\\mu}$ is thus given by \n",
    "$$\n",
    "\\boldsymbol{\\mu} = (\\mu_0,\\mu_1)\n",
    "$$\n",
    "on the parameter domain\n",
    "$$\n",
    "\\mathbb{P}=[0.1,10]\\times[-1,1].\n",
    "$$\n",
    "\n",
    "In this problem we model the heat transfer process due to the heat flux over the bottom boundary $\\Gamma_{base}$ and the following conditions on the remaining boundaries:\n",
    "* the left and right boundaries $\\Gamma_{side}$ are insulated,\n",
    "* the top boundary $\\Gamma_{top}$ is kept at a reference temperature (say, zero),\n",
    "\n",
    "with the aim of measuring the average temperature on $\\Gamma_{base}$.\n",
    "\n",
    "In order to obtain a faster evaluation (yet, provably accurate) of the output of interest we propose to use a certified reduced basis approximation for the problem."
   ]
  },
  {
   "cell_type": "markdown",
   "metadata": {},
   "source": [
    "### 2. Parametrized formulation\n",
    "\n",
    "Let $u(\\boldsymbol{\\mu})$ be the temperature in the domain $\\Omega$.\n",
    "\n",
    "The strong formulation of the parametrized problem is given by: for a given parameter $\\boldsymbol{\\mu}\\in\\mathbb{P}$, find $u(\\boldsymbol{\\mu})$ such that\n",
    "\n",
    "$$\n",
    "\\begin{cases}\n",
    "\t- \\text{div} (\\kappa(\\mu_0)\\nabla u(\\boldsymbol{\\mu})) = 0 & \\text{in } \\Omega,\\\\\n",
    "\tu(\\boldsymbol{\\mu}) = 0 & \\text{on } \\Gamma_{top},\\\\\n",
    "\t\\kappa(\\mu_0)\\nabla u(\\boldsymbol{\\mu})\\cdot \\mathbf{n} = 0 & \\text{on } \\Gamma_{side},\\\\\n",
    "\t\\kappa(\\mu_0)\\nabla u(\\boldsymbol{\\mu})\\cdot \\mathbf{n} = \\mu_1 & \\text{on } \\Gamma_{base}.\n",
    "\\end{cases}\n",
    "$$\n",
    "<br>\n",
    "\n",
    "where \n",
    "* $\\mathbf{n}$ denotes the outer normal to the boundaries $\\Gamma_{side}$ and $\\Gamma_{base}$,\n",
    "* the conductivity $\\kappa(\\mu_0)$ is defined as follows:\n",
    "$$\n",
    "\\kappa(\\mu_0) =\n",
    "\\begin{cases}\n",
    "\t\\mu_0 & \\text{in } \\Omega_1,\\\\\n",
    "\t1 & \\text{in } \\Omega_2,\\\\\n",
    "\\end{cases}\n",
    "$$\n",
    "\n",
    "The corresponding weak formulation reads: for a given parameter $\\boldsymbol{\\mu}\\in\\mathbb{P}$, find $u(\\boldsymbol{\\mu})\\in\\mathbb{V}$ such that\n",
    "\n",
    "$$a\\left(u(\\boldsymbol{\\mu}),v;\\boldsymbol{\\mu}\\right)=f(v;\\boldsymbol{\\mu})\\quad \\forall v\\in\\mathbb{V}$$\n",
    "\n",
    "where\n",
    "\n",
    "* the function space $\\mathbb{V}$ is defined as\n",
    "$$\n",
    "\\mathbb{V} = \\{v\\in H^1(\\Omega) : v|_{\\Gamma_{top}}=0\\}\n",
    "$$\n",
    "* the parametrized bilinear form $a(\\cdot, \\cdot; \\boldsymbol{\\mu}): \\mathbb{V} \\times \\mathbb{V} \\to \\mathbb{R}$ is defined by\n",
    "$$a(u, v;\\boldsymbol{\\mu})=\\int_{\\Omega} \\kappa(\\mu_0)\\nabla u\\cdot \\nabla v \\ d\\boldsymbol{x},$$\n",
    "* the parametrized linear form $f(\\cdot; \\boldsymbol{\\mu}): \\mathbb{V} \\to \\mathbb{R}$ is defined by\n",
    "$$f(v; \\boldsymbol{\\mu})= \\mu_1\\int_{\\Gamma_{base}}v \\ ds.$$\n",
    "\n",
    "The (compliant) output of interest $s(\\boldsymbol{\\mu})$ given by\n",
    "$$s(\\boldsymbol{\\mu}) = \\mu_1\\int_{\\Gamma_{base}} u(\\boldsymbol{\\mu})$$\n",
    "is computed for each $\\boldsymbol{\\mu}$."
   ]
  },
  {
   "cell_type": "code",
   "execution_count": 1,
   "metadata": {},
   "outputs": [],
   "source": [
    "import os\n",
    "import sys\n",
    "sys.path.append('../../')\n",
    "\n",
    "from mlnics import NN, Losses, Normalization, RONNData, IO, Training, ErrorAnalysis\n",
    "from dolfin import *\n",
    "from rbnics import *\n",
    "import torch\n",
    "import numpy as np\n",
    "\n",
    "torch.manual_seed(0)\n",
    "np.random.seed(0)"
   ]
  },
  {
   "cell_type": "markdown",
   "metadata": {},
   "source": [
    "## 3. Affine decomposition\n",
    "\n",
    "For this problem the affine decomposition is straightforward:\n",
    "$$a(u,v;\\boldsymbol{\\mu})=\\underbrace{\\mu_0}_{\\Theta^{a}_0(\\boldsymbol{\\mu})}\\underbrace{\\int_{\\Omega_1}\\nabla u \\cdot \\nabla v \\ d\\boldsymbol{x}}_{a_0(u,v)} \\ + \\  \\underbrace{1}_{\\Theta^{a}_1(\\boldsymbol{\\mu})}\\underbrace{\\int_{\\Omega_2}\\nabla u \\cdot \\nabla v \\ d\\boldsymbol{x}}_{a_1(u,v)},$$\n",
    "$$f(v; \\boldsymbol{\\mu}) = \\underbrace{\\mu_1}_{\\Theta^{f}_0(\\boldsymbol{\\mu})} \\underbrace{\\int_{\\Gamma_{base}}v \\ ds}_{f_0(v)}.$$\n",
    "We will implement the numerical discretization of the problem in the class\n",
    "```\n",
    "class ThermalBlock(EllipticCoerciveCompliantProblem):\n",
    "```\n",
    "by specifying the coefficients $\\Theta^{a}_*(\\boldsymbol{\\mu})$ and $\\Theta^{f}_*(\\boldsymbol{\\mu})$ in the method\n",
    "```\n",
    "    def compute_theta(self, term):     \n",
    "```\n",
    "and the bilinear forms $a_*(u, v)$ and linear forms $f_*(v)$ in\n",
    "```\n",
    "    def assemble_operator(self, term):\n",
    "```"
   ]
  },
  {
   "cell_type": "code",
   "execution_count": 2,
   "metadata": {},
   "outputs": [],
   "source": [
    "class ThermalBlock(EllipticCoerciveCompliantProblem):\n",
    "\n",
    "    # Default initialization of members\n",
    "    def __init__(self, V, **kwargs):\n",
    "        # Call the standard initialization\n",
    "        EllipticCoerciveCompliantProblem.__init__(self, V, **kwargs)\n",
    "        # ... and also store FEniCS data structures for assembly\n",
    "        assert \"subdomains\" in kwargs\n",
    "        assert \"boundaries\" in kwargs\n",
    "        self.subdomains, self.boundaries = kwargs[\"subdomains\"], kwargs[\"boundaries\"]\n",
    "        self.u = TrialFunction(V)\n",
    "        self.v = TestFunction(V)\n",
    "        self.dx = Measure(\"dx\")(subdomain_data=self.subdomains)\n",
    "        self.ds = Measure(\"ds\")(subdomain_data=self.boundaries)\n",
    "\n",
    "    # Return custom problem name\n",
    "    def name(self):\n",
    "        return \"ThermalBlock\"\n",
    "\n",
    "    # Return the alpha_lower bound.\n",
    "    def get_stability_factor_lower_bound(self):\n",
    "        return min(self.compute_theta(\"a\"))\n",
    "\n",
    "    # Return theta multiplicative terms of the affine expansion of the problem.\n",
    "    def compute_theta(self, term):\n",
    "        mu = self.mu\n",
    "        if term == \"a\":\n",
    "            theta_a0 = mu[0]\n",
    "            theta_a1 = 1.\n",
    "            return (theta_a0, theta_a1)\n",
    "        elif term == \"f\":\n",
    "            theta_f0 = mu[1]\n",
    "            return (theta_f0,)\n",
    "        else:\n",
    "            raise ValueError(\"Invalid term for compute_theta().\")\n",
    "\n",
    "    # Return forms resulting from the discretization of the affine expansion of the problem operators.\n",
    "    def assemble_operator(self, term):\n",
    "        v = self.v\n",
    "        dx = self.dx\n",
    "        if term == \"a\":\n",
    "            u = self.u\n",
    "            a0 = inner(grad(u), grad(v)) * dx(1)\n",
    "            a1 = inner(grad(u), grad(v)) * dx(2)\n",
    "            return (a0, a1)\n",
    "        elif term == \"f\":\n",
    "            ds = self.ds\n",
    "            f0 = v * ds(1)\n",
    "            return (f0,)\n",
    "        elif term == \"dirichlet_bc\":\n",
    "            bc0 = [DirichletBC(self.V, Constant(0.0), self.boundaries, 3)]\n",
    "            return (bc0,)\n",
    "        elif term == \"inner_product\":\n",
    "            u = self.u\n",
    "            x0 = inner(grad(u), grad(v)) * dx\n",
    "            return (x0,)\n",
    "        else:\n",
    "            raise ValueError(\"Invalid term for assemble_operator().\")"
   ]
  },
  {
   "cell_type": "markdown",
   "metadata": {},
   "source": [
    "## 4. Main program\n",
    "### 4.1. Read the mesh for this problem\n",
    "The mesh was generated by the [data/generate_mesh.ipynb](data/generate_mesh.ipynb) notebook."
   ]
  },
  {
   "cell_type": "code",
   "execution_count": 3,
   "metadata": {},
   "outputs": [],
   "source": [
    "mesh = Mesh(\"data/thermal_block.xml\")\n",
    "subdomains = MeshFunction(\"size_t\", mesh, \"data/thermal_block_physical_region.xml\")\n",
    "boundaries = MeshFunction(\"size_t\", mesh, \"data/thermal_block_facet_region.xml\")"
   ]
  },
  {
   "cell_type": "markdown",
   "metadata": {},
   "source": [
    "### 4.2. Create Finite Element space (Lagrange P1)"
   ]
  },
  {
   "cell_type": "code",
   "execution_count": 4,
   "metadata": {},
   "outputs": [],
   "source": [
    "V = FunctionSpace(mesh, \"Lagrange\", 1)"
   ]
  },
  {
   "cell_type": "markdown",
   "metadata": {},
   "source": [
    "### 4.3. Allocate an object of the ThermalBlock class"
   ]
  },
  {
   "cell_type": "code",
   "execution_count": 5,
   "metadata": {},
   "outputs": [],
   "source": [
    "problem = ThermalBlock(V, subdomains=subdomains, boundaries=boundaries)\n",
    "mu_range = [(0.1, 10.0), (-1.0, 1.0)]\n",
    "problem.set_mu_range(mu_range)"
   ]
  },
  {
   "cell_type": "markdown",
   "metadata": {},
   "source": [
    "### 4.4. Prepare reduction with a reduced basis method"
   ]
  },
  {
   "cell_type": "code",
   "execution_count": 6,
   "metadata": {},
   "outputs": [],
   "source": [
    "reduction_method = PODGalerkin(problem)#ReducedBasis(problem)\n",
    "reduction_method.set_Nmax(20)\n",
    "reduction_method.set_tolerance(1e-10)#1e-5)"
   ]
  },
  {
   "cell_type": "markdown",
   "metadata": {},
   "source": [
    "### 4.5. Perform the offline phase"
   ]
  },
  {
   "cell_type": "code",
   "execution_count": 7,
   "metadata": {
    "scrolled": true
   },
   "outputs": [],
   "source": [
    "reduction_method.initialize_training_set(100)\n",
    "reduced_problem = reduction_method.offline()"
   ]
  },
  {
   "cell_type": "markdown",
   "metadata": {},
   "source": [
    "### 4.5b Train the neural network"
   ]
  },
  {
   "cell_type": "code",
   "execution_count": 8,
   "metadata": {},
   "outputs": [],
   "source": [
    "reduction_method.initialize_testing_set(100)\n",
    "test_mu = torch.tensor(reduction_method.testing_set)"
   ]
  },
  {
   "cell_type": "code",
   "execution_count": 18,
   "metadata": {
    "scrolled": true
   },
   "outputs": [],
   "source": [
    "input_normalization_pinn = Normalization.StandardNormalization(input_normalization=True)\n",
    "output_normalization_pinn = Normalization.StandardNormalization()\n",
    "\n",
    "pinn_net  = NN.RONN(\"PINN\", problem, reduction_method, n_hidden=2, n_neurons=40)\n",
    "pinn_loss = Losses.PINN_Loss(pinn_net, output_normalization_pinn)\n",
    "data      = RONNData.RONNDataLoader(pinn_net, validation_proportion=0.2, \n",
    "                                    num_without_snapshots=100)\n",
    "optimizer = torch.optim.Adam(pinn_net.parameters(), lr=0.001)\n",
    "\n",
    "loaded, starting_epoch = IO.initialize_parameters(\n",
    "    pinn_net, data, optimizer, \n",
    "    by_validation=True\n",
    ")"
   ]
  },
  {
   "cell_type": "code",
   "execution_count": 19,
   "metadata": {
    "scrolled": true
   },
   "outputs": [
    {
     "name": "stdout",
     "output_type": "stream",
     "text": [
      "0 2.0041102935019977 \tLoss(validation) = 1.7949527826286746\n",
      "100 0.8098595254571604 \tLoss(validation) = 0.8239539860065908\n",
      "200 0.07376536451555935 \tLoss(validation) = 0.11054340986463163\n",
      "300 0.032506990791980994 \tLoss(validation) = 0.05706714737119286\n",
      "400 0.021400723282447277 \tLoss(validation) = 0.03840178528375256\n",
      "500 0.01582560738468853 \tLoss(validation) = 0.027682743564351638\n",
      "600 0.012717029758792544 \tLoss(validation) = 0.020901920423737102\n",
      "700 0.010625249141979962 \tLoss(validation) = 0.01603458157755401\n",
      "800 0.00899150693881031 \tLoss(validation) = 0.012201710214556044\n",
      "900 0.007610156124622518 \tLoss(validation) = 0.009083760309660825\n",
      "1000 0.006407948030737816 \tLoss(validation) = 0.006577298585497593\n",
      "1100 0.0053641707105077955 \tLoss(validation) = 0.0046392427741934715\n",
      "1200 0.004467743518955878 \tLoss(validation) = 0.0032144947024169966\n",
      "1300 0.0037052303823686774 \tLoss(validation) = 0.002224340690422533\n",
      "1400 0.0030637917018688345 \tLoss(validation) = 0.001582774226474161\n",
      "1500 0.002532377145059338 \tLoss(validation) = 0.0012102334288980076\n",
      "1600 0.002099824522547862 \tLoss(validation) = 0.001035316475614913\n",
      "1700 0.0017528381773487874 \tLoss(validation) = 0.0009913419300661788\n",
      "1800 0.001475965031079806 \tLoss(validation) = 0.0010176656235649619\n",
      "1900 0.0012537939935628295 \tLoss(validation) = 0.0010667163467398585\n",
      "2000 0.001078665944828901 \tLoss(validation) = 0.0011044671672011091\n",
      "2100 0.0009352182045209972 \tLoss(validation) = 0.0011258940157424277\n",
      "2200 0.0008181633931412625 \tLoss(validation) = 0.0011252673625366518\n",
      "2300 0.0007199657801405464 \tLoss(validation) = 0.0011136731562323408\n",
      "2400 0.0006382646702733549 \tLoss(validation) = 0.001094009439393861\n",
      "2500 0.0005661272931324274 \tLoss(validation) = 0.001062850414849163\n",
      "2600 0.0005041881689588204 \tLoss(validation) = 0.0010322100432582503\n",
      "2700 0.0004525937340590965 \tLoss(validation) = 0.0010005339454406286\n",
      "2800 0.00040518659170826873 \tLoss(validation) = 0.0009693091330848988\n",
      "2900 0.0006624199992963962 \tLoss(validation) = 0.0009811366335064772\n",
      "3000 0.00032897693716760424 \tLoss(validation) = 0.000908924392002352\n",
      "3100 0.00029732961992564395 \tLoss(validation) = 0.0008792307053537951\n",
      "3200 0.0002726576055835896 \tLoss(validation) = 0.0008610490191102186\n",
      "3300 0.00024564673534603116 \tLoss(validation) = 0.0008232098447582239\n",
      "3400 0.00022365405221263902 \tLoss(validation) = 0.0007941335578914571\n",
      "3500 0.00021123141693481663 \tLoss(validation) = 0.0007672837630112457\n",
      "3600 0.0001867638177909735 \tLoss(validation) = 0.0007370615236665145\n",
      "3700 0.0003990492059898353 \tLoss(validation) = 0.0010569945107430632\n",
      "3800 0.00015728104828435877 \tLoss(validation) = 0.0006796367469236686\n",
      "3900 0.00014459571244092501 \tLoss(validation) = 0.000649560078245774\n",
      "4000 0.00016568719222871198 \tLoss(validation) = 0.0008276983633728662\n",
      "4100 0.00012288095597347179 \tLoss(validation) = 0.0005909264931871201\n",
      "4200 0.00011337156127726583 \tLoss(validation) = 0.0005608081754647265\n",
      "4300 0.0001130017089392494 \tLoss(validation) = 0.0005337947910964558\n",
      "4400 9.735652552237695e-05 \tLoss(validation) = 0.0005043490015217186\n",
      "4500 9.022586987055955e-05 \tLoss(validation) = 0.0004758343665933015\n",
      "4600 0.00012739978366569214 \tLoss(validation) = 0.0004519691399893417\n",
      "4700 7.822974933703583e-05 \tLoss(validation) = 0.0004239184570564491\n",
      "4800 7.288552890288356e-05 \tLoss(validation) = 0.00039839495730438083\n",
      "4900 6.805869779363943e-05 \tLoss(validation) = 0.0003738455475738046\n",
      "5000 6.363867618119424e-05 \tLoss(validation) = 0.000351880296206109\n",
      "5100 5.9537933382911207e-05 \tLoss(validation) = 0.0003296560635331617\n",
      "5200 6.87134525730644e-05 \tLoss(validation) = 0.00032056865957334486\n",
      "5300 5.257933620664997e-05 \tLoss(validation) = 0.0002908157111177087\n",
      "5400 4.942697129722614e-05 \tLoss(validation) = 0.00027254187541716124\n",
      "5500 5.556451923386869e-05 \tLoss(validation) = 0.00026071346591063785\n",
      "5600 4.404199844204547e-05 \tLoss(validation) = 0.0002407698459669846\n",
      "5700 6.496836406804152e-05 \tLoss(validation) = 0.00026500035565665966\n",
      "5800 3.95256663882934e-05 \tLoss(validation) = 0.00021379153569273552\n",
      "5900 3.7380465405960526e-05 \tLoss(validation) = 0.00020127490321100394\n",
      "6000 3.6958482803084723e-05 \tLoss(validation) = 0.00019099690860113706\n",
      "6100 4.933634172128225e-05 \tLoss(validation) = 0.00020317182444532425\n",
      "6200 3.216934448366349e-05 \tLoss(validation) = 0.0001709222940527933\n",
      "6300 4.607167605685117e-05 \tLoss(validation) = 0.00018643715370663777\n",
      "6400 2.926011910767861e-05 \tLoss(validation) = 0.0001548662106705607\n",
      "6500 0.00010413994761420183 \tLoss(validation) = 0.00020468838247409798\n",
      "6600 3.771685719811494e-05 \tLoss(validation) = 0.00014333556097034485\n",
      "6700 2.5405473031402603e-05 \tLoss(validation) = 0.00013569616324652804\n",
      "6800 2.5912704384723975e-05 \tLoss(validation) = 0.00013175062031358837\n",
      "6900 2.4242905436218517e-05 \tLoss(validation) = 0.00012859859556389692\n",
      "7000 2.2941640122811473e-05 \tLoss(validation) = 0.00012145156043965577\n",
      "7100 4.408093095652529e-05 \tLoss(validation) = 0.0001578610620126029\n",
      "7200 2.053865791585071e-05 \tLoss(validation) = 0.00011462273022393136\n",
      "7300 4.827137949920463e-05 \tLoss(validation) = 0.00013904795703450194\n",
      "7400 0.00011417044081729072 \tLoss(validation) = 0.00022563260910194284\n",
      "7500 1.8241713306605782e-05 \tLoss(validation) = 0.00010631740443323174\n",
      "7600 2.478860386671886e-05 \tLoss(validation) = 0.00010624200931244147\n",
      "7700 5.836700388678387e-05 \tLoss(validation) = 0.00012729360234062253\n",
      "7800 2.53333997935258e-05 \tLoss(validation) = 0.00011516967642896363\n",
      "7900 1.5758368560042495e-05 \tLoss(validation) = 9.903676142865936e-05\n",
      "8000 1.5451831499982066e-05 \tLoss(validation) = 9.754739776202944e-05\n",
      "8100 1.4803903587790566e-05 \tLoss(validation) = 9.622883504687571e-05\n",
      "8200 2.3134154020665765e-05 \tLoss(validation) = 0.00010107882902882088\n",
      "8300 1.3587491073927923e-05 \tLoss(validation) = 9.403405514373779e-05\n",
      "8400 1.334153363768997e-05 \tLoss(validation) = 9.27184619060678e-05\n",
      "8500 1.3449344732975626e-05 \tLoss(validation) = 9.421032666107702e-05\n",
      "8600 1.2888687197842548e-05 \tLoss(validation) = 9.187385332766257e-05\n",
      "8700 1.8471174878548206e-05 \tLoss(validation) = 9.322018244515018e-05\n",
      "8800 6.645624737547007e-05 \tLoss(validation) = 0.00011855709352157535\n",
      "8900 1.464211095341686e-05 \tLoss(validation) = 9.430468388195776e-05\n",
      "9000 0.0004723967500643316 \tLoss(validation) = 0.0005838245518911768\n",
      "9100 1.0486984504246719e-05 \tLoss(validation) = 8.908846546189887e-05\n",
      "9200 0.00011645813103154545 \tLoss(validation) = 0.00019026314135555262\n",
      "9300 9.88341875375154e-06 \tLoss(validation) = 8.852939698455361e-05\n",
      "9400 1.0402833132678938e-05 \tLoss(validation) = 8.962442557039992e-05\n",
      "9500 2.9023461736481867e-05 \tLoss(validation) = 0.00011082367517473823\n",
      "9600 9.159868361679964e-06 \tLoss(validation) = 8.835371555388093e-05\n",
      "9700 1.2173650576917762e-05 \tLoss(validation) = 9.160659619447093e-05\n",
      "9800 1.0421127492385578e-05 \tLoss(validation) = 9.032800703508753e-05\n",
      "9900 1.3089816802418094e-05 \tLoss(validation) = 0.00010344303268866695\n"
     ]
    },
    {
     "data": {
      "text/plain": [
       "<mlnics.Losses.PINN_Loss at 0x12f2b5f60>"
      ]
     },
     "execution_count": 19,
     "metadata": {},
     "output_type": "execute_result"
    }
   ],
   "source": [
    "pinn_trainer = Training.PINNTrainer(\n",
    "    pinn_net, data, pinn_loss, optimizer,\n",
    "    input_normalization_pinn, num_epochs=10000, starting_epoch=starting_epoch\n",
    ")\n",
    "pinn_trainer.train()"
   ]
  },
  {
   "cell_type": "code",
   "execution_count": null,
   "metadata": {},
   "outputs": [],
   "source": [
    "fig, ax = Training.plot_loss(pinn_net)"
   ]
  },
  {
   "cell_type": "code",
   "execution_count": null,
   "metadata": {},
   "outputs": [],
   "source": [
    "_ = ErrorAnalysis.error_analysis_fixed_net(\n",
    "    pinn_net, test_mu, input_normalization_pinn, output_normalization_pinn\n",
    ")"
   ]
  },
  {
   "cell_type": "code",
   "execution_count": null,
   "metadata": {},
   "outputs": [],
   "source": [
    "ErrorAnalysis.plot_solution_difference(\n",
    "    pinn_net, (8.0, -1.0), input_normalization_pinn, output_normalization_pinn\n",
    ")"
   ]
  },
  {
   "cell_type": "code",
   "execution_count": 15,
   "metadata": {
    "scrolled": true
   },
   "outputs": [],
   "source": [
    "input_normalization_pdnn = Normalization.StandardNormalization(input_normalization=True)\n",
    "output_normalization_pdnn = Normalization.StandardNormalization()\n",
    "\n",
    "pdnn_net  = NN.RONN(\"PDNN\", problem, reduction_method, n_hidden=2, n_neurons=40)\n",
    "pdnn_loss = Losses.PDNN_Loss(pdnn_net, output_normalization_pdnn)\n",
    "data      = RONNData.RONNDataLoader(pdnn_net, validation_proportion=0.2)\n",
    "optimizer = torch.optim.Adam(pdnn_net.parameters(), lr=0.001)\n",
    "\n",
    "loaded, starting_epoch = IO.initialize_parameters(\n",
    "    pdnn_net, data, optimizer, \n",
    "    by_validation=True\n",
    ")"
   ]
  },
  {
   "cell_type": "code",
   "execution_count": 16,
   "metadata": {
    "scrolled": true
   },
   "outputs": [
    {
     "name": "stdout",
     "output_type": "stream",
     "text": [
      "0 1.1213296205498073 \tLoss(validation) = 0.9281168327057925\n",
      "100 0.31086133479936956 \tLoss(validation) = 0.4616474151444268\n",
      "200 0.02490030156411408 \tLoss(validation) = 0.09691212773556565\n",
      "300 0.009846360513376019 \tLoss(validation) = 0.05836793379213525\n",
      "400 0.004984163710644438 \tLoss(validation) = 0.03773956109960729\n",
      "500 0.003144209236175239 \tLoss(validation) = 0.030493420968079093\n",
      "600 0.002011793033329381 \tLoss(validation) = 0.025605110460427814\n",
      "700 0.001340365235292198 \tLoss(validation) = 0.021524368573844425\n",
      "800 0.0009436352743937481 \tLoss(validation) = 0.018052556997248247\n",
      "900 0.0007010564212842435 \tLoss(validation) = 0.015272778532505998\n",
      "1000 0.0005467755265220757 \tLoss(validation) = 0.013126061553799185\n",
      "1100 0.00044513133525907216 \tLoss(validation) = 0.011477113719900314\n",
      "1200 0.00037560181780620105 \tLoss(validation) = 0.010196651806663546\n",
      "1300 0.00032594253203211505 \tLoss(validation) = 0.009187429151189377\n",
      "1400 0.000288210907334858 \tLoss(validation) = 0.0083810085066203\n",
      "1500 0.0002585538588230267 \tLoss(validation) = 0.007729847793775615\n",
      "1600 0.00023426883992789879 \tLoss(validation) = 0.007199058268427922\n",
      "1700 0.0002142082580515774 \tLoss(validation) = 0.006762544758336639\n",
      "1800 0.0001971551130981108 \tLoss(validation) = 0.00639986403077826\n",
      "1900 0.0001853273968405058 \tLoss(validation) = 0.006120200749514484\n",
      "2000 0.00016994411407660162 \tLoss(validation) = 0.0058385366741514535\n",
      "2100 0.00015879605421564513 \tLoss(validation) = 0.0056179973511147705\n",
      "2200 0.00016505196328622522 \tLoss(validation) = 0.005495473129093898\n",
      "2300 0.00013937335385159758 \tLoss(validation) = 0.005271718447064555\n",
      "2400 0.00013076059760652576 \tLoss(validation) = 0.005134274216366689\n",
      "2500 0.00012272236892146176 \tLoss(validation) = 0.005016766206238599\n",
      "2600 0.00011575629674491535 \tLoss(validation) = 0.004915470298811673\n",
      "2700 0.00010768204834634253 \tLoss(validation) = 0.004822529119984855\n",
      "2800 0.00010067702025146515 \tLoss(validation) = 0.004741911633782449\n",
      "2900 9.444982930180037e-05 \tLoss(validation) = 0.004670283941067142\n",
      "3000 0.0001316764076093935 \tLoss(validation) = 0.004621676730810567\n",
      "3100 8.128157785412411e-05 \tLoss(validation) = 0.004555696408308655\n",
      "3200 0.00011988210514759999 \tLoss(validation) = 0.004552691822178746\n",
      "3300 6.973616353945873e-05 \tLoss(validation) = 0.004457224565103048\n",
      "3400 7.470287696321253e-05 \tLoss(validation) = 0.004411920452879625\n",
      "3500 5.9286099331385634e-05 \tLoss(validation) = 0.004372419674964105\n",
      "3600 5.679824490929446e-05 \tLoss(validation) = 0.0043329497719267335\n",
      "3700 4.9989457791658326e-05 \tLoss(validation) = 0.0042972536105031125\n",
      "3800 5.004815963443089e-05 \tLoss(validation) = 0.004267721614757485\n",
      "3900 4.4157567473737106e-05 \tLoss(validation) = 0.004233604314762099\n",
      "4000 3.81712860946078e-05 \tLoss(validation) = 0.0041959570484289815\n",
      "4100 5.118628803156076e-05 \tLoss(validation) = 0.004201146443888979\n",
      "4200 3.168878086481347e-05 \tLoss(validation) = 0.004134392450763753\n",
      "4300 3.227705796742196e-05 \tLoss(validation) = 0.004096370062295971\n",
      "4400 2.6286260521794776e-05 \tLoss(validation) = 0.0040755444529906445\n",
      "4500 3.293459244441913e-05 \tLoss(validation) = 0.004094509400735307\n",
      "4600 2.1806074386586627e-05 \tLoss(validation) = 0.004017551552448968\n",
      "4700 3.733443632995591e-05 \tLoss(validation) = 0.004008833459905243\n",
      "4800 1.8162152580732804e-05 \tLoss(validation) = 0.00395877914945004\n",
      "4900 1.6691831768723616e-05 \tLoss(validation) = 0.003934929440448474\n",
      "5000 1.5201800029126638e-05 \tLoss(validation) = 0.003896603170783798\n",
      "5100 1.701546426748142e-05 \tLoss(validation) = 0.003838622758975563\n",
      "5200 1.2997340881578635e-05 \tLoss(validation) = 0.0038382533890523986\n",
      "5300 1.1736666933449899e-05 \tLoss(validation) = 0.0038047329713638\n",
      "5400 1.0880906309745903e-05 \tLoss(validation) = 0.0037712699698997662\n",
      "5500 9.964157010025573e-06 \tLoss(validation) = 0.0037364739393877544\n",
      "5600 9.714535311032256e-06 \tLoss(validation) = 0.003702201712479123\n",
      "5700 8.520246741407215e-06 \tLoss(validation) = 0.0036703193335025134\n",
      "5800 4.5661487389485666e-05 \tLoss(validation) = 0.0036230642740436706\n",
      "5900 7.328811794408319e-06 \tLoss(validation) = 0.0036027189636659218\n",
      "6000 6.999130767370894e-06 \tLoss(validation) = 0.0035622286678570632\n",
      "6100 6.385061191690771e-06 \tLoss(validation) = 0.0035373998589456313\n",
      "6200 5.0581866763717734e-05 \tLoss(validation) = 0.003435874086216506\n",
      "6300 5.535949899414005e-06 \tLoss(validation) = 0.003475310489998655\n",
      "6400 5.182143789499912e-06 \tLoss(validation) = 0.0034448415976394814\n",
      "6500 5.5137461863853024e-06 \tLoss(validation) = 0.003416303378422933\n",
      "6600 4.578115162474058e-06 \tLoss(validation) = 0.0033907434717959915\n",
      "6700 4.606156954411459e-06 \tLoss(validation) = 0.003373614142512509\n",
      "6800 4.0844543254638325e-06 \tLoss(validation) = 0.0033359629975881293\n",
      "6900 3.864959662917662e-06 \tLoss(validation) = 0.0033160867896822933\n",
      "7000 4.229542233571069e-05 \tLoss(validation) = 0.0032760351783165673\n",
      "7100 3.4927622291228697e-06 \tLoss(validation) = 0.003275685879409755\n",
      "7200 3.3279514940999323e-06 \tLoss(validation) = 0.0032560873029213915\n",
      "7300 3.3127744319214495e-05 \tLoss(validation) = 0.003291128150137158\n",
      "7400 3.0502640856263422e-06 \tLoss(validation) = 0.003222289408932185\n",
      "7500 2.9267317630378543e-06 \tLoss(validation) = 0.0032061913968589864\n",
      "7600 3.694896744957751e-05 \tLoss(validation) = 0.0032489566361470026\n",
      "7700 2.7211675333608154e-06 \tLoss(validation) = 0.003177902515744205\n",
      "7800 2.74464901505607e-06 \tLoss(validation) = 0.003171869398870199\n",
      "7900 2.0791959459240916e-05 \tLoss(validation) = 0.003185568735527856\n",
      "8000 2.616701897384474e-06 \tLoss(validation) = 0.003138302507602309\n",
      "8100 2.445048516374019e-06 \tLoss(validation) = 0.003129591328271987\n",
      "8200 3.1137475740553163e-05 \tLoss(validation) = 0.003119981385712769\n",
      "8300 2.2621069708540294e-06 \tLoss(validation) = 0.003113505332381765\n",
      "8400 2.326549754851824e-06 \tLoss(validation) = 0.0031002733916442402\n",
      "8500 2.199417908339871e-06 \tLoss(validation) = 0.0031006191831690153\n",
      "8600 2.2678990505679975e-06 \tLoss(validation) = 0.0030777325786116973\n",
      "8700 2.1448231060820813e-06 \tLoss(validation) = 0.0030831579340440288\n",
      "8800 6.548959742628567e-06 \tLoss(validation) = 0.0030464943970062663\n",
      "8900 2.0034494456548486e-06 \tLoss(validation) = 0.0030742019600184514\n",
      "9000 1.1426615573696626e-05 \tLoss(validation) = 0.0032397335892078404\n",
      "9100 1.957253218102904e-06 \tLoss(validation) = 0.0030629098969967793\n",
      "9200 9.695809418446303e-06 \tLoss(validation) = 0.0030396786188138553\n",
      "9300 1.878194832047584e-06 \tLoss(validation) = 0.0030577841559405058\n",
      "9400 1.8418905859713722e-06 \tLoss(validation) = 0.003053874341233111\n",
      "9500 2.5450451403408364e-06 \tLoss(validation) = 0.003050133188490109\n",
      "9600 1.7939127793085432e-06 \tLoss(validation) = 0.0030519092727766314\n",
      "9700 3.212182389202119e-06 \tLoss(validation) = 0.0030387974628390433\n",
      "9800 7.79133333799218e-06 \tLoss(validation) = 0.0030664686999044644\n",
      "9900 2.957999554011379e-05 \tLoss(validation) = 0.003029662772272613\n"
     ]
    },
    {
     "data": {
      "text/plain": [
       "<mlnics.Losses.PDNN_Loss at 0x12f0fbbe0>"
      ]
     },
     "execution_count": 16,
     "metadata": {},
     "output_type": "execute_result"
    }
   ],
   "source": [
    "pdnn_trainer = Training.PDNNTrainer(\n",
    "    pdnn_net, data, pdnn_loss, optimizer,\n",
    "    input_normalization_pdnn, num_epochs=10000, starting_epoch=starting_epoch\n",
    ")\n",
    "pdnn_trainer.train()"
   ]
  },
  {
   "cell_type": "code",
   "execution_count": 17,
   "metadata": {},
   "outputs": [
    {
     "data": {
      "image/png": "[encoded data removed]",
      "text/plain": [
       "<Figure size 432x288 with 1 Axes>"
      ]
     },
     "metadata": {
      "needs_background": "light"
     },
     "output_type": "display_data"
    }
   ],
   "source": [
    "fig, ax = Training.plot_loss(pdnn_net)"
   ]
  },
  {
   "cell_type": "code",
   "execution_count": null,
   "metadata": {},
   "outputs": [],
   "source": [
    "_ = ErrorAnalysis.error_analysis_fixed_net(\n",
    "    pdnn_net, test_mu, input_normalization_pdnn, output_normalization_pdnn\n",
    ")"
   ]
  },
  {
   "cell_type": "code",
   "execution_count": null,
   "metadata": {},
   "outputs": [],
   "source": [
    "ErrorAnalysis.plot_solution_difference(\n",
    "    pdnn_net, (8.0, -1.0), input_normalization_pdnn, output_normalization_pdnn\n",
    ")"
   ]
  },
  {
   "cell_type": "code",
   "execution_count": 12,
   "metadata": {
    "scrolled": true
   },
   "outputs": [],
   "source": [
    "input_normalization_prnn = Normalization.StandardNormalization(input_normalization=True)\n",
    "output_normalization_prnn = Normalization.StandardNormalization()\n",
    "\n",
    "omega = 1.\n",
    "prnn_net  = NN.RONN(f\"PRNN_{omega}\", problem, reduction_method, n_hidden=2, n_neurons=40)\n",
    "prnn_loss = Losses.PRNN_Loss(prnn_net, output_normalization_prnn, omega=omega)\n",
    "data      = RONNData.RONNDataLoader(prnn_net, validation_proportion=0.2,\n",
    "                                    num_without_snapshots=100)\n",
    "optimizer = torch.optim.Adam(prnn_net.parameters(), lr=0.001)\n",
    "\n",
    "loaded, starting_epoch = IO.initialize_parameters(\n",
    "    prnn_net, data, optimizer, \n",
    "    by_validation=True\n",
    ")"
   ]
  },
  {
   "cell_type": "code",
   "execution_count": 13,
   "metadata": {
    "scrolled": true
   },
   "outputs": [
    {
     "name": "stdout",
     "output_type": "stream",
     "text": [
      "0 3.043749819205728 \tLoss(validation) = 2.613498617633369\n",
      "100 1.083758900185742 \tLoss(validation) = 1.1660659733211267\n",
      "200 0.1084410617263725 \tLoss(validation) = 0.19592235193033136\n",
      "300 0.07217814905281784 \tLoss(validation) = 0.15839276293417281\n",
      "400 0.046068585740646636 \tLoss(validation) = 0.11604312143709163\n",
      "500 0.030105140685326347 \tLoss(validation) = 0.08456265308998145\n",
      "600 0.021210449292125497 \tLoss(validation) = 0.06439433204895598\n",
      "700 0.0157041464996602 \tLoss(validation) = 0.050424512517427855\n",
      "800 0.011940387202018114 \tLoss(validation) = 0.040133966835480234\n",
      "900 0.009273594973299675 \tLoss(validation) = 0.03230546880116514\n",
      "1000 0.007350173993965564 \tLoss(validation) = 0.026239292199317366\n",
      "1100 0.005931587477932393 \tLoss(validation) = 0.021485279457963555\n",
      "1200 0.004858418031578122 \tLoss(validation) = 0.01772374772734435\n",
      "1300 0.0040273741240634195 \tLoss(validation) = 0.014717838656961055\n",
      "1400 0.003371047757787741 \tLoss(validation) = 0.012292469832896639\n",
      "1500 0.0028440271981103674 \tLoss(validation) = 0.010319431833529492\n",
      "1600 0.002414798896508214 \tLoss(validation) = 0.008704599224653938\n",
      "1700 0.002061069324945628 \tLoss(validation) = 0.0073775896104377\n",
      "1800 0.0017668478105791448 \tLoss(validation) = 0.006284274269191018\n",
      "1900 0.0015204791369345767 \tLoss(validation) = 0.005381973130818878\n",
      "2000 0.0013132765809901327 \tLoss(validation) = 0.004636354233859385\n",
      "2100 0.0011386013859758443 \tLoss(validation) = 0.004019551508614671\n",
      "2200 0.0009912410461388526 \tLoss(validation) = 0.003508757006159084\n",
      "2300 0.0008669697530609004 \tLoss(validation) = 0.003085205221163791\n",
      "2400 0.0008039493208341212 \tLoss(validation) = 0.002814998442662753\n",
      "2500 0.000675891603651991 \tLoss(validation) = 0.002445698150718241\n",
      "2600 0.0006151223871399714 \tLoss(validation) = 0.0022045283905797815\n",
      "2700 0.0005433715259470064 \tLoss(validation) = 0.0020088191941444525\n",
      "2800 0.0004963342910588369 \tLoss(validation) = 0.0018379443264157562\n",
      "2900 0.00044929660006508775 \tLoss(validation) = 0.001698662827511896\n",
      "3000 0.0011094731044125699 \tLoss(validation) = 0.0019710937679724583\n",
      "3100 0.00037980084142526824 \tLoss(validation) = 0.0014656081808543011\n",
      "3200 0.00035104022307062653 \tLoss(validation) = 0.0013680231578217096\n",
      "3300 0.0003295748561060024 \tLoss(validation) = 0.0012847183331672844\n",
      "3400 0.00030358699782181617 \tLoss(validation) = 0.0012023750766709644\n",
      "3500 0.00028312699220421064 \tLoss(validation) = 0.001129008529881583\n",
      "3600 0.00026485966234991726 \tLoss(validation) = 0.001063457995373664\n",
      "3700 0.00024782915740264997 \tLoss(validation) = 0.0010021989814298442\n",
      "3800 0.00023350973247151908 \tLoss(validation) = 0.0009809519667485901\n",
      "3900 0.00021816088258822658 \tLoss(validation) = 0.0008925434388479383\n",
      "4000 0.00020473865688504906 \tLoss(validation) = 0.0008430711871548823\n",
      "4100 0.00019383904736247344 \tLoss(validation) = 0.0007993609856315084\n",
      "4200 0.00018162853247929436 \tLoss(validation) = 0.0007554268771318111\n",
      "4300 0.00017092877306506063 \tLoss(validation) = 0.0007152729612648638\n",
      "4400 0.00022782080853628436 \tLoss(validation) = 0.0009061044296239525\n",
      "4500 0.00015187518474600638 \tLoss(validation) = 0.0006421151274157679\n",
      "4600 0.00014309641699250536 \tLoss(validation) = 0.0006086057356911746\n",
      "4700 0.00014712860976030483 \tLoss(validation) = 0.0005977819861088271\n",
      "4800 0.0001278530964768102 \tLoss(validation) = 0.000548698125354069\n",
      "4900 0.00012073885171876551 \tLoss(validation) = 0.0005208534075547569\n",
      "5000 0.00013051581953334084 \tLoss(validation) = 0.0005760400315674572\n",
      "5100 0.00010836075581988946 \tLoss(validation) = 0.00047116519696420347\n",
      "5200 0.00010261200301848851 \tLoss(validation) = 0.00044813480385463264\n",
      "5300 9.742747380495493e-05 \tLoss(validation) = 0.0004260327952915955\n",
      "5400 9.259888741309214e-05 \tLoss(validation) = 0.00040643215272011073\n",
      "5500 8.778172891588565e-05 \tLoss(validation) = 0.00038731834438432346\n",
      "5600 0.00011498478653284891 \tLoss(validation) = 0.00039166816634279627\n",
      "5700 7.985684920367608e-05 \tLoss(validation) = 0.0003522465510775813\n",
      "5800 7.576752992227695e-05 \tLoss(validation) = 0.00033666260601684743\n",
      "5900 0.0001630304042737142 \tLoss(validation) = 0.0004416747388144456\n",
      "6000 6.908714031855156e-05 \tLoss(validation) = 0.0003081841200274811\n",
      "6100 6.598435297388773e-05 \tLoss(validation) = 0.00029489470152775903\n",
      "6200 6.319577781433268e-05 \tLoss(validation) = 0.00028259484234987263\n",
      "6300 0.00018452487910185054 \tLoss(validation) = 0.00038742939144259677\n",
      "6400 5.7991726153864206e-05 \tLoss(validation) = 0.00026084253574469574\n",
      "6500 0.0005700549897399092 \tLoss(validation) = 0.0006122966197465351\n",
      "6600 5.349217195711994e-05 \tLoss(validation) = 0.00024210847006169057\n",
      "6700 5.13603016813919e-05 \tLoss(validation) = 0.00023314696878653037\n",
      "6800 5.284868561908171e-05 \tLoss(validation) = 0.0002262676517305965\n",
      "6900 0.0004868413986202476 \tLoss(validation) = 0.00039188176697796525\n",
      "7000 4.580023653700095e-05 \tLoss(validation) = 0.00021104518193113512\n",
      "7100 9.96246364545631e-05 \tLoss(validation) = 0.00033747354193187413\n",
      "7200 4.252910981819072e-05 \tLoss(validation) = 0.00019939005664472854\n",
      "7300 4.095459651955922e-05 \tLoss(validation) = 0.00019366380459598858\n",
      "7400 4.018935005439398e-05 \tLoss(validation) = 0.00019013437475448686\n",
      "7500 3.811110588032301e-05 \tLoss(validation) = 0.0001847107580556713\n",
      "7600 3.73494305323487e-05 \tLoss(validation) = 0.00018273506163887053\n",
      "7700 3.552802618863571e-05 \tLoss(validation) = 0.00017801680877120363\n",
      "7800 3.4249159982341126e-05 \tLoss(validation) = 0.00017442414628659133\n",
      "7900 3.3157016513905045e-05 \tLoss(validation) = 0.00017331193989421784\n",
      "8000 3.1951616183446084e-05 \tLoss(validation) = 0.0001703556234893041\n",
      "8100 3.1286365735923993e-05 \tLoss(validation) = 0.00016813580406078776\n",
      "8200 3.004123156963387e-05 \tLoss(validation) = 0.0001670809152173128\n",
      "8300 2.8721893470460284e-05 \tLoss(validation) = 0.0001654095313666003\n",
      "8400 2.838405207076421e-05 \tLoss(validation) = 0.0001661868352548433\n",
      "8500 2.6885429253084145e-05 \tLoss(validation) = 0.00016461610011018574\n",
      "8600 0.00019578807850403662 \tLoss(validation) = 0.0002634613316209898\n",
      "8700 2.4995082739565515e-05 \tLoss(validation) = 0.0001644755226110193\n",
      "8800 2.6213644464847097e-05 \tLoss(validation) = 0.00016636725985388613\n",
      "8900 2.331085553615158e-05 \tLoss(validation) = 0.000165533685869097\n",
      "9000 6.936716170272866e-05 \tLoss(validation) = 0.0002134937393354227\n",
      "9100 2.870804343480472e-05 \tLoss(validation) = 0.00017139198434396144\n",
      "9200 2.922853384989349e-05 \tLoss(validation) = 0.0001733234516347233\n",
      "9300 2.0358267816213438e-05 \tLoss(validation) = 0.00016991757467861842\n",
      "9400 2.8351998567014758e-05 \tLoss(validation) = 0.00017812855073868897\n",
      "9500 1.908152079032801e-05 \tLoss(validation) = 0.00017275987379063742\n",
      "9600 1.9211234022093014e-05 \tLoss(validation) = 0.000176751771862062\n",
      "9700 1.791827579117962e-05 \tLoss(validation) = 0.00017581453882395723\n",
      "9800 2.1204040507434072e-05 \tLoss(validation) = 0.0001833338364004278\n",
      "9900 2.1778137020689405e-05 \tLoss(validation) = 0.00018569463612357108\n"
     ]
    },
    {
     "data": {
      "text/plain": [
       "<mlnics.Losses.PRNN_Loss at 0x12ea0c490>"
      ]
     },
     "execution_count": 13,
     "metadata": {},
     "output_type": "execute_result"
    }
   ],
   "source": [
    "prnn_trainer = Training.PRNNTrainer(\n",
    "    prnn_net, data, prnn_loss, optimizer,\n",
    "    input_normalization_prnn, num_epochs=10000, starting_epoch=starting_epoch\n",
    ")\n",
    "prnn_trainer.train()"
   ]
  },
  {
   "cell_type": "code",
   "execution_count": 14,
   "metadata": {},
   "outputs": [
    {
     "data": {
      "image/png": "[encoded data removed]",
      "text/plain": [
       "<Figure size 432x288 with 1 Axes>"
      ]
     },
     "metadata": {
      "needs_background": "light"
     },
     "output_type": "display_data"
    }
   ],
   "source": [
    "fig, ax = Training.plot_loss(prnn_net, separate=True)"
   ]
  },
  {
   "cell_type": "code",
   "execution_count": 21,
   "metadata": {},
   "outputs": [
    {
     "name": "stdout",
     "output_type": "stream",
     "text": [
      "#################################### N = 4 #####################################\n",
      "ERROR\tNN-HF\t\t\tNN-RO\t\t\tRO-HF\n",
      "min\t0.0007349936664470095\t0.0007350077629167113\t3.548215432614033e-07\n",
      "mean\t0.010864683935554047\t0.010864683929593374\t5.070341389591286e-07\n",
      "max\t0.3883096048903925\t0.388309607645923\t1.792591605054079e-06\n"
     ]
    }
   ],
   "source": [
    "_ = ErrorAnalysis.error_analysis_fixed_net(\n",
    "    prnn_net, test_mu, input_normalization_prnn, output_normalization_prnn\n",
    ")"
   ]
  },
  {
   "cell_type": "code",
   "execution_count": 20,
   "metadata": {},
   "outputs": [
    {
     "data": {
      "image/png": "[encoded data removed]",
      "text/plain": [
       "<Figure size 432x288 with 2 Axes>"
      ]
     },
     "metadata": {
      "needs_background": "light"
     },
     "output_type": "display_data"
    }
   ],
   "source": [
    "ErrorAnalysis.plot_solution_difference(\n",
    "    prnn_net, (8.0, -1.0), input_normalization_prnn, output_normalization_prnn\n",
    ")"
   ]
  },
  {
   "cell_type": "code",
   "execution_count": 22,
   "metadata": {
    "scrolled": true
   },
   "outputs": [
    {
     "name": "stdout",
     "output_type": "stream",
     "text": [
      "#####################################################################################\n",
      "Mean Relative Error for 4 Basis Functions\n",
      "Network\t\tNN-HF\t\t\tNN-RO\t\t\tRO-HF\n",
      "pinn_net\t0.006571303897476325\t0.006571304983211995\t5.070341389591286e-07\n",
      "pdnn_net\t0.011598849886865978\t0.011598850398900098\t5.070341389591286e-07\n",
      "prnn_net\t0.010864683935554047\t0.010864683929593374\t5.070341389591286e-07\n",
      "#####################################################################################\n"
     ]
    }
   ],
   "source": [
    "nets = dict()\n",
    "nets[\"pinn_net\"] = pinn_net\n",
    "nets[\"pdnn_net\"] = pdnn_net\n",
    "nets[\"prnn_net\"] = prnn_net\n",
    "\n",
    "input_normalizations = dict()\n",
    "input_normalizations[\"pinn_net\"] = input_normalization_pinn\n",
    "input_normalizations[\"pdnn_net\"] = input_normalization_pdnn\n",
    "input_normalizations[\"prnn_net\"] = input_normalization_prnn\n",
    "\n",
    "output_normalizations = dict()\n",
    "output_normalizations[\"pinn_net\"] = output_normalization_pinn\n",
    "output_normalizations[\"pdnn_net\"] = output_normalization_pdnn\n",
    "output_normalizations[\"prnn_net\"] = output_normalization_prnn\n",
    "\n",
    "_ = ErrorAnalysis.error_analysis_by_network(\n",
    "    nets, test_mu, input_normalizations, output_normalizations, euclidean=False\n",
    ")"
   ]
  },
  {
   "cell_type": "markdown",
   "metadata": {},
   "source": [
    "### 4.7. Perform an error analysis"
   ]
  },
  {
   "cell_type": "code",
   "execution_count": null,
   "metadata": {
    "scrolled": true
   },
   "outputs": [],
   "source": [
    "reduction_method.initialize_testing_set(100)\n",
    "reduction_method.error_analysis()"
   ]
  },
  {
   "cell_type": "markdown",
   "metadata": {},
   "source": [
    "### 4.8. Perform a speedup analysis"
   ]
  },
  {
   "cell_type": "code",
   "execution_count": null,
   "metadata": {},
   "outputs": [],
   "source": [
    "reduction_method.initialize_testing_set(100)\n",
    "reduction_method.speedup_analysis()"
   ]
  },
  {
   "cell_type": "code",
   "execution_count": null,
   "metadata": {},
   "outputs": [],
   "source": []
  }
 ],
 "metadata": {
  "kernelspec": {
   "display_name": "Python 3 (ipykernel)",
   "language": "python",
   "name": "python3"
  },
  "language_info": {
   "codemirror_mode": {
    "name": "ipython",
    "version": 3
   },
   "file_extension": ".py",
   "mimetype": "text/x-python",
   "name": "python",
   "nbconvert_exporter": "python",
   "pygments_lexer": "ipython3",
   "version": "3.10.4"
  }
 },
 "nbformat": 4,
 "nbformat_minor": 2
}
