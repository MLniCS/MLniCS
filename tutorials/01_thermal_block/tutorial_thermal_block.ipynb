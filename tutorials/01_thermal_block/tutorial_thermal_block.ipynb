{
 "cells": [
  {
   "cell_type": "markdown",
   "metadata": {},
   "source": [
    "## TUTORIAL 01 - Thermal block problem\n",
    "**_Keywords: certified reduced basis method, scalar problem_**\n",
    "\n",
    "### 1. Introduction\n",
    "In this Tutorial, we consider steady heat conduction in a two-dimensional domain $\\Omega$.\n",
    "\n",
    "We define two subdomains $\\Omega_1$ and $\\Omega_2$, such that\n",
    "1. $\\Omega_1$ is a disk centered at the origin of radius $r_0=0.5$, and\n",
    "2. $\\Omega_2=\\Omega/\\ \\overline{\\Omega_1}$. \n",
    "\n",
    "The conductivity $\\kappa$ is assumed to be constant on $\\Omega_1$ and $\\Omega_2$, i.e.\n",
    "$$\n",
    "\\kappa|_{\\Omega_1}=\\kappa_0 \\quad \\textrm{and} \\quad \\kappa|_{\\Omega_2}=1.\n",
    "$$\n",
    "\n",
    "For this problem, we consider $P=2$ parameters:\n",
    "1. the first one is related to the conductivity in $\\Omega_1$, i.e. $\\mu_0\\equiv k_0$ (_note that parameters numbering is zero-based_);\n",
    "2. the second parameter $\\mu_1$ takes into account the constant heat flux over $\\Gamma_{base}$.\n",
    "\n",
    "The parameter vector $\\boldsymbol{\\mu}$ is thus given by \n",
    "$$\n",
    "\\boldsymbol{\\mu} = (\\mu_0,\\mu_1)\n",
    "$$\n",
    "on the parameter domain\n",
    "$$\n",
    "\\mathbb{P}=[0.1,10]\\times[-1,1].\n",
    "$$\n",
    "\n",
    "In this problem we model the heat transfer process due to the heat flux over the bottom boundary $\\Gamma_{base}$ and the following conditions on the remaining boundaries:\n",
    "* the left and right boundaries $\\Gamma_{side}$ are insulated,\n",
    "* the top boundary $\\Gamma_{top}$ is kept at a reference temperature (say, zero),\n",
    "\n",
    "with the aim of measuring the average temperature on $\\Gamma_{base}$.\n",
    "\n",
    "In order to obtain a faster evaluation (yet, provably accurate) of the output of interest we propose to use a certified reduced basis approximation for the problem."
   ]
  },
  {
   "cell_type": "markdown",
   "metadata": {},
   "source": [
    "### 2. Parametrized formulation\n",
    "\n",
    "Let $u(\\boldsymbol{\\mu})$ be the temperature in the domain $\\Omega$.\n",
    "\n",
    "The strong formulation of the parametrized problem is given by: for a given parameter $\\boldsymbol{\\mu}\\in\\mathbb{P}$, find $u(\\boldsymbol{\\mu})$ such that\n",
    "\n",
    "$$\n",
    "\\begin{cases}\n",
    "\t- \\text{div} (\\kappa(\\mu_0)\\nabla u(\\boldsymbol{\\mu})) = 0 & \\text{in } \\Omega,\\\\\n",
    "\tu(\\boldsymbol{\\mu}) = 0 & \\text{on } \\Gamma_{top},\\\\\n",
    "\t\\kappa(\\mu_0)\\nabla u(\\boldsymbol{\\mu})\\cdot \\mathbf{n} = 0 & \\text{on } \\Gamma_{side},\\\\\n",
    "\t\\kappa(\\mu_0)\\nabla u(\\boldsymbol{\\mu})\\cdot \\mathbf{n} = \\mu_1 & \\text{on } \\Gamma_{base}.\n",
    "\\end{cases}\n",
    "$$\n",
    "<br>\n",
    "\n",
    "where \n",
    "* $\\mathbf{n}$ denotes the outer normal to the boundaries $\\Gamma_{side}$ and $\\Gamma_{base}$,\n",
    "* the conductivity $\\kappa(\\mu_0)$ is defined as follows:\n",
    "$$\n",
    "\\kappa(\\mu_0) =\n",
    "\\begin{cases}\n",
    "\t\\mu_0 & \\text{in } \\Omega_1,\\\\\n",
    "\t1 & \\text{in } \\Omega_2,\\\\\n",
    "\\end{cases}\n",
    "$$\n",
    "\n",
    "The corresponding weak formulation reads: for a given parameter $\\boldsymbol{\\mu}\\in\\mathbb{P}$, find $u(\\boldsymbol{\\mu})\\in\\mathbb{V}$ such that\n",
    "\n",
    "$$a\\left(u(\\boldsymbol{\\mu}),v;\\boldsymbol{\\mu}\\right)=f(v;\\boldsymbol{\\mu})\\quad \\forall v\\in\\mathbb{V}$$\n",
    "\n",
    "where\n",
    "\n",
    "* the function space $\\mathbb{V}$ is defined as\n",
    "$$\n",
    "\\mathbb{V} = \\{v\\in H^1(\\Omega) : v|_{\\Gamma_{top}}=0\\}\n",
    "$$\n",
    "* the parametrized bilinear form $a(\\cdot, \\cdot; \\boldsymbol{\\mu}): \\mathbb{V} \\times \\mathbb{V} \\to \\mathbb{R}$ is defined by\n",
    "$$a(u, v;\\boldsymbol{\\mu})=\\int_{\\Omega} \\kappa(\\mu_0)\\nabla u\\cdot \\nabla v \\ d\\boldsymbol{x},$$\n",
    "* the parametrized linear form $f(\\cdot; \\boldsymbol{\\mu}): \\mathbb{V} \\to \\mathbb{R}$ is defined by\n",
    "$$f(v; \\boldsymbol{\\mu})= \\mu_1\\int_{\\Gamma_{base}}v \\ ds.$$\n",
    "\n",
    "The (compliant) output of interest $s(\\boldsymbol{\\mu})$ given by\n",
    "$$s(\\boldsymbol{\\mu}) = \\mu_1\\int_{\\Gamma_{base}} u(\\boldsymbol{\\mu})$$\n",
    "is computed for each $\\boldsymbol{\\mu}$."
   ]
  },
  {
   "cell_type": "code",
   "execution_count": 1,
   "metadata": {},
   "outputs": [],
   "source": [
    "import os\n",
    "import sys\n",
    "sys.path.append('../../')\n",
    "\n",
    "from mlnics import NN, Losses, Normalization, RONNData, IO, Training, ErrorAnalysis\n",
    "from dolfin import *\n",
    "from rbnics import *\n",
    "import torch\n",
    "import numpy as np\n",
    "\n",
    "torch.manual_seed(0)\n",
    "np.random.seed(0)"
   ]
  },
  {
   "cell_type": "markdown",
   "metadata": {},
   "source": [
    "## 3. Affine decomposition\n",
    "\n",
    "For this problem the affine decomposition is straightforward:\n",
    "$$a(u,v;\\boldsymbol{\\mu})=\\underbrace{\\mu_0}_{\\Theta^{a}_0(\\boldsymbol{\\mu})}\\underbrace{\\int_{\\Omega_1}\\nabla u \\cdot \\nabla v \\ d\\boldsymbol{x}}_{a_0(u,v)} \\ + \\  \\underbrace{1}_{\\Theta^{a}_1(\\boldsymbol{\\mu})}\\underbrace{\\int_{\\Omega_2}\\nabla u \\cdot \\nabla v \\ d\\boldsymbol{x}}_{a_1(u,v)},$$\n",
    "$$f(v; \\boldsymbol{\\mu}) = \\underbrace{\\mu_1}_{\\Theta^{f}_0(\\boldsymbol{\\mu})} \\underbrace{\\int_{\\Gamma_{base}}v \\ ds}_{f_0(v)}.$$\n",
    "We will implement the numerical discretization of the problem in the class\n",
    "```\n",
    "class ThermalBlock(EllipticCoerciveCompliantProblem):\n",
    "```\n",
    "by specifying the coefficients $\\Theta^{a}_*(\\boldsymbol{\\mu})$ and $\\Theta^{f}_*(\\boldsymbol{\\mu})$ in the method\n",
    "```\n",
    "    def compute_theta(self, term):     \n",
    "```\n",
    "and the bilinear forms $a_*(u, v)$ and linear forms $f_*(v)$ in\n",
    "```\n",
    "    def assemble_operator(self, term):\n",
    "```"
   ]
  },
  {
   "cell_type": "code",
   "execution_count": 2,
   "metadata": {},
   "outputs": [],
   "source": [
    "class ThermalBlock(EllipticCoerciveCompliantProblem):\n",
    "\n",
    "    # Default initialization of members\n",
    "    def __init__(self, V, **kwargs):\n",
    "        # Call the standard initialization\n",
    "        EllipticCoerciveCompliantProblem.__init__(self, V, **kwargs)\n",
    "        # ... and also store FEniCS data structures for assembly\n",
    "        assert \"subdomains\" in kwargs\n",
    "        assert \"boundaries\" in kwargs\n",
    "        self.subdomains, self.boundaries = kwargs[\"subdomains\"], kwargs[\"boundaries\"]\n",
    "        self.u = TrialFunction(V)\n",
    "        self.v = TestFunction(V)\n",
    "        self.dx = Measure(\"dx\")(subdomain_data=self.subdomains)\n",
    "        self.ds = Measure(\"ds\")(subdomain_data=self.boundaries)\n",
    "\n",
    "    # Return custom problem name\n",
    "    def name(self):\n",
    "        return \"ThermalBlock\"\n",
    "\n",
    "    # Return the alpha_lower bound.\n",
    "    def get_stability_factor_lower_bound(self):\n",
    "        return min(self.compute_theta(\"a\"))\n",
    "\n",
    "    # Return theta multiplicative terms of the affine expansion of the problem.\n",
    "    def compute_theta(self, term):\n",
    "        mu = self.mu\n",
    "        if term == \"a\":\n",
    "            theta_a0 = mu[0]\n",
    "            theta_a1 = 1.\n",
    "            return (theta_a0, theta_a1)\n",
    "        elif term == \"f\":\n",
    "            theta_f0 = mu[1]\n",
    "            return (theta_f0,)\n",
    "        else:\n",
    "            raise ValueError(\"Invalid term for compute_theta().\")\n",
    "\n",
    "    # Return forms resulting from the discretization of the affine expansion of the problem operators.\n",
    "    def assemble_operator(self, term):\n",
    "        v = self.v\n",
    "        dx = self.dx\n",
    "        if term == \"a\":\n",
    "            u = self.u\n",
    "            a0 = inner(grad(u), grad(v)) * dx(1)\n",
    "            a1 = inner(grad(u), grad(v)) * dx(2)\n",
    "            return (a0, a1)\n",
    "        elif term == \"f\":\n",
    "            ds = self.ds\n",
    "            f0 = v * ds(1)\n",
    "            return (f0,)\n",
    "        elif term == \"dirichlet_bc\":\n",
    "            bc0 = [DirichletBC(self.V, Constant(0.0), self.boundaries, 3)]\n",
    "            return (bc0,)\n",
    "        elif term == \"inner_product\":\n",
    "            u = self.u\n",
    "            x0 = inner(grad(u), grad(v)) * dx\n",
    "            return (x0,)\n",
    "        else:\n",
    "            raise ValueError(\"Invalid term for assemble_operator().\")"
   ]
  },
  {
   "cell_type": "markdown",
   "metadata": {},
   "source": [
    "## 4. Main program\n",
    "### 4.1. Read the mesh for this problem\n",
    "The mesh was generated by the [data/generate_mesh.ipynb](data/generate_mesh.ipynb) notebook."
   ]
  },
  {
   "cell_type": "code",
   "execution_count": 3,
   "metadata": {},
   "outputs": [],
   "source": [
    "mesh = Mesh(\"data/thermal_block.xml\")\n",
    "subdomains = MeshFunction(\"size_t\", mesh, \"data/thermal_block_physical_region.xml\")\n",
    "boundaries = MeshFunction(\"size_t\", mesh, \"data/thermal_block_facet_region.xml\")"
   ]
  },
  {
   "cell_type": "markdown",
   "metadata": {},
   "source": [
    "### 4.2. Create Finite Element space (Lagrange P1)"
   ]
  },
  {
   "cell_type": "code",
   "execution_count": 4,
   "metadata": {},
   "outputs": [],
   "source": [
    "V = FunctionSpace(mesh, \"Lagrange\", 1)"
   ]
  },
  {
   "cell_type": "markdown",
   "metadata": {},
   "source": [
    "### 4.3. Allocate an object of the ThermalBlock class"
   ]
  },
  {
   "cell_type": "code",
   "execution_count": 5,
   "metadata": {},
   "outputs": [],
   "source": [
    "problem = ThermalBlock(V, subdomains=subdomains, boundaries=boundaries)\n",
    "mu_range = [(0.1, 10.0), (-1.0, 1.0)]\n",
    "problem.set_mu_range(mu_range)"
   ]
  },
  {
   "cell_type": "markdown",
   "metadata": {},
   "source": [
    "### 4.4. Prepare reduction with a reduced basis method"
   ]
  },
  {
   "cell_type": "code",
   "execution_count": 6,
   "metadata": {},
   "outputs": [],
   "source": [
    "reduction_method = PODGalerkin(problem)#ReducedBasis(problem)\n",
    "reduction_method.set_Nmax(20)\n",
    "reduction_method.set_tolerance(1e-10)#1e-5)"
   ]
  },
  {
   "cell_type": "markdown",
   "metadata": {},
   "source": [
    "### 4.5. Perform the offline phase"
   ]
  },
  {
   "cell_type": "code",
   "execution_count": 7,
   "metadata": {
    "scrolled": true
   },
   "outputs": [],
   "source": [
    "reduction_method.initialize_training_set(100)\n",
    "reduced_problem = reduction_method.offline()"
   ]
  },
  {
   "cell_type": "markdown",
   "metadata": {},
   "source": [
    "### 4.5b Train the neural network"
   ]
  },
  {
   "cell_type": "code",
   "execution_count": 8,
   "metadata": {},
   "outputs": [],
   "source": [
    "reduction_method.initialize_testing_set(100)\n",
    "test_mu = torch.tensor(reduction_method.testing_set)"
   ]
  },
  {
   "cell_type": "code",
   "execution_count": 9,
   "metadata": {
    "scrolled": true
   },
   "outputs": [],
   "source": [
    "input_normalization_pinn = Normalization.StandardNormalization(input_normalization=True)\n",
    "output_normalization_pinn = Normalization.StandardNormalization()\n",
    "\n",
    "pinn_net  = NN.RONN(problem, reduction_method, n_hidden=2, n_neurons=40)\n",
    "pinn_loss = Losses.PINN_Loss(pinn_net, output_normalization_pinn)\n",
    "data      = RONNData.RONNDataLoader(pinn_net, validation_proportion=0.2, \n",
    "                                    num_without_snapshots=100)\n",
    "optimizer = torch.optim.Adam(pinn_net.parameters(), lr=0.001)\n",
    "\n",
    "loaded, starting_epoch = IO.initialize_parameters(\n",
    "    pinn_net, data, optimizer, \n",
    "    suffix=pinn_loss.name(), by_validation=True\n",
    ")"
   ]
  },
  {
   "cell_type": "code",
   "execution_count": 10,
   "metadata": {
    "scrolled": true
   },
   "outputs": [
    {
     "name": "stdout",
     "output_type": "stream",
     "text": [
      "0 1.7709647554883872 \tLoss(validation) = 1.502154839342027\n",
      "100 0.6771369346194789 \tLoss(validation) = 0.6369518005124916\n",
      "200 0.06286035535428149 \tLoss(validation) = 0.07098408564114751\n",
      "300 0.037320138412315226 \tLoss(validation) = 0.04865965281652305\n",
      "400 0.025022301764197497 \tLoss(validation) = 0.03514211258966928\n",
      "500 0.01847264061816743 \tLoss(validation) = 0.027784727786740092\n",
      "600 0.01365450921266705 \tLoss(validation) = 0.022321343210772875\n",
      "700 0.010077664227215838 \tLoss(validation) = 0.01787323648479532\n",
      "800 0.007545894868144834 \tLoss(validation) = 0.014392023991883069\n",
      "900 0.005788722421386207 \tLoss(validation) = 0.011730220145994594\n",
      "1000 0.004563104749665397 \tLoss(validation) = 0.009698988070153089\n",
      "1100 0.0036805132680291187 \tLoss(validation) = 0.008136806127829327\n",
      "1200 0.003056461432086978 \tLoss(validation) = 0.006947266102388733\n",
      "1300 0.0025447696479523256 \tLoss(validation) = 0.006042314349701559\n",
      "1400 0.0021614099570760243 \tLoss(validation) = 0.005327762947147844\n",
      "1500 0.001864068370510178 \tLoss(validation) = 0.004781645618857111\n",
      "1600 0.0016146953630590463 \tLoss(validation) = 0.004322784422764987\n",
      "1700 0.0014154340077405614 \tLoss(validation) = 0.003956188749450734\n",
      "1800 0.0012457986858401544 \tLoss(validation) = 0.0036313157892294188\n",
      "1900 0.0015383597727057414 \tLoss(validation) = 0.004026991852972551\n",
      "2000 0.000980523342970353 \tLoss(validation) = 0.0031105166972140432\n",
      "2100 0.0008748876849127144 \tLoss(validation) = 0.002894382719496211\n",
      "2200 0.0007936279684297371 \tLoss(validation) = 0.0026960768596999596\n",
      "2300 0.0007072910316005892 \tLoss(validation) = 0.0025316006963289925\n",
      "2400 0.0006373603427492387 \tLoss(validation) = 0.002372097943216523\n",
      "2500 0.0005790700861528821 \tLoss(validation) = 0.0022264021297449805\n",
      "2600 0.0005260672348536416 \tLoss(validation) = 0.0020935974730941233\n",
      "2700 0.0005049036488276396 \tLoss(validation) = 0.001969167748757249\n",
      "2800 0.0004404750569168041 \tLoss(validation) = 0.0018545891020093365\n",
      "2900 0.00040427354189759464 \tLoss(validation) = 0.00174427668607912\n",
      "3000 0.0003737326581556044 \tLoss(validation) = 0.0016474144921008057\n",
      "3100 0.00034525510681508747 \tLoss(validation) = 0.0015502759006072691\n",
      "3200 0.0010591070359585609 \tLoss(validation) = 0.0016758759918162453\n",
      "3300 0.0002972152117129255 \tLoss(validation) = 0.0013766136034668887\n",
      "3400 0.00027597587124582296 \tLoss(validation) = 0.0012957781266846335\n",
      "3500 0.00028738574302667244 \tLoss(validation) = 0.001258667147531986\n",
      "3600 0.00023908312684073514 \tLoss(validation) = 0.0011477191865471362\n",
      "3700 0.00022234040418263006 \tLoss(validation) = 0.0010781574248600856\n",
      "3800 0.00020799225008934246 \tLoss(validation) = 0.0010136543140528756\n",
      "3900 0.0001933416644966732 \tLoss(validation) = 0.0009525335844959568\n",
      "4000 0.0016328041060027173 \tLoss(validation) = 0.0017431686670271343\n",
      "4100 0.00016812158219049416 \tLoss(validation) = 0.0008392038174625642\n",
      "4200 0.00015655442041551484 \tLoss(validation) = 0.0007861088771000541\n",
      "4300 0.00015054483633374113 \tLoss(validation) = 0.000741066494562113\n",
      "4400 0.00013630013530763397 \tLoss(validation) = 0.0006905114146070863\n",
      "4500 0.00012765105147922627 \tLoss(validation) = 0.0006458631879604946\n",
      "4600 0.00011888644007334391 \tLoss(validation) = 0.0006060128779452358\n",
      "4700 0.00011094523628067202 \tLoss(validation) = 0.0005667772011005107\n",
      "4800 0.00010516755540263506 \tLoss(validation) = 0.0005309104106517909\n",
      "4900 9.714083584047189e-05 \tLoss(validation) = 0.0004965187699880621\n",
      "5000 9.06189667418829e-05 \tLoss(validation) = 0.00046383574877755093\n",
      "5100 0.00018763414837057375 \tLoss(validation) = 0.00043861966056271565\n",
      "5200 7.965532469364854e-05 \tLoss(validation) = 0.00040644413519678535\n",
      "5300 7.467084048316512e-05 \tLoss(validation) = 0.0003799844210935741\n",
      "5400 7.24702742068967e-05 \tLoss(validation) = 0.0003648385504086322\n",
      "5500 6.616746050082187e-05 \tLoss(validation) = 0.0003338687662827264\n",
      "5600 6.227924453810567e-05 \tLoss(validation) = 0.0003125164159767189\n",
      "5700 6.153173437349069e-05 \tLoss(validation) = 0.00029521757402203397\n",
      "5800 5.5665772544009636e-05 \tLoss(validation) = 0.0002755065102051408\n",
      "5900 0.0003825004757764614 \tLoss(validation) = 0.00030154973535332844\n",
      "6000 5.014257836626422e-05 \tLoss(validation) = 0.0002440588889838051\n",
      "6100 4.7616282752943976e-05 \tLoss(validation) = 0.00022962909856571266\n",
      "6200 6.368081880580914e-05 \tLoss(validation) = 0.00026615741698358925\n",
      "6300 4.336399556739874e-05 \tLoss(validation) = 0.00020508392433584078\n",
      "6400 4.140565489923712e-05 \tLoss(validation) = 0.00019380551543852164\n",
      "6500 8.556989924450401e-05 \tLoss(validation) = 0.0002098444513038796\n",
      "6600 3.813550573199395e-05 \tLoss(validation) = 0.00017511720776406276\n",
      "6700 3.6599077050819494e-05 \tLoss(validation) = 0.00016645496951893734\n",
      "6800 3.657025068470592e-05 \tLoss(validation) = 0.00016272704319618257\n",
      "6900 0.00012264937767950438 \tLoss(validation) = 0.0002515659944775215\n",
      "7000 3.274161180113586e-05 \tLoss(validation) = 0.0001453342358384131\n",
      "7100 0.0006227490034335203 \tLoss(validation) = 0.00024964691163168015\n",
      "7200 3.05827011472705e-05 \tLoss(validation) = 0.00013462131134343668\n",
      "7300 2.951856961226387e-05 \tLoss(validation) = 0.00012958414031002987\n",
      "7400 3.327453689637605e-05 \tLoss(validation) = 0.0001303026272435191\n",
      "7500 2.7679202229302583e-05 \tLoss(validation) = 0.00012149062795351925\n",
      "7600 6.717544686699808e-05 \tLoss(validation) = 0.000134994034727733\n",
      "7700 2.6022364911968355e-05 \tLoss(validation) = 0.00011522834298452586\n",
      "7800 2.5280597909512142e-05 \tLoss(validation) = 0.00011235158509085541\n",
      "7900 2.4846081901687037e-05 \tLoss(validation) = 0.00011044364299881236\n",
      "8000 2.371527975555114e-05 \tLoss(validation) = 0.00010768976466251213\n",
      "8100 2.864417404270283e-05 \tLoss(validation) = 0.00010785818768097697\n",
      "8200 2.232758519813386e-05 \tLoss(validation) = 0.00010450546587917717\n",
      "8300 2.21659081832533e-05 \tLoss(validation) = 0.00010315142186590866\n",
      "8400 2.1032544134196398e-05 \tLoss(validation) = 0.00010221083681530943\n",
      "8500 4.375614924777598e-05 \tLoss(validation) = 0.00012939865449791856\n",
      "8600 9.752078760691687e-05 \tLoss(validation) = 0.00020069610553351253\n",
      "8700 1.914296640203207e-05 \tLoss(validation) = 9.900819980392496e-05\n",
      "8800 1.880773879190613e-05 \tLoss(validation) = 9.83671776580348e-05\n",
      "8900 1.8070021904069943e-05 \tLoss(validation) = 9.764690714922448e-05\n",
      "9000 3.0147298095427582e-05 \tLoss(validation) = 0.00010427723513361316\n",
      "9100 1.6664683024731936e-05 \tLoss(validation) = 9.6717172562339e-05\n",
      "9200 1.6733642448165207e-05 \tLoss(validation) = 9.694480823567034e-05\n",
      "9300 1.6278671120391786e-05 \tLoss(validation) = 0.00010104998970267892\n",
      "9400 6.545023956293254e-05 \tLoss(validation) = 0.00012286261168198534\n",
      "9500 1.4424756665338735e-05 \tLoss(validation) = 9.559677058112914e-05\n",
      "9600 1.4169590691462958e-05 \tLoss(validation) = 9.630213070775007e-05\n",
      "9700 1.3611217231657188e-05 \tLoss(validation) = 9.558212919646922e-05\n",
      "9800 1.307428829172216e-05 \tLoss(validation) = 9.575116321699652e-05\n",
      "9900 1.2635163741344817e-05 \tLoss(validation) = 9.539322800130074e-05\n"
     ]
    },
    {
     "data": {
      "text/plain": [
       "<mlnics.Losses.PINN_Loss at 0x129608fd0>"
      ]
     },
     "execution_count": 10,
     "metadata": {},
     "output_type": "execute_result"
    }
   ],
   "source": [
    "Training.normalize_and_train_pinn(\n",
    "    pinn_net, data, pinn_loss, optimizer,\n",
    "    input_normalization_pinn, epochs=10000, starting_epoch=starting_epoch\n",
    ")"
   ]
  },
  {
   "cell_type": "code",
   "execution_count": 11,
   "metadata": {},
   "outputs": [
    {
     "data": {
      "image/png": "[encoded data removed]",
      "text/plain": [
       "<Figure size 432x288 with 1 Axes>"
      ]
     },
     "metadata": {
      "needs_background": "light"
     },
     "output_type": "display_data"
    }
   ],
   "source": [
    "fig, ax = Training.plot_loss(pinn_net)"
   ]
  },
  {
   "cell_type": "code",
   "execution_count": 12,
   "metadata": {},
   "outputs": [
    {
     "name": "stdout",
     "output_type": "stream",
     "text": [
      "#################################### N = 4 #####################################\n",
      "ERROR\tNN-HF\t\t\tNN-RO\t\t\tRO-HF\n",
      "min\t0.00018018947299983958\t0.0001801911476972098\t3.548215432614033e-07\n",
      "mean\t0.009128474416621474\t0.009128476768022495\t5.070341389591286e-07\n",
      "max\t0.3980618671439147\t0.39806188288956934\t1.792591605054079e-06\n"
     ]
    }
   ],
   "source": [
    "_ = ErrorAnalysis.error_analysis_fixed_net(\n",
    "    pinn_net, test_mu, input_normalization_pinn, output_normalization_pinn\n",
    ")"
   ]
  },
  {
   "cell_type": "code",
   "execution_count": 13,
   "metadata": {},
   "outputs": [
    {
     "data": {
      "image/png": "[encoded data removed]",
      "text/plain": [
       "<Figure size 432x288 with 2 Axes>"
      ]
     },
     "metadata": {
      "needs_background": "light"
     },
     "output_type": "display_data"
    }
   ],
   "source": [
    "ErrorAnalysis.plot_solution_difference(\n",
    "    pinn_net, (8.0, -1.0), input_normalization_pinn, output_normalization_pinn\n",
    ")"
   ]
  },
  {
   "cell_type": "code",
   "execution_count": 14,
   "metadata": {
    "scrolled": true
   },
   "outputs": [],
   "source": [
    "input_normalization_pdnn = Normalization.StandardNormalization(input_normalization=True)\n",
    "output_normalization_pdnn = Normalization.StandardNormalization()\n",
    "\n",
    "pdnn_net  = NN.RONN(problem, reduction_method, n_hidden=2, n_neurons=40)\n",
    "pdnn_loss = Losses.PDNN_Loss(pdnn_net, output_normalization_pdnn)\n",
    "data      = RONNData.RONNDataLoader(pdnn_net, validation_proportion=0.2)\n",
    "optimizer = torch.optim.Adam(pdnn_net.parameters(), lr=0.001)\n",
    "\n",
    "loaded, starting_epoch = IO.initialize_parameters(\n",
    "    pdnn_net, data, optimizer, \n",
    "    suffix=pdnn_loss.name(), by_validation=True\n",
    ")"
   ]
  },
  {
   "cell_type": "code",
   "execution_count": 15,
   "metadata": {
    "scrolled": true
   },
   "outputs": [
    {
     "name": "stdout",
     "output_type": "stream",
     "text": [
      "0 0.9954960715594445 \tLoss(validation) = 1.2549901620453445\n",
      "100 0.11801497059146551 \tLoss(validation) = 0.13749405144005014\n",
      "200 0.026200391100130373 \tLoss(validation) = 0.02199461749626771\n",
      "300 0.009793393676366528 \tLoss(validation) = 0.008528400061681334\n",
      "400 0.005879293982661514 \tLoss(validation) = 0.0066561782289561834\n",
      "500 0.0037267267785916222 \tLoss(validation) = 0.0047423252849900155\n",
      "600 0.002355128350346999 \tLoss(validation) = 0.0031290482847434104\n",
      "700 0.0014849399864980404 \tLoss(validation) = 0.0019627259877376827\n",
      "800 0.0009626446077429775 \tLoss(validation) = 0.0012658916312420316\n",
      "900 0.000670275794612188 \tLoss(validation) = 0.0009200350004151394\n",
      "1000 0.000511797744639006 \tLoss(validation) = 0.0007673528786771711\n",
      "1100 0.00042128288846661054 \tLoss(validation) = 0.0006974837686046098\n",
      "1200 0.0003640395093148231 \tLoss(validation) = 0.0006592339015278496\n",
      "1300 0.00032431472563793377 \tLoss(validation) = 0.0006347718878603151\n",
      "1400 0.0002989405437712277 \tLoss(validation) = 0.000613979707109232\n",
      "1500 0.00026926486446442665 \tLoss(validation) = 0.000596328230345155\n",
      "1600 0.00024831027433311743 \tLoss(validation) = 0.0005811710442554368\n",
      "1700 0.00024087937253498173 \tLoss(validation) = 0.0005673573995831503\n",
      "1800 0.0002131195107702635 \tLoss(validation) = 0.0005552719253227097\n",
      "1900 0.00020426515190453062 \tLoss(validation) = 0.0005487896872313132\n",
      "2000 0.0001838106107299781 \tLoss(validation) = 0.0005346570271258026\n",
      "2100 0.0001756075860299111 \tLoss(validation) = 0.0005189059442490195\n",
      "2200 0.00015872155077855207 \tLoss(validation) = 0.0005184835861004299\n",
      "2300 0.0001476358096206079 \tLoss(validation) = 0.0005124543346440853\n",
      "2400 0.00013687381262200826 \tLoss(validation) = 0.0005029682076007726\n",
      "2500 0.00012724691388854383 \tLoss(validation) = 0.0004951196506236255\n",
      "2600 0.00011787729640744143 \tLoss(validation) = 0.00048574250399741303\n",
      "2700 0.00010980895770170832 \tLoss(validation) = 0.00048604176645651457\n",
      "2800 0.00010141496490475662 \tLoss(validation) = 0.0004678169124999824\n",
      "2900 9.405717313789327e-05 \tLoss(validation) = 0.00046118625981921604\n",
      "3000 0.00011526193190701329 \tLoss(validation) = 0.000530955655078223\n",
      "3100 8.849479867640841e-05 \tLoss(validation) = 0.00048083625941756523\n",
      "3200 7.382569663674268e-05 \tLoss(validation) = 0.0004333243299970395\n",
      "3300 6.942312701713962e-05 \tLoss(validation) = 0.0004225820223000493\n",
      "3400 6.61968979005905e-05 \tLoss(validation) = 0.00039765090122064595\n",
      "3500 5.742961336183366e-05 \tLoss(validation) = 0.00040253930799642273\n",
      "3600 5.451313065157395e-05 \tLoss(validation) = 0.00039537953270230036\n",
      "3700 4.8826681667547986e-05 \tLoss(validation) = 0.0003849002373817826\n",
      "3800 4.4140798219627285e-05 \tLoss(validation) = 0.000370916703111121\n",
      "3900 4.033262839376507e-05 \tLoss(validation) = 0.00036005185826849573\n",
      "4000 3.687861929250311e-05 \tLoss(validation) = 0.0003491330147423205\n",
      "4100 3.364006899318532e-05 \tLoss(validation) = 0.0003382350963276165\n",
      "4200 5.269585690286418e-05 \tLoss(validation) = 0.0003832703923358573\n",
      "4300 2.9003702051933135e-05 \tLoss(validation) = 0.00030836535651348817\n",
      "4400 2.732307343146351e-05 \tLoss(validation) = 0.00031932728557012755\n",
      "4500 2.6746606163192883e-05 \tLoss(validation) = 0.00032029628573600384\n",
      "4600 2.2617271637764027e-05 \tLoss(validation) = 0.00028991762940094585\n",
      "4700 5.341161245440621e-05 \tLoss(validation) = 0.00036423438872464184\n",
      "4800 3.1841828061095355e-05 \tLoss(validation) = 0.0002773476361627512\n",
      "4900 1.702536895533316e-05 \tLoss(validation) = 0.0002697093084425751\n",
      "5000 0.00011880569183981276 \tLoss(validation) = 0.0003274720179836314\n",
      "5100 2.258758713300793e-05 \tLoss(validation) = 0.00023397347491408978\n",
      "5200 1.3303628848954932e-05 \tLoss(validation) = 0.00024048754498324267\n",
      "5300 2.9672903751247e-05 \tLoss(validation) = 0.00022227817231101812\n",
      "5400 1.1613015287551544e-05 \tLoss(validation) = 0.00022596626809687816\n",
      "5500 1.0911208663869118e-05 \tLoss(validation) = 0.00021871578944152335\n",
      "5600 1.026198621480538e-05 \tLoss(validation) = 0.00021218138264354533\n",
      "5700 5.1217347944078397e-05 \tLoss(validation) = 0.00019264570126527398\n",
      "5800 1.3479563085266037e-05 \tLoss(validation) = 0.00019781104688332144\n",
      "5900 8.655023613629687e-06 \tLoss(validation) = 0.00019203047706975958\n",
      "6000 3.8055961932139595e-05 \tLoss(validation) = 0.00020491671103823323\n",
      "6100 4.8896021960872723e-05 \tLoss(validation) = 0.0001713735076686857\n",
      "6200 7.3944447722223505e-06 \tLoss(validation) = 0.00017263998960254486\n",
      "6300 7.190593507158045e-06 \tLoss(validation) = 0.00016666542358433713\n",
      "6400 8.087292201416704e-06 \tLoss(validation) = 0.00017528989269795028\n",
      "6500 6.38222040503499e-06 \tLoss(validation) = 0.0001543650239485259\n",
      "6600 7.174262547125495e-06 \tLoss(validation) = 0.00014774810784684746\n",
      "6700 5.996324906504631e-06 \tLoss(validation) = 0.00014499304164894783\n",
      "6800 2.7481087954591398e-05 \tLoss(validation) = 0.0001793635876961379\n",
      "6900 6.626382446107344e-05 \tLoss(validation) = 0.0001595009957260684\n",
      "7000 5.065015386050098e-06 \tLoss(validation) = 0.00012573291183134002\n",
      "7100 5.598342060253547e-06 \tLoss(validation) = 0.00012393319596078775\n",
      "7200 5.028370117373979e-06 \tLoss(validation) = 0.00011544053127849458\n",
      "7300 4.43795080116252e-06 \tLoss(validation) = 0.0001098824494236843\n",
      "7400 5.678091493962563e-06 \tLoss(validation) = 0.00010847128081356333\n",
      "7500 4.0946156821785965e-06 \tLoss(validation) = 0.00010001853787807924\n",
      "7600 3.986080165608114e-06 \tLoss(validation) = 9.51562110967079e-05\n",
      "7700 2.555201190135773e-05 \tLoss(validation) = 0.0001647121956466333\n",
      "7800 5.456835157394309e-06 \tLoss(validation) = 8.559721716350681e-05\n",
      "7900 3.442174969533732e-06 \tLoss(validation) = 8.153713222388445e-05\n",
      "8000 3.519572016286698e-06 \tLoss(validation) = 7.966132418907621e-05\n",
      "8100 3.191040829766805e-06 \tLoss(validation) = 7.25415132663124e-05\n",
      "8200 7.5480317750915144e-06 \tLoss(validation) = 6.88380073587066e-05\n",
      "8300 1.5531008995672267e-05 \tLoss(validation) = 8.040762215640035e-05\n",
      "8400 2.8212463250700115e-06 \tLoss(validation) = 6.209795707085388e-05\n",
      "8500 2.7681591558196287e-06 \tLoss(validation) = 5.787090255354408e-05\n",
      "8600 2.615584067111092e-06 \tLoss(validation) = 5.463840597495896e-05\n",
      "8700 6.651961272763936e-05 \tLoss(validation) = 5.524268530788155e-05\n",
      "8800 2.420125783454133e-06 \tLoss(validation) = 4.9118788491085175e-05\n",
      "8900 2.5444494108723347e-06 \tLoss(validation) = 5.0299009542117524e-05\n",
      "9000 2.2554316743897846e-06 \tLoss(validation) = 4.388263088237189e-05\n",
      "9100 3.5289684339321845e-06 \tLoss(validation) = 4.231111115470056e-05\n",
      "9200 2.120365497128359e-06 \tLoss(validation) = 3.878748445736495e-05\n",
      "9300 2.0417755168663192e-06 \tLoss(validation) = 3.722973346730468e-05\n",
      "9400 2.255479829028753e-06 \tLoss(validation) = 3.544925118593117e-05\n",
      "9500 1.917767206345139e-06 \tLoss(validation) = 3.311458855230961e-05\n",
      "9600 1.977595787640496e-06 \tLoss(validation) = 3.211449865620472e-05\n",
      "9700 2.3820166671019174e-06 \tLoss(validation) = 3.07187009122917e-05\n",
      "9800 1.7567424810460598e-06 \tLoss(validation) = 2.838273474755103e-05\n",
      "9900 1.7283575630648416e-06 \tLoss(validation) = 2.655509486868998e-05\n"
     ]
    },
    {
     "data": {
      "text/plain": [
       "<mlnics.Losses.PDNN_Loss at 0x13a246c20>"
      ]
     },
     "execution_count": 15,
     "metadata": {},
     "output_type": "execute_result"
    }
   ],
   "source": [
    "Training.normalize_and_train_pdnn(\n",
    "    pdnn_net, data, pdnn_loss, optimizer,\n",
    "    input_normalization_pdnn, epochs=10000, starting_epoch=starting_epoch\n",
    ")"
   ]
  },
  {
   "cell_type": "code",
   "execution_count": 16,
   "metadata": {},
   "outputs": [
    {
     "data": {
      "image/png": "[encoded data removed]",
      "text/plain": [
       "<Figure size 432x288 with 1 Axes>"
      ]
     },
     "metadata": {
      "needs_background": "light"
     },
     "output_type": "display_data"
    }
   ],
   "source": [
    "fig, ax = Training.plot_loss(pdnn_net)"
   ]
  },
  {
   "cell_type": "code",
   "execution_count": 17,
   "metadata": {},
   "outputs": [
    {
     "name": "stdout",
     "output_type": "stream",
     "text": [
      "#################################### N = 4 #####################################\n",
      "ERROR\tNN-HF\t\t\tNN-RO\t\t\tRO-HF\n",
      "min\t0.00018068645520686254\t0.0001806868809128583\t3.548215432614033e-07\n",
      "mean\t0.0042121788522789996\t0.004212177916428704\t5.070341389591286e-07\n",
      "max\t0.165828470586436\t0.16582848426929236\t1.792591605054079e-06\n"
     ]
    }
   ],
   "source": [
    "_ = ErrorAnalysis.error_analysis_fixed_net(\n",
    "    pdnn_net, test_mu, input_normalization_pdnn, output_normalization_pdnn\n",
    ")"
   ]
  },
  {
   "cell_type": "code",
   "execution_count": 18,
   "metadata": {},
   "outputs": [
    {
     "data": {
      "image/png": "[encoded data removed]",
      "text/plain": [
       "<Figure size 432x288 with 2 Axes>"
      ]
     },
     "metadata": {
      "needs_background": "light"
     },
     "output_type": "display_data"
    }
   ],
   "source": [
    "ErrorAnalysis.plot_solution_difference(\n",
    "    pdnn_net, (8.0, -1.0), input_normalization_pdnn, output_normalization_pdnn\n",
    ")"
   ]
  },
  {
   "cell_type": "code",
   "execution_count": 19,
   "metadata": {
    "scrolled": true
   },
   "outputs": [],
   "source": [
    "input_normalization_prnn = Normalization.StandardNormalization(input_normalization=True)\n",
    "output_normalization_prnn = Normalization.StandardNormalization()\n",
    "\n",
    "prnn_net  = NN.RONN(problem, reduction_method, n_hidden=2, n_neurons=40)\n",
    "prnn_loss = Losses.PRNN_Loss(prnn_net, output_normalization_prnn, omega=1.)\n",
    "data      = RONNData.RONNDataLoader(prnn_net, validation_proportion=0.2,\n",
    "                                    num_without_snapshots=100)\n",
    "optimizer = torch.optim.Adam(prnn_net.parameters(), lr=0.001)\n",
    "\n",
    "loaded, starting_epoch = IO.initialize_parameters(\n",
    "    prnn_net, data, optimizer, \n",
    "    suffix=prnn_loss.name(), by_validation=True\n",
    ")"
   ]
  },
  {
   "cell_type": "code",
   "execution_count": 20,
   "metadata": {
    "scrolled": true
   },
   "outputs": [
    {
     "name": "stdout",
     "output_type": "stream",
     "text": [
      "0 3.710692292262873 \tLoss(validation) = 3.0391787631512783\n",
      "100 1.20429524699261 \tLoss(validation) = 1.0574338241510954\n",
      "200 0.11885920090045163 \tLoss(validation) = 0.09612088102521715\n",
      "300 0.08934203493534998 \tLoss(validation) = 0.07131639214387367\n",
      "400 0.057164943826779654 \tLoss(validation) = 0.0437743019584906\n",
      "500 0.03671519738748899 \tLoss(validation) = 0.02559143324399554\n",
      "600 0.026250546813423765 \tLoss(validation) = 0.016285196608637927\n",
      "700 0.01997371990949845 \tLoss(validation) = 0.010753131409060143\n",
      "800 0.015560704814438359 \tLoss(validation) = 0.007143508303712359\n",
      "900 0.012273641002123813 \tLoss(validation) = 0.0048991296468469\n",
      "1000 0.009742584554386364 \tLoss(validation) = 0.003591715071494182\n",
      "1100 0.007741901035318249 \tLoss(validation) = 0.002885303930447074\n",
      "1200 0.006141643460933615 \tLoss(validation) = 0.002540836334811721\n",
      "1300 0.004865512968613956 \tLoss(validation) = 0.0023942395284921292\n",
      "1400 0.003858752918126217 \tLoss(validation) = 0.0023342990145829474\n",
      "1500 0.003073828284763414 \tLoss(validation) = 0.0022917293120549667\n",
      "1600 0.0024674555212716148 \tLoss(validation) = 0.0022319645165724987\n",
      "1700 0.0020016006897004145 \tLoss(validation) = 0.0021458117985020783\n",
      "1800 0.0016444369023841754 \tLoss(validation) = 0.002038061728756809\n",
      "1900 0.001370298147962962 \tLoss(validation) = 0.001917669725839681\n",
      "2000 0.0011589240387496137 \tLoss(validation) = 0.0017923682913689974\n",
      "2100 0.00099454299766008 \tLoss(validation) = 0.001667148502733428\n",
      "2200 0.0008650421544340145 \tLoss(validation) = 0.001544665522907078\n",
      "2300 0.0007612151656414198 \tLoss(validation) = 0.001425989355254972\n",
      "2400 0.000676153122035779 \tLoss(validation) = 0.0013112823492672189\n",
      "2500 0.0006047330125446763 \tLoss(validation) = 0.0012002832873325515\n",
      "2600 0.000543232219317371 \tLoss(validation) = 0.0010926963611581654\n",
      "2700 0.0004903625593772919 \tLoss(validation) = 0.0009918396653527898\n",
      "2800 0.00044442983127923884 \tLoss(validation) = 0.0008935772210987703\n",
      "2900 0.00040141404177166263 \tLoss(validation) = 0.0008038596555361346\n",
      "3000 0.00036348376760334704 \tLoss(validation) = 0.0007189720623178638\n",
      "3100 0.0003296555861892561 \tLoss(validation) = 0.0006401327045849302\n",
      "3200 0.0002989454527635079 \tLoss(validation) = 0.0005677846881864258\n",
      "3300 0.0002731212913798065 \tLoss(validation) = 0.0005091410877486442\n",
      "3400 0.0002477622162239694 \tLoss(validation) = 0.0004469144552429812\n",
      "3500 0.00027146224413787705 \tLoss(validation) = 0.00042954552305317736\n",
      "3600 0.00020769769664954224 \tLoss(validation) = 0.0003531171887069242\n",
      "3700 0.00019086235162413362 \tLoss(validation) = 0.00031455118893721124\n",
      "3800 0.00017640757948154972 \tLoss(validation) = 0.0002797287336965955\n",
      "3900 0.00016346344630334766 \tLoss(validation) = 0.0002539578442061924\n",
      "4000 0.00015178724657663928 \tLoss(validation) = 0.0002290497098896569\n",
      "4100 0.00014352179406046245 \tLoss(validation) = 0.0002042450291667033\n",
      "4200 0.00013247098024697624 \tLoss(validation) = 0.0001900847438403041\n",
      "4300 0.00015066026387194545 \tLoss(validation) = 0.00029484933098313974\n",
      "4400 0.00011715883315211706 \tLoss(validation) = 0.00016103554840694523\n",
      "4500 0.0001106270429558945 \tLoss(validation) = 0.0001492811221893806\n",
      "4600 0.0012805768496727777 \tLoss(validation) = 0.0008130114143620341\n",
      "4700 9.957788694692775e-05 \tLoss(validation) = 0.00013099509613474856\n",
      "4800 9.4780448931097e-05 \tLoss(validation) = 0.00012241880831602393\n",
      "4900 9.05312311690906e-05 \tLoss(validation) = 0.00011327833288980217\n",
      "5000 8.647588035622388e-05 \tLoss(validation) = 0.00011035502683136238\n",
      "5100 8.281819578339069e-05 \tLoss(validation) = 0.00010372500814424793\n",
      "5200 7.93498697846521e-05 \tLoss(validation) = 9.856620635161026e-05\n",
      "5300 7.784781038587183e-05 \tLoss(validation) = 0.00010075613078064216\n",
      "5400 7.332493877823698e-05 \tLoss(validation) = 8.982780628645219e-05\n",
      "5500 7.048448450727515e-05 \tLoss(validation) = 8.582200397777752e-05\n",
      "5600 8.178307672895442e-05 \tLoss(validation) = 8.212165979695955e-05\n",
      "5700 6.549975693354748e-05 \tLoss(validation) = 7.897083904584326e-05\n",
      "5800 6.311163585675279e-05 \tLoss(validation) = 7.577713459536047e-05\n",
      "5900 8.252741980788589e-05 \tLoss(validation) = 0.00010070852831009868\n",
      "6000 5.8619890705082765e-05 \tLoss(validation) = 7.017755181085385e-05\n",
      "6100 0.0001856714409342733 \tLoss(validation) = 0.00018587907007900034\n",
      "6200 5.758661499848402e-05 \tLoss(validation) = 7.118632722106522e-05\n",
      "6300 0.00033868802641765763 \tLoss(validation) = 0.00038242607922946045\n",
      "6400 5.058209974013172e-05 \tLoss(validation) = 6.025725291442109e-05\n",
      "6500 4.8678813822513635e-05 \tLoss(validation) = 5.763058466551453e-05\n",
      "6600 4.705969569263802e-05 \tLoss(validation) = 5.721779444695953e-05\n",
      "6700 4.56409969458254e-05 \tLoss(validation) = 5.473995645732276e-05\n",
      "6800 4.849226589521154e-05 \tLoss(validation) = 6.618590961952151e-05\n",
      "6900 6.417014771891805e-05 \tLoss(validation) = 8.411553146950739e-05\n",
      "7000 0.0006612354361319347 \tLoss(validation) = 0.0008535952656935592\n",
      "7100 3.847521191680452e-05 \tLoss(validation) = 4.771812607001867e-05\n",
      "7200 4.168556694123657e-05 \tLoss(validation) = 5.371957211393757e-05\n",
      "7300 3.5573500041824956e-05 \tLoss(validation) = 4.5826694378021605e-05\n",
      "7400 3.406853901983827e-05 \tLoss(validation) = 4.450100818414532e-05\n",
      "7500 3.288964529733417e-05 \tLoss(validation) = 4.322951084438775e-05\n",
      "7600 3.2253003668538784e-05 \tLoss(validation) = 4.4033564294342905e-05\n",
      "7700 0.00015803925045754068 \tLoss(validation) = 0.00015707167152188343\n",
      "7800 3.827871091802644e-05 \tLoss(validation) = 4.2805150846227397e-05\n",
      "7900 3.9620572227689485e-05 \tLoss(validation) = 5.5414671230430506e-05\n",
      "8000 0.0004229128351907481 \tLoss(validation) = 0.00043938594570109126\n",
      "8100 2.5190811320552476e-05 \tLoss(validation) = 3.9316594764668845e-05\n",
      "8200 2.442531078087033e-05 \tLoss(validation) = 3.918093369516766e-05\n",
      "8300 2.3621213736446263e-05 \tLoss(validation) = 3.9328671919437184e-05\n",
      "8400 3.992168679336278e-05 \tLoss(validation) = 5.185482488760304e-05\n",
      "8500 2.141318094100563e-05 \tLoss(validation) = 3.8491172232030614e-05\n",
      "8600 2.226114960842067e-05 \tLoss(validation) = 4.104059876896162e-05\n",
      "8700 1.987946528281377e-05 \tLoss(validation) = 3.830882429847288e-05\n",
      "8800 0.00010021859709116721 \tLoss(validation) = 0.0001487191583835496\n",
      "8900 1.841101489957901e-05 \tLoss(validation) = 3.847597683734642e-05\n",
      "9000 0.00018334065117818715 \tLoss(validation) = 0.00024057096267654553\n",
      "9100 1.894868949900006e-05 \tLoss(validation) = 4.061632825503697e-05\n",
      "9200 1.6630930631003146e-05 \tLoss(validation) = 3.8664565022818797e-05\n",
      "9300 1.6932351310943528e-05 \tLoss(validation) = 3.998126336728649e-05\n",
      "9400 1.611908668218496e-05 \tLoss(validation) = 3.98211483381978e-05\n",
      "9500 6.301546811065464e-05 \tLoss(validation) = 0.00011289104649918008\n",
      "9600 1.4803827292146579e-05 \tLoss(validation) = 3.89989924292966e-05\n",
      "9700 1.474557651555046e-05 \tLoss(validation) = 4.035326269413541e-05\n",
      "9800 1.4255446062914233e-05 \tLoss(validation) = 3.896163552555624e-05\n",
      "9900 6.156725599576522e-05 \tLoss(validation) = 9.529998152630419e-05\n"
     ]
    },
    {
     "data": {
      "text/plain": [
       "<mlnics.Losses.PRNN_Loss at 0x139fdfeb0>"
      ]
     },
     "execution_count": 20,
     "metadata": {},
     "output_type": "execute_result"
    }
   ],
   "source": [
    "Training.normalize_and_train_prnn(\n",
    "    prnn_net, data, prnn_loss, optimizer,\n",
    "    input_normalization_prnn, epochs=10000, starting_epoch=starting_epoch\n",
    ")"
   ]
  },
  {
   "cell_type": "code",
   "execution_count": 21,
   "metadata": {},
   "outputs": [
    {
     "data": {
      "image/png": "[encoded data removed]",
      "text/plain": [
       "<Figure size 432x288 with 1 Axes>"
      ]
     },
     "metadata": {
      "needs_background": "light"
     },
     "output_type": "display_data"
    }
   ],
   "source": [
    "fig, ax = Training.plot_loss(prnn_net, separate=True)"
   ]
  },
  {
   "cell_type": "code",
   "execution_count": 22,
   "metadata": {},
   "outputs": [
    {
     "name": "stdout",
     "output_type": "stream",
     "text": [
      "#################################### N = 4 #####################################\n",
      "ERROR\tNN-HF\t\t\tNN-RO\t\t\tRO-HF\n",
      "min\t0.0016979670513752535\t0.0016979600251266918\t3.548215432614033e-07\n",
      "mean\t0.023502969380878244\t0.023502968952038152\t5.070341389591286e-07\n",
      "max\t1.3434333971349304\t1.3434334261777745\t1.792591605054079e-06\n"
     ]
    }
   ],
   "source": [
    "_ = ErrorAnalysis.error_analysis_fixed_net(\n",
    "    prnn_net, test_mu, input_normalization_prnn, output_normalization_prnn\n",
    ")"
   ]
  },
  {
   "cell_type": "code",
   "execution_count": 23,
   "metadata": {},
   "outputs": [
    {
     "data": {
      "image/png": "[encoded data removed]",
      "text/plain": [
       "<Figure size 432x288 with 2 Axes>"
      ]
     },
     "metadata": {
      "needs_background": "light"
     },
     "output_type": "display_data"
    }
   ],
   "source": [
    "ErrorAnalysis.plot_solution_difference(\n",
    "    prnn_net, (8.0, -1.0), input_normalization_prnn, output_normalization_prnn\n",
    ")"
   ]
  },
  {
   "cell_type": "code",
   "execution_count": 24,
   "metadata": {
    "scrolled": true
   },
   "outputs": [
    {
     "name": "stdout",
     "output_type": "stream",
     "text": [
      "#####################################################################################\n",
      "Mean Relative Error for 4 Basis Functions\n",
      "Network\t\tNN-HF\t\t\tNN-RO\t\t\tRO-HF\n",
      "pinn_net\t0.009128474416621474\t0.009128476768022495\t5.070341389591286e-07\n",
      "pdnn_net\t0.0042121788522789996\t0.004212177916428704\t5.070341389591286e-07\n",
      "prnn_net\t0.023502969380878244\t0.023502968952038152\t5.070341389591286e-07\n",
      "#####################################################################################\n"
     ]
    }
   ],
   "source": [
    "nets = dict()\n",
    "nets[\"pinn_net\"] = pinn_net\n",
    "nets[\"pdnn_net\"] = pdnn_net\n",
    "nets[\"prnn_net\"] = prnn_net\n",
    "\n",
    "input_normalizations = dict()\n",
    "input_normalizations[\"pinn_net\"] = input_normalization_pinn\n",
    "input_normalizations[\"pdnn_net\"] = input_normalization_pdnn\n",
    "input_normalizations[\"prnn_net\"] = input_normalization_prnn\n",
    "\n",
    "output_normalizations = dict()\n",
    "output_normalizations[\"pinn_net\"] = output_normalization_pinn\n",
    "output_normalizations[\"pdnn_net\"] = output_normalization_pdnn\n",
    "output_normalizations[\"prnn_net\"] = output_normalization_prnn\n",
    "\n",
    "_ = ErrorAnalysis.error_analysis_by_network(\n",
    "    nets, test_mu, input_normalizations, output_normalizations, euclidean=False\n",
    ")"
   ]
  },
  {
   "cell_type": "markdown",
   "metadata": {},
   "source": [
    "### 4.7. Perform an error analysis"
   ]
  },
  {
   "cell_type": "code",
   "execution_count": 25,
   "metadata": {
    "scrolled": true
   },
   "outputs": [
    {
     "name": "stdout",
     "output_type": "stream",
     "text": [
      "================================================================================\n",
      "=               ThermalBlock POD-Galerkin error analysis begins                =\n",
      "================================================================================\n",
      "\n",
      "###################################### 0 #######################################\n",
      "###################################### 1 #######################################\n",
      "###################################### 2 #######################################\n",
      "###################################### 3 #######################################\n",
      "###################################### 4 #######################################\n",
      "###################################### 5 #######################################\n",
      "###################################### 6 #######################################\n",
      "###################################### 7 #######################################\n",
      "###################################### 8 #######################################\n",
      "###################################### 9 #######################################\n",
      "###################################### 10 ######################################\n",
      "###################################### 11 ######################################\n",
      "###################################### 12 ######################################\n",
      "###################################### 13 ######################################\n",
      "###################################### 14 ######################################\n",
      "###################################### 15 ######################################\n",
      "###################################### 16 ######################################\n",
      "###################################### 17 ######################################\n",
      "###################################### 18 ######################################\n",
      "###################################### 19 ######################################\n",
      "###################################### 20 ######################################\n",
      "###################################### 21 ######################################\n",
      "###################################### 22 ######################################\n",
      "###################################### 23 ######################################\n",
      "###################################### 24 ######################################\n",
      "###################################### 25 ######################################\n",
      "###################################### 26 ######################################\n",
      "###################################### 27 ######################################\n",
      "###################################### 28 ######################################\n",
      "###################################### 29 ######################################\n",
      "###################################### 30 ######################################\n",
      "###################################### 31 ######################################\n",
      "###################################### 32 ######################################\n",
      "###################################### 33 ######################################\n",
      "###################################### 34 ######################################\n",
      "###################################### 35 ######################################\n",
      "###################################### 36 ######################################\n",
      "###################################### 37 ######################################\n",
      "###################################### 38 ######################################\n",
      "###################################### 39 ######################################\n",
      "###################################### 40 ######################################\n",
      "###################################### 41 ######################################\n",
      "###################################### 42 ######################################\n",
      "###################################### 43 ######################################\n",
      "###################################### 44 ######################################\n",
      "###################################### 45 ######################################\n",
      "###################################### 46 ######################################\n",
      "###################################### 47 ######################################\n",
      "###################################### 48 ######################################\n",
      "###################################### 49 ######################################\n",
      "###################################### 50 ######################################\n",
      "###################################### 51 ######################################\n",
      "###################################### 52 ######################################\n",
      "###################################### 53 ######################################\n",
      "###################################### 54 ######################################\n",
      "###################################### 55 ######################################\n",
      "###################################### 56 ######################################\n",
      "###################################### 57 ######################################\n",
      "###################################### 58 ######################################\n",
      "###################################### 59 ######################################\n",
      "###################################### 60 ######################################\n",
      "###################################### 61 ######################################\n",
      "###################################### 62 ######################################\n",
      "###################################### 63 ######################################\n",
      "###################################### 64 ######################################\n",
      "###################################### 65 ######################################\n",
      "###################################### 66 ######################################\n",
      "###################################### 67 ######################################\n",
      "###################################### 68 ######################################\n",
      "###################################### 69 ######################################\n",
      "###################################### 70 ######################################\n",
      "###################################### 71 ######################################\n",
      "###################################### 72 ######################################\n",
      "###################################### 73 ######################################\n",
      "###################################### 74 ######################################\n",
      "###################################### 75 ######################################\n",
      "###################################### 76 ######################################\n",
      "###################################### 77 ######################################\n",
      "###################################### 78 ######################################\n",
      "###################################### 79 ######################################\n",
      "###################################### 80 ######################################\n",
      "###################################### 81 ######################################\n",
      "###################################### 82 ######################################\n",
      "###################################### 83 ######################################\n",
      "###################################### 84 ######################################\n",
      "###################################### 85 ######################################\n",
      "###################################### 86 ######################################\n",
      "###################################### 87 ######################################\n",
      "###################################### 88 ######################################\n",
      "###################################### 89 ######################################\n",
      "###################################### 90 ######################################\n",
      "###################################### 91 ######################################\n",
      "###################################### 92 ######################################\n",
      "###################################### 93 ######################################\n",
      "###################################### 94 ######################################\n",
      "###################################### 95 ######################################\n",
      "###################################### 96 ######################################\n",
      "###################################### 97 ######################################\n"
     ]
    },
    {
     "name": "stdout",
     "output_type": "stream",
     "text": [
      "###################################### 98 ######################################\n",
      "###################################### 99 ######################################\n",
      "\n",
      "N\tgmean(error_u)        \tmax(error_u)          \tgmean(relative_error_u)\tmax(relative_error_u) \n",
      "1\t0.11275177641762783   \t0.8195182539018759    \t0.16486776801403993    \t0.5446031989422366    \n",
      "2\t0.0009016781236488201 \t0.012015686746355421  \t0.001318450710367942   \t0.008056270650019638  \n",
      "3\t1.3261126471717294e-05\t0.00016659535987189713\t1.9390668530541393e-05 \t0.00011169875983763633\n",
      "4\t2.1973705618927806e-07\t7.141903706394859e-06 \t3.213036561811362e-07  \t4.788499436584216e-06 \n",
      "\n",
      "N\tgmean(error_output)   \tmax(error_output)     \tgmean(relative_error_output)\tmax(relative_error_output)\n",
      "1\t0.012712963085365207  \t0.6716101684783986    \t0.027181380930005106        \t0.2965926442981213        \n",
      "2\t8.130234804979419e-07 \t0.0001443767279978303 \t1.738312365108095e-06       \t6.490349679144264e-05     \n",
      "3\t1.7586621413639273e-10\t2.7754025744286537e-08\t3.7601671042858997e-10      \t1.2476618259910894e-08    \n",
      "4\t5.774294908005737e-14 \t5.1017856605994893e-11\t1.2345926629596994e-13      \t2.2934702416744283e-11    \n",
      "\n",
      "================================================================================\n",
      "=                ThermalBlock POD-Galerkin error analysis ends                 =\n",
      "================================================================================\n",
      "\n"
     ]
    }
   ],
   "source": [
    "reduction_method.initialize_testing_set(100)\n",
    "reduction_method.error_analysis()"
   ]
  },
  {
   "cell_type": "markdown",
   "metadata": {},
   "source": [
    "### 4.8. Perform a speedup analysis"
   ]
  },
  {
   "cell_type": "code",
   "execution_count": 26,
   "metadata": {},
   "outputs": [
    {
     "name": "stdout",
     "output_type": "stream",
     "text": [
      "================================================================================\n",
      "=              ThermalBlock POD-Galerkin speedup analysis begins               =\n",
      "================================================================================\n",
      "\n",
      "###################################### 0 #######################################\n",
      "###################################### 1 #######################################\n",
      "###################################### 2 #######################################\n",
      "###################################### 3 #######################################\n",
      "###################################### 4 #######################################\n",
      "###################################### 5 #######################################\n",
      "###################################### 6 #######################################\n",
      "###################################### 7 #######################################\n",
      "###################################### 8 #######################################\n",
      "###################################### 9 #######################################\n",
      "###################################### 10 ######################################\n",
      "###################################### 11 ######################################\n",
      "###################################### 12 ######################################\n",
      "###################################### 13 ######################################\n",
      "###################################### 14 ######################################\n",
      "###################################### 15 ######################################\n",
      "###################################### 16 ######################################\n",
      "###################################### 17 ######################################\n",
      "###################################### 18 ######################################\n",
      "###################################### 19 ######################################\n",
      "###################################### 20 ######################################\n",
      "###################################### 21 ######################################\n",
      "###################################### 22 ######################################\n",
      "###################################### 23 ######################################\n",
      "###################################### 24 ######################################\n",
      "###################################### 25 ######################################\n",
      "###################################### 26 ######################################\n",
      "###################################### 27 ######################################\n",
      "###################################### 28 ######################################\n",
      "###################################### 29 ######################################\n",
      "###################################### 30 ######################################\n",
      "###################################### 31 ######################################\n",
      "###################################### 32 ######################################\n",
      "###################################### 33 ######################################\n",
      "###################################### 34 ######################################\n",
      "###################################### 35 ######################################\n",
      "###################################### 36 ######################################\n",
      "###################################### 37 ######################################\n",
      "###################################### 38 ######################################\n",
      "###################################### 39 ######################################\n",
      "###################################### 40 ######################################\n",
      "###################################### 41 ######################################\n",
      "###################################### 42 ######################################\n",
      "###################################### 43 ######################################\n",
      "###################################### 44 ######################################\n",
      "###################################### 45 ######################################\n",
      "###################################### 46 ######################################\n",
      "###################################### 47 ######################################\n",
      "###################################### 48 ######################################\n",
      "###################################### 49 ######################################\n",
      "###################################### 50 ######################################\n",
      "###################################### 51 ######################################\n",
      "###################################### 52 ######################################\n",
      "###################################### 53 ######################################\n",
      "###################################### 54 ######################################\n",
      "###################################### 55 ######################################\n",
      "###################################### 56 ######################################\n",
      "###################################### 57 ######################################\n",
      "###################################### 58 ######################################\n",
      "###################################### 59 ######################################\n",
      "###################################### 60 ######################################\n",
      "###################################### 61 ######################################\n",
      "###################################### 62 ######################################\n",
      "###################################### 63 ######################################\n",
      "###################################### 64 ######################################\n",
      "###################################### 65 ######################################\n",
      "###################################### 66 ######################################\n",
      "###################################### 67 ######################################\n",
      "###################################### 68 ######################################\n",
      "###################################### 69 ######################################\n",
      "###################################### 70 ######################################\n",
      "###################################### 71 ######################################\n",
      "###################################### 72 ######################################\n",
      "###################################### 73 ######################################\n",
      "###################################### 74 ######################################\n",
      "###################################### 75 ######################################\n",
      "###################################### 76 ######################################\n",
      "###################################### 77 ######################################\n",
      "###################################### 78 ######################################\n",
      "###################################### 79 ######################################\n",
      "###################################### 80 ######################################\n",
      "###################################### 81 ######################################\n",
      "###################################### 82 ######################################\n",
      "###################################### 83 ######################################\n",
      "###################################### 84 ######################################\n",
      "###################################### 85 ######################################\n",
      "###################################### 86 ######################################\n",
      "###################################### 87 ######################################\n",
      "###################################### 88 ######################################\n",
      "###################################### 89 ######################################\n",
      "###################################### 90 ######################################\n",
      "###################################### 91 ######################################\n",
      "###################################### 92 ######################################\n",
      "###################################### 93 ######################################\n",
      "###################################### 94 ######################################\n",
      "###################################### 95 ######################################\n",
      "###################################### 96 ######################################\n",
      "###################################### 97 ######################################\n",
      "###################################### 98 ######################################\n"
     ]
    },
    {
     "name": "stdout",
     "output_type": "stream",
     "text": [
      "###################################### 99 ######################################\n",
      "\n",
      "N\tmin(speedup_solve)\tgmean(speedup_solve)\tmax(speedup_solve)\n",
      "1\t3.0058386855045875\t5.869489935858786   \t31.955088755337762\n",
      "2\t1.9981483300867418\t7.465686121078874   \t42.604440303281955\n",
      "3\t3.768177927725565 \t7.559547875017129   \t30.62788594934462 \n",
      "4\t1.5060014182866623\t7.297860744124146   \t21.025152528203073\n",
      "\n",
      "N\tmin(speedup_output)\tgmean(speedup_output)\tmax(speedup_output)\n",
      "1\t2.197797738609021  \t4.761324872790398    \t24.965850907988113 \n",
      "2\t1.8595433170922624 \t5.766549062698305    \t30.871157115423006 \n",
      "3\t3.242692119989073  \t5.893816963101725    \t24.286235693128628 \n",
      "4\t1.1566004023863392 \t5.6070318981746325   \t15.59569002032659  \n",
      "\n",
      "================================================================================\n",
      "=               ThermalBlock POD-Galerkin speedup analysis ends                =\n",
      "================================================================================\n",
      "\n"
     ]
    }
   ],
   "source": [
    "reduction_method.initialize_testing_set(100)\n",
    "reduction_method.speedup_analysis()"
   ]
  }
 ],
 "metadata": {
  "kernelspec": {
   "display_name": "Python 3 (ipykernel)",
   "language": "python",
   "name": "python3"
  },
  "language_info": {
   "codemirror_mode": {
    "name": "ipython",
    "version": 3
   },
   "file_extension": ".py",
   "mimetype": "text/x-python",
   "name": "python",
   "nbconvert_exporter": "python",
   "pygments_lexer": "ipython3",
   "version": "3.10.4"
  }
 },
 "nbformat": 4,
 "nbformat_minor": 2
}
