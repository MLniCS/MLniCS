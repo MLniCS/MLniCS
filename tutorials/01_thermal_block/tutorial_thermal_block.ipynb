{
 "cells": [
  {
   "cell_type": "markdown",
   "metadata": {},
   "source": [
    "## TUTORIAL 01 - Thermal block problem\n",
    "**_Keywords: certified reduced basis method, scalar problem_**\n",
    "\n",
    "### 1. Introduction\n",
    "In this Tutorial, we consider steady heat conduction in a two-dimensional domain $\\Omega$.\n",
    "\n",
    "<img src=\"data/thermal_block.png\" />\n",
    "\n",
    "We define two subdomains $\\Omega_1$ and $\\Omega_2$, such that\n",
    "1. $\\Omega_1$ is a disk centered at the origin of radius $r_0=0.5$, and\n",
    "2. $\\Omega_2=\\Omega/\\ \\overline{\\Omega_1}$. \n",
    "\n",
    "The conductivity $\\kappa$ is assumed to be constant on $\\Omega_1$ and $\\Omega_2$, i.e.\n",
    "$$\n",
    "\\kappa|_{\\Omega_1}=\\kappa_0 \\quad \\textrm{and} \\quad \\kappa|_{\\Omega_2}=1.\n",
    "$$\n",
    "\n",
    "For this problem, we consider $P=2$ parameters:\n",
    "1. the first one is related to the conductivity in $\\Omega_1$, i.e. $\\mu_0\\equiv k_0$ (_note that parameters numbering is zero-based_);\n",
    "2. the second parameter $\\mu_1$ takes into account the constant heat flux over $\\Gamma_{base}$.\n",
    "\n",
    "The parameter vector $\\boldsymbol{\\mu}$ is thus given by \n",
    "$$\n",
    "\\boldsymbol{\\mu} = (\\mu_0,\\mu_1)\n",
    "$$\n",
    "on the parameter domain\n",
    "$$\n",
    "\\mathbb{P}=[0.1,10]\\times[-1,1].\n",
    "$$\n",
    "\n",
    "In this problem we model the heat transfer process due to the heat flux over the bottom boundary $\\Gamma_{base}$ and the following conditions on the remaining boundaries:\n",
    "* the left and right boundaries $\\Gamma_{side}$ are insulated,\n",
    "* the top boundary $\\Gamma_{top}$ is kept at a reference temperature (say, zero),\n",
    "\n",
    "with the aim of measuring the average temperature on $\\Gamma_{base}$.\n",
    "\n",
    "In order to obtain a faster evaluation (yet, provably accurate) of the output of interest we propose to use a certified reduced basis approximation for the problem."
   ]
  },
  {
   "cell_type": "markdown",
   "metadata": {},
   "source": [
    "### 2. Parametrized formulation\n",
    "\n",
    "Let $u(\\boldsymbol{\\mu})$ be the temperature in the domain $\\Omega$.\n",
    "\n",
    "The strong formulation of the parametrized problem is given by:\n",
    "<center>for a given parameter $\\boldsymbol{\\mu}\\in\\mathbb{P}$, find $u(\\boldsymbol{\\mu})$ such that</center>\n",
    "\n",
    "$$\n",
    "\\begin{cases}\n",
    "\t- \\text{div} (\\kappa(\\mu_0)\\nabla u(\\boldsymbol{\\mu})) = 0 & \\text{in } \\Omega,\\\\\n",
    "\tu(\\boldsymbol{\\mu}) = 0 & \\text{on } \\Gamma_{top},\\\\\n",
    "\t\\kappa(\\mu_0)\\nabla u(\\boldsymbol{\\mu})\\cdot \\mathbf{n} = 0 & \\text{on } \\Gamma_{side},\\\\\n",
    "\t\\kappa(\\mu_0)\\nabla u(\\boldsymbol{\\mu})\\cdot \\mathbf{n} = \\mu_1 & \\text{on } \\Gamma_{base}.\n",
    "\\end{cases}\n",
    "$$\n",
    "<br>\n",
    "\n",
    "where \n",
    "* $\\mathbf{n}$ denotes the outer normal to the boundaries $\\Gamma_{side}$ and $\\Gamma_{base}$,\n",
    "* the conductivity $\\kappa(\\mu_0)$ is defined as follows:\n",
    "$$\n",
    "\\kappa(\\mu_0) =\n",
    "\\begin{cases}\n",
    "\t\\mu_0 & \\text{in } \\Omega_1,\\\\\n",
    "\t1 & \\text{in } \\Omega_2,\\\\\n",
    "\\end{cases}\n",
    "$$\n",
    "\n",
    "The corresponding weak formulation reads:\n",
    "<center>for a given parameter $\\boldsymbol{\\mu}\\in\\mathbb{P}$, find $u(\\boldsymbol{\\mu})\\in\\mathbb{V}$ such that</center>\n",
    "\n",
    "$$a\\left(u(\\boldsymbol{\\mu}),v;\\boldsymbol{\\mu}\\right)=f(v;\\boldsymbol{\\mu})\\quad \\forall v\\in\\mathbb{V}$$\n",
    "\n",
    "where\n",
    "\n",
    "* the function space $\\mathbb{V}$ is defined as\n",
    "$$\n",
    "\\mathbb{V} = \\{v\\in H^1(\\Omega) : v|_{\\Gamma_{top}}=0\\}\n",
    "$$\n",
    "* the parametrized bilinear form $a(\\cdot, \\cdot; \\boldsymbol{\\mu}): \\mathbb{V} \\times \\mathbb{V} \\to \\mathbb{R}$ is defined by\n",
    "$$a(u, v;\\boldsymbol{\\mu})=\\int_{\\Omega} \\kappa(\\mu_0)\\nabla u\\cdot \\nabla v \\ d\\boldsymbol{x},$$\n",
    "* the parametrized linear form $f(\\cdot; \\boldsymbol{\\mu}): \\mathbb{V} \\to \\mathbb{R}$ is defined by\n",
    "$$f(v; \\boldsymbol{\\mu})= \\mu_1\\int_{\\Gamma_{base}}v \\ ds.$$\n",
    "\n",
    "The (compliant) output of interest $s(\\boldsymbol{\\mu})$ given by\n",
    "$$s(\\boldsymbol{\\mu}) = \\mu_1\\int_{\\Gamma_{base}} u(\\boldsymbol{\\mu})$$\n",
    "is computed for each $\\boldsymbol{\\mu}$."
   ]
  },
  {
   "cell_type": "code",
   "execution_count": 2,
   "metadata": {},
   "outputs": [],
   "source": [
    "import sys\n",
    "sys.path.append(\"../../\")\n",
    "\n",
    "from mlnics import NN, Losses, Normalization, RONNData\n",
    "from dolfin import *\n",
    "from rbnics import *\n",
    "import torch\n",
    "import numpy as np\n",
    "\n",
    "torch.manual_seed(0)\n",
    "np.random.seed(0)"
   ]
  },
  {
   "cell_type": "markdown",
   "metadata": {},
   "source": [
    "## 3. Affine decomposition\n",
    "\n",
    "For this problem the affine decomposition is straightforward:\n",
    "$$a(u,v;\\boldsymbol{\\mu})=\\underbrace{\\mu_0}_{\\Theta^{a}_0(\\boldsymbol{\\mu})}\\underbrace{\\int_{\\Omega_1}\\nabla u \\cdot \\nabla v \\ d\\boldsymbol{x}}_{a_0(u,v)} \\ + \\  \\underbrace{1}_{\\Theta^{a}_1(\\boldsymbol{\\mu})}\\underbrace{\\int_{\\Omega_2}\\nabla u \\cdot \\nabla v \\ d\\boldsymbol{x}}_{a_1(u,v)},$$\n",
    "$$f(v; \\boldsymbol{\\mu}) = \\underbrace{\\mu_1}_{\\Theta^{f}_0(\\boldsymbol{\\mu})} \\underbrace{\\int_{\\Gamma_{base}}v \\ ds}_{f_0(v)}.$$\n",
    "We will implement the numerical discretization of the problem in the class\n",
    "```\n",
    "class ThermalBlock(EllipticCoerciveCompliantProblem):\n",
    "```\n",
    "by specifying the coefficients $\\Theta^{a}_*(\\boldsymbol{\\mu})$ and $\\Theta^{f}_*(\\boldsymbol{\\mu})$ in the method\n",
    "```\n",
    "    def compute_theta(self, term):     \n",
    "```\n",
    "and the bilinear forms $a_*(u, v)$ and linear forms $f_*(v)$ in\n",
    "```\n",
    "    def assemble_operator(self, term):\n",
    "```"
   ]
  },
  {
   "cell_type": "code",
   "execution_count": 3,
   "metadata": {},
   "outputs": [],
   "source": [
    "class ThermalBlock(EllipticCoerciveCompliantProblem):\n",
    "\n",
    "    # Default initialization of members\n",
    "    def __init__(self, V, **kwargs):\n",
    "        # Call the standard initialization\n",
    "        EllipticCoerciveCompliantProblem.__init__(self, V, **kwargs)\n",
    "        # ... and also store FEniCS data structures for assembly\n",
    "        assert \"subdomains\" in kwargs\n",
    "        assert \"boundaries\" in kwargs\n",
    "        self.subdomains, self.boundaries = kwargs[\"subdomains\"], kwargs[\"boundaries\"]\n",
    "        self.u = TrialFunction(V)\n",
    "        self.v = TestFunction(V)\n",
    "        self.dx = Measure(\"dx\")(subdomain_data=self.subdomains)\n",
    "        self.ds = Measure(\"ds\")(subdomain_data=self.boundaries)\n",
    "\n",
    "    # Return custom problem name\n",
    "    def name(self):\n",
    "        return \"ThermalBlock\"\n",
    "\n",
    "    # Return the alpha_lower bound.\n",
    "    def get_stability_factor_lower_bound(self):\n",
    "        return min(self.compute_theta(\"a\"))\n",
    "\n",
    "    # Return theta multiplicative terms of the affine expansion of the problem.\n",
    "    def compute_theta(self, term):\n",
    "        mu = self.mu\n",
    "        if term == \"a\":\n",
    "            theta_a0 = mu[0]\n",
    "            theta_a1 = 1.\n",
    "            return (theta_a0, theta_a1)\n",
    "        elif term == \"f\":\n",
    "            theta_f0 = mu[1]\n",
    "            return (theta_f0,)\n",
    "        else:\n",
    "            raise ValueError(\"Invalid term for compute_theta().\")\n",
    "\n",
    "    # Return forms resulting from the discretization of the affine expansion of the problem operators.\n",
    "    def assemble_operator(self, term):\n",
    "        v = self.v\n",
    "        dx = self.dx\n",
    "        if term == \"a\":\n",
    "            u = self.u\n",
    "            a0 = inner(grad(u), grad(v)) * dx(1)\n",
    "            a1 = inner(grad(u), grad(v)) * dx(2)\n",
    "            return (a0, a1)\n",
    "        elif term == \"f\":\n",
    "            ds = self.ds\n",
    "            f0 = v * ds(1)\n",
    "            return (f0,)\n",
    "        elif term == \"dirichlet_bc\":\n",
    "            bc0 = [DirichletBC(self.V, Constant(0.0), self.boundaries, 3)]\n",
    "            return (bc0,)\n",
    "        elif term == \"inner_product\":\n",
    "            u = self.u\n",
    "            x0 = inner(grad(u), grad(v)) * dx\n",
    "            return (x0,)\n",
    "        else:\n",
    "            raise ValueError(\"Invalid term for assemble_operator().\")"
   ]
  },
  {
   "cell_type": "markdown",
   "metadata": {},
   "source": [
    "## 4. Main program\n",
    "### 4.1. Read the mesh for this problem\n",
    "The mesh was generated by the [data/generate_mesh.ipynb](data/generate_mesh.ipynb) notebook."
   ]
  },
  {
   "cell_type": "code",
   "execution_count": 4,
   "metadata": {},
   "outputs": [],
   "source": [
    "mesh = Mesh(\"data/thermal_block.xml\")\n",
    "subdomains = MeshFunction(\"size_t\", mesh, \"data/thermal_block_physical_region.xml\")\n",
    "boundaries = MeshFunction(\"size_t\", mesh, \"data/thermal_block_facet_region.xml\")"
   ]
  },
  {
   "cell_type": "markdown",
   "metadata": {},
   "source": [
    "### 4.2. Create Finite Element space (Lagrange P1)"
   ]
  },
  {
   "cell_type": "code",
   "execution_count": 5,
   "metadata": {},
   "outputs": [],
   "source": [
    "V = FunctionSpace(mesh, \"Lagrange\", 1)"
   ]
  },
  {
   "cell_type": "markdown",
   "metadata": {},
   "source": [
    "### 4.3. Allocate an object of the ThermalBlock class"
   ]
  },
  {
   "cell_type": "code",
   "execution_count": 6,
   "metadata": {},
   "outputs": [],
   "source": [
    "problem = ThermalBlock(V, subdomains=subdomains, boundaries=boundaries)\n",
    "mu_range = [(0.1, 10.0), (-1.0, 1.0)]\n",
    "problem.set_mu_range(mu_range)"
   ]
  },
  {
   "cell_type": "markdown",
   "metadata": {},
   "source": [
    "### 4.4. Prepare reduction with a reduced basis method"
   ]
  },
  {
   "cell_type": "code",
   "execution_count": 7,
   "metadata": {},
   "outputs": [],
   "source": [
    "reduction_method = PODGalerkin(problem)#ReducedBasis(problem)\n",
    "reduction_method.set_Nmax(20)\n",
    "reduction_method.set_tolerance(1e-10)#1e-5)"
   ]
  },
  {
   "cell_type": "markdown",
   "metadata": {},
   "source": [
    "### 4.5. Perform the offline phase"
   ]
  },
  {
   "cell_type": "code",
   "execution_count": 8,
   "metadata": {
    "scrolled": true
   },
   "outputs": [],
   "source": [
    "reduction_method.initialize_training_set(100)\n",
    "reduced_problem = reduction_method.offline()"
   ]
  },
  {
   "cell_type": "markdown",
   "metadata": {},
   "source": [
    "### 4.5b Train the neural network"
   ]
  },
  {
   "cell_type": "code",
   "execution_count": 9,
   "metadata": {},
   "outputs": [],
   "source": [
    "net = NN.RONN(problem, reduction_method)"
   ]
  },
  {
   "cell_type": "code",
   "execution_count": 10,
   "metadata": {},
   "outputs": [],
   "source": [
    "input_normalization = Normalization.StandardNormalization()\n",
    "output_normalization = Normalization.IdentityNormalization()"
   ]
  },
  {
   "cell_type": "code",
   "execution_count": 11,
   "metadata": {},
   "outputs": [],
   "source": [
    "pdnn_loss = Losses.PDNN_Loss(net, output_normalization)\n",
    "pinn_loss = Losses.PINN_Loss(net)\n",
    "prnn_loss = Losses.PRNN_Loss(net, output_normalization, omega=1.)"
   ]
  },
  {
   "cell_type": "code",
   "execution_count": 12,
   "metadata": {},
   "outputs": [
    {
     "ename": "TypeError",
     "evalue": "RONNDataLoader.train_validation_split() takes 1 positional argument but 2 were given",
     "output_type": "error",
     "traceback": [
      "\u001b[0;31m---------------------------------------------------------------------------\u001b[0m",
      "\u001b[0;31mTypeError\u001b[0m                                 Traceback (most recent call last)",
      "Input \u001b[0;32mIn [12]\u001b[0m, in \u001b[0;36m<cell line: 2>\u001b[0;34m()\u001b[0m\n\u001b[1;32m      1\u001b[0m data \u001b[38;5;241m=\u001b[39m RONNData\u001b[38;5;241m.\u001b[39mRONNDataLoader(net)\n\u001b[0;32m----> 2\u001b[0m _ \u001b[38;5;241m=\u001b[39m \u001b[43mdata\u001b[49m\u001b[38;5;241;43m.\u001b[39;49m\u001b[43mtrain_validation_split\u001b[49m\u001b[43m(\u001b[49m\u001b[38;5;241;43m0.2\u001b[39;49m\u001b[43m)\u001b[49m\n",
      "\u001b[0;31mTypeError\u001b[0m: RONNDataLoader.train_validation_split() takes 1 positional argument but 2 were given"
     ]
    }
   ],
   "source": [
    "data = RONNData.RONNDataLoader(net)\n",
    "_ = data.train_validation_split()"
   ]
  },
  {
   "cell_type": "code",
   "execution_count": 26,
   "metadata": {
    "scrolled": true
   },
   "outputs": [
    {
     "name": "stdout",
     "output_type": "stream",
     "text": [
      "Getting operator matrices...\n",
      "Getting operator matrices...\n",
      "0 3.959252851840432e-05 \tLoss(validation) = 0.01572282716192908\n",
      "100 3.935953180804956e-05 \tLoss(validation) = 0.0011786211151016827\n",
      "200 3.885139960071455e-05 \tLoss(validation) = 0.0011769924663630694\n",
      "300 3.877558828348381e-05 \tLoss(validation) = 0.0011765365437395015\n",
      "400 3.868507609530401e-05 \tLoss(validation) = 0.001175959866998723\n",
      "500 3.858303110307726e-05 \tLoss(validation) = 0.0011752197540247193\n",
      "600 3.847406125781731e-05 \tLoss(validation) = 0.0011744944584582365\n",
      "700 3.84026647309284e-05 \tLoss(validation) = 0.0011737722405595625\n",
      "800 3.859507416532488e-05 \tLoss(validation) = 0.0011746080832265142\n",
      "900 3.8106602490998935e-05 \tLoss(validation) = 0.0011719663882611264\n",
      "1000 3.797550424007556e-05 \tLoss(validation) = 0.0011709984811221136\n",
      "1100 3.8610230556991946e-05 \tLoss(validation) = 0.00116963056768587\n",
      "1200 3.770195966703034e-05 \tLoss(validation) = 0.0011691107416686682\n",
      "1300 3.760727350581482e-05 \tLoss(validation) = 0.0011676828066291191\n",
      "1400 3.877364239386821e-05 \tLoss(validation) = 0.0011658649863752982\n",
      "1500 3.726421160501495e-05 \tLoss(validation) = 0.0011658374221331952\n",
      "1600 7.144163864509824e-05 \tLoss(validation) = 0.001190283164995227\n",
      "1700 3.6933308982387534e-05 \tLoss(validation) = 0.001163662657137808\n",
      "1800 3.751957806904775e-05 \tLoss(validation) = 0.0011619787873488542\n",
      "1900 3.668166300020169e-05 \tLoss(validation) = 0.0011621452225627875\n",
      "2000 3.673971875148067e-05 \tLoss(validation) = 0.0011630727822631627\n",
      "2100 3.722087061742673e-05 \tLoss(validation) = 0.0011643716347845118\n",
      "2200 3.704672590410601e-05 \tLoss(validation) = 0.0011557912734947889\n",
      "2300 3.598065770867165e-05 \tLoss(validation) = 0.0011568381630147804\n",
      "2400 3.6429156974049e-05 \tLoss(validation) = 0.001158709770274632\n",
      "2500 3.598537863511917e-05 \tLoss(validation) = 0.001154216739607689\n",
      "2600 3.879059369541203e-05 \tLoss(validation) = 0.0011504461587187298\n",
      "2700 3.5345103308741e-05 \tLoss(validation) = 0.0011529087104353445\n",
      "2800 3.5200787921337186e-05 \tLoss(validation) = 0.0011534078152359243\n",
      "2900 3.542985672200652e-05 \tLoss(validation) = 0.0011500245984848315\n",
      "3000 3.614512108893386e-05 \tLoss(validation) = 0.0011522840161577298\n",
      "3100 3.47455916782284e-05 \tLoss(validation) = 0.0011492092745313113\n",
      "3200 4.0179691880094405e-05 \tLoss(validation) = 0.0011434825171599335\n",
      "3300 7.621447390714025e-05 \tLoss(validation) = 0.0012221560303694267\n",
      "3400 3.431623417493991e-05 \tLoss(validation) = 0.0011466261434367859\n",
      "3500 3.496783352097055e-05 \tLoss(validation) = 0.0011432689343406177\n",
      "3600 9.054924021447168e-05 \tLoss(validation) = 0.001219282655084595\n",
      "3700 0.00013362405711365576 \tLoss(validation) = 0.0013194264467719598\n",
      "3800 3.3764944641929184e-05 \tLoss(validation) = 0.0011429405792556242\n",
      "3900 5.6551170337371386e-05 \tLoss(validation) = 0.0011788300113677844\n",
      "4000 3.351639669521031e-05 \tLoss(validation) = 0.001140631652470435\n",
      "4100 3.547382801564938e-05 \tLoss(validation) = 0.0011421063774489076\n",
      "4200 3.324476292868945e-05 \tLoss(validation) = 0.0011407510951538477\n",
      "4300 4.3334710959047455e-05 \tLoss(validation) = 0.0011349177755187077\n",
      "4400 3.298877542232735e-05 \tLoss(validation) = 0.001137970667840311\n",
      "4500 3.3704191558198226e-05 \tLoss(validation) = 0.0011416345732537313\n",
      "4600 3.2730706122040186e-05 \tLoss(validation) = 0.0011350944692783789\n",
      "4700 0.0002583969531871741 \tLoss(validation) = 0.0013465896478606619\n",
      "4800 3.247072927829691e-05 \tLoss(validation) = 0.0011336777288854564\n",
      "4900 6.189972708044968e-05 \tLoss(validation) = 0.0011715366948861611\n",
      "5000 3.441852167104295e-05 \tLoss(validation) = 0.001139313711343945\n",
      "5100 3.2452202499686345e-05 \tLoss(validation) = 0.001129562861736039\n",
      "5200 3.2246358299870746e-05 \tLoss(validation) = 0.0011294979728184184\n",
      "5300 3.483367733598007e-05 \tLoss(validation) = 0.0011366561386773116\n",
      "5400 3.2641998843747074e-05 \tLoss(validation) = 0.001134552839252922\n",
      "5500 3.165711265027759e-05 \tLoss(validation) = 0.001128841554891564\n",
      "5600 4.007688666457738e-05 \tLoss(validation) = 0.001150366304724877\n",
      "5700 3.3027445522240276e-05 \tLoss(validation) = 0.001132133628866513\n",
      "5800 3.2568423271028684e-05 \tLoss(validation) = 0.0011270710568455128\n",
      "5900 3.6559716792817654e-05 \tLoss(validation) = 0.0011202710334092506\n",
      "6000 3.881987659136189e-05 \tLoss(validation) = 0.0011199999565685574\n",
      "6100 3.1251350908064795e-05 \tLoss(validation) = 0.0011247000683543649\n",
      "6200 3.2708865278683955e-05 \tLoss(validation) = 0.0011266393176309227\n",
      "6300 3.071940792335531e-05 \tLoss(validation) = 0.0011212069098043786\n",
      "6400 3.543678351257759e-05 \tLoss(validation) = 0.0011161009718908413\n",
      "6500 0.00031907361536333934 \tLoss(validation) = 0.0014125032304598676\n",
      "6600 3.0375330879104223e-05 \tLoss(validation) = 0.0011190318021068462\n",
      "6700 3.777415518847805e-05 \tLoss(validation) = 0.001115783918714776\n",
      "6800 3.0159165196887613e-05 \tLoss(validation) = 0.001117562210244311\n",
      "6900 3.0121997343303625e-05 \tLoss(validation) = 0.0011168579508625798\n",
      "7000 3.277780369869731e-05 \tLoss(validation) = 0.0011126991828872672\n",
      "7100 6.990247940066727e-05 \tLoss(validation) = 0.0011975071437527278\n",
      "7200 2.9779613033735795e-05 \tLoss(validation) = 0.0011141837569690588\n",
      "7300 0.00016303780054731568 \tLoss(validation) = 0.0012058018467766278\n",
      "7400 2.9552312060477303e-05 \tLoss(validation) = 0.001113717822592794\n",
      "7500 3.892157916991337e-05 \tLoss(validation) = 0.0011114247330855152\n",
      "7600 3.866382964708867e-05 \tLoss(validation) = 0.0011137155462257842\n",
      "7700 7.822725279593521e-05 \tLoss(validation) = 0.0011386382942750444\n",
      "7800 2.9159826584751156e-05 \tLoss(validation) = 0.0011100510156607877\n",
      "7900 8.083838525832076e-05 \tLoss(validation) = 0.0011471624478662284\n",
      "8000 3.4577730936562095e-05 \tLoss(validation) = 0.0011165142229411298\n",
      "8100 2.892330569444121e-05 \tLoss(validation) = 0.001107658732493888\n",
      "8200 9.752157440796754e-05 \tLoss(validation) = 0.0011496858776401844\n",
      "8300 2.8675422794577166e-05 \tLoss(validation) = 0.0011068112009404204\n",
      "8400 5.4168852676255795e-05 \tLoss(validation) = 0.0011111866097021923\n",
      "8500 2.8489653267084194e-05 \tLoss(validation) = 0.001105531571701592\n",
      "8600 6.366304160327875e-05 \tLoss(validation) = 0.001099650507708721\n",
      "8700 2.8309477465302758e-05 \tLoss(validation) = 0.0011042727899736372\n",
      "8800 4.0498366149258405e-05 \tLoss(validation) = 0.0011014482773033553\n",
      "8900 2.8146544254650263e-05 \tLoss(validation) = 0.0011021848775379312\n",
      "9000 2.809824188282866e-05 \tLoss(validation) = 0.0011027453177603203\n",
      "9100 2.7954115146716655e-05 \tLoss(validation) = 0.0011012935090234973\n",
      "9200 2.8023919170164928e-05 \tLoss(validation) = 0.001102688638114788\n",
      "9300 2.7799947145288644e-05 \tLoss(validation) = 0.0010998928141781458\n",
      "9400 4.574784977111572e-05 \tLoss(validation) = 0.0011357516571125325\n",
      "9500 5.857898507774078e-05 \tLoss(validation) = 0.0011538219319940806\n",
      "9600 3.022383560211486e-05 \tLoss(validation) = 0.0011086911013124868\n",
      "9700 2.7445499561642137e-05 \tLoss(validation) = 0.0010966681880601255\n",
      "9800 3.251691778795793e-05 \tLoss(validation) = 0.0010930729233697267\n",
      "9900 0.0001416901571538296 \tLoss(validation) = 0.0012953776557047183\n"
     ]
    }
   ],
   "source": [
    "_ = NN.normalize_and_train(net, data, prnn_loss, input_normalization, lr=0.0001, epochs=10000)"
   ]
  },
  {
   "cell_type": "markdown",
   "metadata": {},
   "source": [
    "### 4.6. Perform an online solve"
   ]
  },
  {
   "cell_type": "code",
   "execution_count": 27,
   "metadata": {
    "scrolled": true
   },
   "outputs": [
    {
     "name": "stdout",
     "output_type": "stream",
     "text": [
      "[ 1.63338024e+00  2.67054953e-01 -2.05713436e-03 -1.76846926e-05]\n"
     ]
    },
    {
     "data": {
      "text/plain": [
       "<matplotlib.tri.tricontour.TriContourSet at 0x13c208340>"
      ]
     },
     "execution_count": 27,
     "metadata": {},
     "output_type": "execute_result"
    },
    {
     "data": {
      "image/png": "[encoded data removed]",
      "text/plain": [
       "<Figure size 432x288 with 1 Axes>"
      ]
     },
     "metadata": {
      "needs_background": "light"
     },
     "output_type": "display_data"
    }
   ],
   "source": [
    "online_mu = (8.0, -1.0)\n",
    "reduced_problem.set_mu(online_mu)\n",
    "reduced_solution = reduced_problem.solve()\n",
    "print(reduced_solution)\n",
    "plot(reduced_solution, reduced_problem=reduced_problem)"
   ]
  },
  {
   "cell_type": "code",
   "execution_count": 28,
   "metadata": {
    "scrolled": false
   },
   "outputs": [
    {
     "name": "stdout",
     "output_type": "stream",
     "text": [
      "[ 1.63151252e+00  2.66942710e-01 -1.74550340e-03 -1.61074102e-04]\n"
     ]
    },
    {
     "data": {
      "text/plain": [
       "RONN(\n",
       "  (layers): ModuleList(\n",
       "    (0): Linear(in_features=2, out_features=100, bias=True)\n",
       "    (1): Linear(in_features=100, out_features=100, bias=True)\n",
       "    (2): Linear(in_features=100, out_features=4, bias=True)\n",
       "  )\n",
       ")"
      ]
     },
     "execution_count": 28,
     "metadata": {},
     "output_type": "execute_result"
    },
    {
     "data": {
      "image/png": "[encoded data removed]",
      "text/plain": [
       "<Figure size 432x288 with 1 Axes>"
      ]
     },
     "metadata": {
      "needs_background": "light"
     },
     "output_type": "display_data"
    }
   ],
   "source": [
    "net.eval()\n",
    "\n",
    "with torch.no_grad():\n",
    "    online_mu_nn = torch.tensor(online_mu)\n",
    "    # NOTE: Change output_normalization accordingly for the different losses\n",
    "    reduced_solution_nn = net.solve(online_mu_nn, input_normalization, output_normalization=None)\n",
    "    print(reduced_solution_nn)\n",
    "    plot(reduced_solution_nn, reduced_problem=reduced_problem)\n",
    "\n",
    "net.train()"
   ]
  },
  {
   "cell_type": "code",
   "execution_count": 29,
   "metadata": {},
   "outputs": [],
   "source": [
    "reduction_method.initialize_testing_set(100)\n",
    "test_mu = NN.get_test(net)"
   ]
  },
  {
   "cell_type": "code",
   "execution_count": 30,
   "metadata": {},
   "outputs": [
    {
     "name": "stdout",
     "output_type": "stream",
     "text": [
      "0.02117187014789971\n"
     ]
    },
    {
     "data": {
      "text/plain": [
       "<matplotlib.collections.PathCollection at 0x13c4b82e0>"
      ]
     },
     "execution_count": 30,
     "metadata": {},
     "output_type": "execute_result"
    },
    {
     "data": {
      "image/png": "[encoded data removed]",
      "text/plain": [
       "<Figure size 432x288 with 1 Axes>"
      ]
     },
     "metadata": {
      "needs_background": "light"
     },
     "output_type": "display_data"
    }
   ],
   "source": [
    "errors, error_plot = NN.plot_error(net, test_mu, input_normalization)\n",
    "print(np.mean(errors))\n",
    "error_plot"
   ]
  },
  {
   "cell_type": "code",
   "execution_count": 31,
   "metadata": {},
   "outputs": [
    {
     "name": "stdout",
     "output_type": "stream",
     "text": [
      "Mean Relative Error:\n",
      "N\tNN-HF\t\t\tNN-RO\t\t\tRO-HF\n",
      "4\t0.02117187014789971\t0.021171871987591233\t5.180639436173207e-07\n"
     ]
    }
   ],
   "source": [
    "_ = NN.error_analysis_fixed_net(net, test_mu, input_normalization, euclidean=False)"
   ]
  },
  {
   "cell_type": "markdown",
   "metadata": {},
   "source": [
    "### 4.7. Perform an error analysis"
   ]
  },
  {
   "cell_type": "code",
   "execution_count": null,
   "metadata": {
    "scrolled": true
   },
   "outputs": [],
   "source": [
    "reduction_method.initialize_testing_set(100)\n",
    "reduction_method.error_analysis()"
   ]
  },
  {
   "cell_type": "markdown",
   "metadata": {},
   "source": [
    "### 4.8. Perform a speedup analysis"
   ]
  },
  {
   "cell_type": "code",
   "execution_count": null,
   "metadata": {},
   "outputs": [],
   "source": [
    "reduction_method.initialize_testing_set(100)\n",
    "reduction_method.speedup_analysis()"
   ]
  }
 ],
 "metadata": {
  "kernelspec": {
   "display_name": "Python 3 (ipykernel)",
   "language": "python",
   "name": "python3"
  },
  "language_info": {
   "codemirror_mode": {
    "name": "ipython",
    "version": 3
   },
   "file_extension": ".py",
   "mimetype": "text/x-python",
   "name": "python",
   "nbconvert_exporter": "python",
   "pygments_lexer": "ipython3",
   "version": "3.10.4"
  }
 },
 "nbformat": 4,
 "nbformat_minor": 2
}
