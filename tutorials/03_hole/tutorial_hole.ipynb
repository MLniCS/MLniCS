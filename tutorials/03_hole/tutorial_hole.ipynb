{
 "cells": [
  {
   "cell_type": "markdown",
   "metadata": {},
   "source": [
    "## TUTORIAL 03 - Geometrical parametrization\n",
    "**_Keywords: geometrical parametrization_**\n",
    "\n",
    "### 1. Introduction\n",
    "\n",
    "This Tutorial introduces problems featuring a geometrical parametrization, by solving a thermal conduction problem on a parametrized computational domain $\\Omega_o(\\boldsymbol{\\mu})$.\n",
    "\n",
    "![mesh](data/mesh.png)\n",
    "\n",
    "The problem is characterized by three parameters. The parameters $\\mu_0$ and $\\mu_1$ are related to the shape of the central hole and vary in the following intervals\n",
    "$$\n",
    "\\mu_0\\in[0.5,1.5] \\quad \\text{and}\\quad \\mu_1\\in[0.5,1.5].\n",
    "$$\n",
    "\n",
    "The parameter $\\mu_2$ is the Biot number, which allows to parametrize heat exchange with a surrounding exterior fluid (e.g., air) in the following interval\n",
    "$$\n",
    "\\mu_2\\in[0.01,1];\n",
    "$$\n",
    "the diffusion process on the external boundaries $\\Gamma_{o, 5} \\cup \\Gamma_{o, 6} \\cup \\Gamma_{o, 7} \\cup \\Gamma_{o, 8}$ will be affected by this parameter.\n",
    "\n",
    "The parameter vector $\\boldsymbol{\\mu}$ is thus given by \n",
    "$$\n",
    "\\boldsymbol{\\mu} = (\\mu_0, \\mu_1, \\mu_2)\n",
    "$$\n",
    "on the parameter domain\n",
    "$$\n",
    "\\mathbb{P}=[0.5,1.5]^2\\times[0.01,1].\n",
    "$$\n",
    "\n",
    "In order to obtain a faster approximation of the problem, and avoiding _any_ remeshing, we pursue a model reduction by means of a POD-Galerkin reduced order method from a fixed reference domain."
   ]
  },
  {
   "cell_type": "markdown",
   "metadata": {},
   "source": [
    "### 2. Parametrized formulation\n",
    "\n",
    "Let $u_o(\\boldsymbol{\\mu})$ be the temperature in the domain $\\Omega_o(\\boldsymbol{\\mu})$.\n",
    "\n",
    "We will directly provide a weak formulation for this problem for a given parameter $\\boldsymbol{\\mu}\\in\\mathbb{P}$, find $u_o(\\boldsymbol{\\mu})\\in\\mathbb{V}_o(\\boldsymbol{\\mu})$ such that\n",
    "\n",
    "$$a_o\\left(u_o(\\boldsymbol{\\mu}),v_o;\\boldsymbol{\\mu}\\right)=f_o(v_o;\\boldsymbol{\\mu})\\quad \\forall v_o\\in\\mathbb{V}_o(\\boldsymbol{\\mu})$$\n",
    "\n",
    "where\n",
    "\n",
    "* the function space $\\mathbb{V}_o(\\boldsymbol{\\mu})$ is defined as\n",
    "$$\n",
    "\\mathbb{V}_o(\\boldsymbol{\\mu}) = H^1(\\Omega(\\boldsymbol{\\mu})).\n",
    "$$\n",
    "Note that, in contrast to the previous tutorials, the function space is parameter dependent due to the shape variation. \n",
    "* the parametrized bilinear form $a_o(\\cdot, \\cdot; \\boldsymbol{\\mu}): \\mathbb{V}_o(\\boldsymbol{\\mu}) \\times \\mathbb{V}_o(\\boldsymbol{\\mu}) \\to \\mathbb{R}$ is defined by\n",
    "$$a_o(u_o,v_o;\\boldsymbol{\\mu}) = \\int_{\\Omega_o(\\boldsymbol{\\mu})}\\nabla u_o\\cdot\\nabla v_o \\ d\\boldsymbol{x} + \\mu_2\\left(\\int_{\\Gamma_{o,5}}u_o\\,v_o \\ ds + \\int_{\\Gamma_{o,6}}u_o\\,v_o \\ ds + \\int_{\\Gamma_{o,7}}u_o\\,v_o \\ ds + \\int_{\\Gamma_{o,8}}u_o\\,v_o \\ ds\\right),$$\n",
    "* the parametrized linear form $f_o(\\cdot; \\boldsymbol{\\mu}): \\mathbb{V}_o(\\boldsymbol{\\mu}) \\to \\mathbb{R}$ is defined by\n",
    "$$f_o(v_o;\\boldsymbol{\\mu}) = \\int_{\\Gamma_{o,1}(\\boldsymbol{\\mu})}v_o \\ ds + \\int_{\\Gamma_{o,2}(\\boldsymbol{\\mu})}v_o \\ ds + \\int_{\\Gamma_{o,3}(\\boldsymbol{\\mu})}v_o \\ ds + \\int_{\\Gamma_{o,4}(\\boldsymbol{\\mu})}v_o \\ ds.$$"
   ]
  },
  {
   "cell_type": "code",
   "execution_count": 1,
   "metadata": {},
   "outputs": [],
   "source": [
    "import os\n",
    "import sys\n",
    "sys.path.append('../../')\n",
    "\n",
    "from mlnics import NN, Losses, Normalization, RONNData, IO, Training, ErrorAnalysis\n",
    "from dolfin import *\n",
    "from rbnics import *\n",
    "import torch\n",
    "import numpy as np\n",
    "\n",
    "torch.manual_seed(0)\n",
    "np.random.seed(0)"
   ]
  },
  {
   "cell_type": "markdown",
   "metadata": {},
   "source": [
    "## 3. Affine decomposition\n",
    "\n",
    "In order to obtain an affine decomposition, we need to recast the problem on a fixed, parameter _independent_, reference domain, as follows:\n",
    "\n",
    "1. Choose $\\Omega = \\Omega_o((\\mu_0, \\mu_1) \\equiv (1, 1))$ as reference domain, which we generate through the generate_mesh notebook provided in the _data_ folder.\n",
    "2. Define a map $\\boldsymbol{T}(\\boldsymbol{\\cdot}; \\boldsymbol{\\mu}): \\Omega \\to \\Omega_o(\\boldsymbol{\\mu})$ to carry out a pull back of the problem from the parametrized domain $\\Omega_o(\\boldsymbol{\\mu})$ to the reference one $\\Omega$. Since we aim at obtaining an affine decomposition, the map $\\boldsymbol{T}(\\boldsymbol{\\cdot}; \\boldsymbol{\\mu})$ should be affine in its first argument. This is possible by taking a partition of the reference domain in several triangular subdomains.\n",
    "3. Define a reference function space $$\\mathbb{V} = H^1(\\Omega),$$ to which the pulled back solution\n",
    "$$u(\\boldsymbol{\\cdot}; \\boldsymbol{\\mu}) = u_o(\\boldsymbol{T}(\\boldsymbol{\\cdot}; \\boldsymbol{\\mu}); \\boldsymbol{\\mu})$$ belongs\n",
    "4. Pull back the bilinear form $a_o(\\cdot, \\cdot; \\boldsymbol{\\mu})$ and linear form $f_o(\\cdot; \\boldsymbol{\\mu})$ onto the reference domain $\\Omega$ by change of variables. Note that, due to the definition of the map $\\boldsymbol{T}(\\boldsymbol{\\cdot}; \\boldsymbol{\\mu})$, the pull back will be different from one subdomain to the other. Call\n",
    "$$a(\\cdot, \\cdot; \\boldsymbol{\\mu}): \\mathbb{V} \\times \\mathbb{V} \\to \\mathbb{R}$$\n",
    "$$f(\\cdot; \\boldsymbol{\\mu}): \\mathbb{V} \\to \\mathbb{R}$$\n",
    "the resulting forms (and note that their arguments are now defined on $\\Omega$).\n",
    "5. Solve the equivalent problem: for a given parameter $\\boldsymbol{\\mu}\\in\\mathbb{P}$, find $u(\\boldsymbol{\\mu})\\in\\mathbb{V}$ such that\n",
    "\n",
    "$$a\\left(u(\\boldsymbol{\\mu}),v;\\boldsymbol{\\mu}\\right)=f(v;\\boldsymbol{\\mu})\\quad \\forall v\\in\\mathbb{V}$$\n"
   ]
  },
  {
   "cell_type": "code",
   "execution_count": 2,
   "metadata": {},
   "outputs": [],
   "source": [
    "@PullBackFormsToReferenceDomain()\n",
    "@AffineShapeParametrization(\"data/hole_vertices_mapping.vmp\")\n",
    "class Hole(EllipticCoerciveProblem):\n",
    "\n",
    "    # Default initialization of members\n",
    "    def __init__(self, V, **kwargs):\n",
    "        # Call the standard initialization\n",
    "        EllipticCoerciveProblem.__init__(self, V, **kwargs)\n",
    "        # ... and also store FEniCS data structures for assembly\n",
    "        assert \"subdomains\" in kwargs\n",
    "        assert \"boundaries\" in kwargs\n",
    "        self.subdomains, self.boundaries = kwargs[\"subdomains\"], kwargs[\"boundaries\"]\n",
    "        self.u = TrialFunction(V)\n",
    "        self.v = TestFunction(V)\n",
    "        self.dx = Measure(\"dx\")(subdomain_data=subdomains)\n",
    "        self.ds = Measure(\"ds\")(subdomain_data=boundaries)\n",
    "        self.subdomains = subdomains\n",
    "        self.boundaries = boundaries\n",
    "\n",
    "    # Return custom problem name\n",
    "    def name(self):\n",
    "        return \"Hole\"\n",
    "\n",
    "    # Return theta multiplicative terms of the affine expansion of the problem.\n",
    "    def compute_theta(self, term):\n",
    "        mu = self.mu\n",
    "        if term == \"a\":\n",
    "            theta_a0 = 1.0\n",
    "            theta_a1 = mu[2]\n",
    "            return (theta_a0, theta_a1)\n",
    "        elif term == \"f\":\n",
    "            theta_f0 = 1.0\n",
    "            return (theta_f0, )\n",
    "        else:\n",
    "            raise ValueError(\"Invalid term for compute_theta().\")\n",
    "\n",
    "    # Return forms resulting from the discretization of the affine expansion of the problem operators.\n",
    "    def assemble_operator(self, term):\n",
    "        u = self.u\n",
    "        v = self.v\n",
    "        dx = self.dx\n",
    "        ds = self.ds\n",
    "        if term == \"a\":\n",
    "            a0 = inner(grad(u), grad(v)) * dx\n",
    "            a1 = inner(u, v) * ds(5) + inner(u, v) * ds(6) + inner(u, v) * ds(7) + inner(u, v) * ds(8)\n",
    "            return (a0, a1)\n",
    "        elif term == \"f\":\n",
    "            f0 = v * ds(1) + v * ds(2) + v * ds(3) + v * ds(4)\n",
    "            return (f0, )\n",
    "        elif term == \"inner_product\":\n",
    "            x0 = u * v * dx + inner(grad(u), grad(v)) * dx\n",
    "            return (x0,)\n",
    "        else:\n",
    "            raise ValueError(\"Invalid term for assemble_operator().\")"
   ]
  },
  {
   "cell_type": "markdown",
   "metadata": {},
   "source": [
    "## 4. Main program\n",
    "### 4.1. Read the mesh for this problem\n",
    "The mesh was generated by the [data/generate_mesh.ipynb](data/generate_mesh.ipynb) notebook."
   ]
  },
  {
   "cell_type": "code",
   "execution_count": 3,
   "metadata": {},
   "outputs": [],
   "source": [
    "mesh = Mesh(\"data/hole.xml\")\n",
    "subdomains = MeshFunction(\"size_t\", mesh, \"data/hole_physical_region.xml\")\n",
    "boundaries = MeshFunction(\"size_t\", mesh, \"data/hole_facet_region.xml\")"
   ]
  },
  {
   "cell_type": "markdown",
   "metadata": {},
   "source": [
    "### 4.2. Create Finite Element space (Lagrange P1)"
   ]
  },
  {
   "cell_type": "code",
   "execution_count": 4,
   "metadata": {},
   "outputs": [],
   "source": [
    "V = FunctionSpace(mesh, \"Lagrange\", 1)"
   ]
  },
  {
   "cell_type": "markdown",
   "metadata": {},
   "source": [
    "### 4.3. Allocate an object of the Hole class"
   ]
  },
  {
   "cell_type": "code",
   "execution_count": 5,
   "metadata": {},
   "outputs": [],
   "source": [
    "problem = Hole(V, subdomains=subdomains, boundaries=boundaries)\n",
    "mu_range = [(0.5, 1.5), (0.5, 1.5), (0.01, 1.0)]\n",
    "problem.set_mu_range(mu_range)"
   ]
  },
  {
   "cell_type": "markdown",
   "metadata": {},
   "source": [
    "### 4.4. Prepare reduction with a POD-Galerkin method"
   ]
  },
  {
   "cell_type": "code",
   "execution_count": 6,
   "metadata": {},
   "outputs": [],
   "source": [
    "reduction_method = PODGalerkin(problem)\n",
    "reduction_method.set_Nmax(20)\n",
    "reduction_method.set_tolerance(1e-6)"
   ]
  },
  {
   "cell_type": "markdown",
   "metadata": {},
   "source": [
    "### 4.5. Perform the offline phase"
   ]
  },
  {
   "cell_type": "markdown",
   "metadata": {},
   "source": [
    "#### 4.5.1 Fit Reduction Method"
   ]
  },
  {
   "cell_type": "code",
   "execution_count": 7,
   "metadata": {},
   "outputs": [
    {
     "name": "stdout",
     "output_type": "stream",
     "text": [
      "================================================================================\n",
      "=                    Hole POD-Galerkin offline phase begins                    =\n",
      "================================================================================\n",
      "\n",
      "###################################### 0 #######################################\n",
      "truth solve for mu = (1.0488135039273248, 1.2151893663724196, 0.6067357423109274)\n",
      "update snapshots matrix\n",
      "\n",
      "###################################### 1 #######################################\n",
      "truth solve for mu = (1.0448831829968968, 0.9236547993389047, 0.6494351719359895)\n",
      "update snapshots matrix\n",
      "\n",
      "###################################### 2 #######################################\n",
      "truth solve for mu = (0.9375872112626925, 1.3917730007820799, 0.964026132896019)\n",
      "update snapshots matrix\n",
      "\n",
      "###################################### 3 #######################################\n",
      "truth solve for mu = (0.8834415188257777, 1.2917250380826646, 0.5336059705553754)\n",
      "update snapshots matrix\n",
      "\n",
      "###################################### 4 #######################################\n",
      "truth solve for mu = (1.0680445610939322, 1.425596638292661, 0.08032569761590806)\n",
      "update snapshots matrix\n",
      "\n",
      "###################################### 5 #######################################\n",
      "truth solve for mu = (0.5871292997015407, 0.5202183974403257, 0.8342936470924586)\n",
      "update snapshots matrix\n",
      "\n",
      "###################################### 6 #######################################\n",
      "truth solve for mu = (1.2781567509498504, 1.3700121482468193, 0.9788321588104364)\n",
      "update snapshots matrix\n",
      "\n",
      "###################################### 7 #######################################\n",
      "truth solve for mu = (1.2991585642167236, 0.9614793622529318, 0.7827238845235909)\n",
      "update snapshots matrix\n",
      "\n",
      "###################################### 8 #######################################\n",
      "truth solve for mu = (0.6182744258689332, 1.139921021327524, 0.15191975453495596)\n",
      "update snapshots matrix\n",
      "\n",
      "###################################### 9 #######################################\n",
      "truth solve for mu = (1.444668917049584, 1.0218483217500718, 0.42051532059061836)\n",
      "update snapshots matrix\n",
      "\n",
      "###################################### 10 ######################################\n",
      "truth solve for mu = (0.764555612104627, 1.2742336894342166, 0.4615888288943831)\n",
      "update snapshots matrix\n",
      "\n",
      "###################################### 11 ######################################\n",
      "truth solve for mu = (1.0684339488686485, 0.5187898004363551, 0.6214591421051183)\n",
      "update snapshots matrix\n",
      "\n",
      "###################################### 12 ######################################\n",
      "truth solve for mu = (1.1120957227224215, 1.116933996874757, 0.9443105977294779)\n",
      "update snapshots matrix\n",
      "\n",
      "###################################### 13 ######################################\n",
      "truth solve for mu = (1.1818202991034834, 0.859507900573786, 0.442661634261348)\n",
      "update snapshots matrix\n",
      "\n",
      "###################################### 14 ######################################\n",
      "truth solve for mu = (1.197631195927265, 0.5602254716292698, 0.670099048291211)\n",
      "update snapshots matrix\n",
      "\n",
      "###################################### 15 ######################################\n",
      "truth solve for mu = (1.1706378696181594, 0.7103825610738409, 0.1376370346783048)\n",
      "update snapshots matrix\n",
      "\n",
      "###################################### 16 ######################################\n",
      "truth solve for mu = (0.8154283509241839, 0.8637107709426226, 0.5744948027137008)\n",
      "update snapshots matrix\n",
      "\n",
      "###################################### 17 ######################################\n",
      "truth solve for mu = (0.9386015134623203, 1.4883738380592262, 0.11102436264054778)\n",
      "update snapshots matrix\n",
      "\n",
      "###################################### 18 ######################################\n",
      "truth solve for mu = (0.7088767560948347, 0.6613095178849963, 0.6565772422107444)\n",
      "update snapshots matrix\n",
      "\n",
      "###################################### 19 ######################################\n",
      "truth solve for mu = (0.7532916025397821, 0.9663107728563063, 0.2519813360815867)\n",
      "update snapshots matrix\n",
      "\n",
      "###################################### 20 ######################################\n",
      "truth solve for mu = (0.6589695836455197, 0.6103751411643051, 0.6597662935706207)\n",
      "update snapshots matrix\n",
      "\n",
      "###################################### 21 ######################################\n",
      "truth solve for mu = (0.6381829513486138, 0.6965823616800535, 0.37503791895435445)\n",
      "update snapshots matrix\n",
      "\n",
      "###################################### 22 ######################################\n",
      "truth solve for mu = (1.320993229847935, 0.5971012757930613, 0.8395654584238159)\n",
      "update snapshots matrix\n",
      "\n",
      "###################################### 23 ######################################\n",
      "truth solve for mu = (0.5960984078939631, 1.4764594650133958, 0.47396468963122457)\n",
      "update snapshots matrix\n",
      "\n",
      "###################################### 24 ######################################\n",
      "truth solve for mu = (1.476761088190337, 1.104845519745046, 0.7418709436043187)\n",
      "update snapshots matrix\n",
      "\n",
      "###################################### 25 ######################################\n",
      "truth solve for mu = (0.5391877922543207, 0.7828069625764096, 0.1289945956010372)\n",
      "update snapshots matrix\n",
      "\n",
      "###################################### 26 ######################################\n",
      "truth solve for mu = (0.7961401975221449, 0.618727718954244, 0.32480334760003626)\n",
      "update snapshots matrix\n",
      "\n",
      "###################################### 27 ######################################\n",
      "truth solve for mu = (0.91426299451467, 0.5641474963487844, 0.6955473981763196)\n",
      "update snapshots matrix\n",
      "\n",
      "###################################### 28 ######################################\n",
      "truth solve for mu = (1.0666014542065752, 0.7653894909394454, 0.5280155729320327)\n",
      "update snapshots matrix\n",
      "\n",
      "###################################### 29 ######################################\n",
      "truth solve for mu = (0.5939405107584417, 1.0759464955561793, 0.930003235600452)\n",
      "update snapshots matrix\n",
      "\n",
      "###################################### 30 ######################################\n",
      "truth solve for mu = (0.8185689524513237, 1.1674103799636817, 0.14047988378034826)\n",
      "update snapshots matrix\n",
      "\n",
      "###################################### 31 ######################################\n",
      "truth solve for mu = (1.2163272041185655, 0.7894060929472011, 0.19135944838704566)\n",
      "update snapshots matrix\n",
      "\n",
      "###################################### 32 ######################################\n",
      "truth solve for mu = (1.086512934810083, 0.5201075461874936, 0.8306506289251895)\n",
      "update snapshots matrix\n",
      "\n",
      "###################################### 33 ######################################\n",
      "truth solve for mu = (0.5046954761925471, 1.17781653679623, 0.2773078934602432)\n",
      "update snapshots matrix\n",
      "\n",
      "###################################### 34 ######################################\n",
      "truth solve for mu = (1.2351940221225948, 1.4621885451174381, 0.25626561208475845)\n",
      "update snapshots matrix\n",
      "\n",
      "###################################### 35 ######################################\n",
      "truth solve for mu = (1.0761573344178368, 1.092041931271839, 0.5765293867329646)\n",
      "update snapshots matrix\n",
      "\n",
      "###################################### 36 ######################################\n",
      "truth solve for mu = (0.7230816326406183, 1.452749011516985, 0.45265412483145107)\n",
      "update snapshots matrix\n",
      "\n",
      "###################################### 37 ######################################\n",
      "truth solve for mu = (1.346408672471128, 1.1994792753175043, 0.30446258134658233)\n",
      "update snapshots matrix\n",
      "\n",
      "###################################### 38 ######################################\n",
      "truth solve for mu = (1.313797819702477, 0.8965057408469846, 0.8822921651400499)\n",
      "update snapshots matrix\n",
      "\n",
      "###################################### 39 ######################################\n",
      "truth solve for mu = (1.0812728726358587, 1.3817353618548527, 0.6956062741769882)\n",
      "update snapshots matrix\n",
      "\n",
      "###################################### 40 ######################################\n",
      "truth solve for mu = (1.2252542798196404, 1.0013243819267021, 0.9565227983759916)\n",
      "update snapshots matrix\n",
      "\n",
      "###################################### 41 ######################################\n",
      "truth solve for mu = (1.1439901992296373, 0.9238550485581797, 0.6103292819866452)\n",
      "update snapshots matrix\n",
      "\n",
      "###################################### 42 ######################################\n"
     ]
    },
    {
     "name": "stdout",
     "output_type": "stream",
     "text": [
      "truth solve for mu = (0.5191931983093335, 0.8015748166745493, 0.6635718021177582)\n",
      "update snapshots matrix\n",
      "\n",
      "###################################### 43 ######################################\n",
      "truth solve for mu = (0.7900776072104441, 1.1180154289988415, 0.4344810139363085)\n",
      "update snapshots matrix\n",
      "\n",
      "###################################### 44 ######################################\n",
      "truth solve for mu = (0.6354740642224502, 0.7982823259560308, 0.5742652615942522)\n",
      "update snapshots matrix\n",
      "\n",
      "###################################### 45 ######################################\n",
      "truth solve for mu = (1.0908727612481732, 1.0743252488495787, 0.6566688116585623)\n",
      "update snapshots matrix\n",
      "\n",
      "###################################### 46 ######################################\n",
      "truth solve for mu = (1.1521032700016889, 0.931418435433974, 0.8975811298925523)\n",
      "update snapshots matrix\n",
      "\n",
      "###################################### 47 ######################################\n",
      "truth solve for mu = (0.8675618700478965, 0.9358649252656268, 0.8930041214655153)\n",
      "update snapshots matrix\n",
      "\n",
      "###################################### 48 ######################################\n",
      "truth solve for mu = (1.3061939890460859, 1.2038885835403663, 0.10922461843917809)\n",
      "update snapshots matrix\n",
      "\n",
      "###################################### 49 ######################################\n",
      "truth solve for mu = (1.4194826137446737, 1.2142412995491114, 0.9988585365021878)\n",
      "update snapshots matrix\n",
      "\n",
      "###################################### 50 ######################################\n",
      "truth solve for mu = (0.6494483046579937, 1.3681260573682144, 0.17086800532961108)\n",
      "update snapshots matrix\n",
      "\n",
      "###################################### 51 ######################################\n",
      "truth solve for mu = (1.1155595642838443, 0.6238199828494415, 0.849528147029012)\n",
      "update snapshots matrix\n",
      "\n",
      "###################################### 52 ######################################\n",
      "truth solve for mu = (1.3073189587250107, 1.0691007386145932, 0.4131114642537397)\n",
      "update snapshots matrix\n",
      "\n",
      "###################################### 53 ######################################\n",
      "truth solve for mu = (0.569166995455138, 1.1974287731445636, 0.45900725585128815)\n",
      "update snapshots matrix\n",
      "\n",
      "###################################### 54 ######################################\n",
      "truth solve for mu = (1.222055599470348, 1.3663823259286292, 0.975766289952857)\n",
      "update snapshots matrix\n",
      "\n",
      "###################################### 55 ######################################\n",
      "truth solve for mu = (1.355803342392611, 0.511714084185002, 0.36637828383358023)\n",
      "update snapshots matrix\n",
      "\n",
      "###################################### 56 ######################################\n",
      "truth solve for mu = (1.229990562424058, 0.6716296772614405, 0.525826240142088)\n",
      "update snapshots matrix\n",
      "\n",
      "###################################### 57 ######################################\n",
      "truth solve for mu = (0.5543379883392536, 0.6999965248964001, 0.02833657651600783)\n",
      "update snapshots matrix\n",
      "\n",
      "###################################### 58 ######################################\n",
      "truth solve for mu = (1.2936977033574206, 0.7239246880603801, 0.35189816388993367)\n",
      "update snapshots matrix\n",
      "\n",
      "###################################### 59 ######################################\n",
      "truth solve for mu = (1.4280812934655909, 1.2044144019235328, 0.04152054023599477)\n",
      "update snapshots matrix\n",
      "\n",
      "###################################### 60 ######################################\n",
      "truth solve for mu = (0.6646941564979127, 1.1214784014997634, 0.5814563027181259)\n",
      "update snapshots matrix\n",
      "\n",
      "###################################### 61 ######################################\n",
      "truth solve for mu = (0.7378928213745086, 1.4342139979247936, 0.617826296406237)\n",
      "update snapshots matrix\n",
      "\n",
      "###################################### 62 ######################################\n",
      "truth solve for mu = (1.0356328030249582, 1.089909976354571, 0.732820809221602)\n",
      "update snapshots matrix\n",
      "\n",
      "###################################### 63 ######################################\n",
      "truth solve for mu = (0.8119449954796019, 0.8982210622160919, 0.21774531148537093)\n",
      "update snapshots matrix\n",
      "\n",
      "###################################### 64 ######################################\n",
      "truth solve for mu = (0.6861930058803362, 1.4443723899839336, 0.7421552870987946)\n",
      "update snapshots matrix\n",
      "\n",
      "###################################### 65 ######################################\n",
      "truth solve for mu = (0.9904588086175671, 0.7274146279733232, 0.261812916952689)\n",
      "update snapshots matrix\n",
      "\n",
      "###################################### 66 ######################################\n",
      "truth solve for mu = (0.5580291603238756, 0.9344166255581208, 0.31867792317416155)\n",
      "update snapshots matrix\n",
      "\n",
      "###################################### 67 ######################################\n",
      "truth solve for mu = (1.1963434888154594, 0.8777518392924809, 0.18780764078403847)\n",
      "update snapshots matrix\n",
      "\n",
      "###################################### 68 ######################################\n",
      "truth solve for mu = (0.5246787283913312, 0.5672496314632486, 0.6825988457635817)\n",
      "update snapshots matrix\n",
      "\n",
      "###################################### 69 ######################################\n",
      "truth solve for mu = (0.9536968445560453, 1.0365792111087222, 0.8977045801099387)\n",
      "update snapshots matrix\n",
      "\n",
      "###################################### 70 ######################################\n",
      "truth solve for mu = (1.4903389473967044, 0.7168969843984739, 0.6664474210690998)\n",
      "update snapshots matrix\n",
      "\n",
      "###################################### 71 ######################################\n",
      "truth solve for mu = (0.7633223767371506, 0.5206509994657287, 0.76079486729778)\n",
      "update snapshots matrix\n",
      "\n",
      "###################################### 72 ######################################\n",
      "truth solve for mu = (0.8200171508224678, 0.883463894171898, 0.5924339424180697)\n",
      "update snapshots matrix\n",
      "\n",
      "###################################### 73 ######################################\n",
      "truth solve for mu = (1.3310484552361905, 1.1289818435911487, 0.8739241488929214)\n",
      "update snapshots matrix\n",
      "\n",
      "###################################### 74 ######################################\n",
      "truth solve for mu = (0.7735420348156358, 1.2980468339125637, 0.19377958486289268)\n",
      "update snapshots matrix\n",
      "\n",
      "###################################### 75 ######################################\n",
      "truth solve for mu = (1.4527916569719446, 1.1874882763878154, 0.22335260034242288)\n",
      "update snapshots matrix\n",
      "\n",
      "###################################### 76 ######################################\n",
      "truth solve for mu = (1.4473705904889242, 1.2308558067701578, 0.2614022261690756)\n",
      "update snapshots matrix\n",
      "\n",
      "###################################### 77 ######################################\n",
      "truth solve for mu = (0.713311977367482, 1.0182007139306632, 0.03540609087398626)\n",
      "update snapshots matrix\n",
      "\n",
      "###################################### 78 ######################################\n",
      "truth solve for mu = (0.7074700754411094, 0.9246854687515063, 0.3804282805308833)\n",
      "update snapshots matrix\n",
      "\n",
      "###################################### 79 ######################################\n",
      "truth solve for mu = (0.9635754243648107, 0.7776287062947319, 0.5909165029935871)\n",
      "update snapshots matrix\n",
      "\n",
      "###################################### 80 ######################################\n",
      "truth solve for mu = (1.3638556059232314, 0.6175318559620331, 0.522205316082573)\n",
      "update snapshots matrix\n",
      "\n",
      "###################################### 81 ######################################\n",
      "truth solve for mu = (0.6320681063451533, 1.2168596811925938, 0.4020991057792208)\n",
      "update snapshots matrix\n",
      "\n",
      "###################################### 82 ######################################\n",
      "truth solve for mu = (1.065421311858509, 0.6832798362140786, 0.15339928174994347)\n",
      "update snapshots matrix\n",
      "\n",
      "###################################### 83 ######################################\n",
      "truth solve for mu = (0.9880562806489546, 0.8556127378499556, 0.9410276258002849)\n",
      "update snapshots matrix\n",
      "\n",
      "###################################### 84 ######################################\n",
      "truth solve for mu = (1.2653252538069653, 1.2486636198505474, 0.9046825423484741)\n",
      "update snapshots matrix\n",
      "\n",
      "###################################### 85 ######################################\n",
      "truth solve for mu = (0.5834224354420185, 1.0521924699224066, 0.5886313082662111)\n",
      "update snapshots matrix\n",
      "\n",
      "###################################### 86 ######################################\n"
     ]
    },
    {
     "name": "stdout",
     "output_type": "stream",
     "text": [
      "truth solve for mu = (1.461936378547229, 0.7921475267925489, 0.24842049211629236)\n",
      "update snapshots matrix\n",
      "\n",
      "###################################### 87 ######################################\n",
      "truth solve for mu = (0.6002939422654978, 0.5164296295914742, 0.9302340236242687)\n",
      "update snapshots matrix\n",
      "\n",
      "###################################### 88 ######################################\n",
      "truth solve for mu = (1.16991654659091, 1.2851529120231378, 0.2889128046964096)\n",
      "update snapshots matrix\n",
      "\n",
      "###################################### 89 ######################################\n",
      "truth solve for mu = (1.0864101661863268, 0.5639552661209811, 0.4907713199752767)\n",
      "update snapshots matrix\n",
      "\n",
      "###################################### 90 ######################################\n",
      "truth solve for mu = (1.477495139744447, 1.376505245316591, 0.34477736231847717)\n",
      "update snapshots matrix\n",
      "\n",
      "###################################### 91 ######################################\n",
      "truth solve for mu = (1.4615701545414985, 0.7317016264712045, 0.9498256341915247)\n",
      "update snapshots matrix\n",
      "\n",
      "###################################### 92 ######################################\n",
      "truth solve for mu = (1.4413777047064986, 1.2992025873523918, 0.6341434574981232)\n",
      "update snapshots matrix\n",
      "\n",
      "###################################### 93 ######################################\n",
      "truth solve for mu = (1.374287966624947, 0.7930202845077967, 0.850454119759789)\n",
      "update snapshots matrix\n",
      "\n",
      "###################################### 94 ######################################\n",
      "truth solve for mu = (1.1178766919175238, 0.5132368577588995, 0.35376118275289736)\n",
      "update snapshots matrix\n",
      "\n",
      "###################################### 95 ######################################\n",
      "truth solve for mu = (0.648140860948165, 1.481829389818253, 0.4835866039695882)\n",
      "update snapshots matrix\n",
      "\n",
      "###################################### 96 ######################################\n",
      "truth solve for mu = (0.9973913654986627, 1.1394725163987236, 0.37489876006832135)\n",
      "update snapshots matrix\n",
      "\n",
      "###################################### 97 ######################################\n",
      "truth solve for mu = (0.6369002716855989, 1.3221177331942455, 0.1979494327837304)\n",
      "update snapshots matrix\n",
      "\n",
      "###################################### 98 ######################################\n",
      "truth solve for mu = (1.011318982546456, 0.7243170289747393, 0.1068660396490937)\n",
      "update snapshots matrix\n",
      "\n",
      "###################################### 99 ######################################\n",
      "truth solve for mu = (1.3621915174216834, 1.4729194890231303, 0.9612263114823701)\n",
      "update snapshots matrix\n",
      "\n",
      "################################# perform POD ##################################\n",
      "norm_b 109.76643722297437 13.154376969108995\n",
      "norm_b 20.372563138480114 5.250961174024717\n",
      "norm_b 4.692140318946812 3.4169460580963094\n",
      "norm_b 4.476498742447195 3.4867894554312135\n",
      "norm_b 0.8764751515571978 4.106231602020155\n",
      "norm_b 0.7114726993327656 3.7094323792617616\n",
      "norm_b 0.6357417179701796 7.480341319882285\n",
      "norm_b 0.3912027127032302 1.747356368549309\n",
      "norm_b 0.28808104894880865 3.2333993457695254\n",
      "norm_b 0.18613070778566193 3.3710069553846083\n",
      "norm_b 0.12681668257627618 3.1121004833827097\n",
      "norm_b 0.0900910609024695 2.1196478981351916\n",
      "lambda_0 = 12048.670740625243\n",
      "lambda_1 = 415.04132883135907\n",
      "lambda_2 = 22.016180772685672\n",
      "lambda_3 = 20.03904099113089\n",
      "lambda_4 = 0.768208691297301\n",
      "lambda_5 = 0.5061934018954635\n",
      "lambda_6 = 0.4041675319676573\n",
      "lambda_7 = 0.15303956242648215\n",
      "lambda_8 = 0.08299069076312678\n",
      "lambda_9 = 0.034644640381235915\n",
      "lambda_10 = 0.016082470979429133\n",
      "lambda_11 = 0.00811639925460806\n",
      "\n",
      "build reduced operators\n",
      "\n",
      "================================================================================\n",
      "=                     Hole POD-Galerkin offline phase ends                     =\n",
      "================================================================================\n",
      "\n"
     ]
    }
   ],
   "source": [
    "reduction_method.initialize_training_set(100)\n",
    "reduced_problem = reduction_method.offline()"
   ]
  },
  {
   "cell_type": "markdown",
   "metadata": {},
   "source": [
    "#### 4.5.2 Train PINN\n",
    "\n",
    "Given a training set $\\Xi_{PINN} = (\\boldsymbol{\\mu}^{(1)}, \\dots, \\boldsymbol{\\mu}^{(N_\\text{PINN})})$ of parameters for the PDE, we train a Physics-Informed Neural Network (PINN) $u^{NN}(\\boldsymbol{\\mu})$ for the reduced order equations dependent on the weights and biases $W$ of the network to minimize the loss function\n",
    "\n",
    "$$L_{PINN}(\\Xi_{PINN}; W) = \\frac{1}{N_\\text{PINN}} \\sum_{i=1}^{N_\\text{PINN}} \\|A(\\boldsymbol{\\mu^{(i)}}) u^{NN}(\\boldsymbol{\\mu}^{(i)}; W) - \\boldsymbol{f}(\\boldsymbol{\\mu}^{(i)})\\|_2^2$$\n",
    "\n",
    "over $W$, where for a given $\\boldsymbol{\\mu}$, $A(\\boldsymbol{\\mu})$ is the assembled reduced matrix corresponding to the bilinear form $a$ and $\\boldsymbol{f}(\\boldsymbol{\\mu})$ is the assembled reduced vector corresponding to the linear form $f$."
   ]
  },
  {
   "cell_type": "code",
   "execution_count": 8,
   "metadata": {},
   "outputs": [],
   "source": [
    "input_normalization_pinn = Normalization.StandardNormalization(input_normalization=True)\n",
    "output_normalization_pinn = Normalization.StandardNormalization()\n",
    "\n",
    "pinn_net  = NN.RONN(\"PINN\", problem, reduction_method, n_hidden=2, n_neurons=40)\n",
    "pinn_loss = Losses.PINN_Loss(pinn_net, output_normalization_pinn)\n",
    "data      = RONNData.RONNDataLoader(pinn_net, validation_proportion=0.2, \n",
    "                                    num_without_snapshots=100)\n",
    "optimizer = torch.optim.Adam(pinn_net.parameters(), lr=0.001)\n",
    "scheduler = torch.optim.lr_scheduler.ExponentialLR(optimizer, 0.99999)\n",
    "\n",
    "pinn_trainer = Training.PINNTrainer(\n",
    "    pinn_net, data, pinn_loss, optimizer, scheduler,\n",
    "    input_normalization_pinn, num_epochs=10000\n",
    ")\n",
    "\n",
    "loaded, starting_epoch = IO.initialize_parameters(\n",
    "    pinn_net, data, pinn_trainer, optimizer\n",
    ")"
   ]
  },
  {
   "cell_type": "code",
   "execution_count": 9,
   "metadata": {
    "scrolled": true
   },
   "outputs": [
    {
     "name": "stderr",
     "output_type": "stream",
     "text": [
      "\r",
      "  0%|                                                                                         | 0/10000 [00:00<?, ?it/s]"
     ]
    },
    {
     "name": "stdout",
     "output_type": "stream",
     "text": [
      "Operator 's' not implemented. Continuing without operator 's'...\n",
      "Operator 's' not implemented. Continuing without operator 's'...\n"
     ]
    },
    {
     "name": "stderr",
     "output_type": "stream",
     "text": [
      "100%|████████████████████████████████████████████████████| 10000/10000 [00:45<00:00, 218.33it/s, Loss(training)=0.00455]\n"
     ]
    },
    {
     "data": {
      "text/plain": [
       "<mlnics.Losses.PINN_Loss at 0x7fbf06b2cee0>"
      ]
     },
     "execution_count": 9,
     "metadata": {},
     "output_type": "execute_result"
    }
   ],
   "source": [
    "pinn_trainer.train()"
   ]
  },
  {
   "cell_type": "code",
   "execution_count": 10,
   "metadata": {},
   "outputs": [
    {
     "data": {
      "image/png": "[encoded data removed]",
      "text/plain": [
       "<Figure size 432x288 with 1 Axes>"
      ]
     },
     "metadata": {
      "needs_background": "light"
     },
     "output_type": "display_data"
    }
   ],
   "source": [
    "fig, ax = Training.plot_loss(pinn_trainer, pinn_net)"
   ]
  },
  {
   "cell_type": "markdown",
   "metadata": {
    "scrolled": true
   },
   "source": [
    "#### 4.5.3 Train PDNN\n",
    "\n",
    "Given a training set $\\Xi_{PDNN} = ((\\boldsymbol{\\mu}^{(1)}, u^{\\text{HF}}(\\boldsymbol{\\mu}^{(1)})), \\dots, (\\boldsymbol{\\mu}^{(N_\\text{PDNN})}, u^{\\text{HF}}(\\boldsymbol{\\mu}^{(N_\\text{PDNN})})))$ of parameter and high fidelity solution pairs for the PDE, we train a Projection-Driven Neural Network (PDNN) $\\operatorname{N}_W(\\boldsymbol{\\mu})$ dependent on the weights and biases $W$ of the network to minimize the loss function\n",
    "$$L_{PDNN}(\\Xi_{PDNN}; W) = \\frac{1}{N_\\text{PDNN}} \\sum_{i=1}^{N_\\text{PDNN}} \\|u^{NN}(\\boldsymbol{\\mu}^{(i)}; W) - U^T u^{\\text{HF}}(\\boldsymbol{\\mu}^{(i)})\\|_2^2,$$\n",
    "where for a given $\\boldsymbol{\\mu}$, the quantity $U^T u^{\\text{HF}}(\\boldsymbol{\\mu})$ is the projection of the high fidelity solution $u^{\\text{HF}}(\\boldsymbol{\\mu})$ onto the reduced order space."
   ]
  },
  {
   "cell_type": "code",
   "execution_count": 11,
   "metadata": {},
   "outputs": [],
   "source": [
    "input_normalization_pdnn = Normalization.StandardNormalization(input_normalization=True)\n",
    "output_normalization_pdnn = Normalization.StandardNormalization()\n",
    "\n",
    "pdnn_net  = NN.RONN(\"PDNN\", problem, reduction_method, n_hidden=2, n_neurons=40)\n",
    "pdnn_loss = Losses.PDNN_Loss(pdnn_net, output_normalization_pdnn)\n",
    "data      = RONNData.RONNDataLoader(pdnn_net, validation_proportion=0.2)\n",
    "optimizer = torch.optim.Adam(pdnn_net.parameters(), lr=0.001)\n",
    "scheduler = torch.optim.lr_scheduler.ExponentialLR(optimizer, 0.99999)\n",
    "\n",
    "pdnn_trainer = Training.PDNNTrainer(\n",
    "    pdnn_net, data, pdnn_loss, optimizer, scheduler,\n",
    "    input_normalization_pdnn, num_epochs=10000\n",
    ")\n",
    "\n",
    "loaded, starting_epoch = IO.initialize_parameters(\n",
    "    pdnn_net, data, pdnn_trainer, optimizer\n",
    ")"
   ]
  },
  {
   "cell_type": "code",
   "execution_count": 12,
   "metadata": {
    "scrolled": true
   },
   "outputs": [
    {
     "name": "stderr",
     "output_type": "stream",
     "text": [
      "100%|████████████████████████████████████████████████████| 10000/10000 [00:38<00:00, 256.59it/s, Loss(training)=3.51e-5]\n"
     ]
    },
    {
     "data": {
      "text/plain": [
       "<mlnics.Losses.PDNN_Loss at 0x7fbf0661ad00>"
      ]
     },
     "execution_count": 12,
     "metadata": {},
     "output_type": "execute_result"
    }
   ],
   "source": [
    "pdnn_trainer.train()"
   ]
  },
  {
   "cell_type": "code",
   "execution_count": 13,
   "metadata": {},
   "outputs": [
    {
     "data": {
      "image/png": "[encoded data removed]",
      "text/plain": [
       "<Figure size 432x288 with 1 Axes>"
      ]
     },
     "metadata": {
      "needs_background": "light"
     },
     "output_type": "display_data"
    }
   ],
   "source": [
    "fig, ax = Training.plot_loss(pdnn_trainer, pdnn_net)"
   ]
  },
  {
   "cell_type": "markdown",
   "metadata": {},
   "source": [
    "#### 4.5.4 Train PRNN\n",
    "\n",
    "We train a Physics-Reinforced Neural Network (PRNN) $N_W(\\boldsymbol{\\mu})$ dependent on the weights and biases $W$ of the network to minimize the loss function\n",
    "\n",
    "$$L_{PRNN}(\\Xi_{PINN}, \\Xi_{PDNN}; W) = L_{PINN}(\\Xi_{PINN}; W) + \\omega L_{PDNN}(\\Xi_{PDNN}; W)$$\n",
    "\n",
    "where $\\omega$ is a scaling parameter which can be chosen freely."
   ]
  },
  {
   "cell_type": "code",
   "execution_count": 14,
   "metadata": {},
   "outputs": [],
   "source": [
    "input_normalization_prnn = Normalization.StandardNormalization(input_normalization=True)\n",
    "output_normalization_prnn = Normalization.StandardNormalization()\n",
    "\n",
    "omega = 1.\n",
    "prnn_net  = NN.RONN(f\"PRNN_{omega}\", problem, reduction_method, n_hidden=2, n_neurons=40)\n",
    "prnn_loss = Losses.PRNN_Loss(prnn_net, output_normalization_prnn, omega=omega)\n",
    "data      = RONNData.RONNDataLoader(prnn_net, validation_proportion=0.2,\n",
    "                                    num_without_snapshots=100)\n",
    "optimizer = torch.optim.Adam(prnn_net.parameters(), lr=0.001)\n",
    "scheduler = torch.optim.lr_scheduler.ExponentialLR(optimizer, 0.99999)\n",
    "\n",
    "prnn_trainer = Training.PRNNTrainer(\n",
    "    prnn_net, data, prnn_loss, optimizer, scheduler,\n",
    "    input_normalization_prnn, num_epochs=40000\n",
    ")\n",
    "\n",
    "loaded, starting_epoch = IO.initialize_parameters(\n",
    "    prnn_net, data, prnn_trainer, optimizer\n",
    ")"
   ]
  },
  {
   "cell_type": "code",
   "execution_count": 15,
   "metadata": {
    "scrolled": true
   },
   "outputs": [
    {
     "name": "stderr",
     "output_type": "stream",
     "text": [
      "\r",
      "  0%|                                                                                         | 0/40000 [00:00<?, ?it/s]"
     ]
    },
    {
     "name": "stdout",
     "output_type": "stream",
     "text": [
      "Operator 's' not implemented. Continuing without operator 's'...\n",
      "Operator 's' not implemented. Continuing without operator 's'...\n"
     ]
    },
    {
     "name": "stderr",
     "output_type": "stream",
     "text": [
      "100%|████████████████████████████████████████████████████| 40000/40000 [04:08<00:00, 161.24it/s, Loss(training)=0.00378]\n"
     ]
    },
    {
     "data": {
      "text/plain": [
       "<mlnics.Losses.PRNN_Loss at 0x7fbf02499ca0>"
      ]
     },
     "execution_count": 15,
     "metadata": {},
     "output_type": "execute_result"
    }
   ],
   "source": [
    "prnn_trainer.train()"
   ]
  },
  {
   "cell_type": "code",
   "execution_count": 16,
   "metadata": {
    "scrolled": true
   },
   "outputs": [
    {
     "data": {
      "image/png": "[encoded data removed]",
      "text/plain": [
       "<Figure size 432x288 with 1 Axes>"
      ]
     },
     "metadata": {
      "needs_background": "light"
     },
     "output_type": "display_data"
    }
   ],
   "source": [
    "fig, ax = Training.plot_loss(prnn_trainer, prnn_net, separate=True)"
   ]
  },
  {
   "cell_type": "markdown",
   "metadata": {},
   "source": [
    "### 4.6. Perform an error analysis"
   ]
  },
  {
   "cell_type": "markdown",
   "metadata": {},
   "source": [
    "#### 4.6.1 Reduction Method Error Analysis"
   ]
  },
  {
   "cell_type": "code",
   "execution_count": 17,
   "metadata": {
    "scrolled": true
   },
   "outputs": [],
   "source": [
    "np.random.seed(0)\n",
    "\n",
    "reduction_method.initialize_testing_set(100)\n",
    "test_set_mu = torch.tensor(reduction_method.testing_set, dtype=torch.float64)\n",
    "online_mu = tuple(np.array(reduction_method.testing_set)[0,:])"
   ]
  },
  {
   "cell_type": "markdown",
   "metadata": {},
   "source": [
    "#### 4.6.2 PINN Error Analysis"
   ]
  },
  {
   "cell_type": "code",
   "execution_count": 18,
   "metadata": {},
   "outputs": [
    {
     "data": {
      "image/png": "[encoded data removed]",
      "text/plain": [
       "<Figure size 432x288 with 2 Axes>"
      ]
     },
     "metadata": {
      "needs_background": "light"
     },
     "output_type": "display_data"
    }
   ],
   "source": [
    "ErrorAnalysis.plot_solution(\n",
    "    pinn_net, online_mu, input_normalization_pinn, output_normalization_pinn\n",
    ")"
   ]
  },
  {
   "cell_type": "code",
   "execution_count": 19,
   "metadata": {},
   "outputs": [
    {
     "name": "stdout",
     "output_type": "stream",
     "text": [
      "################################# PINN N = 12 ##################################\n",
      "ERROR\tNN-HF\t\t\tNN-RO\t\t\tRO-HF\n",
      "min\t0.0024450223304948193\t0.0022069813277798287\t0.0001345700205205204\n",
      "mean\t0.030286193821219796\t0.030053430511928388\t0.0017663438985827018\n",
      "max\t0.4247989127540296\t0.42479373106663587\t0.0070671961215535055\n"
     ]
    }
   ],
   "source": [
    "_ = ErrorAnalysis.error_analysis_fixed_net(\n",
    "    pinn_net, test_set_mu, input_normalization_pinn, output_normalization_pinn\n",
    ")"
   ]
  },
  {
   "cell_type": "code",
   "execution_count": 20,
   "metadata": {},
   "outputs": [
    {
     "data": {
      "image/png": "[encoded data removed]",
      "text/plain": [
       "<Figure size 432x288 with 2 Axes>"
      ]
     },
     "metadata": {
      "needs_background": "light"
     },
     "output_type": "display_data"
    }
   ],
   "source": [
    "ErrorAnalysis.plot_solution_difference(\n",
    "    pinn_net, online_mu, input_normalization_pinn, output_normalization_pinn\n",
    ")"
   ]
  },
  {
   "cell_type": "markdown",
   "metadata": {},
   "source": [
    "#### 4.6.3 PDNN Error Analysis"
   ]
  },
  {
   "cell_type": "code",
   "execution_count": 21,
   "metadata": {},
   "outputs": [
    {
     "name": "stdout",
     "output_type": "stream",
     "text": [
      "################################# PDNN N = 12 ##################################\n",
      "ERROR\tNN-HF\t\t\tNN-RO\t\t\tRO-HF\n",
      "min\t0.00024913189649012273\t0.00017143638285183494\t0.0001345700205205204\n",
      "mean\t0.021533229197669996\t0.021154803576702595\t0.0017663438985827018\n",
      "max\t0.4099143833247969\t0.4100403424440748\t0.0070671961215535055\n"
     ]
    }
   ],
   "source": [
    "_ = ErrorAnalysis.error_analysis_fixed_net(\n",
    "    pdnn_net, test_set_mu, input_normalization_pdnn, output_normalization_pdnn\n",
    ")"
   ]
  },
  {
   "cell_type": "code",
   "execution_count": 22,
   "metadata": {},
   "outputs": [
    {
     "data": {
      "image/png": "[encoded data removed]",
      "text/plain": [
       "<Figure size 432x288 with 2 Axes>"
      ]
     },
     "metadata": {
      "needs_background": "light"
     },
     "output_type": "display_data"
    }
   ],
   "source": [
    "ErrorAnalysis.plot_solution_difference(\n",
    "    pdnn_net, online_mu, input_normalization_pdnn, output_normalization_pdnn\n",
    ")"
   ]
  },
  {
   "cell_type": "markdown",
   "metadata": {},
   "source": [
    "#### 4.6.4 PRNN Error Analysis"
   ]
  },
  {
   "cell_type": "code",
   "execution_count": 23,
   "metadata": {},
   "outputs": [
    {
     "name": "stdout",
     "output_type": "stream",
     "text": [
      "############################### PRNN_1.0 N = 12 ################################\n",
      "ERROR\tNN-HF\t\t\tNN-RO\t\t\tRO-HF\n",
      "min\t0.0014811114622521138\t0.0007019626071210194\t0.0001345700205205204\n",
      "mean\t0.024742279523828858\t0.024537026524456173\t0.0017663438985827018\n",
      "max\t0.21263828338276836\t0.21264324068373347\t0.0070671961215535055\n"
     ]
    }
   ],
   "source": [
    "_ = ErrorAnalysis.error_analysis_fixed_net(\n",
    "    prnn_net, test_set_mu, input_normalization_prnn, output_normalization_prnn\n",
    ")"
   ]
  },
  {
   "cell_type": "code",
   "execution_count": 24,
   "metadata": {},
   "outputs": [
    {
     "data": {
      "image/png": "[encoded data removed]",
      "text/plain": [
       "<Figure size 432x288 with 2 Axes>"
      ]
     },
     "metadata": {
      "needs_background": "light"
     },
     "output_type": "display_data"
    }
   ],
   "source": [
    "ErrorAnalysis.plot_solution_difference(\n",
    "    prnn_net, online_mu, input_normalization_prnn, output_normalization_prnn\n",
    ")"
   ]
  },
  {
   "cell_type": "markdown",
   "metadata": {},
   "source": [
    "#### 4.6.5 Neural Network Error Comparison"
   ]
  },
  {
   "cell_type": "code",
   "execution_count": 25,
   "metadata": {},
   "outputs": [
    {
     "name": "stdout",
     "output_type": "stream",
     "text": [
      "#####################################################################################\n",
      "Mean Relative Error for N = 12 Basis Functions\n",
      "Network\t\tNN-HF\t\t\tNN-RO\t\t\tRO-HF\n",
      "pinn_net\t0.030286193821219796\t0.030053430511928388\t0.0017663438985827018\n",
      "pdnn_net\t0.021533229197669996\t0.021154803576702595\t0.0017663438985827018\n",
      "prnn_net\t0.024742279523828858\t0.024537026524456173\t0.0017663438985827018\n",
      "#####################################################################################\n"
     ]
    }
   ],
   "source": [
    "nets = dict()\n",
    "nets[\"pinn_net\"] = pinn_net\n",
    "nets[\"pdnn_net\"] = pdnn_net\n",
    "nets[\"prnn_net\"] = prnn_net\n",
    "\n",
    "input_normalizations = dict()\n",
    "input_normalizations[\"pinn_net\"] = input_normalization_pinn\n",
    "input_normalizations[\"pdnn_net\"] = input_normalization_pdnn\n",
    "input_normalizations[\"prnn_net\"] = input_normalization_prnn\n",
    "\n",
    "output_normalizations = dict()\n",
    "output_normalizations[\"pinn_net\"] = output_normalization_pinn\n",
    "output_normalizations[\"pdnn_net\"] = output_normalization_pdnn\n",
    "output_normalizations[\"prnn_net\"] = output_normalization_prnn\n",
    "\n",
    "_ = ErrorAnalysis.error_analysis_by_network(\n",
    "    nets, test_set_mu, input_normalizations, output_normalizations, euclidean=False\n",
    ")"
   ]
  },
  {
   "cell_type": "markdown",
   "metadata": {},
   "source": [
    "### 4.7. Perform a speedup analysis"
   ]
  },
  {
   "cell_type": "code",
   "execution_count": 26,
   "metadata": {
    "scrolled": true
   },
   "outputs": [
    {
     "name": "stdout",
     "output_type": "stream",
     "text": [
      "================================================================================\n",
      "=                   Hole POD-Galerkin error analysis begins                    =\n",
      "================================================================================\n",
      "\n",
      "###################################### 0 #######################################\n",
      "###################################### 1 #######################################\n",
      "###################################### 2 #######################################\n",
      "###################################### 3 #######################################\n",
      "###################################### 4 #######################################\n",
      "###################################### 5 #######################################\n",
      "###################################### 6 #######################################\n",
      "###################################### 7 #######################################\n",
      "###################################### 8 #######################################\n",
      "###################################### 9 #######################################\n",
      "###################################### 10 ######################################\n",
      "###################################### 11 ######################################\n",
      "###################################### 12 ######################################\n",
      "###################################### 13 ######################################\n",
      "###################################### 14 ######################################\n",
      "###################################### 15 ######################################\n",
      "###################################### 16 ######################################\n",
      "###################################### 17 ######################################\n",
      "###################################### 18 ######################################\n",
      "###################################### 19 ######################################\n",
      "###################################### 20 ######################################\n",
      "###################################### 21 ######################################\n",
      "###################################### 22 ######################################\n",
      "###################################### 23 ######################################\n",
      "###################################### 24 ######################################\n",
      "###################################### 25 ######################################\n",
      "###################################### 26 ######################################\n",
      "###################################### 27 ######################################\n",
      "###################################### 28 ######################################\n",
      "###################################### 29 ######################################\n",
      "###################################### 30 ######################################\n",
      "###################################### 31 ######################################\n",
      "###################################### 32 ######################################\n",
      "###################################### 33 ######################################\n",
      "###################################### 34 ######################################\n",
      "###################################### 35 ######################################\n",
      "###################################### 36 ######################################\n",
      "###################################### 37 ######################################\n",
      "###################################### 38 ######################################\n",
      "###################################### 39 ######################################\n",
      "###################################### 40 ######################################\n",
      "###################################### 41 ######################################\n",
      "###################################### 42 ######################################\n",
      "###################################### 43 ######################################\n",
      "###################################### 44 ######################################\n",
      "###################################### 45 ######################################\n",
      "###################################### 46 ######################################\n",
      "###################################### 47 ######################################\n",
      "###################################### 48 ######################################\n",
      "###################################### 49 ######################################\n",
      "###################################### 50 ######################################\n",
      "###################################### 51 ######################################\n",
      "###################################### 52 ######################################\n",
      "###################################### 53 ######################################\n",
      "###################################### 54 ######################################\n",
      "###################################### 55 ######################################\n",
      "###################################### 56 ######################################\n",
      "###################################### 57 ######################################\n",
      "###################################### 58 ######################################\n",
      "###################################### 59 ######################################\n",
      "###################################### 60 ######################################\n",
      "###################################### 61 ######################################\n",
      "###################################### 62 ######################################\n",
      "###################################### 63 ######################################\n",
      "###################################### 64 ######################################\n",
      "###################################### 65 ######################################\n",
      "###################################### 66 ######################################\n",
      "###################################### 67 ######################################\n",
      "###################################### 68 ######################################\n",
      "###################################### 69 ######################################\n",
      "###################################### 70 ######################################\n",
      "###################################### 71 ######################################\n",
      "###################################### 72 ######################################\n",
      "###################################### 73 ######################################\n",
      "###################################### 74 ######################################\n",
      "###################################### 75 ######################################\n",
      "###################################### 76 ######################################\n",
      "###################################### 77 ######################################\n",
      "###################################### 78 ######################################\n",
      "###################################### 79 ######################################\n",
      "###################################### 80 ######################################\n",
      "###################################### 81 ######################################\n",
      "###################################### 82 ######################################\n",
      "###################################### 83 ######################################\n",
      "###################################### 84 ######################################\n",
      "###################################### 85 ######################################\n",
      "###################################### 86 ######################################\n",
      "###################################### 87 ######################################\n",
      "###################################### 88 ######################################\n",
      "###################################### 89 ######################################\n",
      "###################################### 90 ######################################\n",
      "###################################### 91 ######################################\n",
      "###################################### 92 ######################################\n",
      "###################################### 93 ######################################\n",
      "###################################### 94 ######################################\n",
      "###################################### 95 ######################################\n",
      "###################################### 96 ######################################\n",
      "###################################### 97 ######################################\n",
      "###################################### 98 ######################################\n"
     ]
    },
    {
     "name": "stdout",
     "output_type": "stream",
     "text": [
      "###################################### 99 ######################################\n",
      "\n",
      "N \tgmean(error_u)      \tmax(error_u)       \tgmean(relative_error_u)\tmax(relative_error_u)\n",
      "1 \t2.2784285995779876  \t38.95138976917946  \t0.34335986370900856    \t0.7198194019894694   \n",
      "2 \t0.6407971717218411  \t2.736730143563398  \t0.0965683232681869     \t0.2528619642957915   \n",
      "3 \t0.3728878461127924  \t1.873428642494357  \t0.05619430867561479    \t0.21566662499661532  \n",
      "4 \t0.12900590612220306 \t0.5840061005762373 \t0.019441228200866703   \t0.07403820982528768  \n",
      "5 \t0.10221623832314392 \t0.5624842444843562 \t0.015404017341593648   \t0.04654227375271292  \n",
      "6 \t0.0739447191013641  \t0.4001510241414679 \t0.011143491034719283   \t0.04089347782641633  \n",
      "7 \t0.05011912284811256 \t0.20912929278550058\t0.007552966633903044   \t0.0341639726963669   \n",
      "8 \t0.032656590035051565\t0.1538540946646559 \t0.004921357775140787   \t0.025325262549471643 \n",
      "9 \t0.02460781566984191 \t0.10427198867111662\t0.0037084050982059817  \t0.02520094998322835  \n",
      "10\t0.018620084478975864\t0.09150423505938869\t0.0028060522371144603  \t0.01733488337727142  \n",
      "11\t0.014738231969493013\t0.06952915550932708\t0.002221055916035371   \t0.016804136879879205 \n",
      "12\t0.010825577283763732\t0.04861245430145651\t0.0016314176978874534  \t0.011748889083500592 \n",
      "\n",
      "================================================================================\n",
      "=                    Hole POD-Galerkin error analysis ends                     =\n",
      "================================================================================\n",
      "\n",
      "================================================================================\n",
      "=                  Hole POD-Galerkin speedup analysis begins                   =\n",
      "================================================================================\n",
      "\n",
      "###################################### 0 #######################################\n",
      "###################################### 1 #######################################\n",
      "###################################### 2 #######################################\n",
      "###################################### 3 #######################################\n",
      "###################################### 4 #######################################\n",
      "###################################### 5 #######################################\n",
      "###################################### 6 #######################################\n",
      "###################################### 7 #######################################\n",
      "###################################### 8 #######################################\n",
      "###################################### 9 #######################################\n",
      "###################################### 10 ######################################\n",
      "###################################### 11 ######################################\n",
      "###################################### 12 ######################################\n",
      "###################################### 13 ######################################\n",
      "###################################### 14 ######################################\n",
      "###################################### 15 ######################################\n",
      "###################################### 16 ######################################\n",
      "###################################### 17 ######################################\n",
      "###################################### 18 ######################################\n",
      "###################################### 19 ######################################\n",
      "###################################### 20 ######################################\n",
      "###################################### 21 ######################################\n",
      "###################################### 22 ######################################\n",
      "###################################### 23 ######################################\n",
      "###################################### 24 ######################################\n",
      "###################################### 25 ######################################\n",
      "###################################### 26 ######################################\n",
      "###################################### 27 ######################################\n",
      "###################################### 28 ######################################\n",
      "###################################### 29 ######################################\n",
      "###################################### 30 ######################################\n",
      "###################################### 31 ######################################\n",
      "###################################### 32 ######################################\n",
      "###################################### 33 ######################################\n",
      "###################################### 34 ######################################\n",
      "###################################### 35 ######################################\n",
      "###################################### 36 ######################################\n",
      "###################################### 37 ######################################\n",
      "###################################### 38 ######################################\n",
      "###################################### 39 ######################################\n",
      "###################################### 40 ######################################\n",
      "###################################### 41 ######################################\n",
      "###################################### 42 ######################################\n",
      "###################################### 43 ######################################\n",
      "###################################### 44 ######################################\n",
      "###################################### 45 ######################################\n",
      "###################################### 46 ######################################\n",
      "###################################### 47 ######################################\n",
      "###################################### 48 ######################################\n",
      "###################################### 49 ######################################\n",
      "###################################### 50 ######################################\n",
      "###################################### 51 ######################################\n",
      "###################################### 52 ######################################\n",
      "###################################### 53 ######################################\n",
      "###################################### 54 ######################################\n",
      "###################################### 55 ######################################\n",
      "###################################### 56 ######################################\n",
      "###################################### 57 ######################################\n",
      "###################################### 58 ######################################\n",
      "###################################### 59 ######################################\n",
      "###################################### 60 ######################################\n",
      "###################################### 61 ######################################\n",
      "###################################### 62 ######################################\n",
      "###################################### 63 ######################################\n",
      "###################################### 64 ######################################\n",
      "###################################### 65 ######################################\n",
      "###################################### 66 ######################################\n",
      "###################################### 67 ######################################\n",
      "###################################### 68 ######################################\n",
      "###################################### 69 ######################################\n",
      "###################################### 70 ######################################\n",
      "###################################### 71 ######################################\n",
      "###################################### 72 ######################################\n",
      "###################################### 73 ######################################\n",
      "###################################### 74 ######################################\n",
      "###################################### 75 ######################################\n",
      "###################################### 76 ######################################\n",
      "###################################### 77 ######################################\n",
      "###################################### 78 ######################################\n",
      "###################################### 79 ######################################\n"
     ]
    },
    {
     "name": "stdout",
     "output_type": "stream",
     "text": [
      "###################################### 80 ######################################\n",
      "###################################### 81 ######################################\n",
      "###################################### 82 ######################################\n",
      "###################################### 83 ######################################\n",
      "###################################### 84 ######################################\n",
      "###################################### 85 ######################################\n",
      "###################################### 86 ######################################\n",
      "###################################### 87 ######################################\n",
      "###################################### 88 ######################################\n",
      "###################################### 89 ######################################\n",
      "###################################### 90 ######################################\n",
      "###################################### 91 ######################################\n",
      "###################################### 92 ######################################\n",
      "###################################### 93 ######################################\n",
      "###################################### 94 ######################################\n",
      "###################################### 95 ######################################\n",
      "###################################### 96 ######################################\n",
      "###################################### 97 ######################################\n",
      "###################################### 98 ######################################\n",
      "###################################### 99 ######################################\n",
      "\n",
      "N \tmin(speedup_solve)\tgmean(speedup_solve)\tmax(speedup_solve)\n",
      "1 \t2.479432808283514 \t3.952241935285619   \t6.280175739696442 \n",
      "2 \t2.819380777025272 \t4.284655233642947   \t6.5426676788793605\n",
      "3 \t3.0271902505873434\t4.332835932744411   \t5.8567945154082945\n",
      "4 \t3.3270812713314664\t4.344291321540292   \t6.7899297912786345\n",
      "5 \t2.810348485660251 \t4.294581297993733   \t6.645040591698502 \n",
      "6 \t3.503193090909186 \t4.301835917194165   \t5.9662628528985975\n",
      "7 \t3.85379434042587  \t4.350559698950601   \t6.520393404597513 \n",
      "8 \t3.058509474433559 \t4.305180980289462   \t6.71924514448576  \n",
      "9 \t3.514002715106529 \t4.3168881468019675  \t6.270499871570851 \n",
      "10\t3.115537625294136 \t4.312269643468596   \t6.433357483024408 \n",
      "11\t3.4709109254100623\t4.316073295317409   \t6.595831363492489 \n",
      "12\t2.2790807712627505\t4.252714214491805   \t6.7017267009637065\n",
      "\n",
      "================================================================================\n",
      "=                   Hole POD-Galerkin speedup analysis ends                    =\n",
      "================================================================================\n",
      "\n"
     ]
    }
   ],
   "source": [
    "reduction_method.initialize_testing_set(100)\n",
    "reduction_method.error_analysis()\n",
    "reduction_method.speedup_analysis()"
   ]
  }
 ],
 "metadata": {
  "kernelspec": {
   "display_name": "Python 3 (ipykernel)",
   "language": "python",
   "name": "python3"
  },
  "language_info": {
   "codemirror_mode": {
    "name": "ipython",
    "version": 3
   },
   "file_extension": ".py",
   "mimetype": "text/x-python",
   "name": "python",
   "nbconvert_exporter": "python",
   "pygments_lexer": "ipython3",
   "version": "3.8.10"
  },
  "vscode": {
   "interpreter": {
    "hash": "19f30451fb2811d68d11696a35166e5f544806e8946be9705ed90063e87f3a80"
   }
  }
 },
 "nbformat": 4,
 "nbformat_minor": 2
}
