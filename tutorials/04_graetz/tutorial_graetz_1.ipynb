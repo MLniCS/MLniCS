{
 "cells": [
  {
   "cell_type": "markdown",
   "metadata": {},
   "source": [
    "## TUTORIAL 04 - Graetz problem 1\n",
    "**_Keywords: successive constraints method_**\n",
    "\n",
    "### 1. Introduction\n",
    "This Tutorial addresses geometrical parametrization and the successive constraints method (SCM). In particular, we will solve the Graetz problem, which deals with forced heat convection in a channel $\\Omega_o(\\mu_0)$ divided into two parts $\\Omega_o^1$ and $\\Omega_o^2(\\mu_0)$, as in the following picture:\n",
    "\n",
    "<img src=\"data/graetz_1.png\" width=\"70%\"/>\n",
    "\n",
    "Boundaries $\\Gamma_{o, 1} \\cup \\Gamma_{o, 5} \\cup \\Gamma_{o, 6}$ are kept at low temperature (say, zero), while boundaries $\\Gamma_{o, 2}(\\mu_0) \\cup \\Gamma_{o, 4}(\\mu_0)$ are kept at high temperature (say, one). The convection is characterized by the velocity $\\boldsymbol{\\beta} = (x_1(1-x_1), 0)$, being $\\boldsymbol{x}_o = (x_{o, 0}, x_1)$ the coordinate vector on the parametrized domain $\\Omega_o(\\mu_0)$.\n",
    "\n",
    "The problem is characterized by two parameters. The first parameter $\\mu_0$ controls the shape of deformable subdomain $\\Omega_2(\\mu_0)$. The heat transfer between the domains can be taken into account by means of the Péclet number, which will be labeled as the parameter $\\mu_1$. The ranges of the two parameters are the following:\n",
    "$$\\mu_0 \\in [0.1,10.0] \\quad \\text{and} \\quad \\mu_1 \\in [0.01,10.0].$$\n",
    "\n",
    "The parameter vector $\\boldsymbol{\\mu}$ is thus given by \n",
    "$$\n",
    "\\boldsymbol{\\mu} = (\\mu_0, \\mu_1)\n",
    "$$\n",
    "on the parameter domain\n",
    "$$\n",
    "\\mathbb{P}=[0.1,10.0]\\times[0.01,10.0].\n",
    "$$\n",
    "\n",
    "In order to obtain a faster (yet, provably accurate) approximation of the problem, and avoiding _any_ remeshing, we pursue a model reduction by means of a certified reduced basis reduced order method from a fixed reference domain.\n",
    "The successive constraints method will be used to evaluate the stability factors."
   ]
  },
  {
   "cell_type": "markdown",
   "metadata": {},
   "source": [
    "### 2. Parametrized formulation\n",
    "\n",
    "Let $u_o(\\boldsymbol{\\mu})$ be the temperature in the domain $\\Omega_o(\\mu_0)$.\n",
    "\n",
    "We will directly provide a weak formulation for this problem\n",
    "<center>for a given parameter $\\boldsymbol{\\mu}\\in\\mathbb{P}$, find $u_o(\\boldsymbol{\\mu})\\in\\mathbb{V}_o(\\boldsymbol{\\mu})$ such that</center>\n",
    "\n",
    "$$a_o\\left(u_o(\\boldsymbol{\\mu}),v_o;\\boldsymbol{\\mu}\\right)=f_o(v_o;\\boldsymbol{\\mu})\\quad \\forall v_o\\in\\mathbb{V}_o(\\boldsymbol{\\mu})$$\n",
    "\n",
    "where\n",
    "\n",
    "* the function space $\\mathbb{V}_o(\\boldsymbol{\\mu})$ is defined as\n",
    "$$\n",
    "\\mathbb{V}_o(\\mu_0) = \\left\\{ v \\in H^1(\\Omega_o(\\mu_0)): v|_{\\Gamma_{o,1} \\cup \\Gamma_{o,5} \\cup \\Gamma_{o,6}} = 0, v|_{\\Gamma_{o,2}(\\mu_0) \\cup \\Gamma_{o,2}(\\mu_0)} = 1 \\right\\}\n",
    "$$\n",
    "Note that, as in the previous tutorial, the function space is parameter dependent due to the shape variation. \n",
    "* the parametrized bilinear form $a_o(\\cdot, \\cdot; \\boldsymbol{\\mu}): \\mathbb{V}_o(\\boldsymbol{\\mu}) \\times \\mathbb{V}_o(\\boldsymbol{\\mu}) \\to \\mathbb{R}$ is defined by\n",
    "$$a_o(u_o,v_o;\\boldsymbol{\\mu}) = \\mu_1\\int_{\\Omega_o(\\mu_0)} \\nabla u_o \\cdot \\nabla v_o \\ d\\boldsymbol{x} + \\int_{\\Omega_o(\\mu_0)} x_1(1-x_1) \\partial_{x} u_o\\ v_o \\ d\\boldsymbol{x},$$\n",
    "* the parametrized linear form $f_o(\\cdot; \\boldsymbol{\\mu}): \\mathbb{V}_o(\\boldsymbol{\\mu}) \\to \\mathbb{R}$ is defined by\n",
    "$$f_o(v_o;\\boldsymbol{\\mu}) = 0.$$\n",
    "\n",
    "The successive constraints method will be used to compute the stability factor of the bilinear form $a_o(\\cdot, \\cdot; \\boldsymbol{\\mu})$."
   ]
  },
  {
   "cell_type": "code",
   "execution_count": 1,
   "metadata": {},
   "outputs": [],
   "source": [
    "import sys\n",
    "sys.path.append(\"../../MLniCS/\")\n",
    "from mlnics import NN, Losses, Normalization\n",
    "from dolfin import *\n",
    "from rbnics import *\n",
    "import torch\n",
    "import numpy as np\n",
    "\n",
    "torch.manual_seed(0)\n",
    "np.random.seed(0)"
   ]
  },
  {
   "cell_type": "markdown",
   "metadata": {},
   "source": [
    "## 3. Affine decomposition\n",
    "\n",
    "In order to obtain an affine decomposition, we proceed as in the previous tutorial and recast the problem on a fixed, parameter _independent_, reference domain $\\Omega$. As reference domain which choose the one characterized by $\\mu_0 = 1$ which we generate through the generate_mesh notebook provided in the _data_ folder.\n",
    "As in the previous tutorial, we pull back the problem to the reference domain $\\Omega$."
   ]
  },
  {
   "cell_type": "code",
   "execution_count": 2,
   "metadata": {},
   "outputs": [],
   "source": [
    "@SCM()\n",
    "@PullBackFormsToReferenceDomain()\n",
    "@ShapeParametrization(\n",
    "    (\"x[0]\", \"x[1]\"),  # subdomain 1\n",
    "    (\"mu[0]*(x[0] - 1) + 1\", \"x[1]\"),  # subdomain 2\n",
    ")\n",
    "class Graetz(EllipticCoerciveProblem):\n",
    "\n",
    "    # Default initialization of members\n",
    "    @generate_function_space_for_stability_factor\n",
    "    def __init__(self, V, **kwargs):\n",
    "        # Call the standard initialization\n",
    "        EllipticCoerciveProblem.__init__(self, V, **kwargs)\n",
    "        # ... and also store FEniCS data structures for assembly\n",
    "        assert \"subdomains\" in kwargs\n",
    "        assert \"boundaries\" in kwargs\n",
    "        self.subdomains, self.boundaries = kwargs[\"subdomains\"], kwargs[\"boundaries\"]\n",
    "        self.u = TrialFunction(V)\n",
    "        self.v = TestFunction(V)\n",
    "        self.dx = Measure(\"dx\")(subdomain_data=subdomains)\n",
    "        self.ds = Measure(\"ds\")(subdomain_data=boundaries)\n",
    "        # Store the velocity expression\n",
    "        self.vel = Expression(\"x[1]*(1-x[1])\", element=self.V.ufl_element())\n",
    "        # Customize eigen solver parameters\n",
    "        self._eigen_solver_parameters.update({\n",
    "            \"bounding_box_minimum\": {\n",
    "                \"problem_type\": \"gen_hermitian\", \"spectral_transform\": \"shift-and-invert\",\n",
    "                \"spectral_shift\": 1.e-5, \"linear_solver\": \"mumps\"\n",
    "            },\n",
    "            \"bounding_box_maximum\": {\n",
    "                \"problem_type\": \"gen_hermitian\", \"spectral_transform\": \"shift-and-invert\",\n",
    "                \"spectral_shift\": 1.e5, \"linear_solver\": \"mumps\"\n",
    "            },\n",
    "            \"stability_factor\": {\n",
    "                \"problem_type\": \"gen_hermitian\", \"spectral_transform\": \"shift-and-invert\",\n",
    "                \"spectral_shift\": 1.e-5, \"linear_solver\": \"mumps\"\n",
    "            }\n",
    "        })\n",
    "\n",
    "    # Return custom problem name\n",
    "    def name(self):\n",
    "        return \"Graetz1\"\n",
    "\n",
    "    # Return theta multiplicative terms of the affine expansion of the problem.\n",
    "    @compute_theta_for_stability_factor\n",
    "    def compute_theta(self, term):\n",
    "        mu = self.mu\n",
    "        if term == \"a\":\n",
    "            theta_a0 = mu[1]\n",
    "            theta_a1 = 1.0\n",
    "            return (theta_a0, theta_a1)\n",
    "        elif term == \"f\":\n",
    "            theta_f0 = 1.0\n",
    "            return (theta_f0,)\n",
    "        elif term == \"dirichlet_bc\":\n",
    "            theta_bc0 = 1.0\n",
    "            return (theta_bc0,)\n",
    "        else:\n",
    "            raise ValueError(\"Invalid term for compute_theta().\")\n",
    "\n",
    "    # Return forms resulting from the discretization of the affine expansion of the problem operators.\n",
    "    @assemble_operator_for_stability_factor\n",
    "    def assemble_operator(self, term):\n",
    "        v = self.v\n",
    "        dx = self.dx\n",
    "        if term == \"a\":\n",
    "            u = self.u\n",
    "            vel = self.vel\n",
    "            a0 = inner(grad(u), grad(v)) * dx\n",
    "            a1 = vel * u.dx(0) * v * dx\n",
    "            return (a0, a1)\n",
    "        elif term == \"f\":\n",
    "            f0 = Constant(0.0) * v * dx\n",
    "            return (f0,)\n",
    "        elif term == \"dirichlet_bc\":\n",
    "            bc0 = [DirichletBC(self.V, Constant(0.0), self.boundaries, 1),\n",
    "                   DirichletBC(self.V, Constant(1.0), self.boundaries, 2),\n",
    "                   DirichletBC(self.V, Constant(1.0), self.boundaries, 4),\n",
    "                   DirichletBC(self.V, Constant(0.0), self.boundaries, 5),\n",
    "                   DirichletBC(self.V, Constant(0.0), self.boundaries, 6)]\n",
    "            return (bc0,)\n",
    "        elif term == \"inner_product\":\n",
    "            u = self.u\n",
    "            x0 = inner(grad(u), grad(v)) * dx\n",
    "            return (x0,)\n",
    "        else:\n",
    "            raise ValueError(\"Invalid term for assemble_operator().\")"
   ]
  },
  {
   "cell_type": "markdown",
   "metadata": {},
   "source": [
    "## 4. Main program\n",
    "### 4.1. Read the mesh for this problem\n",
    "The mesh was generated by the [data/generate_mesh_1.ipynb](data/generate_mesh_1.ipynb) notebook."
   ]
  },
  {
   "cell_type": "code",
   "execution_count": 3,
   "metadata": {},
   "outputs": [],
   "source": [
    "mesh = Mesh(\"data/graetz_1.xml\")\n",
    "subdomains = MeshFunction(\"size_t\", mesh, \"data/graetz_physical_region_1.xml\")\n",
    "boundaries = MeshFunction(\"size_t\", mesh, \"data/graetz_facet_region_1.xml\")"
   ]
  },
  {
   "cell_type": "markdown",
   "metadata": {},
   "source": [
    "### 4.2. Create Finite Element space (Lagrange P1)"
   ]
  },
  {
   "cell_type": "code",
   "execution_count": 4,
   "metadata": {},
   "outputs": [],
   "source": [
    "V = FunctionSpace(mesh, \"Lagrange\", 1)"
   ]
  },
  {
   "cell_type": "markdown",
   "metadata": {},
   "source": [
    "### 4.3. Allocate an object of the Graetz class"
   ]
  },
  {
   "cell_type": "code",
   "execution_count": 5,
   "metadata": {},
   "outputs": [],
   "source": [
    "problem = Graetz(V, subdomains=subdomains, boundaries=boundaries)\n",
    "mu_range = [(0.1, 10.0), (0.01, 10.0)]\n",
    "problem.set_mu_range(mu_range)"
   ]
  },
  {
   "cell_type": "markdown",
   "metadata": {},
   "source": [
    "### 4.4. Prepare reduction with a reduced basis method"
   ]
  },
  {
   "cell_type": "code",
   "execution_count": 6,
   "metadata": {},
   "outputs": [],
   "source": [
    "reduction_method = ReducedBasis(problem)\n",
    "reduction_method.set_Nmax(30, SCM=20)\n",
    "reduction_method.set_tolerance(1e-5, SCM=1e-3)"
   ]
  },
  {
   "cell_type": "markdown",
   "metadata": {},
   "source": [
    "### 4.5. Perform the offline phase"
   ]
  },
  {
   "cell_type": "code",
   "execution_count": 7,
   "metadata": {
    "scrolled": true
   },
   "outputs": [],
   "source": [
    "lifting_mu = (1.0, 1.0)\n",
    "problem.set_mu(lifting_mu)\n",
    "reduction_method.initialize_training_set(200, SCM=250)\n",
    "reduced_problem = reduction_method.offline()"
   ]
  },
  {
   "cell_type": "code",
   "execution_count": 8,
   "metadata": {},
   "outputs": [],
   "source": [
    "net = NN.RONN(problem, reduction_method)\n",
    "\n",
    "reduction_method.initialize_testing_set(100, SCM=100)\n",
    "test_mu, val_mu = NN.get_test_validation(net, validation_proportion=0.2)"
   ]
  },
  {
   "cell_type": "code",
   "execution_count": 9,
   "metadata": {},
   "outputs": [],
   "source": [
    "input_normalization = Normalization.StandardNormalization()\n",
    "output_normalization = Normalization.IdentityNormalization()"
   ]
  },
  {
   "cell_type": "code",
   "execution_count": 10,
   "metadata": {},
   "outputs": [],
   "source": [
    "pdnn_loss = Losses.PDNN_Loss(net, output_normalization)\n",
    "pinn_loss = Losses.PINN_Loss(net)\n",
    "prnn_loss = Losses.PRNN_Loss(net, output_normalization, omega=1.)"
   ]
  },
  {
   "cell_type": "code",
   "execution_count": 11,
   "metadata": {
    "scrolled": true
   },
   "outputs": [
    {
     "name": "stdout",
     "output_type": "stream",
     "text": [
      "Getting operator matrices...\n",
      "Operator 's' not implemented. Continuing without operator 's'...\n",
      "Operator 'stability_factor_left_hand_matrix' not implemented. Continuing without operator 'stability_factor_left_hand_matrix'...\n",
      "Operator 'stability_factor_right_hand_matrix' not implemented. Continuing without operator 'stability_factor_right_hand_matrix'...\n",
      "0 713.06676876933 \tmean error(validation) = 1.049566996044788\n",
      "100 164.22878856043067 \tmean error(validation) = 1.0377206612946503\n",
      "200 88.1504794379574 \tmean error(validation) = 1.0214898160914792\n",
      "300 55.50486924843459 \tmean error(validation) = 1.0048777474963444\n",
      "400 36.360893564564996 \tmean error(validation) = 0.9919555028910402\n",
      "500 24.68112087489137 \tmean error(validation) = 0.9819736095101602\n",
      "600 17.312969556156737 \tmean error(validation) = 0.9740678692741234\n",
      "700 12.545688748469745 \tmean error(validation) = 0.9676112610399643\n",
      "800 9.404465913643833 \tmean error(validation) = 0.962193839924633\n",
      "900 7.299815430585925 \tmean error(validation) = 0.9575639741309114\n",
      "1000 5.860585882934319 \tmean error(validation) = 0.9535687194037307\n",
      "1100 4.84923554967798 \tmean error(validation) = 0.9501103083968596\n",
      "1200 4.113818040626975 \tmean error(validation) = 0.9471210227648846\n",
      "1300 3.5580376965988387 \tmean error(validation) = 0.9445490466547752\n",
      "1400 3.1215878429535953 \tmean error(validation) = 0.9423518427321277\n",
      "1500 2.766952824709206 \tmean error(validation) = 0.9404924098601889\n",
      "1600 2.4707743044054546 \tmean error(validation) = 0.9389370487282965\n",
      "1700 2.218261380231656 \tmean error(validation) = 0.9376551260505515\n",
      "1800 1.9997851675405778 \tmean error(validation) = 0.9366185935527369\n",
      "1900 1.80879433316992 \tmean error(validation) = 0.9358021623534748\n",
      "2000 1.640657849122561 \tmean error(validation) = 0.9351833791381132\n",
      "2100 1.4919314039084208 \tmean error(validation) = 0.934742543967449\n",
      "2200 1.359981297762787 \tmean error(validation) = 0.9344615561838954\n",
      "2300 1.242700678050264 \tmean error(validation) = 0.9343252278706029\n",
      "2400 1.1383765710090095 \tmean error(validation) = 0.9343196079131051\n",
      "2500 1.0455537599124705 \tmean error(validation) = 0.9344317930255702\n",
      "2600 0.9629702661629154 \tmean error(validation) = 0.9346504174203918\n",
      "2700 0.8895006162764865 \tmean error(validation) = 0.934964801980471\n",
      "2800 0.8241421629065914 \tmean error(validation) = 0.9353649590081572\n",
      "2900 0.7659726194049379 \tmean error(validation) = 0.9358412866945232\n",
      "3000 0.714152307428603 \tmean error(validation) = 0.9363852278268288\n",
      "3100 0.6679102712605337 \tmean error(validation) = 0.9369883344430882\n",
      "3200 0.6265479736910493 \tmean error(validation) = 0.9376431644984837\n",
      "3300 0.5894288785849862 \tmean error(validation) = 0.9383422210077121\n",
      "3400 0.5559790052691996 \tmean error(validation) = 0.9390794611095152\n",
      "3500 0.5256841275742002 \tmean error(validation) = 0.9398490196526605\n",
      "3600 0.49809293319897785 \tmean error(validation) = 0.9406457580123391\n",
      "3700 0.47280495978379317 \tmean error(validation) = 0.9414653846704347\n",
      "3800 0.4494780724063471 \tmean error(validation) = 0.9423035997864616\n",
      "3900 0.42781601063792335 \tmean error(validation) = 0.9431570573996526\n",
      "4000 0.4075666576258216 \tmean error(validation) = 0.9440238081898865\n",
      "4100 0.3885186071543516 \tmean error(validation) = 0.9449017558774132\n",
      "4200 0.3704998722042369 \tmean error(validation) = 0.9457893664552417\n",
      "4300 0.3533659056511088 \tmean error(validation) = 0.9466856457094277\n",
      "4400 0.3370052829060463 \tmean error(validation) = 0.9475900292909849\n",
      "4500 0.3213308438923218 \tmean error(validation) = 0.9485019056897082\n",
      "4600 0.30627173045769646 \tmean error(validation) = 0.9494222058248445\n",
      "4700 0.2917776799172226 \tmean error(validation) = 0.9503507213550424\n",
      "4800 0.27781175338091463 \tmean error(validation) = 0.9512877569563136\n",
      "4900 0.2643480447371953 \tmean error(validation) = 0.9522336558111906\n",
      "5000 0.25136764617915536 \tmean error(validation) = 0.9531889573030947\n",
      "5100 0.2388577669993403 \tmean error(validation) = 0.9541537584787225\n",
      "5200 0.2268105537433348 \tmean error(validation) = 0.9551286111921566\n",
      "5300 0.21522380006952546 \tmean error(validation) = 0.956113080505179\n",
      "5400 0.20409421711475165 \tmean error(validation) = 0.9571073711490288\n",
      "5500 0.19341967887979986 \tmean error(validation) = 0.9581114863506871\n",
      "5600 0.18319960510359048 \tmean error(validation) = 0.9591246845031864\n",
      "5700 0.1734332721971384 \tmean error(validation) = 0.9601466351664956\n",
      "5800 0.16411785994077394 \tmean error(validation) = 0.9611766278884136\n",
      "5900 0.15525103602170154 \tmean error(validation) = 0.9622134618956931\n",
      "6000 0.14682776790925856 \tmean error(validation) = 0.9632563923066307\n",
      "6100 0.13884278080172413 \tmean error(validation) = 0.9643042259445049\n",
      "6200 0.1312876495113819 \tmean error(validation) = 0.9653557649481062\n",
      "6300 0.12415371272829899 \tmean error(validation) = 0.9664094843046384\n",
      "6400 0.11743041735022458 \tmean error(validation) = 0.9674640026473099\n",
      "6500 0.11110491898866906 \tmean error(validation) = 0.9685178724351324\n",
      "6600 0.10516412041572235 \tmean error(validation) = 0.9695694440727077\n",
      "6700 0.09959293924971388 \tmean error(validation) = 0.9706166553871978\n",
      "6800 0.09437382617173203 \tmean error(validation) = 0.9716583384448455\n",
      "6900 0.08948918325552677 \tmean error(validation) = 0.9726921546744036\n",
      "7000 0.08492188145064658 \tmean error(validation) = 0.9737159533130144\n",
      "7100 0.0806514951588088 \tmean error(validation) = 0.9747281032897096\n",
      "7200 0.07665870833431436 \tmean error(validation) = 0.9757265568075478\n",
      "7300 0.07292373595756671 \tmean error(validation) = 0.9767092473172421\n",
      "7400 0.06942784910547893 \tmean error(validation) = 0.9776738688178452\n",
      "7500 0.06615313742216475 \tmean error(validation) = 0.9786184928606507\n",
      "7600 0.06307973608605628 \tmean error(validation) = 0.9795410318227257\n",
      "7700 0.06019162526681162 \tmean error(validation) = 0.9804397025081629\n",
      "7800 0.0574726037617911 \tmean error(validation) = 0.9813120587887383\n",
      "7900 0.054907851442777024 \tmean error(validation) = 0.9821567339450507\n",
      "8000 0.05248329114293983 \tmean error(validation) = 0.9829719449482553\n",
      "8100 0.05018706791524045 \tmean error(validation) = 0.9837562704932811\n",
      "8200 0.04800752996069838 \tmean error(validation) = 0.9845083923758107\n",
      "8300 0.04593558511809783 \tmean error(validation) = 0.9852264971778526\n",
      "8400 0.04396255528843934 \tmean error(validation) = 0.9859096108976496\n",
      "8500 0.04208118071370888 \tmean error(validation) = 0.9865570714598112\n",
      "8600 0.04028487058950834 \tmean error(validation) = 0.9871680279319065\n",
      "8700 0.03856810594699202 \tmean error(validation) = 0.9877420870248104\n",
      "8800 0.03692601130109938 \tmean error(validation) = 0.9882789293415222\n",
      "8900 0.035354471707528846 \tmean error(validation) = 0.9887780983758991\n",
      "9000 0.033849949959621324 \tmean error(validation) = 0.9892396869271936\n",
      "9100 0.03240887829786739 \tmean error(validation) = 0.9896639030603323\n",
      "9200 0.031028530358235898 \tmean error(validation) = 0.9900514311906748\n",
      "9300 0.029705723638385955 \tmean error(validation) = 0.990402689535175\n",
      "9400 0.02843807014762105 \tmean error(validation) = 0.9907181612291824\n",
      "9500 0.027223780203421484 \tmean error(validation) = 0.9909990475227689\n",
      "9600 0.026059916218355187 \tmean error(validation) = 0.9912461549993539\n",
      "9700 0.024944358677202377 \tmean error(validation) = 0.9914607792339505\n",
      "9800 0.023874903632176238 \tmean error(validation) = 0.9916437682453442\n",
      "9900 0.022849295304638848 \tmean error(validation) = 0.991796686475501\n"
     ]
    }
   ],
   "source": [
    "NN.normalize_and_train(net, pinn_loss, input_normalization, \n",
    "                       lr=0.00001, epochs=10000, validation_set=val_mu)"
   ]
  },
  {
   "cell_type": "markdown",
   "metadata": {},
   "source": [
    "### 4.6. Perform an online solve"
   ]
  },
  {
   "cell_type": "code",
   "execution_count": null,
   "metadata": {},
   "outputs": [],
   "source": [
    "online_mu = (10.0, 0.01)\n",
    "reduced_problem.set_mu(online_mu)\n",
    "reduced_solution = reduced_problem.solve()\n",
    "print(reduced_solution)\n",
    "plot(reduced_solution, reduced_problem=reduced_problem)"
   ]
  },
  {
   "cell_type": "code",
   "execution_count": null,
   "metadata": {},
   "outputs": [],
   "source": [
    "net.eval()\n",
    "\n",
    "with torch.no_grad():\n",
    "    online_mu_nn = torch.tensor(online_mu)\n",
    "    # NOTE: Change output_normalization accordingly for the different losses\n",
    "    reduced_solution_nn = net.solve(online_mu_nn, input_normalization, output_normalization=None)\n",
    "    print(reduced_solution_nn)\n",
    "    plot(reduced_solution_nn, reduced_problem=reduced_problem)\n",
    "\n",
    "net.train()"
   ]
  },
  {
   "cell_type": "code",
   "execution_count": null,
   "metadata": {},
   "outputs": [],
   "source": [
    "errors, error_plot = NN.plot_error(net, test_mu, input_normalization)\n",
    "print(np.mean(errors))\n",
    "error_plot"
   ]
  },
  {
   "cell_type": "markdown",
   "metadata": {},
   "source": [
    "### 4.7. Perform an error analysis"
   ]
  },
  {
   "cell_type": "code",
   "execution_count": null,
   "metadata": {},
   "outputs": [],
   "source": [
    "reduction_method.initialize_testing_set(100, SCM=100)\n",
    "reduction_method.error_analysis(filename=\"error_analysis\")"
   ]
  },
  {
   "cell_type": "markdown",
   "metadata": {},
   "source": [
    "### 4.8. Perform a speedup analysis"
   ]
  },
  {
   "cell_type": "code",
   "execution_count": null,
   "metadata": {},
   "outputs": [],
   "source": [
    "reduction_method.speedup_analysis(filename=\"speedup_analysis\")"
   ]
  },
  {
   "cell_type": "markdown",
   "metadata": {},
   "source": [
    "## 5. Assignments\n",
    "1. Consider the following domain instead\n",
    "\n",
    "<img src=\"data/graetz_2.png\" width=\"70%\"/>\n",
    "Edit the domain defined in the generate_mesh notebook in the _data_ folder accordingly. Then, consider two additional parameters $\\mu_2 \\in [0.5, 1.5]$ and $\\mu_3 \\in [0.5, 1.5]$ and change the Graetz class to account for the following boundary conditions:\n",
    "    * boundaries $\\Gamma_{o, 1} \\cup \\Gamma_{o, 5} \\cup \\Gamma_{o, 6}$ are kept at zero temperature,\n",
    "    * boundaries $\\Gamma_{o, 2}(\\mu_0) \\cup \\Gamma_{o, 4}(\\mu_0)$ are kept at temperature $\\mu_2$,\n",
    "    * boundaries $\\Gamma_{o, 7}(\\mu_0) \\cup \\Gamma_{o, 8}(\\mu_0)$ are kept at temperature $\\mu_3$.\n",
    "    \n",
    "Discuss the performance of the reduction in terms of errors and speedups. _Suggestion: make sure also to change the mesh, subdomains and boundaries filenames in the mesh generation notebook before saving it to file. Moreover, for every new notebook copy change the value returned by the name() method of the Graetz class to avoid conflicts between this notebook and your copy._\n"
   ]
  }
 ],
 "metadata": {
  "kernelspec": {
   "display_name": "Python 3 (ipykernel)",
   "language": "python",
   "name": "python3"
  },
  "language_info": {
   "codemirror_mode": {
    "name": "ipython",
    "version": 3
   },
   "file_extension": ".py",
   "mimetype": "text/x-python",
   "name": "python",
   "nbconvert_exporter": "python",
   "pygments_lexer": "ipython3",
   "version": "3.10.4"
  }
 },
 "nbformat": 4,
 "nbformat_minor": 2
}
