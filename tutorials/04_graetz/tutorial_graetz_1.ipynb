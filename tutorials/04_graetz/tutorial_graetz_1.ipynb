{
 "cells": [
  {
   "cell_type": "markdown",
   "metadata": {},
   "source": [
    "## TUTORIAL 04 - Graetz problem 1\n",
    "**_Keywords: successive constraints method_**\n",
    "\n",
    "### 1. Introduction\n",
    "This Tutorial addresses geometrical parametrization and the successive constraints method (SCM). In particular, we will solve the Graetz problem, which deals with forced heat convection in a channel $\\Omega_o(\\mu_0)$ divided into two parts $\\Omega_o^1$ and $\\Omega_o^2(\\mu_0)$.\n",
    "\n",
    "Boundaries $\\Gamma_{o, 1} \\cup \\Gamma_{o, 5} \\cup \\Gamma_{o, 6}$ are kept at low temperature (say, zero), while boundaries $\\Gamma_{o, 2}(\\mu_0) \\cup \\Gamma_{o, 4}(\\mu_0)$ are kept at high temperature (say, one). The convection is characterized by the velocity $\\boldsymbol{\\beta} = (x_1(1-x_1), 0)$, being $\\boldsymbol{x}_o = (x_{o, 0}, x_1)$ the coordinate vector on the parametrized domain $\\Omega_o(\\mu_0)$.\n",
    "\n",
    "The problem is characterized by two parameters. The first parameter $\\mu_0$ controls the shape of deformable subdomain $\\Omega_2(\\mu_0)$. The heat transfer between the domains can be taken into account by means of the Péclet number, which will be labeled as the parameter $\\mu_1$. The ranges of the two parameters are the following:\n",
    "$$\\mu_0 \\in [0.1,10.0] \\quad \\text{and} \\quad \\mu_1 \\in [0.01,10.0].$$\n",
    "\n",
    "The parameter vector $\\boldsymbol{\\mu}$ is thus given by \n",
    "$$\n",
    "\\boldsymbol{\\mu} = (\\mu_0, \\mu_1)\n",
    "$$\n",
    "on the parameter domain\n",
    "$$\n",
    "\\mathbb{P}=[0.1,10.0]\\times[0.01,10.0].\n",
    "$$\n",
    "\n",
    "In order to obtain a faster (yet, provably accurate) approximation of the problem, and avoiding _any_ remeshing, we pursue a model reduction by means of a certified reduced basis reduced order method from a fixed reference domain.\n",
    "The successive constraints method will be used to evaluate the stability factors."
   ]
  },
  {
   "cell_type": "markdown",
   "metadata": {},
   "source": [
    "### 2. Parametrized formulation\n",
    "\n",
    "Let $u_o(\\boldsymbol{\\mu})$ be the temperature in the domain $\\Omega_o(\\mu_0)$.\n",
    "\n",
    "We will directly provide a weak formulation for this problem: for a given parameter $\\boldsymbol{\\mu}\\in\\mathbb{P}$, find $u_o(\\boldsymbol{\\mu})\\in\\mathbb{V}_o(\\boldsymbol{\\mu})$ such that\n",
    "\n",
    "$$a_o\\left(u_o(\\boldsymbol{\\mu}),v_o;\\boldsymbol{\\mu}\\right)=f_o(v_o;\\boldsymbol{\\mu})\\quad \\forall v_o\\in\\mathbb{V}_o(\\boldsymbol{\\mu})$$\n",
    "\n",
    "where\n",
    "\n",
    "* the function space $\\mathbb{V}_o(\\boldsymbol{\\mu})$ is defined as\n",
    "$$\n",
    "\\mathbb{V}_o(\\mu_0) = \\left\\{ v \\in H^1(\\Omega_o(\\mu_0)): v|_{\\Gamma_{o,1} \\cup \\Gamma_{o,5} \\cup \\Gamma_{o,6}} = 0, v|_{\\Gamma_{o,2}(\\mu_0) \\cup \\Gamma_{o,2}(\\mu_0)} = 1 \\right\\}\n",
    "$$\n",
    "Note that, as in the previous tutorial, the function space is parameter dependent due to the shape variation. \n",
    "* the parametrized bilinear form $a_o(\\cdot, \\cdot; \\boldsymbol{\\mu}): \\mathbb{V}_o(\\boldsymbol{\\mu}) \\times \\mathbb{V}_o(\\boldsymbol{\\mu}) \\to \\mathbb{R}$ is defined by\n",
    "$$a_o(u_o,v_o;\\boldsymbol{\\mu}) = \\mu_1\\int_{\\Omega_o(\\mu_0)} \\nabla u_o \\cdot \\nabla v_o \\ d\\boldsymbol{x} + \\int_{\\Omega_o(\\mu_0)} x_1(1-x_1) \\partial_{x} u_o\\ v_o \\ d\\boldsymbol{x},$$\n",
    "* the parametrized linear form $f_o(\\cdot; \\boldsymbol{\\mu}): \\mathbb{V}_o(\\boldsymbol{\\mu}) \\to \\mathbb{R}$ is defined by\n",
    "$$f_o(v_o;\\boldsymbol{\\mu}) = 0.$$\n",
    "\n",
    "The successive constraints method will be used to compute the stability factor of the bilinear form $a_o(\\cdot, \\cdot; \\boldsymbol{\\mu})$."
   ]
  },
  {
   "cell_type": "code",
   "execution_count": 1,
   "metadata": {},
   "outputs": [],
   "source": [
    "import os\n",
    "import sys\n",
    "sys.path.append('../../')\n",
    "\n",
    "from mlnics import NN, Losses, Normalization, RONNData, IO, Training, ErrorAnalysis\n",
    "from dolfin import *\n",
    "from rbnics import *\n",
    "import torch\n",
    "import numpy as np\n",
    "\n",
    "torch.manual_seed(0)\n",
    "np.random.seed(0)"
   ]
  },
  {
   "cell_type": "markdown",
   "metadata": {},
   "source": [
    "## 3. Affine decomposition\n",
    "\n",
    "In order to obtain an affine decomposition, we proceed as in the previous tutorial and recast the problem on a fixed, parameter _independent_, reference domain $\\Omega$. As reference domain which choose the one characterized by $\\mu_0 = 1$ which we generate through the generate_mesh notebook provided in the _data_ folder.\n",
    "As in the previous tutorial, we pull back the problem to the reference domain $\\Omega$."
   ]
  },
  {
   "cell_type": "code",
   "execution_count": 2,
   "metadata": {},
   "outputs": [],
   "source": [
    "@SCM()\n",
    "@PullBackFormsToReferenceDomain()\n",
    "@ShapeParametrization(\n",
    "    (\"x[0]\", \"x[1]\"),  # subdomain 1\n",
    "    (\"mu[0]*(x[0] - 1) + 1\", \"x[1]\"),  # subdomain 2\n",
    ")\n",
    "class Graetz(EllipticCoerciveProblem):\n",
    "\n",
    "    # Default initialization of members\n",
    "    @generate_function_space_for_stability_factor\n",
    "    def __init__(self, V, **kwargs):\n",
    "        # Call the standard initialization\n",
    "        EllipticCoerciveProblem.__init__(self, V, **kwargs)\n",
    "        # ... and also store FEniCS data structures for assembly\n",
    "        assert \"subdomains\" in kwargs\n",
    "        assert \"boundaries\" in kwargs\n",
    "        self.subdomains, self.boundaries = kwargs[\"subdomains\"], kwargs[\"boundaries\"]\n",
    "        self.u = TrialFunction(V)\n",
    "        self.v = TestFunction(V)\n",
    "        self.dx = Measure(\"dx\")(subdomain_data=subdomains)\n",
    "        self.ds = Measure(\"ds\")(subdomain_data=boundaries)\n",
    "        # Store the velocity expression\n",
    "        self.vel = Expression(\"x[1]*(1-x[1])\", element=self.V.ufl_element())\n",
    "        # Customize eigen solver parameters\n",
    "        self._eigen_solver_parameters.update({\n",
    "            \"bounding_box_minimum\": {\n",
    "                \"problem_type\": \"gen_hermitian\", \"spectral_transform\": \"shift-and-invert\",\n",
    "                \"spectral_shift\": 1.e-5, \"linear_solver\": \"mumps\"\n",
    "            },\n",
    "            \"bounding_box_maximum\": {\n",
    "                \"problem_type\": \"gen_hermitian\", \"spectral_transform\": \"shift-and-invert\",\n",
    "                \"spectral_shift\": 1.e5, \"linear_solver\": \"mumps\"\n",
    "            },\n",
    "            \"stability_factor\": {\n",
    "                \"problem_type\": \"gen_hermitian\", \"spectral_transform\": \"shift-and-invert\",\n",
    "                \"spectral_shift\": 1.e-5, \"linear_solver\": \"mumps\"\n",
    "            }\n",
    "        })\n",
    "\n",
    "    # Return custom problem name\n",
    "    def name(self):\n",
    "        return \"Graetz1\"\n",
    "\n",
    "    # Return theta multiplicative terms of the affine expansion of the problem.\n",
    "    @compute_theta_for_stability_factor\n",
    "    def compute_theta(self, term):\n",
    "        mu = self.mu\n",
    "        if term == \"a\":\n",
    "            theta_a0 = mu[1]\n",
    "            theta_a1 = 1.0\n",
    "            return (theta_a0, theta_a1)\n",
    "        elif term == \"f\":\n",
    "            theta_f0 = 1.0\n",
    "            return (theta_f0,)\n",
    "        elif term == \"dirichlet_bc\":\n",
    "            theta_bc0 = 1.0\n",
    "            return (theta_bc0,)\n",
    "        else:\n",
    "            raise ValueError(\"Invalid term for compute_theta().\")\n",
    "\n",
    "    # Return forms resulting from the discretization of the affine expansion of the problem operators.\n",
    "    @assemble_operator_for_stability_factor\n",
    "    def assemble_operator(self, term):\n",
    "        v = self.v\n",
    "        dx = self.dx\n",
    "        if term == \"a\":\n",
    "            u = self.u\n",
    "            vel = self.vel\n",
    "            a0 = inner(grad(u), grad(v)) * dx\n",
    "            a1 = vel * u.dx(0) * v * dx\n",
    "            return (a0, a1)\n",
    "        elif term == \"f\":\n",
    "            f0 = Constant(0.0) * v * dx\n",
    "            return (f0,)\n",
    "        elif term == \"dirichlet_bc\":\n",
    "            bc0 = [DirichletBC(self.V, Constant(0.0), self.boundaries, 1),\n",
    "                   DirichletBC(self.V, Constant(1.0), self.boundaries, 2),\n",
    "                   DirichletBC(self.V, Constant(1.0), self.boundaries, 4),\n",
    "                   DirichletBC(self.V, Constant(0.0), self.boundaries, 5),\n",
    "                   DirichletBC(self.V, Constant(0.0), self.boundaries, 6)]\n",
    "            return (bc0,)\n",
    "        elif term == \"inner_product\":\n",
    "            u = self.u\n",
    "            x0 = inner(grad(u), grad(v)) * dx\n",
    "            return (x0,)\n",
    "        else:\n",
    "            raise ValueError(\"Invalid term for assemble_operator().\")"
   ]
  },
  {
   "cell_type": "markdown",
   "metadata": {},
   "source": [
    "## 4. Main program\n",
    "### 4.1. Read the mesh for this problem\n",
    "The mesh was generated by the [data/generate_mesh_1.ipynb](data/generate_mesh_1.ipynb) notebook."
   ]
  },
  {
   "cell_type": "code",
   "execution_count": 3,
   "metadata": {},
   "outputs": [],
   "source": [
    "mesh = Mesh(\"data/graetz_1.xml\")\n",
    "subdomains = MeshFunction(\"size_t\", mesh, \"data/graetz_physical_region_1.xml\")\n",
    "boundaries = MeshFunction(\"size_t\", mesh, \"data/graetz_facet_region_1.xml\")"
   ]
  },
  {
   "cell_type": "markdown",
   "metadata": {},
   "source": [
    "### 4.2. Create Finite Element space (Lagrange P1)"
   ]
  },
  {
   "cell_type": "code",
   "execution_count": 4,
   "metadata": {},
   "outputs": [],
   "source": [
    "V = FunctionSpace(mesh, \"Lagrange\", 1)"
   ]
  },
  {
   "cell_type": "markdown",
   "metadata": {},
   "source": [
    "### 4.3. Allocate an object of the Graetz class"
   ]
  },
  {
   "cell_type": "code",
   "execution_count": 5,
   "metadata": {},
   "outputs": [],
   "source": [
    "problem = Graetz(V, subdomains=subdomains, boundaries=boundaries)\n",
    "mu_range = [(0.1, 10.0), (0.01, 10.0)]\n",
    "problem.set_mu_range(mu_range)"
   ]
  },
  {
   "cell_type": "markdown",
   "metadata": {},
   "source": [
    "### 4.4. Prepare reduction with a reduced basis method"
   ]
  },
  {
   "cell_type": "code",
   "execution_count": 6,
   "metadata": {},
   "outputs": [],
   "source": [
    "reduction_method = ReducedBasis(problem)\n",
    "reduction_method.set_Nmax(30, SCM=20)\n",
    "reduction_method.set_tolerance(1e-5, SCM=1e-3)"
   ]
  },
  {
   "cell_type": "markdown",
   "metadata": {},
   "source": [
    "### 4.5. Perform the offline phase"
   ]
  },
  {
   "cell_type": "markdown",
   "metadata": {},
   "source": [
    "#### 4.5.1 Fit Reduction Method"
   ]
  },
  {
   "cell_type": "code",
   "execution_count": 7,
   "metadata": {
    "scrolled": true
   },
   "outputs": [],
   "source": [
    "lifting_mu = (1.0, 1.0)\n",
    "problem.set_mu(lifting_mu)\n",
    "reduction_method.initialize_training_set(200, SCM=250)\n",
    "reduced_problem = reduction_method.offline()"
   ]
  },
  {
   "cell_type": "markdown",
   "metadata": {},
   "source": [
    "#### 4.5.2 Train PINN\n",
    "\n",
    "Given a training set $X_{PINN} = (\\boldsymbol{\\mu}^{(1)}, \\dots, \\boldsymbol{\\mu}^{(n)})$ of parameters for the PDE, we train a Physics-Informed Neural Network (PINN) $\\operatorname{N}_W(\\boldsymbol{\\mu})$ dependent on the weights and biases $W$ of the network to minimize the loss function\n",
    "\n",
    "$$L_{PINN}(X_{PINN}; W) = \\frac1n \\sum_{i=1}^n \\|A(\\boldsymbol{\\mu^{(i)}}) \\operatorname{N}_W(\\boldsymbol{\\mu}^{(i)}) - \\boldsymbol{f}(\\boldsymbol{\\mu}^{(i)})\\|_2^2 + \\left|\\operatorname{N}_W(\\boldsymbol{\\mu}^{(i)})_1 - 1\\right|^2$$\n",
    "\n",
    "over $W$, where for a given $\\boldsymbol{\\mu}$, $A(\\boldsymbol{\\mu})$ is the assembled matrix corresponding to the pull back of $a_o$ and $\\boldsymbol{f}(\\boldsymbol{\\mu})$ is the assembled vector corresponding to the pull back of $f_o$. \n",
    "\n",
    "The second term in the sum enforces boundary conditions by training the first basis function coefficient to be one, as our first basis function contains the boundary condition while all other basis functions are zero on the boundary."
   ]
  },
  {
   "cell_type": "code",
   "execution_count": 8,
   "metadata": {},
   "outputs": [],
   "source": [
    "input_normalization_pinn = Normalization.StandardNormalization(input_normalization=True)\n",
    "output_normalization_pinn = Normalization.StandardNormalization()\n",
    "\n",
    "pinn_net  = NN.RONN(\"PINN\", problem, reduction_method, n_hidden=2, n_neurons=20)\n",
    "pinn_loss = Losses.PINN_Loss(pinn_net, output_normalization_pinn)\n",
    "data      = RONNData.RONNDataLoader(pinn_net, validation_proportion=0.2, \n",
    "                                    num_without_snapshots=10)\n",
    "optimizer = torch.optim.Adam(pinn_net.parameters(), lr=0.001)\n",
    "\n",
    "pinn_trainer = Training.PINNTrainer(\n",
    "    pinn_net, data, pinn_loss, optimizer,\n",
    "    input_normalization_pinn, num_epochs=10000\n",
    ")\n",
    "\n",
    "loaded, starting_epoch = IO.initialize_parameters(\n",
    "    pinn_net, data, pinn_trainer, optimizer\n",
    ")"
   ]
  },
  {
   "cell_type": "code",
   "execution_count": 9,
   "metadata": {
    "scrolled": true
   },
   "outputs": [
    {
     "name": "stdout",
     "output_type": "stream",
     "text": [
      "Operator 's' not implemented. Continuing without operator 's'...\n",
      "Operator 'stability_factor_left_hand_matrix' not implemented. Continuing without operator 'stability_factor_left_hand_matrix'...\n",
      "Operator 'stability_factor_right_hand_matrix' not implemented. Continuing without operator 'stability_factor_right_hand_matrix'...\n",
      "Operator 's' not implemented. Continuing without operator 's'...\n",
      "Operator 'stability_factor_left_hand_matrix' not implemented. Continuing without operator 'stability_factor_left_hand_matrix'...\n",
      "Operator 'stability_factor_right_hand_matrix' not implemented. Continuing without operator 'stability_factor_right_hand_matrix'...\n",
      "9500 0.9556554141719497 \tLoss(validation) = 0.9807080549862907\n",
      "9600 0.9552235163125211 \tLoss(validation) = 0.9807107831591336\n",
      "9700 0.9549565538263871 \tLoss(validation) = 0.9800460660421448\n",
      "9800 0.9544084964891886 \tLoss(validation) = 0.9806527483921126\n",
      "9900 0.9542789028268166 \tLoss(validation) = 0.9797767479085692\n",
      "10000 0.9536237436281243 \tLoss(validation) = 0.9807401890426258\n",
      "10100 0.9532312443402668 \tLoss(validation) = 0.9806113992312943\n",
      "10200 0.9528990665304159 \tLoss(validation) = 0.9808553963391913\n",
      "10300 0.9524974347792488 \tLoss(validation) = 0.9806719319829502\n",
      "10400 0.9522208405884607 \tLoss(validation) = 0.9809097101444822\n",
      "10500 0.9520342076987091 \tLoss(validation) = 0.9816755601081609\n",
      "10600 0.9514474096286285 \tLoss(validation) = 0.9806769441838767\n",
      "10700 0.9511084423484766 \tLoss(validation) = 0.9807081251373072\n",
      "10800 0.9508051185596496 \tLoss(validation) = 0.9806637376765637\n",
      "10900 0.9504583953240447 \tLoss(validation) = 0.9808701771203859\n",
      "11000 0.9508242645548698 \tLoss(validation) = 0.9802285416931972\n",
      "11100 0.9498339114571148 \tLoss(validation) = 0.980962848408513\n",
      "11200 0.9497649485938587 \tLoss(validation) = 0.980260265509442\n",
      "11300 0.9492236201086173 \tLoss(validation) = 0.9811376378247912\n",
      "11400 0.9489177881502648 \tLoss(validation) = 0.9811218788932629\n",
      "11500 0.948756960335471 \tLoss(validation) = 0.9813481511681187\n",
      "11600 0.9483239872506357 \tLoss(validation) = 0.9812241833704829\n",
      "11700 0.9531157564561841 \tLoss(validation) = 0.9792671018936017\n",
      "11800 0.9477267742217608 \tLoss(validation) = 0.9813365152519694\n",
      "11900 0.9482484516135667 \tLoss(validation) = 0.9824544411734629\n",
      "12000 0.9471368996017242 \tLoss(validation) = 0.9813942868305804\n",
      "12100 0.9488705657969541 \tLoss(validation) = 0.9818005147240033\n",
      "12200 0.9465446397883165 \tLoss(validation) = 0.9814803649794646\n",
      "12300 0.9468133572493631 \tLoss(validation) = 0.982922233808558\n",
      "12400 0.9459490668511408 \tLoss(validation) = 0.9815791434017664\n",
      "12500 0.9456367191144112 \tLoss(validation) = 0.9815544899813713\n",
      "12600 0.9455100934481673 \tLoss(validation) = 0.9819328278697995\n",
      "12700 0.9450246208951597 \tLoss(validation) = 0.9815868288757372\n",
      "12800 0.9448100524549903 \tLoss(validation) = 0.9807490667245166\n",
      "12900 0.9443873185800078 \tLoss(validation) = 0.9816136513691642\n",
      "13000 0.9441063802665036 \tLoss(validation) = 0.980975800072567\n",
      "13100 0.9437326357821672 \tLoss(validation) = 0.9816108731814038\n",
      "13200 0.9567097694980158 \tLoss(validation) = 0.9931666261477908\n",
      "13300 0.943056887368752 \tLoss(validation) = 0.981563796088005\n",
      "13400 0.9427025122849473 \tLoss(validation) = 0.9815829055925509\n",
      "13500 0.9424907842528891 \tLoss(validation) = 0.9821004302142056\n",
      "13600 0.9419795830058884 \tLoss(validation) = 0.9815569766521901\n",
      "13700 0.9480346059211269 \tLoss(validation) = 0.9834482851570862\n",
      "13800 0.9412186690984519 \tLoss(validation) = 0.9815335979028041\n",
      "13900 0.9408140175475409 \tLoss(validation) = 0.9814961651425689\n",
      "14000 0.9404991908829228 \tLoss(validation) = 0.9812374404242761\n",
      "14100 0.9399923361603691 \tLoss(validation) = 0.9814559286996913\n",
      "14200 0.9420178536343028 \tLoss(validation) = 0.984556269052122\n",
      "14300 0.9390915602608043 \tLoss(validation) = 0.9813767203048558\n",
      "14400 0.9387569284199767 \tLoss(validation) = 0.9808603050610211\n",
      "14500 0.9381397127093741 \tLoss(validation) = 0.9813528759061805\n",
      "14600 0.9386610448819277 \tLoss(validation) = 0.9813852655524211\n",
      "14700 0.9371089345401604 \tLoss(validation) = 0.9813319785991585\n",
      "14800 0.9371172255405874 \tLoss(validation) = 0.9791049344644174\n",
      "14900 0.9360104417612629 \tLoss(validation) = 0.9812893084050718\n",
      "15000 0.935420839102414 \tLoss(validation) = 0.9812216354653622\n",
      "15100 0.9348726808253394 \tLoss(validation) = 0.9809591789666701\n",
      "15200 0.9341883160481476 \tLoss(validation) = 0.9812475182278821\n",
      "15300 0.9336803274471407 \tLoss(validation) = 0.9822673085322621\n",
      "15400 0.932882628238666 \tLoss(validation) = 0.9812840478348648\n",
      "15500 0.9377522978779932 \tLoss(validation) = 0.9804675055902702\n",
      "15600 0.9315030321491733 \tLoss(validation) = 0.9813488432209992\n",
      "15700 0.9307717385870482 \tLoss(validation) = 0.9814036702813046\n",
      "15800 0.9322263802928229 \tLoss(validation) = 0.9804300414409883\n",
      "15900 0.9292767041377092 \tLoss(validation) = 0.9815880398245189\n",
      "16000 0.9284935176797641 \tLoss(validation) = 0.9819113853980171\n",
      "16100 0.9277212960242085 \tLoss(validation) = 0.9819650658581232\n",
      "16200 0.9269222685748137 \tLoss(validation) = 0.9820274319040453\n",
      "16300 0.9262840211389038 \tLoss(validation) = 0.9821294035684129\n",
      "16400 0.9253447836306217 \tLoss(validation) = 0.9825042796483067\n",
      "16500 0.9761144285218691 \tLoss(validation) = 0.9763374188515539\n",
      "16600 0.9237895733847367 \tLoss(validation) = 0.9831684493872527\n",
      "16700 0.9230256979428267 \tLoss(validation) = 0.9835001356088894\n",
      "16800 0.922366246863242 \tLoss(validation) = 0.984459986395333\n",
      "16900 0.9215455440691513 \tLoss(validation) = 0.984297040334382\n",
      "17000 0.9208767637873804 \tLoss(validation) = 0.984729660044005\n",
      "17100 0.9201937627450637 \tLoss(validation) = 0.9851683894901423\n",
      "17200 0.9201247532181229 \tLoss(validation) = 0.9832807752330207\n",
      "17300 0.9189745735386262 \tLoss(validation) = 0.9862052082126893\n",
      "17400 0.9183861812297063 \tLoss(validation) = 0.9867109761260869\n",
      "17500 0.9179195644646849 \tLoss(validation) = 0.9871299253908823\n",
      "17600 0.9173448954524438 \tLoss(validation) = 0.9878661647003075\n",
      "17700 0.9346286211841915 \tLoss(validation) = 1.0048944886370021\n",
      "17800 0.9163696154068587 \tLoss(validation) = 0.9890419281222946\n",
      "17900 0.916029874595704 \tLoss(validation) = 0.9906945731175911\n",
      "18000 0.9154905056359532 \tLoss(validation) = 0.9902568547358003\n",
      "18100 0.9152617191607978 \tLoss(validation) = 0.9900563831663883\n",
      "18200 0.9146984618177187 \tLoss(validation) = 0.9915080860159612\n",
      "18300 0.9144538680586328 \tLoss(validation) = 0.990493261112849\n",
      "18400 0.9139455357488083 \tLoss(validation) = 0.992566210745711\n",
      "18500 0.913562802839505 \tLoss(validation) = 0.9932840952662436\n",
      "18600 0.9181886624144003 \tLoss(validation) = 0.9878983733619272\n",
      "18700 0.9128336040413355 \tLoss(validation) = 0.9945629599799612\n",
      "18800 0.9137846731073902 \tLoss(validation) = 0.9902792286347295\n",
      "18900 0.9121189721831203 \tLoss(validation) = 0.9958012591214287\n",
      "19000 0.9117507282609554 \tLoss(validation) = 0.9962896434126458\n",
      "19100 0.9114453222122187 \tLoss(validation) = 0.997361656845034\n",
      "19200 0.9110332719555342 \tLoss(validation) = 0.9974298317876358\n",
      "19300 0.9106965462609107 \tLoss(validation) = 0.9973076778336122\n",
      "19400 0.9103437611050313 \tLoss(validation) = 0.998514575320121\n"
     ]
    },
    {
     "data": {
      "text/plain": [
       "<mlnics.Losses.PINN_Loss at 0x12d006230>"
      ]
     },
     "execution_count": 9,
     "metadata": {},
     "output_type": "execute_result"
    }
   ],
   "source": [
    "pinn_trainer.train()"
   ]
  },
  {
   "cell_type": "code",
   "execution_count": 10,
   "metadata": {},
   "outputs": [
    {
     "data": {
      "image/png": "[encoded data removed]",
      "text/plain": [
       "<Figure size 432x288 with 1 Axes>"
      ]
     },
     "metadata": {
      "needs_background": "light"
     },
     "output_type": "display_data"
    }
   ],
   "source": [
    "fig, ax = Training.plot_loss(pinn_trainer, pinn_net)"
   ]
  },
  {
   "cell_type": "markdown",
   "metadata": {
    "scrolled": true
   },
   "source": [
    "#### 4.5.3 Train PDNN\n",
    "\n",
    "Given a training set $X_{PDNN} = ((\\boldsymbol{\\mu}^{(1)}, \\operatorname{HF}(\\boldsymbol{\\mu}^{(1)})), \\dots, (\\boldsymbol{\\mu}^{(n)}, \\operatorname{HF}(\\boldsymbol{\\mu}^{(n)})))$ of parameter and high fidelity solution pairs for the PDE, we train a Projection-Driven Neural Network (PDNN) $\\operatorname{N}_W(\\boldsymbol{\\mu})$ dependent on the weights and biases $W$ of the network to minimize the loss function\n",
    "$$L_{PDNN}(X_{PDNN}; W) = \\frac1n \\sum_{i=1}^n \\|\\operatorname{N}_W(\\boldsymbol{\\mu}^{(i)}) - \\tilde{\\operatorname{HF}}(\\boldsymbol{\\mu}^{(i)})\\|_2^2,$$\n",
    "where for a given $\\boldsymbol{\\mu}$, $\\tilde{\\operatorname{HF}}(\\boldsymbol{\\mu})$ is the projection of $\\operatorname{HF}(\\boldsymbol{\\mu})$ onto the reduced order solution space."
   ]
  },
  {
   "cell_type": "code",
   "execution_count": 11,
   "metadata": {},
   "outputs": [],
   "source": [
    "input_normalization_pdnn = Normalization.StandardNormalization(input_normalization=True)\n",
    "output_normalization_pdnn = Normalization.StandardNormalization()\n",
    "\n",
    "pdnn_net  = NN.RONN(\"PDNN\", problem, reduction_method, n_hidden=2, n_neurons=40)\n",
    "pdnn_loss = Losses.PDNN_Loss(pdnn_net, output_normalization_pdnn)\n",
    "data      = RONNData.RONNDataLoader(pdnn_net, validation_proportion=0.2)\n",
    "optimizer = torch.optim.Adam(pdnn_net.parameters(), lr=0.001)\n",
    "\n",
    "pdnn_trainer = Training.PDNNTrainer(\n",
    "    pdnn_net, data, pdnn_loss, optimizer,\n",
    "    input_normalization_pdnn, num_epochs=10000\n",
    ")\n",
    "\n",
    "loaded, starting_epoch = IO.initialize_parameters(\n",
    "    pdnn_net, data, pdnn_trainer, optimizer\n",
    ")"
   ]
  },
  {
   "cell_type": "code",
   "execution_count": 12,
   "metadata": {
    "scrolled": true
   },
   "outputs": [
    {
     "name": "stdout",
     "output_type": "stream",
     "text": [
      "5100 2.0024883295364758e-05 \tLoss(validation) = 0.006722415344847246\n",
      "5200 1.8230122428151282e-05 \tLoss(validation) = 0.006748650583337317\n",
      "5300 1.6662578133314653e-05 \tLoss(validation) = 0.006765096027854\n",
      "5400 1.821235961140005e-05 \tLoss(validation) = 0.006794006974797121\n",
      "5500 1.4106609179171454e-05 \tLoss(validation) = 0.006791509600129072\n",
      "5600 1.385026011599172e-05 \tLoss(validation) = 0.006904543533875877\n",
      "5700 1.2479476240354981e-05 \tLoss(validation) = 0.006835561521743855\n",
      "5800 1.1793746669731522e-05 \tLoss(validation) = 0.007038657845883486\n",
      "5900 1.0609620783712627e-05 \tLoss(validation) = 0.006956382201081457\n",
      "6000 9.292242001713446e-06 \tLoss(validation) = 0.007008926397625228\n",
      "6100 8.750253875881986e-06 \tLoss(validation) = 0.0070656976480392856\n",
      "6200 7.971325850687018e-06 \tLoss(validation) = 0.007078327188894809\n",
      "6300 1.563909806112882e-05 \tLoss(validation) = 0.007137864613654465\n",
      "6400 7.231208365577303e-06 \tLoss(validation) = 0.007169493843041877\n",
      "6500 6.279097786440669e-06 \tLoss(validation) = 0.007192326178231154\n",
      "6600 5.882258854894847e-06 \tLoss(validation) = 0.0072131593712915\n",
      "6700 6.48651814163992e-06 \tLoss(validation) = 0.007342171923882617\n",
      "6800 4.9831205753175675e-06 \tLoss(validation) = 0.00727390451671263\n",
      "6900 4.838840758732165e-06 \tLoss(validation) = 0.007370358824724874\n",
      "7000 4.49551090938075e-06 \tLoss(validation) = 0.007337133322441183\n",
      "7100 3.983022403038605e-06 \tLoss(validation) = 0.007368528934094157\n",
      "7200 3.8756489839365645e-06 \tLoss(validation) = 0.007427911354401379\n",
      "7300 3.641337700465381e-06 \tLoss(validation) = 0.007441760820276494\n",
      "7400 3.5377410639636626e-06 \tLoss(validation) = 0.00739337226678613\n",
      "7500 3.0375358309222163e-06 \tLoss(validation) = 0.007476761501277778\n",
      "7600 2.8407860621840344e-06 \tLoss(validation) = 0.007513883065417448\n",
      "7700 2.657026646549601e-06 \tLoss(validation) = 0.007522090069396432\n",
      "7800 4.723248958137016e-06 \tLoss(validation) = 0.007592228053169985\n",
      "7900 7.984520245575972e-06 \tLoss(validation) = 0.007496630572525903\n",
      "8000 2.5176259902566534e-06 \tLoss(validation) = 0.007546334844883513\n",
      "8100 2.126669074921712e-06 \tLoss(validation) = 0.007631568131256283\n",
      "8200 2.022057376885445e-06 \tLoss(validation) = 0.007652234318311163\n",
      "8300 1.9520751878296364e-06 \tLoss(validation) = 0.007667728489986528\n",
      "8400 1.8155073363849387e-06 \tLoss(validation) = 0.007681907632944565\n",
      "8500 5.170665998792561e-06 \tLoss(validation) = 0.007654162652770653\n",
      "8600 2.6253782441433867e-06 \tLoss(validation) = 0.007811379236387226\n",
      "8700 1.8917525619675115e-06 \tLoss(validation) = 0.007724779919195051\n",
      "8800 3.484779354076576e-06 \tLoss(validation) = 0.007675949186515679\n",
      "8900 2.296802480310686e-06 \tLoss(validation) = 0.007737194286769977\n",
      "9000 2.083970766756591e-06 \tLoss(validation) = 0.007774856872368904\n",
      "9100 3.890696191213295e-06 \tLoss(validation) = 0.00787561138968096\n",
      "9200 1.3014966923300257e-06 \tLoss(validation) = 0.007793483322198882\n",
      "9300 1.620102287013521e-06 \tLoss(validation) = 0.007827320716315981\n",
      "9400 1.461511079778158e-06 \tLoss(validation) = 0.007825873339827693\n",
      "9500 1.5943538699284752e-06 \tLoss(validation) = 0.007790797613355921\n",
      "9600 1.4435323490989633e-06 \tLoss(validation) = 0.007819971435082302\n",
      "9700 1.2709081350720496e-06 \tLoss(validation) = 0.007865990726613417\n",
      "9800 1.0307529808181036e-06 \tLoss(validation) = 0.007871652779661968\n",
      "9900 1.0179158437479237e-06 \tLoss(validation) = 0.007876882731667466\n",
      "10000 1.0010410285715687e-06 \tLoss(validation) = 0.007885006388477155\n",
      "10100 2.5978777668574122e-06 \tLoss(validation) = 0.007822747719177561\n",
      "10200 9.237320481315091e-07 \tLoss(validation) = 0.007913778868943545\n",
      "10300 1.0086426610272e-06 \tLoss(validation) = 0.007947913167987928\n",
      "10400 8.840383145503738e-07 \tLoss(validation) = 0.007928866347964919\n",
      "10500 2.537621421188259e-06 \tLoss(validation) = 0.008004983130314662\n",
      "10600 8.037267576618623e-07 \tLoss(validation) = 0.007949665189863139\n",
      "10700 1.0093973832733684e-06 \tLoss(validation) = 0.00798207804788553\n",
      "10800 1.1785244869545815e-06 \tLoss(validation) = 0.00790976652927661\n",
      "10900 1.1401113719307642e-06 \tLoss(validation) = 0.007896960042993282\n",
      "11000 8.688775769719698e-07 \tLoss(validation) = 0.007977557992119537\n",
      "11100 1.3794436773964508e-06 \tLoss(validation) = 0.007961198684883502\n",
      "11200 2.0546228116580176e-06 \tLoss(validation) = 0.007883731027308133\n",
      "11300 2.6382046682914856e-06 \tLoss(validation) = 0.008106011049979057\n",
      "11400 6.766453186581109e-06 \tLoss(validation) = 0.007872550540763664\n",
      "11500 3.1160966788350116e-06 \tLoss(validation) = 0.007960087286189159\n",
      "11600 5.077115359721884e-06 \tLoss(validation) = 0.008253202573274242\n",
      "11700 2.8692192497696e-06 \tLoss(validation) = 0.008025453621314625\n",
      "11800 6.052707457853698e-07 \tLoss(validation) = 0.00803226353343542\n",
      "11900 3.2422259262245987e-06 \tLoss(validation) = 0.00806325436141014\n",
      "12000 7.655487673747616e-07 \tLoss(validation) = 0.008046943069399118\n",
      "12100 2.3032821870137883e-06 \tLoss(validation) = 0.008085853928665043\n",
      "12200 8.036816323922517e-06 \tLoss(validation) = 0.008056196316641714\n",
      "12300 4.894919021092828e-06 \tLoss(validation) = 0.008232735084012285\n",
      "12400 6.627543123853372e-07 \tLoss(validation) = 0.008112205399809615\n",
      "12500 9.813485450629812e-07 \tLoss(validation) = 0.008085249362891782\n",
      "12600 5.014888303351904e-07 \tLoss(validation) = 0.008085007879341183\n",
      "12700 1.4614444082774667e-06 \tLoss(validation) = 0.008037554129675023\n",
      "12800 1.303434038570497e-06 \tLoss(validation) = 0.008162139220528363\n",
      "12900 5.485229510324821e-07 \tLoss(validation) = 0.008084393705140887\n",
      "13000 5.122178370337756e-07 \tLoss(validation) = 0.008100845506442174\n",
      "13100 2.261973776823582e-06 \tLoss(validation) = 0.008098500456149332\n",
      "13200 9.57126557291687e-07 \tLoss(validation) = 0.008125101701910496\n",
      "13300 4.714487776650044e-07 \tLoss(validation) = 0.00812731110268015\n",
      "13400 2.4397377605946674e-06 \tLoss(validation) = 0.008158837867632794\n",
      "13500 5.42358222245129e-06 \tLoss(validation) = 0.008017385456858199\n",
      "13600 2.1875320910604798e-05 \tLoss(validation) = 0.00808606818778243\n",
      "13700 5.158064946055038e-07 \tLoss(validation) = 0.008110519861370496\n",
      "13800 2.0256298808478487e-06 \tLoss(validation) = 0.008222011580843265\n",
      "13900 3.7075087702350163e-07 \tLoss(validation) = 0.008152092809730142\n",
      "14000 2.0692418940727552e-06 \tLoss(validation) = 0.008338071399223386\n",
      "14100 2.7444981051527014e-06 \tLoss(validation) = 0.008119222547167314\n",
      "14200 3.6773410744107903e-06 \tLoss(validation) = 0.008208165342649355\n",
      "14300 2.319435538452277e-06 \tLoss(validation) = 0.00812575665258012\n",
      "14400 8.534424650287387e-07 \tLoss(validation) = 0.008226152588506173\n",
      "14500 1.424034333087959e-06 \tLoss(validation) = 0.00812214116448887\n",
      "14600 6.917374585367808e-07 \tLoss(validation) = 0.00824447531773888\n",
      "14700 3.0297092072163644e-06 \tLoss(validation) = 0.008303371413471108\n",
      "14800 1.5108272208740961e-06 \tLoss(validation) = 0.008125145266490262\n",
      "14900 5.114808185206328e-07 \tLoss(validation) = 0.008260339591777082\n",
      "15000 1.134719168472158e-05 \tLoss(validation) = 0.008260507867000298\n"
     ]
    },
    {
     "data": {
      "text/plain": [
       "<mlnics.Losses.PDNN_Loss at 0x130ac1ea0>"
      ]
     },
     "execution_count": 12,
     "metadata": {},
     "output_type": "execute_result"
    }
   ],
   "source": [
    "pdnn_trainer.train()"
   ]
  },
  {
   "cell_type": "code",
   "execution_count": 13,
   "metadata": {},
   "outputs": [
    {
     "data": {
      "image/png": "[encoded data removed]",
      "text/plain": [
       "<Figure size 432x288 with 1 Axes>"
      ]
     },
     "metadata": {
      "needs_background": "light"
     },
     "output_type": "display_data"
    }
   ],
   "source": [
    "fig, ax = Training.plot_loss(pdnn_trainer, pdnn_net)"
   ]
  },
  {
   "cell_type": "markdown",
   "metadata": {},
   "source": [
    "#### 4.5.4 Train PRNN\n",
    "\n",
    "We train a Physics-Reinforced Neural Network (PRNN) $N_W(\\boldsymbol{\\mu})$ dependnent on the weights and biases $W$ of the network to minimize the loss function\n",
    "\n",
    "$$L_{PRNN}(X_{PINN}, X_{PDNN}; W) = L_{PINN}(X_{PINN}; W) + \\omega L_{PDNN}(X_{PDNN}; W)$$\n",
    "\n",
    "where $\\omega$ is a scaling parameter which can be chosen freely."
   ]
  },
  {
   "cell_type": "code",
   "execution_count": 14,
   "metadata": {},
   "outputs": [],
   "source": [
    "input_normalization_prnn = Normalization.IdentityNormalization(input_normalization=True)\n",
    "output_normalization_prnn = Normalization.IdentityNormalization()\n",
    "\n",
    "omega = 100.\n",
    "prnn_net  = NN.RONN(f\"PRNN_{omega}\", problem, reduction_method, n_hidden=2, n_neurons=40)\n",
    "prnn_loss = Losses.PRNN_Loss(prnn_net, output_normalization_prnn, omega=omega)\n",
    "data      = RONNData.RONNDataLoader(prnn_net, validation_proportion=0.2,\n",
    "                                    num_without_snapshots=100)\n",
    "optimizer = torch.optim.Adam(prnn_net.parameters(), lr=0.001)\n",
    "\n",
    "prnn_trainer = Training.PRNNTrainer(\n",
    "    prnn_net, data, prnn_loss, optimizer,\n",
    "    input_normalization_prnn, num_epochs=10000\n",
    ")\n",
    "\n",
    "loaded, starting_epoch = IO.initialize_parameters(\n",
    "    prnn_net, data, prnn_trainer, optimizer\n",
    ")"
   ]
  },
  {
   "cell_type": "code",
   "execution_count": 15,
   "metadata": {
    "scrolled": true
   },
   "outputs": [
    {
     "name": "stdout",
     "output_type": "stream",
     "text": [
      "Operator 's' not implemented. Continuing without operator 's'...\n",
      "Operator 'stability_factor_left_hand_matrix' not implemented. Continuing without operator 'stability_factor_left_hand_matrix'...\n",
      "Operator 'stability_factor_right_hand_matrix' not implemented. Continuing without operator 'stability_factor_right_hand_matrix'...\n",
      "Operator 's' not implemented. Continuing without operator 's'...\n",
      "Operator 'stability_factor_left_hand_matrix' not implemented. Continuing without operator 'stability_factor_left_hand_matrix'...\n",
      "Operator 'stability_factor_right_hand_matrix' not implemented. Continuing without operator 'stability_factor_right_hand_matrix'...\n",
      "4500 6.108352055766794 \tLoss(validation) = 8.563183892021087\n",
      "4600 6.0814228688583825 \tLoss(validation) = 8.560678841257632\n",
      "4700 6.05537661211976 \tLoss(validation) = 8.558762070995412\n",
      "4800 6.047368095695887 \tLoss(validation) = 8.57934132556074\n",
      "4900 6.014035086966645 \tLoss(validation) = 8.567415378206057\n",
      "5000 5.989689168230827 \tLoss(validation) = 8.5679521543425\n",
      "5100 5.977027390322353 \tLoss(validation) = 8.605053834397895\n",
      "5200 5.950349058764669 \tLoss(validation) = 8.584243403560036\n",
      "5300 5.926957798390665 \tLoss(validation) = 8.58961773254238\n",
      "5400 6.20077325639725 \tLoss(validation) = 8.66087521136319\n",
      "5500 5.889937837134829 \tLoss(validation) = 8.614311256023928\n",
      "5600 5.8677882637085705 \tLoss(validation) = 8.622107637510018\n",
      "5700 6.841540001983165 \tLoss(validation) = 10.328095934709284\n",
      "5800 5.834650769885278 \tLoss(validation) = 8.652323451104273\n",
      "5900 5.813493153661913 \tLoss(validation) = 8.661633596558971\n",
      "6000 5.792887879879895 \tLoss(validation) = 8.673062213265727\n",
      "6100 5.79360654599162 \tLoss(validation) = 8.72328164285645\n",
      "6200 5.7611021289322695 \tLoss(validation) = 8.706775626313359\n",
      "6300 5.74149090626795 \tLoss(validation) = 8.720124006914377\n",
      "6400 6.266056763563912 \tLoss(validation) = 10.453853943827376\n",
      "6500 5.711454507894432 \tLoss(validation) = 8.758611840676172\n",
      "6600 5.692698223266243 \tLoss(validation) = 8.774463711964636\n",
      "6700 5.674145324498758 \tLoss(validation) = 8.793940549559832\n",
      "6800 5.6666471410371 \tLoss(validation) = 8.81989620441983\n",
      "6900 5.648010475451892 \tLoss(validation) = 8.837288882578777\n",
      "7000 5.630472117096505 \tLoss(validation) = 8.858858558208551\n",
      "7100 6.745113265600917 \tLoss(validation) = 10.829787643449155\n",
      "7200 5.606694750978092 \tLoss(validation) = 8.911270210403138\n",
      "7300 5.5896547890557065 \tLoss(validation) = 8.930777724545564\n",
      "7400 5.573116446834282 \tLoss(validation) = 8.956705221432632\n",
      "7500 12.148866810386842 \tLoss(validation) = 11.888011449952755\n",
      "7600 5.548963967814828 \tLoss(validation) = 9.013050287812382\n",
      "7700 5.532665968905348 \tLoss(validation) = 9.039296436041337\n",
      "7800 5.516763302739929 \tLoss(validation) = 9.071187193017334\n",
      "7900 5.511809613789145 \tLoss(validation) = 9.108356765172733\n",
      "8000 5.494564000378959 \tLoss(validation) = 9.127305697340736\n",
      "8100 5.479221690345202 \tLoss(validation) = 9.16099539394127\n",
      "8200 6.903821407030984 \tLoss(validation) = 10.32411128001328\n",
      "8300 5.458629962606915 \tLoss(validation) = 9.224004331199733\n",
      "8400 5.443560819688007 \tLoss(validation) = 9.257321602353894\n",
      "8500 5.428821665842945 \tLoss(validation) = 9.297722936500623\n",
      "8600 5.4255946740940315 \tLoss(validation) = 9.370560744367921\n",
      "8700 5.408698996570074 \tLoss(validation) = 9.364646953653953\n",
      "8800 5.394355463698227 \tLoss(validation) = 9.406281806767412\n",
      "8900 7.8767638180645765 \tLoss(validation) = 9.488091439205846\n",
      "9000 5.376149294293435 \tLoss(validation) = 9.480952042985322\n",
      "9100 5.361878015544166 \tLoss(validation) = 9.521095554550058\n",
      "9200 5.348237682682867 \tLoss(validation) = 9.57083313118618\n",
      "9300 5.3692939518196034 \tLoss(validation) = 9.690670581161704\n",
      "9400 5.331072295355928 \tLoss(validation) = 9.645423706674805\n",
      "9500 5.317907888793467 \tLoss(validation) = 9.695149059596668\n",
      "9600 6.685427890208505 \tLoss(validation) = 11.841334185140852\n",
      "9700 5.300663591684243 \tLoss(validation) = 9.784994808202736\n",
      "9800 5.287727889207902 \tLoss(validation) = 9.833937022183683\n",
      "9900 5.358616336357561 \tLoss(validation) = 10.000828173618016\n",
      "10000 5.271575171565249 \tLoss(validation) = 9.928236357866005\n",
      "10100 5.2589407986863295 \tLoss(validation) = 9.97847526737468\n",
      "10200 5.247557763271857 \tLoss(validation) = 10.04416962739804\n",
      "10300 5.2463383514244555 \tLoss(validation) = 10.069335938355533\n",
      "10400 5.2335657286791895 \tLoss(validation) = 10.115827087188537\n",
      "10500 5.222337040671457 \tLoss(validation) = 10.177186399629761\n",
      "10600 5.532492092346114 \tLoss(validation) = 10.319290456455004\n",
      "10700 5.209090980010985 \tLoss(validation) = 10.263915199764256\n",
      "10800 5.198093075068396 \tLoss(validation) = 10.322854235287277\n",
      "10900 5.506309782119794 \tLoss(validation) = 10.84487262993764\n",
      "11000 5.18530646830814 \tLoss(validation) = 10.417700395531675\n",
      "11100 5.17433474549623 \tLoss(validation) = 10.471789271721818\n",
      "11200 5.164148897272635 \tLoss(validation) = 10.537589918351516\n",
      "11300 5.163265624591002 \tLoss(validation) = 10.566332564383318\n",
      "11400 5.152080751772606 \tLoss(validation) = 10.612070893167182\n",
      "11500 5.142214347565682 \tLoss(validation) = 10.676612118774607\n",
      "11600 5.165083214488286 \tLoss(validation) = 10.750579777569529\n",
      "11700 5.130019221753365 \tLoss(validation) = 10.755972096332364\n",
      "11800 5.120330467816408 \tLoss(validation) = 10.81979292711724\n",
      "11900 5.129570191795602 \tLoss(validation) = 10.888002741061063\n",
      "12000 5.109251513318128 \tLoss(validation) = 10.891252071665843\n",
      "12100 5.100419140122578 \tLoss(validation) = 10.94778020203522\n",
      "12200 5.256297886689338 \tLoss(validation) = 11.24380478806922\n",
      "12300 5.0906230617172 \tLoss(validation) = 11.006834397209138\n",
      "12400 5.081855101024328 \tLoss(validation) = 11.062903862605111\n",
      "12500 5.07516881051072 \tLoss(validation) = 11.133991513650205\n",
      "12600 5.072136567158898 \tLoss(validation) = 11.140879979920143\n",
      "12700 5.062700476201098 \tLoss(validation) = 11.19259990801939\n",
      "12800 5.2958001033244955 \tLoss(validation) = 11.603875492927827\n",
      "12900 5.05357410829518 \tLoss(validation) = 11.255566534623615\n",
      "13000 5.045148421913174 \tLoss(validation) = 11.306361959560636\n",
      "13100 5.622524183427915 \tLoss(validation) = 12.34286211233502\n",
      "13200 5.036496841677115 \tLoss(validation) = 11.361382084176675\n",
      "13300 5.028178504251635 \tLoss(validation) = 11.414023466344931\n",
      "13400 5.030955453926675 \tLoss(validation) = 11.503241623619795\n",
      "13500 5.019783333241715 \tLoss(validation) = 11.468717383554162\n",
      "13600 5.011269045006947 \tLoss(validation) = 11.522366141027746\n",
      "13700 7.947200064357409 \tLoss(validation) = 14.103190315413158\n",
      "13800 5.001927562093013 \tLoss(validation) = 11.581944219854012\n",
      "13900 4.994614770773508 \tLoss(validation) = 11.634794831302617\n",
      "14000 5.0069892883313365 \tLoss(validation) = 11.627634867643286\n",
      "14100 4.9863418662257475 \tLoss(validation) = 11.669158097852604\n",
      "14200 4.979152197347269 \tLoss(validation) = 11.722793320920577\n",
      "14300 4.992147544330014 \tLoss(validation) = 11.71572034494751\n",
      "14400 4.971206894781005 \tLoss(validation) = 11.746540572935363\n"
     ]
    },
    {
     "data": {
      "text/plain": [
       "<mlnics.Losses.PRNN_Loss at 0x131588550>"
      ]
     },
     "execution_count": 15,
     "metadata": {},
     "output_type": "execute_result"
    }
   ],
   "source": [
    "prnn_trainer.train()"
   ]
  },
  {
   "cell_type": "code",
   "execution_count": 16,
   "metadata": {},
   "outputs": [
    {
     "data": {
      "image/png": "[encoded data removed]",
      "text/plain": [
       "<Figure size 432x288 with 1 Axes>"
      ]
     },
     "metadata": {
      "needs_background": "light"
     },
     "output_type": "display_data"
    }
   ],
   "source": [
    "fig, ax = Training.plot_loss(prnn_trainer, prnn_net, separate=True)"
   ]
  },
  {
   "cell_type": "markdown",
   "metadata": {},
   "source": [
    "### 4.6. Perform an error analysis"
   ]
  },
  {
   "cell_type": "markdown",
   "metadata": {},
   "source": [
    "#### 4.6.1 Reduction Method Error Analysis"
   ]
  },
  {
   "cell_type": "code",
   "execution_count": 17,
   "metadata": {
    "scrolled": true
   },
   "outputs": [
    {
     "name": "stdout",
     "output_type": "stream",
     "text": [
      "================================================================================\n",
      "=                          SCM error analysis begins                           =\n",
      "================================================================================\n",
      "\n",
      "~~~~~~~~~~~~~~~~~~~~~~~~~~~~~~~~~~~~ SCM 0 ~~~~~~~~~~~~~~~~~~~~~~~~~~~~~~~~~~~~~\n",
      "~~~~~~~~~~~~~~~~~~~~~~~~~~~~~~~~~~~~ SCM 1 ~~~~~~~~~~~~~~~~~~~~~~~~~~~~~~~~~~~~~\n",
      "~~~~~~~~~~~~~~~~~~~~~~~~~~~~~~~~~~~~ SCM 2 ~~~~~~~~~~~~~~~~~~~~~~~~~~~~~~~~~~~~~\n",
      "~~~~~~~~~~~~~~~~~~~~~~~~~~~~~~~~~~~~ SCM 3 ~~~~~~~~~~~~~~~~~~~~~~~~~~~~~~~~~~~~~\n",
      "~~~~~~~~~~~~~~~~~~~~~~~~~~~~~~~~~~~~ SCM 4 ~~~~~~~~~~~~~~~~~~~~~~~~~~~~~~~~~~~~~\n",
      "~~~~~~~~~~~~~~~~~~~~~~~~~~~~~~~~~~~~ SCM 5 ~~~~~~~~~~~~~~~~~~~~~~~~~~~~~~~~~~~~~\n",
      "~~~~~~~~~~~~~~~~~~~~~~~~~~~~~~~~~~~~ SCM 6 ~~~~~~~~~~~~~~~~~~~~~~~~~~~~~~~~~~~~~\n",
      "~~~~~~~~~~~~~~~~~~~~~~~~~~~~~~~~~~~~ SCM 7 ~~~~~~~~~~~~~~~~~~~~~~~~~~~~~~~~~~~~~\n",
      "~~~~~~~~~~~~~~~~~~~~~~~~~~~~~~~~~~~~ SCM 8 ~~~~~~~~~~~~~~~~~~~~~~~~~~~~~~~~~~~~~\n",
      "~~~~~~~~~~~~~~~~~~~~~~~~~~~~~~~~~~~~ SCM 9 ~~~~~~~~~~~~~~~~~~~~~~~~~~~~~~~~~~~~~\n",
      "~~~~~~~~~~~~~~~~~~~~~~~~~~~~~~~~~~~~ SCM 10 ~~~~~~~~~~~~~~~~~~~~~~~~~~~~~~~~~~~~\n",
      "~~~~~~~~~~~~~~~~~~~~~~~~~~~~~~~~~~~~ SCM 11 ~~~~~~~~~~~~~~~~~~~~~~~~~~~~~~~~~~~~\n",
      "~~~~~~~~~~~~~~~~~~~~~~~~~~~~~~~~~~~~ SCM 12 ~~~~~~~~~~~~~~~~~~~~~~~~~~~~~~~~~~~~\n",
      "~~~~~~~~~~~~~~~~~~~~~~~~~~~~~~~~~~~~ SCM 13 ~~~~~~~~~~~~~~~~~~~~~~~~~~~~~~~~~~~~\n",
      "~~~~~~~~~~~~~~~~~~~~~~~~~~~~~~~~~~~~ SCM 14 ~~~~~~~~~~~~~~~~~~~~~~~~~~~~~~~~~~~~\n",
      "~~~~~~~~~~~~~~~~~~~~~~~~~~~~~~~~~~~~ SCM 15 ~~~~~~~~~~~~~~~~~~~~~~~~~~~~~~~~~~~~\n",
      "~~~~~~~~~~~~~~~~~~~~~~~~~~~~~~~~~~~~ SCM 16 ~~~~~~~~~~~~~~~~~~~~~~~~~~~~~~~~~~~~\n",
      "~~~~~~~~~~~~~~~~~~~~~~~~~~~~~~~~~~~~ SCM 17 ~~~~~~~~~~~~~~~~~~~~~~~~~~~~~~~~~~~~\n",
      "~~~~~~~~~~~~~~~~~~~~~~~~~~~~~~~~~~~~ SCM 18 ~~~~~~~~~~~~~~~~~~~~~~~~~~~~~~~~~~~~\n",
      "~~~~~~~~~~~~~~~~~~~~~~~~~~~~~~~~~~~~ SCM 19 ~~~~~~~~~~~~~~~~~~~~~~~~~~~~~~~~~~~~\n",
      "~~~~~~~~~~~~~~~~~~~~~~~~~~~~~~~~~~~~ SCM 20 ~~~~~~~~~~~~~~~~~~~~~~~~~~~~~~~~~~~~\n",
      "~~~~~~~~~~~~~~~~~~~~~~~~~~~~~~~~~~~~ SCM 21 ~~~~~~~~~~~~~~~~~~~~~~~~~~~~~~~~~~~~\n",
      "~~~~~~~~~~~~~~~~~~~~~~~~~~~~~~~~~~~~ SCM 22 ~~~~~~~~~~~~~~~~~~~~~~~~~~~~~~~~~~~~\n",
      "~~~~~~~~~~~~~~~~~~~~~~~~~~~~~~~~~~~~ SCM 23 ~~~~~~~~~~~~~~~~~~~~~~~~~~~~~~~~~~~~\n",
      "~~~~~~~~~~~~~~~~~~~~~~~~~~~~~~~~~~~~ SCM 24 ~~~~~~~~~~~~~~~~~~~~~~~~~~~~~~~~~~~~\n",
      "~~~~~~~~~~~~~~~~~~~~~~~~~~~~~~~~~~~~ SCM 25 ~~~~~~~~~~~~~~~~~~~~~~~~~~~~~~~~~~~~\n",
      "~~~~~~~~~~~~~~~~~~~~~~~~~~~~~~~~~~~~ SCM 26 ~~~~~~~~~~~~~~~~~~~~~~~~~~~~~~~~~~~~\n",
      "~~~~~~~~~~~~~~~~~~~~~~~~~~~~~~~~~~~~ SCM 27 ~~~~~~~~~~~~~~~~~~~~~~~~~~~~~~~~~~~~\n",
      "~~~~~~~~~~~~~~~~~~~~~~~~~~~~~~~~~~~~ SCM 28 ~~~~~~~~~~~~~~~~~~~~~~~~~~~~~~~~~~~~\n",
      "~~~~~~~~~~~~~~~~~~~~~~~~~~~~~~~~~~~~ SCM 29 ~~~~~~~~~~~~~~~~~~~~~~~~~~~~~~~~~~~~\n",
      "~~~~~~~~~~~~~~~~~~~~~~~~~~~~~~~~~~~~ SCM 30 ~~~~~~~~~~~~~~~~~~~~~~~~~~~~~~~~~~~~\n",
      "~~~~~~~~~~~~~~~~~~~~~~~~~~~~~~~~~~~~ SCM 31 ~~~~~~~~~~~~~~~~~~~~~~~~~~~~~~~~~~~~\n",
      "~~~~~~~~~~~~~~~~~~~~~~~~~~~~~~~~~~~~ SCM 32 ~~~~~~~~~~~~~~~~~~~~~~~~~~~~~~~~~~~~\n",
      "~~~~~~~~~~~~~~~~~~~~~~~~~~~~~~~~~~~~ SCM 33 ~~~~~~~~~~~~~~~~~~~~~~~~~~~~~~~~~~~~\n",
      "~~~~~~~~~~~~~~~~~~~~~~~~~~~~~~~~~~~~ SCM 34 ~~~~~~~~~~~~~~~~~~~~~~~~~~~~~~~~~~~~\n",
      "~~~~~~~~~~~~~~~~~~~~~~~~~~~~~~~~~~~~ SCM 35 ~~~~~~~~~~~~~~~~~~~~~~~~~~~~~~~~~~~~\n",
      "~~~~~~~~~~~~~~~~~~~~~~~~~~~~~~~~~~~~ SCM 36 ~~~~~~~~~~~~~~~~~~~~~~~~~~~~~~~~~~~~\n",
      "~~~~~~~~~~~~~~~~~~~~~~~~~~~~~~~~~~~~ SCM 37 ~~~~~~~~~~~~~~~~~~~~~~~~~~~~~~~~~~~~\n",
      "~~~~~~~~~~~~~~~~~~~~~~~~~~~~~~~~~~~~ SCM 38 ~~~~~~~~~~~~~~~~~~~~~~~~~~~~~~~~~~~~\n",
      "~~~~~~~~~~~~~~~~~~~~~~~~~~~~~~~~~~~~ SCM 39 ~~~~~~~~~~~~~~~~~~~~~~~~~~~~~~~~~~~~\n",
      "~~~~~~~~~~~~~~~~~~~~~~~~~~~~~~~~~~~~ SCM 40 ~~~~~~~~~~~~~~~~~~~~~~~~~~~~~~~~~~~~\n",
      "~~~~~~~~~~~~~~~~~~~~~~~~~~~~~~~~~~~~ SCM 41 ~~~~~~~~~~~~~~~~~~~~~~~~~~~~~~~~~~~~\n",
      "~~~~~~~~~~~~~~~~~~~~~~~~~~~~~~~~~~~~ SCM 42 ~~~~~~~~~~~~~~~~~~~~~~~~~~~~~~~~~~~~\n",
      "~~~~~~~~~~~~~~~~~~~~~~~~~~~~~~~~~~~~ SCM 43 ~~~~~~~~~~~~~~~~~~~~~~~~~~~~~~~~~~~~\n",
      "~~~~~~~~~~~~~~~~~~~~~~~~~~~~~~~~~~~~ SCM 44 ~~~~~~~~~~~~~~~~~~~~~~~~~~~~~~~~~~~~\n",
      "~~~~~~~~~~~~~~~~~~~~~~~~~~~~~~~~~~~~ SCM 45 ~~~~~~~~~~~~~~~~~~~~~~~~~~~~~~~~~~~~\n",
      "~~~~~~~~~~~~~~~~~~~~~~~~~~~~~~~~~~~~ SCM 46 ~~~~~~~~~~~~~~~~~~~~~~~~~~~~~~~~~~~~\n",
      "~~~~~~~~~~~~~~~~~~~~~~~~~~~~~~~~~~~~ SCM 47 ~~~~~~~~~~~~~~~~~~~~~~~~~~~~~~~~~~~~\n",
      "~~~~~~~~~~~~~~~~~~~~~~~~~~~~~~~~~~~~ SCM 48 ~~~~~~~~~~~~~~~~~~~~~~~~~~~~~~~~~~~~\n",
      "~~~~~~~~~~~~~~~~~~~~~~~~~~~~~~~~~~~~ SCM 49 ~~~~~~~~~~~~~~~~~~~~~~~~~~~~~~~~~~~~\n",
      "~~~~~~~~~~~~~~~~~~~~~~~~~~~~~~~~~~~~ SCM 50 ~~~~~~~~~~~~~~~~~~~~~~~~~~~~~~~~~~~~\n",
      "~~~~~~~~~~~~~~~~~~~~~~~~~~~~~~~~~~~~ SCM 51 ~~~~~~~~~~~~~~~~~~~~~~~~~~~~~~~~~~~~\n",
      "~~~~~~~~~~~~~~~~~~~~~~~~~~~~~~~~~~~~ SCM 52 ~~~~~~~~~~~~~~~~~~~~~~~~~~~~~~~~~~~~\n",
      "~~~~~~~~~~~~~~~~~~~~~~~~~~~~~~~~~~~~ SCM 53 ~~~~~~~~~~~~~~~~~~~~~~~~~~~~~~~~~~~~\n",
      "~~~~~~~~~~~~~~~~~~~~~~~~~~~~~~~~~~~~ SCM 54 ~~~~~~~~~~~~~~~~~~~~~~~~~~~~~~~~~~~~\n",
      "~~~~~~~~~~~~~~~~~~~~~~~~~~~~~~~~~~~~ SCM 55 ~~~~~~~~~~~~~~~~~~~~~~~~~~~~~~~~~~~~\n",
      "~~~~~~~~~~~~~~~~~~~~~~~~~~~~~~~~~~~~ SCM 56 ~~~~~~~~~~~~~~~~~~~~~~~~~~~~~~~~~~~~\n",
      "~~~~~~~~~~~~~~~~~~~~~~~~~~~~~~~~~~~~ SCM 57 ~~~~~~~~~~~~~~~~~~~~~~~~~~~~~~~~~~~~\n",
      "~~~~~~~~~~~~~~~~~~~~~~~~~~~~~~~~~~~~ SCM 58 ~~~~~~~~~~~~~~~~~~~~~~~~~~~~~~~~~~~~\n",
      "~~~~~~~~~~~~~~~~~~~~~~~~~~~~~~~~~~~~ SCM 59 ~~~~~~~~~~~~~~~~~~~~~~~~~~~~~~~~~~~~\n",
      "~~~~~~~~~~~~~~~~~~~~~~~~~~~~~~~~~~~~ SCM 60 ~~~~~~~~~~~~~~~~~~~~~~~~~~~~~~~~~~~~\n",
      "~~~~~~~~~~~~~~~~~~~~~~~~~~~~~~~~~~~~ SCM 61 ~~~~~~~~~~~~~~~~~~~~~~~~~~~~~~~~~~~~\n",
      "~~~~~~~~~~~~~~~~~~~~~~~~~~~~~~~~~~~~ SCM 62 ~~~~~~~~~~~~~~~~~~~~~~~~~~~~~~~~~~~~\n",
      "~~~~~~~~~~~~~~~~~~~~~~~~~~~~~~~~~~~~ SCM 63 ~~~~~~~~~~~~~~~~~~~~~~~~~~~~~~~~~~~~\n",
      "~~~~~~~~~~~~~~~~~~~~~~~~~~~~~~~~~~~~ SCM 64 ~~~~~~~~~~~~~~~~~~~~~~~~~~~~~~~~~~~~\n",
      "~~~~~~~~~~~~~~~~~~~~~~~~~~~~~~~~~~~~ SCM 65 ~~~~~~~~~~~~~~~~~~~~~~~~~~~~~~~~~~~~\n",
      "~~~~~~~~~~~~~~~~~~~~~~~~~~~~~~~~~~~~ SCM 66 ~~~~~~~~~~~~~~~~~~~~~~~~~~~~~~~~~~~~\n",
      "~~~~~~~~~~~~~~~~~~~~~~~~~~~~~~~~~~~~ SCM 67 ~~~~~~~~~~~~~~~~~~~~~~~~~~~~~~~~~~~~\n",
      "~~~~~~~~~~~~~~~~~~~~~~~~~~~~~~~~~~~~ SCM 68 ~~~~~~~~~~~~~~~~~~~~~~~~~~~~~~~~~~~~\n",
      "~~~~~~~~~~~~~~~~~~~~~~~~~~~~~~~~~~~~ SCM 69 ~~~~~~~~~~~~~~~~~~~~~~~~~~~~~~~~~~~~\n",
      "~~~~~~~~~~~~~~~~~~~~~~~~~~~~~~~~~~~~ SCM 70 ~~~~~~~~~~~~~~~~~~~~~~~~~~~~~~~~~~~~\n",
      "~~~~~~~~~~~~~~~~~~~~~~~~~~~~~~~~~~~~ SCM 71 ~~~~~~~~~~~~~~~~~~~~~~~~~~~~~~~~~~~~\n",
      "~~~~~~~~~~~~~~~~~~~~~~~~~~~~~~~~~~~~ SCM 72 ~~~~~~~~~~~~~~~~~~~~~~~~~~~~~~~~~~~~\n",
      "~~~~~~~~~~~~~~~~~~~~~~~~~~~~~~~~~~~~ SCM 73 ~~~~~~~~~~~~~~~~~~~~~~~~~~~~~~~~~~~~\n",
      "~~~~~~~~~~~~~~~~~~~~~~~~~~~~~~~~~~~~ SCM 74 ~~~~~~~~~~~~~~~~~~~~~~~~~~~~~~~~~~~~\n",
      "~~~~~~~~~~~~~~~~~~~~~~~~~~~~~~~~~~~~ SCM 75 ~~~~~~~~~~~~~~~~~~~~~~~~~~~~~~~~~~~~\n",
      "~~~~~~~~~~~~~~~~~~~~~~~~~~~~~~~~~~~~ SCM 76 ~~~~~~~~~~~~~~~~~~~~~~~~~~~~~~~~~~~~\n",
      "~~~~~~~~~~~~~~~~~~~~~~~~~~~~~~~~~~~~ SCM 77 ~~~~~~~~~~~~~~~~~~~~~~~~~~~~~~~~~~~~\n",
      "~~~~~~~~~~~~~~~~~~~~~~~~~~~~~~~~~~~~ SCM 78 ~~~~~~~~~~~~~~~~~~~~~~~~~~~~~~~~~~~~\n",
      "~~~~~~~~~~~~~~~~~~~~~~~~~~~~~~~~~~~~ SCM 79 ~~~~~~~~~~~~~~~~~~~~~~~~~~~~~~~~~~~~\n",
      "~~~~~~~~~~~~~~~~~~~~~~~~~~~~~~~~~~~~ SCM 80 ~~~~~~~~~~~~~~~~~~~~~~~~~~~~~~~~~~~~\n",
      "~~~~~~~~~~~~~~~~~~~~~~~~~~~~~~~~~~~~ SCM 81 ~~~~~~~~~~~~~~~~~~~~~~~~~~~~~~~~~~~~\n",
      "~~~~~~~~~~~~~~~~~~~~~~~~~~~~~~~~~~~~ SCM 82 ~~~~~~~~~~~~~~~~~~~~~~~~~~~~~~~~~~~~\n",
      "~~~~~~~~~~~~~~~~~~~~~~~~~~~~~~~~~~~~ SCM 83 ~~~~~~~~~~~~~~~~~~~~~~~~~~~~~~~~~~~~\n",
      "~~~~~~~~~~~~~~~~~~~~~~~~~~~~~~~~~~~~ SCM 84 ~~~~~~~~~~~~~~~~~~~~~~~~~~~~~~~~~~~~\n",
      "~~~~~~~~~~~~~~~~~~~~~~~~~~~~~~~~~~~~ SCM 85 ~~~~~~~~~~~~~~~~~~~~~~~~~~~~~~~~~~~~\n",
      "~~~~~~~~~~~~~~~~~~~~~~~~~~~~~~~~~~~~ SCM 86 ~~~~~~~~~~~~~~~~~~~~~~~~~~~~~~~~~~~~\n",
      "~~~~~~~~~~~~~~~~~~~~~~~~~~~~~~~~~~~~ SCM 87 ~~~~~~~~~~~~~~~~~~~~~~~~~~~~~~~~~~~~\n",
      "~~~~~~~~~~~~~~~~~~~~~~~~~~~~~~~~~~~~ SCM 88 ~~~~~~~~~~~~~~~~~~~~~~~~~~~~~~~~~~~~\n",
      "~~~~~~~~~~~~~~~~~~~~~~~~~~~~~~~~~~~~ SCM 89 ~~~~~~~~~~~~~~~~~~~~~~~~~~~~~~~~~~~~\n",
      "~~~~~~~~~~~~~~~~~~~~~~~~~~~~~~~~~~~~ SCM 90 ~~~~~~~~~~~~~~~~~~~~~~~~~~~~~~~~~~~~\n",
      "~~~~~~~~~~~~~~~~~~~~~~~~~~~~~~~~~~~~ SCM 91 ~~~~~~~~~~~~~~~~~~~~~~~~~~~~~~~~~~~~\n",
      "~~~~~~~~~~~~~~~~~~~~~~~~~~~~~~~~~~~~ SCM 92 ~~~~~~~~~~~~~~~~~~~~~~~~~~~~~~~~~~~~\n",
      "~~~~~~~~~~~~~~~~~~~~~~~~~~~~~~~~~~~~ SCM 93 ~~~~~~~~~~~~~~~~~~~~~~~~~~~~~~~~~~~~\n",
      "~~~~~~~~~~~~~~~~~~~~~~~~~~~~~~~~~~~~ SCM 94 ~~~~~~~~~~~~~~~~~~~~~~~~~~~~~~~~~~~~\n",
      "~~~~~~~~~~~~~~~~~~~~~~~~~~~~~~~~~~~~ SCM 95 ~~~~~~~~~~~~~~~~~~~~~~~~~~~~~~~~~~~~\n",
      "~~~~~~~~~~~~~~~~~~~~~~~~~~~~~~~~~~~~ SCM 96 ~~~~~~~~~~~~~~~~~~~~~~~~~~~~~~~~~~~~\n",
      "~~~~~~~~~~~~~~~~~~~~~~~~~~~~~~~~~~~~ SCM 97 ~~~~~~~~~~~~~~~~~~~~~~~~~~~~~~~~~~~~\n",
      "~~~~~~~~~~~~~~~~~~~~~~~~~~~~~~~~~~~~ SCM 98 ~~~~~~~~~~~~~~~~~~~~~~~~~~~~~~~~~~~~\n"
     ]
    },
    {
     "name": "stdout",
     "output_type": "stream",
     "text": [
      "~~~~~~~~~~~~~~~~~~~~~~~~~~~~~~~~~~~~ SCM 99 ~~~~~~~~~~~~~~~~~~~~~~~~~~~~~~~~~~~~\n",
      "\n",
      "N \tmin(normalized_error) \tgmean(normalized_error)\tmax(normalized_error)\n",
      "1 \t0.003022070682074032  \t0.13925944078915956    \t0.9256335134488062   \n",
      "2 \t0.003022070682073669  \t0.15739055418412204    \t0.9094592913121833   \n",
      "3 \t0.0003934361198156536 \t0.029647202318832562   \t0.20000622675123497  \n",
      "4 \t0.00039343611981179085\t0.02914177939748637    \t0.1991104909285588   \n",
      "5 \t0.00039343611981579156\t0.02446899573917232    \t0.19173443154000386  \n",
      "6 \t1.5503969793298845e-05\t0.002660131832441949   \t0.03149148993861569  \n",
      "7 \t1.107402074043885e-05 \t0.0005104203845785066  \t0.024746945691205918 \n",
      "8 \t8.437572038872452e-08 \t6.705419875337893e-05  \t0.014298591847858868 \n",
      "9 \t8.437571950365566e-08 \t6.310334205110583e-05  \t0.014298591847858868 \n",
      "10\t8.437571879560059e-08 \t6.257895054429984e-05  \t0.014298591847858715 \n",
      "11\t8.437572091976583e-08 \t6.226984053946452e-05  \t0.014271667688134308 \n",
      "12\t8.43757210967796e-08  \t5.748975133538068e-05  \t0.014271667688134614 \n",
      "13\t8.437572003469697e-08 \t5.7381764431159206e-05 \t0.01367932312268175  \n",
      "14\t8.437571844157306e-08 \t5.2768451337004215e-05 \t0.013679323122681901 \n",
      "15\t8.437571861858682e-08 \t3.201856045907626e-05  \t0.013679323122682054 \n",
      "16\t8.437571879560059e-08 \t2.011082357523138e-05  \t0.013679323122682054 \n",
      "17\t8.437571914962813e-08 \t1.9586157248682458e-05 \t0.012051140886247709 \n",
      "18\t8.437571861858682e-08 \t1.9586157248420264e-05 \t0.012051140886247251 \n",
      "19\t8.437571950365566e-08 \t1.9586157251271678e-05 \t0.012051140886247709 \n",
      "20\t8.385336564615032e-09 \t1.5823240060485444e-05 \t0.0120511408862471   \n",
      "\n",
      "================================================================================\n",
      "=                           SCM error analysis ends                            =\n",
      "================================================================================\n",
      "\n",
      "================================================================================\n",
      "=                       Graetz1 RB error analysis begins                       =\n",
      "================================================================================\n",
      "\n",
      "###################################### 0 #######################################\n",
      "###################################### 1 #######################################\n",
      "###################################### 2 #######################################\n",
      "###################################### 3 #######################################\n",
      "###################################### 4 #######################################\n",
      "###################################### 5 #######################################\n",
      "###################################### 6 #######################################\n",
      "###################################### 7 #######################################\n",
      "###################################### 8 #######################################\n",
      "###################################### 9 #######################################\n",
      "###################################### 10 ######################################\n",
      "###################################### 11 ######################################\n",
      "###################################### 12 ######################################\n",
      "###################################### 13 ######################################\n",
      "###################################### 14 ######################################\n",
      "###################################### 15 ######################################\n",
      "###################################### 16 ######################################\n",
      "###################################### 17 ######################################\n",
      "###################################### 18 ######################################\n",
      "###################################### 19 ######################################\n",
      "###################################### 20 ######################################\n",
      "###################################### 21 ######################################\n",
      "###################################### 22 ######################################\n",
      "###################################### 23 ######################################\n",
      "###################################### 24 ######################################\n",
      "###################################### 25 ######################################\n",
      "###################################### 26 ######################################\n",
      "###################################### 27 ######################################\n",
      "###################################### 28 ######################################\n",
      "###################################### 29 ######################################\n",
      "###################################### 30 ######################################\n",
      "###################################### 31 ######################################\n",
      "###################################### 32 ######################################\n",
      "###################################### 33 ######################################\n",
      "###################################### 34 ######################################\n",
      "###################################### 35 ######################################\n",
      "###################################### 36 ######################################\n",
      "###################################### 37 ######################################\n",
      "###################################### 38 ######################################\n",
      "###################################### 39 ######################################\n",
      "###################################### 40 ######################################\n",
      "###################################### 41 ######################################\n",
      "###################################### 42 ######################################\n",
      "###################################### 43 ######################################\n",
      "###################################### 44 ######################################\n",
      "###################################### 45 ######################################\n",
      "###################################### 46 ######################################\n",
      "###################################### 47 ######################################\n",
      "###################################### 48 ######################################\n",
      "###################################### 49 ######################################\n",
      "###################################### 50 ######################################\n",
      "###################################### 51 ######################################\n",
      "###################################### 52 ######################################\n",
      "###################################### 53 ######################################\n",
      "###################################### 54 ######################################\n",
      "###################################### 55 ######################################\n",
      "###################################### 56 ######################################\n",
      "###################################### 57 ######################################\n",
      "###################################### 58 ######################################\n",
      "###################################### 59 ######################################\n",
      "###################################### 60 ######################################\n",
      "###################################### 61 ######################################\n",
      "###################################### 62 ######################################\n",
      "###################################### 63 ######################################\n",
      "###################################### 64 ######################################\n",
      "###################################### 65 ######################################\n",
      "###################################### 66 ######################################\n",
      "###################################### 67 ######################################\n",
      "###################################### 68 ######################################\n",
      "###################################### 69 ######################################\n",
      "###################################### 70 ######################################\n",
      "###################################### 71 ######################################\n",
      "###################################### 72 ######################################\n",
      "###################################### 73 ######################################\n",
      "###################################### 74 ######################################\n",
      "###################################### 75 ######################################\n"
     ]
    },
    {
     "name": "stdout",
     "output_type": "stream",
     "text": [
      "###################################### 76 ######################################\n",
      "###################################### 77 ######################################\n",
      "###################################### 78 ######################################\n",
      "###################################### 79 ######################################\n",
      "###################################### 80 ######################################\n",
      "###################################### 81 ######################################\n",
      "###################################### 82 ######################################\n",
      "###################################### 83 ######################################\n",
      "###################################### 84 ######################################\n",
      "###################################### 85 ######################################\n",
      "###################################### 86 ######################################\n",
      "###################################### 87 ######################################\n",
      "###################################### 88 ######################################\n",
      "###################################### 89 ######################################\n",
      "###################################### 90 ######################################\n",
      "###################################### 91 ######################################\n",
      "###################################### 92 ######################################\n",
      "###################################### 93 ######################################\n",
      "###################################### 94 ######################################\n",
      "###################################### 95 ######################################\n",
      "###################################### 96 ######################################\n",
      "###################################### 97 ######################################\n",
      "###################################### 98 ######################################\n",
      "###################################### 99 ######################################\n",
      "\n",
      "N \tgmean(error_u)        \tmax(error_u)          \tgmean(error_estimator_u)\tmax(error_estimator_u)\tmin(effectivity_u)\tgmean(effectivity_u)\tmax(effectivity_u)\n",
      "1 \t0.21969640870111432   \t1.4384618695224072    \t0.7584136175241245      \t7.856529717311552     \t1.1231136226182286\t3.452098384347773   \t7.450838200327362 \n",
      "2 \t0.1236346248874072    \t0.6582054572717189    \t0.45934042608414943     \t4.887378444718097     \t1.101694806996043 \t3.7153056961386506  \t14433923.788764488\n",
      "3 \t0.08035315162049832   \t0.33755230632299793   \t0.35324937505921966     \t1.0417003722538807    \t1.09297138212902  \t4.39621057712321    \t36172270.596028425\n",
      "4 \t0.011934058623443553  \t0.13738094457993957   \t0.06435998682046518     \t0.3282928786289891    \t1.0930224362153966\t5.39296720849309    \t29199428.877561923\n",
      "5 \t0.009342452764861927  \t0.10704935373527967   \t0.04758011772579365     \t0.21063360106066775   \t1.081378006453272 \t5.092893581945427   \t22486608.0649249  \n",
      "6 \t0.008348466070191882  \t0.10398140772105027   \t0.041259785138688054    \t0.20701410217398616   \t1.0822752437207082\t4.942199536032819   \t17969776.218952414\n",
      "7 \t0.005256803448244549  \t0.05522193526310549   \t0.03162751286608097     \t0.11454411918283336   \t1.0776575844089384\t6.016491424392648   \t19599757.715695284\n",
      "8 \t0.0008980070325853019 \t0.03446604928206235   \t0.005946222264783525    \t0.05987304576211136   \t1.0817165771582467\t6.621576501093492   \t13595202.18532713 \n",
      "9 \t0.0008118790323284065 \t0.027954607805248027  \t0.0052899044356715524   \t0.04864831834630143   \t1.065578015899929 \t6.515631301008611   \t15591904.567860665\n",
      "10\t0.0006399048880730129 \t0.02210313953028449   \t0.004263510588215188    \t0.038717710324750375  \t1.0621314211172868\t6.662725457613192   \t10271687.29235134 \n",
      "11\t0.0002432474351373886 \t0.013001535266429262  \t0.0017278744956274819   \t0.018758244288631733  \t1.058142131961619 \t7.103361622915216   \t10919791.596175687\n",
      "12\t0.00020346923008656345\t0.003587439412029335  \t0.0014596841142419082   \t0.007597002621378897  \t1.0601216161439957\t7.1739796411521475  \t10448204.122696022\n",
      "13\t0.00016407790926523764\t0.0029399431976765986 \t0.001117411935129844    \t0.006312053025656049  \t1.0589412147686927\t6.810252154807203   \t6892981.521685145 \n",
      "14\t9.445804383949088e-05 \t0.0025947677648430717 \t0.0006274849749037969   \t0.0035021203695400345 \t1.0588942139658295\t6.643002008066784   \t4928483.122560333 \n",
      "15\t4.602386662754094e-05 \t0.00195077287755201   \t0.0003860329062945628   \t0.0027997804021600834 \t1.0843856938398149\t8.38766784674191    \t5443633.589288018 \n",
      "16\t3.4159913966131784e-05\t0.0004936784361652955 \t0.0003368755426137916   \t0.0026816687918106326 \t1.0963492714062604\t9.861721049642872   \t4274544.324935188 \n",
      "17\t1.0779811974402799e-05\t0.0004936623573692421 \t0.0001071479945317558   \t0.001178170573733629  \t1.0964001826086391\t9.939690486827052   \t4108362.5981580773\n",
      "18\t8.687352540673662e-06 \t0.0003994773063952484 \t8.184458762371898e-05   \t0.000502395314640322  \t1.089556722548535 \t9.421119638063216   \t2708137.5714799184\n",
      "19\t7.952487020382867e-06 \t0.00037618683569002026\t7.345852330143418e-05   \t0.00045099311238381694\t1.0926179083622056\t9.237176132844265   \t1292417.549566696 \n",
      "20\t5.96944896839683e-06  \t0.0003282016740520203 \t5.342031236948137e-05   \t0.0003818543507358483 \t1.0889569862682102\t8.948952014213791   \t665041.5893760731 \n",
      "21\t5.042843818514874e-06 \t0.0001742311429446645 \t4.442925882869013e-05   \t0.00024741294106879496\t1.0813681719737214\t8.810357890832844   \t506254.77116770076\n",
      "\n",
      "N \tgmean(relative_error_u)\tmax(relative_error_u) \n",
      "1 \t0.09338628143393744    \t0.5902923551080426    \n",
      "2 \t0.05255333003837195    \t0.24005441454489074   \n",
      "3 \t0.034155688186712004   \t0.154223675715073     \n",
      "4 \t0.005072806441611876   \t0.06923154038085373   \n",
      "5 \t0.003971193376991411   \t0.05394628548034089   \n",
      "6 \t0.0035486797739751287  \t0.052400229518796596  \n",
      "7 \t0.0022345077425845426  \t0.028106458619837398  \n",
      "8 \t0.0003817155590775059  \t0.01754227886654265   \n",
      "9 \t0.0003451051578475295  \t0.014228132783983164  \n",
      "10\t0.0002720041639362289  \t0.011249895057399276  \n",
      "11\t0.00010339710862878746 \t0.006799390091468124  \n",
      "12\t8.648859986537413e-05  \t0.0018755934231240484 \n",
      "13\t6.97445438563412e-05   \t0.0015463614926532728 \n",
      "14\t4.015125016310361e-05  \t0.0013648049244972891 \n",
      "15\t1.9563350111037705e-05 \t0.001027347346992044  \n",
      "16\t1.4520343588047475e-05 \t0.00026251876584182143\n",
      "17\t4.5821711915921905e-06 \t0.0002625102157707895 \n",
      "18\t3.6927301364442623e-06 \t0.0002112179823286784 \n",
      "19\t3.380361087265422e-06  \t0.00019890347496846257\n",
      "20\t2.537431743486698e-06  \t0.0001735319986401782 \n",
      "21\t2.143559991933691e-06  \t9.26492657291776e-05  \n",
      "\n",
      "================================================================================\n",
      "=                        Graetz1 RB error analysis ends                        =\n",
      "================================================================================\n",
      "\n"
     ]
    }
   ],
   "source": [
    "reduction_method.initialize_testing_set(100, SCM=100)\n",
    "reduction_method.error_analysis(filename=\"error_analysis\")"
   ]
  },
  {
   "cell_type": "markdown",
   "metadata": {},
   "source": [
    "#### 4.6.2 PINN Error Analysis"
   ]
  },
  {
   "cell_type": "code",
   "execution_count": 18,
   "metadata": {},
   "outputs": [],
   "source": [
    "test_mu = torch.tensor(reduction_method.testing_set)"
   ]
  },
  {
   "cell_type": "code",
   "execution_count": 19,
   "metadata": {},
   "outputs": [
    {
     "name": "stdout",
     "output_type": "stream",
     "text": [
      "#################################### N = 22 ####################################\n",
      "ERROR\tNN-HF\t\t\tNN-RO\t\t\tRO-HF\n",
      "min\t0.5666270247886503\t0.566627170040767\t6.4969698074493e-07\n",
      "mean\t1.003233093730537\t1.0032330880667557\t1.2133997931467735e-05\n",
      "max\t1.308647211594794\t1.3086472098709645\t9.265282029707318e-05\n"
     ]
    }
   ],
   "source": [
    "_ = ErrorAnalysis.error_analysis_fixed_net(\n",
    "    pinn_net, test_mu, input_normalization_pinn, output_normalization_pinn\n",
    ")"
   ]
  },
  {
   "cell_type": "code",
   "execution_count": 20,
   "metadata": {},
   "outputs": [
    {
     "data": {
      "image/png": "[encoded data removed]",
      "text/plain": [
       "<Figure size 432x288 with 1 Axes>"
      ]
     },
     "metadata": {
      "needs_background": "light"
     },
     "output_type": "display_data"
    }
   ],
   "source": [
    "ErrorAnalysis.plot_solution_difference(\n",
    "    pinn_net, (10.0, 0.01), input_normalization_pinn, output_normalization_pinn\n",
    ")"
   ]
  },
  {
   "cell_type": "markdown",
   "metadata": {},
   "source": [
    "#### 4.6.3 PDNN Error Analysis"
   ]
  },
  {
   "cell_type": "code",
   "execution_count": 21,
   "metadata": {},
   "outputs": [
    {
     "name": "stdout",
     "output_type": "stream",
     "text": [
      "#################################### N = 22 ####################################\n",
      "ERROR\tNN-HF\t\t\tNN-RO\t\t\tRO-HF\n",
      "min\t0.0010095916788865687\t0.0010095830242042513\t6.4969698074493e-07\n",
      "mean\t0.04761122384255352\t0.047611244656785845\t1.2133997931467735e-05\n",
      "max\t0.125975256688538\t0.12597529150682985\t9.265282029707318e-05\n"
     ]
    }
   ],
   "source": [
    "_ = ErrorAnalysis.error_analysis_fixed_net(\n",
    "    pdnn_net, test_mu, input_normalization_pdnn, output_normalization_pdnn\n",
    ")"
   ]
  },
  {
   "cell_type": "code",
   "execution_count": 22,
   "metadata": {},
   "outputs": [
    {
     "data": {
      "image/png": "[encoded data removed]",
      "text/plain": [
       "<Figure size 432x288 with 1 Axes>"
      ]
     },
     "metadata": {
      "needs_background": "light"
     },
     "output_type": "display_data"
    }
   ],
   "source": [
    "ErrorAnalysis.plot_solution_difference(\n",
    "    pdnn_net, (10.0, 0.01), input_normalization_pdnn, output_normalization_pdnn\n",
    ")"
   ]
  },
  {
   "cell_type": "markdown",
   "metadata": {},
   "source": [
    "#### 4.6.4 PRNN Error Analysis"
   ]
  },
  {
   "cell_type": "code",
   "execution_count": 23,
   "metadata": {},
   "outputs": [
    {
     "name": "stdout",
     "output_type": "stream",
     "text": [
      "#################################### N = 22 ####################################\n",
      "ERROR\tNN-HF\t\t\tNN-RO\t\t\tRO-HF\n",
      "min\t0.042713453397129196\t0.04271345351014652\t6.4969698074493e-07\n",
      "mean\t0.8279679959349648\t0.8279679866261525\t1.2133997931467735e-05\n",
      "max\t1.0195487106582322\t1.0195487181766416\t9.265282029707318e-05\n"
     ]
    }
   ],
   "source": [
    "_ = ErrorAnalysis.error_analysis_fixed_net(\n",
    "    prnn_net, test_mu, input_normalization_prnn, output_normalization_prnn\n",
    ")"
   ]
  },
  {
   "cell_type": "code",
   "execution_count": 24,
   "metadata": {},
   "outputs": [
    {
     "data": {
      "image/png": "[encoded data removed]",
      "text/plain": [
       "<Figure size 432x288 with 1 Axes>"
      ]
     },
     "metadata": {
      "needs_background": "light"
     },
     "output_type": "display_data"
    }
   ],
   "source": [
    "ErrorAnalysis.plot_solution_difference(\n",
    "    prnn_net, (10.0, 0.01), input_normalization_prnn, output_normalization_prnn\n",
    ")"
   ]
  },
  {
   "cell_type": "markdown",
   "metadata": {},
   "source": [
    "#### 4.6.5 Neural Network Error Comparison"
   ]
  },
  {
   "cell_type": "code",
   "execution_count": 25,
   "metadata": {},
   "outputs": [
    {
     "name": "stdout",
     "output_type": "stream",
     "text": [
      "#####################################################################################\n",
      "Mean Relative Error for 22 Basis Functions\n",
      "Network\t\tNN-HF\t\t\tNN-RO\t\t\tRO-HF\n",
      "pinn_net\t1.003233093730537\t1.0032330880667557\t1.2133997931467735e-05\n",
      "pdnn_net\t0.04761122384255352\t0.047611244656785845\t1.2133997931467735e-05\n",
      "prnn_net\t0.8279679959349648\t0.8279679866261525\t1.2133997931467735e-05\n",
      "#####################################################################################\n"
     ]
    }
   ],
   "source": [
    "nets = dict()\n",
    "nets[\"pinn_net\"] = pinn_net\n",
    "nets[\"pdnn_net\"] = pdnn_net\n",
    "nets[\"prnn_net\"] = prnn_net\n",
    "\n",
    "input_normalizations = dict()\n",
    "input_normalizations[\"pinn_net\"] = input_normalization_pinn\n",
    "input_normalizations[\"pdnn_net\"] = input_normalization_pdnn\n",
    "input_normalizations[\"prnn_net\"] = input_normalization_prnn\n",
    "\n",
    "output_normalizations = dict()\n",
    "output_normalizations[\"pinn_net\"] = output_normalization_pinn\n",
    "output_normalizations[\"pdnn_net\"] = output_normalization_pdnn\n",
    "output_normalizations[\"prnn_net\"] = output_normalization_prnn\n",
    "\n",
    "_ = ErrorAnalysis.error_analysis_by_network(\n",
    "    nets, test_mu, input_normalizations, output_normalizations, euclidean=False\n",
    ")"
   ]
  },
  {
   "cell_type": "markdown",
   "metadata": {},
   "source": [
    "### 4.8. Perform a speedup analysis"
   ]
  },
  {
   "cell_type": "code",
   "execution_count": null,
   "metadata": {},
   "outputs": [],
   "source": [
    "reduction_method.speedup_analysis(filename=\"speedup_analysis\")"
   ]
  }
 ],
 "metadata": {
  "kernelspec": {
   "display_name": "Python 3 (ipykernel)",
   "language": "python",
   "name": "python3"
  },
  "language_info": {
   "codemirror_mode": {
    "name": "ipython",
    "version": 3
   },
   "file_extension": ".py",
   "mimetype": "text/x-python",
   "name": "python",
   "nbconvert_exporter": "python",
   "pygments_lexer": "ipython3",
   "version": "3.10.4"
  }
 },
 "nbformat": 4,
 "nbformat_minor": 2
}
