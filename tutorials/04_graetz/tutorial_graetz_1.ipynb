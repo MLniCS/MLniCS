{
 "cells": [
  {
   "cell_type": "markdown",
   "metadata": {},
   "source": [
    "## TUTORIAL 04 - Graetz problem 1\n",
    "**_Keywords: successive constraints method_**\n",
    "\n",
    "### 1. Introduction\n",
    "This Tutorial addresses geometrical parametrization and the successive constraints method (SCM). In particular, we will solve the Graetz problem, which deals with forced heat convection in a channel $\\Omega_o(\\mu_0)$ divided into two parts $\\Omega_o^1$ and $\\Omega_o^2(\\mu_0)$.\n",
    "\n",
    "![mesh](data/mesh.png)\n",
    "\n",
    "Boundaries $\\Gamma_{o, 1} \\cup \\Gamma_{o, 5} \\cup \\Gamma_{o, 6}$ are kept at low temperature (say, zero), while boundaries $\\Gamma_{o, 2}(\\mu_0) \\cup \\Gamma_{o, 4}(\\mu_0)$ are kept at high temperature (say, one). The convection is characterized by the velocity $\\boldsymbol{\\beta} = (x_1(1-x_1), 0)$, being $\\boldsymbol{x}_o = (x_{o, 0}, x_1)$ the coordinate vector on the parametrized domain $\\Omega_o(\\mu_0)$.\n",
    "\n",
    "The problem is characterized by two parameters. The first parameter $\\mu_0$ controls the shape of deformable subdomain $\\Omega_2(\\mu_0)$. The heat transfer between the domains can be taken into account by means of the Péclet number, which will be labeled as the parameter $\\mu_1$. The ranges of the two parameters are the following:\n",
    "$$\\mu_0 \\in [0.1,10.0] \\quad \\text{and} \\quad \\mu_1 \\in [0.01,10.0].$$\n",
    "\n",
    "The parameter vector $\\boldsymbol{\\mu}$ is thus given by \n",
    "$$\n",
    "\\boldsymbol{\\mu} = (\\mu_0, \\mu_1)\n",
    "$$\n",
    "on the parameter domain\n",
    "$$\n",
    "\\mathbb{P}=[0.1,10.0]\\times[0.01,10.0].\n",
    "$$\n",
    "\n",
    "In order to obtain a faster (yet, provably accurate) approximation of the problem, and avoiding _any_ remeshing, we pursue a model reduction by means of a certified reduced basis reduced order method from a fixed reference domain.\n",
    "The successive constraints method will be used to evaluate the stability factors."
   ]
  },
  {
   "cell_type": "markdown",
   "metadata": {},
   "source": [
    "### 2. Parametrized formulation\n",
    "\n",
    "Let $u_o(\\boldsymbol{\\mu})$ be the temperature in the domain $\\Omega_o(\\mu_0)$.\n",
    "\n",
    "We will directly provide a weak formulation for this problem: for a given parameter $\\boldsymbol{\\mu}\\in\\mathbb{P}$, find $u_o(\\boldsymbol{\\mu})\\in\\mathbb{V}_o(\\boldsymbol{\\mu})$ such that\n",
    "\n",
    "$$a_o\\left(u_o(\\boldsymbol{\\mu}),v_o;\\boldsymbol{\\mu}\\right)=f_o(v_o;\\boldsymbol{\\mu})\\quad \\forall v_o\\in\\mathbb{V}_o(\\boldsymbol{\\mu})$$\n",
    "\n",
    "where\n",
    "\n",
    "* the function space $\\mathbb{V}_o(\\boldsymbol{\\mu})$ is defined as\n",
    "$$\n",
    "\\mathbb{V}_o(\\mu_0) = \\left\\{ v \\in H^1(\\Omega_o(\\mu_0)): v|_{\\Gamma_{o,1} \\cup \\Gamma_{o,5} \\cup \\Gamma_{o,6}} = 0, v|_{\\Gamma_{o,2}(\\mu_0) \\cup \\Gamma_{o,2}(\\mu_0)} = 1 \\right\\}\n",
    "$$\n",
    "Note that, as in the previous tutorial, the function space is parameter dependent due to the shape variation. \n",
    "* the parametrized bilinear form $a_o(\\cdot, \\cdot; \\boldsymbol{\\mu}): \\mathbb{V}_o(\\boldsymbol{\\mu}) \\times \\mathbb{V}_o(\\boldsymbol{\\mu}) \\to \\mathbb{R}$ is defined by\n",
    "$$a_o(u_o,v_o;\\boldsymbol{\\mu}) = \\mu_1\\int_{\\Omega_o(\\mu_0)} \\nabla u_o \\cdot \\nabla v_o \\ d\\boldsymbol{x} + \\int_{\\Omega_o(\\mu_0)} x_1(1-x_1) \\partial_{x} u_o\\ v_o \\ d\\boldsymbol{x},$$\n",
    "* the parametrized linear form $f_o(\\cdot; \\boldsymbol{\\mu}): \\mathbb{V}_o(\\boldsymbol{\\mu}) \\to \\mathbb{R}$ is defined by\n",
    "$$f_o(v_o;\\boldsymbol{\\mu}) = 0.$$\n",
    "\n",
    "The successive constraints method will be used to compute the stability factor of the bilinear form $a_o(\\cdot, \\cdot; \\boldsymbol{\\mu})$."
   ]
  },
  {
   "cell_type": "code",
   "execution_count": 1,
   "metadata": {},
   "outputs": [],
   "source": [
    "import os\n",
    "import sys\n",
    "sys.path.append('../../')\n",
    "\n",
    "from mlnics import NN, Losses, Normalization, RONNData, IO, Training, ErrorAnalysis\n",
    "from dolfin import *\n",
    "from rbnics import *\n",
    "import torch\n",
    "import numpy as np\n",
    "\n",
    "torch.manual_seed(0)\n",
    "np.random.seed(0)"
   ]
  },
  {
   "cell_type": "markdown",
   "metadata": {},
   "source": [
    "## 3. Affine decomposition\n",
    "\n",
    "In order to obtain an affine decomposition, we proceed as in the previous tutorial and recast the problem on a fixed, parameter _independent_, reference domain $\\Omega$. As reference domain which choose the one characterized by $\\mu_0 = 1$ which we generate through the generate_mesh notebook provided in the _data_ folder.\n",
    "As in the previous tutorial, we pull back the problem to the reference domain $\\Omega$."
   ]
  },
  {
   "cell_type": "code",
   "execution_count": 2,
   "metadata": {},
   "outputs": [],
   "source": [
    "@SCM()\n",
    "@PullBackFormsToReferenceDomain()\n",
    "@ShapeParametrization(\n",
    "    (\"x[0]\", \"x[1]\"),  # subdomain 1\n",
    "    (\"mu[0]*(x[0] - 1) + 1\", \"x[1]\"),  # subdomain 2\n",
    ")\n",
    "class Graetz(EllipticCoerciveProblem):\n",
    "\n",
    "    # Default initialization of members\n",
    "    @generate_function_space_for_stability_factor\n",
    "    def __init__(self, V, **kwargs):\n",
    "        # Call the standard initialization\n",
    "        EllipticCoerciveProblem.__init__(self, V, **kwargs)\n",
    "        # ... and also store FEniCS data structures for assembly\n",
    "        assert \"subdomains\" in kwargs\n",
    "        assert \"boundaries\" in kwargs\n",
    "        self.subdomains, self.boundaries = kwargs[\"subdomains\"], kwargs[\"boundaries\"]\n",
    "        self.u = TrialFunction(V)\n",
    "        self.v = TestFunction(V)\n",
    "        self.dx = Measure(\"dx\")(subdomain_data=subdomains)\n",
    "        self.ds = Measure(\"ds\")(subdomain_data=boundaries)\n",
    "        # Store the velocity expression\n",
    "        self.vel = Expression(\"x[1]*(1-x[1])\", element=self.V.ufl_element())\n",
    "        # Customize eigen solver parameters\n",
    "        self._eigen_solver_parameters.update({\n",
    "            \"bounding_box_minimum\": {\n",
    "                \"problem_type\": \"gen_hermitian\", \"spectral_transform\": \"shift-and-invert\",\n",
    "                \"spectral_shift\": 1.e-5, \"linear_solver\": \"mumps\"\n",
    "            },\n",
    "            \"bounding_box_maximum\": {\n",
    "                \"problem_type\": \"gen_hermitian\", \"spectral_transform\": \"shift-and-invert\",\n",
    "                \"spectral_shift\": 1.e5, \"linear_solver\": \"mumps\"\n",
    "            },\n",
    "            \"stability_factor\": {\n",
    "                \"problem_type\": \"gen_hermitian\", \"spectral_transform\": \"shift-and-invert\",\n",
    "                \"spectral_shift\": 1.e-5, \"linear_solver\": \"mumps\"\n",
    "            }\n",
    "        })\n",
    "\n",
    "    # Return custom problem name\n",
    "    def name(self):\n",
    "        return \"Graetz1\"\n",
    "\n",
    "    # Return theta multiplicative terms of the affine expansion of the problem.\n",
    "    @compute_theta_for_stability_factor\n",
    "    def compute_theta(self, term):\n",
    "        mu = self.mu\n",
    "        if term == \"a\":\n",
    "            theta_a0 = mu[1]\n",
    "            theta_a1 = 1.0\n",
    "            return (theta_a0, theta_a1)\n",
    "        elif term == \"f\":\n",
    "            theta_f0 = 1.0\n",
    "            return (theta_f0,)\n",
    "        elif term == \"dirichlet_bc\":\n",
    "            theta_bc0 = 1.0\n",
    "            return (theta_bc0,)\n",
    "        else:\n",
    "            raise ValueError(\"Invalid term for compute_theta().\")\n",
    "\n",
    "    # Return forms resulting from the discretization of the affine expansion of the problem operators.\n",
    "    @assemble_operator_for_stability_factor\n",
    "    def assemble_operator(self, term):\n",
    "        v = self.v\n",
    "        dx = self.dx\n",
    "        if term == \"a\":\n",
    "            u = self.u\n",
    "            vel = self.vel\n",
    "            a0 = inner(grad(u), grad(v)) * dx\n",
    "            a1 = vel * u.dx(0) * v * dx\n",
    "            return (a0, a1)\n",
    "        elif term == \"f\":\n",
    "            f0 = Constant(0.0) * v * dx\n",
    "            return (f0,)\n",
    "        elif term == \"dirichlet_bc\":\n",
    "            bc0 = [DirichletBC(self.V, Constant(0.0), self.boundaries, 1),\n",
    "                   DirichletBC(self.V, Constant(1.0), self.boundaries, 2),\n",
    "                   DirichletBC(self.V, Constant(1.0), self.boundaries, 4),\n",
    "                   DirichletBC(self.V, Constant(0.0), self.boundaries, 5),\n",
    "                   DirichletBC(self.V, Constant(0.0), self.boundaries, 6)]\n",
    "            return (bc0,)\n",
    "        elif term == \"inner_product\":\n",
    "            u = self.u\n",
    "            x0 = inner(grad(u), grad(v)) * dx\n",
    "            return (x0,)\n",
    "        else:\n",
    "            raise ValueError(\"Invalid term for assemble_operator().\")"
   ]
  },
  {
   "cell_type": "markdown",
   "metadata": {},
   "source": [
    "## 4. Main program\n",
    "### 4.1. Read the mesh for this problem\n",
    "The mesh was generated by the [data/generate_mesh_1.ipynb](data/generate_mesh_1.ipynb) notebook."
   ]
  },
  {
   "cell_type": "code",
   "execution_count": 3,
   "metadata": {},
   "outputs": [],
   "source": [
    "mesh = Mesh(\"data/graetz_1.xml\")\n",
    "subdomains = MeshFunction(\"size_t\", mesh, \"data/graetz_physical_region_1.xml\")\n",
    "boundaries = MeshFunction(\"size_t\", mesh, \"data/graetz_facet_region_1.xml\")"
   ]
  },
  {
   "cell_type": "markdown",
   "metadata": {},
   "source": [
    "### 4.2. Create Finite Element space (Lagrange P1)"
   ]
  },
  {
   "cell_type": "code",
   "execution_count": 4,
   "metadata": {},
   "outputs": [],
   "source": [
    "V = FunctionSpace(mesh, \"Lagrange\", 1)"
   ]
  },
  {
   "cell_type": "markdown",
   "metadata": {},
   "source": [
    "### 4.3. Allocate an object of the Graetz class"
   ]
  },
  {
   "cell_type": "code",
   "execution_count": 5,
   "metadata": {},
   "outputs": [],
   "source": [
    "problem = Graetz(V, subdomains=subdomains, boundaries=boundaries)\n",
    "mu_range = [(0.1, 10.0), (0.01, 10.0)]\n",
    "problem.set_mu_range(mu_range)"
   ]
  },
  {
   "cell_type": "markdown",
   "metadata": {},
   "source": [
    "### 4.4. Prepare reduction with a reduced basis method"
   ]
  },
  {
   "cell_type": "code",
   "execution_count": 6,
   "metadata": {},
   "outputs": [],
   "source": [
    "reduction_method = ReducedBasis(problem)\n",
    "reduction_method.set_Nmax(30, SCM=20)\n",
    "reduction_method.set_tolerance(1e-5, SCM=1e-3)"
   ]
  },
  {
   "cell_type": "markdown",
   "metadata": {},
   "source": [
    "### 4.5. Perform the offline phase"
   ]
  },
  {
   "cell_type": "markdown",
   "metadata": {},
   "source": [
    "#### 4.5.1 Fit Reduction Method"
   ]
  },
  {
   "cell_type": "code",
   "execution_count": 7,
   "metadata": {
    "scrolled": true
   },
   "outputs": [
    {
     "name": "stdout",
     "output_type": "stream",
     "text": [
      "================================================================================\n",
      "=                           SCM offline phase begins                           =\n",
      "================================================================================\n",
      "\n",
      "bounding_box_min[0] = 6.437450399132683e-20\n",
      "bounding_box_max[0] = 2.0\n",
      "bounding_box_min[1] = 3.3881317890172014e-21\n",
      "bounding_box_max[1] = 1.985968279754161\n",
      "bounding_box_min[2] = 3.218725199566341e-20\n",
      "bounding_box_max[2] = 1.989768296436523\n",
      "bounding_box_min[3] = 3.885295543704351e-06\n",
      "bounding_box_max[3] = 0.0700205638713669\n",
      "\n",
      "~~~~~~~~~~~~~~~~~~~~~~~~~~~~~~~~~~ SCM N = 0 ~~~~~~~~~~~~~~~~~~~~~~~~~~~~~~~~~~~\n",
      "evaluate the stability factor for mu = (4.072469057955726, 9.293621258854111)\n",
      "stability factor = 2.465430055397456\n",
      "find next mu\n",
      "maximum SCM error estimator = 0.9989480676258136\n",
      "maximum SCM relative error estimator = 1.0\n",
      "\n",
      "~~~~~~~~~~~~~~~~~~~~~~~~~~~~~~~~~~ SCM N = 1 ~~~~~~~~~~~~~~~~~~~~~~~~~~~~~~~~~~~\n",
      "evaluate the stability factor for mu = (0.12676181754567672, 6.47549457240142)\n",
      "stability factor = 1.0852183879616621\n",
      "find next mu\n",
      "maximum SCM error estimator = 0.9153182494493715\n",
      "maximum SCM relative error estimator = 0.9162821162713654\n",
      "\n",
      "~~~~~~~~~~~~~~~~~~~~~~~~~~~~~~~~~~ SCM N = 2 ~~~~~~~~~~~~~~~~~~~~~~~~~~~~~~~~~~~\n",
      "evaluate the stability factor for mu = (0.9859959958257111, 4.065363796463155)\n",
      "stability factor = 4.009352659685661\n",
      "find next mu\n",
      "maximum SCM error estimator = 0.3219719695380361\n",
      "maximum SCM relative error estimator = 0.32231101893340913\n",
      "\n",
      "~~~~~~~~~~~~~~~~~~~~~~~~~~~~~~~~~~ SCM N = 3 ~~~~~~~~~~~~~~~~~~~~~~~~~~~~~~~~~~~\n",
      "evaluate the stability factor for mu = (4.927995603028255, 0.015454189320986588)\n",
      "stability factor = 0.0038282206177255402\n",
      "find next mu\n",
      "maximum SCM error estimator = 0.21644341426732538\n",
      "maximum SCM relative error estimator = 0.2166713378621809\n",
      "\n",
      "~~~~~~~~~~~~~~~~~~~~~~~~~~~~~~~~~~ SCM N = 4 ~~~~~~~~~~~~~~~~~~~~~~~~~~~~~~~~~~~\n",
      "evaluate the stability factor for mu = (9.6314261664184, 0.1785480169666966)\n",
      "stability factor = 0.028558122237426417\n",
      "find next mu\n",
      "maximum SCM error estimator = 0.19479092899270511\n",
      "maximum SCM relative error estimator = 0.19499605165227668\n",
      "\n",
      "~~~~~~~~~~~~~~~~~~~~~~~~~~~~~~~~~~ SCM N = 5 ~~~~~~~~~~~~~~~~~~~~~~~~~~~~~~~~~~~\n",
      "evaluate the stability factor for mu = (9.944567817512025, 4.523698609870899)\n",
      "stability factor = 0.6840884180202663\n",
      "find next mu\n",
      "maximum SCM error estimator = 0.03174833478705752\n",
      "maximum SCM relative error estimator = 0.03178176705673335\n",
      "\n",
      "~~~~~~~~~~~~~~~~~~~~~~~~~~~~~~~~~~ SCM N = 6 ~~~~~~~~~~~~~~~~~~~~~~~~~~~~~~~~~~~\n",
      "evaluate the stability factor for mu = (1.086187809190586, 9.453562319456005)\n",
      "stability factor = 8.71273696784141\n",
      "find next mu\n",
      "maximum SCM error estimator = 0.025504902766287918\n",
      "maximum SCM relative error estimator = 0.02553176045167701\n",
      "\n",
      "~~~~~~~~~~~~~~~~~~~~~~~~~~~~~~~~~~ SCM N = 7 ~~~~~~~~~~~~~~~~~~~~~~~~~~~~~~~~~~~\n",
      "evaluate the stability factor for mu = (9.745136506898698, 9.90354656559333)\n",
      "stability factor = 1.505947678930104\n",
      "find next mu\n",
      "maximum SCM error estimator = 0.01540530755567282\n",
      "maximum SCM relative error estimator = 0.01542152996229965\n",
      "\n",
      "~~~~~~~~~~~~~~~~~~~~~~~~~~~~~~~~~~ SCM N = 8 ~~~~~~~~~~~~~~~~~~~~~~~~~~~~~~~~~~~\n",
      "evaluate the stability factor for mu = (0.25450003802359933, 4.293669267757396)\n",
      "stability factor = 1.188856561806752\n",
      "find next mu\n",
      "maximum SCM error estimator = 0.009037986621225902\n",
      "maximum SCM relative error estimator = 0.009047503983571802\n",
      "\n",
      "~~~~~~~~~~~~~~~~~~~~~~~~~~~~~~~~~~ SCM N = 9 ~~~~~~~~~~~~~~~~~~~~~~~~~~~~~~~~~~~\n",
      "evaluate the stability factor for mu = (0.15101434626333, 6.944636935177564)\n",
      "stability factor = 1.296235199017825\n",
      "find next mu\n",
      "maximum SCM error estimator = 0.008121950070707595\n",
      "maximum SCM relative error estimator = 0.008130502809831672\n",
      "\n",
      "~~~~~~~~~~~~~~~~~~~~~~~~~~~~~~~~~~ SCM N = 10 ~~~~~~~~~~~~~~~~~~~~~~~~~~~~~~~~~~\n",
      "evaluate the stability factor for mu = (1.0583591364659046, 3.4404833706212514)\n",
      "stability factor = 3.253627101472945\n",
      "find next mu\n",
      "maximum SCM error estimator = 0.007168185255979842\n",
      "maximum SCM relative error estimator = 0.007175733642506934\n",
      "\n",
      "~~~~~~~~~~~~~~~~~~~~~~~~~~~~~~~~~~ SCM N = 11 ~~~~~~~~~~~~~~~~~~~~~~~~~~~~~~~~~~\n",
      "evaluate the stability factor for mu = (0.3866302353669093, 8.957955999189933)\n",
      "stability factor = 3.5893265172511466\n",
      "find next mu\n",
      "maximum SCM error estimator = 0.003961496806342835\n",
      "maximum SCM relative error estimator = 0.003965668421340531\n",
      "\n",
      "~~~~~~~~~~~~~~~~~~~~~~~~~~~~~~~~~~ SCM N = 12 ~~~~~~~~~~~~~~~~~~~~~~~~~~~~~~~~~~\n",
      "evaluate the stability factor for mu = (3.781995610273367, 0.023819666490001404)\n",
      "stability factor = 0.007079281829023126\n",
      "find next mu\n",
      "maximum SCM error estimator = 0.0038704065826117295\n",
      "maximum SCM relative error estimator = 0.003874482275951014\n",
      "\n",
      "~~~~~~~~~~~~~~~~~~~~~~~~~~~~~~~~~~ SCM N = 13 ~~~~~~~~~~~~~~~~~~~~~~~~~~~~~~~~~~\n",
      "evaluate the stability factor for mu = (0.7046775169611946, 9.078252245275545)\n",
      "stability factor = 6.440660419726548\n",
      "find next mu\n",
      "maximum SCM error estimator = 0.0035751389247715704\n",
      "maximum SCM relative error estimator = 0.0035789036894265736\n",
      "\n",
      "~~~~~~~~~~~~~~~~~~~~~~~~~~~~~~~~~~ SCM N = 14 ~~~~~~~~~~~~~~~~~~~~~~~~~~~~~~~~~~\n",
      "evaluate the stability factor for mu = (9.205849826703767, 0.3699778361114091)\n",
      "stability factor = 0.05884041278481618\n",
      "find next mu\n",
      "maximum SCM error estimator = 0.0029802268533487553\n",
      "maximum SCM relative error estimator = 0.002983365151735886\n",
      "\n",
      "~~~~~~~~~~~~~~~~~~~~~~~~~~~~~~~~~~ SCM N = 15 ~~~~~~~~~~~~~~~~~~~~~~~~~~~~~~~~~~\n",
      "evaluate the stability factor for mu = (9.895156795115872, 0.6623890294462842)\n",
      "stability factor = 0.1016167548397626\n",
      "find next mu\n",
      "maximum SCM error estimator = 0.0027195585496828656\n",
      "maximum SCM relative error estimator = 0.002722422353893135\n",
      "\n",
      "~~~~~~~~~~~~~~~~~~~~~~~~~~~~~~~~~~ SCM N = 16 ~~~~~~~~~~~~~~~~~~~~~~~~~~~~~~~~~~\n",
      "evaluate the stability factor for mu = (1.986612457906674, 0.2010377455124109)\n",
      "stability factor = 0.10348072968154938\n",
      "find next mu\n",
      "maximum SCM error estimator = 0.002403539690617129\n",
      "maximum SCM relative error estimator = 0.002406070714296079\n",
      "\n",
      "~~~~~~~~~~~~~~~~~~~~~~~~~~~~~~~~~~ SCM N = 17 ~~~~~~~~~~~~~~~~~~~~~~~~~~~~~~~~~~\n",
      "evaluate the stability factor for mu = (0.17805262473355973, 3.7330639075117453)\n",
      "stability factor = 0.7808891940390245\n",
      "find next mu\n",
      "maximum SCM error estimator = 0.001476468487729532\n",
      "maximum SCM relative error estimator = 0.0014780232682552105\n",
      "\n",
      "~~~~~~~~~~~~~~~~~~~~~~~~~~~~~~~~~~ SCM N = 18 ~~~~~~~~~~~~~~~~~~~~~~~~~~~~~~~~~~\n",
      "evaluate the stability factor for mu = (0.13821747995158484, 1.7940138808959865)\n",
      "stability factor = 0.3167931030856663\n",
      "find next mu\n",
      "maximum SCM error estimator = 0.0013420397526591188\n",
      "maximum SCM relative error estimator = 0.0013434529743360198\n",
      "\n",
      "~~~~~~~~~~~~~~~~~~~~~~~~~~~~~~~~~~ SCM N = 19 ~~~~~~~~~~~~~~~~~~~~~~~~~~~~~~~~~~\n",
      "evaluate the stability factor for mu = (9.807743314594095, 8.719139490207374)\n",
      "stability factor = 1.3231427371570208\n",
      "find next mu\n",
      "maximum SCM error estimator = 0.0011147606555416134\n",
      "maximum SCM relative error estimator = 0.0011159345432150943\n",
      "\n",
      "================================================================================\n",
      "=                            SCM offline phase ends                            =\n",
      "================================================================================\n",
      "\n",
      "Computing and storing lifting function n. 0 (obtained for mu = (1.0, 1.0)) in the basis matrix\n",
      "================================================================================\n",
      "=                       Graetz1 RB offline phase begins                        =\n",
      "================================================================================\n",
      "\n",
      "find initial mu\n",
      "initial maximum absolute error estimator over training set = 33.460375177033036\n",
      "initial maximum relative error estimator over training set = 1.0\n",
      "\n",
      "#################################### N = 0 #####################################\n",
      "truth solve for mu = (9.904355579227373, 2.1768008741407545)\n",
      "update basis matrix\n",
      "build reduced operators\n",
      "reduced order solve\n",
      "build operators for error estimation\n",
      "absolute error for current mu = 9.086454663696728e-15\n",
      "absolute error estimator for current mu = 1.7295308985011072e-06\n",
      "find next mu\n",
      "maximum absolute error estimator over training set = 7.856529717300337\n"
     ]
    },
    {
     "name": "stdout",
     "output_type": "stream",
     "text": [
      "maximum relative error estimator over training set = 0.23480100494189923\n",
      "\n",
      "#################################### N = 1 #####################################\n",
      "truth solve for mu = (0.21596943343151953, 3.6061808641388553)\n",
      "update basis matrix\n",
      "build reduced operators\n",
      "reduced order solve\n",
      "build operators for error estimation\n",
      "absolute error for current mu = 1.1762274902938109e-14\n",
      "absolute error estimator for current mu = 5.131766511497668e-07\n",
      "find next mu\n",
      "maximum absolute error estimator over training set = 4.8873784447281885\n",
      "maximum relative error estimator over training set = 0.14606466361688766\n",
      "\n",
      "#################################### N = 2 #####################################\n",
      "truth solve for mu = (8.306506289251894, 0.05690780716354519)\n",
      "update basis matrix\n",
      "build reduced operators\n",
      "reduced order solve\n",
      "build operators for error estimation\n",
      "absolute error for current mu = 1.3587579301781604e-14\n",
      "absolute error estimator for current mu = 1.0887565246818883e-06\n",
      "find next mu\n",
      "maximum absolute error estimator over training set = 1.0417003722551839\n",
      "maximum relative error estimator over training set = 0.031132357803632747\n",
      "\n",
      "#################################### N = 3 #####################################\n",
      "truth solve for mu = (4.52654124831451, 8.465622637986566)\n",
      "update basis matrix\n",
      "build reduced operators\n",
      "reduced order solve\n",
      "build operators for error estimation\n",
      "absolute error for current mu = 1.2180328753242837e-14\n",
      "absolute error estimator for current mu = 2.068759079209788e-07\n",
      "find next mu\n",
      "maximum absolute error estimator over training set = 0.3325057339693904\n",
      "maximum relative error estimator over training set = 0.009937298437634376\n",
      "\n",
      "#################################### N = 4 #####################################\n",
      "truth solve for mu = (0.30444489471071395, 7.586202751823053)\n",
      "update basis matrix\n",
      "build reduced operators\n",
      "reduced order solve\n",
      "build operators for error estimation\n",
      "absolute error for current mu = 2.3081228437401935e-14\n",
      "absolute error estimator for current mu = 9.426040063075483e-08\n",
      "find next mu\n",
      "maximum absolute error estimator over training set = 0.24738935534974948\n",
      "maximum relative error estimator over training set = 0.007393502136209034\n",
      "\n",
      "#################################### N = 5 #####################################\n",
      "truth solve for mu = (7.2833842056847296, 0.12416031166405997)\n",
      "update basis matrix\n",
      "build reduced operators\n",
      "reduced order solve\n",
      "build operators for error estimation\n",
      "absolute error for current mu = 3.9662406788864036e-14\n",
      "absolute error estimator for current mu = 7.503911435241265e-07\n",
      "find next mu\n",
      "maximum absolute error estimator over training set = 0.20701410217411262\n",
      "maximum relative error estimator over training set = 0.0061868434253602046\n",
      "\n",
      "#################################### N = 6 #####################################\n",
      "truth solve for mu = (2.0799655964743606, 0.1950327266615336)\n",
      "update basis matrix\n",
      "build reduced operators\n",
      "reduced order solve\n",
      "build operators for error estimation\n",
      "absolute error for current mu = 1.683432555438988e-14\n",
      "absolute error estimator for current mu = 1.0425029693216514e-07\n",
      "find next mu\n",
      "maximum absolute error estimator over training set = 0.11454411918656944\n",
      "maximum relative error estimator over training set = 0.0034232765944953213\n",
      "\n",
      "#################################### N = 7 #####################################\n",
      "truth solve for mu = (7.170988865536203, 9.988481595612987)\n",
      "update basis matrix\n",
      "build reduced operators\n",
      "reduced order solve\n",
      "build operators for error estimation\n",
      "absolute error for current mu = 3.114540275127126e-14\n",
      "absolute error estimator for current mu = 9.6803320616959e-07\n",
      "find next mu\n",
      "maximum absolute error estimator over training set = 0.06954712396685594\n",
      "maximum relative error estimator over training set = 0.002078492055121743\n",
      "\n",
      "#################################### N = 8 #####################################\n",
      "truth solve for mu = (0.3443194110741792, 0.6818238183178533)\n",
      "update basis matrix\n",
      "build reduced operators\n",
      "reduced order solve\n",
      "build operators for error estimation\n",
      "absolute error for current mu = 1.946428994867145e-14\n",
      "absolute error estimator for current mu = 1.0261327759441412e-07\n",
      "find next mu\n",
      "maximum absolute error estimator over training set = 0.05012278235633822\n",
      "maximum relative error estimator over training set = 0.0014979743081524723\n",
      "\n",
      "#################################### N = 9 #####################################\n",
      "truth solve for mu = (6.216979249983486, 0.1422362090114059)\n",
      "update basis matrix\n",
      "build reduced operators\n",
      "reduced order solve\n",
      "build operators for error estimation\n",
      "absolute error for current mu = 2.2877361888368512e-14\n",
      "absolute error estimator for current mu = 4.757374270576616e-07\n",
      "find next mu\n",
      "maximum absolute error estimator over training set = 0.03871771032469932\n",
      "maximum relative error estimator over training set = 0.0011571212253254973\n",
      "\n",
      "#################################### N = 10 ####################################\n",
      "truth solve for mu = (2.3085081631421214, 9.52796262505468)\n",
      "update basis matrix\n",
      "build reduced operators\n",
      "reduced order solve\n",
      "build operators for error estimation\n",
      "absolute error for current mu = 1.6962615955619427e-14\n",
      "absolute error estimator for current mu = 7.62308077452657e-08\n",
      "find next mu\n",
      "maximum absolute error estimator over training set = 0.026465305713270996\n",
      "maximum relative error estimator over training set = 0.0007909446792884915\n",
      "\n",
      "#################################### N = 11 ####################################\n",
      "truth solve for mu = (0.42971580281229227, 9.590237391416101)\n",
      "update basis matrix\n",
      "build reduced operators\n",
      "reduced order solve\n",
      "build operators for error estimation\n",
      "absolute error for current mu = 1.6966930217034725e-14\n",
      "absolute error estimator for current mu = 1.2571020012403616e-07\n",
      "find next mu\n",
      "maximum absolute error estimator over training set = 0.007725495191803662\n",
      "maximum relative error estimator over training set = 0.0002308848944738189\n",
      "\n",
      "#################################### N = 12 ####################################\n",
      "truth solve for mu = (9.04682542348474, 0.8433901300657654)\n",
      "update basis matrix\n",
      "build reduced operators\n",
      "reduced order solve\n",
      "build operators for error estimation\n",
      "absolute error for current mu = 4.0290474480961414e-14\n",
      "absolute error estimator for current mu = 1.4960061138368071e-06\n",
      "find next mu\n",
      "maximum absolute error estimator over training set = 0.006807210862477607\n",
      "maximum relative error estimator over training set = 0.00020344096043340326\n",
      "\n",
      "#################################### N = 13 ####################################\n",
      "truth solve for mu = (6.491145420114438, 0.36327073319735426)\n",
      "update basis matrix\n",
      "build reduced operators\n",
      "reduced order solve\n",
      "build operators for error estimation\n",
      "absolute error for current mu = 4.127168078215243e-14\n",
      "absolute error estimator for current mu = 7.466803748317205e-07\n",
      "find next mu\n",
      "maximum absolute error estimator over training set = 0.0035021203691901442\n",
      "maximum relative error estimator over training set = 0.0001046647071546877\n",
      "\n",
      "#################################### N = 14 ####################################\n",
      "truth solve for mu = (1.5191975453495596, 9.447242481325343)\n",
      "update basis matrix\n",
      "build reduced operators\n",
      "reduced order solve\n",
      "build operators for error estimation\n",
      "absolute error for current mu = 1.8617706340413887e-14\n",
      "absolute error estimator for current mu = 5.164691052653316e-08\n",
      "find next mu\n",
      "maximum absolute error estimator over training set = 0.0029185513466758865\n",
      "maximum relative error estimator over training set = 8.722410705900152e-05\n",
      "\n",
      "#################################### N = 15 ####################################\n",
      "truth solve for mu = (0.662795956689079, 6.973002444832623)\n",
      "update basis matrix\n",
      "build reduced operators\n",
      "reduced order solve\n",
      "build operators for error estimation\n",
      "absolute error for current mu = 2.7416442913426376e-14\n",
      "absolute error estimator for current mu = 6.728473308866044e-08\n",
      "find next mu\n",
      "maximum absolute error estimator over training set = 0.002738294531622846\n",
      "maximum relative error estimator over training set = 8.183693449744676e-05\n",
      "\n",
      "#################################### N = 16 ####################################\n",
      "truth solve for mu = (9.074899442289672, 7.742732853659401)\n",
      "update basis matrix\n",
      "build reduced operators\n",
      "reduced order solve\n",
      "build operators for error estimation\n",
      "absolute error for current mu = 5.700415725487893e-13\n"
     ]
    },
    {
     "name": "stdout",
     "output_type": "stream",
     "text": [
      "absolute error estimator for current mu = 1.489332046872802e-06\n",
      "find next mu\n",
      "maximum absolute error estimator over training set = 0.0014963157042873572\n",
      "maximum relative error estimator over training set = 4.471903546719397e-05\n",
      "\n",
      "#################################### N = 17 ####################################\n",
      "truth solve for mu = (3.398137005083555, 0.8202028859800877)\n",
      "update basis matrix\n",
      "build reduced operators\n",
      "reduced order solve\n",
      "build operators for error estimation\n",
      "absolute error for current mu = 4.094085359455394e-13\n",
      "absolute error estimator for current mu = 1.2197602863763357e-07\n",
      "find next mu\n",
      "maximum absolute error estimator over training set = 0.0009966284346497572\n",
      "maximum relative error estimator over training set = 2.978533352889109e-05\n",
      "\n",
      "#################################### N = 18 ####################################\n",
      "truth solve for mu = (0.2616521765687081, 1.8604709291094776)\n",
      "update basis matrix\n",
      "build reduced operators\n",
      "reduced order solve\n",
      "build operators for error estimation\n",
      "absolute error for current mu = 7.472515797699389e-14\n",
      "absolute error estimator for current mu = 6.412588345908709e-08\n",
      "find next mu\n",
      "maximum absolute error estimator over training set = 0.0006102129410804943\n",
      "maximum relative error estimator over training set = 1.8236882815926705e-05\n",
      "\n",
      "#################################### N = 19 ####################################\n",
      "truth solve for mu = (5.230187067913566, 0.26637055336477045)\n",
      "update basis matrix\n",
      "build reduced operators\n",
      "reduced order solve\n",
      "build operators for error estimation\n",
      "absolute error for current mu = 6.052119144420966e-13\n",
      "absolute error estimator for current mu = 3.6492516210656114e-07\n",
      "find next mu\n",
      "maximum absolute error estimator over training set = 0.000544899675427949\n",
      "maximum relative error estimator over training set = 1.628492425876815e-05\n",
      "\n",
      "#################################### N = 20 ####################################\n",
      "truth solve for mu = (0.2626533329555946, 9.295997874753983)\n",
      "update basis matrix\n",
      "build reduced operators\n",
      "reduced order solve\n",
      "build operators for error estimation\n",
      "absolute error for current mu = 5.543369233616599e-13\n",
      "absolute error estimator for current mu = 1.2248274013978607e-07\n",
      "find next mu\n",
      "maximum absolute error estimator over training set = 0.0003316110757332841\n",
      "maximum relative error estimator over training set = 9.910560595294806e-06\n",
      "\n",
      "================================================================================\n",
      "=                        Graetz1 RB offline phase ends                         =\n",
      "================================================================================\n",
      "\n"
     ]
    }
   ],
   "source": [
    "lifting_mu = (1.0, 1.0)\n",
    "problem.set_mu(lifting_mu)\n",
    "reduction_method.initialize_training_set(200, SCM=250)\n",
    "reduced_problem = reduction_method.offline()"
   ]
  },
  {
   "cell_type": "markdown",
   "metadata": {},
   "source": [
    "#### 4.5.2 Train PINN\n",
    "\n",
    "Given a training set $\\Xi_{PINN} = (\\boldsymbol{\\mu}^{(1)}, \\dots, \\boldsymbol{\\mu}^{(N_\\text{PINN})})$ of parameters for the PDE, we train a Physics-Informed Neural Network (PINN) $u^{NN}(\\boldsymbol{\\mu})$ for the reduced order equations dependent on the weights and biases $W$ of the network to minimize the loss function\n",
    "\n",
    "$$L_{PINN}(\\Xi_{PINN}; W) = \\frac{1}{N_\\text{PINN}} \\sum_{i=1}^{N_\\text{PINN}} \\|A(\\boldsymbol{\\mu^{(i)}}) u^{NN}(\\boldsymbol{\\mu}^{(i)}; W) - \\boldsymbol{f}(\\boldsymbol{\\mu}^{(i)})\\|_2^2 + \\left|u^{NN}(\\boldsymbol{\\mu}^{(i)})_1 - 1\\right|^{\\,2}$$\n",
    "\n",
    "over $W$, where for a given $\\boldsymbol{\\mu}$, $A(\\boldsymbol{\\mu})$ is the assembled reduced matrix corresponding to the bilinear form $a$ and $\\boldsymbol{f}(\\boldsymbol{\\mu})$ is the assembled reduced vector corresponding to the linear form $f$.\n",
    "\n",
    "The second term in the sum enforces boundary conditions by training the first basis function coefficient to be one, as our first basis function contains the boundary condition while all other basis functions are zero on the boundary."
   ]
  },
  {
   "cell_type": "code",
   "execution_count": 8,
   "metadata": {},
   "outputs": [],
   "source": [
    "input_normalization_pinn = Normalization.StandardNormalization(input_normalization=True)\n",
    "output_normalization_pinn = Normalization.StandardNormalization()\n",
    "\n",
    "pinn_net  = NN.RONN(\"PINN\", problem, reduction_method, n_hidden=2, n_neurons=30)\n",
    "pinn_loss = Losses.PINN_Loss(pinn_net, output_normalization_pinn)\n",
    "data      = RONNData.RONNDataLoader(pinn_net, validation_proportion=0.2, \n",
    "                                    num_without_snapshots=2000)\n",
    "optimizer = torch.optim.Adam(pinn_net.parameters(), lr=0.001)\n",
    "scheduler = torch.optim.lr_scheduler.ExponentialLR(optimizer, 0.99999)\n",
    "\n",
    "pinn_trainer = Training.PINNTrainer(\n",
    "    pinn_net, data, pinn_loss, optimizer, scheduler,\n",
    "    input_normalization_pinn, num_epochs=10000\n",
    ")\n",
    "\n",
    "loaded, starting_epoch = IO.initialize_parameters(\n",
    "    pinn_net, data, pinn_trainer, optimizer\n",
    ")"
   ]
  },
  {
   "cell_type": "code",
   "execution_count": 9,
   "metadata": {
    "scrolled": true
   },
   "outputs": [
    {
     "name": "stderr",
     "output_type": "stream",
     "text": [
      "\r",
      "  0%|                                                                                         | 0/10000 [00:00<?, ?it/s]"
     ]
    },
    {
     "name": "stdout",
     "output_type": "stream",
     "text": [
      "Operator 's' not implemented. Continuing without operator 's'...\n",
      "Operator 'stability_factor_left_hand_matrix' not implemented. Continuing without operator 'stability_factor_left_hand_matrix'...\n",
      "Operator 'stability_factor_right_hand_matrix' not implemented. Continuing without operator 'stability_factor_right_hand_matrix'...\n",
      "Operator 's' not implemented. Continuing without operator 's'...\n",
      "Operator 'stability_factor_left_hand_matrix' not implemented. Continuing without operator 'stability_factor_left_hand_matrix'...\n",
      "Operator 'stability_factor_right_hand_matrix' not implemented. Continuing without operator 'stability_factor_right_hand_matrix'...\n"
     ]
    },
    {
     "name": "stderr",
     "output_type": "stream",
     "text": [
      "100%|██████████████████████████████████████████████████████| 10000/10000 [00:50<00:00, 197.26it/s, Loss(training)=0.961]\n"
     ]
    },
    {
     "data": {
      "text/plain": [
       "<mlnics.Losses.PINN_Loss at 0x7f0abd2c2d60>"
      ]
     },
     "execution_count": 9,
     "metadata": {},
     "output_type": "execute_result"
    }
   ],
   "source": [
    "pinn_trainer.train()"
   ]
  },
  {
   "cell_type": "code",
   "execution_count": 10,
   "metadata": {},
   "outputs": [
    {
     "data": {
      "image/png": "[encoded data removed]",
      "text/plain": [
       "<Figure size 432x288 with 1 Axes>"
      ]
     },
     "metadata": {
      "needs_background": "light"
     },
     "output_type": "display_data"
    }
   ],
   "source": [
    "fig, ax = Training.plot_loss(pinn_trainer, pinn_net)"
   ]
  },
  {
   "cell_type": "markdown",
   "metadata": {
    "scrolled": true
   },
   "source": [
    "#### 4.5.3 Train PDNN\n",
    "\n",
    "Given a training set $\\Xi_{PDNN} = ((\\boldsymbol{\\mu}^{(1)}, u^{\\text{HF}}(\\boldsymbol{\\mu}^{(1)})), \\dots, (\\boldsymbol{\\mu}^{(N_\\text{PDNN})}, u^{\\text{HF}}(\\boldsymbol{\\mu}^{(N_\\text{PDNN})})))$ of parameter and high fidelity solution pairs for the PDE, we train a Projection-Driven Neural Network (PDNN) $\\operatorname{N}_W(\\boldsymbol{\\mu})$ dependent on the weights and biases $W$ of the network to minimize the loss function\n",
    "$$L_{PDNN}(\\Xi_{PDNN}; W) = \\frac{1}{N_\\text{PDNN}} \\sum_{i=1}^{N_\\text{PDNN}} \\|u^{NN}(\\boldsymbol{\\mu}^{(i)}; W) - U^T u^{\\text{HF}}(\\boldsymbol{\\mu}^{(i)})\\|_2^2,$$\n",
    "where for a given $\\boldsymbol{\\mu}$, the quantity $U^T u^{\\text{HF}}(\\boldsymbol{\\mu})$ is the projection of the high fidelity solution $u^{\\text{HF}}(\\boldsymbol{\\mu})$ onto the reduced order space."
   ]
  },
  {
   "cell_type": "code",
   "execution_count": 11,
   "metadata": {},
   "outputs": [],
   "source": [
    "input_normalization_pdnn = Normalization.StandardNormalization(input_normalization=True)\n",
    "output_normalization_pdnn = Normalization.StandardNormalization()\n",
    "\n",
    "pdnn_net  = NN.RONN(\"PDNN\", problem, reduction_method, n_hidden=2, n_neurons=40)\n",
    "pdnn_loss = Losses.PDNN_Loss(pdnn_net, output_normalization_pdnn)\n",
    "data      = RONNData.RONNDataLoader(pdnn_net, validation_proportion=0.2)\n",
    "optimizer = torch.optim.Adam(pdnn_net.parameters(), lr=0.001)\n",
    "scheduler = torch.optim.lr_scheduler.ExponentialLR(optimizer, 0.99999)\n",
    "\n",
    "pdnn_trainer = Training.PDNNTrainer(\n",
    "    pdnn_net, data, pdnn_loss, optimizer, scheduler,\n",
    "    input_normalization_pdnn, num_epochs=10000\n",
    ")\n",
    "\n",
    "loaded, starting_epoch = IO.initialize_parameters(\n",
    "    pdnn_net, data, pdnn_trainer, optimizer\n",
    ")"
   ]
  },
  {
   "cell_type": "code",
   "execution_count": 12,
   "metadata": {
    "scrolled": true
   },
   "outputs": [
    {
     "name": "stderr",
     "output_type": "stream",
     "text": [
      "100%|███████████████████████████████████████████████████| 10000/10000 [00:08<00:00, 1235.47it/s, Loss(training)=2.21e-7]\n"
     ]
    },
    {
     "data": {
      "text/plain": [
       "<mlnics.Losses.PDNN_Loss at 0x7f0a24a1aee0>"
      ]
     },
     "execution_count": 12,
     "metadata": {},
     "output_type": "execute_result"
    }
   ],
   "source": [
    "pdnn_trainer.train()"
   ]
  },
  {
   "cell_type": "code",
   "execution_count": 13,
   "metadata": {},
   "outputs": [
    {
     "data": {
      "image/png": "[encoded data removed]",
      "text/plain": [
       "<Figure size 432x288 with 1 Axes>"
      ]
     },
     "metadata": {
      "needs_background": "light"
     },
     "output_type": "display_data"
    }
   ],
   "source": [
    "fig, ax = Training.plot_loss(pdnn_trainer, pdnn_net)"
   ]
  },
  {
   "cell_type": "markdown",
   "metadata": {},
   "source": [
    "#### 4.5.4 Train PRNN\n",
    "\n",
    "We train a Physics-Reinforced Neural Network (PRNN) $N_W(\\boldsymbol{\\mu})$ dependent on the weights and biases $W$ of the network to minimize the loss function\n",
    "\n",
    "$$L_{PRNN}(\\Xi_{PINN}, \\Xi_{PDNN}; W) = L_{PINN}(\\Xi_{PINN}; W) + \\omega L_{PDNN}(\\Xi_{PDNN}; W)$$\n",
    "\n",
    "where $\\omega$ is a scaling parameter which can be chosen freely."
   ]
  },
  {
   "cell_type": "code",
   "execution_count": 14,
   "metadata": {},
   "outputs": [],
   "source": [
    "input_normalization_prnn = Normalization.IdentityNormalization(input_normalization=True)\n",
    "output_normalization_prnn = Normalization.IdentityNormalization()\n",
    "\n",
    "omega = 100.\n",
    "prnn_net  = NN.RONN(f\"PRNN_{omega}\", problem, reduction_method, n_hidden=2, n_neurons=40)\n",
    "prnn_loss = Losses.PRNN_Loss(prnn_net, output_normalization_prnn, omega=omega)\n",
    "data      = RONNData.RONNDataLoader(prnn_net, validation_proportion=0.2,\n",
    "                                    num_without_snapshots=100)\n",
    "optimizer = torch.optim.Adam(prnn_net.parameters(), lr=0.001)\n",
    "scheduler = torch.optim.lr_scheduler.ExponentialLR(optimizer, 0.99999)\n",
    "\n",
    "prnn_trainer = Training.PRNNTrainer(\n",
    "    prnn_net, data, prnn_loss, optimizer, scheduler,\n",
    "    input_normalization_prnn, num_epochs=10000\n",
    ")\n",
    "\n",
    "loaded, starting_epoch = IO.initialize_parameters(\n",
    "    prnn_net, data, prnn_trainer, optimizer\n",
    ")"
   ]
  },
  {
   "cell_type": "code",
   "execution_count": 15,
   "metadata": {
    "scrolled": true
   },
   "outputs": [
    {
     "name": "stderr",
     "output_type": "stream",
     "text": [
      "\r",
      "  0%|                                                                                         | 0/10000 [00:00<?, ?it/s]"
     ]
    },
    {
     "name": "stdout",
     "output_type": "stream",
     "text": [
      "Operator 's' not implemented. Continuing without operator 's'...\n",
      "Operator 'stability_factor_left_hand_matrix' not implemented. Continuing without operator 'stability_factor_left_hand_matrix'...\n",
      "Operator 'stability_factor_right_hand_matrix' not implemented. Continuing without operator 'stability_factor_right_hand_matrix'...\n",
      "Operator 's' not implemented. Continuing without operator 's'...\n",
      "Operator 'stability_factor_left_hand_matrix' not implemented. Continuing without operator 'stability_factor_left_hand_matrix'...\n",
      "Operator 'stability_factor_right_hand_matrix' not implemented. Continuing without operator 'stability_factor_right_hand_matrix'...\n"
     ]
    },
    {
     "name": "stderr",
     "output_type": "stream",
     "text": [
      "100%|████████████████████████████████████████████████████████| 10000/10000 [00:21<00:00, 470.76it/s, Loss(training)=2.5]\n"
     ]
    },
    {
     "data": {
      "text/plain": [
       "<mlnics.Losses.PRNN_Loss at 0x7f0a248f4be0>"
      ]
     },
     "execution_count": 15,
     "metadata": {},
     "output_type": "execute_result"
    }
   ],
   "source": [
    "prnn_trainer.train()"
   ]
  },
  {
   "cell_type": "code",
   "execution_count": 16,
   "metadata": {},
   "outputs": [
    {
     "data": {
      "image/png": "[encoded data removed]",
      "text/plain": [
       "<Figure size 432x288 with 1 Axes>"
      ]
     },
     "metadata": {
      "needs_background": "light"
     },
     "output_type": "display_data"
    }
   ],
   "source": [
    "fig, ax = Training.plot_loss(prnn_trainer, prnn_net, separate=True)"
   ]
  },
  {
   "cell_type": "markdown",
   "metadata": {},
   "source": [
    "### 4.6. Perform an error analysis"
   ]
  },
  {
   "cell_type": "markdown",
   "metadata": {},
   "source": [
    "#### 4.6.1 Reduction Method Error Analysis"
   ]
  },
  {
   "cell_type": "code",
   "execution_count": 17,
   "metadata": {
    "scrolled": true
   },
   "outputs": [],
   "source": [
    "np.random.seed(0)\n",
    "\n",
    "reduction_method.initialize_testing_set(100, SCM=100)\n",
    "test_set_mu = torch.tensor(reduction_method.testing_set, dtype=torch.float64)\n",
    "online_mu = tuple(np.array(reduction_method.testing_set)[0,:])"
   ]
  },
  {
   "cell_type": "markdown",
   "metadata": {},
   "source": [
    "#### 4.6.2 PINN Error Analysis"
   ]
  },
  {
   "cell_type": "code",
   "execution_count": 18,
   "metadata": {},
   "outputs": [
    {
     "data": {
      "image/png": "[encoded data removed]",
      "text/plain": [
       "<Figure size 432x288 with 2 Axes>"
      ]
     },
     "metadata": {
      "needs_background": "light"
     },
     "output_type": "display_data"
    }
   ],
   "source": [
    "ErrorAnalysis.plot_solution(\n",
    "    pinn_net, online_mu, input_normalization_pinn, output_normalization_pinn\n",
    ")"
   ]
  },
  {
   "cell_type": "code",
   "execution_count": 19,
   "metadata": {},
   "outputs": [
    {
     "name": "stdout",
     "output_type": "stream",
     "text": [
      "################################# PINN N = 22 ##################################\n",
      "ERROR\tNN-HF\t\t\tNN-RO\t\t\tRO-HF\n",
      "min\t0.7054983931079316\t0.7054983931079367\t2.174842993228563e-13\n",
      "mean\t0.9414751236987646\t0.9414751223799296\t1.202346499733841e-05\n",
      "max\t0.999610589047457\t0.9996105890474554\t9.264926572986407e-05\n"
     ]
    }
   ],
   "source": [
    "_ = ErrorAnalysis.error_analysis_fixed_net(\n",
    "    pinn_net, test_set_mu, input_normalization_pinn, output_normalization_pinn\n",
    ")"
   ]
  },
  {
   "cell_type": "code",
   "execution_count": 20,
   "metadata": {},
   "outputs": [
    {
     "data": {
      "image/png": "[encoded data removed]",
      "text/plain": [
       "<Figure size 432x288 with 2 Axes>"
      ]
     },
     "metadata": {
      "needs_background": "light"
     },
     "output_type": "display_data"
    }
   ],
   "source": [
    "ErrorAnalysis.plot_solution_difference(\n",
    "    pinn_net, online_mu, input_normalization_pinn, output_normalization_pinn\n",
    ")"
   ]
  },
  {
   "cell_type": "markdown",
   "metadata": {},
   "source": [
    "#### 4.6.3 PDNN Error Analysis"
   ]
  },
  {
   "cell_type": "code",
   "execution_count": 21,
   "metadata": {},
   "outputs": [
    {
     "name": "stdout",
     "output_type": "stream",
     "text": [
      "################################# PDNN N = 22 ##################################\n",
      "ERROR\tNN-HF\t\t\tNN-RO\t\t\tRO-HF\n",
      "min\t5.3319144991813236e-05\t5.331914498695601e-05\t2.174842993228563e-13\n",
      "mean\t0.12381788111847399\t0.12381799688077275\t1.202346499733841e-05\n",
      "max\t0.38108258136919354\t0.3810829798966839\t9.264926572986407e-05\n"
     ]
    }
   ],
   "source": [
    "_ = ErrorAnalysis.error_analysis_fixed_net(\n",
    "    pdnn_net, test_set_mu, input_normalization_pdnn, output_normalization_pdnn\n",
    ")"
   ]
  },
  {
   "cell_type": "code",
   "execution_count": 22,
   "metadata": {},
   "outputs": [
    {
     "data": {
      "image/png": "[encoded data removed]",
      "text/plain": [
       "<Figure size 432x288 with 2 Axes>"
      ]
     },
     "metadata": {
      "needs_background": "light"
     },
     "output_type": "display_data"
    }
   ],
   "source": [
    "ErrorAnalysis.plot_solution_difference(\n",
    "    pdnn_net, online_mu, input_normalization_pdnn, output_normalization_pdnn\n",
    ")"
   ]
  },
  {
   "cell_type": "markdown",
   "metadata": {},
   "source": [
    "#### 4.6.4 PRNN Error Analysis"
   ]
  },
  {
   "cell_type": "code",
   "execution_count": 23,
   "metadata": {},
   "outputs": [
    {
     "name": "stdout",
     "output_type": "stream",
     "text": [
      "############################## PRNN_100.0 N = 22 ###############################\n",
      "ERROR\tNN-HF\t\t\tNN-RO\t\t\tRO-HF\n",
      "min\t0.018136622656379244\t0.018137010574013568\t2.174842993228563e-13\n",
      "mean\t0.8034635583930269\t0.8034635623367802\t1.202346499733841e-05\n",
      "max\t1.2359195917801244\t1.2359196216972796\t9.264926572986407e-05\n"
     ]
    }
   ],
   "source": [
    "_ = ErrorAnalysis.error_analysis_fixed_net(\n",
    "    prnn_net, test_set_mu, input_normalization_prnn, output_normalization_prnn\n",
    ")"
   ]
  },
  {
   "cell_type": "code",
   "execution_count": 24,
   "metadata": {},
   "outputs": [
    {
     "data": {
      "image/png": "[encoded data removed]",
      "text/plain": [
       "<Figure size 432x288 with 2 Axes>"
      ]
     },
     "metadata": {
      "needs_background": "light"
     },
     "output_type": "display_data"
    }
   ],
   "source": [
    "ErrorAnalysis.plot_solution_difference(\n",
    "    prnn_net, online_mu, input_normalization_prnn, output_normalization_prnn\n",
    ")"
   ]
  },
  {
   "cell_type": "markdown",
   "metadata": {},
   "source": [
    "#### 4.6.5 Neural Network Error Comparison"
   ]
  },
  {
   "cell_type": "code",
   "execution_count": 25,
   "metadata": {},
   "outputs": [
    {
     "name": "stdout",
     "output_type": "stream",
     "text": [
      "#####################################################################################\n",
      "Mean Relative Error for N = 22 Basis Functions\n",
      "Network\t\tNN-HF\t\t\tNN-RO\t\t\tRO-HF\n",
      "pinn_net\t0.9414751236987646\t0.9414751223799296\t1.202346499733841e-05\n",
      "pdnn_net\t0.12381788111847399\t0.12381799688077275\t1.202346499733841e-05\n",
      "prnn_net\t0.8034635583930269\t0.8034635623367802\t1.202346499733841e-05\n",
      "#####################################################################################\n"
     ]
    }
   ],
   "source": [
    "nets = dict()\n",
    "nets[\"pinn_net\"] = pinn_net\n",
    "nets[\"pdnn_net\"] = pdnn_net\n",
    "nets[\"prnn_net\"] = prnn_net\n",
    "\n",
    "input_normalizations = dict()\n",
    "input_normalizations[\"pinn_net\"] = input_normalization_pinn\n",
    "input_normalizations[\"pdnn_net\"] = input_normalization_pdnn\n",
    "input_normalizations[\"prnn_net\"] = input_normalization_prnn\n",
    "\n",
    "output_normalizations = dict()\n",
    "output_normalizations[\"pinn_net\"] = output_normalization_pinn\n",
    "output_normalizations[\"pdnn_net\"] = output_normalization_pdnn\n",
    "output_normalizations[\"prnn_net\"] = output_normalization_prnn\n",
    "\n",
    "_ = ErrorAnalysis.error_analysis_by_network(\n",
    "    nets, test_set_mu, input_normalizations, output_normalizations, euclidean=False\n",
    ")"
   ]
  },
  {
   "cell_type": "markdown",
   "metadata": {},
   "source": [
    "### 4.8. Perform a speedup analysis"
   ]
  },
  {
   "cell_type": "code",
   "execution_count": 26,
   "metadata": {
    "scrolled": true
   },
   "outputs": [
    {
     "name": "stdout",
     "output_type": "stream",
     "text": [
      "================================================================================\n",
      "=                          SCM error analysis begins                           =\n",
      "================================================================================\n",
      "\n",
      "~~~~~~~~~~~~~~~~~~~~~~~~~~~~~~~~~~~~ SCM 0 ~~~~~~~~~~~~~~~~~~~~~~~~~~~~~~~~~~~~~\n",
      "~~~~~~~~~~~~~~~~~~~~~~~~~~~~~~~~~~~~ SCM 1 ~~~~~~~~~~~~~~~~~~~~~~~~~~~~~~~~~~~~~\n",
      "~~~~~~~~~~~~~~~~~~~~~~~~~~~~~~~~~~~~ SCM 2 ~~~~~~~~~~~~~~~~~~~~~~~~~~~~~~~~~~~~~\n",
      "~~~~~~~~~~~~~~~~~~~~~~~~~~~~~~~~~~~~ SCM 3 ~~~~~~~~~~~~~~~~~~~~~~~~~~~~~~~~~~~~~\n",
      "~~~~~~~~~~~~~~~~~~~~~~~~~~~~~~~~~~~~ SCM 4 ~~~~~~~~~~~~~~~~~~~~~~~~~~~~~~~~~~~~~\n",
      "~~~~~~~~~~~~~~~~~~~~~~~~~~~~~~~~~~~~ SCM 5 ~~~~~~~~~~~~~~~~~~~~~~~~~~~~~~~~~~~~~\n",
      "~~~~~~~~~~~~~~~~~~~~~~~~~~~~~~~~~~~~ SCM 6 ~~~~~~~~~~~~~~~~~~~~~~~~~~~~~~~~~~~~~\n",
      "~~~~~~~~~~~~~~~~~~~~~~~~~~~~~~~~~~~~ SCM 7 ~~~~~~~~~~~~~~~~~~~~~~~~~~~~~~~~~~~~~\n",
      "~~~~~~~~~~~~~~~~~~~~~~~~~~~~~~~~~~~~ SCM 8 ~~~~~~~~~~~~~~~~~~~~~~~~~~~~~~~~~~~~~\n",
      "~~~~~~~~~~~~~~~~~~~~~~~~~~~~~~~~~~~~ SCM 9 ~~~~~~~~~~~~~~~~~~~~~~~~~~~~~~~~~~~~~\n",
      "~~~~~~~~~~~~~~~~~~~~~~~~~~~~~~~~~~~~ SCM 10 ~~~~~~~~~~~~~~~~~~~~~~~~~~~~~~~~~~~~\n",
      "~~~~~~~~~~~~~~~~~~~~~~~~~~~~~~~~~~~~ SCM 11 ~~~~~~~~~~~~~~~~~~~~~~~~~~~~~~~~~~~~\n",
      "~~~~~~~~~~~~~~~~~~~~~~~~~~~~~~~~~~~~ SCM 12 ~~~~~~~~~~~~~~~~~~~~~~~~~~~~~~~~~~~~\n",
      "~~~~~~~~~~~~~~~~~~~~~~~~~~~~~~~~~~~~ SCM 13 ~~~~~~~~~~~~~~~~~~~~~~~~~~~~~~~~~~~~\n",
      "~~~~~~~~~~~~~~~~~~~~~~~~~~~~~~~~~~~~ SCM 14 ~~~~~~~~~~~~~~~~~~~~~~~~~~~~~~~~~~~~\n",
      "~~~~~~~~~~~~~~~~~~~~~~~~~~~~~~~~~~~~ SCM 15 ~~~~~~~~~~~~~~~~~~~~~~~~~~~~~~~~~~~~\n",
      "~~~~~~~~~~~~~~~~~~~~~~~~~~~~~~~~~~~~ SCM 16 ~~~~~~~~~~~~~~~~~~~~~~~~~~~~~~~~~~~~\n",
      "~~~~~~~~~~~~~~~~~~~~~~~~~~~~~~~~~~~~ SCM 17 ~~~~~~~~~~~~~~~~~~~~~~~~~~~~~~~~~~~~\n",
      "~~~~~~~~~~~~~~~~~~~~~~~~~~~~~~~~~~~~ SCM 18 ~~~~~~~~~~~~~~~~~~~~~~~~~~~~~~~~~~~~\n",
      "~~~~~~~~~~~~~~~~~~~~~~~~~~~~~~~~~~~~ SCM 19 ~~~~~~~~~~~~~~~~~~~~~~~~~~~~~~~~~~~~\n",
      "~~~~~~~~~~~~~~~~~~~~~~~~~~~~~~~~~~~~ SCM 20 ~~~~~~~~~~~~~~~~~~~~~~~~~~~~~~~~~~~~\n",
      "~~~~~~~~~~~~~~~~~~~~~~~~~~~~~~~~~~~~ SCM 21 ~~~~~~~~~~~~~~~~~~~~~~~~~~~~~~~~~~~~\n",
      "~~~~~~~~~~~~~~~~~~~~~~~~~~~~~~~~~~~~ SCM 22 ~~~~~~~~~~~~~~~~~~~~~~~~~~~~~~~~~~~~\n",
      "~~~~~~~~~~~~~~~~~~~~~~~~~~~~~~~~~~~~ SCM 23 ~~~~~~~~~~~~~~~~~~~~~~~~~~~~~~~~~~~~\n",
      "~~~~~~~~~~~~~~~~~~~~~~~~~~~~~~~~~~~~ SCM 24 ~~~~~~~~~~~~~~~~~~~~~~~~~~~~~~~~~~~~\n",
      "~~~~~~~~~~~~~~~~~~~~~~~~~~~~~~~~~~~~ SCM 25 ~~~~~~~~~~~~~~~~~~~~~~~~~~~~~~~~~~~~\n",
      "~~~~~~~~~~~~~~~~~~~~~~~~~~~~~~~~~~~~ SCM 26 ~~~~~~~~~~~~~~~~~~~~~~~~~~~~~~~~~~~~\n",
      "~~~~~~~~~~~~~~~~~~~~~~~~~~~~~~~~~~~~ SCM 27 ~~~~~~~~~~~~~~~~~~~~~~~~~~~~~~~~~~~~\n",
      "~~~~~~~~~~~~~~~~~~~~~~~~~~~~~~~~~~~~ SCM 28 ~~~~~~~~~~~~~~~~~~~~~~~~~~~~~~~~~~~~\n",
      "~~~~~~~~~~~~~~~~~~~~~~~~~~~~~~~~~~~~ SCM 29 ~~~~~~~~~~~~~~~~~~~~~~~~~~~~~~~~~~~~\n",
      "~~~~~~~~~~~~~~~~~~~~~~~~~~~~~~~~~~~~ SCM 30 ~~~~~~~~~~~~~~~~~~~~~~~~~~~~~~~~~~~~\n",
      "~~~~~~~~~~~~~~~~~~~~~~~~~~~~~~~~~~~~ SCM 31 ~~~~~~~~~~~~~~~~~~~~~~~~~~~~~~~~~~~~\n",
      "~~~~~~~~~~~~~~~~~~~~~~~~~~~~~~~~~~~~ SCM 32 ~~~~~~~~~~~~~~~~~~~~~~~~~~~~~~~~~~~~\n",
      "~~~~~~~~~~~~~~~~~~~~~~~~~~~~~~~~~~~~ SCM 33 ~~~~~~~~~~~~~~~~~~~~~~~~~~~~~~~~~~~~\n",
      "~~~~~~~~~~~~~~~~~~~~~~~~~~~~~~~~~~~~ SCM 34 ~~~~~~~~~~~~~~~~~~~~~~~~~~~~~~~~~~~~\n",
      "~~~~~~~~~~~~~~~~~~~~~~~~~~~~~~~~~~~~ SCM 35 ~~~~~~~~~~~~~~~~~~~~~~~~~~~~~~~~~~~~\n",
      "~~~~~~~~~~~~~~~~~~~~~~~~~~~~~~~~~~~~ SCM 36 ~~~~~~~~~~~~~~~~~~~~~~~~~~~~~~~~~~~~\n",
      "~~~~~~~~~~~~~~~~~~~~~~~~~~~~~~~~~~~~ SCM 37 ~~~~~~~~~~~~~~~~~~~~~~~~~~~~~~~~~~~~\n",
      "~~~~~~~~~~~~~~~~~~~~~~~~~~~~~~~~~~~~ SCM 38 ~~~~~~~~~~~~~~~~~~~~~~~~~~~~~~~~~~~~\n",
      "~~~~~~~~~~~~~~~~~~~~~~~~~~~~~~~~~~~~ SCM 39 ~~~~~~~~~~~~~~~~~~~~~~~~~~~~~~~~~~~~\n",
      "~~~~~~~~~~~~~~~~~~~~~~~~~~~~~~~~~~~~ SCM 40 ~~~~~~~~~~~~~~~~~~~~~~~~~~~~~~~~~~~~\n",
      "~~~~~~~~~~~~~~~~~~~~~~~~~~~~~~~~~~~~ SCM 41 ~~~~~~~~~~~~~~~~~~~~~~~~~~~~~~~~~~~~\n",
      "~~~~~~~~~~~~~~~~~~~~~~~~~~~~~~~~~~~~ SCM 42 ~~~~~~~~~~~~~~~~~~~~~~~~~~~~~~~~~~~~\n",
      "~~~~~~~~~~~~~~~~~~~~~~~~~~~~~~~~~~~~ SCM 43 ~~~~~~~~~~~~~~~~~~~~~~~~~~~~~~~~~~~~\n",
      "~~~~~~~~~~~~~~~~~~~~~~~~~~~~~~~~~~~~ SCM 44 ~~~~~~~~~~~~~~~~~~~~~~~~~~~~~~~~~~~~\n",
      "~~~~~~~~~~~~~~~~~~~~~~~~~~~~~~~~~~~~ SCM 45 ~~~~~~~~~~~~~~~~~~~~~~~~~~~~~~~~~~~~\n",
      "~~~~~~~~~~~~~~~~~~~~~~~~~~~~~~~~~~~~ SCM 46 ~~~~~~~~~~~~~~~~~~~~~~~~~~~~~~~~~~~~\n",
      "~~~~~~~~~~~~~~~~~~~~~~~~~~~~~~~~~~~~ SCM 47 ~~~~~~~~~~~~~~~~~~~~~~~~~~~~~~~~~~~~\n",
      "~~~~~~~~~~~~~~~~~~~~~~~~~~~~~~~~~~~~ SCM 48 ~~~~~~~~~~~~~~~~~~~~~~~~~~~~~~~~~~~~\n",
      "~~~~~~~~~~~~~~~~~~~~~~~~~~~~~~~~~~~~ SCM 49 ~~~~~~~~~~~~~~~~~~~~~~~~~~~~~~~~~~~~\n",
      "~~~~~~~~~~~~~~~~~~~~~~~~~~~~~~~~~~~~ SCM 50 ~~~~~~~~~~~~~~~~~~~~~~~~~~~~~~~~~~~~\n",
      "~~~~~~~~~~~~~~~~~~~~~~~~~~~~~~~~~~~~ SCM 51 ~~~~~~~~~~~~~~~~~~~~~~~~~~~~~~~~~~~~\n",
      "~~~~~~~~~~~~~~~~~~~~~~~~~~~~~~~~~~~~ SCM 52 ~~~~~~~~~~~~~~~~~~~~~~~~~~~~~~~~~~~~\n",
      "~~~~~~~~~~~~~~~~~~~~~~~~~~~~~~~~~~~~ SCM 53 ~~~~~~~~~~~~~~~~~~~~~~~~~~~~~~~~~~~~\n",
      "~~~~~~~~~~~~~~~~~~~~~~~~~~~~~~~~~~~~ SCM 54 ~~~~~~~~~~~~~~~~~~~~~~~~~~~~~~~~~~~~\n",
      "~~~~~~~~~~~~~~~~~~~~~~~~~~~~~~~~~~~~ SCM 55 ~~~~~~~~~~~~~~~~~~~~~~~~~~~~~~~~~~~~\n",
      "~~~~~~~~~~~~~~~~~~~~~~~~~~~~~~~~~~~~ SCM 56 ~~~~~~~~~~~~~~~~~~~~~~~~~~~~~~~~~~~~\n",
      "~~~~~~~~~~~~~~~~~~~~~~~~~~~~~~~~~~~~ SCM 57 ~~~~~~~~~~~~~~~~~~~~~~~~~~~~~~~~~~~~\n",
      "~~~~~~~~~~~~~~~~~~~~~~~~~~~~~~~~~~~~ SCM 58 ~~~~~~~~~~~~~~~~~~~~~~~~~~~~~~~~~~~~\n",
      "~~~~~~~~~~~~~~~~~~~~~~~~~~~~~~~~~~~~ SCM 59 ~~~~~~~~~~~~~~~~~~~~~~~~~~~~~~~~~~~~\n",
      "~~~~~~~~~~~~~~~~~~~~~~~~~~~~~~~~~~~~ SCM 60 ~~~~~~~~~~~~~~~~~~~~~~~~~~~~~~~~~~~~\n",
      "~~~~~~~~~~~~~~~~~~~~~~~~~~~~~~~~~~~~ SCM 61 ~~~~~~~~~~~~~~~~~~~~~~~~~~~~~~~~~~~~\n",
      "~~~~~~~~~~~~~~~~~~~~~~~~~~~~~~~~~~~~ SCM 62 ~~~~~~~~~~~~~~~~~~~~~~~~~~~~~~~~~~~~\n",
      "~~~~~~~~~~~~~~~~~~~~~~~~~~~~~~~~~~~~ SCM 63 ~~~~~~~~~~~~~~~~~~~~~~~~~~~~~~~~~~~~\n",
      "~~~~~~~~~~~~~~~~~~~~~~~~~~~~~~~~~~~~ SCM 64 ~~~~~~~~~~~~~~~~~~~~~~~~~~~~~~~~~~~~\n",
      "~~~~~~~~~~~~~~~~~~~~~~~~~~~~~~~~~~~~ SCM 65 ~~~~~~~~~~~~~~~~~~~~~~~~~~~~~~~~~~~~\n",
      "~~~~~~~~~~~~~~~~~~~~~~~~~~~~~~~~~~~~ SCM 66 ~~~~~~~~~~~~~~~~~~~~~~~~~~~~~~~~~~~~\n",
      "~~~~~~~~~~~~~~~~~~~~~~~~~~~~~~~~~~~~ SCM 67 ~~~~~~~~~~~~~~~~~~~~~~~~~~~~~~~~~~~~\n",
      "~~~~~~~~~~~~~~~~~~~~~~~~~~~~~~~~~~~~ SCM 68 ~~~~~~~~~~~~~~~~~~~~~~~~~~~~~~~~~~~~\n",
      "~~~~~~~~~~~~~~~~~~~~~~~~~~~~~~~~~~~~ SCM 69 ~~~~~~~~~~~~~~~~~~~~~~~~~~~~~~~~~~~~\n",
      "~~~~~~~~~~~~~~~~~~~~~~~~~~~~~~~~~~~~ SCM 70 ~~~~~~~~~~~~~~~~~~~~~~~~~~~~~~~~~~~~\n",
      "~~~~~~~~~~~~~~~~~~~~~~~~~~~~~~~~~~~~ SCM 71 ~~~~~~~~~~~~~~~~~~~~~~~~~~~~~~~~~~~~\n",
      "~~~~~~~~~~~~~~~~~~~~~~~~~~~~~~~~~~~~ SCM 72 ~~~~~~~~~~~~~~~~~~~~~~~~~~~~~~~~~~~~\n",
      "~~~~~~~~~~~~~~~~~~~~~~~~~~~~~~~~~~~~ SCM 73 ~~~~~~~~~~~~~~~~~~~~~~~~~~~~~~~~~~~~\n",
      "~~~~~~~~~~~~~~~~~~~~~~~~~~~~~~~~~~~~ SCM 74 ~~~~~~~~~~~~~~~~~~~~~~~~~~~~~~~~~~~~\n",
      "~~~~~~~~~~~~~~~~~~~~~~~~~~~~~~~~~~~~ SCM 75 ~~~~~~~~~~~~~~~~~~~~~~~~~~~~~~~~~~~~\n",
      "~~~~~~~~~~~~~~~~~~~~~~~~~~~~~~~~~~~~ SCM 76 ~~~~~~~~~~~~~~~~~~~~~~~~~~~~~~~~~~~~\n",
      "~~~~~~~~~~~~~~~~~~~~~~~~~~~~~~~~~~~~ SCM 77 ~~~~~~~~~~~~~~~~~~~~~~~~~~~~~~~~~~~~\n",
      "~~~~~~~~~~~~~~~~~~~~~~~~~~~~~~~~~~~~ SCM 78 ~~~~~~~~~~~~~~~~~~~~~~~~~~~~~~~~~~~~\n",
      "~~~~~~~~~~~~~~~~~~~~~~~~~~~~~~~~~~~~ SCM 79 ~~~~~~~~~~~~~~~~~~~~~~~~~~~~~~~~~~~~\n",
      "~~~~~~~~~~~~~~~~~~~~~~~~~~~~~~~~~~~~ SCM 80 ~~~~~~~~~~~~~~~~~~~~~~~~~~~~~~~~~~~~\n",
      "~~~~~~~~~~~~~~~~~~~~~~~~~~~~~~~~~~~~ SCM 81 ~~~~~~~~~~~~~~~~~~~~~~~~~~~~~~~~~~~~\n",
      "~~~~~~~~~~~~~~~~~~~~~~~~~~~~~~~~~~~~ SCM 82 ~~~~~~~~~~~~~~~~~~~~~~~~~~~~~~~~~~~~\n",
      "~~~~~~~~~~~~~~~~~~~~~~~~~~~~~~~~~~~~ SCM 83 ~~~~~~~~~~~~~~~~~~~~~~~~~~~~~~~~~~~~\n",
      "~~~~~~~~~~~~~~~~~~~~~~~~~~~~~~~~~~~~ SCM 84 ~~~~~~~~~~~~~~~~~~~~~~~~~~~~~~~~~~~~\n",
      "~~~~~~~~~~~~~~~~~~~~~~~~~~~~~~~~~~~~ SCM 85 ~~~~~~~~~~~~~~~~~~~~~~~~~~~~~~~~~~~~\n",
      "~~~~~~~~~~~~~~~~~~~~~~~~~~~~~~~~~~~~ SCM 86 ~~~~~~~~~~~~~~~~~~~~~~~~~~~~~~~~~~~~\n",
      "~~~~~~~~~~~~~~~~~~~~~~~~~~~~~~~~~~~~ SCM 87 ~~~~~~~~~~~~~~~~~~~~~~~~~~~~~~~~~~~~\n",
      "~~~~~~~~~~~~~~~~~~~~~~~~~~~~~~~~~~~~ SCM 88 ~~~~~~~~~~~~~~~~~~~~~~~~~~~~~~~~~~~~\n",
      "~~~~~~~~~~~~~~~~~~~~~~~~~~~~~~~~~~~~ SCM 89 ~~~~~~~~~~~~~~~~~~~~~~~~~~~~~~~~~~~~\n",
      "~~~~~~~~~~~~~~~~~~~~~~~~~~~~~~~~~~~~ SCM 90 ~~~~~~~~~~~~~~~~~~~~~~~~~~~~~~~~~~~~\n",
      "~~~~~~~~~~~~~~~~~~~~~~~~~~~~~~~~~~~~ SCM 91 ~~~~~~~~~~~~~~~~~~~~~~~~~~~~~~~~~~~~\n",
      "~~~~~~~~~~~~~~~~~~~~~~~~~~~~~~~~~~~~ SCM 92 ~~~~~~~~~~~~~~~~~~~~~~~~~~~~~~~~~~~~\n",
      "~~~~~~~~~~~~~~~~~~~~~~~~~~~~~~~~~~~~ SCM 93 ~~~~~~~~~~~~~~~~~~~~~~~~~~~~~~~~~~~~\n",
      "~~~~~~~~~~~~~~~~~~~~~~~~~~~~~~~~~~~~ SCM 94 ~~~~~~~~~~~~~~~~~~~~~~~~~~~~~~~~~~~~\n",
      "~~~~~~~~~~~~~~~~~~~~~~~~~~~~~~~~~~~~ SCM 95 ~~~~~~~~~~~~~~~~~~~~~~~~~~~~~~~~~~~~\n",
      "~~~~~~~~~~~~~~~~~~~~~~~~~~~~~~~~~~~~ SCM 96 ~~~~~~~~~~~~~~~~~~~~~~~~~~~~~~~~~~~~\n",
      "~~~~~~~~~~~~~~~~~~~~~~~~~~~~~~~~~~~~ SCM 97 ~~~~~~~~~~~~~~~~~~~~~~~~~~~~~~~~~~~~\n",
      "~~~~~~~~~~~~~~~~~~~~~~~~~~~~~~~~~~~~ SCM 98 ~~~~~~~~~~~~~~~~~~~~~~~~~~~~~~~~~~~~\n"
     ]
    },
    {
     "name": "stdout",
     "output_type": "stream",
     "text": [
      "~~~~~~~~~~~~~~~~~~~~~~~~~~~~~~~~~~~~ SCM 99 ~~~~~~~~~~~~~~~~~~~~~~~~~~~~~~~~~~~~\n",
      "\n"
     ]
    },
    {
     "name": "stderr",
     "output_type": "stream",
     "text": [
      "/usr/local/lib/python3.8/dist-packages/RBniCS-0.1.dev1-py3.8.egg/rbnics/utils/io/performance_table.py:161: RuntimeWarning: invalid value encountered in log\n",
      "  current_table_content = exp(mean(log(data)))\n"
     ]
    },
    {
     "ename": "AssertionError",
     "evalue": "",
     "output_type": "error",
     "traceback": [
      "\u001b[0;31m---------------------------------------------------------------------------\u001b[0m",
      "\u001b[0;31mAssertionError\u001b[0m                            Traceback (most recent call last)",
      "Input \u001b[0;32mIn [26]\u001b[0m, in \u001b[0;36m<cell line: 2>\u001b[0;34m()\u001b[0m\n\u001b[1;32m      1\u001b[0m reduction_method\u001b[38;5;241m.\u001b[39minitialize_testing_set(\u001b[38;5;241m100\u001b[39m, SCM\u001b[38;5;241m=\u001b[39m\u001b[38;5;241m100\u001b[39m)\n\u001b[0;32m----> 2\u001b[0m \u001b[43mreduction_method\u001b[49m\u001b[38;5;241;43m.\u001b[39;49m\u001b[43merror_analysis\u001b[49m\u001b[43m(\u001b[49m\u001b[43m)\u001b[49m\n\u001b[1;32m      3\u001b[0m reduction_method\u001b[38;5;241m.\u001b[39mspeedup_analysis()\n",
      "File \u001b[0;32m/usr/local/lib/python3.8/dist-packages/RBniCS-0.1.dev1-py3.8.egg/rbnics/scm/reduction_methods/scm_decorated_reduction_method.py:95\u001b[0m, in \u001b[0;36mSCMDecoratedReductionMethod.<locals>.SCMDecoratedReductionMethod_Class.error_analysis\u001b[0;34m(self, N_generator, filename, **kwargs)\u001b[0m\n\u001b[1;32m     86\u001b[0m \u001b[38;5;28;01mif\u001b[39;00m (\n\u001b[1;32m     87\u001b[0m     \u001b[38;5;124m\"\u001b[39m\u001b[38;5;124mwith_respect_to\u001b[39m\u001b[38;5;124m\"\u001b[39m \u001b[38;5;129;01mnot\u001b[39;00m \u001b[38;5;129;01min\u001b[39;00m kwargs\n\u001b[1;32m     88\u001b[0m     \u001b[38;5;66m# otherwise we assume the user was interested in computing the error w.r.t.\u001b[39m\n\u001b[0;32m   (...)\u001b[0m\n\u001b[1;32m     92\u001b[0m     \u001b[38;5;66m# functions, thus he has already carried out the error analysis of SCM\u001b[39m\n\u001b[1;32m     93\u001b[0m ):\n\u001b[1;32m     94\u001b[0m     SCM_N_generator \u001b[38;5;241m=\u001b[39m kwargs\u001b[38;5;241m.\u001b[39mpop(\u001b[38;5;124m\"\u001b[39m\u001b[38;5;124mSCM_N_generator\u001b[39m\u001b[38;5;124m\"\u001b[39m, \u001b[38;5;28;01mNone\u001b[39;00m)\n\u001b[0;32m---> 95\u001b[0m     \u001b[38;5;28;43mself\u001b[39;49m\u001b[38;5;241;43m.\u001b[39;49m\u001b[43mSCM_reduction\u001b[49m\u001b[38;5;241;43m.\u001b[39;49m\u001b[43merror_analysis\u001b[49m\u001b[43m(\u001b[49m\u001b[43mSCM_N_generator\u001b[49m\u001b[43m,\u001b[49m\u001b[43m \u001b[49m\u001b[43mfilename\u001b[49m\u001b[43m)\u001b[49m\n\u001b[1;32m     96\u001b[0m \u001b[38;5;66m# ..., and then call the parent method.\u001b[39m\n\u001b[1;32m     97\u001b[0m DifferentialProblemReductionMethod_DerivedClass\u001b[38;5;241m.\u001b[39merror_analysis(\u001b[38;5;28mself\u001b[39m, N_generator, filename, \u001b[38;5;241m*\u001b[39m\u001b[38;5;241m*\u001b[39mkwargs)\n",
      "File \u001b[0;32m/usr/local/lib/python3.8/dist-packages/RBniCS-0.1.dev1-py3.8.egg/rbnics/scm/reduction_methods/scm_approximation_reduction_method.py:212\u001b[0m, in \u001b[0;36mSCMApproximationReductionMethod.error_analysis\u001b[0;34m(self, N_generator, filename, **kwargs)\u001b[0m\n\u001b[1;32m    209\u001b[0m \u001b[38;5;28;01massert\u001b[39;00m \u001b[38;5;28mlen\u001b[39m(kwargs) \u001b[38;5;241m==\u001b[39m \u001b[38;5;241m0\u001b[39m  \u001b[38;5;66m# not used in this method\u001b[39m\n\u001b[1;32m    211\u001b[0m \u001b[38;5;28mself\u001b[39m\u001b[38;5;241m.\u001b[39m_init_error_analysis(\u001b[38;5;241m*\u001b[39m\u001b[38;5;241m*\u001b[39mkwargs)\n\u001b[0;32m--> 212\u001b[0m \u001b[38;5;28;43mself\u001b[39;49m\u001b[38;5;241;43m.\u001b[39;49m\u001b[43m_error_analysis\u001b[49m\u001b[43m(\u001b[49m\u001b[43mN_generator\u001b[49m\u001b[43m,\u001b[49m\u001b[43m \u001b[49m\u001b[43mfilename\u001b[49m\u001b[43m,\u001b[49m\u001b[43m \u001b[49m\u001b[38;5;241;43m*\u001b[39;49m\u001b[38;5;241;43m*\u001b[39;49m\u001b[43mkwargs\u001b[49m\u001b[43m)\u001b[49m\n\u001b[1;32m    213\u001b[0m \u001b[38;5;28mself\u001b[39m\u001b[38;5;241m.\u001b[39m_finalize_error_analysis(\u001b[38;5;241m*\u001b[39m\u001b[38;5;241m*\u001b[39mkwargs)\n",
      "File \u001b[0;32m/usr/local/lib/python3.8/dist-packages/RBniCS-0.1.dev1-py3.8.egg/rbnics/scm/reduction_methods/scm_approximation_reduction_method.py:265\u001b[0m, in \u001b[0;36mSCMApproximationReductionMethod._error_analysis\u001b[0;34m(self, N_generator, filename, **kwargs)\u001b[0m\n\u001b[1;32m    263\u001b[0m \u001b[38;5;66m# Print\u001b[39m\n\u001b[1;32m    264\u001b[0m \u001b[38;5;28mprint\u001b[39m(\u001b[38;5;124m\"\u001b[39m\u001b[38;5;124m\"\u001b[39m)\n\u001b[0;32m--> 265\u001b[0m \u001b[38;5;28;43mprint\u001b[39;49m\u001b[43m(\u001b[49m\u001b[43merror_analysis_table\u001b[49m\u001b[43m)\u001b[49m\n\u001b[1;32m    267\u001b[0m \u001b[38;5;28mprint\u001b[39m(\u001b[38;5;124m\"\u001b[39m\u001b[38;5;124m\"\u001b[39m)\n\u001b[1;32m    268\u001b[0m \u001b[38;5;28mprint\u001b[39m(TextBox(\u001b[38;5;124m\"\u001b[39m\u001b[38;5;124mSCM error analysis ends\u001b[39m\u001b[38;5;124m\"\u001b[39m, fill\u001b[38;5;241m=\u001b[39m\u001b[38;5;124m\"\u001b[39m\u001b[38;5;124m=\u001b[39m\u001b[38;5;124m\"\u001b[39m))\n",
      "File \u001b[0;32m/usr/local/lib/python3.8/dist-packages/RBniCS-0.1.dev1-py3.8.egg/rbnics/utils/mpi/print.py:18\u001b[0m, in \u001b[0;36mprint\u001b[0;34m(*args, **kwargs)\u001b[0m\n\u001b[1;32m     16\u001b[0m \u001b[38;5;28;01mif\u001b[39;00m COMM_WORLD\u001b[38;5;241m.\u001b[39mrank \u001b[38;5;241m==\u001b[39m \u001b[38;5;241m0\u001b[39m:\n\u001b[1;32m     17\u001b[0m     kwargs[\u001b[38;5;124m\"\u001b[39m\u001b[38;5;124mflush\u001b[39m\u001b[38;5;124m\"\u001b[39m] \u001b[38;5;241m=\u001b[39m \u001b[38;5;28;01mTrue\u001b[39;00m\n\u001b[0;32m---> 18\u001b[0m     \u001b[38;5;28;01mreturn\u001b[39;00m \u001b[43mbuiltin_print\u001b[49m\u001b[43m(\u001b[49m\u001b[38;5;241;43m*\u001b[39;49m\u001b[43margs\u001b[49m\u001b[43m,\u001b[49m\u001b[43m \u001b[49m\u001b[38;5;241;43m*\u001b[39;49m\u001b[38;5;241;43m*\u001b[39;49m\u001b[43mkwargs\u001b[49m\u001b[43m)\u001b[49m\n",
      "File \u001b[0;32m/usr/local/lib/python3.8/dist-packages/RBniCS-0.1.dev1-py3.8.egg/rbnics/utils/io/performance_table.py:198\u001b[0m, in \u001b[0;36mPerformanceTable.__str__\u001b[0;34m(self)\u001b[0m\n\u001b[1;32m    195\u001b[0m current_line \u001b[38;5;241m=\u001b[39m \u001b[38;5;28mlist\u001b[39m()\n\u001b[1;32m    196\u001b[0m all_not_implemented \u001b[38;5;241m=\u001b[39m \u001b[38;5;28mall\u001b[39m(isnan(\n\u001b[1;32m    197\u001b[0m     table_content[t][n \u001b[38;5;241m-\u001b[39m \u001b[38;5;28mself\u001b[39m\u001b[38;5;241m.\u001b[39m_Nmin]) \u001b[38;5;28;01mfor\u001b[39;00m t \u001b[38;5;129;01min\u001b[39;00m table_index_without_N)\n\u001b[0;32m--> 198\u001b[0m \u001b[38;5;28;01massert\u001b[39;00m \u001b[38;5;28many\u001b[39m(isnan(\n\u001b[1;32m    199\u001b[0m     table_content[t][n \u001b[38;5;241m-\u001b[39m \u001b[38;5;28mself\u001b[39m\u001b[38;5;241m.\u001b[39m_Nmin]) \u001b[38;5;28;01mfor\u001b[39;00m t \u001b[38;5;129;01min\u001b[39;00m table_index_without_N) \u001b[38;5;129;01mis\u001b[39;00m all_not_implemented\n\u001b[1;32m    200\u001b[0m \u001b[38;5;28;01mif\u001b[39;00m \u001b[38;5;129;01mnot\u001b[39;00m all_not_implemented:\n\u001b[1;32m    201\u001b[0m     \u001b[38;5;28;01mfor\u001b[39;00m t \u001b[38;5;129;01min\u001b[39;00m table_index:\n",
      "\u001b[0;31mAssertionError\u001b[0m: "
     ]
    }
   ],
   "source": [
    "reduction_method.initialize_testing_set(100, SCM=100)\n",
    "reduction_method.error_analysis()\n",
    "reduction_method.speedup_analysis()"
   ]
  }
 ],
 "metadata": {
  "kernelspec": {
   "display_name": "Python 3 (ipykernel)",
   "language": "python",
   "name": "python3"
  },
  "language_info": {
   "codemirror_mode": {
    "name": "ipython",
    "version": 3
   },
   "file_extension": ".py",
   "mimetype": "text/x-python",
   "name": "python",
   "nbconvert_exporter": "python",
   "pygments_lexer": "ipython3",
   "version": "3.8.10"
  }
 },
 "nbformat": 4,
 "nbformat_minor": 2
}
