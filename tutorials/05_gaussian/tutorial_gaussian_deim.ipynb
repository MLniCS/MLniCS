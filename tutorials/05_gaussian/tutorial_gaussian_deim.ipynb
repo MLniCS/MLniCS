{
 "cells": [
  {
   "cell_type": "markdown",
   "metadata": {},
   "source": [
    "## TUTORIAL 05 - Discrete Empirical Interpolation Method for non-affine elliptic problems\n",
    "**_Keywords: discrete empirical interpolation method_**\n",
    "\n",
    "### 1. Introduction\n",
    "In this Tutorial, we consider steady heat conduction in a two-dimensional square domain $\\Omega = (-1, 1)^2$.\n",
    "The boundary $\\partial\\Omega$ is kept at a reference temperature (say, zero). The conductivity coefficient is fixed to 1, while the heat source is characterized by the following expression\n",
    "$$\n",
    "g(\\boldsymbol{x}; \\boldsymbol{\\mu}) = \\exp\\{ -2 (x_0-\\mu_0)^2 - 2 (x_1 - \\mu_1)^2\\} \\quad \\forall \\boldsymbol{x} = (x_0, x_1) \\in \\Omega.\n",
    "$$\n",
    "\n",
    "The parameter vector $\\boldsymbol{\\mu}$, given by \n",
    "$$\n",
    "\\boldsymbol{\\mu} = (\\mu_0,\\mu_1)\n",
    "$$\n",
    "affects the center of the Gaussian source $g(\\boldsymbol{x}; \\boldsymbol{\\mu})$, which could be located at any point $\\Omega$. Thus, the parameter domain is\n",
    "$$\n",
    "\\mathbb{P}=[-1,1]^2.\n",
    "$$\n",
    "\n",
    "In order to obtain a faster evaluation (yet, provably accurate) of the problem we propose to use a certified reduced basis approximation for the problem. In order to preserve the affinity assumption (for the sake of performance) the discrete empirical interpolation method will be used on the forcing term $g(\\boldsymbol{x}; \\boldsymbol{\\mu})$."
   ]
  },
  {
   "cell_type": "markdown",
   "metadata": {},
   "source": [
    "### 2. Parametrized formulation\n",
    "\n",
    "Let $u(\\boldsymbol{\\mu})$ be the temperature in the domain $\\Omega$.\n",
    "\n",
    "We will directly provide a weak formulation for this problem: for a given parameter $\\boldsymbol{\\mu}\\in\\mathbb{P}$, find $u(\\boldsymbol{\\mu})\\in\\mathbb{V}$ such that\n",
    "\n",
    "$$a\\left(u(\\boldsymbol{\\mu}),v;\\boldsymbol{\\mu}\\right)=f(v;\\boldsymbol{\\mu})\\quad \\forall v\\in\\mathbb{V}$$\n",
    "\n",
    "where\n",
    "\n",
    "* the function space $\\mathbb{V}$ is defined as\n",
    "$$\n",
    "\\mathbb{V} = \\left\\{ v \\in H^1(\\Omega(\\mu_0)): v|_{\\partial\\Omega} = 0\\right\\}\n",
    "$$\n",
    "Note that, as in the previous tutorial, the function space is parameter dependent due to the shape variation. \n",
    "* the parametrized bilinear form $a(\\cdot, \\cdot; \\boldsymbol{\\mu}): \\mathbb{V} \\times \\mathbb{V} \\to \\mathbb{R}$ is defined by\n",
    "$$a(u,v;\\boldsymbol{\\mu}) = \\int_{\\Omega} \\nabla u \\cdot \\nabla v \\ d\\boldsymbol{x}$$\n",
    "* the parametrized linear form $f(\\cdot; \\boldsymbol{\\mu}): \\mathbb{V} \\to \\mathbb{R}$ is defined by\n",
    "$$f(v;\\boldsymbol{\\mu}) = \\int_\\Omega g(\\boldsymbol{\\mu}) v  \\ d\\boldsymbol{x}.$$"
   ]
  },
  {
   "cell_type": "code",
   "execution_count": 1,
   "metadata": {},
   "outputs": [],
   "source": [
    "import os\n",
    "import sys\n",
    "sys.path.append('../../')\n",
    "\n",
    "from mlnics import NN, Losses, Normalization, RONNData, IO, Training, ErrorAnalysis\n",
    "from dolfin import *\n",
    "from rbnics import *\n",
    "import torch\n",
    "import numpy as np\n",
    "\n",
    "torch.manual_seed(42)\n",
    "np.random.seed(42)"
   ]
  },
  {
   "cell_type": "markdown",
   "metadata": {},
   "source": [
    "## 3. Affine decomposition\n",
    "\n",
    "The parametrized bilinear form $a(\\cdot, \\cdot; \\boldsymbol{\\mu})$ is trivially affine.\n",
    "The discrete empirical interpolation method will be used on the forcing term $g(\\boldsymbol{x}; \\boldsymbol{\\mu})$ to obtain an efficient (approximately affine) expansion of $f(\\cdot; \\boldsymbol{\\mu})$."
   ]
  },
  {
   "cell_type": "code",
   "execution_count": 2,
   "metadata": {},
   "outputs": [],
   "source": [
    "@DEIM(\"online\", basis_generation=\"Greedy\")\n",
    "@ExactParametrizedFunctions(\"offline\")\n",
    "class Gaussian(EllipticCoerciveProblem):\n",
    "\n",
    "    # Default initialization of members\n",
    "    def __init__(self, V, **kwargs):\n",
    "        # Call the standard initialization\n",
    "        EllipticCoerciveProblem.__init__(self, V, **kwargs)\n",
    "        # ... and also store FEniCS data structures for assembly\n",
    "        assert \"subdomains\" in kwargs\n",
    "        assert \"boundaries\" in kwargs\n",
    "        self.subdomains, self.boundaries = kwargs[\"subdomains\"], kwargs[\"boundaries\"]\n",
    "        self.u = TrialFunction(V)\n",
    "        self.v = TestFunction(V)\n",
    "        self.dx = Measure(\"dx\")(subdomain_data=subdomains)\n",
    "        self.f = ParametrizedExpression(\n",
    "            self, \"exp(- 2 * pow(x[0] - mu[0], 2) - 2 * pow(x[1] - mu[1], 2))\", mu=(0., 0.),\n",
    "            element=V.ufl_element())\n",
    "        # note that we cannot use self.mu in the initialization of self.f, because self.mu has not been initialized yet\n",
    "\n",
    "    # Return custom problem name\n",
    "    def name(self):\n",
    "        return \"GaussianDEIM\"\n",
    "\n",
    "    # Return the alpha_lower bound.\n",
    "    def get_stability_factor_lower_bound(self):\n",
    "        return 1.\n",
    "\n",
    "    # Return theta multiplicative terms of the affine expansion of the problem.\n",
    "    def compute_theta(self, term):\n",
    "        if term == \"a\":\n",
    "            return (1.,)\n",
    "        elif term == \"f\":\n",
    "            return (1.,)\n",
    "        else:\n",
    "            raise ValueError(\"Invalid term for compute_theta().\")\n",
    "\n",
    "    # Return forms resulting from the discretization of the affine expansion of the problem operators.\n",
    "    def assemble_operator(self, term):\n",
    "        v = self.v\n",
    "        dx = self.dx\n",
    "        if term == \"a\":\n",
    "            u = self.u\n",
    "            a0 = inner(grad(u), grad(v)) * dx\n",
    "            return (a0,)\n",
    "        elif term == \"f\":\n",
    "            f = self.f\n",
    "            f0 = f * v * dx\n",
    "            return (f0,)\n",
    "        elif term == \"dirichlet_bc\":\n",
    "            bc0 = [DirichletBC(self.V, Constant(0.0), self.boundaries, 1),\n",
    "                   DirichletBC(self.V, Constant(0.0), self.boundaries, 2),\n",
    "                   DirichletBC(self.V, Constant(0.0), self.boundaries, 3)]\n",
    "            return (bc0,)\n",
    "        elif term == \"inner_product\":\n",
    "            u = self.u\n",
    "            x0 = inner(grad(u), grad(v)) * dx\n",
    "            return (x0,)\n",
    "        else:\n",
    "            raise ValueError(\"Invalid term for assemble_operator().\")"
   ]
  },
  {
   "cell_type": "markdown",
   "metadata": {},
   "source": [
    "## 4. Main program\n",
    "### 4.1. Read the mesh for this problem\n",
    "The mesh was generated by the [data/generate_mesh.ipynb](data/generate_mesh.ipynb) notebook."
   ]
  },
  {
   "cell_type": "code",
   "execution_count": 3,
   "metadata": {},
   "outputs": [],
   "source": [
    "mesh = Mesh(\"data/gaussian.xml\")\n",
    "subdomains = MeshFunction(\"size_t\", mesh, \"data/gaussian_physical_region.xml\")\n",
    "boundaries = MeshFunction(\"size_t\", mesh, \"data/gaussian_facet_region.xml\")"
   ]
  },
  {
   "cell_type": "markdown",
   "metadata": {},
   "source": [
    "### 4.2. Create Finite Element space (Lagrange P1)"
   ]
  },
  {
   "cell_type": "code",
   "execution_count": 4,
   "metadata": {},
   "outputs": [],
   "source": [
    "V = FunctionSpace(mesh, \"Lagrange\", 1)"
   ]
  },
  {
   "cell_type": "markdown",
   "metadata": {},
   "source": [
    "### 4.3. Allocate an object of the Gaussian class"
   ]
  },
  {
   "cell_type": "code",
   "execution_count": 5,
   "metadata": {},
   "outputs": [],
   "source": [
    "problem = Gaussian(V, subdomains=subdomains, boundaries=boundaries)\n",
    "mu_range = [(-1.0, 1.0), (-1.0, 1.0)]\n",
    "problem.set_mu_range(mu_range)"
   ]
  },
  {
   "cell_type": "markdown",
   "metadata": {},
   "source": [
    "### 4.4. Prepare reduction with a reduced basis method"
   ]
  },
  {
   "cell_type": "code",
   "execution_count": 6,
   "metadata": {},
   "outputs": [],
   "source": [
    "reduction_method = ReducedBasis(problem)\n",
    "reduction_method.set_Nmax(20, DEIM=21)\n",
    "reduction_method.set_tolerance(1e-4, DEIM=1e-8)"
   ]
  },
  {
   "cell_type": "markdown",
   "metadata": {},
   "source": [
    "### 4.5. Perform the offline phase"
   ]
  },
  {
   "cell_type": "markdown",
   "metadata": {},
   "source": [
    "#### 4.5.1 Fit Reduction Method"
   ]
  },
  {
   "cell_type": "code",
   "execution_count": 7,
   "metadata": {},
   "outputs": [],
   "source": [
    "reduction_method.initialize_training_set(100, DEIM=60)\n",
    "reduced_problem = reduction_method.offline()"
   ]
  },
  {
   "cell_type": "markdown",
   "metadata": {},
   "source": [
    "#### 4.5.2 Train PINN\n",
    "\n",
    "Given a training set $X_{PINN} = (\\boldsymbol{\\mu}^{(1)}, \\dots, \\boldsymbol{\\mu}^{(n)})$ of parameters for the PDE, we train a Physics-Informed Neural Network (PINN) $\\operatorname{N}_W(\\boldsymbol{\\mu})$ dependent on the weights and biases $W$ of the network to minimize the loss function\n",
    "\n",
    "$$L_{PINN}(X_{PINN}; W) = \\frac1n \\sum_{i=1}^n \\|A(\\boldsymbol{\\mu^{(i)}}) \\operatorname{N}_W(\\boldsymbol{\\mu}^{(i)}) - \\boldsymbol{f}(\\boldsymbol{\\mu}^{(i)})\\|_2^2$$\n",
    "\n",
    "over $W$, where for a given $\\boldsymbol{\\mu}$, $A(\\boldsymbol{\\mu})$ is the assembled matrix corresponding to the pull back of $a_o$ and $\\boldsymbol{f}(\\boldsymbol{\\mu})$ is the assembled vector corresponding to the pull back of $f_o$."
   ]
  },
  {
   "cell_type": "code",
   "execution_count": 13,
   "metadata": {},
   "outputs": [],
   "source": [
    "# build matrices for computing DEIM\n",
    "selected_indices = sorted([idx[0] for idx in problem.DEIM_approximations['f'][0].interpolation_locations.get_dofs_list()])\n",
    "U = np.array(problem._assemble_operator_DEIM('f')).T\n",
    "P = []\n",
    "for idx in selected_indices:\n",
    "    new_column = np.zeros(U.shape[0])\n",
    "    new_column[idx] = 1\n",
    "    P.append(new_column)\n",
    "P = np.array(P).T\n",
    "PtUinv = np.linalg.inv(P.T @ U)"
   ]
  },
  {
   "cell_type": "code",
   "execution_count": 33,
   "metadata": {},
   "outputs": [],
   "source": [
    "# Note that this is f, not c! Code in MLniCS probably needs to change...\n",
    "selected_indices = sorted([idx[0] for idx in problem.DEIM_approximations['f'][0].interpolation_locations.get_dofs_list()])\n",
    "dofs_locs = torch.tensor(V.tabulate_dof_coordinates()[selected_indices])\n",
    "dx_test = torch.tensor(np.array(assemble(problem.v*dx))[selected_indices].reshape(-1, 1))\n",
    "\n",
    "def DEIM_nonlinearity(mu):\n",
    "    \"\"\"\n",
    "    mu: torch.tensor with shape (number of samples, number of parameters)\n",
    "    \"\"\"\n",
    "    res = torch.exp(-2 * ((dofs_locs[:, 0].reshape(-1, 1) - mu[:, 0].view(1, -1))**2 + (dofs_locs[:, 1].reshape(-1, 1) - mu[:, 1].view(1, -1))**2))\n",
    "    return torch.matmul(torch.tensor(PtUinv[:, :]), dx_test * res)"
   ]
  },
  {
   "cell_type": "code",
   "execution_count": 35,
   "metadata": {},
   "outputs": [],
   "source": [
    "input_normalization_pinn = Normalization.StandardNormalization(input_normalization=True)\n",
    "output_normalization_pinn = Normalization.StandardNormalization()\n",
    "\n",
    "pinn_net  = NN.RONN(\"PINN\", problem, reduction_method, n_hidden=2, n_neurons=40)\n",
    "pinn_loss = Losses.PINN_Loss(pinn_net, output_normalization_pinn, DEIM_func_f=DEIM_nonlinearity)\n",
    "data      = RONNData.RONNDataLoader(pinn_net, validation_proportion=0.2, \n",
    "                                    num_without_snapshots=100)\n",
    "optimizer = torch.optim.Adam(pinn_net.parameters(), lr=0.001)\n",
    "scheduler = None\n",
    "\n",
    "pinn_trainer = Training.PINNTrainer(\n",
    "    pinn_net, data, pinn_loss, optimizer, scheduler,\n",
    "    input_normalization_pinn, num_epochs=10000\n",
    ")\n",
    "\n",
    "loaded, starting_epoch = IO.initialize_parameters(\n",
    "    pinn_net, data, pinn_trainer, optimizer\n",
    ")"
   ]
  },
  {
   "cell_type": "code",
   "execution_count": 36,
   "metadata": {
    "scrolled": true
   },
   "outputs": [
    {
     "name": "stdout",
     "output_type": "stream",
     "text": [
      "Operator 's' not implemented. Continuing without operator 's'...\n",
      "Operator 's' not implemented. Continuing without operator 's'...\n",
      "0 0.024847619214054907 \tLoss(validation) = 0.02457328878753775\n",
      "100 0.007984694054767127 \tLoss(validation) = 0.006930649341527234\n",
      "200 0.0023385924410409217 \tLoss(validation) = 0.0022647036608073605\n",
      "300 0.0011973609621856 \tLoss(validation) = 0.0012828579957303264\n",
      "400 0.0007032110661724653 \tLoss(validation) = 0.0008271428266397775\n",
      "500 0.00040036121064886463 \tLoss(validation) = 0.0005403490593494696\n",
      "600 0.00024931527671646973 \tLoss(validation) = 0.0003855546013757814\n",
      "700 0.00016947599779696003 \tLoss(validation) = 0.0002939784918441147\n",
      "800 0.00012392148884315693 \tLoss(validation) = 0.00023597161419766977\n",
      "900 9.591500857337998e-05 \tLoss(validation) = 0.00019689726245515924\n",
      "1000 7.705917978477602e-05 \tLoss(validation) = 0.00016842757075332797\n",
      "1100 6.335261088654789e-05 \tLoss(validation) = 0.00014622377123027556\n",
      "1200 5.293390578821229e-05 \tLoss(validation) = 0.0001281897737334009\n",
      "1300 4.4816136853338184e-05 \tLoss(validation) = 0.00011321537130042384\n",
      "1400 3.837916523716517e-05 \tLoss(validation) = 0.00010062648595518165\n",
      "1500 3.3191215771764335e-05 \tLoss(validation) = 8.994698641290289e-05\n",
      "1600 2.8940668131534044e-05 \tLoss(validation) = 8.080511568045723e-05\n",
      "1700 2.540225945325585e-05 \tLoss(validation) = 7.290845903974326e-05\n",
      "1800 2.241533202292127e-05 \tLoss(validation) = 6.603794967748237e-05\n",
      "1900 1.9867118712070984e-05 \tLoss(validation) = 6.0039137730363626e-05\n",
      "2000 1.767843315487088e-05 \tLoss(validation) = 5.4804386473873465e-05\n",
      "2100 1.5791825459110413e-05 \tLoss(validation) = 5.0249630948063964e-05\n",
      "2200 1.4162585848888317e-05 \tLoss(validation) = 4.6297819820266646e-05\n",
      "2300 1.2753313293552762e-05 \tLoss(validation) = 4.287253600009954e-05\n",
      "2400 1.1531420382724938e-05 \tLoss(validation) = 3.98976069890049e-05\n",
      "2500 1.0468236539716049e-05 \tLoss(validation) = 3.730154993438652e-05\n",
      "2600 9.538860699128011e-06 \tLoss(validation) = 3.502005078829516e-05\n",
      "2700 8.722038053066527e-06 \tLoss(validation) = 3.299820889875291e-05\n",
      "2800 7.999989720714834e-06 \tLoss(validation) = 3.119034261575467e-05\n",
      "2900 7.35799850059423e-06 \tLoss(validation) = 2.955951725364408e-05\n",
      "3000 6.783957752429851e-06 \tLoss(validation) = 2.8076259614609504e-05\n",
      "3100 6.2679786750123885e-06 \tLoss(validation) = 2.671690792074108e-05\n",
      "3200 5.805343613851855e-06 \tLoss(validation) = 2.5474127953775834e-05\n",
      "3300 5.386655532417214e-06 \tLoss(validation) = 2.4323588240751825e-05\n",
      "3400 5.008746840028153e-06 \tLoss(validation) = 2.325466073729029e-05\n",
      "3500 4.661778724311589e-06 \tLoss(validation) = 2.226925095915476e-05\n",
      "3600 4.359024940598921e-06 \tLoss(validation) = 2.1374449585177205e-05\n",
      "3700 4.058539834987861e-06 \tLoss(validation) = 2.0482005280143447e-05\n",
      "3800 3.815792243914857e-06 \tLoss(validation) = 1.966208321869895e-05\n",
      "3900 3.5530379896834728e-06 \tLoss(validation) = 1.8914837960649375e-05\n",
      "4000 3.49119680220537e-06 \tLoss(validation) = 1.827063249725725e-05\n",
      "4100 3.1275607143780295e-06 \tLoss(validation) = 1.7532316094304493e-05\n",
      "4200 2.9396146659472e-06 \tLoss(validation) = 1.6894652704152273e-05\n",
      "4300 2.7696755596332426e-06 \tLoss(validation) = 1.6329943762636426e-05\n",
      "4400 2.6101322614527262e-06 \tLoss(validation) = 1.574838637491967e-05\n",
      "4500 2.463327080954866e-06 \tLoss(validation) = 1.5215170533459203e-05\n",
      "4600 2.3364449446625743e-06 \tLoss(validation) = 1.4692296287212932e-05\n",
      "4700 2.203516198482121e-06 \tLoss(validation) = 1.4249034949156316e-05\n",
      "4800 2.1778420481456653e-06 \tLoss(validation) = 1.4110103456392603e-05\n",
      "4900 1.9805764623226523e-06 \tLoss(validation) = 1.3392499204851313e-05\n",
      "5000 1.8808873892262577e-06 \tLoss(validation) = 1.2995369327345098e-05\n",
      "5100 1.8140716320013478e-06 \tLoss(validation) = 1.2839375813843704e-05\n",
      "5200 1.7029658752168947e-06 \tLoss(validation) = 1.2285610531529421e-05\n",
      "5300 1.6226095019430244e-06 \tLoss(validation) = 1.1958010261809914e-05\n",
      "5400 1.5849996982702722e-06 \tLoss(validation) = 1.1764908493554372e-05\n",
      "5500 1.4784549355160027e-06 \tLoss(validation) = 1.137317187397975e-05\n",
      "5600 1.4152704795339914e-06 \tLoss(validation) = 1.1127194227462083e-05\n",
      "5700 1.3533337315580102e-06 \tLoss(validation) = 1.0846394296258459e-05\n",
      "5800 2.6120706524785946e-06 \tLoss(validation) = 1.1394556738077545e-05\n",
      "5900 1.2427893383655882e-06 \tLoss(validation) = 1.0409359087913946e-05\n",
      "6000 1.1941336868888782e-06 \tLoss(validation) = 1.0198409966350066e-05\n",
      "6100 1.9349518336608413e-06 \tLoss(validation) = 1.1345070316800877e-05\n",
      "6200 1.1031738697965219e-06 \tLoss(validation) = 9.858445916310181e-06\n",
      "6300 1.0702479952250406e-06 \tLoss(validation) = 9.619145690891245e-06\n",
      "6400 1.023810047299215e-06 \tLoss(validation) = 9.545395346202025e-06\n",
      "6500 1.0097954643641447e-06 \tLoss(validation) = 9.468486713977025e-06\n",
      "6600 9.823995990441317e-07 \tLoss(validation) = 9.153354244707915e-06\n",
      "6700 9.212753391000985e-07 \tLoss(validation) = 9.141537411057314e-06\n",
      "6800 1.862354779763812e-06 \tLoss(validation) = 1.0048359915543962e-05\n",
      "6900 1.5626708923292817e-06 \tLoss(validation) = 9.722834425009279e-06\n",
      "7000 8.35523702816064e-07 \tLoss(validation) = 8.788597086821566e-06\n",
      "7100 8.113827707657967e-07 \tLoss(validation) = 8.669164900136143e-06\n",
      "7200 1.8748197528471603e-06 \tLoss(validation) = 8.972272506001174e-06\n",
      "7300 7.644268749542672e-07 \tLoss(validation) = 8.517809856062762e-06\n",
      "7400 7.41218981268705e-07 \tLoss(validation) = 8.413892525508187e-06\n",
      "7500 7.212497431876609e-07 \tLoss(validation) = 8.342735033829598e-06\n",
      "7600 1.185794762542201e-06 \tLoss(validation) = 8.65025837261012e-06\n",
      "7700 6.901361017400366e-07 \tLoss(validation) = 8.203314185346594e-06\n",
      "7800 6.648859242092332e-07 \tLoss(validation) = 8.113709340521105e-06\n",
      "7900 6.510482821966046e-07 \tLoss(validation) = 8.086996962989367e-06\n",
      "8000 6.322942552913161e-07 \tLoss(validation) = 7.983144766966946e-06\n",
      "8100 8.150765544062566e-07 \tLoss(validation) = 7.746232764428446e-06\n",
      "8200 6.025101201282566e-07 \tLoss(validation) = 7.855775830524289e-06\n",
      "8300 6.025394232175868e-07 \tLoss(validation) = 7.70033117949927e-06\n",
      "8400 6.333596675780665e-07 \tLoss(validation) = 7.726028261841105e-06\n",
      "8500 6.513055370195638e-07 \tLoss(validation) = 7.914652201861618e-06\n",
      "8600 5.500496522283874e-07 \tLoss(validation) = 7.623139162523419e-06\n",
      "8700 5.43380372975529e-07 \tLoss(validation) = 7.616879430383174e-06\n",
      "8800 5.32397250044599e-07 \tLoss(validation) = 7.47443190144292e-06\n",
      "8900 1.0396821319302222e-06 \tLoss(validation) = 7.481850073443552e-06\n",
      "9000 5.058488052889073e-07 \tLoss(validation) = 7.4327521065474144e-06\n",
      "9100 4.976356728258658e-07 \tLoss(validation) = 7.396705164358076e-06\n",
      "9200 4.866638982399151e-07 \tLoss(validation) = 7.365915376111935e-06\n",
      "9300 7.446075650647683e-07 \tLoss(validation) = 7.123681047039017e-06\n",
      "9400 4.677387317497714e-07 \tLoss(validation) = 7.257120010418109e-06\n",
      "9500 4.600568664589081e-07 \tLoss(validation) = 7.254207556903138e-06\n",
      "9600 4.733872166208975e-07 \tLoss(validation) = 7.139775404306718e-06\n",
      "9700 4.427793757705033e-07 \tLoss(validation) = 7.144930087246396e-06\n",
      "9800 2.023691161800426e-06 \tLoss(validation) = 8.821627377428794e-06\n",
      "9900 4.2755487372999505e-07 \tLoss(validation) = 7.078288350307453e-06\n"
     ]
    },
    {
     "data": {
      "text/plain": [
       "<mlnics.Losses.PINN_Loss at 0x1321ff5e0>"
      ]
     },
     "execution_count": 36,
     "metadata": {},
     "output_type": "execute_result"
    }
   ],
   "source": [
    "pinn_trainer.train()"
   ]
  },
  {
   "cell_type": "code",
   "execution_count": 37,
   "metadata": {
    "scrolled": true
   },
   "outputs": [
    {
     "data": {
      "image/png": "[encoded data removed]",
      "text/plain": [
       "<Figure size 432x288 with 1 Axes>"
      ]
     },
     "metadata": {
      "needs_background": "light"
     },
     "output_type": "display_data"
    }
   ],
   "source": [
    "fig, ax = Training.plot_loss(pinn_trainer, pinn_net)"
   ]
  },
  {
   "cell_type": "markdown",
   "metadata": {},
   "source": [
    "#### 4.5.3 Train PDNN\n",
    "\n",
    "Given a training set $X_{PDNN} = ((\\boldsymbol{\\mu}^{(1)}, \\operatorname{HF}(\\boldsymbol{\\mu}^{(1)})), \\dots, (\\boldsymbol{\\mu}^{(n)}, \\operatorname{HF}(\\boldsymbol{\\mu}^{(n)})))$ of parameter and high fidelity solution pairs for the PDE, we train a Projection-Driven Neural Network (PDNN) $\\operatorname{N}_W(\\boldsymbol{\\mu})$ dependent on the weights and biases $W$ of the network to minimize the loss function\n",
    "$$L_{PDNN}(X_{PDNN}; W) = \\frac1n \\sum_{i=1}^n \\|\\operatorname{N}_W(\\boldsymbol{\\mu}^{(i)}) - \\tilde{\\operatorname{HF}}(\\boldsymbol{\\mu}^{(i)})\\|_2^2,$$\n",
    "where for a given $\\boldsymbol{\\mu}$, $\\tilde{\\operatorname{HF}}(\\boldsymbol{\\mu})$ is the projection of $\\operatorname{HF}(\\boldsymbol{\\mu})$ onto the reduced order solution space."
   ]
  },
  {
   "cell_type": "code",
   "execution_count": null,
   "metadata": {},
   "outputs": [],
   "source": [
    "input_normalization_pdnn = Normalization.StandardNormalization(input_normalization=True)\n",
    "output_normalization_pdnn = Normalization.StandardNormalization()\n",
    "\n",
    "pdnn_net  = NN.RONN(\"PDNN\", problem, reduction_method, n_hidden=2, n_neurons=40)\n",
    "pdnn_loss = Losses.PDNN_Loss(pdnn_net, output_normalization_pdnn)\n",
    "data      = RONNData.RONNDataLoader(pdnn_net, validation_proportion=0.2)\n",
    "optimizer = torch.optim.Adam(pdnn_net.parameters(), lr=0.001)\n",
    "\n",
    "pdnn_trainer = Training.PDNNTrainer(\n",
    "    pdnn_net, data, pdnn_loss, optimizer,\n",
    "    input_normalization_pdnn, num_epochs=10000\n",
    ")\n",
    "\n",
    "loaded, starting_epoch = IO.initialize_parameters(\n",
    "    pdnn_net, data, pdnn_trainer, optimizer\n",
    ")"
   ]
  },
  {
   "cell_type": "code",
   "execution_count": null,
   "metadata": {
    "scrolled": true
   },
   "outputs": [],
   "source": [
    "pdnn_trainer.train()"
   ]
  },
  {
   "cell_type": "code",
   "execution_count": null,
   "metadata": {},
   "outputs": [],
   "source": [
    "fig, ax = Training.plot_loss(pdnn_trainer, pdnn_net)"
   ]
  },
  {
   "cell_type": "markdown",
   "metadata": {},
   "source": [
    "#### 4.5.4 Train PRNN\n",
    "\n",
    "We train a Physics-Reinforced Neural Network (PRNN) $N_W(\\boldsymbol{\\mu})$ dependnent on the weights and biases $W$ of the network to minimize the loss function\n",
    "\n",
    "$$L_{PRNN}(X_{PINN}, X_{PDNN}; W) = L_{PINN}(X_{PINN}; W) + \\omega L_{PDNN}(X_{PDNN}; W)$$\n",
    "\n",
    "where $\\omega$ is a scaling parameter which can be chosen freely."
   ]
  },
  {
   "cell_type": "code",
   "execution_count": null,
   "metadata": {},
   "outputs": [],
   "source": [
    "input_normalization_prnn = Normalization.StandardNormalization(input_normalization=True)\n",
    "output_normalization_prnn = Normalization.StandardNormalization()\n",
    "\n",
    "omega = 1.\n",
    "prnn_net  = NN.RONN(f\"PRNN_{omega}\", problem, reduction_method, n_hidden=2, n_neurons=40)\n",
    "prnn_loss = Losses.PRNN_Loss(prnn_net, output_normalization_prnn, omega=omega)\n",
    "data      = RONNData.RONNDataLoader(prnn_net, validation_proportion=0.2,\n",
    "                                    num_without_snapshots=100)\n",
    "optimizer = torch.optim.Adam(prnn_net.parameters(), lr=0.001)\n",
    "\n",
    "prnn_trainer = Training.PRNNTrainer(\n",
    "    prnn_net, data, prnn_loss, optimizer,\n",
    "    input_normalization_prnn, num_epochs=10000\n",
    ")\n",
    "\n",
    "loaded, starting_epoch = IO.initialize_parameters(\n",
    "    prnn_net, data, prnn_trainer, optimizer\n",
    ")"
   ]
  },
  {
   "cell_type": "code",
   "execution_count": null,
   "metadata": {
    "scrolled": true
   },
   "outputs": [],
   "source": [
    "prnn_trainer.train()"
   ]
  },
  {
   "cell_type": "code",
   "execution_count": null,
   "metadata": {},
   "outputs": [],
   "source": [
    "fig, ax = Training.plot_loss(prnn_trainer, prnn_net, separate=True)"
   ]
  },
  {
   "cell_type": "markdown",
   "metadata": {},
   "source": [
    "### 4.6. Perform an error analysis"
   ]
  },
  {
   "cell_type": "markdown",
   "metadata": {},
   "source": [
    "#### 4.6.1 Reduction Method Error Analysis"
   ]
  },
  {
   "cell_type": "code",
   "execution_count": 38,
   "metadata": {
    "scrolled": true
   },
   "outputs": [
    {
     "data": {
      "text/plain": [
       "False"
      ]
     },
     "execution_count": 38,
     "metadata": {},
     "output_type": "execute_result"
    }
   ],
   "source": [
    "reduction_method.initialize_testing_set(50, DEIM=60)\n",
    "#reduction_method.error_analysis(filename=\"error_analysis\")"
   ]
  },
  {
   "cell_type": "markdown",
   "metadata": {},
   "source": [
    "#### 4.6.2 PINN Error Analysis"
   ]
  },
  {
   "cell_type": "code",
   "execution_count": 39,
   "metadata": {},
   "outputs": [],
   "source": [
    "test_mu = torch.tensor(reduction_method.testing_set)"
   ]
  },
  {
   "cell_type": "code",
   "execution_count": 40,
   "metadata": {},
   "outputs": [
    {
     "name": "stdout",
     "output_type": "stream",
     "text": [
      "#################################### N = 20 ####################################\n",
      "ERROR\tNN-HF\t\t\tNN-RO\t\t\tRO-HF\n",
      "min\t0.005285729638431327\t0.005285779194127171\t0.0022714087539158173\n",
      "mean\t0.01495138995019601\t0.012089854314728374\t0.007933275228882928\n",
      "max\t0.06621248468027635\t0.040254669719136736\t0.06251960932928137\n"
     ]
    }
   ],
   "source": [
    "_ = ErrorAnalysis.error_analysis_fixed_net(\n",
    "    pinn_net, test_mu, input_normalization_pinn, output_normalization_pinn, relative=True\n",
    ")"
   ]
  },
  {
   "cell_type": "code",
   "execution_count": null,
   "metadata": {},
   "outputs": [],
   "source": [
    "ErrorAnalysis.plot_solution_difference(\n",
    "    pinn_net, (0.3, -1.0), input_normalization_pinn, output_normalization_pinn\n",
    ")"
   ]
  },
  {
   "cell_type": "markdown",
   "metadata": {},
   "source": [
    "#### 4.6.3 PDNN Error Analysis"
   ]
  },
  {
   "cell_type": "code",
   "execution_count": null,
   "metadata": {},
   "outputs": [],
   "source": [
    "_ = ErrorAnalysis.error_analysis_fixed_net(\n",
    "    pdnn_net, test_mu, input_normalization_pdnn, output_normalization_pdnn\n",
    ")"
   ]
  },
  {
   "cell_type": "code",
   "execution_count": null,
   "metadata": {},
   "outputs": [],
   "source": [
    "ErrorAnalysis.plot_solution_difference(\n",
    "    pdnn_net, (0.3, -1.0), input_normalization_pdnn, output_normalization_pdnn\n",
    ")"
   ]
  },
  {
   "cell_type": "markdown",
   "metadata": {},
   "source": [
    "#### 4.6.4 PRNN Error Analysis"
   ]
  },
  {
   "cell_type": "code",
   "execution_count": null,
   "metadata": {},
   "outputs": [],
   "source": [
    "_ = ErrorAnalysis.error_analysis_fixed_net(\n",
    "    prnn_net, test_mu, input_normalization_prnn, output_normalization_prnn\n",
    ")"
   ]
  },
  {
   "cell_type": "code",
   "execution_count": null,
   "metadata": {},
   "outputs": [],
   "source": [
    "ErrorAnalysis.plot_solution_difference(\n",
    "    prnn_net, (0.3, -1.0), input_normalization_prnn, output_normalization_prnn\n",
    ")"
   ]
  },
  {
   "cell_type": "markdown",
   "metadata": {},
   "source": [
    "#### 4.6.5 Neural Network Error Comparison"
   ]
  },
  {
   "cell_type": "code",
   "execution_count": null,
   "metadata": {},
   "outputs": [],
   "source": [
    "nets = dict()\n",
    "nets[\"pinn_net\"] = pinn_net\n",
    "nets[\"pdnn_net\"] = pdnn_net\n",
    "nets[\"prnn_net\"] = prnn_net\n",
    "\n",
    "input_normalizations = dict()\n",
    "input_normalizations[\"pinn_net\"] = input_normalization_pinn\n",
    "input_normalizations[\"pdnn_net\"] = input_normalization_pdnn\n",
    "input_normalizations[\"prnn_net\"] = input_normalization_prnn\n",
    "\n",
    "output_normalizations = dict()\n",
    "output_normalizations[\"pinn_net\"] = output_normalization_pinn\n",
    "output_normalizations[\"pdnn_net\"] = output_normalization_pdnn\n",
    "output_normalizations[\"prnn_net\"] = output_normalization_prnn\n",
    "\n",
    "_ = ErrorAnalysis.error_analysis_by_network(\n",
    "    nets, test_mu, input_normalizations, output_normalizations, euclidean=False\n",
    ")"
   ]
  },
  {
   "cell_type": "code",
   "execution_count": null,
   "metadata": {},
   "outputs": [],
   "source": []
  }
 ],
 "metadata": {
  "kernelspec": {
   "display_name": "Python 3 (ipykernel)",
   "language": "python",
   "name": "python3"
  },
  "language_info": {
   "codemirror_mode": {
    "name": "ipython",
    "version": 3
   },
   "file_extension": ".py",
   "mimetype": "text/x-python",
   "name": "python",
   "nbconvert_exporter": "python",
   "pygments_lexer": "ipython3",
   "version": "3.10.4"
  }
 },
 "nbformat": 4,
 "nbformat_minor": 2
}
