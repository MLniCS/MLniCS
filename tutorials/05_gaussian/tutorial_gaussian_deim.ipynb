{
 "cells": [
  {
   "cell_type": "markdown",
   "metadata": {},
   "source": [
    "## TUTORIAL 05 - Discrete Empirical Interpolation Method for non-affine elliptic problems\n",
    "**_Keywords: discrete empirical interpolation method_**\n",
    "\n",
    "### 1. Introduction\n",
    "In this Tutorial, we consider steady heat conduction in a two-dimensional square domain $\\Omega = (-1, 1)^2$.\n",
    "The boundary $\\partial\\Omega$ is kept at a reference temperature (say, zero). The conductivity coefficient is fixed to 1, while the heat source is characterized by the following expression\n",
    "$$\n",
    "g(\\boldsymbol{x}; \\boldsymbol{\\mu}) = \\exp\\{ -2 (x_0-\\mu_0)^2 - 2 (x_1 - \\mu_1)^2\\} \\quad \\forall \\boldsymbol{x} = (x_0, x_1) \\in \\Omega.\n",
    "$$\n",
    "\n",
    "The parameter vector $\\boldsymbol{\\mu}$, given by \n",
    "$$\n",
    "\\boldsymbol{\\mu} = (\\mu_0,\\mu_1)\n",
    "$$\n",
    "affects the center of the Gaussian source $g(\\boldsymbol{x}; \\boldsymbol{\\mu})$, which could be located at any point $\\Omega$. Thus, the parameter domain is\n",
    "$$\n",
    "\\mathbb{P}=[-1,1]^2.\n",
    "$$\n",
    "\n",
    "In order to obtain a faster evaluation (yet, provably accurate) of the problem we propose to use a certified reduced basis approximation for the problem. In order to preserve the affinity assumption (for the sake of performance) the discrete empirical interpolation method will be used on the forcing term $g(\\boldsymbol{x}; \\boldsymbol{\\mu})$."
   ]
  },
  {
   "cell_type": "markdown",
   "metadata": {},
   "source": [
    "### 2. Parametrized formulation\n",
    "\n",
    "Let $u(\\boldsymbol{\\mu})$ be the temperature in the domain $\\Omega$.\n",
    "\n",
    "We will directly provide a weak formulation for this problem: for a given parameter $\\boldsymbol{\\mu}\\in\\mathbb{P}$, find $u(\\boldsymbol{\\mu})\\in\\mathbb{V}$ such that\n",
    "\n",
    "$$a\\left(u(\\boldsymbol{\\mu}),v;\\boldsymbol{\\mu}\\right)=f(v;\\boldsymbol{\\mu})\\quad \\forall v\\in\\mathbb{V}$$\n",
    "\n",
    "where\n",
    "\n",
    "* the function space $\\mathbb{V}$ is defined as\n",
    "$$\n",
    "\\mathbb{V} = \\left\\{ v \\in H^1(\\Omega(\\mu_0)): v|_{\\partial\\Omega} = 0\\right\\}\n",
    "$$\n",
    "Note that, as in the previous tutorial, the function space is parameter dependent due to the shape variation. \n",
    "* the parametrized bilinear form $a(\\cdot, \\cdot; \\boldsymbol{\\mu}): \\mathbb{V} \\times \\mathbb{V} \\to \\mathbb{R}$ is defined by\n",
    "$$a(u,v;\\boldsymbol{\\mu}) = \\int_{\\Omega} \\nabla u \\cdot \\nabla v \\ d\\boldsymbol{x}$$\n",
    "* the parametrized linear form $f(\\cdot; \\boldsymbol{\\mu}): \\mathbb{V} \\to \\mathbb{R}$ is defined by\n",
    "$$f(v;\\boldsymbol{\\mu}) = \\int_\\Omega g(\\boldsymbol{\\mu}) v  \\ d\\boldsymbol{x}.$$"
   ]
  },
  {
   "cell_type": "code",
   "execution_count": 1,
   "metadata": {},
   "outputs": [],
   "source": [
    "import os\n",
    "import sys\n",
    "sys.path.append('../../')\n",
    "\n",
    "from mlnics import NN, Losses, Normalization, RONNData, IO, Training, ErrorAnalysis\n",
    "from dolfin import *\n",
    "from rbnics import *\n",
    "import torch\n",
    "import numpy as np\n",
    "\n",
    "torch.manual_seed(0)\n",
    "np.random.seed(0)"
   ]
  },
  {
   "cell_type": "markdown",
   "metadata": {},
   "source": [
    "## 3. Affine decomposition\n",
    "\n",
    "The parametrized bilinear form $a(\\cdot, \\cdot; \\boldsymbol{\\mu})$ is trivially affine.\n",
    "The discrete empirical interpolation method will be used on the forcing term $g(\\boldsymbol{x}; \\boldsymbol{\\mu})$ to obtain an efficient (approximately affine) expansion of $f(\\cdot; \\boldsymbol{\\mu})$."
   ]
  },
  {
   "cell_type": "code",
   "execution_count": 2,
   "metadata": {},
   "outputs": [],
   "source": [
    "@DEIM()\n",
    "class Gaussian(EllipticCoerciveProblem):\n",
    "\n",
    "    # Default initialization of members\n",
    "    def __init__(self, V, **kwargs):\n",
    "        # Call the standard initialization\n",
    "        EllipticCoerciveProblem.__init__(self, V, **kwargs)\n",
    "        # ... and also store FEniCS data structures for assembly\n",
    "        assert \"subdomains\" in kwargs\n",
    "        assert \"boundaries\" in kwargs\n",
    "        self.subdomains, self.boundaries = kwargs[\"subdomains\"], kwargs[\"boundaries\"]\n",
    "        self.u = TrialFunction(V)\n",
    "        self.v = TestFunction(V)\n",
    "        self.dx = Measure(\"dx\")(subdomain_data=subdomains)\n",
    "        self.f = ParametrizedExpression(\n",
    "            self, \"exp(- 2 * pow(x[0] - mu[0], 2) - 2 * pow(x[1] - mu[1], 2))\", mu=(0., 0.),\n",
    "            element=V.ufl_element())\n",
    "        # note that we cannot use self.mu in the initialization of self.f, because self.mu has not been initialized yet\n",
    "\n",
    "    # Return custom problem name\n",
    "    def name(self):\n",
    "        return \"GaussianDEIM\"\n",
    "\n",
    "    # Return the alpha_lower bound.\n",
    "    def get_stability_factor_lower_bound(self):\n",
    "        return 1.\n",
    "\n",
    "    # Return theta multiplicative terms of the affine expansion of the problem.\n",
    "    def compute_theta(self, term):\n",
    "        if term == \"a\":\n",
    "            return (1.,)\n",
    "        elif term == \"f\":\n",
    "            return (1.,)\n",
    "        else:\n",
    "            raise ValueError(\"Invalid term for compute_theta().\")\n",
    "\n",
    "    # Return forms resulting from the discretization of the affine expansion of the problem operators.\n",
    "    def assemble_operator(self, term):\n",
    "        v = self.v\n",
    "        dx = self.dx\n",
    "        if term == \"a\":\n",
    "            u = self.u\n",
    "            a0 = inner(grad(u), grad(v)) * dx\n",
    "            return (a0,)\n",
    "        elif term == \"f\":\n",
    "            f = self.f\n",
    "            f0 = f * v * dx\n",
    "            return (f0,)\n",
    "        elif term == \"dirichlet_bc\":\n",
    "            bc0 = [DirichletBC(self.V, Constant(0.0), self.boundaries, 1),\n",
    "                   DirichletBC(self.V, Constant(0.0), self.boundaries, 2),\n",
    "                   DirichletBC(self.V, Constant(0.0), self.boundaries, 3)]\n",
    "            return (bc0,)\n",
    "        elif term == \"inner_product\":\n",
    "            u = self.u\n",
    "            x0 = inner(grad(u), grad(v)) * dx\n",
    "            return (x0,)\n",
    "        else:\n",
    "            raise ValueError(\"Invalid term for assemble_operator().\")"
   ]
  },
  {
   "cell_type": "markdown",
   "metadata": {},
   "source": [
    "## 4. Main program\n",
    "### 4.1. Read the mesh for this problem\n",
    "The mesh was generated by the [data/generate_mesh.ipynb](data/generate_mesh.ipynb) notebook."
   ]
  },
  {
   "cell_type": "code",
   "execution_count": 3,
   "metadata": {},
   "outputs": [],
   "source": [
    "mesh = Mesh(\"data/gaussian.xml\")\n",
    "subdomains = MeshFunction(\"size_t\", mesh, \"data/gaussian_physical_region.xml\")\n",
    "boundaries = MeshFunction(\"size_t\", mesh, \"data/gaussian_facet_region.xml\")"
   ]
  },
  {
   "cell_type": "markdown",
   "metadata": {},
   "source": [
    "### 4.2. Create Finite Element space (Lagrange P1)"
   ]
  },
  {
   "cell_type": "code",
   "execution_count": 4,
   "metadata": {},
   "outputs": [],
   "source": [
    "V = FunctionSpace(mesh, \"Lagrange\", 1)"
   ]
  },
  {
   "cell_type": "markdown",
   "metadata": {},
   "source": [
    "### 4.3. Allocate an object of the Gaussian class"
   ]
  },
  {
   "cell_type": "code",
   "execution_count": 5,
   "metadata": {},
   "outputs": [],
   "source": [
    "problem = Gaussian(V, subdomains=subdomains, boundaries=boundaries)\n",
    "mu_range = [(-1.0, 1.0), (-1.0, 1.0)]\n",
    "problem.set_mu_range(mu_range)"
   ]
  },
  {
   "cell_type": "markdown",
   "metadata": {},
   "source": [
    "### 4.4. Prepare reduction with a reduced basis method"
   ]
  },
  {
   "cell_type": "code",
   "execution_count": 6,
   "metadata": {},
   "outputs": [],
   "source": [
    "reduction_method = ReducedBasis(problem)\n",
    "reduction_method.set_Nmax(20, DEIM=21)\n",
    "reduction_method.set_tolerance(1e-4, DEIM=1e-8)"
   ]
  },
  {
   "cell_type": "markdown",
   "metadata": {},
   "source": [
    "### 4.5. Perform the offline phase"
   ]
  },
  {
   "cell_type": "markdown",
   "metadata": {},
   "source": [
    "#### 4.5.1 Fit Reduction Method"
   ]
  },
  {
   "cell_type": "code",
   "execution_count": 7,
   "metadata": {},
   "outputs": [],
   "source": [
    "reduction_method.initialize_training_set(100, DEIM=60)\n",
    "reduced_problem = reduction_method.offline()"
   ]
  },
  {
   "cell_type": "markdown",
   "metadata": {},
   "source": [
    "#### 4.5.2 Train PINN\n",
    "\n",
    "Given a training set $X_{PINN} = (\\boldsymbol{\\mu}^{(1)}, \\dots, \\boldsymbol{\\mu}^{(n)})$ of parameters for the PDE, we train a Physics-Informed Neural Network (PINN) $\\operatorname{N}_W(\\boldsymbol{\\mu})$ dependent on the weights and biases $W$ of the network to minimize the loss function\n",
    "\n",
    "$$L_{PINN}(X_{PINN}; W) = \\frac1n \\sum_{i=1}^n \\|A(\\boldsymbol{\\mu^{(i)}}) \\operatorname{N}_W(\\boldsymbol{\\mu}^{(i)}) - \\boldsymbol{f}(\\boldsymbol{\\mu}^{(i)})\\|_2^2$$\n",
    "\n",
    "over $W$, where for a given $\\boldsymbol{\\mu}$, $A(\\boldsymbol{\\mu})$ is the assembled matrix corresponding to the pull back of $a_o$ and $\\boldsymbol{f}(\\boldsymbol{\\mu})$ is the assembled vector corresponding to the pull back of $f_o$."
   ]
  },
  {
   "cell_type": "code",
   "execution_count": 8,
   "metadata": {},
   "outputs": [],
   "source": [
    "input_normalization_pinn = Normalization.StandardNormalization(input_normalization=True)\n",
    "output_normalization_pinn = Normalization.StandardNormalization()\n",
    "\n",
    "pinn_net  = NN.RONN(\"PINN\", problem, reduction_method, n_hidden=2, n_neurons=40)\n",
    "pinn_loss = Losses.PINN_Loss(pinn_net, output_normalization_pinn)\n",
    "data      = RONNData.RONNDataLoader(pinn_net, validation_proportion=0.2, \n",
    "                                    num_without_snapshots=100)\n",
    "optimizer = torch.optim.Adam(pinn_net.parameters(), lr=0.001)\n",
    "\n",
    "pinn_trainer = Training.PINNTrainer(\n",
    "    pinn_net, data, pinn_loss, optimizer,\n",
    "    input_normalization_pinn, num_epochs=10000\n",
    ")\n",
    "\n",
    "loaded, starting_epoch = IO.initialize_parameters(\n",
    "    pinn_net, data, pinn_trainer, optimizer\n",
    ")"
   ]
  },
  {
   "cell_type": "code",
   "execution_count": 9,
   "metadata": {
    "scrolled": true
   },
   "outputs": [
    {
     "name": "stdout",
     "output_type": "stream",
     "text": [
      "Operator 's' not implemented. Continuing without operator 's'...\n",
      "Operator 's' not implemented. Continuing without operator 's'...\n",
      "10000 3.372924174674624e-07 \tLoss(validation) = 2.946014008307347e-06\n",
      "10100 3.6752991281343947e-07 \tLoss(validation) = 2.9287940606081462e-06\n",
      "10200 3.174115485901916e-07 \tLoss(validation) = 2.8688705875962624e-06\n",
      "10300 3.0924594631586055e-07 \tLoss(validation) = 2.8306270081592797e-06\n",
      "10400 4.11190532759443e-07 \tLoss(validation) = 2.968766277088881e-06\n",
      "10500 3.285061933928722e-07 \tLoss(validation) = 2.744312069151439e-06\n",
      "10600 2.901059806821479e-07 \tLoss(validation) = 2.7205529739699605e-06\n",
      "10700 3.4357502870464896e-07 \tLoss(validation) = 2.7551109254685666e-06\n",
      "10800 2.8795829739027425e-07 \tLoss(validation) = 2.688698024992067e-06\n",
      "10900 2.8078484540696434e-07 \tLoss(validation) = 2.6261196061936227e-06\n",
      "11000 3.31873353808554e-07 \tLoss(validation) = 2.5663851315907886e-06\n",
      "11100 2.6448825080922416e-07 \tLoss(validation) = 2.5698358561942035e-06\n",
      "11200 2.7876983727789567e-07 \tLoss(validation) = 2.549073147211482e-06\n",
      "11300 3.3747929993434735e-07 \tLoss(validation) = 2.634905221966068e-06\n",
      "11400 4.175153582193692e-07 \tLoss(validation) = 2.6635883494753305e-06\n",
      "11500 3.892546767855086e-07 \tLoss(validation) = 2.5209912190361803e-06\n",
      "11600 2.7628413170462414e-07 \tLoss(validation) = 2.4162196088819585e-06\n",
      "11700 2.3486381833176314e-07 \tLoss(validation) = 2.4239128895104765e-06\n",
      "11800 2.336117008580942e-07 \tLoss(validation) = 2.418995173182472e-06\n",
      "11900 3.098590087678169e-07 \tLoss(validation) = 2.511454493953153e-06\n",
      "12000 2.661578635909452e-07 \tLoss(validation) = 2.430239559447313e-06\n",
      "12100 2.413570235397656e-07 \tLoss(validation) = 2.31723094679583e-06\n",
      "12200 2.3121964242727206e-07 \tLoss(validation) = 2.4064971460929485e-06\n",
      "12300 2.1535188263034162e-07 \tLoss(validation) = 2.311303285173319e-06\n",
      "12400 2.0935452849731633e-07 \tLoss(validation) = 2.2818581163800156e-06\n",
      "12500 3.072988317261959e-07 \tLoss(validation) = 2.367632355658361e-06\n",
      "12600 2.017810504850451e-07 \tLoss(validation) = 2.2431374042174337e-06\n",
      "12700 2.0228782672246523e-07 \tLoss(validation) = 2.2133316678455844e-06\n",
      "12800 1.95648308652701e-07 \tLoss(validation) = 2.216151481844963e-06\n",
      "12900 1.929710883802805e-07 \tLoss(validation) = 2.197747336593111e-06\n",
      "13000 1.9631522832488462e-07 \tLoss(validation) = 2.20928527790917e-06\n",
      "13100 2.740814298740051e-07 \tLoss(validation) = 2.4025421767228693e-06\n",
      "13200 1.8516181645227996e-07 \tLoss(validation) = 2.157495958036794e-06\n",
      "13300 1.840697645843302e-07 \tLoss(validation) = 2.1541643593161953e-06\n",
      "13400 2.155770323539853e-07 \tLoss(validation) = 2.2066814873411542e-06\n",
      "13500 1.833552066175369e-07 \tLoss(validation) = 2.1366128738495474e-06\n",
      "13600 1.8638790164984063e-07 \tLoss(validation) = 2.0880417486228763e-06\n",
      "13700 2.2942849390755522e-07 \tLoss(validation) = 2.10849420117841e-06\n",
      "13800 1.736860978111403e-07 \tLoss(validation) = 2.0690478144474816e-06\n",
      "13900 2.9626615535210193e-07 \tLoss(validation) = 2.308835576941758e-06\n",
      "14000 2.0891115766347847e-07 \tLoss(validation) = 2.223102030089809e-06\n",
      "14100 1.7336211912657486e-07 \tLoss(validation) = 2.043312498813432e-06\n",
      "14200 1.6709424438149632e-07 \tLoss(validation) = 2.0399573596400375e-06\n",
      "14300 2.4938769828109005e-07 \tLoss(validation) = 2.0356622098631057e-06\n",
      "14400 1.758134777996782e-07 \tLoss(validation) = 1.978543238598902e-06\n",
      "14500 2.713890260777129e-07 \tLoss(validation) = 1.9977602700357395e-06\n",
      "14600 1.5586543743651144e-07 \tLoss(validation) = 1.994422195557622e-06\n",
      "14700 2.459155160571729e-07 \tLoss(validation) = 2.1615156624543225e-06\n",
      "14800 1.7176526025677687e-07 \tLoss(validation) = 2.0073077249163667e-06\n",
      "14900 1.845386432540419e-07 \tLoss(validation) = 1.9459100024795824e-06\n",
      "15000 1.508458612160855e-07 \tLoss(validation) = 1.9460892349341427e-06\n",
      "15100 2.5705453435493145e-07 \tLoss(validation) = 2.2141159949528683e-06\n",
      "15200 1.4652227571851186e-07 \tLoss(validation) = 1.9383156408485162e-06\n",
      "15300 4.6023199733215384e-07 \tLoss(validation) = 2.0679109215299917e-06\n",
      "15400 1.5799714387066966e-07 \tLoss(validation) = 1.936049767198274e-06\n",
      "15500 1.4584512626455327e-07 \tLoss(validation) = 1.89830157217904e-06\n",
      "15600 1.4558458641985395e-07 \tLoss(validation) = 1.9247713223550137e-06\n",
      "15700 1.4323525170563153e-07 \tLoss(validation) = 1.885364147049926e-06\n",
      "15800 1.9749384373447526e-07 \tLoss(validation) = 2.009742256327914e-06\n",
      "15900 1.7370176816080297e-07 \tLoss(validation) = 1.8351026723909423e-06\n",
      "16000 1.3685543457057251e-07 \tLoss(validation) = 1.894494356242695e-06\n",
      "16100 2.103100788182593e-07 \tLoss(validation) = 1.9183327280353387e-06\n",
      "16200 1.48904077868502e-07 \tLoss(validation) = 1.8585568506086938e-06\n",
      "16300 1.4308848295370562e-07 \tLoss(validation) = 1.8729973544217138e-06\n",
      "16400 2.0390633051077585e-07 \tLoss(validation) = 1.9098318519022916e-06\n",
      "16500 1.3239466912220905e-07 \tLoss(validation) = 1.817985499093124e-06\n",
      "16600 1.5401151880730307e-07 \tLoss(validation) = 1.859908380616255e-06\n",
      "16700 1.2918192433889464e-07 \tLoss(validation) = 1.8206584103667162e-06\n",
      "16800 1.266875472534208e-07 \tLoss(validation) = 1.8216302294657e-06\n",
      "16900 1.6984754351678852e-07 \tLoss(validation) = 1.9168118234927494e-06\n",
      "17000 1.2683088834240303e-07 \tLoss(validation) = 1.8034339723634116e-06\n",
      "17100 1.4485042479425092e-07 \tLoss(validation) = 1.8617561098235693e-06\n",
      "17200 1.5428494478689474e-07 \tLoss(validation) = 1.8038318155332696e-06\n",
      "17300 1.7863269702579035e-07 \tLoss(validation) = 1.935780777309419e-06\n",
      "17400 2.3564174583734913e-07 \tLoss(validation) = 1.8392383759064592e-06\n",
      "17500 1.25006928522643e-07 \tLoss(validation) = 1.7798167731848993e-06\n",
      "17600 1.1981562569432432e-07 \tLoss(validation) = 1.7732958123800532e-06\n",
      "17700 1.2977877491085393e-07 \tLoss(validation) = 1.7908573084097899e-06\n",
      "17800 1.227373818536968e-07 \tLoss(validation) = 1.7717023848243048e-06\n",
      "17900 1.3407315880623508e-07 \tLoss(validation) = 1.8307222724344877e-06\n",
      "18000 2.4360375933903543e-07 \tLoss(validation) = 1.988260847323714e-06\n",
      "18100 4.6583388891987974e-07 \tLoss(validation) = 2.062309281112489e-06\n",
      "18200 1.2271295271839104e-07 \tLoss(validation) = 1.7816140565952528e-06\n",
      "18300 1.2173694470395088e-07 \tLoss(validation) = 1.7219786561744562e-06\n",
      "18400 1.2330694238188966e-07 \tLoss(validation) = 1.7410943243879749e-06\n",
      "18500 1.401568941621199e-07 \tLoss(validation) = 1.6930348600493333e-06\n",
      "18600 1.4283901147239066e-07 \tLoss(validation) = 1.7165540231301e-06\n",
      "18700 1.2536862255135825e-07 \tLoss(validation) = 1.7461822961260098e-06\n",
      "18800 1.0988834873731075e-07 \tLoss(validation) = 1.7190275398792353e-06\n",
      "18900 2.3015120339906375e-07 \tLoss(validation) = 1.7973680440656432e-06\n",
      "19000 1.217037681714208e-07 \tLoss(validation) = 1.801053361170054e-06\n",
      "19100 2.0418523350863934e-07 \tLoss(validation) = 1.7338862406851805e-06\n",
      "19200 1.1309641358675751e-07 \tLoss(validation) = 1.697076710817805e-06\n",
      "19300 1.5963487004554535e-07 \tLoss(validation) = 1.7877051544479086e-06\n",
      "19400 2.575325391302622e-07 \tLoss(validation) = 1.7931571796786947e-06\n",
      "19500 1.066395376086099e-07 \tLoss(validation) = 1.678255124785968e-06\n",
      "19600 1.0284549439430023e-07 \tLoss(validation) = 1.6655584585182767e-06\n",
      "19700 1.1781234042281186e-07 \tLoss(validation) = 1.6658698004161921e-06\n",
      "19800 1.1144908825893421e-07 \tLoss(validation) = 1.7457740379950577e-06\n",
      "19900 5.06197584288379e-07 \tLoss(validation) = 1.8689428016473781e-06\n"
     ]
    },
    {
     "data": {
      "text/plain": [
       "<mlnics.Losses.PINN_Loss at 0x132f184c0>"
      ]
     },
     "execution_count": 9,
     "metadata": {},
     "output_type": "execute_result"
    }
   ],
   "source": [
    "pinn_trainer.train()"
   ]
  },
  {
   "cell_type": "code",
   "execution_count": 10,
   "metadata": {
    "scrolled": true
   },
   "outputs": [
    {
     "data": {
      "image/png": "[encoded data removed]",
      "text/plain": [
       "<Figure size 432x288 with 1 Axes>"
      ]
     },
     "metadata": {
      "needs_background": "light"
     },
     "output_type": "display_data"
    }
   ],
   "source": [
    "fig, ax = Training.plot_loss(pinn_trainer, pinn_net)"
   ]
  },
  {
   "cell_type": "markdown",
   "metadata": {},
   "source": [
    "#### 4.5.3 Train PDNN\n",
    "\n",
    "Given a training set $X_{PDNN} = ((\\boldsymbol{\\mu}^{(1)}, \\operatorname{HF}(\\boldsymbol{\\mu}^{(1)})), \\dots, (\\boldsymbol{\\mu}^{(n)}, \\operatorname{HF}(\\boldsymbol{\\mu}^{(n)})))$ of parameter and high fidelity solution pairs for the PDE, we train a Projection-Driven Neural Network (PDNN) $\\operatorname{N}_W(\\boldsymbol{\\mu})$ dependent on the weights and biases $W$ of the network to minimize the loss function\n",
    "$$L_{PDNN}(X_{PDNN}; W) = \\frac1n \\sum_{i=1}^n \\|\\operatorname{N}_W(\\boldsymbol{\\mu}^{(i)}) - \\tilde{\\operatorname{HF}}(\\boldsymbol{\\mu}^{(i)})\\|_2^2,$$\n",
    "where for a given $\\boldsymbol{\\mu}$, $\\tilde{\\operatorname{HF}}(\\boldsymbol{\\mu})$ is the projection of $\\operatorname{HF}(\\boldsymbol{\\mu})$ onto the reduced order solution space."
   ]
  },
  {
   "cell_type": "code",
   "execution_count": 11,
   "metadata": {},
   "outputs": [],
   "source": [
    "input_normalization_pdnn = Normalization.StandardNormalization(input_normalization=True)\n",
    "output_normalization_pdnn = Normalization.StandardNormalization()\n",
    "\n",
    "pdnn_net  = NN.RONN(\"PDNN\", problem, reduction_method, n_hidden=2, n_neurons=40)\n",
    "pdnn_loss = Losses.PDNN_Loss(pdnn_net, output_normalization_pdnn)\n",
    "data      = RONNData.RONNDataLoader(pdnn_net, validation_proportion=0.2)\n",
    "optimizer = torch.optim.Adam(pdnn_net.parameters(), lr=0.001)\n",
    "\n",
    "pdnn_trainer = Training.PDNNTrainer(\n",
    "    pdnn_net, data, pdnn_loss, optimizer,\n",
    "    input_normalization_pdnn, num_epochs=10000\n",
    ")\n",
    "\n",
    "loaded, starting_epoch = IO.initialize_parameters(\n",
    "    pdnn_net, data, pdnn_trainer, optimizer\n",
    ")"
   ]
  },
  {
   "cell_type": "code",
   "execution_count": 12,
   "metadata": {
    "scrolled": true
   },
   "outputs": [
    {
     "name": "stdout",
     "output_type": "stream",
     "text": [
      "1700 5.192122801314327e-05 \tLoss(validation) = 0.07914734468243298\n",
      "1800 4.204846165935615e-05 \tLoss(validation) = 0.07916499229540976\n",
      "1900 3.3906261736619544e-05 \tLoss(validation) = 0.07919138664573375\n",
      "2000 2.712707581195823e-05 \tLoss(validation) = 0.07922477421621363\n",
      "2100 2.147171302537762e-05 \tLoss(validation) = 0.07926435929193447\n",
      "2200 1.6776816531922205e-05 \tLoss(validation) = 0.07930967468154598\n",
      "2300 1.2919698075669362e-05 \tLoss(validation) = 0.07935996971999734\n",
      "2400 9.795520930328466e-06 \tLoss(validation) = 0.07941427080890096\n",
      "2500 7.306676693998691e-06 \tLoss(validation) = 0.07947112618081213\n",
      "2600 5.359063737266367e-06 \tLoss(validation) = 0.07952886188750045\n",
      "2700 3.862974791720412e-06 \tLoss(validation) = 0.07958582453410937\n",
      "2800 2.7350957666374147e-06 \tLoss(validation) = 0.07964041521560442\n",
      "2900 1.9011555627953231e-06 \tLoss(validation) = 0.07969091005067346\n",
      "3000 1.2969884054381303e-06 \tLoss(validation) = 0.07973830336556367\n",
      "3100 8.693488497012604e-07 \tLoss(validation) = 0.07977776497449822\n",
      "3200 5.673363049440428e-07 \tLoss(validation) = 0.07981451127684742\n",
      "3300 3.6322912463079735e-07 \tLoss(validation) = 0.0798452736140541\n",
      "3400 2.503155802118497e-07 \tLoss(validation) = 0.07986987546434299\n",
      "3500 1.432257381668491e-07 \tLoss(validation) = 0.07989207329140692\n",
      "3600 8.268886991952802e-08 \tLoss(validation) = 0.07990870140822683\n",
      "3700 4.794939144167658e-08 \tLoss(validation) = 0.07992194921182778\n",
      "3800 8.920860964394166e-08 \tLoss(validation) = 0.07993247191344452\n",
      "3900 1.4802227773583751e-08 \tLoss(validation) = 0.07994060821284507\n",
      "4000 4.264114593514928e-08 \tLoss(validation) = 0.0799445421074518\n",
      "4100 8.578630921321588e-09 \tLoss(validation) = 0.07995188032982584\n",
      "4200 5.27332699141134e-09 \tLoss(validation) = 0.07995486963952457\n",
      "4300 5.391721489086528e-08 \tLoss(validation) = 0.07995400307808506\n",
      "4400 8.2631072240529e-09 \tLoss(validation) = 0.07995648573930247\n",
      "4500 9.249516174618464e-09 \tLoss(validation) = 0.0799595367009065\n",
      "4600 1.6892073349773018e-07 \tLoss(validation) = 0.07996045582961378\n",
      "4700 1.2692062854579503e-08 \tLoss(validation) = 0.07995868076385565\n",
      "4800 8.904389993757892e-09 \tLoss(validation) = 0.07995882604109449\n",
      "4900 2.279852459321143e-08 \tLoss(validation) = 0.07996406250815813\n",
      "5000 1.0532021735505143e-07 \tLoss(validation) = 0.07997057265058796\n",
      "5100 1.0189187192822393e-07 \tLoss(validation) = 0.07996519760119301\n",
      "5200 7.892135705307195e-09 \tLoss(validation) = 0.07996481788102737\n",
      "5300 4.450894459033703e-09 \tLoss(validation) = 0.07996468926500384\n",
      "5400 3.1153870607896085e-09 \tLoss(validation) = 0.07995725460083739\n",
      "5500 1.5334911215135995e-08 \tLoss(validation) = 0.07995470498826605\n",
      "5600 1.8675548833851351e-06 \tLoss(validation) = 0.07987858118707468\n",
      "5700 9.55014628449026e-08 \tLoss(validation) = 0.07994819983191578\n",
      "5800 9.075970728644744e-07 \tLoss(validation) = 0.08000627118257334\n",
      "5900 2.5266772704336926e-07 \tLoss(validation) = 0.07998127820995707\n",
      "6000 3.869658553731989e-09 \tLoss(validation) = 0.07995933262107624\n",
      "6100 1.1690499235665873e-08 \tLoss(validation) = 0.07995415507825727\n",
      "6200 7.584952823112574e-07 \tLoss(validation) = 0.07990920663035565\n",
      "6300 7.925843656167372e-07 \tLoss(validation) = 0.07993507890629359\n",
      "6400 5.23070963703844e-10 \tLoss(validation) = 0.07995710430964785\n",
      "6500 2.7312625974069943e-09 \tLoss(validation) = 0.07995681302997766\n",
      "6600 9.934697020478319e-09 \tLoss(validation) = 0.07995722387743927\n",
      "6700 1.2600448580002139e-08 \tLoss(validation) = 0.07995256594572253\n",
      "6800 8.046926706634388e-10 \tLoss(validation) = 0.07995458759829702\n",
      "6900 1.437894044295818e-07 \tLoss(validation) = 0.07996914943289543\n",
      "7000 1.5938493358998432e-07 \tLoss(validation) = 0.07994280086934877\n",
      "7100 4.06732683742568e-06 \tLoss(validation) = 0.08001615090335733\n",
      "7200 6.869579681394064e-08 \tLoss(validation) = 0.0799338646391456\n",
      "7300 6.017992607734853e-08 \tLoss(validation) = 0.07995484697694315\n",
      "7400 1.4888157173252162e-08 \tLoss(validation) = 0.07994951299628422\n",
      "7500 2.3210461958493677e-08 \tLoss(validation) = 0.07994366449572958\n",
      "7600 9.222228608954817e-08 \tLoss(validation) = 0.07995714756516484\n",
      "7700 2.2257914496588966e-07 \tLoss(validation) = 0.079945364359657\n",
      "7800 3.135627296666096e-07 \tLoss(validation) = 0.07998166201268771\n",
      "7900 5.581687119542034e-08 \tLoss(validation) = 0.0799503519487297\n",
      "8000 9.679098330354287e-07 \tLoss(validation) = 0.07997456886486212\n",
      "8100 4.6359717341776714e-07 \tLoss(validation) = 0.07997271412722691\n",
      "8200 8.312539753403694e-07 \tLoss(validation) = 0.07998089797030608\n",
      "8300 1.8640796363224355e-06 \tLoss(validation) = 0.07990426282948787\n",
      "8400 4.260922723147321e-07 \tLoss(validation) = 0.0799220869179152\n",
      "8500 4.8183052043308886e-08 \tLoss(validation) = 0.0799381014576871\n",
      "8600 1.2159392083202345e-08 \tLoss(validation) = 0.07992881825513339\n",
      "8700 2.8505386537424523e-06 \tLoss(validation) = 0.07982310760920568\n",
      "8800 1.7134803994875479e-06 \tLoss(validation) = 0.07991188102406775\n",
      "8900 6.220769446909283e-08 \tLoss(validation) = 0.07991595853996775\n",
      "9000 6.154501611447045e-08 \tLoss(validation) = 0.07992740332245304\n",
      "9100 6.508043643614214e-08 \tLoss(validation) = 0.0799100376594003\n",
      "9200 9.181587923190352e-08 \tLoss(validation) = 0.0799142923883405\n",
      "9300 1.520401684581137e-07 \tLoss(validation) = 0.07992281475600743\n",
      "9400 3.033730637912345e-07 \tLoss(validation) = 0.07988595939775042\n",
      "9500 2.7337209057365537e-07 \tLoss(validation) = 0.07993351885970258\n",
      "9600 4.959292056802347e-07 \tLoss(validation) = 0.07992796645763237\n",
      "9700 3.5566397011445698e-06 \tLoss(validation) = 0.0798093339555167\n",
      "9800 5.6602298265325244e-08 \tLoss(validation) = 0.079889312886299\n",
      "9900 2.681858675308469e-07 \tLoss(validation) = 0.0798783870099834\n",
      "10000 7.119888362178152e-08 \tLoss(validation) = 0.07991027437599889\n",
      "10100 7.825583432235319e-08 \tLoss(validation) = 0.07989753459753456\n",
      "10200 2.127472856321367e-07 \tLoss(validation) = 0.07990203550532506\n",
      "10300 6.394626760180038e-08 \tLoss(validation) = 0.0798949401296565\n",
      "10400 1.5807020047351817e-07 \tLoss(validation) = 0.0798667026356131\n",
      "10500 5.079491015821413e-06 \tLoss(validation) = 0.07990363400234013\n",
      "10600 1.1515563012081536e-07 \tLoss(validation) = 0.07989058715455859\n",
      "10700 3.682661218506171e-08 \tLoss(validation) = 0.07987507715479114\n",
      "10800 1.2579142108126665e-07 \tLoss(validation) = 0.07984175183457985\n",
      "10900 8.707011913480128e-08 \tLoss(validation) = 0.07986388629359897\n",
      "11000 3.231060911181686e-06 \tLoss(validation) = 0.07974373045007505\n",
      "11100 8.93541557262463e-08 \tLoss(validation) = 0.07986283338176603\n",
      "11200 3.519398280989594e-07 \tLoss(validation) = 0.07988980950487286\n",
      "11300 1.6358138777688366e-08 \tLoss(validation) = 0.07985492291991435\n",
      "11400 9.02028463885728e-09 \tLoss(validation) = 0.07984315526868958\n",
      "11500 1.242380608465441e-06 \tLoss(validation) = 0.07989420556298774\n",
      "11600 3.0575387632065576e-08 \tLoss(validation) = 0.07984966406247676\n"
     ]
    },
    {
     "data": {
      "text/plain": [
       "<mlnics.Losses.PDNN_Loss at 0x1331e90f0>"
      ]
     },
     "execution_count": 12,
     "metadata": {},
     "output_type": "execute_result"
    }
   ],
   "source": [
    "pdnn_trainer.train()"
   ]
  },
  {
   "cell_type": "code",
   "execution_count": 13,
   "metadata": {},
   "outputs": [
    {
     "data": {
      "image/png": "[encoded data removed]",
      "text/plain": [
       "<Figure size 432x288 with 1 Axes>"
      ]
     },
     "metadata": {
      "needs_background": "light"
     },
     "output_type": "display_data"
    }
   ],
   "source": [
    "fig, ax = Training.plot_loss(pdnn_trainer, pdnn_net)"
   ]
  },
  {
   "cell_type": "markdown",
   "metadata": {},
   "source": [
    "#### 4.5.4 Train PRNN\n",
    "\n",
    "We train a Physics-Reinforced Neural Network (PRNN) $N_W(\\boldsymbol{\\mu})$ dependnent on the weights and biases $W$ of the network to minimize the loss function\n",
    "\n",
    "$$L_{PRNN}(X_{PINN}, X_{PDNN}; W) = L_{PINN}(X_{PINN}; W) + \\omega L_{PDNN}(X_{PDNN}; W)$$\n",
    "\n",
    "where $\\omega$ is a scaling parameter which can be chosen freely."
   ]
  },
  {
   "cell_type": "code",
   "execution_count": 14,
   "metadata": {},
   "outputs": [],
   "source": [
    "input_normalization_prnn = Normalization.StandardNormalization(input_normalization=True)\n",
    "output_normalization_prnn = Normalization.StandardNormalization()\n",
    "\n",
    "omega = 1.\n",
    "prnn_net  = NN.RONN(f\"PRNN_{omega}\", problem, reduction_method, n_hidden=2, n_neurons=40)\n",
    "prnn_loss = Losses.PRNN_Loss(prnn_net, output_normalization_prnn, omega=omega)\n",
    "data      = RONNData.RONNDataLoader(prnn_net, validation_proportion=0.2,\n",
    "                                    num_without_snapshots=100)\n",
    "optimizer = torch.optim.Adam(prnn_net.parameters(), lr=0.001)\n",
    "\n",
    "prnn_trainer = Training.PRNNTrainer(\n",
    "    prnn_net, data, prnn_loss, optimizer,\n",
    "    input_normalization_prnn, num_epochs=10000\n",
    ")\n",
    "\n",
    "loaded, starting_epoch = IO.initialize_parameters(\n",
    "    prnn_net, data, prnn_trainer, optimizer\n",
    ")"
   ]
  },
  {
   "cell_type": "code",
   "execution_count": 15,
   "metadata": {
    "scrolled": true
   },
   "outputs": [
    {
     "name": "stdout",
     "output_type": "stream",
     "text": [
      "Operator 's' not implemented. Continuing without operator 's'...\n",
      "Operator 's' not implemented. Continuing without operator 's'...\n",
      "10000 7.383630114154988e-06 \tLoss(validation) = 0.00018249439173556706\n",
      "10100 6.784933144875589e-06 \tLoss(validation) = 0.00017108970536977054\n",
      "10200 5.637277265382515e-06 \tLoss(validation) = 0.0001691418509046774\n",
      "10300 1.1431301932883519e-05 \tLoss(validation) = 0.00017830567634895565\n",
      "10400 5.533490644474261e-06 \tLoss(validation) = 0.00016385844021853316\n",
      "10500 5.804298183590718e-06 \tLoss(validation) = 0.00016234574204602065\n",
      "10600 5.596657044563614e-06 \tLoss(validation) = 0.00015789619348100938\n",
      "10700 5.717171424728387e-06 \tLoss(validation) = 0.00015585638382782142\n",
      "10800 8.247904230267738e-06 \tLoss(validation) = 0.0001566420463614764\n",
      "10900 4.99532806695718e-06 \tLoss(validation) = 0.00014959232549561935\n",
      "11000 4.7586095879621776e-06 \tLoss(validation) = 0.0001456069635382782\n",
      "11100 8.066906197635032e-06 \tLoss(validation) = 0.0001484533543058693\n",
      "11200 4.67618203579008e-06 \tLoss(validation) = 0.0001418304492909598\n",
      "11300 4.9526033607494346e-06 \tLoss(validation) = 0.00014087819434690474\n",
      "11400 4.790237614361818e-06 \tLoss(validation) = 0.00013677154105402553\n",
      "11500 4.665418222699273e-06 \tLoss(validation) = 0.00013353428941732635\n",
      "11600 4.409461826528847e-06 \tLoss(validation) = 0.00013408197990444966\n",
      "11700 4.215466940443677e-06 \tLoss(validation) = 0.0001300756087768183\n",
      "11800 8.000437581931747e-06 \tLoss(validation) = 0.00012570717001504308\n",
      "11900 4.188878387599285e-06 \tLoss(validation) = 0.00012655535945327285\n",
      "12000 4.075106638080631e-06 \tLoss(validation) = 0.00012522088048311618\n",
      "12100 4.011714540422452e-06 \tLoss(validation) = 0.00012272290352485148\n",
      "12200 9.149088811697913e-06 \tLoss(validation) = 0.00012950968591988462\n",
      "12300 4.8514480638902005e-06 \tLoss(validation) = 0.00012359708855906262\n",
      "12400 4.111272415687253e-06 \tLoss(validation) = 0.00011875758550239063\n",
      "12500 4.840936346258737e-06 \tLoss(validation) = 0.00011518693073341656\n",
      "12600 4.205248914739057e-06 \tLoss(validation) = 0.00011502218493357271\n",
      "12700 4.040353298253474e-06 \tLoss(validation) = 0.00011149903002788241\n",
      "12800 5.318685400943774e-06 \tLoss(validation) = 0.00011357804661437943\n",
      "12900 3.898134803319499e-06 \tLoss(validation) = 0.00010895972423755349\n",
      "13000 3.97756256134722e-06 \tLoss(validation) = 0.00010811530023879706\n",
      "13100 3.7754874174398258e-06 \tLoss(validation) = 0.00010670718227853647\n",
      "13200 3.3457019839526365e-06 \tLoss(validation) = 0.00010515908441347277\n",
      "13300 7.196197517664399e-06 \tLoss(validation) = 0.00010617431052071143\n",
      "13400 3.4727828021274654e-06 \tLoss(validation) = 0.00010141534657889554\n",
      "13500 3.2599276913474814e-06 \tLoss(validation) = 0.00010141669643466084\n",
      "13600 4.036034965388742e-06 \tLoss(validation) = 0.00010121512712346368\n",
      "13700 3.2681950643520013e-06 \tLoss(validation) = 9.678310790620064e-05\n",
      "13800 3.147665784731624e-06 \tLoss(validation) = 9.727505170670908e-05\n",
      "13900 6.86860943788262e-06 \tLoss(validation) = 9.153096404570882e-05\n",
      "14000 3.1139383215890495e-06 \tLoss(validation) = 9.518632567843698e-05\n",
      "14100 3.4284570638216856e-06 \tLoss(validation) = 9.562340710374755e-05\n",
      "14200 2.9910468089498354e-06 \tLoss(validation) = 9.271550346151337e-05\n",
      "14300 3.7421830476261415e-06 \tLoss(validation) = 9.400127908720237e-05\n",
      "14400 3.112073040771075e-06 \tLoss(validation) = 9.108131865792346e-05\n",
      "14500 2.934781940211252e-06 \tLoss(validation) = 8.935093479299136e-05\n",
      "14600 3.059726791655978e-06 \tLoss(validation) = 8.70286669326696e-05\n",
      "14700 3.3237733048778865e-06 \tLoss(validation) = 8.523929586673048e-05\n",
      "14800 4.094701578815253e-06 \tLoss(validation) = 8.494482632485269e-05\n",
      "14900 5.116998984754713e-06 \tLoss(validation) = 8.245533202266221e-05\n",
      "15000 2.7862806886479935e-06 \tLoss(validation) = 8.355168744052345e-05\n",
      "15100 3.397510991009129e-06 \tLoss(validation) = 8.533567671841532e-05\n",
      "15200 2.9307588567010957e-06 \tLoss(validation) = 8.108726496699827e-05\n",
      "15300 5.2086713120607915e-06 \tLoss(validation) = 8.360816859125241e-05\n",
      "15400 4.009913467297121e-06 \tLoss(validation) = 7.936399755337612e-05\n",
      "15500 2.5873494479609234e-06 \tLoss(validation) = 8.006406370101739e-05\n",
      "15600 2.5750558406124023e-06 \tLoss(validation) = 7.845189042170062e-05\n",
      "15700 2.644048375878546e-06 \tLoss(validation) = 7.783345852523029e-05\n",
      "15800 3.062105947267032e-06 \tLoss(validation) = 7.768440470565447e-05\n",
      "15900 2.9544679940608695e-06 \tLoss(validation) = 7.598184370214542e-05\n",
      "16000 2.549428053893559e-06 \tLoss(validation) = 7.694407634669725e-05\n",
      "16100 4.878533986266696e-06 \tLoss(validation) = 7.231311676309459e-05\n",
      "16200 2.744338565228214e-06 \tLoss(validation) = 7.594797148451784e-05\n",
      "16300 2.4137246155339284e-06 \tLoss(validation) = 7.410716944008477e-05\n",
      "16400 2.828989908574385e-06 \tLoss(validation) = 7.719593868820145e-05\n",
      "16500 2.507157774314429e-06 \tLoss(validation) = 7.20115741966852e-05\n",
      "16600 8.004216089876542e-06 \tLoss(validation) = 6.913762077436174e-05\n",
      "16700 2.5261714811986913e-06 \tLoss(validation) = 7.158295136055989e-05\n",
      "16800 2.398422060291909e-06 \tLoss(validation) = 7.044808884031512e-05\n",
      "16900 3.7252550553529644e-06 \tLoss(validation) = 6.768263190842106e-05\n",
      "17000 2.792328960330205e-06 \tLoss(validation) = 6.987143809158885e-05\n",
      "17100 2.5455791640663447e-06 \tLoss(validation) = 6.979058945579894e-05\n",
      "17200 3.073382810426526e-06 \tLoss(validation) = 6.764513260960505e-05\n",
      "17300 2.5010431770248474e-06 \tLoss(validation) = 6.721262803046573e-05\n",
      "17400 2.449205258924167e-06 \tLoss(validation) = 6.790553512357803e-05\n",
      "17500 3.251229444202679e-06 \tLoss(validation) = 6.583047431298368e-05\n",
      "17600 2.5658057055073866e-06 \tLoss(validation) = 6.687804357288253e-05\n",
      "17700 4.317022071695906e-06 \tLoss(validation) = 6.535119729432612e-05\n",
      "17800 2.1645633714647854e-06 \tLoss(validation) = 6.476245059500185e-05\n",
      "17900 3.083764368788256e-06 \tLoss(validation) = 6.126527646751703e-05\n",
      "18000 2.234135701325278e-06 \tLoss(validation) = 6.273746862705656e-05\n",
      "18100 2.058003861793598e-06 \tLoss(validation) = 6.240808476485498e-05\n",
      "18200 3.401193558868223e-06 \tLoss(validation) = 6.0574923844055347e-05\n",
      "18300 2.0809561266250573e-06 \tLoss(validation) = 6.133507629124769e-05\n",
      "18400 4.29100861170638e-06 \tLoss(validation) = 6.498145806890332e-05\n",
      "18500 5.762299166522431e-06 \tLoss(validation) = 5.86045100160179e-05\n",
      "18600 1.97061021003212e-06 \tLoss(validation) = 6.0312054663234145e-05\n",
      "18700 1.9473457057477057e-06 \tLoss(validation) = 5.9722548195431305e-05\n",
      "18800 1.931976652975577e-06 \tLoss(validation) = 5.942521678834271e-05\n",
      "18900 5.570689742323641e-06 \tLoss(validation) = 6.0992654279643296e-05\n",
      "19000 2.3235120457072774e-06 \tLoss(validation) = 5.8552687724069924e-05\n",
      "19100 5.448411797338773e-06 \tLoss(validation) = 6.742901263421314e-05\n",
      "19200 2.1508695859840623e-06 \tLoss(validation) = 5.614031622559347e-05\n",
      "19300 1.89002128361814e-06 \tLoss(validation) = 5.766100021053973e-05\n",
      "19400 1.9818286205297622e-06 \tLoss(validation) = 6.019873364755268e-05\n",
      "19500 2.1269658724002815e-06 \tLoss(validation) = 5.7129212048103985e-05\n",
      "19600 2.8118223198044006e-06 \tLoss(validation) = 5.876396389244349e-05\n",
      "19700 3.0023934457422313e-06 \tLoss(validation) = 5.4133110629339204e-05\n",
      "19800 2.023075132449727e-06 \tLoss(validation) = 5.5364391410393436e-05\n",
      "19900 2.1163182906760683e-06 \tLoss(validation) = 5.249854751482629e-05\n"
     ]
    },
    {
     "data": {
      "text/plain": [
       "<mlnics.Losses.PRNN_Loss at 0x135785960>"
      ]
     },
     "execution_count": 15,
     "metadata": {},
     "output_type": "execute_result"
    }
   ],
   "source": [
    "prnn_trainer.train()"
   ]
  },
  {
   "cell_type": "code",
   "execution_count": 16,
   "metadata": {},
   "outputs": [
    {
     "data": {
      "image/png": "[encoded data removed]",
      "text/plain": [
       "<Figure size 432x288 with 1 Axes>"
      ]
     },
     "metadata": {
      "needs_background": "light"
     },
     "output_type": "display_data"
    }
   ],
   "source": [
    "fig, ax = Training.plot_loss(prnn_trainer, prnn_net, separate=True)"
   ]
  },
  {
   "cell_type": "markdown",
   "metadata": {},
   "source": [
    "### 4.6. Perform an error analysis"
   ]
  },
  {
   "cell_type": "markdown",
   "metadata": {},
   "source": [
    "#### 4.6.1 Reduction Method Error Analysis"
   ]
  },
  {
   "cell_type": "code",
   "execution_count": 17,
   "metadata": {
    "scrolled": true
   },
   "outputs": [
    {
     "name": "stdout",
     "output_type": "stream",
     "text": [
      "================================================================================\n",
      "=                        DEIM error analysis begins for                        =\n",
      "=               { v_0 * f_12 } * dx(<Mesh #0>[everywhere], {}),                =\n",
      "=                                    where                                     =\n",
      "=       f_12 = exp(- 2 * pow(x[0] - mu_0, 2) - 2 * pow(x[1] - mu_1, 2))        =\n",
      "=               with id 36f87d2cf0b6d3d52f7da4a286d52b5be3491f4c               =\n",
      "================================================================================\n",
      "\n",
      ":::::::::::::::::::::::::::::::::::: DEIM 0 ::::::::::::::::::::::::::::::::::::\n",
      ":::::::::::::::::::::::::::::::::::: DEIM 1 ::::::::::::::::::::::::::::::::::::\n",
      ":::::::::::::::::::::::::::::::::::: DEIM 2 ::::::::::::::::::::::::::::::::::::\n",
      ":::::::::::::::::::::::::::::::::::: DEIM 3 ::::::::::::::::::::::::::::::::::::\n",
      ":::::::::::::::::::::::::::::::::::: DEIM 4 ::::::::::::::::::::::::::::::::::::\n",
      ":::::::::::::::::::::::::::::::::::: DEIM 5 ::::::::::::::::::::::::::::::::::::\n",
      ":::::::::::::::::::::::::::::::::::: DEIM 6 ::::::::::::::::::::::::::::::::::::\n",
      ":::::::::::::::::::::::::::::::::::: DEIM 7 ::::::::::::::::::::::::::::::::::::\n",
      ":::::::::::::::::::::::::::::::::::: DEIM 8 ::::::::::::::::::::::::::::::::::::\n",
      ":::::::::::::::::::::::::::::::::::: DEIM 9 ::::::::::::::::::::::::::::::::::::\n",
      "::::::::::::::::::::::::::::::::::: DEIM 10 ::::::::::::::::::::::::::::::::::::\n",
      "::::::::::::::::::::::::::::::::::: DEIM 11 ::::::::::::::::::::::::::::::::::::\n",
      "::::::::::::::::::::::::::::::::::: DEIM 12 ::::::::::::::::::::::::::::::::::::\n",
      "::::::::::::::::::::::::::::::::::: DEIM 13 ::::::::::::::::::::::::::::::::::::\n",
      "::::::::::::::::::::::::::::::::::: DEIM 14 ::::::::::::::::::::::::::::::::::::\n",
      "::::::::::::::::::::::::::::::::::: DEIM 15 ::::::::::::::::::::::::::::::::::::\n",
      "::::::::::::::::::::::::::::::::::: DEIM 16 ::::::::::::::::::::::::::::::::::::\n",
      "::::::::::::::::::::::::::::::::::: DEIM 17 ::::::::::::::::::::::::::::::::::::\n",
      "::::::::::::::::::::::::::::::::::: DEIM 18 ::::::::::::::::::::::::::::::::::::\n",
      "::::::::::::::::::::::::::::::::::: DEIM 19 ::::::::::::::::::::::::::::::::::::\n",
      "::::::::::::::::::::::::::::::::::: DEIM 20 ::::::::::::::::::::::::::::::::::::\n",
      "::::::::::::::::::::::::::::::::::: DEIM 21 ::::::::::::::::::::::::::::::::::::\n",
      "::::::::::::::::::::::::::::::::::: DEIM 22 ::::::::::::::::::::::::::::::::::::\n",
      "::::::::::::::::::::::::::::::::::: DEIM 23 ::::::::::::::::::::::::::::::::::::\n",
      "::::::::::::::::::::::::::::::::::: DEIM 24 ::::::::::::::::::::::::::::::::::::\n",
      "::::::::::::::::::::::::::::::::::: DEIM 25 ::::::::::::::::::::::::::::::::::::\n",
      "::::::::::::::::::::::::::::::::::: DEIM 26 ::::::::::::::::::::::::::::::::::::\n",
      "::::::::::::::::::::::::::::::::::: DEIM 27 ::::::::::::::::::::::::::::::::::::\n",
      "::::::::::::::::::::::::::::::::::: DEIM 28 ::::::::::::::::::::::::::::::::::::\n",
      "::::::::::::::::::::::::::::::::::: DEIM 29 ::::::::::::::::::::::::::::::::::::\n",
      "::::::::::::::::::::::::::::::::::: DEIM 30 ::::::::::::::::::::::::::::::::::::\n",
      "::::::::::::::::::::::::::::::::::: DEIM 31 ::::::::::::::::::::::::::::::::::::\n",
      "::::::::::::::::::::::::::::::::::: DEIM 32 ::::::::::::::::::::::::::::::::::::\n",
      "::::::::::::::::::::::::::::::::::: DEIM 33 ::::::::::::::::::::::::::::::::::::\n",
      "::::::::::::::::::::::::::::::::::: DEIM 34 ::::::::::::::::::::::::::::::::::::\n",
      "::::::::::::::::::::::::::::::::::: DEIM 35 ::::::::::::::::::::::::::::::::::::\n",
      "::::::::::::::::::::::::::::::::::: DEIM 36 ::::::::::::::::::::::::::::::::::::\n",
      "::::::::::::::::::::::::::::::::::: DEIM 37 ::::::::::::::::::::::::::::::::::::\n",
      "::::::::::::::::::::::::::::::::::: DEIM 38 ::::::::::::::::::::::::::::::::::::\n",
      "::::::::::::::::::::::::::::::::::: DEIM 39 ::::::::::::::::::::::::::::::::::::\n",
      "::::::::::::::::::::::::::::::::::: DEIM 40 ::::::::::::::::::::::::::::::::::::\n",
      "::::::::::::::::::::::::::::::::::: DEIM 41 ::::::::::::::::::::::::::::::::::::\n",
      "::::::::::::::::::::::::::::::::::: DEIM 42 ::::::::::::::::::::::::::::::::::::\n",
      "::::::::::::::::::::::::::::::::::: DEIM 43 ::::::::::::::::::::::::::::::::::::\n",
      "::::::::::::::::::::::::::::::::::: DEIM 44 ::::::::::::::::::::::::::::::::::::\n",
      "::::::::::::::::::::::::::::::::::: DEIM 45 ::::::::::::::::::::::::::::::::::::\n",
      "::::::::::::::::::::::::::::::::::: DEIM 46 ::::::::::::::::::::::::::::::::::::\n",
      "::::::::::::::::::::::::::::::::::: DEIM 47 ::::::::::::::::::::::::::::::::::::\n",
      "::::::::::::::::::::::::::::::::::: DEIM 48 ::::::::::::::::::::::::::::::::::::\n",
      "::::::::::::::::::::::::::::::::::: DEIM 49 ::::::::::::::::::::::::::::::::::::\n",
      "::::::::::::::::::::::::::::::::::: DEIM 50 ::::::::::::::::::::::::::::::::::::\n",
      "::::::::::::::::::::::::::::::::::: DEIM 51 ::::::::::::::::::::::::::::::::::::\n",
      "::::::::::::::::::::::::::::::::::: DEIM 52 ::::::::::::::::::::::::::::::::::::\n",
      "::::::::::::::::::::::::::::::::::: DEIM 53 ::::::::::::::::::::::::::::::::::::\n",
      "::::::::::::::::::::::::::::::::::: DEIM 54 ::::::::::::::::::::::::::::::::::::\n",
      "::::::::::::::::::::::::::::::::::: DEIM 55 ::::::::::::::::::::::::::::::::::::\n",
      "::::::::::::::::::::::::::::::::::: DEIM 56 ::::::::::::::::::::::::::::::::::::\n",
      "::::::::::::::::::::::::::::::::::: DEIM 57 ::::::::::::::::::::::::::::::::::::\n",
      "::::::::::::::::::::::::::::::::::: DEIM 58 ::::::::::::::::::::::::::::::::::::\n",
      "::::::::::::::::::::::::::::::::::: DEIM 59 ::::::::::::::::::::::::::::::::::::\n",
      "\n",
      "N \tgmean(error)          \tmax(error)           \tgmean(relative_error)\tmax(relative_error)\n",
      "1 \t0.007057262742040269  \t0.010665183062762987 \t0.7382470650631977   \t0.9921199776543376 \n",
      "2 \t0.006496556309425999  \t0.010911237222115216 \t0.6795926131361519   \t0.9956162143100418 \n",
      "3 \t0.004525424780930942  \t0.010302580273415442 \t0.4733962280849803   \t0.9338830538042727 \n",
      "4 \t0.003719211548606993  \t0.010019526269113205 \t0.3890597687049522   \t0.9082254679457673 \n",
      "5 \t0.0029213856072655563 \t0.005934225397778905 \t0.3056006881583325   \t0.6728666840457702 \n",
      "6 \t0.0023001551510594305 \t0.005475411599385658 \t0.2406149312458082   \t0.6190299277094199 \n",
      "7 \t0.001934616621716463  \t0.004683939522530702 \t0.2023766289012722   \t0.5365832128955474 \n",
      "8 \t0.0016067168621483829 \t0.003977353983574402 \t0.16807564791411944  \t0.4642606815349179 \n",
      "9 \t0.0013330347609560931 \t0.004027179381122064 \t0.13944627483410799  \t0.46134601884476306\n",
      "10\t0.0011422973726784866 \t0.00307951491085595  \t0.11949359314423015  \t0.352783377556088  \n",
      "11\t0.000873891723103367  \t0.0019403658819187198\t0.09141617980593551  \t0.21574704225318136\n",
      "12\t0.0007121098304122113 \t0.0020429695030759806\t0.074492478390068    \t0.2271554204335148 \n",
      "13\t0.0005169955386658591 \t0.0021051149708304446\t0.05408193700897911  \t0.23406530324603259\n",
      "14\t0.0005027484289748991 \t0.0020826464974897088\t0.052591573492777655 \t0.23156705963518595\n",
      "15\t0.00040954824577759525\t0.002101508064266377 \t0.04284207652437235  \t0.23366425546935676\n",
      "16\t0.0003311689440425553 \t0.0019216325022608704\t0.03464296426475595  \t0.2136640993967597 \n",
      "17\t0.0002564590449400526 \t0.001575024616821962 \t0.026827701356229968 \t0.1804318277848489 \n",
      "18\t0.0002163497860111225 \t0.0009770164203566488\t0.022631946745911683 \t0.10863332781150584\n",
      "19\t0.0001691995040116325 \t0.0009235468242974026\t0.01769964387221107  \t0.10268810515646332\n",
      "20\t0.00015638110939669055\t0.0006695498033630644\t0.016358735569770983 \t0.07444646963898294\n",
      "21\t0.00012496981002325678\t0.0006598268959834151\t0.013072858251626095 \t0.07336539079256112\n",
      "\n",
      "================================================================================\n",
      "=                         DEIM error analysis ends for                         =\n",
      "=               { v_0 * f_12 } * dx(<Mesh #0>[everywhere], {}),                =\n",
      "=                                    where                                     =\n",
      "=       f_12 = exp(- 2 * pow(x[0] - mu_0, 2) - 2 * pow(x[1] - mu_1, 2))        =\n",
      "=               with id 36f87d2cf0b6d3d52f7da4a286d52b5be3491f4c               =\n",
      "================================================================================\n",
      "\n",
      "================================================================================\n",
      "=                    GaussianDEIM RB error analysis begins                     =\n",
      "================================================================================\n"
     ]
    },
    {
     "name": "stdout",
     "output_type": "stream",
     "text": [
      "\n",
      "###################################### 0 #######################################\n",
      "###################################### 1 #######################################\n",
      "###################################### 2 #######################################\n",
      "###################################### 3 #######################################\n",
      "###################################### 4 #######################################\n",
      "###################################### 5 #######################################\n",
      "###################################### 6 #######################################\n",
      "###################################### 7 #######################################\n",
      "###################################### 8 #######################################\n",
      "###################################### 9 #######################################\n",
      "###################################### 10 ######################################\n",
      "###################################### 11 ######################################\n",
      "###################################### 12 ######################################\n",
      "###################################### 13 ######################################\n",
      "###################################### 14 ######################################\n",
      "###################################### 15 ######################################\n",
      "###################################### 16 ######################################\n",
      "###################################### 17 ######################################\n",
      "###################################### 18 ######################################\n",
      "###################################### 19 ######################################\n",
      "###################################### 20 ######################################\n",
      "###################################### 21 ######################################\n",
      "###################################### 22 ######################################\n",
      "###################################### 23 ######################################\n",
      "###################################### 24 ######################################\n",
      "###################################### 25 ######################################\n",
      "###################################### 26 ######################################\n",
      "###################################### 27 ######################################\n",
      "###################################### 28 ######################################\n",
      "###################################### 29 ######################################\n",
      "###################################### 30 ######################################\n",
      "###################################### 31 ######################################\n",
      "###################################### 32 ######################################\n",
      "###################################### 33 ######################################\n",
      "###################################### 34 ######################################\n",
      "###################################### 35 ######################################\n",
      "###################################### 36 ######################################\n",
      "###################################### 37 ######################################\n",
      "###################################### 38 ######################################\n",
      "###################################### 39 ######################################\n",
      "###################################### 40 ######################################\n",
      "###################################### 41 ######################################\n",
      "###################################### 42 ######################################\n",
      "###################################### 43 ######################################\n",
      "###################################### 44 ######################################\n",
      "###################################### 45 ######################################\n",
      "###################################### 46 ######################################\n",
      "###################################### 47 ######################################\n",
      "###################################### 48 ######################################\n",
      "###################################### 49 ######################################\n",
      "\n",
      "N \tgmean(error_u)        \tmax(error_u)         \tgmean(error_estimator_u)\tmax(error_estimator_u)\tmin(effectivity_u)\tgmean(effectivity_u)\tmax(effectivity_u)\n",
      "1 \t0.065567419316124     \t0.17897234992842617  \t0.09023434973306402     \t0.1789723499284262    \t0.9999999999999803\t1.3762071265610114  \t8593896.589275774 \n",
      "2 \t0.04349177307025072   \t0.1512826209864366   \t0.059756895156124736    \t0.151282620986437     \t0.9999999999997409\t1.3739815817488412  \t7925844.578582431 \n",
      "3 \t0.026141034340173456  \t0.11853117291886979  \t0.03591238105599926     \t0.11853117291886975   \t0.9999999999997391\t1.3737934233462696  \t7871756.457103467 \n",
      "4 \t0.019190447334817392  \t0.08920011009250335  \t0.02635343469824603     \t0.08920011009250325   \t0.9999999999996751\t1.373257967282126   \t7719805.672592496 \n",
      "5 \t0.014540811382255978  \t0.05905115672378422  \t0.019967679073851108    \t0.05905115672378355   \t0.9999999999993437\t1.3732162909572907  \t7708100.150697372 \n",
      "6 \t0.005554100407299617  \t0.041741905243656556 \t0.010652479352617079    \t0.04174190524365656   \t0.9999999999237809\t1.9179486454038184  \t18385314.239766605\n",
      "7 \t0.004378097188290785  \t0.03802389333391039  \t0.008396756826429454    \t0.03802389333390943   \t0.9999999999085603\t1.9179009659462503  \t18373393.085810933\n",
      "8 \t0.0019386136835898952 \t0.03125771359120787  \t0.005224994290839578    \t0.03125771359120787   \t0.9999999998732813\t2.6952220213178335  \t24899735.111227263\n",
      "9 \t0.0007996166891897184 \t0.024459539583269848 \t0.002977346592518468    \t0.024459539583271055  \t0.9999999998724386\t3.723467297231537   \t24899735.111227263\n",
      "10\t0.000340897113863598  \t0.018176388073807573 \t0.001786123039857466    \t0.0181763880738077    \t0.9999999998167463\t5.239478327094731   \t26156761.959968124\n",
      "11\t0.00023457556520824525\t0.016756076134907278 \t0.0012289896573952593   \t0.016756076134905273  \t0.9999999997952166\t5.239205781319215   \t26156087.114789497\n",
      "12\t0.00019132851523684076\t0.010947280181776728 \t0.001002352570807657    \t0.010947280181778962  \t0.9999999997234306\t5.238908427041672   \t26137062.336250935\n",
      "13\t8.588287365644165e-05 \t0.00693640036312687  \t0.0006282890977161962   \t0.006936400363123823  \t0.9999999996023593\t7.3156506177186005  \t26135665.909625947\n",
      "14\t7.56748826585412e-05  \t0.006742777214376526 \t0.0005533153861467121   \t0.006742777214365783  \t0.9999999934694888\t7.311744223553954   \t26067815.771916687\n",
      "15\t3.212119923547124e-05 \t0.005647347690497873 \t0.00032452792916021233  \t0.005647347690497683  \t0.9999999834953178\t10.10323203630075   \t26068810.026854575\n",
      "16\t1.545083294568971e-05 \t0.003910682485009496 \t0.00021386471297347146  \t0.003910682485008318  \t0.9999999803197572\t13.84163000954152   \t26021572.586810783\n",
      "17\t1.2966144596651858e-05\t0.003869126937958979 \t0.00017942726911092315  \t0.0038691269379577454 \t0.9999999804140204\t13.838135752184641  \t26028564.47074844 \n",
      "18\t5.014294595322263e-06 \t0.0029177081926345517\t9.464789000476709e-05   \t0.002917708192652694  \t0.9999998947099009\t18.87561414781304   \t26043698.58410294 \n",
      "19\t2.9384622212726523e-06\t0.00187842199935611  \t5.5436552593240476e-05  \t0.0018784219993505534 \t0.9999975304630412\t18.865838121693077  \t25995652.63950384 \n",
      "20\t9.66849664671549e-07  \t0.0013678881946168466\t2.540700254493476e-05   \t0.0013678881945835698 \t0.9999961662583515\t26.278131413083486  \t25991999.285182036\n",
      "\n",
      "N \tgmean(relative_error_u)\tmax(relative_error_u)\n",
      "1 \t0.2712804885449735     \t0.8553380467027311   \n",
      "2 \t0.17994408761613886    \t0.7892457860696276   \n",
      "3 \t0.10815665220377617    \t0.6659162381758975   \n",
      "4 \t0.07939909764155711    \t0.5633761910435341   \n",
      "5 \t0.0601615628121674     \t0.34533661019824125  \n",
      "6 \t0.022979691554667468   \t0.34349376413123395  \n",
      "7 \t0.018114062693402766   \t0.29968260360523685  \n",
      "8 \t0.008020874889838919   \t0.22743355349967945  \n",
      "9 \t0.0033083566252051196  \t0.1738596483432368   \n",
      "10\t0.0014104373262979165  \t0.10924387665811923  \n",
      "11\t0.0009705395544637052  \t0.10921484694904239  \n",
      "12\t0.0007916079910936919  \t0.06428344662222135  \n",
      "13\t0.00035533422187681484 \t0.04925531881404663  \n",
      "14\t0.0003130993922334253  \t0.049114235541193325 \n",
      "15\t0.00013289915497873204 \t0.046471973529807614 \n",
      "16\t6.392671167557642e-05  \t0.01796392018016855  \n",
      "17\t5.364649207505845e-05  \t0.016754075874644236 \n",
      "18\t2.074628377501094e-05  \t0.014789714409546588 \n",
      "19\t1.2157676408071803e-05 \t0.01302897021094008  \n",
      "20\t4.0002710510392445e-06 \t0.006569072632963958 \n"
     ]
    },
    {
     "name": "stdout",
     "output_type": "stream",
     "text": [
      "\n",
      "================================================================================\n",
      "=                     GaussianDEIM RB error analysis ends                      =\n",
      "================================================================================\n",
      "\n"
     ]
    }
   ],
   "source": [
    "reduction_method.initialize_testing_set(50, DEIM=60)\n",
    "reduction_method.error_analysis(filename=\"error_analysis\")"
   ]
  },
  {
   "cell_type": "markdown",
   "metadata": {},
   "source": [
    "#### 4.6.2 PINN Error Analysis"
   ]
  },
  {
   "cell_type": "code",
   "execution_count": 18,
   "metadata": {},
   "outputs": [],
   "source": [
    "test_mu = torch.tensor(reduction_method.testing_set)"
   ]
  },
  {
   "cell_type": "code",
   "execution_count": 19,
   "metadata": {},
   "outputs": [
    {
     "name": "stdout",
     "output_type": "stream",
     "text": [
      "#################################### N = 20 ####################################\n",
      "ERROR\tNN-HF\t\t\tNN-RO\t\t\tRO-HF\n",
      "min\t0.002123971173374619\t0.0017889887068360706\t1.9373326255269834e-07\n",
      "mean\t0.007890097724856241\t0.007484336324449264\t0.0012881639865821733\n",
      "max\t0.0476674427450675\t0.047667442881904006\t0.006569078032147677\n"
     ]
    }
   ],
   "source": [
    "_ = ErrorAnalysis.error_analysis_fixed_net(\n",
    "    pinn_net, test_mu, input_normalization_pinn, output_normalization_pinn\n",
    ")"
   ]
  },
  {
   "cell_type": "code",
   "execution_count": 20,
   "metadata": {},
   "outputs": [
    {
     "data": {
      "image/png": "[encoded data removed]",
      "text/plain": [
       "<Figure size 432x288 with 1 Axes>"
      ]
     },
     "metadata": {
      "needs_background": "light"
     },
     "output_type": "display_data"
    }
   ],
   "source": [
    "ErrorAnalysis.plot_solution_difference(\n",
    "    pinn_net, (0.3, -1.0), input_normalization_pinn, output_normalization_pinn\n",
    ")"
   ]
  },
  {
   "cell_type": "markdown",
   "metadata": {},
   "source": [
    "#### 4.6.3 PDNN Error Analysis"
   ]
  },
  {
   "cell_type": "code",
   "execution_count": 21,
   "metadata": {},
   "outputs": [
    {
     "name": "stdout",
     "output_type": "stream",
     "text": [
      "#################################### N = 20 ####################################\n",
      "ERROR\tNN-HF\t\t\tNN-RO\t\t\tRO-HF\n",
      "min\t6.262694005947031e-05\t6.262766497891008e-05\t1.9373326255269834e-07\n",
      "mean\t0.13245292262851535\t0.13244015905011705\t0.0012881639865821733\n",
      "max\t0.3166468733165758\t0.3165855567176369\t0.006569078032147677\n"
     ]
    }
   ],
   "source": [
    "_ = ErrorAnalysis.error_analysis_fixed_net(\n",
    "    pdnn_net, test_mu, input_normalization_pdnn, output_normalization_pdnn\n",
    ")"
   ]
  },
  {
   "cell_type": "code",
   "execution_count": 22,
   "metadata": {},
   "outputs": [
    {
     "data": {
      "image/png": "[encoded data removed]",
      "text/plain": [
       "<Figure size 432x288 with 1 Axes>"
      ]
     },
     "metadata": {
      "needs_background": "light"
     },
     "output_type": "display_data"
    }
   ],
   "source": [
    "ErrorAnalysis.plot_solution_difference(\n",
    "    pdnn_net, (0.3, -1.0), input_normalization_pdnn, output_normalization_pdnn\n",
    ")"
   ]
  },
  {
   "cell_type": "markdown",
   "metadata": {},
   "source": [
    "#### 4.6.4 PRNN Error Analysis"
   ]
  },
  {
   "cell_type": "code",
   "execution_count": 23,
   "metadata": {},
   "outputs": [
    {
     "name": "stdout",
     "output_type": "stream",
     "text": [
      "#################################### N = 20 ####################################\n",
      "ERROR\tNN-HF\t\t\tNN-RO\t\t\tRO-HF\n",
      "min\t0.0003375287433559263\t0.00033752854011220504\t1.9373326255269834e-07\n",
      "mean\t0.008360335563455872\t0.008153328062235976\t0.0012881639865821733\n",
      "max\t0.06279532198446197\t0.06245212875688345\t0.006569078032147677\n"
     ]
    }
   ],
   "source": [
    "_ = ErrorAnalysis.error_analysis_fixed_net(\n",
    "    prnn_net, test_mu, input_normalization_prnn, output_normalization_prnn\n",
    ")"
   ]
  },
  {
   "cell_type": "code",
   "execution_count": 24,
   "metadata": {},
   "outputs": [
    {
     "data": {
      "image/png": "[encoded data removed]",
      "text/plain": [
       "<Figure size 432x288 with 1 Axes>"
      ]
     },
     "metadata": {
      "needs_background": "light"
     },
     "output_type": "display_data"
    }
   ],
   "source": [
    "ErrorAnalysis.plot_solution_difference(\n",
    "    prnn_net, (0.3, -1.0), input_normalization_prnn, output_normalization_prnn\n",
    ")"
   ]
  },
  {
   "cell_type": "markdown",
   "metadata": {},
   "source": [
    "#### 4.6.5 Neural Network Error Comparison"
   ]
  },
  {
   "cell_type": "code",
   "execution_count": 25,
   "metadata": {},
   "outputs": [
    {
     "name": "stdout",
     "output_type": "stream",
     "text": [
      "#####################################################################################\n",
      "Mean Relative Error for 20 Basis Functions\n",
      "Network\t\tNN-HF\t\t\tNN-RO\t\t\tRO-HF\n",
      "pinn_net\t0.007890097724856241\t0.007484336324449264\t0.0012881639865821733\n",
      "pdnn_net\t0.13245292262851535\t0.13244015905011705\t0.0012881639865821733\n",
      "prnn_net\t0.008360335563455872\t0.008153328062235976\t0.0012881639865821733\n",
      "#####################################################################################\n"
     ]
    }
   ],
   "source": [
    "nets = dict()\n",
    "nets[\"pinn_net\"] = pinn_net\n",
    "nets[\"pdnn_net\"] = pdnn_net\n",
    "nets[\"prnn_net\"] = prnn_net\n",
    "\n",
    "input_normalizations = dict()\n",
    "input_normalizations[\"pinn_net\"] = input_normalization_pinn\n",
    "input_normalizations[\"pdnn_net\"] = input_normalization_pdnn\n",
    "input_normalizations[\"prnn_net\"] = input_normalization_prnn\n",
    "\n",
    "output_normalizations = dict()\n",
    "output_normalizations[\"pinn_net\"] = output_normalization_pinn\n",
    "output_normalizations[\"pdnn_net\"] = output_normalization_pdnn\n",
    "output_normalizations[\"prnn_net\"] = output_normalization_prnn\n",
    "\n",
    "_ = ErrorAnalysis.error_analysis_by_network(\n",
    "    nets, test_mu, input_normalizations, output_normalizations, euclidean=False\n",
    ")"
   ]
  },
  {
   "cell_type": "code",
   "execution_count": null,
   "metadata": {},
   "outputs": [],
   "source": []
  }
 ],
 "metadata": {
  "kernelspec": {
   "display_name": "Python 3 (ipykernel)",
   "language": "python",
   "name": "python3"
  },
  "language_info": {
   "codemirror_mode": {
    "name": "ipython",
    "version": 3
   },
   "file_extension": ".py",
   "mimetype": "text/x-python",
   "name": "python",
   "nbconvert_exporter": "python",
   "pygments_lexer": "ipython3",
   "version": "3.10.4"
  }
 },
 "nbformat": 4,
 "nbformat_minor": 2
}
