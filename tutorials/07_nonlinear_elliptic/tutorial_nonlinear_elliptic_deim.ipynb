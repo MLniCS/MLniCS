{
 "cells": [
  {
   "cell_type": "markdown",
   "metadata": {},
   "source": [
    "## Tutorial 07 - Non linear Elliptic problem\n",
    "**_Keywords: DEIM, POD-Galerkin_**\n",
    "\n",
    "### 1. Introduction\n",
    "\n",
    "In this tutorial, we consider a non linear elliptic problem in a two-dimensional spatial domain $\\Omega=(0,1)^2$. We impose a homogeneous Dirichlet condition on the boundary $\\partial\\Omega$. The source term is characterized by the following expression\n",
    "$$\n",
    "g(\\boldsymbol{x}; \\boldsymbol{\\mu}) = 100\\sin(2\\pi x_0)cos(2\\pi x_1) \\quad \\forall \\boldsymbol{x} = (x_0, x_1) \\in \\Omega.\n",
    "$$\n",
    "\n",
    "This problem is characterized by two parameters. The first parameter $\\mu_0$ controls the strength of the sink term and the second parameter $\\mu_1$ the strength of the nonlinearity. The range of the two parameters is the following:\n",
    "$$\n",
    "\\mu_0,\\mu_1\\in[0.01,10.0]\n",
    "$$\n",
    "The parameter vector $\\boldsymbol{\\mu}$ is thus given by\n",
    "$$\n",
    "\\boldsymbol{\\mu} = (\\mu_0,\\mu_1)\n",
    "$$\n",
    "on the parameter domain\n",
    "$$\n",
    "\\mathbb{P}=[0.01,10]^2.\n",
    "$$\n",
    "\n",
    "\n",
    "In order to obtain a faster approximation of the problem, we pursue a model reduction by means of a POD-Galerkin reduced order method. In order to preserve the affinity assumption the discrete empirical interpolation method will be used on the forcing term $g(\\boldsymbol{x}; \\boldsymbol{\\mu})$.\n",
    "\n"
   ]
  },
  {
   "cell_type": "markdown",
   "metadata": {},
   "source": [
    "### 2. Parametrized formulation\n",
    "\n",
    "Let $u(\\boldsymbol{\\mu})$ be the solution in the domain $\\Omega$.\n",
    "\n",
    "The strong formulation of the parametrized problem is given by:\n",
    "<center>for a given parameter $\\boldsymbol{\\mu}\\in\\mathbb{P}$, find $u(\\boldsymbol{\\mu})$ such that</center>\n",
    "\n",
    "$$ -\\nabla^2u(\\boldsymbol{\\mu})+\\frac{\\mu_0}{\\mu_1}(\\exp\\{\\mu_1u(\\boldsymbol{\\mu})\\}-1)=g(\\boldsymbol{x}; \\boldsymbol{\\mu})$$\n",
    "<br>\n",
    "    \n",
    "The corresponding weak formulation reads:\n",
    "<center>for a given parameter $\\boldsymbol{\\mu}\\in\\mathbb{P}$, find $u(\\boldsymbol{\\mu})\\in\\mathbb{V}$ such that</center>\n",
    "\n",
    "$$a\\left(u(\\boldsymbol{\\mu}),v;\\boldsymbol{\\mu}\\right)+c\\left(u(\\boldsymbol{\\mu}),v;\\boldsymbol{\\mu}\\right)=f(v;\\boldsymbol{\\mu})\\quad \\forall v\\in\\mathbb{V}$$\n",
    "\n",
    "where\n",
    "\n",
    "* the function space $\\mathbb{V}$ is defined as\n",
    "$$\n",
    "\\mathbb{V} = \\{v\\in H_1(\\Omega) : v|_{\\partial\\Omega}=0\\}\n",
    "$$\n",
    "* the parametrized bilinear form $a(\\cdot, \\cdot; \\boldsymbol{\\mu}): \\mathbb{V} \\times \\mathbb{V} \\to \\mathbb{R}$ is defined by\n",
    "$$a(u, v;\\boldsymbol{\\mu})=\\int_{\\Omega} \\nabla u\\cdot \\nabla v \\ d\\boldsymbol{x},$$\n",
    "* the parametrized bilinear form $c(\\cdot, \\cdot; \\boldsymbol{\\mu}): \\mathbb{V} \\times \\mathbb{V} \\to \\mathbb{R}$ is defined by\n",
    "$$c(u, v;\\boldsymbol{\\mu})=\\mu_0\\int_{\\Omega} \\frac{1}{\\mu_1}\\big(\\exp\\{\\mu_1u\\} - 1\\big)v \\ d\\boldsymbol{x},$$\n",
    "* the parametrized linear form $f(\\cdot; \\boldsymbol{\\mu}): \\mathbb{V} \\to \\mathbb{R}$ is defined by\n",
    "$$f(v; \\boldsymbol{\\mu})= \\int_{\\Omega}g(\\boldsymbol{x}; \\boldsymbol{\\mu})v \\ d\\boldsymbol{x}.$$\n",
    "\n",
    "The output of interest $s(\\boldsymbol{\\mu})$ is given by\n",
    "$$s(\\boldsymbol{\\mu}) = \\int_{\\Omega} v \\ d\\boldsymbol{x}$$\n",
    "is computed for each $\\boldsymbol{\\mu}$."
   ]
  },
  {
   "cell_type": "code",
   "execution_count": 1,
   "metadata": {},
   "outputs": [],
   "source": [
    "import sys\n",
    "sys.path.append(\"../../MLniCS/\")\n",
    "\n",
    "\n",
    "from mlnics import NN, Losses, Normalization\n",
    "from dolfin import *\n",
    "from rbnics import *\n",
    "import torch\n",
    "import numpy as np\n",
    "\n",
    "torch.manual_seed(0)\n",
    "np.random.seed(0)"
   ]
  },
  {
   "cell_type": "markdown",
   "metadata": {},
   "source": [
    "### 3. Affine Decomposition \n",
    "\n",
    "For this problem the affine decomposition is straightforward:\n",
    "$$a(u,v;\\boldsymbol{\\mu})=\\underbrace{1}_{\\Theta^{a}_0(\\boldsymbol{\\mu})}\\underbrace{\\int_{\\Omega}\\nabla u \\cdot \\nabla v \\ d\\boldsymbol{x}}_{a_0(u,v)},$$\n",
    "$$c(u,v;\\boldsymbol{\\mu})=\\underbrace{\\mu_0}_{\\Theta^{c}_0(\\boldsymbol{\\mu})}\\underbrace{\\int_{\\Omega}\\frac{1}{\\mu_1}\\big(\\exp\\{\\mu_1u\\} - 1\\big)v \\ d\\boldsymbol{x}}_{c_0(u,v)},$$\n",
    "$$f(v; \\boldsymbol{\\mu}) = \\underbrace{100}_{\\Theta^{f}_0(\\boldsymbol{\\mu})} \\underbrace{\\int_{\\Omega}\\sin(2\\pi x_0)cos(2\\pi x_1)v \\ d\\boldsymbol{x}}_{f_0(v)}.$$\n",
    "We will implement the numerical discretization of the problem in the class\n",
    "```\n",
    "class NonlinearElliptic(NonlinearEllipticProblem):\n",
    "```\n",
    "by specifying the coefficients $\\Theta^{a}_*(\\boldsymbol{\\mu})$, $\\Theta^{c}_*(\\boldsymbol{\\mu})$ and $\\Theta^{f}_*(\\boldsymbol{\\mu})$ in the method\n",
    "```\n",
    "    def compute_theta(self, term):\n",
    "```\n",
    "and the bilinear forms $a_*(u, v)$, $c_*(u, v)$ and linear forms $f_*(v)$ in\n",
    "```\n",
    "    def assemble_operator(self, term):\n",
    "```"
   ]
  },
  {
   "cell_type": "code",
   "execution_count": 2,
   "metadata": {},
   "outputs": [],
   "source": [
    "@DEIM(\"online\", basis_generation=\"Greedy\")\n",
    "@ExactParametrizedFunctions(\"offline\")\n",
    "class NonlinearElliptic(NonlinearEllipticProblem):\n",
    "\n",
    "    # Default initialization of members\n",
    "    def __init__(self, V, **kwargs):\n",
    "        # Call the standard initialization\n",
    "        NonlinearEllipticProblem.__init__(self, V, **kwargs)\n",
    "        # ... and also store FEniCS data structures for assembly\n",
    "        assert \"subdomains\" in kwargs\n",
    "        assert \"boundaries\" in kwargs\n",
    "        self.subdomains, self.boundaries = kwargs[\"subdomains\"], kwargs[\"boundaries\"]\n",
    "        self.du = TrialFunction(V)\n",
    "        self.u = self._solution\n",
    "        self.v = TestFunction(V)\n",
    "        self.dx = Measure(\"dx\")(subdomain_data=self.subdomains)\n",
    "        self.ds = Measure(\"ds\")(subdomain_data=self.boundaries)\n",
    "        # Store the forcing term expression\n",
    "        self.f = Expression(\"sin(2*pi*x[0])*sin(2*pi*x[1])\", element=self.V.ufl_element())\n",
    "        # Customize nonlinear solver parameters\n",
    "        self._nonlinear_solver_parameters.update({\n",
    "            \"linear_solver\": \"mumps\",\n",
    "            \"maximum_iterations\": 20,\n",
    "            \"report\": True\n",
    "        })\n",
    "\n",
    "    # Return custom problem name\n",
    "    def name(self):\n",
    "        return \"NonlinearEllipticDEIM\"\n",
    "\n",
    "    # Return theta multiplicative terms of the affine expansion of the problem.\n",
    "    @compute_theta_for_derivatives\n",
    "    def compute_theta(self, term):\n",
    "        mu = self.mu\n",
    "        if term == \"a\":\n",
    "            theta_a0 = 1.\n",
    "            return (theta_a0,)\n",
    "        elif term == \"c\":\n",
    "            theta_c0 = mu[0]\n",
    "            return (theta_c0,)\n",
    "        elif term == \"f\":\n",
    "            theta_f0 = 100.\n",
    "            return (theta_f0,)\n",
    "        elif term == \"s\":\n",
    "            theta_s0 = 1.0\n",
    "            return (theta_s0,)\n",
    "        else:\n",
    "            raise ValueError(\"Invalid term for compute_theta().\")\n",
    "\n",
    "    # Return forms resulting from the discretization of the affine expansion of the problem operators.\n",
    "    @assemble_operator_for_derivatives\n",
    "    def assemble_operator(self, term):\n",
    "        v = self.v\n",
    "        dx = self.dx\n",
    "        if term == \"a\":\n",
    "            du = self.du\n",
    "            a0 = inner(grad(du), grad(v)) * dx\n",
    "            return (a0,)\n",
    "        elif term == \"c\":\n",
    "            u = self.u\n",
    "            mu = self.mu\n",
    "            c0 = (exp(mu[1] * u) - 1) / mu[1] * v * dx\n",
    "            return (c0,)\n",
    "        elif term == \"f\":\n",
    "            f = self.f\n",
    "            f0 = f * v * dx\n",
    "            return (f0,)\n",
    "        elif term == \"s\":\n",
    "            s0 = v * dx\n",
    "            return (s0,)\n",
    "        elif term == \"dirichlet_bc\":\n",
    "            bc0 = [DirichletBC(self.V, Constant(0.0), self.boundaries, 1)]\n",
    "            return (bc0,)\n",
    "        elif term == \"inner_product\":\n",
    "            du = self.du\n",
    "            x0 = inner(grad(du), grad(v)) * dx\n",
    "            return (x0,)\n",
    "        else:\n",
    "            raise ValueError(\"Invalid term for assemble_operator().\")\n",
    "\n",
    "\n",
    "# Customize the resulting reduced problem\n",
    "@CustomizeReducedProblemFor(NonlinearEllipticProblem)\n",
    "def CustomizeReducedNonlinearElliptic(ReducedNonlinearElliptic_Base):\n",
    "    class ReducedNonlinearElliptic(ReducedNonlinearElliptic_Base):\n",
    "        def __init__(self, truth_problem, **kwargs):\n",
    "            ReducedNonlinearElliptic_Base.__init__(self, truth_problem, **kwargs)\n",
    "            self._nonlinear_solver_parameters.update({\n",
    "                \"report\": True,\n",
    "                \"line_search\": \"wolfe\"\n",
    "            })\n",
    "\n",
    "    return ReducedNonlinearElliptic"
   ]
  },
  {
   "cell_type": "markdown",
   "metadata": {},
   "source": [
    "## 4. Main program\n",
    "\n",
    "### 4.1. Read the mesh for this problem\n",
    "The mesh was generated by the [data/generate_mesh.ipynb](data/generate_mesh.ipynb) notebook."
   ]
  },
  {
   "cell_type": "code",
   "execution_count": 3,
   "metadata": {},
   "outputs": [],
   "source": [
    "mesh = Mesh(\"data/square.xml\")\n",
    "subdomains = MeshFunction(\"size_t\", mesh, \"data/square_physical_region.xml\")\n",
    "boundaries = MeshFunction(\"size_t\", mesh, \"data/square_facet_region.xml\")"
   ]
  },
  {
   "cell_type": "markdown",
   "metadata": {},
   "source": [
    "### 4.2. Create Finite Element space (Lagrange P1)"
   ]
  },
  {
   "cell_type": "code",
   "execution_count": 4,
   "metadata": {},
   "outputs": [],
   "source": [
    "V = FunctionSpace(mesh, \"Lagrange\", 1)"
   ]
  },
  {
   "cell_type": "markdown",
   "metadata": {},
   "source": [
    "### 4.3. Allocate an object of the NonlinearElliptic class"
   ]
  },
  {
   "cell_type": "code",
   "execution_count": 5,
   "metadata": {},
   "outputs": [],
   "source": [
    "problem = NonlinearElliptic(V, subdomains=subdomains, boundaries=boundaries)\n",
    "mu_range = [(0.01, 10.0), (0.01, 10.0)]\n",
    "problem.set_mu_range(mu_range)"
   ]
  },
  {
   "cell_type": "markdown",
   "metadata": {},
   "source": [
    "### 4.4. Prepare reduction with a POD-Galerkin method"
   ]
  },
  {
   "cell_type": "code",
   "execution_count": 6,
   "metadata": {},
   "outputs": [],
   "source": [
    "reduction_method = PODGalerkin(problem)\n",
    "reduction_method.set_Nmax(20, DEIM=21)\n",
    "reduction_method.set_tolerance(1e-8, DEIM=1e-4)"
   ]
  },
  {
   "cell_type": "markdown",
   "metadata": {},
   "source": [
    "### 4.5. Perform the offline phase"
   ]
  },
  {
   "cell_type": "code",
   "execution_count": 7,
   "metadata": {
    "scrolled": true
   },
   "outputs": [],
   "source": [
    "reduction_method.initialize_training_set(50, DEIM=60)\n",
    "reduced_problem = reduction_method.offline()"
   ]
  },
  {
   "cell_type": "code",
   "execution_count": 8,
   "metadata": {},
   "outputs": [],
   "source": [
    "reduction_method.initialize_testing_set(50, DEIM=60)\n",
    "net = NN.RONN(problem, reduction_method)"
   ]
  },
  {
   "cell_type": "code",
   "execution_count": 9,
   "metadata": {},
   "outputs": [],
   "source": [
    "input_normalization = Normalization.IdentityNormalization()\n",
    "output_normalization = Normalization.IdentityNormalization()"
   ]
  },
  {
   "cell_type": "code",
   "execution_count": 10,
   "metadata": {},
   "outputs": [],
   "source": [
    "pdnn_loss = Losses.PDNN_Loss(net, output_normalization)\n",
    "pinn_loss = Losses.PINN_Loss(net)\n",
    "prnn_loss = Losses.PRNN_Loss(net, output_normalization, omega=1.)"
   ]
  },
  {
   "cell_type": "code",
   "execution_count": 12,
   "metadata": {
    "scrolled": true
   },
   "outputs": [
    {
     "name": "stdout",
     "output_type": "stream",
     "text": [
      "Beginning training...\n",
      "0 0.01247579787638544 \tmean error(validation) = 0.023286467000186627\n",
      "100 0.010527717626691952 \tmean error(validation) = 0.020741027702968484\n",
      "200 0.008950408626521434 \tmean error(validation) = 0.01870227137173838\n",
      "300 0.007635899685390895 \tmean error(validation) = 0.01688005522375352\n",
      "400 0.006524588297759946 \tmean error(validation) = 0.015220238910031412\n",
      "500 0.005580476941016602 \tmean error(validation) = 0.013845283580268816\n",
      "600 0.004778824738444345 \tmean error(validation) = 0.012637481495766248\n",
      "700 0.0040998048670518525 \tmean error(validation) = 0.011499037998086081\n",
      "800 0.0035258454019231715 \tmean error(validation) = 0.010432566153467222\n",
      "900 0.0030409497728224833 \tmean error(validation) = 0.009447329436702841\n",
      "1000 0.002630864493761276 \tmean error(validation) = 0.008550665910842612\n",
      "1100 0.002282945240662024 \tmean error(validation) = 0.00774310761678554\n",
      "1200 0.0019864834939711078 \tmean error(validation) = 0.007021425908707965\n",
      "1300 0.001732504903600258 \tmean error(validation) = 0.006379601773852014\n",
      "1400 0.0015136104516279957 \tmean error(validation) = 0.005809630424743831\n",
      "1500 0.0013239687822464796 \tmean error(validation) = 0.005304226260306544\n",
      "1600 0.0011588634511492404 \tmean error(validation) = 0.00485571145422543\n",
      "1700 0.0010148398565568058 \tmean error(validation) = 0.004457972759239847\n",
      "1800 0.0008889396335201656 \tmean error(validation) = 0.004109083798674494\n",
      "1900 0.0007791325471244804 \tmean error(validation) = 0.0038062415550836363\n",
      "2000 0.000683516753339573 \tmean error(validation) = 0.0035437890239991042\n",
      "2100 0.0006006267202237057 \tmean error(validation) = 0.003313950595155811\n",
      "2200 0.0005291298046792878 \tmean error(validation) = 0.0031084742909181485\n",
      "2300 0.00046782824555099495 \tmean error(validation) = 0.0029218466204169865\n",
      "2400 0.00041554210337821086 \tmean error(validation) = 0.0027502392213154766\n",
      "2500 0.00037121659708844927 \tmean error(validation) = 0.002592317849847882\n",
      "2600 0.00033377497789240784 \tmean error(validation) = 0.0024464762965040153\n",
      "2700 0.0003022504224685336 \tmean error(validation) = 0.0023142077552720124\n",
      "2800 0.0002756987411985632 \tmean error(validation) = 0.0021933712888723526\n",
      "2900 0.0002532950705270981 \tmean error(validation) = 0.0020856258953422732\n",
      "3000 0.00023426885945452482 \tmean error(validation) = 0.001987999042433964\n",
      "3100 0.00021801482417854078 \tmean error(validation) = 0.0019016564118547932\n",
      "3200 0.00020397451938443305 \tmean error(validation) = 0.0018237279706785215\n",
      "3300 0.00019171895293782263 \tmean error(validation) = 0.001753282269162322\n",
      "3400 0.000180915900253496 \tmean error(validation) = 0.0016921502795481998\n",
      "3500 0.0001712993174995697 \tmean error(validation) = 0.0016455893816860081\n",
      "3600 0.0001626012908500992 \tmean error(validation) = 0.001577762436768369\n",
      "3700 0.00015469478883535948 \tmean error(validation) = 0.001525655199500971\n",
      "3800 0.00014745999230687066 \tmean error(validation) = 0.001477825251489698\n",
      "3900 0.00014076055164949787 \tmean error(validation) = 0.0014340973659849165\n",
      "4000 0.00013454215803854696 \tmean error(validation) = 0.0013933168077506662\n",
      "4100 0.00012869448276536406 \tmean error(validation) = 0.0013500883205865746\n",
      "4200 0.0001232238977220764 \tmean error(validation) = 0.00132068105435683\n",
      "4300 0.00011808100634702264 \tmean error(validation) = 0.0012869632426068729\n",
      "4400 0.00011322942424457938 \tmean error(validation) = 0.0012608121174326149\n",
      "4500 0.0001087638343331243 \tmean error(validation) = 0.0012532720557175835\n",
      "4600 0.00010431582926106001 \tmean error(validation) = 0.001204253675448215\n",
      "4700 0.00010022922759849787 \tmean error(validation) = 0.0011762647431135058\n",
      "4800 9.635002663214982e-05 \tmean error(validation) = 0.0011523059619831888\n",
      "4900 9.266996510887235e-05 \tmean error(validation) = 0.0011312612216098443\n",
      "5000 8.917768641190815e-05 \tmean error(validation) = 0.0011118748642006326\n",
      "5100 8.585756842605904e-05 \tmean error(validation) = 0.0010925067562584357\n",
      "5200 8.272514933557431e-05 \tmean error(validation) = 0.0010733537661799047\n",
      "5300 7.97409048944739e-05 \tmean error(validation) = 0.0010559460275437384\n",
      "5400 7.690697415300196e-05 \tmean error(validation) = 0.00104273496396003\n",
      "5500 7.437892467899129e-05 \tmean error(validation) = 0.0010463968880346415\n",
      "5600 7.166619174314647e-05 \tmean error(validation) = 0.001010881723388448\n",
      "5700 6.922573054757944e-05 \tmean error(validation) = 0.0009977071487612015\n",
      "5800 6.696248284180408e-05 \tmean error(validation) = 0.0009747095150258528\n",
      "5900 6.471524006999392e-05 \tmean error(validation) = 0.0009746095137290608\n",
      "6000 6.263909723632023e-05 \tmean error(validation) = 0.0009658372063483925\n",
      "6100 6.06139178058353e-05 \tmean error(validation) = 0.0009484415193067459\n",
      "6200 5.871694012106095e-05 \tmean error(validation) = 0.0009342864031419998\n",
      "6300 5.6955011093847635e-05 \tmean error(validation) = 0.0009381805579948844\n",
      "6400 5.517416095217127e-05 \tmean error(validation) = 0.0009111641463908918\n",
      "6500 5.35175163882256e-05 \tmean error(validation) = 0.0009015885805413956\n",
      "6600 5.195391268332285e-05 \tmean error(validation) = 0.0008928792619344601\n",
      "6700 5.0425837350511756e-05 \tmean error(validation) = 0.0008751929768630996\n",
      "6800 4.898217021324125e-05 \tmean error(validation) = 0.0008669436399466717\n",
      "6900 4.760134124896585e-05 \tmean error(validation) = 0.0008504059434054091\n",
      "7000 4.6301853278058415e-05 \tmean error(validation) = 0.0008321238676364447\n",
      "7100 4.507265852252804e-05 \tmean error(validation) = 0.0008475775562935648\n",
      "7200 4.38027304203348e-05 \tmean error(validation) = 0.0008234822446418664\n",
      "7300 4.2633642273990065e-05 \tmean error(validation) = 0.0008023861541200397\n",
      "7400 4.151532829119482e-05 \tmean error(validation) = 0.0007970592092097679\n",
      "7500 4.044237703631645e-05 \tmean error(validation) = 0.0007837304990746101\n",
      "7600 3.941275342057295e-05 \tmean error(validation) = 0.0007709933914921951\n",
      "7700 3.842991380180627e-05 \tmean error(validation) = 0.0007571553596060992\n",
      "7800 3.748740164038172e-05 \tmean error(validation) = 0.0007382987663964245\n",
      "7900 3.6685620468147556e-05 \tmean error(validation) = 0.0007108521450293648\n",
      "8000 3.570319673604233e-05 \tmean error(validation) = 0.0007204917906897482\n",
      "8100 3.487523669029121e-05 \tmean error(validation) = 0.0006971490929109411\n",
      "8200 3.405271200167624e-05 \tmean error(validation) = 0.0006939544236930933\n",
      "8300 3.327565407384308e-05 \tmean error(validation) = 0.0006802793435891784\n",
      "8400 3.253718974448972e-05 \tmean error(validation) = 0.0006681170270328849\n",
      "8500 3.1815181823481685e-05 \tmean error(validation) = 0.0006614140456611428\n",
      "8600 3.1116527606793444e-05 \tmean error(validation) = 0.0006433507657046388\n",
      "8700 3.045511756481832e-05 \tmean error(validation) = 0.0006315315576685352\n",
      "8800 2.985056151193198e-05 \tmean error(validation) = 0.0006197162747803163\n",
      "8900 2.9255335592134347e-05 \tmean error(validation) = 0.0005992132024729766\n",
      "9000 2.8607971674282528e-05 \tmean error(validation) = 0.0005968818478175463\n",
      "9100 2.8032525587301354e-05 \tmean error(validation) = 0.0005845360626302901\n",
      "9200 2.747826329714485e-05 \tmean error(validation) = 0.0005739017086143748\n",
      "9300 2.6939633339175223e-05 \tmean error(validation) = 0.0005570777204507945\n",
      "9400 2.6420771387821916e-05 \tmean error(validation) = 0.0005481824766671456\n",
      "9500 2.592139794869298e-05 \tmean error(validation) = 0.0005417430322464974\n",
      "9600 2.548785707762092e-05 \tmean error(validation) = 0.0005323643881865678\n",
      "9700 2.497454863302388e-05 \tmean error(validation) = 0.0005151332830737584\n",
      "9800 2.4536189677750462e-05 \tmean error(validation) = 0.000512646256848598\n",
      "9900 2.409310070936644e-05 \tmean error(validation) = 0.0004933706425022325\n"
     ]
    }
   ],
   "source": [
    "NN.train(net, pinn_loss, input_normalization, lr=0.00001, epochs=10000)"
   ]
  },
  {
   "cell_type": "markdown",
   "metadata": {},
   "source": [
    "### 4.6. Perform an online solve"
   ]
  },
  {
   "cell_type": "code",
   "execution_count": 13,
   "metadata": {},
   "outputs": [
    {
     "name": "stdout",
     "output_type": "stream",
     "text": [
      "0:  |F(x)| = 2.45182; step 0.527297\n",
      "1:  |F(x)| = 0.318169; step 1\n",
      "2:  |F(x)| = 0.0160489; step 1\n",
      "3:  |F(x)| = 3.48124e-05; step 1\n",
      "4:  |F(x)| = 8.48606e-07; step 1\n",
      "scipy solver converged in 6 iterations.\n",
      "[-4.87926159e+00 -2.50593109e-01 -6.15314679e-03  2.32357490e-02\n",
      "  2.68071439e-03 -1.38134974e-03  2.92614919e-04 -1.20002673e-04]\n"
     ]
    },
    {
     "data": {
      "text/plain": [
       "<matplotlib.tri.tricontour.TriContourSet at 0x13bbc51e0>"
      ]
     },
     "execution_count": 13,
     "metadata": {},
     "output_type": "execute_result"
    },
    {
     "data": {
      "image/png": "[encoded data removed]",
      "text/plain": [
       "<Figure size 432x288 with 1 Axes>"
      ]
     },
     "metadata": {
      "needs_background": "light"
     },
     "output_type": "display_data"
    }
   ],
   "source": [
    "online_mu = (5., 5.)\n",
    "reduced_problem.set_mu(online_mu)\n",
    "reduced_solution = reduced_problem.solve()\n",
    "print(reduced_problem._solution)\n",
    "plot(reduced_solution, reduced_problem=reduced_problem)"
   ]
  },
  {
   "cell_type": "code",
   "execution_count": 14,
   "metadata": {},
   "outputs": [
    {
     "name": "stdout",
     "output_type": "stream",
     "text": [
      "[-4.88098907e+00 -2.48682544e-01 -5.89742884e-03  2.33993530e-02\n",
      "  2.67504621e-03 -1.49981026e-03  5.90898097e-04  9.33073461e-05]\n"
     ]
    },
    {
     "data": {
      "text/plain": [
       "RONN(\n",
       "  (layers): ModuleList(\n",
       "    (0): Linear(in_features=2, out_features=100, bias=True)\n",
       "    (1): Linear(in_features=100, out_features=100, bias=True)\n",
       "    (2): Linear(in_features=100, out_features=8, bias=True)\n",
       "  )\n",
       ")"
      ]
     },
     "execution_count": 14,
     "metadata": {},
     "output_type": "execute_result"
    },
    {
     "data": {
      "image/png": "[encoded data removed]",
      "text/plain": [
       "<Figure size 432x288 with 1 Axes>"
      ]
     },
     "metadata": {
      "needs_background": "light"
     },
     "output_type": "display_data"
    }
   ],
   "source": [
    "net.eval()\n",
    "\n",
    "with torch.no_grad():\n",
    "    online_mu_nn = torch.tensor(online_mu)\n",
    "    # NOTE: Change output_normalization accordingly for the different losses\n",
    "    reduced_solution_nn = net.solve(online_mu_nn, input_normalization, output_normalization=None)\n",
    "    print(reduced_solution_nn)\n",
    "    plot(reduced_solution_nn, reduced_problem=reduced_problem)\n",
    "\n",
    "net.train()"
   ]
  },
  {
   "cell_type": "code",
   "execution_count": 15,
   "metadata": {
    "scrolled": true
   },
   "outputs": [
    {
     "name": "stdout",
     "output_type": "stream",
     "text": [
      "0.0007977956404628542\n"
     ]
    },
    {
     "data": {
      "text/plain": [
       "<matplotlib.collections.PathCollection at 0x13d9d4b20>"
      ]
     },
     "execution_count": 15,
     "metadata": {},
     "output_type": "execute_result"
    },
    {
     "data": {
      "image/png": "[encoded data removed]",
      "text/plain": [
       "<Figure size 432x288 with 1 Axes>"
      ]
     },
     "metadata": {
      "needs_background": "light"
     },
     "output_type": "display_data"
    }
   ],
   "source": [
    "mu, errors, error_plot = NN.plot_error(net, input_normalization)\n",
    "print(np.mean(errors))\n",
    "error_plot"
   ]
  },
  {
   "cell_type": "code",
   "execution_count": 16,
   "metadata": {},
   "outputs": [
    {
     "name": "stdout",
     "output_type": "stream",
     "text": [
      "3.443592217047621e-10 1.3367480360835813e-07 1.3530682990360842e-07\n"
     ]
    }
   ],
   "source": [
    "problem.set_mu(online_mu)\n",
    "problem.solve()\n",
    "hf_sol = np.array(problem._solution.vector())\n",
    "rb_sol = np.array((reduced_problem.basis_functions * reduced_solution).vector())\n",
    "nn_sol = np.array((reduced_problem.basis_functions * reduced_solution_nn).vector())\n",
    "print(np.mean((hf_sol - rb_sol)**2), np.mean((rb_sol - nn_sol)**2), np.mean((hf_sol - nn_sol)**2))"
   ]
  },
  {
   "cell_type": "markdown",
   "metadata": {},
   "source": [
    "### 4.7. Perform an error analysis"
   ]
  },
  {
   "cell_type": "code",
   "execution_count": null,
   "metadata": {},
   "outputs": [],
   "source": [
    "reduction_method.initialize_testing_set(50, DEIM=60)\n",
    "reduction_method.error_analysis()"
   ]
  },
  {
   "cell_type": "markdown",
   "metadata": {},
   "source": [
    "### 4.8. Perform a speedup analysis"
   ]
  },
  {
   "cell_type": "code",
   "execution_count": null,
   "metadata": {},
   "outputs": [],
   "source": [
    "reduction_method.speedup_analysis()"
   ]
  }
 ],
 "metadata": {
  "kernelspec": {
   "display_name": "Python 3 (ipykernel)",
   "language": "python",
   "name": "python3"
  },
  "language_info": {
   "codemirror_mode": {
    "name": "ipython",
    "version": 3
   },
   "file_extension": ".py",
   "mimetype": "text/x-python",
   "name": "python",
   "nbconvert_exporter": "python",
   "pygments_lexer": "ipython3",
   "version": "3.10.4"
  }
 },
 "nbformat": 4,
 "nbformat_minor": 4
}
