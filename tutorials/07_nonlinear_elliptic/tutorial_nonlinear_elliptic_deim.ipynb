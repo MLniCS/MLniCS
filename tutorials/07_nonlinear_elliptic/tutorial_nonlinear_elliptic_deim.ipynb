{
 "cells": [
  {
   "cell_type": "markdown",
   "metadata": {},
   "source": [
    "## Tutorial 07 - Non linear Elliptic problem\n",
    "**_Keywords: DEIM, POD-Galerkin_**\n",
    "\n",
    "### 1. Introduction\n",
    "\n",
    "In this tutorial, we consider a non linear elliptic problem in a two-dimensional spatial domain $\\Omega=(0,1)^2$. We impose a homogeneous Dirichlet condition on the boundary $\\partial\\Omega$. The source term is characterized by the following expression\n",
    "$$\n",
    "g(\\boldsymbol{x}; \\boldsymbol{\\mu}) = 100\\sin(2\\pi x_0)cos(2\\pi x_1) \\quad \\forall \\boldsymbol{x} = (x_0, x_1) \\in \\Omega.\n",
    "$$\n",
    "\n",
    "This problem is characterized by two parameters. The first parameter $\\mu_0$ controls the strength of the sink term and the second parameter $\\mu_1$ the strength of the nonlinearity. The range of the two parameters is the following:\n",
    "$$\n",
    "\\mu_0,\\mu_1\\in[0.01,10.0]\n",
    "$$\n",
    "The parameter vector $\\boldsymbol{\\mu}$ is thus given by\n",
    "$$\n",
    "\\boldsymbol{\\mu} = (\\mu_0,\\mu_1)\n",
    "$$\n",
    "on the parameter domain\n",
    "$$\n",
    "\\mathbb{P}=[0.01,10]^2.\n",
    "$$\n",
    "\n",
    "\n",
    "In order to obtain a faster approximation of the problem, we pursue a model reduction by means of a POD-Galerkin reduced order method. In order to preserve the affinity assumption the discrete empirical interpolation method will be used on the forcing term $g(\\boldsymbol{x}; \\boldsymbol{\\mu})$.\n",
    "\n"
   ]
  },
  {
   "cell_type": "markdown",
   "metadata": {},
   "source": [
    "### 2. Parametrized formulation\n",
    "\n",
    "Let $u(\\boldsymbol{\\mu})$ be the solution in the domain $\\Omega$.\n",
    "\n",
    "The strong formulation of the parametrized problem is given by: for a given parameter $\\boldsymbol{\\mu}\\in\\mathbb{P}$, find $u(\\boldsymbol{\\mu})$ such that\n",
    "\n",
    "$$ -\\nabla^2u(\\boldsymbol{\\mu})+\\frac{\\mu_0}{\\mu_1}(\\exp\\{\\mu_1u(\\boldsymbol{\\mu})\\}-1)=g(\\boldsymbol{x}; \\boldsymbol{\\mu})$$\n",
    "<br>\n",
    "    \n",
    "The corresponding weak formulation reads: for a given parameter $\\boldsymbol{\\mu}\\in\\mathbb{P}$, find $u(\\boldsymbol{\\mu})\\in\\mathbb{V}$ such that\n",
    "\n",
    "$$a\\left(u(\\boldsymbol{\\mu}),v;\\boldsymbol{\\mu}\\right)+c\\left(u(\\boldsymbol{\\mu}),v;\\boldsymbol{\\mu}\\right)=f(v;\\boldsymbol{\\mu})\\quad \\forall v\\in\\mathbb{V}$$\n",
    "\n",
    "where\n",
    "\n",
    "* the function space $\\mathbb{V}$ is defined as\n",
    "$$\n",
    "\\mathbb{V} = \\{v\\in H_1(\\Omega) : v|_{\\partial\\Omega}=0\\}\n",
    "$$\n",
    "* the parametrized bilinear form $a(\\cdot, \\cdot; \\boldsymbol{\\mu}): \\mathbb{V} \\times \\mathbb{V} \\to \\mathbb{R}$ is defined by\n",
    "$$a(u, v;\\boldsymbol{\\mu})=\\int_{\\Omega} \\nabla u\\cdot \\nabla v \\ d\\boldsymbol{x},$$\n",
    "* the parametrized bilinear form $c(\\cdot, \\cdot; \\boldsymbol{\\mu}): \\mathbb{V} \\times \\mathbb{V} \\to \\mathbb{R}$ is defined by\n",
    "$$c(u, v;\\boldsymbol{\\mu})=\\mu_0\\int_{\\Omega} \\frac{1}{\\mu_1}\\big(\\exp\\{\\mu_1u\\} - 1\\big)v \\ d\\boldsymbol{x},$$\n",
    "* the parametrized linear form $f(\\cdot; \\boldsymbol{\\mu}): \\mathbb{V} \\to \\mathbb{R}$ is defined by\n",
    "$$f(v; \\boldsymbol{\\mu})= \\int_{\\Omega}g(\\boldsymbol{x}; \\boldsymbol{\\mu})v \\ d\\boldsymbol{x}.$$\n",
    "\n",
    "The output of interest $s(\\boldsymbol{\\mu})$ is given by\n",
    "$$s(\\boldsymbol{\\mu}) = \\int_{\\Omega} v \\ d\\boldsymbol{x}$$\n",
    "is computed for each $\\boldsymbol{\\mu}$."
   ]
  },
  {
   "cell_type": "code",
   "execution_count": 1,
   "metadata": {},
   "outputs": [],
   "source": [
    "import os\n",
    "import sys\n",
    "sys.path.append('../../')\n",
    "\n",
    "from mlnics import NN, Losses, Normalization, RONNData, IO, Training, ErrorAnalysis\n",
    "from dolfin import *\n",
    "from rbnics import *\n",
    "import torch\n",
    "import numpy as np\n",
    "\n",
    "torch.manual_seed(0)\n",
    "np.random.seed(0)"
   ]
  },
  {
   "cell_type": "markdown",
   "metadata": {},
   "source": [
    "### 3. Affine Decomposition \n",
    "\n",
    "For this problem the affine decomposition is straightforward:\n",
    "$$a(u,v;\\boldsymbol{\\mu})=\\underbrace{1}_{\\Theta^{a}_0(\\boldsymbol{\\mu})}\\underbrace{\\int_{\\Omega}\\nabla u \\cdot \\nabla v \\ d\\boldsymbol{x}}_{a_0(u,v)},$$\n",
    "$$c(u,v;\\boldsymbol{\\mu})=\\underbrace{\\mu_0}_{\\Theta^{c}_0(\\boldsymbol{\\mu})}\\underbrace{\\int_{\\Omega}\\frac{1}{\\mu_1}\\big(\\exp\\{\\mu_1u\\} - 1\\big)v \\ d\\boldsymbol{x}}_{c_0(u,v)},$$\n",
    "$$f(v; \\boldsymbol{\\mu}) = \\underbrace{100}_{\\Theta^{f}_0(\\boldsymbol{\\mu})} \\underbrace{\\int_{\\Omega}\\sin(2\\pi x_0)cos(2\\pi x_1)v \\ d\\boldsymbol{x}}_{f_0(v)}.$$\n",
    "We will implement the numerical discretization of the problem in the class\n",
    "```\n",
    "class NonlinearElliptic(NonlinearEllipticProblem):\n",
    "```\n",
    "by specifying the coefficients $\\Theta^{a}_*(\\boldsymbol{\\mu})$, $\\Theta^{c}_*(\\boldsymbol{\\mu})$ and $\\Theta^{f}_*(\\boldsymbol{\\mu})$ in the method\n",
    "```\n",
    "    def compute_theta(self, term):\n",
    "```\n",
    "and the bilinear forms $a_*(u, v)$, $c_*(u, v)$ and linear forms $f_*(v)$ in\n",
    "```\n",
    "    def assemble_operator(self, term):\n",
    "```"
   ]
  },
  {
   "cell_type": "code",
   "execution_count": 2,
   "metadata": {},
   "outputs": [],
   "source": [
    "@DEIM(\"online\", basis_generation=\"Greedy\")\n",
    "@ExactParametrizedFunctions(\"offline\")\n",
    "class NonlinearElliptic(NonlinearEllipticProblem):\n",
    "\n",
    "    # Default initialization of members\n",
    "    def __init__(self, V, **kwargs):\n",
    "        # Call the standard initialization\n",
    "        NonlinearEllipticProblem.__init__(self, V, **kwargs)\n",
    "        # ... and also store FEniCS data structures for assembly\n",
    "        assert \"subdomains\" in kwargs\n",
    "        assert \"boundaries\" in kwargs\n",
    "        self.subdomains, self.boundaries = kwargs[\"subdomains\"], kwargs[\"boundaries\"]\n",
    "        self.du = TrialFunction(V)\n",
    "        self.u = self._solution\n",
    "        self.v = TestFunction(V)\n",
    "        self.dx = Measure(\"dx\")(subdomain_data=self.subdomains)\n",
    "        self.ds = Measure(\"ds\")(subdomain_data=self.boundaries)\n",
    "        # Store the forcing term expression\n",
    "        self.f = Expression(\"sin(2*pi*x[0])*sin(2*pi*x[1])\", element=self.V.ufl_element())\n",
    "        # Customize nonlinear solver parameters\n",
    "        self._nonlinear_solver_parameters.update({\n",
    "            \"linear_solver\": \"mumps\",\n",
    "            \"maximum_iterations\": 20,\n",
    "            \"report\": True\n",
    "        })\n",
    "\n",
    "    # Return custom problem name\n",
    "    def name(self):\n",
    "        return \"NonlinearEllipticDEIM\"\n",
    "\n",
    "    # Return theta multiplicative terms of the affine expansion of the problem.\n",
    "    @compute_theta_for_derivatives\n",
    "    def compute_theta(self, term):\n",
    "        mu = self.mu\n",
    "        if term == \"a\":\n",
    "            theta_a0 = 1.\n",
    "            return (theta_a0,)\n",
    "        elif term == \"c\":\n",
    "            theta_c0 = mu[0]\n",
    "            return (theta_c0,)\n",
    "        elif term == \"f\":\n",
    "            theta_f0 = 100.\n",
    "            return (theta_f0,)\n",
    "        elif term == \"s\":\n",
    "            theta_s0 = 1.0\n",
    "            return (theta_s0,)\n",
    "        else:\n",
    "            raise ValueError(\"Invalid term for compute_theta().\")\n",
    "\n",
    "    # Return forms resulting from the discretization of the affine expansion of the problem operators.\n",
    "    @assemble_operator_for_derivatives\n",
    "    def assemble_operator(self, term):\n",
    "        v = self.v\n",
    "        dx = self.dx\n",
    "        if term == \"a\":\n",
    "            du = self.du\n",
    "            a0 = inner(grad(du), grad(v)) * dx\n",
    "            return (a0,)\n",
    "        elif term == \"c\":\n",
    "            u = self.u\n",
    "            mu = self.mu\n",
    "            c0 = (exp(mu[1] * u) - 1) / mu[1] * v * dx\n",
    "            return (c0,)\n",
    "        elif term == \"f\":\n",
    "            f = self.f\n",
    "            f0 = f * v * dx\n",
    "            return (f0,)\n",
    "        elif term == \"s\":\n",
    "            s0 = v * dx\n",
    "            return (s0,)\n",
    "        elif term == \"dirichlet_bc\":\n",
    "            bc0 = [DirichletBC(self.V, Constant(0.0), self.boundaries, 1)]\n",
    "            return (bc0,)\n",
    "        elif term == \"inner_product\":\n",
    "            du = self.du\n",
    "            x0 = inner(grad(du), grad(v)) * dx\n",
    "            return (x0,)\n",
    "        else:\n",
    "            raise ValueError(\"Invalid term for assemble_operator().\")\n",
    "\n",
    "\n",
    "# Customize the resulting reduced problem\n",
    "@CustomizeReducedProblemFor(NonlinearEllipticProblem)\n",
    "def CustomizeReducedNonlinearElliptic(ReducedNonlinearElliptic_Base):\n",
    "    class ReducedNonlinearElliptic(ReducedNonlinearElliptic_Base):\n",
    "        def __init__(self, truth_problem, **kwargs):\n",
    "            ReducedNonlinearElliptic_Base.__init__(self, truth_problem, **kwargs)\n",
    "            self._nonlinear_solver_parameters.update({\n",
    "                \"report\": True,\n",
    "                \"line_search\": \"wolfe\"\n",
    "            })\n",
    "\n",
    "    return ReducedNonlinearElliptic"
   ]
  },
  {
   "cell_type": "markdown",
   "metadata": {},
   "source": [
    "## 4. Main program\n",
    "\n",
    "### 4.1. Read the mesh for this problem\n",
    "The mesh was generated by the [data/generate_mesh.ipynb](data/generate_mesh.ipynb) notebook."
   ]
  },
  {
   "cell_type": "code",
   "execution_count": 3,
   "metadata": {},
   "outputs": [],
   "source": [
    "mesh = Mesh(\"data/square.xml\")\n",
    "subdomains = MeshFunction(\"size_t\", mesh, \"data/square_physical_region.xml\")\n",
    "boundaries = MeshFunction(\"size_t\", mesh, \"data/square_facet_region.xml\")"
   ]
  },
  {
   "cell_type": "markdown",
   "metadata": {},
   "source": [
    "### 4.2. Create Finite Element space (Lagrange P1)"
   ]
  },
  {
   "cell_type": "code",
   "execution_count": 4,
   "metadata": {},
   "outputs": [],
   "source": [
    "V = FunctionSpace(mesh, \"Lagrange\", 1)"
   ]
  },
  {
   "cell_type": "markdown",
   "metadata": {},
   "source": [
    "### 4.3. Allocate an object of the NonlinearElliptic class"
   ]
  },
  {
   "cell_type": "code",
   "execution_count": 5,
   "metadata": {},
   "outputs": [],
   "source": [
    "problem = NonlinearElliptic(V, subdomains=subdomains, boundaries=boundaries)\n",
    "mu_range = [(0.01, 10.0), (0.01, 10.0)]\n",
    "problem.set_mu_range(mu_range)"
   ]
  },
  {
   "cell_type": "markdown",
   "metadata": {},
   "source": [
    "### 4.4. Prepare reduction with a POD-Galerkin method"
   ]
  },
  {
   "cell_type": "code",
   "execution_count": 6,
   "metadata": {},
   "outputs": [],
   "source": [
    "reduction_method = PODGalerkin(problem)\n",
    "reduction_method.set_Nmax(20, DEIM=21)\n",
    "reduction_method.set_tolerance(1e-8, DEIM=1e-5)"
   ]
  },
  {
   "cell_type": "markdown",
   "metadata": {},
   "source": [
    "### 4.5. Perform the offline phase"
   ]
  },
  {
   "cell_type": "markdown",
   "metadata": {},
   "source": [
    "#### 4.5.1 Fit Reduction Method"
   ]
  },
  {
   "cell_type": "code",
   "execution_count": 7,
   "metadata": {
    "scrolled": true
   },
   "outputs": [],
   "source": [
    "reduction_method.initialize_training_set(50, DEIM=60)\n",
    "reduced_problem = reduction_method.offline()"
   ]
  },
  {
   "cell_type": "markdown",
   "metadata": {},
   "source": [
    "#### 4.5.2 Train PINN\n",
    "\n",
    "Given a training set $X_{PINN} = (\\boldsymbol{\\mu}^{(1)}, \\dots, \\boldsymbol{\\mu}^{(n)})$ of parameters for the PDE, we train a Physics-Informed Neural Network (PINN) $\\operatorname{N}_W(\\boldsymbol{\\mu})$ dependent on the weights and biases $W$ of the network to minimize the loss function\n",
    "\n",
    "$$L_{PINN}(X_{PINN}; W) = \\frac1n \\sum_{i=1}^n \\left\\|A(\\boldsymbol{\\mu^{(i)}}) \\operatorname{N}_W(\\boldsymbol{\\mu}^{(i)}) - \\boldsymbol{f}(\\boldsymbol{\\mu}^{(i)}) + \\boldsymbol{c}(\\boldsymbol{\\mu}^{(i)})\\right\\|_2^2$$\n",
    "\n",
    "over $W$, where for a given $\\boldsymbol{\\mu}$, $A(\\boldsymbol{\\mu})$ is the assembled matrix corresponding to the bilinear form $a$, $\\boldsymbol{f}(\\boldsymbol{\\mu})$ is the assembled vector corresponding to the linear form $f$, and $\\boldsymbol{c}(\\boldsymbol{\\mu})$ is a vector corresponding to the nonlinear form $c$."
   ]
  },
  {
   "cell_type": "code",
   "execution_count": 8,
   "metadata": {},
   "outputs": [],
   "source": [
    "input_normalization_pinn = Normalization.StandardNormalization(input_normalization=True)\n",
    "output_normalization_pinn = Normalization.StandardNormalization()\n",
    "\n",
    "pinn_net  = NN.RONN(\"PINN\", problem, reduction_method, n_hidden=2, n_neurons=40)\n",
    "pinn_loss = Losses.PINN_Loss(pinn_net, output_normalization_pinn)\n",
    "data      = RONNData.RONNDataLoader(pinn_net, validation_proportion=0.2, \n",
    "                                    num_without_snapshots=100)\n",
    "optimizer = torch.optim.Adam(pinn_net.parameters(), lr=0.001)\n",
    "scheduler = None\n",
    "\n",
    "pinn_trainer = Training.PINNTrainer(\n",
    "    pinn_net, data, pinn_loss, optimizer, scheduler,\n",
    "    input_normalization_pinn, num_epochs=10000\n",
    ")\n",
    "\n",
    "loaded, starting_epoch = IO.initialize_parameters(\n",
    "    pinn_net, data, pinn_trainer, optimizer\n",
    ")"
   ]
  },
  {
   "cell_type": "code",
   "execution_count": 14,
   "metadata": {
    "scrolled": true
   },
   "outputs": [
    {
     "name": "stdout",
     "output_type": "stream",
     "text": [
      "Operator 'dc' not implemented. Continuing without operator 'dc'...\n",
      "Operator 's' not implemented. Continuing without operator 's'...\n",
      "10000 7.839756868917833e-06 \tLoss(validation) = 3.150323576382845e-05\n",
      "10100 7.44029285414546e-06 \tLoss(validation) = 3.074748285426641e-05\n",
      "10200 7.070004096845921e-06 \tLoss(validation) = 3.035055212014883e-05\n",
      "10300 6.7040009693507006e-06 \tLoss(validation) = 2.9546205458457588e-05\n",
      "10400 6.597993329891718e-06 \tLoss(validation) = 2.7658428182904367e-05\n",
      "10500 6.0410513622715435e-06 \tLoss(validation) = 2.8342178970340918e-05\n",
      "10600 5.734481083200291e-06 \tLoss(validation) = 2.7697520608509403e-05\n",
      "10700 5.480264547721179e-06 \tLoss(validation) = 2.6747073919465624e-05\n",
      "10800 5.181490047425201e-06 \tLoss(validation) = 2.654271343384755e-05\n",
      "10900 4.929277425663279e-06 \tLoss(validation) = 2.5765185619877716e-05\n",
      "11000 4.694916232329468e-06 \tLoss(validation) = 2.521553080593366e-05\n",
      "11100 4.46835520908726e-06 \tLoss(validation) = 2.4854279807130234e-05\n",
      "11200 7.09603026914242e-06 \tLoss(validation) = 3.3295442757090504e-05\n",
      "11300 4.069044262583815e-06 \tLoss(validation) = 2.3809657413335123e-05\n",
      "11400 3.886492293604508e-06 \tLoss(validation) = 2.326258273375695e-05\n",
      "11500 4.274534670847014e-06 \tLoss(validation) = 2.096278190671487e-05\n",
      "11600 3.560547021283897e-06 \tLoss(validation) = 2.2231671038049272e-05\n",
      "11700 3.410652088672289e-06 \tLoss(validation) = 2.1744462038955805e-05\n",
      "11800 3.2780604360053114e-06 \tLoss(validation) = 2.0772344793640166e-05\n",
      "11900 3.1492451960394255e-06 \tLoss(validation) = 2.0798891517937724e-05\n",
      "12000 3.0272107474275565e-06 \tLoss(validation) = 2.0343565629894663e-05\n",
      "12100 3.743643884882284e-06 \tLoss(validation) = 1.9382698305382765e-05\n",
      "12200 2.809111306429178e-06 \tLoss(validation) = 1.9437134975875905e-05\n",
      "12300 2.7072072575770264e-06 \tLoss(validation) = 1.9006279938154492e-05\n",
      "12400 2.645505224808924e-06 \tLoss(validation) = 1.833913840242539e-05\n",
      "12500 2.527368866363352e-06 \tLoss(validation) = 1.819497506106878e-05\n",
      "12600 4.464545614197297e-06 \tLoss(validation) = 1.6445743116920256e-05\n",
      "12700 2.3668254560122633e-06 \tLoss(validation) = 1.7473248166161293e-05\n",
      "12800 2.289089503712154e-06 \tLoss(validation) = 1.703364639649705e-05\n",
      "12900 2.2252740240911906e-06 \tLoss(validation) = 1.6331885589841314e-05\n",
      "13000 2.152301129800407e-06 \tLoss(validation) = 1.632545949794098e-05\n",
      "13100 2.0871801430567302e-06 \tLoss(validation) = 1.606141750047119e-05\n",
      "13200 2.0293529912826975e-06 \tLoss(validation) = 1.5620616940847946e-05\n",
      "13300 1.969056707391856e-06 \tLoss(validation) = 1.5338673129817203e-05\n",
      "13400 2.580746789223613e-05 \tLoss(validation) = 4.3371124387213286e-05\n",
      "13500 1.8603154501033337e-06 \tLoss(validation) = 1.4706179764071417e-05\n",
      "13600 1.8071749387408258e-06 \tLoss(validation) = 1.4420577928922848e-05\n",
      "13700 1.769060033559347e-06 \tLoss(validation) = 1.3918919614592544e-05\n",
      "13800 1.7113070664776781e-06 \tLoss(validation) = 1.3897452763419612e-05\n",
      "13900 2.983214646369707e-06 \tLoss(validation) = 1.3707471014958603e-05\n",
      "14000 1.6235627974621084e-06 \tLoss(validation) = 1.3416787727524206e-05\n",
      "14100 1.5800532054567417e-06 \tLoss(validation) = 1.3149220188359896e-05\n",
      "14200 3.6450026237542444e-06 \tLoss(validation) = 2.4297134630738342e-05\n",
      "14300 1.499279580010866e-06 \tLoss(validation) = 1.2682067635228398e-05\n",
      "14400 1.4595205551806415e-06 \tLoss(validation) = 1.2466663134533907e-05\n",
      "14500 1.4401945843214162e-06 \tLoss(validation) = 1.2116071452510923e-05\n",
      "14600 1.3865172704930644e-06 \tLoss(validation) = 1.2031523015644578e-05\n",
      "14700 1.4728594564242562e-05 \tLoss(validation) = 2.4657616826019167e-05\n",
      "14800 1.3176690479698207e-06 \tLoss(validation) = 1.1651889074860876e-05\n",
      "14900 1.2836859296404731e-06 \tLoss(validation) = 1.1435191864692345e-05\n",
      "15000 1.8501328994838429e-06 \tLoss(validation) = 9.994451011041123e-06\n",
      "15100 1.2206673807067612e-06 \tLoss(validation) = 1.1056026872670115e-05\n",
      "15200 1.1891867226047196e-06 \tLoss(validation) = 1.0879471388652713e-05\n",
      "15300 1.236364122554369e-06 \tLoss(validation) = 1.0303562795694504e-05\n",
      "15400 1.131133996912249e-06 \tLoss(validation) = 1.0534024243843276e-05\n",
      "15500 5.696247864271411e-06 \tLoss(validation) = 1.1731757536850377e-05\n",
      "15600 1.0764495905477356e-06 \tLoss(validation) = 1.014448806060489e-05\n",
      "15700 1.0478486043766866e-06 \tLoss(validation) = 1.0013407893019695e-05\n",
      "15800 1.0227723501927665e-06 \tLoss(validation) = 9.948993196449736e-06\n",
      "15900 9.96693420481795e-07 \tLoss(validation) = 9.744194070255583e-06\n",
      "16000 1.2976061924268604e-06 \tLoss(validation) = 9.069003264625699e-06\n",
      "16100 9.484529206043437e-07 \tLoss(validation) = 9.433879919892562e-06\n",
      "16200 9.242093109440778e-07 \tLoss(validation) = 9.312010313098437e-06\n",
      "16300 1.0396076869221712e-06 \tLoss(validation) = 8.858676572647434e-06\n",
      "16400 8.798320262030963e-07 \tLoss(validation) = 9.0415822004717e-06\n",
      "16500 8.693388703923239e-07 \tLoss(validation) = 9.143438104897887e-06\n",
      "16600 8.415524215474225e-07 \tLoss(validation) = 8.718504985002851e-06\n",
      "16700 8.162300405072609e-07 \tLoss(validation) = 8.664800028453262e-06\n",
      "16800 1.1191506737072176e-06 \tLoss(validation) = 8.164972300757077e-06\n",
      "16900 7.772789808016876e-07 \tLoss(validation) = 8.426633875867031e-06\n",
      "17000 9.83776071250762e-07 \tLoss(validation) = 7.717446382661943e-06\n",
      "17100 7.417448809949544e-07 \tLoss(validation) = 8.129431408362578e-06\n",
      "17200 7.216789618125546e-07 \tLoss(validation) = 8.08882273870179e-06\n",
      "17300 7.863281105687314e-07 \tLoss(validation) = 8.262553831208958e-06\n",
      "17400 6.878033480347953e-07 \tLoss(validation) = 7.879684566722197e-06\n",
      "17500 1.2569862342501944e-05 \tLoss(validation) = 2.878441759668311e-05\n",
      "17600 6.555713421643722e-07 \tLoss(validation) = 7.701461365015226e-06\n",
      "17700 6.395321362415178e-07 \tLoss(validation) = 7.588259688096714e-06\n",
      "17800 6.735538044551329e-07 \tLoss(validation) = 8.051688622351132e-06\n",
      "17900 6.101393555869002e-07 \tLoss(validation) = 7.389798106205714e-06\n",
      "18000 5.963522712795436e-07 \tLoss(validation) = 7.25716140441438e-06\n",
      "18100 5.831037338296121e-07 \tLoss(validation) = 7.260557231600904e-06\n",
      "18200 5.686517147542271e-07 \tLoss(validation) = 7.132678741125475e-06\n",
      "18300 1.3507970969618452e-05 \tLoss(validation) = 2.8382892807168833e-05\n",
      "18400 5.436779560796655e-07 \tLoss(validation) = 6.915655479371399e-06\n",
      "18500 5.300923248568397e-07 \tLoss(validation) = 6.8820654410103465e-06\n",
      "18600 5.464407734300961e-07 \tLoss(validation) = 7.004567528934263e-06\n",
      "18700 5.066482666062652e-07 \tLoss(validation) = 6.7280988326175345e-06\n",
      "18800 8.17812974008171e-06 \tLoss(validation) = 5.742611934790314e-06\n",
      "18900 4.846048585697097e-07 \tLoss(validation) = 6.554179674506084e-06\n",
      "19000 4.7361587132785986e-07 \tLoss(validation) = 6.5081765054862295e-06\n",
      "19100 5.003668495520165e-07 \tLoss(validation) = 7.129860132664584e-06\n",
      "19200 4.5331889112914297e-07 \tLoss(validation) = 6.363267226231897e-06\n",
      "19300 7.309882164297535e-06 \tLoss(validation) = 2.018633738128006e-05\n",
      "19400 4.344099685513592e-07 \tLoss(validation) = 6.192329574786848e-06\n",
      "19500 4.249056379937842e-07 \tLoss(validation) = 6.165209397844361e-06\n",
      "19600 1.900057152356773e-06 \tLoss(validation) = 7.0554072906140695e-06\n",
      "19700 4.07712343369487e-07 \tLoss(validation) = 6.018880836276255e-06\n",
      "19800 3.989894593495941e-07 \tLoss(validation) = 5.982263437940428e-06\n",
      "19900 4.95957068766552e-07 \tLoss(validation) = 5.610479730520519e-06\n"
     ]
    },
    {
     "data": {
      "text/plain": [
       "<mlnics.Losses.PINN_Loss at 0x13b14ac80>"
      ]
     },
     "execution_count": 14,
     "metadata": {},
     "output_type": "execute_result"
    }
   ],
   "source": [
    "pinn_trainer.train()"
   ]
  },
  {
   "cell_type": "code",
   "execution_count": 15,
   "metadata": {},
   "outputs": [
    {
     "data": {
      "image/png": "[encoded data removed]",
      "text/plain": [
       "<Figure size 432x288 with 1 Axes>"
      ]
     },
     "metadata": {
      "needs_background": "light"
     },
     "output_type": "display_data"
    }
   ],
   "source": [
    "fig, ax = Training.plot_loss(pinn_trainer, pinn_net)"
   ]
  },
  {
   "cell_type": "markdown",
   "metadata": {
    "scrolled": true
   },
   "source": [
    "#### 4.5.3 Train PDNN\n",
    "\n",
    "Given a training set $X_{PDNN} = ((\\boldsymbol{\\mu}^{(1)}, \\operatorname{HF}(\\boldsymbol{\\mu}^{(1)})), \\dots, (\\boldsymbol{\\mu}^{(n)}, \\operatorname{HF}(\\boldsymbol{\\mu}^{(n)})))$ of parameter and high fidelity solution pairs for the PDE, we train a Projection-Driven Neural Network (PDNN) $\\operatorname{N}_W(\\boldsymbol{\\mu})$ dependent on the weights and biases $W$ of the network to minimize the loss function\n",
    "$$L_{PDNN}(X_{PDNN}; W) = \\frac1n \\sum_{i=1}^n \\|\\operatorname{N}_W(\\boldsymbol{\\mu}^{(i)}) - \\tilde{\\operatorname{HF}}(\\boldsymbol{\\mu}^{(i)})\\|_2^2,$$\n",
    "where for a given $\\boldsymbol{\\mu}$, $\\tilde{\\operatorname{HF}}(\\boldsymbol{\\mu})$ is the projection of $\\operatorname{HF}(\\boldsymbol{\\mu})$ onto the reduced order solution space."
   ]
  },
  {
   "cell_type": "code",
   "execution_count": null,
   "metadata": {},
   "outputs": [],
   "source": [
    "input_normalization_pdnn = Normalization.StandardNormalization(input_normalization=True)\n",
    "output_normalization_pdnn = Normalization.StandardNormalization()\n",
    "\n",
    "pdnn_net  = NN.RONN(\"PDNN\", problem, reduction_method, n_hidden=2, n_neurons=40)\n",
    "pdnn_loss = Losses.PDNN_Loss(pdnn_net, output_normalization_pdnn)\n",
    "data      = RONNData.RONNDataLoader(pdnn_net, validation_proportion=0.2)\n",
    "optimizer = torch.optim.Adam(pdnn_net.parameters(), lr=0.001)\n",
    "\n",
    "pdnn_trainer = Training.PDNNTrainer(\n",
    "    pdnn_net, data, pdnn_loss, optimizer,\n",
    "    input_normalization_pdnn, num_epochs=10000\n",
    ")\n",
    "\n",
    "loaded, starting_epoch = IO.initialize_parameters(\n",
    "    pdnn_net, data, pdnn_trainer, optimizer\n",
    ")"
   ]
  },
  {
   "cell_type": "code",
   "execution_count": null,
   "metadata": {
    "scrolled": true
   },
   "outputs": [],
   "source": [
    "pdnn_trainer.train()"
   ]
  },
  {
   "cell_type": "code",
   "execution_count": null,
   "metadata": {},
   "outputs": [],
   "source": [
    "fig, ax = Training.plot_loss(pdnn_trainer, pdnn_net)"
   ]
  },
  {
   "cell_type": "markdown",
   "metadata": {},
   "source": [
    "#### 4.5.4 Train PRNN\n",
    "\n",
    "We train a Physics-Reinforced Neural Network (PRNN) $N_W(\\boldsymbol{\\mu})$ dependnent on the weights and biases $W$ of the network to minimize the loss function\n",
    "\n",
    "$$L_{PRNN}(X_{PINN}, X_{PDNN}; W) = L_{PINN}(X_{PINN}; W) + \\omega L_{PDNN}(X_{PDNN}; W),$$\n",
    "\n",
    "where $\\omega$ is a scaling parameter which can be chosen freely."
   ]
  },
  {
   "cell_type": "code",
   "execution_count": null,
   "metadata": {},
   "outputs": [],
   "source": [
    "input_normalization_prnn = Normalization.StandardNormalization(input_normalization=True)\n",
    "output_normalization_prnn = Normalization.StandardNormalization()\n",
    "\n",
    "omega = 1.\n",
    "prnn_net  = NN.RONN(f\"PRNN_{omega}\", problem, reduction_method, n_hidden=2, n_neurons=40)\n",
    "prnn_loss = Losses.PRNN_Loss(prnn_net, output_normalization_prnn, omega=omega)\n",
    "data      = RONNData.RONNDataLoader(prnn_net, validation_proportion=0.2,\n",
    "                                    num_without_snapshots=100)\n",
    "optimizer = torch.optim.Adam(prnn_net.parameters(), lr=0.001)\n",
    "\n",
    "prnn_trainer = Training.PRNNTrainer(\n",
    "    prnn_net, data, prnn_loss, optimizer,\n",
    "    input_normalization_prnn, num_epochs=1000\n",
    ")\n",
    "\n",
    "loaded, starting_epoch = IO.initialize_parameters(\n",
    "    prnn_net, data, prnn_trainer, optimizer\n",
    ")"
   ]
  },
  {
   "cell_type": "code",
   "execution_count": null,
   "metadata": {},
   "outputs": [],
   "source": [
    "prnn_trainer.train()"
   ]
  },
  {
   "cell_type": "code",
   "execution_count": null,
   "metadata": {},
   "outputs": [],
   "source": [
    "fig, ax = Training.plot_loss(prnn_trainer, prnn_net, separate=True)"
   ]
  },
  {
   "cell_type": "markdown",
   "metadata": {},
   "source": [
    "### 4.6. Perform an error analysis"
   ]
  },
  {
   "cell_type": "markdown",
   "metadata": {},
   "source": [
    "#### 4.6.1 Reduction Method Error Analysis"
   ]
  },
  {
   "cell_type": "code",
   "execution_count": 16,
   "metadata": {
    "scrolled": true
   },
   "outputs": [
    {
     "data": {
      "text/plain": [
       "False"
      ]
     },
     "execution_count": 16,
     "metadata": {},
     "output_type": "execute_result"
    }
   ],
   "source": [
    "reduction_method.initialize_testing_set(50, DEIM=60)\n",
    "#reduction_method.error_analysis()"
   ]
  },
  {
   "cell_type": "markdown",
   "metadata": {},
   "source": [
    "#### 4.6.2 PINN Error Analysis"
   ]
  },
  {
   "cell_type": "code",
   "execution_count": 17,
   "metadata": {},
   "outputs": [],
   "source": [
    "test_mu = torch.tensor(reduction_method.testing_set)"
   ]
  },
  {
   "cell_type": "code",
   "execution_count": 18,
   "metadata": {
    "scrolled": true
   },
   "outputs": [
    {
     "name": "stdout",
     "output_type": "stream",
     "text": [
      "0:  |F(x)| = 0.232392; step 1\n",
      "1:  |F(x)| = 0.0147661; step 1\n",
      "2:  |F(x)| = 6.12725e-05; step 1\n",
      "3:  |F(x)| = 3.35566e-08; step 1\n",
      "scipy solver converged in 5 iterations.\n",
      "0:  |F(x)| = 3.46294; step 0.361053\n",
      "1:  |F(x)| = 1.72532; step 0.470324\n",
      "2:  |F(x)| = 0.135911; step 1\n",
      "3:  |F(x)| = 0.00343629; step 1\n",
      "4:  |F(x)| = 4.01834e-06; step 1\n",
      "scipy solver converged in 6 iterations.\n",
      "0:  |F(x)| = 0.0601716; step 1\n",
      "1:  |F(x)| = 3.73748e-05; step 1\n",
      "2:  |F(x)| = 3.4638e-07; step 1\n",
      "scipy solver converged in 4 iterations.\n",
      "0:  |F(x)| = 3.69352; step 0.312189\n",
      "1:  |F(x)| = 2.74654; step 0.245738\n",
      "2:  |F(x)| = 0.780742; step 1\n",
      "3:  |F(x)| = 0.0909572; step 1\n",
      "4:  |F(x)| = 0.00160965; step 1\n",
      "5:  |F(x)| = 5.13353e-06; step 1\n",
      "scipy solver converged in 7 iterations.\n",
      "0:  |F(x)| = 1.57136; step 1\n",
      "1:  |F(x)| = 0.246062; step 1\n",
      "2:  |F(x)| = 0.00890346; step 1\n",
      "3:  |F(x)| = 1.20763e-05; step 1\n",
      "4:  |F(x)| = 6.99937e-08; step 1\n",
      "scipy solver converged in 6 iterations.\n",
      "0:  |F(x)| = 0.30711; step 1\n",
      "1:  |F(x)| = 0.0024322; step 1\n",
      "2:  |F(x)| = 2.24284e-06; step 1\n",
      "scipy solver converged in 4 iterations.\n",
      "0:  |F(x)| = 2.61099; step 0.503311\n",
      "1:  |F(x)| = 0.440435; step 1\n",
      "2:  |F(x)| = 0.0329295; step 1\n",
      "3:  |F(x)| = 0.000200779; step 1\n",
      "4:  |F(x)| = 2.45851e-07; step 1\n",
      "scipy solver converged in 6 iterations.\n",
      "0:  |F(x)| = 0.255582; step 1\n",
      "1:  |F(x)| = 0.0014856; step 1\n",
      "2:  |F(x)| = 1.39812e-06; step 1\n",
      "scipy solver converged in 4 iterations.\n",
      "0:  |F(x)| = 1.47573; step 1\n",
      "1:  |F(x)| = 0.270143; step 1\n",
      "2:  |F(x)| = 0.0133576; step 1\n",
      "3:  |F(x)| = 3.17996e-05; step 1\n",
      "4:  |F(x)| = 3.8496e-08; step 1\n",
      "scipy solver converged in 6 iterations.\n",
      "0:  |F(x)| = 3.66167; step 0.313815\n",
      "1:  |F(x)| = 2.73399; step 0.242471\n",
      "2:  |F(x)| = 0.76964; step 1\n",
      "3:  |F(x)| = 0.0898792; step 1\n",
      "4:  |F(x)| = 0.00159658; step 1\n",
      "5:  |F(x)| = 6.53606e-06; step 1\n",
      "6:  |F(x)| = 5.61475e-08; step 1\n",
      "scipy solver converged in 8 iterations.\n",
      "0:  |F(x)| = 0.368435; step 1\n",
      "1:  |F(x)| = 0.00493854; step 1\n",
      "2:  |F(x)| = 2.43104e-06; step 1\n",
      "scipy solver converged in 4 iterations.\n",
      "0:  |F(x)| = 3.63775; step 0.312411\n",
      "1:  |F(x)| = 2.05405; step 0.407921\n",
      "2:  |F(x)| = 0.196415; step 1\n",
      "3:  |F(x)| = 0.00725538; step 1\n",
      "4:  |F(x)| = 1.60569e-05; step 1\n",
      "5:  |F(x)| = 3.03658e-07; step 1\n",
      "scipy solver converged in 7 iterations.\n",
      "0:  |F(x)| = 3.65873; step 0.31492\n",
      "1:  |F(x)| = 1.37755; step 0.540323\n",
      "2:  |F(x)| = 0.0252861; step 1\n",
      "3:  |F(x)| = 0.000453624; step 1\n",
      "4:  |F(x)| = 5.47532e-06; step 1\n",
      "scipy solver converged in 6 iterations.\n",
      "0:  |F(x)| = 3.65188; step 0.314829\n",
      "1:  |F(x)| = 2.83317; step 0.215335\n",
      "2:  |F(x)| = 0.942035; step 1\n",
      "3:  |F(x)| = 0.128232; step 1\n",
      "4:  |F(x)| = 0.00332439; step 1\n",
      "5:  |F(x)| = 1.05889e-05; step 1\n",
      "6:  |F(x)| = 1.07627e-07; step 1\n",
      "scipy solver converged in 8 iterations.\n",
      "0:  |F(x)| = 2.1275; step 0.445641\n",
      "1:  |F(x)| = 0.156975; step 1\n",
      "2:  |F(x)| = 0.00973474; step 1\n",
      "3:  |F(x)| = 0.000296728; step 1\n",
      "4:  |F(x)| = 9.37821e-06; step 1\n",
      "5:  |F(x)| = 1.11598e-07; step 1\n",
      "scipy solver converged in 7 iterations.\n",
      "0:  |F(x)| = 0.12133; step 1\n",
      "1:  |F(x)| = 0.000160229; step 1\n",
      "2:  |F(x)| = 6.53376e-07; step 1\n",
      "scipy solver converged in 4 iterations.\n",
      "0:  |F(x)| = 0.979525; step 1\n",
      "1:  |F(x)| = 0.132899; step 1\n",
      "2:  |F(x)| = 0.00315794; step 1\n",
      "3:  |F(x)| = 1.36018e-06; step 1\n",
      "scipy solver converged in 5 iterations.\n",
      "0:  |F(x)| = 1.91788; step 1\n",
      "1:  |F(x)| = 0.295421; step 1\n",
      "2:  |F(x)| = 0.0110023; step 1\n",
      "3:  |F(x)| = 1.90556e-05; step 1\n",
      "4:  |F(x)| = 1.8594e-07; step 1\n",
      "scipy solver converged in 6 iterations.\n",
      "0:  |F(x)| = 3.73314; step 0.316276\n",
      "1:  |F(x)| = 2.2908; step 0.35028\n",
      "2:  |F(x)| = 0.525752; step 1\n",
      "3:  |F(x)| = 0.0537683; step 1\n",
      "4:  |F(x)| = 0.00070404; step 1\n",
      "5:  |F(x)| = 1.72531e-06; step 1\n",
      "scipy solver converged in 7 iterations.\n",
      "0:  |F(x)| = 3.67579; step 0.314799\n",
      "1:  |F(x)| = 1.56164; step 0.501202\n",
      "2:  |F(x)| = 0.0489373; step 1\n",
      "3:  |F(x)| = 0.000769888; step 1\n",
      "4:  |F(x)| = 1.85327e-06; step 1\n",
      "scipy solver converged in 6 iterations.\n",
      "0:  |F(x)| = 3.22347; step 0.407485\n",
      "1:  |F(x)| = 2.13718; step 0.322923\n",
      "2:  |F(x)| = 0.476411; step 1\n",
      "3:  |F(x)| = 0.0464114; step 1\n",
      "4:  |F(x)| = 0.000530639; step 1\n",
      "5:  |F(x)| = 4.96624e-07; step 1\n",
      "scipy solver converged in 7 iterations.\n",
      "0:  |F(x)| = 0.14264; step 1\n",
      "1:  |F(x)| = 0.00030728; step 1\n",
      "2:  |F(x)| = 2.75772e-07; step 1\n",
      "scipy solver converged in 4 iterations.\n",
      "0:  |F(x)| = 1.03855; step 1\n",
      "1:  |F(x)| = 0.0879024; step 1\n",
      "2:  |F(x)| = 0.000845012; step 1\n",
      "3:  |F(x)| = 5.00238e-07; step 1\n",
      "scipy solver converged in 5 iterations.\n",
      "0:  |F(x)| = 0.0111799; step 1\n",
      "1:  |F(x)| = 3.92206e-07; step 1\n",
      "scipy solver converged in 3 iterations.\n",
      "0:  |F(x)| = 3.7325; step 0.320542\n",
      "1:  |F(x)| = 2.41517; step 0.328156\n",
      "2:  |F(x)| = 1.06334; step 0.516844\n",
      "3:  |F(x)| = 0.0454703; step 1\n",
      "4:  |F(x)| = 0.000589267; step 1\n",
      "5:  |F(x)| = 1.1428e-06; step 1\n",
      "scipy solver converged in 7 iterations.\n",
      "0:  |F(x)| = 3.64111; step 0.313713\n",
      "1:  |F(x)| = 2.42059; step 0.317192\n",
      "2:  |F(x)| = 0.418284; step 1\n",
      "3:  |F(x)| = 0.0298678; step 1\n",
      "4:  |F(x)| = 0.000151767; step 1\n",
      "5:  |F(x)| = 1.85062e-06; step 1\n",
      "scipy solver converged in 7 iterations.\n",
      "0:  |F(x)| = 3.08975; step 0.423049\n",
      "1:  |F(x)| = 0.829261; step 1\n",
      "2:  |F(x)| = 0.0963343; step 1\n",
      "3:  |F(x)| = 0.00172246; step 1\n",
      "4:  |F(x)| = 1.35688e-06; step 1\n",
      "scipy solver converged in 6 iterations.\n",
      "0:  |F(x)| = 3.66268; step 0.316934\n",
      "1:  |F(x)| = 1.85643; step 0.432688\n",
      "2:  |F(x)| = 0.126233; step 1\n",
      "3:  |F(x)| = 0.00364047; step 1\n",
      "4:  |F(x)| = 1.15775e-05; step 1\n",
      "5:  |F(x)| = 2.31672e-07; step 1\n",
      "scipy solver converged in 7 iterations.\n",
      "0:  |F(x)| = 4.12923; step 0.251262\n",
      "1:  |F(x)| = 2.20591; step 0.447064\n",
      "2:  |F(x)| = 0.31698; step 1\n",
      "3:  |F(x)| = 0.0179386; step 1\n",
      "4:  |F(x)| = 5.36994e-05; step 1\n",
      "5:  |F(x)| = 4.01802e-08; step 1\n",
      "scipy solver converged in 7 iterations.\n",
      "0:  |F(x)| = 3.6526; step 0.316401\n",
      "1:  |F(x)| = 1.62234; step 0.484002\n",
      "2:  |F(x)| = 0.0588488; step 1\n",
      "3:  |F(x)| = 0.00101205; step 1\n",
      "4:  |F(x)| = 2.44927e-06; step 1\n",
      "scipy solver converged in 6 iterations.\n",
      "0:  |F(x)| = 0.596305; step 1\n",
      "1:  |F(x)| = 0.0431414; step 1\n",
      "2:  |F(x)| = 0.000258331; step 1\n",
      "3:  |F(x)| = 6.07112e-08; step 1\n",
      "scipy solver converged in 5 iterations.\n",
      "0:  |F(x)| = 0.169024; step 1\n",
      "1:  |F(x)| = 0.000434373; step 1\n",
      "2:  |F(x)| = 6.15665e-07; step 1\n",
      "scipy solver converged in 4 iterations.\n",
      "0:  |F(x)| = 2.37452; step 0.539013\n",
      "1:  |F(x)| = 0.247106; step 1\n",
      "2:  |F(x)| = 0.00977427; step 1\n",
      "3:  |F(x)| = 1.13045e-05; step 1\n",
      "4:  |F(x)| = 2.45434e-08; step 1\n",
      "scipy solver converged in 6 iterations.\n",
      "0:  |F(x)| = 0.455787; step 1\n",
      "1:  |F(x)| = 0.0158813; step 1\n",
      "2:  |F(x)| = 2.19544e-05; step 1\n",
      "3:  |F(x)| = 1.42781e-08; step 1\n",
      "scipy solver converged in 5 iterations.\n",
      "0:  |F(x)| = 2.0567; step 1\n",
      "1:  |F(x)| = 0.400515; step 1\n",
      "2:  |F(x)| = 0.0245699; step 1\n",
      "3:  |F(x)| = 9.85178e-05; step 1\n",
      "4:  |F(x)| = 2.13378e-07; step 1\n",
      "scipy solver converged in 6 iterations.\n",
      "0:  |F(x)| = 1.47922; step 1\n",
      "1:  |F(x)| = 0.226458; step 1\n",
      "2:  |F(x)| = 0.00768852; step 1\n",
      "3:  |F(x)| = 8.97369e-06; step 1\n",
      "4:  |F(x)| = 5.2257e-08; step 1\n",
      "scipy solver converged in 6 iterations.\n",
      "0:  |F(x)| = 0.526756; step 1\n",
      "1:  |F(x)| = 0.0110707; step 1\n",
      "2:  |F(x)| = 7.89331e-06; step 1\n",
      "3:  |F(x)| = 6.1282e-08; step 1\n",
      "scipy solver converged in 5 iterations.\n",
      "0:  |F(x)| = 0.389665; step 1\n",
      "1:  |F(x)| = 0.0186043; step 1\n",
      "2:  |F(x)| = 4.48152e-05; step 1\n",
      "3:  |F(x)| = 6.68341e-09; step 1\n",
      "scipy solver converged in 5 iterations.\n",
      "0:  |F(x)| = 3.67204; step 0.324343\n",
      "1:  |F(x)| = 2.59886; step 0.280155\n",
      "2:  |F(x)| = 0.663864; step 1\n",
      "3:  |F(x)| = 0.0697339; step 1\n",
      "4:  |F(x)| = 0.000950733; step 1\n",
      "5:  |F(x)| = 1.78583e-06; step 1\n",
      "scipy solver converged in 7 iterations.\n",
      "0:  |F(x)| = 3.63698; step 0.316725\n",
      "1:  |F(x)| = 1.49727; step 0.510087\n",
      "2:  |F(x)| = 0.0374732; step 1\n",
      "3:  |F(x)| = 0.000597858; step 1\n",
      "4:  |F(x)| = 1.79399e-06; step 1\n",
      "scipy solver converged in 6 iterations.\n",
      "0:  |F(x)| = 3.70398; step 0.320465\n",
      "1:  |F(x)| = 1.57938; step 0.507874\n",
      "2:  |F(x)| = 0.0685989; step 1\n",
      "3:  |F(x)| = 0.00108433; step 1\n",
      "4:  |F(x)| = 2.43229e-06; step 1\n",
      "scipy solver converged in 6 iterations.\n",
      "0:  |F(x)| = 3.69834; step 0.312431\n",
      "1:  |F(x)| = 2.85592; step 0.21924\n",
      "2:  |F(x)| = 0.965245; step 1\n",
      "3:  |F(x)| = 0.131751; step 1\n",
      "4:  |F(x)| = 0.00343598; step 1\n",
      "5:  |F(x)| = 7.68266e-06; step 1\n",
      "6:  |F(x)| = 6.93907e-08; step 1\n"
     ]
    },
    {
     "name": "stdout",
     "output_type": "stream",
     "text": [
      "scipy solver converged in 8 iterations.\n",
      "0:  |F(x)| = 3.62492; step 0.312851\n",
      "1:  |F(x)| = 1.97687; step 0.424991\n",
      "2:  |F(x)| = 0.165963; step 1\n",
      "3:  |F(x)| = 0.00542095; step 1\n",
      "4:  |F(x)| = 1.45792e-05; step 1\n",
      "5:  |F(x)| = 4.09089e-07; step 1\n",
      "scipy solver converged in 7 iterations.\n",
      "0:  |F(x)| = 3.71364; step 0.314168\n",
      "1:  |F(x)| = 2.60868; step 0.284578\n",
      "2:  |F(x)| = 0.620909; step 1\n",
      "3:  |F(x)| = 0.0597506; step 1\n",
      "4:  |F(x)| = 0.000662763; step 1\n",
      "5:  |F(x)| = 1.83826e-06; step 1\n",
      "scipy solver converged in 7 iterations.\n",
      "0:  |F(x)| = 0.247297; step 1\n",
      "1:  |F(x)| = 0.00205044; step 1\n",
      "2:  |F(x)| = 5.62078e-07; step 1\n",
      "scipy solver converged in 4 iterations.\n",
      "0:  |F(x)| = 0.113356; step 1\n",
      "1:  |F(x)| = 0.000483272; step 1\n",
      "2:  |F(x)| = 1.96299e-08; step 1\n",
      "scipy solver converged in 4 iterations.\n",
      "0:  |F(x)| = 2.61386; step 0.502994\n",
      "1:  |F(x)| = 0.447248; step 1\n",
      "2:  |F(x)| = 0.0340694; step 1\n",
      "3:  |F(x)| = 0.000217153; step 1\n",
      "4:  |F(x)| = 2.60389e-07; step 1\n",
      "scipy solver converged in 6 iterations.\n",
      "0:  |F(x)| = 2.1953; step 0.44575\n",
      "1:  |F(x)| = 0.139946; step 1\n",
      "2:  |F(x)| = 0.00806591; step 1\n",
      "3:  |F(x)| = 0.000233694; step 1\n",
      "4:  |F(x)| = 6.99426e-06; step 1\n",
      "5:  |F(x)| = 7.73808e-08; step 1\n",
      "scipy solver converged in 7 iterations.\n",
      "0:  |F(x)| = 0.0612016; step 1\n",
      "1:  |F(x)| = 3.49515e-05; step 1\n",
      "2:  |F(x)| = 7.38845e-09; step 1\n",
      "scipy solver converged in 4 iterations.\n",
      "0:  |F(x)| = 3.71944; step 0.313204\n",
      "1:  |F(x)| = 1.33209; step 0.560411\n",
      "2:  |F(x)| = 0.0242788; step 1\n",
      "3:  |F(x)| = 0.000366645; step 1\n",
      "4:  |F(x)| = 4.22468e-06; step 1\n",
      "scipy solver converged in 6 iterations.\n",
      "#################################### N = 8 #####################################\n",
      "ERROR\tNN-HF\t\t\tNN-RO\t\t\tRO-HF\n",
      "min\t0.20126416931092575\t0.2012632790602474\t2.6407290745449583e-05\n",
      "mean\t0.288107439961925\t0.28810728725812185\t7.450564457727244e-05\n",
      "max\t0.4359508826446312\t0.43595362958894973\t0.00019214703753249292\n"
     ]
    }
   ],
   "source": [
    "_ = ErrorAnalysis.error_analysis_fixed_net(\n",
    "    pinn_net, test_mu, input_normalization_pinn, output_normalization_pinn, relative=True\n",
    ")"
   ]
  },
  {
   "cell_type": "code",
   "execution_count": null,
   "metadata": {},
   "outputs": [],
   "source": [
    "ErrorAnalysis.plot_solution_difference(\n",
    "    pinn_net, (5., 5.), input_normalization_pinn, output_normalization_pinn, colorbar=True\n",
    ")"
   ]
  },
  {
   "cell_type": "markdown",
   "metadata": {},
   "source": [
    "#### 4.6.3 PDNN Error Analysis"
   ]
  },
  {
   "cell_type": "code",
   "execution_count": null,
   "metadata": {},
   "outputs": [],
   "source": [
    "_ = ErrorAnalysis.error_analysis_fixed_net(\n",
    "    pdnn_net, test_mu, input_normalization_pdnn, output_normalization_pdnn, relative=False\n",
    ")"
   ]
  },
  {
   "cell_type": "code",
   "execution_count": null,
   "metadata": {},
   "outputs": [],
   "source": [
    "ErrorAnalysis.plot_solution_difference(\n",
    "    pdnn_net, (5., 5.), input_normalization_pdnn, output_normalization_pdnn\n",
    ")"
   ]
  },
  {
   "cell_type": "markdown",
   "metadata": {},
   "source": [
    "#### 4.6.4 PRNN Error Analysis"
   ]
  },
  {
   "cell_type": "code",
   "execution_count": null,
   "metadata": {},
   "outputs": [],
   "source": [
    "_ = ErrorAnalysis.error_analysis_fixed_net(\n",
    "    prnn_net, test_mu, input_normalization_prnn, output_normalization_prnn, relative=False\n",
    ")"
   ]
  },
  {
   "cell_type": "code",
   "execution_count": null,
   "metadata": {},
   "outputs": [],
   "source": [
    "ErrorAnalysis.plot_solution_difference(\n",
    "    prnn_net, (5., 5.), input_normalization_prnn, output_normalization_prnn\n",
    ")"
   ]
  },
  {
   "cell_type": "markdown",
   "metadata": {},
   "source": [
    "#### 4.6.5 Neural Network Error Comparison"
   ]
  },
  {
   "cell_type": "code",
   "execution_count": null,
   "metadata": {},
   "outputs": [],
   "source": [
    "nets = dict()\n",
    "nets[\"pinn_net\"] = pinn_net\n",
    "nets[\"pdnn_net\"] = pdnn_net\n",
    "nets[\"prnn_net\"] = prnn_net\n",
    "\n",
    "input_normalizations = dict()\n",
    "input_normalizations[\"pinn_net\"] = input_normalization_pinn\n",
    "input_normalizations[\"pdnn_net\"] = input_normalization_pdnn\n",
    "input_normalizations[\"prnn_net\"] = input_normalization_prnn\n",
    "\n",
    "output_normalizations = dict()\n",
    "output_normalizations[\"pinn_net\"] = output_normalization_pinn\n",
    "output_normalizations[\"pdnn_net\"] = output_normalization_pdnn\n",
    "output_normalizations[\"prnn_net\"] = output_normalization_prnn\n",
    "\n",
    "_ = ErrorAnalysis.error_analysis_by_network(\n",
    "    nets, test_mu, input_normalizations, output_normalizations, relative=False\n",
    ")"
   ]
  },
  {
   "cell_type": "markdown",
   "metadata": {},
   "source": [
    "### 4.7. Perform a speedup analysis"
   ]
  },
  {
   "cell_type": "code",
   "execution_count": null,
   "metadata": {},
   "outputs": [],
   "source": [
    "reduction_method.speedup_analysis()"
   ]
  },
  {
   "cell_type": "code",
   "execution_count": null,
   "metadata": {},
   "outputs": [],
   "source": [
    "for Cj in reduced_problem.assemble_operator('c'):\n",
    "    print(Cj.reshape(-1)[0].content.shape)"
   ]
  },
  {
   "cell_type": "code",
   "execution_count": null,
   "metadata": {},
   "outputs": [],
   "source": []
  }
 ],
 "metadata": {
  "kernelspec": {
   "display_name": "Python 3 (ipykernel)",
   "language": "python",
   "name": "python3"
  },
  "language_info": {
   "codemirror_mode": {
    "name": "ipython",
    "version": 3
   },
   "file_extension": ".py",
   "mimetype": "text/x-python",
   "name": "python",
   "nbconvert_exporter": "python",
   "pygments_lexer": "ipython3",
   "version": "3.10.4"
  }
 },
 "nbformat": 4,
 "nbformat_minor": 4
}
