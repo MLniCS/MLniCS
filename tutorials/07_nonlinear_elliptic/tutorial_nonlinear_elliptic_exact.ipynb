{
 "cells": [
  {
   "cell_type": "markdown",
   "metadata": {},
   "source": [
    "## Tutorial 07 - Non linear Elliptic problem\n",
    "**_Keywords: exact parametrized functions, POD-Galerkin_**\n",
    "\n",
    "### 1. Introduction\n",
    "\n",
    "In this tutorial, we consider a non linear elliptic problem in a two-dimensional spatial domain $\\Omega=(0,1)^2$. We impose a homogeneous Dirichlet condition on the boundary $\\partial\\Omega$. The source term is characterized by the following expression\n",
    "$$\n",
    "g(\\boldsymbol{x}; \\boldsymbol{\\mu}) = 100\\sin(2\\pi x_0)cos(2\\pi x_1) \\quad \\forall \\boldsymbol{x} = (x_0, x_1) \\in \\Omega.\n",
    "$$\n",
    "\n",
    "This problem is characterized by two parameters. The first parameter $\\mu_0$ controls the strength of the sink term and the second parameter $\\mu_1$ the strength of the nonlinearity. The range of the two parameters is the following:\n",
    "$$\n",
    "\\mu_0,\\mu_1\\in[0.01,10.0]\n",
    "$$\n",
    "The parameter vector $\\boldsymbol{\\mu}$ is thus given by\n",
    "$$\n",
    "\\boldsymbol{\\mu} = (\\mu_0,\\mu_1)\n",
    "$$\n",
    "on the parameter domain\n",
    "$$\n",
    "\\mathbb{P}=[0.01,10]^2.\n",
    "$$\n",
    "\n",
    "\n",
    "In order to be able to compare the interpolation methods (EIM and DEIM) used to solve this problem, we propose to use an exact solution of the problem."
   ]
  },
  {
   "cell_type": "markdown",
   "metadata": {},
   "source": [
    "### 2. Parametrized formulation\n",
    "\n",
    "Let $u(\\boldsymbol{\\mu})$ be the solution in the domain $\\Omega$.\n",
    "\n",
    "The strong formulation of the parametrized problem is given by:\n",
    "<center>for a given parameter $\\boldsymbol{\\mu}\\in\\mathbb{P}$, find $u(\\boldsymbol{\\mu})$ such that</center>\n",
    "\n",
    "$$ -\\nabla^2u(\\boldsymbol{\\mu})+\\frac{\\mu_0}{\\mu_1}(\\exp\\{\\mu_1u(\\boldsymbol{\\mu})\\}-1)=g(\\boldsymbol{x}; \\boldsymbol{\\mu})$$\n",
    "<br>\n",
    "    \n",
    "The corresponding weak formulation reads:\n",
    "<center>for a given parameter $\\boldsymbol{\\mu}\\in\\mathbb{P}$, find $u(\\boldsymbol{\\mu})\\in\\mathbb{V}$ such that</center>\n",
    "\n",
    "$$a\\left(u(\\boldsymbol{\\mu}),v;\\boldsymbol{\\mu}\\right)+c\\left(u(\\boldsymbol{\\mu}),v;\\boldsymbol{\\mu}\\right)=f(v;\\boldsymbol{\\mu})\\quad \\forall v\\in\\mathbb{V}$$\n",
    "\n",
    "where\n",
    "\n",
    "* the function space $\\mathbb{V}$ is defined as\n",
    "$$\n",
    "\\mathbb{V} = \\{v\\in H_1(\\Omega) : v|_{\\partial\\Omega}=0\\}\n",
    "$$\n",
    "* the parametrized bilinear form $a(\\cdot, \\cdot; \\boldsymbol{\\mu}): \\mathbb{V} \\times \\mathbb{V} \\to \\mathbb{R}$ is defined by\n",
    "$$a(u, v;\\boldsymbol{\\mu})=\\int_{\\Omega} \\nabla u\\cdot \\nabla v \\ d\\boldsymbol{x},$$\n",
    "* the parametrized bilinear form $c(\\cdot, \\cdot; \\boldsymbol{\\mu}): \\mathbb{V} \\times \\mathbb{V} \\to \\mathbb{R}$ is defined by\n",
    "$$c(u, v;\\boldsymbol{\\mu})=\\mu_0\\int_{\\Omega} \\frac{1}{\\mu_1}\\big(\\exp\\{\\mu_1u\\} - 1\\big)v \\ d\\boldsymbol{x},$$\n",
    "* the parametrized linear form $f(\\cdot; \\boldsymbol{\\mu}): \\mathbb{V} \\to \\mathbb{R}$ is defined by\n",
    "$$f(v; \\boldsymbol{\\mu})= \\int_{\\Omega}g(\\boldsymbol{x}; \\boldsymbol{\\mu})v \\ d\\boldsymbol{x}.$$\n",
    "\n",
    "The output of interest $s(\\boldsymbol{\\mu})$ is given by\n",
    "$$s(\\boldsymbol{\\mu}) = \\int_{\\Omega} v \\ d\\boldsymbol{x}$$\n",
    "is computed for each $\\boldsymbol{\\mu}$."
   ]
  },
  {
   "cell_type": "code",
   "execution_count": 1,
   "metadata": {},
   "outputs": [],
   "source": [
    "import sys\n",
    "sys.path.append(\"../../MLniCS/\")\n",
    "\n",
    "\n",
    "from mlnics import NN, Losses, Normalization\n",
    "from dolfin import *\n",
    "from rbnics import *\n",
    "import torch\n",
    "import numpy as np\n",
    "\n",
    "torch.manual_seed(0)\n",
    "np.random.seed(0)"
   ]
  },
  {
   "cell_type": "markdown",
   "metadata": {},
   "source": [
    "### 3. Affine Decomposition \n",
    "\n",
    "For this problem the affine decomposition is straightforward:\n",
    "$$a(u,v;\\boldsymbol{\\mu})=\\underbrace{1}_{\\Theta^{a}_0(\\boldsymbol{\\mu})}\\underbrace{\\int_{\\Omega}\\nabla u \\cdot \\nabla v \\ d\\boldsymbol{x}}_{a_0(u,v)},$$\n",
    "$$c(u,v;\\boldsymbol{\\mu})=\\underbrace{\\mu_0}_{\\Theta^{c}_0(\\boldsymbol{\\mu})}\\underbrace{\\int_{\\Omega}\\frac{1}{\\mu_1}\\big(\\exp\\{\\mu_1u\\} - 1\\big)v \\ d\\boldsymbol{x}}_{c_0(u,v)},$$\n",
    "$$f(v; \\boldsymbol{\\mu}) = \\underbrace{100}_{\\Theta^{f}_0(\\boldsymbol{\\mu})} \\underbrace{\\int_{\\Omega}\\sin(2\\pi x_0)cos(2\\pi x_1)v \\ d\\boldsymbol{x}}_{f_0(v)}.$$\n",
    "We will implement the numerical discretization of the problem in the class\n",
    "```\n",
    "class NonlinearElliptic(NonlinearEllipticProblem):\n",
    "```\n",
    "by specifying the coefficients $\\Theta^{a}_*(\\boldsymbol{\\mu})$, $\\Theta^{c}_*(\\boldsymbol{\\mu})$ and $\\Theta^{f}_*(\\boldsymbol{\\mu})$ in the method\n",
    "```\n",
    "    def compute_theta(self, term):\n",
    "```\n",
    "and the bilinear forms $a_*(u, v)$, $c_*(u, v)$ and linear forms $f_*(v)$ in\n",
    "```\n",
    "    def assemble_operator(self, term):\n",
    "```"
   ]
  },
  {
   "cell_type": "code",
   "execution_count": 2,
   "metadata": {},
   "outputs": [],
   "source": [
    "@ExactParametrizedFunctions()\n",
    "class NonlinearElliptic(NonlinearEllipticProblem):\n",
    "\n",
    "    # Default initialization of members\n",
    "    def __init__(self, V, **kwargs):\n",
    "        # Call the standard initialization\n",
    "        NonlinearEllipticProblem.__init__(self, V, **kwargs)\n",
    "        # ... and also store FEniCS data structures for assembly\n",
    "        assert \"subdomains\" in kwargs\n",
    "        assert \"boundaries\" in kwargs\n",
    "        self.subdomains, self.boundaries = kwargs[\"subdomains\"], kwargs[\"boundaries\"]\n",
    "        self.du = TrialFunction(V)\n",
    "        self.u = self._solution\n",
    "        self.v = TestFunction(V)\n",
    "        self.dx = Measure(\"dx\")(subdomain_data=self.subdomains)\n",
    "        self.ds = Measure(\"ds\")(subdomain_data=self.boundaries)\n",
    "        # Store the forcing term expression\n",
    "        self.f = Expression(\"sin(2*pi*x[0])*sin(2*pi*x[1])\", element=self.V.ufl_element())\n",
    "        # Customize nonlinear solver parameters\n",
    "        self._nonlinear_solver_parameters.update({\n",
    "            \"linear_solver\": \"mumps\",\n",
    "            \"maximum_iterations\": 20,\n",
    "            \"report\": True\n",
    "        })\n",
    "\n",
    "    # Return custom problem name\n",
    "    def name(self):\n",
    "        return \"NonlinearEllipticExact\"\n",
    "\n",
    "    # Return theta multiplicative terms of the affine expansion of the problem.\n",
    "    @compute_theta_for_derivatives\n",
    "    def compute_theta(self, term):\n",
    "        mu = self.mu\n",
    "        if term == \"a\":\n",
    "            theta_a0 = 1.\n",
    "            return (theta_a0,)\n",
    "        elif term == \"c\":\n",
    "            theta_c0 = mu[0]\n",
    "            return (theta_c0,)\n",
    "        elif term == \"f\":\n",
    "            theta_f0 = 100.\n",
    "            return (theta_f0,)\n",
    "        elif term == \"s\":\n",
    "            theta_s0 = 1.0\n",
    "            return (theta_s0,)\n",
    "        else:\n",
    "            raise ValueError(\"Invalid term for compute_theta().\")\n",
    "\n",
    "    # Return forms resulting from the discretization of the affine expansion of the problem operators.\n",
    "    @assemble_operator_for_derivatives\n",
    "    def assemble_operator(self, term):\n",
    "        v = self.v\n",
    "        dx = self.dx\n",
    "        if term == \"a\":\n",
    "            du = self.du\n",
    "            a0 = inner(grad(du), grad(v)) * dx\n",
    "            return (a0,)\n",
    "        elif term == \"c\":\n",
    "            u = self.u\n",
    "            mu = self.mu\n",
    "            c0 = (exp(mu[1] * u) - 1) / mu[1] * v * dx\n",
    "            return (c0,)\n",
    "        elif term == \"f\":\n",
    "            f = self.f\n",
    "            f0 = f * v * dx\n",
    "            return (f0,)\n",
    "        elif term == \"s\":\n",
    "            s0 = v * dx\n",
    "            return (s0,)\n",
    "        elif term == \"dirichlet_bc\":\n",
    "            bc0 = [DirichletBC(self.V, Constant(0.0), self.boundaries, 1)]\n",
    "            return (bc0,)\n",
    "        elif term == \"inner_product\":\n",
    "            du = self.du\n",
    "            x0 = inner(grad(du), grad(v)) * dx\n",
    "            return (x0,)\n",
    "        else:\n",
    "            raise ValueError(\"Invalid term for assemble_operator().\")\n",
    "\n",
    "\n",
    "# Customize the resulting reduced problem\n",
    "@CustomizeReducedProblemFor(NonlinearEllipticProblem)\n",
    "def CustomizeReducedNonlinearElliptic(ReducedNonlinearElliptic_Base):\n",
    "    class ReducedNonlinearElliptic(ReducedNonlinearElliptic_Base):\n",
    "        def __init__(self, truth_problem, **kwargs):\n",
    "            ReducedNonlinearElliptic_Base.__init__(self, truth_problem, **kwargs)\n",
    "            self._nonlinear_solver_parameters.update({\n",
    "                \"report\": True,\n",
    "                \"line_search\": \"wolfe\"\n",
    "            })\n",
    "\n",
    "    return ReducedNonlinearElliptic"
   ]
  },
  {
   "cell_type": "markdown",
   "metadata": {},
   "source": [
    "## 4. Main program\n",
    "\n",
    "### 4.1. Read the mesh for this problem\n",
    "The mesh was generated by the [data/generate_mesh.ipynb](data/generate_mesh.ipynb) notebook."
   ]
  },
  {
   "cell_type": "code",
   "execution_count": 3,
   "metadata": {},
   "outputs": [],
   "source": [
    "mesh = Mesh(\"data/square.xml\")\n",
    "subdomains = MeshFunction(\"size_t\", mesh, \"data/square_physical_region.xml\")\n",
    "boundaries = MeshFunction(\"size_t\", mesh, \"data/square_facet_region.xml\")"
   ]
  },
  {
   "cell_type": "markdown",
   "metadata": {},
   "source": [
    "### 4.2. Create Finite Element space (Lagrange P1)"
   ]
  },
  {
   "cell_type": "code",
   "execution_count": 4,
   "metadata": {},
   "outputs": [],
   "source": [
    "V = FunctionSpace(mesh, \"Lagrange\", 1)"
   ]
  },
  {
   "cell_type": "markdown",
   "metadata": {},
   "source": [
    "### 4.3. Allocate an object of the NonlinearElliptic class"
   ]
  },
  {
   "cell_type": "code",
   "execution_count": 5,
   "metadata": {},
   "outputs": [],
   "source": [
    "problem = NonlinearElliptic(V, subdomains=subdomains, boundaries=boundaries)\n",
    "mu_range = [(0.01, 10.0), (0.01, 10.0)]\n",
    "problem.set_mu_range(mu_range)"
   ]
  },
  {
   "cell_type": "markdown",
   "metadata": {},
   "source": [
    "### 4.4. Prepare reduction with a POD-Galerkin method"
   ]
  },
  {
   "cell_type": "code",
   "execution_count": 6,
   "metadata": {},
   "outputs": [],
   "source": [
    "reduction_method = PODGalerkin(problem)\n",
    "reduction_method.set_Nmax(20)\n",
    "reduction_method.set_tolerance(1e-8)"
   ]
  },
  {
   "cell_type": "markdown",
   "metadata": {},
   "source": [
    "### 4.5. Perform the offline phase"
   ]
  },
  {
   "cell_type": "code",
   "execution_count": 7,
   "metadata": {},
   "outputs": [],
   "source": [
    "reduction_method.initialize_training_set(50)\n",
    "reduced_problem = reduction_method.offline()"
   ]
  },
  {
   "cell_type": "code",
   "execution_count": 8,
   "metadata": {},
   "outputs": [],
   "source": [
    "reduction_method.initialize_testing_set(50)\n",
    "net = NN.RONN(problem, reduction_method)"
   ]
  },
  {
   "cell_type": "code",
   "execution_count": 9,
   "metadata": {},
   "outputs": [],
   "source": [
    "input_normalization = Normalization.IdentityNormalization()\n",
    "output_normalization = Normalization.IdentityNormalization()"
   ]
  },
  {
   "cell_type": "code",
   "execution_count": 10,
   "metadata": {},
   "outputs": [],
   "source": [
    "pdnn_loss = Losses.PDNN_Loss(net, output_normalization)\n",
    "pinn_loss = Losses.PINN_Loss(net)\n",
    "prnn_loss = Losses.PRNN_Loss(net, output_normalization, omega=1.)"
   ]
  },
  {
   "cell_type": "code",
   "execution_count": 11,
   "metadata": {
    "scrolled": true
   },
   "outputs": [
    {
     "name": "stdout",
     "output_type": "stream",
     "text": [
      "Beginning training...\n",
      "Getting operator matrices...\n",
      "0:  |F(x)| = 3.72271; step 0.313622\n",
      "1:  |F(x)| = 1.64079; step 0.490973\n",
      "2:  |F(x)| = 0.0718027; step 1\n",
      "3:  |F(x)| = 0.00106152; step 1\n",
      "4:  |F(x)| = 2.57256e-07; step 1\n",
      "scipy solver converged in 6 iterations.\n",
      "Operator 'dc' not implemented. Continuing without operator 'dc'...\n",
      "Operator 's' not implemented. Continuing without operator 's'...\n",
      "0 22.396926522568798\n",
      "100 19.34058219729864\n",
      "200 16.639815869626727\n",
      "300 14.253369626090354\n",
      "400 12.15097167137933\n",
      "500 10.309859367549915\n",
      "600 8.712692585405883\n",
      "700 7.342240678920986\n",
      "800 6.178574666359918\n",
      "900 5.199627097616608\n",
      "1000 4.382756208609449\n",
      "1100 3.706103537605724\n",
      "1200 3.149416620704309\n",
      "1300 2.694401127332962\n",
      "1400 2.324795948869385\n",
      "1500 2.026313628313052\n",
      "1600 1.7865182966654027\n",
      "1700 1.5946874312749475\n",
      "1800 1.4416579610541929\n",
      "1900 1.319675506420078\n",
      "2000 1.2222447448563458\n",
      "2100 1.143987958079201\n",
      "2200 1.0805034400862206\n",
      "2300 1.0282304419294714\n",
      "2400 0.9843272400621569\n",
      "2500 0.9465558750023901\n",
      "2600 0.9131791977902591\n",
      "2700 0.8828716716365708\n",
      "2800 0.8546392637627609\n",
      "2900 0.8277526794959141\n",
      "3000 0.8016893490988616\n",
      "3100 0.7760855064750376\n",
      "3200 0.7506962922197559\n",
      "3300 0.7253611334564539\n",
      "3400 0.6999801218912494\n",
      "3500 0.674494879651801\n",
      "3600 0.6488755542665231\n",
      "3700 0.6231148189386547\n",
      "3800 0.5972239572242876\n",
      "3900 0.5712290423991597\n",
      "4000 0.5451705412237388\n",
      "4100 0.5191006984882897\n",
      "4200 0.49308170990399974\n",
      "4300 0.4671841292742724\n",
      "4400 0.44148606636159754\n",
      "4500 0.416072921492993\n",
      "4600 0.39103862079604645\n",
      "4700 0.3664875351074211\n",
      "4800 0.3425303843836874\n",
      "4900 0.3192790750340007\n",
      "5000 0.2968374680848526\n",
      "5100 0.2752908959681275\n",
      "5200 0.25470066332972413\n",
      "5300 0.23510527036115533\n",
      "5400 0.21652396189572443\n",
      "5500 0.19896172812251234\n",
      "5600 0.1824146246174516\n",
      "5700 0.16687259406073246\n",
      "5800 0.15232148323193143\n",
      "5900 0.13874314194019655\n",
      "6000 0.12611673947804422\n",
      "6100 0.11441872201092713\n",
      "6200 0.10362329961960975\n",
      "6300 0.09370228651116214\n",
      "6400 0.08462567208194248\n",
      "6500 0.07636148362075844\n",
      "6600 0.06887584520581001\n",
      "6700 0.06213244365847357\n",
      "6800 0.05609284206645117\n",
      "6900 0.050716256694485526\n",
      "7000 0.04595921292535307\n",
      "7100 0.041776549324902684\n",
      "7200 0.03812091899407661\n",
      "7300 0.034943923532729244\n",
      "7400 0.032196473752973846\n",
      "7500 0.02982980095885873\n",
      "7600 0.027796249366431623\n",
      "7700 0.026049968872852967\n",
      "7800 0.024548077622223333\n",
      "7900 0.02325097827477439\n",
      "8000 0.022123146909594698\n",
      "8100 0.02113327191889364\n",
      "8200 0.020254500647906917\n",
      "8300 0.019464277635790197\n",
      "8400 0.018744068420675313\n",
      "8500 0.018078968686587978\n",
      "8600 0.017457304072721374\n",
      "8700 0.016870037747039098\n",
      "8800 0.016310412325076306\n",
      "8900 0.015773448918807408\n",
      "9000 0.015255500438511382\n",
      "9100 0.014754000039365466\n",
      "9200 0.014267206461682856\n",
      "9300 0.013793828781988808\n",
      "9400 0.013333094973884773\n",
      "9500 0.012884448839571827\n",
      "9600 0.012447530779605769\n",
      "9700 0.012022074369754302\n",
      "9800 0.011607952800899315\n",
      "9900 0.011205000217457635\n"
     ]
    }
   ],
   "source": [
    "NN.train(net, pinn_loss, input_normalization, lr=0.00001, epochs=10000, validation_prop=0)"
   ]
  },
  {
   "cell_type": "markdown",
   "metadata": {},
   "source": [
    "### 4.6. Perform an online solve"
   ]
  },
  {
   "cell_type": "code",
   "execution_count": null,
   "metadata": {},
   "outputs": [],
   "source": [
    "online_mu = (0.3, 9.0)\n",
    "reduced_problem.set_mu(online_mu)\n",
    "reduced_solution = reduced_problem.solve()\n",
    "plot(reduced_solution, reduced_problem=reduced_problem)"
   ]
  },
  {
   "cell_type": "code",
   "execution_count": null,
   "metadata": {},
   "outputs": [],
   "source": [
    "net.eval()\n",
    "\n",
    "with torch.no_grad():\n",
    "    online_mu_nn = torch.tensor(online_mu)\n",
    "    # NOTE: Change output_normalization accordingly for the different losses\n",
    "    reduced_solution_nn = net.solve(online_mu_nn, input_normalization, output_normalization=None)\n",
    "    print(reduced_solution_nn)\n",
    "    plot(reduced_solution_nn, reduced_problem=reduced_problem)\n",
    "\n",
    "net.train()"
   ]
  },
  {
   "cell_type": "code",
   "execution_count": null,
   "metadata": {
    "scrolled": true
   },
   "outputs": [],
   "source": [
    "mu, errors, error_plot = NN.plot_error(net, input_normalization)\n",
    "print(np.mean(errors))\n",
    "error_plot"
   ]
  },
  {
   "cell_type": "code",
   "execution_count": null,
   "metadata": {},
   "outputs": [],
   "source": [
    "problem.set_mu(online_mu)\n",
    "problem.solve()\n",
    "hf_sol = np.array(problem._solution.vector())\n",
    "rb_sol = np.array((reduced_problem.basis_functions * reduced_solution).vector())\n",
    "nn_sol = np.array((reduced_problem.basis_functions * reduced_solution_nn).vector())\n",
    "print(np.mean((hf_sol - rb_sol)**2), np.mean((rb_sol - nn_sol)**2), np.mean((hf_sol - nn_sol)**2))"
   ]
  },
  {
   "cell_type": "markdown",
   "metadata": {},
   "source": [
    "### 4.7. Perform an error analysis"
   ]
  },
  {
   "cell_type": "code",
   "execution_count": null,
   "metadata": {},
   "outputs": [],
   "source": [
    "reduction_method.initialize_testing_set(50)\n",
    "reduction_method.error_analysis()"
   ]
  },
  {
   "cell_type": "markdown",
   "metadata": {},
   "source": [
    "### 4.8. Perform a speedup analysis"
   ]
  },
  {
   "cell_type": "code",
   "execution_count": null,
   "metadata": {},
   "outputs": [],
   "source": [
    "reduction_method.speedup_analysis()"
   ]
  },
  {
   "cell_type": "code",
   "execution_count": null,
   "metadata": {},
   "outputs": [],
   "source": []
  }
 ],
 "metadata": {
  "kernelspec": {
   "display_name": "Python 3 (ipykernel)",
   "language": "python",
   "name": "python3"
  },
  "language_info": {
   "codemirror_mode": {
    "name": "ipython",
    "version": 3
   },
   "file_extension": ".py",
   "mimetype": "text/x-python",
   "name": "python",
   "nbconvert_exporter": "python",
   "pygments_lexer": "ipython3",
   "version": "3.10.4"
  }
 },
 "nbformat": 4,
 "nbformat_minor": 4
}
