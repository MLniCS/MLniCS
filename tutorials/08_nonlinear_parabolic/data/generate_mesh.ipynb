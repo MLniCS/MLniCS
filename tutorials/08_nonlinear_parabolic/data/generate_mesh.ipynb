{
 "cells": [
  {
   "cell_type": "code",
   "execution_count": null,
   "metadata": {},
   "outputs": [],
   "source": [
    "from dolfin import *"
   ]
  },
  {
   "cell_type": "code",
   "execution_count": null,
   "metadata": {},
   "outputs": [],
   "source": [
    "# Create mesh\n",
    "mesh = UnitIntervalMesh(1024)\n",
    "plot(mesh)"
   ]
  },
  {
   "cell_type": "code",
   "execution_count": null,
   "metadata": {},
   "outputs": [],
   "source": [
    "# Create subdomains\n",
    "subdomains = MeshFunction(\"size_t\", mesh, mesh.topology().dim())\n",
    "subdomains.set_all(0)"
   ]
  },
  {
   "cell_type": "code",
   "execution_count": null,
   "metadata": {},
   "outputs": [],
   "source": [
    "# Create boundaries\n",
    "class Left(SubDomain):\n",
    "    def inside(self, x, on_boundary):\n",
    "        return on_boundary and abs(x[0]) < DOLFIN_EPS\n",
    "\n",
    "\n",
    "class Right(SubDomain):\n",
    "    def inside(self, x, on_boundary):\n",
    "        return on_boundary and abs(x[0] - 1.) < DOLFIN_EPS\n",
    "\n",
    "\n",
    "boundaries = MeshFunction(\"size_t\", mesh, mesh.topology().dim() - 1)\n",
    "boundaries.set_all(0)\n",
    "left = Left()\n",
    "left.mark(boundaries, 1)\n",
    "right = Right()\n",
    "right.mark(boundaries, 2)"
   ]
  },
  {
   "cell_type": "code",
   "execution_count": null,
   "metadata": {},
   "outputs": [],
   "source": [
    "# Save\n",
    "File(\"interval.xml\") << mesh\n",
    "File(\"interval_physical_region.xml\") << subdomains\n",
    "File(\"interval_facet_region.xml\") << boundaries\n",
    "XDMFFile(\"interval.xdmf\").write(mesh)\n",
    "XDMFFile(\"interval_physical_region.xdmf\").write(subdomains)\n",
    "XDMFFile(\"interval_facet_region.xdmf\").write(boundaries)"
   ]
  }
 ],
 "metadata": {
  "kernelspec": {
   "display_name": "Python 3",
   "language": "python",
   "name": "python3"
  },
  "language_info": {
   "codemirror_mode": {
    "name": "ipython"
   },
   "file_extension": ".py",
   "mimetype": "text/x-python",
   "name": "python",
   "nbconvert_exporter": "python"
  }
 },
 "nbformat": 4,
 "nbformat_minor": 4
}
