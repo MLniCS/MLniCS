{
 "cells": [
  {
   "cell_type": "markdown",
   "metadata": {},
   "source": [
    "## Tutorial 09 - Advection Dominated problem\n",
    "**_Keywords: POD-Galerkin method, SUPG_**\n",
    "\n",
    "### 1. Introduction\n",
    "This tutorial addresses the POD-Galerkin method to the advection dominated worked problem in a two-dimensional domain $\\Omega=(0,1)^2$ shown below:\n",
    "\n",
    "<img src=\"data/advection_dominated_1.png\" />\n",
    "\n",
    "We introduce a stabilization technique such as $\\textit{Streamline/Upwind Petrov-Galerkin}$ (SUPG) able to reduce the numerical oscillations on the approximation of the solution of parametrized advection-diffusion problem:\n",
    "\n",
    "$$\n",
    "-\\varepsilon(\\boldsymbol{\\mu})\\,\\Delta u(\\boldsymbol{\\mu})+\\beta(\\boldsymbol{\\mu})\\cdot\\nabla u(\\boldsymbol{\\mu})=f(\\boldsymbol{\\mu})\\quad\\text{on }\\,\\Omega(\\boldsymbol{\\mu}),\n",
    "$$\n",
    "\n",
    "where $\\beta(\\boldsymbol{\\mu})$ and $\\varepsilon(\\boldsymbol{\\mu})$ represent the advection and the diffusion term, respectively.\n",
    "\n",
    "For this problem, we consider on parameter $\\mu$, thus $P=1$. It is related to the Péclet number:\n",
    "\n",
    "$$\n",
    "\\mathbb{P}e_K(\\boldsymbol{\\mu})(x):=\\frac{|\\beta(\\boldsymbol{\\mu})(x)| h_K}{2\\,\\varepsilon(\\boldsymbol{\\mu})(x)}\\quad\\forall x\\in K\\quad\\forall\\boldsymbol{\\mu}\\in\\mathbb{P}.\n",
    "$$\n",
    "\n",
    "Here $h_K$ represents the diameter of $K\\in\\mathcal{T}_h$, where $\\mathcal{T}_h$ indicates a triangulation of our domain $\\Omega(\\boldsymbol{\\mu})$.\n",
    "\n",
    "The parameter domain is thus given by \n",
    "$$\n",
    "\\mathbb{P}=[0, 6].\n",
    "$$\n",
    "\n",
    "In this problem we consider two approaches:\n",
    "1. Offline-Online stabilized,\n",
    "2. Offline-only stabilized,\n",
    "\n",
    "in which while in the first one we apply the SUPG method both in the Offline and Online phases, in the second one only in the Offline phase it is applied.\n",
    "\n",
    "In order to obtain a faster approximation of the problem, we pursue a model reduction by means of a POD-Galerkin reduced order method."
   ]
  },
  {
   "cell_type": "markdown",
   "metadata": {},
   "source": [
    "### 2. Parametrized formulation\n",
    "\n",
    "Let $u(\\boldsymbol{\\mu})$ be the solution in the domain $\\Omega$.\n",
    "\n",
    "The PDE formulation of the parametrized problem is given by:\n",
    "<center>for a given parameter $\\mu=\\boldsymbol{\\mu}\\in\\mathbb{P}$, find $u(\\boldsymbol{\\mu})$ such that</center>\n",
    "\n",
    "$$\n",
    "\\begin{cases}\n",
    "\t-\\frac{1}{10\\,^{\\boldsymbol{\\mu}}}\\Delta\\,u(\\boldsymbol{\\mu})+(1,1)\\cdot\\nabla u(\\boldsymbol{\\mu})=0 & \\text{in }\\Omega,\\\\\n",
    "    u(\\boldsymbol{\\mu}) = 0 & \\text{on } \\Gamma_1\\cup\\Gamma_2, \\\\ \n",
    "\tu(\\boldsymbol{\\mu}) = 1 & \\text{on } \\Gamma_3\\cup\\Gamma_4.\n",
    "\\end{cases}\n",
    "$$\n",
    "<br>\n",
    "\n",
    "The corresponding weak formulation reads:\n",
    "<center>for a given parameter $\\boldsymbol{\\mu}\\in\\mathbb{P}$, find $u(\\boldsymbol{\\mu})\\in\\mathbb{V}$ such that</center>\n",
    "\n",
    "$$a\\left(u(\\boldsymbol{\\mu}),v;\\boldsymbol{\\mu}\\right)=f(v;\\boldsymbol{\\mu})\\quad \\forall v\\in\\mathbb{V},$$\n",
    "\n",
    "where\n",
    "\n",
    "* the function space $\\mathbb{V}$ is defined as\n",
    "$$\n",
    "\\mathbb{V} = \\left\\{ v \\in H^1(\\Omega): v|_{\\Gamma_1\\cup\\Gamma_2} = 0, v|_{\\Gamma_3\\cup\\Gamma_4} = 1\\right\\},\n",
    "$$\n",
    "* the parametrized bilinear form $a(\\cdot, \\cdot; \\boldsymbol{\\mu}): \\mathbb{V} \\times \\mathbb{V} \\to \\mathbb{R}$ is defined by\n",
    "$$a(u,v;\\boldsymbol{\\mu}) = \\int_{\\Omega} \\frac{1}{10\\,^{\\boldsymbol{\\mu}}}\\nabla u \\cdot \\nabla v +\\left(\\partial_xu+\\partial_yu\\right)v\\ d\\boldsymbol{x},$$\n",
    "* the parametrized linear form $f(\\cdot; \\boldsymbol{\\mu}): \\mathbb{V} \\to \\mathbb{R}$ is defined by\n",
    "$$f(v; \\boldsymbol{\\mu}) = \\int_{\\Omega} v\\ d\\boldsymbol{x}.$$\n",
    "\n",
    "For the $\\textit{Offline-Online stabilized}$ approach we use a different bilinear form $a_{stab}$ instead of $a$;\n",
    "\n",
    "while in the $\\textit{Offline-only stabilized}$ approach we use the the bilinear form $a_{stab}$ during the Offline phase, performing the Online Galerkin projection with respect to the bilinear form $a$,\n",
    "\n",
    "* the parametrized bilinear stabilized form $a_{stab}(\\cdot, \\cdot; \\boldsymbol{\\mu}): \\mathbb{V} \\times \\mathbb{V} \\to \\mathbb{R}$ is defined by\n",
    "$$a_{stab}(u,v,\\boldsymbol{\\mu}) = a(u,v,\\boldsymbol{\\mu}) + s(u,v,\\boldsymbol{\\mu}),$$\n",
    "\n",
    "where\n",
    "\n",
    "$$\n",
    "\\begin{align*}\n",
    "    a(u,v;\\boldsymbol{\\mu}) &= \\int_{\\Omega} \\frac{1}{10\\,^{\\boldsymbol{\\mu}}}\\nabla u \\cdot \\nabla v +\\left[(1,1)\\cdot\\nabla u\\right]v\\ d\\boldsymbol{x},\\\\\n",
    "    s(u,v;\\boldsymbol{\\mu}) &= \\sum_{K\\in\\mathcal{T}_h}\\delta_K\\int_K \n",
    "    \\left(-\\frac{1}{10\\,^{\\boldsymbol{\\mu}}}\\Delta u+(1,1)\\cdot\\nabla u\\right)\\left(\\frac{h_K}{\\sqrt{2}}(1,1)\\cdot\\nabla v\\right)\\ d\\boldsymbol{x},\n",
    "\\end{align*}\n",
    "$$\n",
    "\n",
    "and\n",
    "* the parametrized linear form $f_{stab}(\\cdot; \\boldsymbol{\\mu}): \\mathbb{V} \\to \\mathbb{R}$ is defined by\n",
    "$$\n",
    "f_{stab}(v;\\boldsymbol{\\mu}) = f(v;\\boldsymbol{\\mu}) + r(v;\\boldsymbol{\\mu})\n",
    "$$\n",
    "\n",
    "where\n",
    "\n",
    "$$\n",
    "\\begin{align*}\n",
    "    f(v;\\boldsymbol{\\mu}) &= \\int_{\\Omega} v\\ d\\boldsymbol{x}, \\\\\n",
    "    r(v;\\boldsymbol{\\mu}) &= \\sum_{K\\in\\mathcal{T}_h}\\delta_K\\int_K \\left(\\frac{h_K}{\\sqrt{2}}(1,1)\\cdot\\nabla v\\right)\\ d\\boldsymbol{x}.\n",
    "\\end{align*}\n",
    "$$"
   ]
  },
  {
   "cell_type": "code",
   "execution_count": 1,
   "metadata": {},
   "outputs": [],
   "source": [
    "import sys\n",
    "sys.path.append(\"../../MLniCS/\")\n",
    "\n",
    "\n",
    "from mlnics import NN, Losses, Normalization\n",
    "from dolfin import *\n",
    "from rbnics import *\n",
    "from problems import *\n",
    "from reduction_methods import *\n",
    "import torch\n",
    "import numpy as np\n",
    "\n",
    "torch.manual_seed(0)\n",
    "np.random.seed(0)"
   ]
  },
  {
   "cell_type": "markdown",
   "metadata": {},
   "source": [
    "## 3. Affine decomposition\n",
    "\n",
    "For this problem the affine decomposition is straightforward:\n",
    "\n",
    "$$a(u,v;\\boldsymbol{\\mu})=\\underbrace{\\frac{1}{10\\,^{\\boldsymbol{\\mu}}}}_{\\Theta^{a}_0(\\boldsymbol{\\mu})}\\underbrace{\\int_{\\Omega}\\nabla u \\cdot \\nabla v \\ d\\boldsymbol{x}}_{a_0(u,v)} \\ + \\  \\underbrace{1}_{\\Theta^{a}_1(\\boldsymbol{\\mu})}\\underbrace{\\int_{\\Omega}\\left[(1,1)\\cdot\\nabla u\\right]v \\ d\\boldsymbol{x}}_{a_1(u,v)},$$\n",
    "$$f(v; \\boldsymbol{\\mu}) = \\underbrace{1}_{\\Theta^{f}_0(\\boldsymbol{\\mu})} \\underbrace{\\int_{\\Omega}v \\ d\\boldsymbol{x}}_{f_0(v)}.$$\n",
    "\n",
    "Adding the following forms, we obtaing the affine decomposition for the stabilized approach:\n",
    "\n",
    "$$s(u,v;\\boldsymbol{\\mu}) = \\sum_{K\\in\\mathcal{T}_h}\\underbrace{\\frac{\\delta_K}{10\\,^{\\boldsymbol{\\mu}}}}_{\\Theta^{s}_0(\\boldsymbol{\\mu})}\\underbrace{\\int_K \n",
    "    \\Delta u\\left(\\frac{h_K}{\\sqrt{2}}(1,1)\\cdot\\nabla v\\right)\\ d\\boldsymbol{x}}_{s_0(u,v)} \\ + \\\n",
    "    \\sum_{K\\in\\mathcal{T}_h}\\underbrace{\\delta_K}_{\\Theta^{s}_1(\\boldsymbol{\\mu})}\\underbrace{\\int_K \n",
    "    \\left((1,1)\\cdot\\nabla u\\right)\\left(\\frac{h_K}{\\sqrt{2}}(1,1)\\cdot\\nabla v\\right)\\ d\\boldsymbol{x}}_{s_1(u,v)},$$\n",
    "$$r(v; \\boldsymbol{\\mu}) = \\sum_{K\\in\\mathcal{T}_h}\\underbrace{\\delta_K}_{\\Theta^{r}_0(\\boldsymbol{\\mu})} \\underbrace{\\int_K\\left(\\frac{h_K}{\\sqrt{2}}(1,1)\\cdot\\nabla v\\right)\\ d\\boldsymbol{x}}_{r_0(v)}.$$\n",
    "We will implement the numerical discretization of the problem in the class\n",
    "```\n",
    "class AdvectionDominated(EllipticCoerciveProblem):\n",
    "```\n",
    "by specifying the coefficients $\\Theta^{a}_*(\\boldsymbol{\\mu})$ and $\\Theta^{f}_*(\\boldsymbol{\\mu})$ in the method\n",
    "```\n",
    "    def compute_theta(self, term):     \n",
    "```\n",
    "and the bilinear forms $a_*(u, v)$ and linear forms $f_*(v)$ in\n",
    "```\n",
    "    def assemble_operator(self, term):\n",
    "```"
   ]
  },
  {
   "cell_type": "code",
   "execution_count": 2,
   "metadata": {},
   "outputs": [],
   "source": [
    "@OnlineStabilization()\n",
    "class AdvectionDominated(EllipticCoerciveProblem):\n",
    "\n",
    "    # Default initialization of members\n",
    "    def __init__(self, V, **kwargs):\n",
    "        # Call the standard initialization\n",
    "        EllipticCoerciveProblem.__init__(self, V, **kwargs)\n",
    "        # ... and also store FEniCS data structures for assembly\n",
    "        assert \"subdomains\" in kwargs\n",
    "        assert \"boundaries\" in kwargs\n",
    "        self.subdomains, self.boundaries = kwargs[\"subdomains\"], kwargs[\"boundaries\"]\n",
    "        self.u = TrialFunction(V)\n",
    "        self.v = TestFunction(V)\n",
    "        self.dx = Measure(\"dx\")(subdomain_data=subdomains)\n",
    "        self.ds = Measure(\"ds\")(subdomain_data=boundaries)\n",
    "        # Store advection and forcing expressions\n",
    "        self.beta = Constant((1.0, 1.0))\n",
    "        self.f = Constant(1.0)\n",
    "        # Store terms related to stabilization\n",
    "        self.delta = 0.5\n",
    "        self.h = CellDiameter(V.mesh())\n",
    "\n",
    "    # Return custom problem name\n",
    "    def name(self):\n",
    "        return \"AdvectionDominated1POD\"\n",
    "\n",
    "    # Return theta multiplicative terms of the affine expansion of the problem.\n",
    "    def compute_theta(self, term):\n",
    "        mu = self.mu\n",
    "        if term == \"a\":\n",
    "            theta_a0 = 10.0**(- mu[0])\n",
    "            theta_a1 = 1.0\n",
    "            if self.stabilized:\n",
    "                delta = self.delta\n",
    "                theta_a2 = - delta * 10.0**(- mu[0])\n",
    "                theta_a3 = delta\n",
    "            else:\n",
    "                theta_a2 = 0.0\n",
    "                theta_a3 = 0.0\n",
    "            return (theta_a0, theta_a1, theta_a2, theta_a3)\n",
    "        elif term == \"f\":\n",
    "            theta_f0 = 1.0\n",
    "            if self.stabilized:\n",
    "                delta = self.delta\n",
    "                theta_f1 = delta\n",
    "            else:\n",
    "                theta_f1 = 0.0\n",
    "            return (theta_f0, theta_f1)\n",
    "        else:\n",
    "            raise ValueError(\"Invalid term for compute_theta().\")\n",
    "\n",
    "    # Return forms resulting from the discretization of the affine expansion of the problem operators.\n",
    "    def assemble_operator(self, term):\n",
    "        v = self.v\n",
    "        dx = self.dx\n",
    "        if term == \"a\":\n",
    "            u = self.u\n",
    "            beta = self.beta\n",
    "            h = self.h\n",
    "            a0 = inner(grad(u), grad(v)) * dx\n",
    "            a1 = inner(beta, grad(u)) * v * dx\n",
    "            a2 = inner(div(grad(u)), h * inner(beta, grad(v))) * dx\n",
    "            a3 = inner(inner(beta, grad(u)), h * inner(beta, grad(v))) * dx\n",
    "            return (a0, a1, a2, a3)\n",
    "        elif term == \"f\":\n",
    "            f = self.f\n",
    "            beta = self.beta\n",
    "            h = self.h\n",
    "            f0 = f * v * dx\n",
    "            f1 = inner(f, h * inner(beta, grad(v))) * dx\n",
    "            return (f0, f1)\n",
    "        elif term == \"k\":\n",
    "            u = self.u\n",
    "            k0 = inner(grad(u), grad(v)) * dx\n",
    "            return (k0,)\n",
    "        elif term == \"m\":\n",
    "            u = self.u\n",
    "            m0 = inner(u, v) * dx\n",
    "            return (m0,)\n",
    "        elif term == \"dirichlet_bc\":\n",
    "            bc0 = [DirichletBC(self.V, Constant(0.0), self.boundaries, 1),\n",
    "                   DirichletBC(self.V, Constant(0.0), self.boundaries, 2)]\n",
    "            return (bc0,)\n",
    "        elif term == \"inner_product\":\n",
    "            u = self.u\n",
    "            x0 = inner(grad(u), grad(v)) * dx\n",
    "            return (x0,)\n",
    "        else:\n",
    "            raise ValueError(\"Invalid term for assemble_operator().\")"
   ]
  },
  {
   "cell_type": "markdown",
   "metadata": {},
   "source": [
    "## 4. Main program\n",
    "\n",
    "### 4.1. Read the mesh for this problem\n",
    "The mesh was generated by the [data/generate_mesh.ipynb](data/generate_mesh.ipynb) notebook."
   ]
  },
  {
   "cell_type": "code",
   "execution_count": 3,
   "metadata": {},
   "outputs": [],
   "source": [
    "mesh = Mesh(\"data/square.xml\")\n",
    "subdomains = MeshFunction(\"size_t\", mesh, \"data/square_physical_region.xml\")\n",
    "boundaries = MeshFunction(\"size_t\", mesh, \"data/square_facet_region.xml\")"
   ]
  },
  {
   "cell_type": "markdown",
   "metadata": {},
   "source": [
    "### 4.2. Create Finite Element space (Lagrange P2)"
   ]
  },
  {
   "cell_type": "code",
   "execution_count": 4,
   "metadata": {},
   "outputs": [],
   "source": [
    "V = FunctionSpace(mesh, \"Lagrange\", 2)"
   ]
  },
  {
   "cell_type": "markdown",
   "metadata": {},
   "source": [
    "### 4.3. Allocate an object of the AdvectionDominated class"
   ]
  },
  {
   "cell_type": "code",
   "execution_count": 5,
   "metadata": {},
   "outputs": [],
   "source": [
    "problem = AdvectionDominated(V, subdomains=subdomains, boundaries=boundaries)\n",
    "mu_range = [(0.0, 6.0)]\n",
    "problem.set_mu_range(mu_range)"
   ]
  },
  {
   "cell_type": "markdown",
   "metadata": {},
   "source": [
    "### 4.4. Prepare reduction with a POD-Galerkin method"
   ]
  },
  {
   "cell_type": "code",
   "execution_count": 6,
   "metadata": {},
   "outputs": [],
   "source": [
    "reduction_method = PODGalerkin(problem)\n",
    "reduction_method.set_Nmax(15)"
   ]
  },
  {
   "cell_type": "markdown",
   "metadata": {},
   "source": [
    "### 4.5. Perform the offline phase"
   ]
  },
  {
   "cell_type": "code",
   "execution_count": 7,
   "metadata": {
    "scrolled": true
   },
   "outputs": [],
   "source": [
    "reduction_method.initialize_training_set(50)\n",
    "reduced_problem = reduction_method.offline()"
   ]
  },
  {
   "cell_type": "code",
   "execution_count": 8,
   "metadata": {},
   "outputs": [],
   "source": [
    "net = NN.RONN(problem, reduction_method)\n",
    "\n",
    "reduction_method.initialize_testing_set(10)\n",
    "test_mu, val_mu = NN.get_test_validation(net, validation_proportion=0.2)"
   ]
  },
  {
   "cell_type": "code",
   "execution_count": 9,
   "metadata": {},
   "outputs": [],
   "source": [
    "input_normalization = Normalization.StandardNormalization()\n",
    "output_normalization = Normalization.IdentityNormalization()"
   ]
  },
  {
   "cell_type": "code",
   "execution_count": 10,
   "metadata": {},
   "outputs": [],
   "source": [
    "pdnn_loss = Losses.PDNN_Loss(net, output_normalization)\n",
    "pinn_loss = Losses.PINN_Loss(net)\n",
    "prnn_loss = Losses.PRNN_Loss(net, output_normalization, omega=1.)"
   ]
  },
  {
   "cell_type": "code",
   "execution_count": 12,
   "metadata": {
    "scrolled": true
   },
   "outputs": [
    {
     "name": "stdout",
     "output_type": "stream",
     "text": [
      "Getting operator matrices...\n",
      "Operator 's' not implemented. Continuing without operator 's'...\n",
      "0 0.04888436055736796 \tmean error(validation) = 0.9215855244669151\n",
      "100 0.0010810752045400313 \tmean error(validation) = 0.13399728507950265\n",
      "200 0.0006518710488540591 \tmean error(validation) = 0.0712236923115895\n",
      "300 0.00046072897294554356 \tmean error(validation) = 0.07268284762809893\n",
      "400 0.0003366911375504976 \tmean error(validation) = 0.06718365279279587\n",
      "500 0.00024954943745529357 \tmean error(validation) = 0.05725237494898245\n",
      "600 0.0001836511392272998 \tmean error(validation) = 0.04785580129613633\n",
      "700 0.00015194897326085911 \tmean error(validation) = 0.04081693258523203\n",
      "800 0.000101146112120801 \tmean error(validation) = 0.03538994422247058\n",
      "900 7.654621928886233e-05 \tmean error(validation) = 0.030831634798285438\n",
      "1000 6.031039352473105e-05 \tmean error(validation) = 0.027165569638129137\n",
      "1100 4.748806668786688e-05 \tmean error(validation) = 0.02391965676999143\n",
      "1200 3.947902402335231e-05 \tmean error(validation) = 0.02109881839250764\n",
      "1300 3.227169168778596e-05 \tmean error(validation) = 0.018757544695954295\n",
      "1400 4.454069239358192e-05 \tmean error(validation) = 0.016754374019448747\n",
      "1500 2.3688338467148752e-05 \tmean error(validation) = 0.015013335134744824\n",
      "1600 2.2720834118051393e-05 \tmean error(validation) = 0.013552318524562786\n",
      "1700 1.848880920945913e-05 \tmean error(validation) = 0.012304140216946634\n",
      "1800 1.8376723484395685e-05 \tmean error(validation) = 0.011282537037273397\n",
      "1900 1.676891239664749e-05 \tmean error(validation) = 0.010413213871329772\n",
      "2000 1.751158696791968e-05 \tmean error(validation) = 0.009574477973418094\n",
      "2100 1.2690112924029027e-05 \tmean error(validation) = 0.00894558182613224\n",
      "2200 1.1743254570329019e-05 \tmean error(validation) = 0.008425420466364743\n",
      "2300 1.1013255411468479e-05 \tmean error(validation) = 0.008038349555113735\n",
      "2400 1.0070482238898293e-05 \tmean error(validation) = 0.007601342070855074\n",
      "2500 1.8901770487155117e-05 \tmean error(validation) = 0.007409291554378828\n",
      "2600 8.726250909759677e-06 \tmean error(validation) = 0.007050329874601436\n",
      "2700 8.125101489789284e-06 \tmean error(validation) = 0.006759328737640935\n",
      "2800 7.586113770040512e-06 \tmean error(validation) = 0.006570185763689649\n",
      "2900 7.094918188425765e-06 \tmean error(validation) = 0.00640474244488372\n",
      "3000 1.6802628624910694e-05 \tmean error(validation) = 0.006353036911109751\n",
      "3100 6.1822238723412036e-06 \tmean error(validation) = 0.006109245476894971\n",
      "3200 5.9522577695595866e-06 \tmean error(validation) = 0.005975104874625122\n",
      "3300 5.644899068062756e-06 \tmean error(validation) = 0.0058109226476310855\n",
      "3400 5.119233485183483e-06 \tmean error(validation) = 0.0057258640762514815\n",
      "3500 4.940045138548132e-06 \tmean error(validation) = 0.005674118427697443\n",
      "3600 4.618964588441814e-06 \tmean error(validation) = 0.0055215622615042235\n",
      "3700 9.050714996115724e-06 \tmean error(validation) = 0.0055306961555105765\n",
      "3800 4.754633133803863e-06 \tmean error(validation) = 0.005349550455869491\n",
      "3900 4.972137320826845e-06 \tmean error(validation) = 0.005210221374389156\n",
      "4000 6.838457701643235e-06 \tmean error(validation) = 0.005204018721353086\n",
      "4100 1.0298920368148607e-05 \tmean error(validation) = 0.005103896368966432\n",
      "4200 3.8138324360699096e-06 \tmean error(validation) = 0.005026576411694046\n",
      "4300 3.718761929573646e-05 \tmean error(validation) = 0.005558592431898256\n",
      "4400 6.374553118431457e-06 \tmean error(validation) = 0.004928761048040177\n",
      "4500 3.871594331471413e-06 \tmean error(validation) = 0.00488101807465641\n",
      "4600 1.853155394614075e-05 \tmean error(validation) = 0.00494099490595543\n",
      "4700 3.726343617823445e-06 \tmean error(validation) = 0.00484574850657787\n",
      "4800 2.9914631626646757e-06 \tmean error(validation) = 0.0047656066888237675\n",
      "4900 9.28325457632798e-06 \tmean error(validation) = 0.004577863135118724\n",
      "5000 4.553896262230895e-06 \tmean error(validation) = 0.004588157089985273\n",
      "5100 2.5247240279610454e-06 \tmean error(validation) = 0.004613040780763006\n",
      "5200 2.5638100083442077e-06 \tmean error(validation) = 0.004514561789331383\n",
      "5300 8.74952482068604e-06 \tmean error(validation) = 0.004572833458287696\n",
      "5400 2.757907709207187e-06 \tmean error(validation) = 0.004506927368689805\n",
      "5500 6.804605228378992e-06 \tmean error(validation) = 0.004479500992001178\n",
      "5600 5.0039716784420934e-06 \tmean error(validation) = 0.004423099646588815\n",
      "5700 2.265477423714505e-05 \tmean error(validation) = 0.0048208278358945825\n",
      "5800 1.5188923396024819e-05 \tmean error(validation) = 0.004524091747833253\n",
      "5900 5.061899951937114e-06 \tmean error(validation) = 0.00459035733296369\n",
      "6000 2.4905825566309715e-06 \tmean error(validation) = 0.00428865789603297\n",
      "6100 1.3911148098692597e-05 \tmean error(validation) = 0.0043700107711059834\n",
      "6200 2.825367677434429e-06 \tmean error(validation) = 0.0043542025262387745\n",
      "6300 5.453320864263184e-06 \tmean error(validation) = 0.004372962483175853\n",
      "6400 3.7563173257627735e-06 \tmean error(validation) = 0.004574023173694728\n",
      "6500 5.402263288594087e-06 \tmean error(validation) = 0.0040894744345241095\n",
      "6600 1.5459542262254267e-05 \tmean error(validation) = 0.0043237012198892024\n",
      "6700 1.4189443089895014e-06 \tmean error(validation) = 0.004235987069954733\n",
      "6800 1.4397481332754873e-06 \tmean error(validation) = 0.0041180691890288414\n",
      "6900 5.166202436653108e-06 \tmean error(validation) = 0.004263012102295898\n",
      "7000 1.2973760512093164e-06 \tmean error(validation) = 0.004149479083053631\n",
      "7100 1.5187539253208525e-06 \tmean error(validation) = 0.004216112564381544\n",
      "7200 1.612406164980077e-06 \tmean error(validation) = 0.0041305105761407805\n",
      "7300 1.3914104192197442e-06 \tmean error(validation) = 0.00407558881330145\n",
      "7400 1.2015516671951784e-06 \tmean error(validation) = 0.004119108197536025\n",
      "7500 1.9642786236358892e-05 \tmean error(validation) = 0.004124105694180823\n",
      "7600 5.710195882092592e-06 \tmean error(validation) = 0.004740025616262724\n",
      "7700 2.3275786006668867e-06 \tmean error(validation) = 0.004164403635630298\n",
      "7800 3.7041281684657554e-06 \tmean error(validation) = 0.004138571919803019\n",
      "7900 3.850316593117273e-06 \tmean error(validation) = 0.004162697286601161\n",
      "8000 2.476210600651117e-06 \tmean error(validation) = 0.004201163417686091\n",
      "8100 4.644085352356102e-06 \tmean error(validation) = 0.004441711622587706\n",
      "8200 5.917229773117394e-06 \tmean error(validation) = 0.004301733303843976\n",
      "8300 1.3273031502760501e-06 \tmean error(validation) = 0.004135299856341474\n",
      "8400 5.633727633611944e-06 \tmean error(validation) = 0.0040309443435784876\n",
      "8500 7.70013815837709e-06 \tmean error(validation) = 0.004406439625633239\n",
      "8600 4.9914273659630504e-06 \tmean error(validation) = 0.004119100677930865\n",
      "8700 7.71949171313708e-06 \tmean error(validation) = 0.004468931536516925\n",
      "8800 1.0083569073603175e-05 \tmean error(validation) = 0.004051146616285315\n",
      "8900 8.182814236848597e-06 \tmean error(validation) = 0.004043098129521673\n",
      "9000 1.0371421917956456e-06 \tmean error(validation) = 0.004218333538849921\n",
      "9100 2.86040524937973e-06 \tmean error(validation) = 0.00406794183569353\n",
      "9200 3.2190897400754345e-06 \tmean error(validation) = 0.004126845801121485\n",
      "9300 5.371860070759048e-06 \tmean error(validation) = 0.005374433164457038\n",
      "9400 3.802739951565871e-06 \tmean error(validation) = 0.003879708201082398\n",
      "9500 2.4603649419720105e-06 \tmean error(validation) = 0.0040000712790071846\n",
      "9600 2.929636570932994e-06 \tmean error(validation) = 0.004274325183786955\n",
      "9700 2.3857608877358635e-06 \tmean error(validation) = 0.004222408105940018\n",
      "9800 7.695234702347872e-06 \tmean error(validation) = 0.004251624064943762\n",
      "9900 3.469205313291485e-06 \tmean error(validation) = 0.003917209404245414\n"
     ]
    }
   ],
   "source": [
    "NN.normalize_and_train(net, pinn_loss, input_normalization, \n",
    "                       lr=0.001, epochs=10000, validation_set=val_mu)"
   ]
  },
  {
   "cell_type": "markdown",
   "metadata": {},
   "source": [
    "### 4.6. Perform an online solve"
   ]
  },
  {
   "cell_type": "code",
   "execution_count": null,
   "metadata": {},
   "outputs": [],
   "source": [
    "online_mu = (6.0, )\n",
    "reduced_problem.set_mu(online_mu)\n",
    "reduced_problem.solve(online_stabilization=True)\n",
    "reduced_problem.export_solution(filename=\"online_solution_with_stabilization\")\n",
    "reduced_problem.export_error(filename=\"online_error_with_stabilization\")\n",
    "reduced_problem.solve(online_stabilization=False)\n",
    "reduced_problem.export_solution(filename=\"online_solution_without_stabilization\")\n",
    "reduced_problem.export_error(filename=\"online_error_without_stabilization\")"
   ]
  },
  {
   "cell_type": "markdown",
   "metadata": {},
   "source": [
    "### 4.7. Perform an error analysis"
   ]
  },
  {
   "cell_type": "code",
   "execution_count": null,
   "metadata": {},
   "outputs": [],
   "source": [
    "reduction_method.initialize_testing_set(100)\n",
    "reduction_method.error_analysis(online_stabilization=True, filename=\"error_analysis_with_stabilization\")\n",
    "reduction_method.error_analysis(online_stabilization=False, filename=\"error_analysis_without_stabilization\")"
   ]
  },
  {
   "cell_type": "markdown",
   "metadata": {},
   "source": [
    "### 4.8. Perform a speedup analysis"
   ]
  },
  {
   "cell_type": "code",
   "execution_count": null,
   "metadata": {},
   "outputs": [],
   "source": [
    "reduction_method.speedup_analysis(online_stabilization=True, filename=\"speedup_analysis_with_stabilization\")\n",
    "reduction_method.speedup_analysis(online_stabilization=False, filename=\"speedup_analysis_without_stabilization\")"
   ]
  }
 ],
 "metadata": {
  "kernelspec": {
   "display_name": "Python 3 (ipykernel)",
   "language": "python",
   "name": "python3"
  },
  "language_info": {
   "codemirror_mode": {
    "name": "ipython",
    "version": 3
   },
   "file_extension": ".py",
   "mimetype": "text/x-python",
   "name": "python",
   "nbconvert_exporter": "python",
   "pygments_lexer": "ipython3",
   "version": "3.10.4"
  }
 },
 "nbformat": 4,
 "nbformat_minor": 4
}
