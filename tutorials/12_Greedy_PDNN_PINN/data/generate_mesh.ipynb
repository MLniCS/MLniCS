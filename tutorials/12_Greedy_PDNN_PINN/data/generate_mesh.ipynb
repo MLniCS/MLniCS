{
 "cells": [
  {
   "cell_type": "code",
   "execution_count": 1,
   "metadata": {},
   "outputs": [
    {
     "ename": "ImportError",
     "evalue": "dlopen(/Users/maxhirsch/opt/anaconda3/envs/MLniCS/lib/python3.10/site-packages/mshr/cpp.cpython-310-darwin.so, 2): Symbol not found: __ZN6dolfin3MPI11is_receiverEi\n  Referenced from: /Users/maxhirsch/opt/anaconda3/envs/MLniCS/lib/libmshr.2019.1.dylib\n  Expected in: /Users/maxhirsch/opt/anaconda3/envs/MLniCS/lib/python3.10/site-packages/dolfin/../../../libdolfin.2019.1.dylib\n in /Users/maxhirsch/opt/anaconda3/envs/MLniCS/lib/libmshr.2019.1.dylib",
     "output_type": "error",
     "traceback": [
      "\u001b[0;31m---------------------------------------------------------------------------\u001b[0m",
      "\u001b[0;31mImportError\u001b[0m                               Traceback (most recent call last)",
      "Input \u001b[0;32mIn [1]\u001b[0m, in \u001b[0;36m<cell line: 2>\u001b[0;34m()\u001b[0m\n\u001b[1;32m      1\u001b[0m \u001b[38;5;28;01mfrom\u001b[39;00m \u001b[38;5;21;01mdolfin\u001b[39;00m \u001b[38;5;28;01mimport\u001b[39;00m \u001b[38;5;241m*\u001b[39m\n\u001b[0;32m----> 2\u001b[0m \u001b[38;5;28;01mfrom\u001b[39;00m \u001b[38;5;21;01mmshr\u001b[39;00m \u001b[38;5;28;01mimport\u001b[39;00m \u001b[38;5;241m*\u001b[39m\n\u001b[1;32m      3\u001b[0m \u001b[38;5;28;01mfrom\u001b[39;00m \u001b[38;5;21;01mrbnics\u001b[39;00m\u001b[38;5;21;01m.\u001b[39;00m\u001b[38;5;21;01mbackends\u001b[39;00m\u001b[38;5;21;01m.\u001b[39;00m\u001b[38;5;21;01mdolfin\u001b[39;00m\u001b[38;5;21;01m.\u001b[39;00m\u001b[38;5;21;01mwrapping\u001b[39;00m \u001b[38;5;28;01mimport\u001b[39;00m counterclockwise\n\u001b[1;32m      4\u001b[0m \u001b[38;5;28;01mfrom\u001b[39;00m \u001b[38;5;21;01mrbnics\u001b[39;00m\u001b[38;5;21;01m.\u001b[39;00m\u001b[38;5;21;01mshape_parametrization\u001b[39;00m\u001b[38;5;21;01m.\u001b[39;00m\u001b[38;5;21;01mutils\u001b[39;00m\u001b[38;5;21;01m.\u001b[39;00m\u001b[38;5;21;01msymbolic\u001b[39;00m \u001b[38;5;28;01mimport\u001b[39;00m VerticesMappingIO\n",
      "File \u001b[0;32m~/opt/anaconda3/envs/MLniCS/lib/python3.10/site-packages/mshr/__init__.py:24\u001b[0m, in \u001b[0;36m<module>\u001b[0;34m\u001b[0m\n\u001b[1;32m      4\u001b[0m \u001b[38;5;66;03m# Copyright (C) 2017 Benjamin Kehlet\u001b[39;00m\n\u001b[1;32m      5\u001b[0m \n\u001b[1;32m      6\u001b[0m \u001b[38;5;66;03m# This file is part of mshr.\u001b[39;00m\n\u001b[0;32m   (...)\u001b[0m\n\u001b[1;32m     19\u001b[0m \u001b[38;5;66;03m# along with mshr.  If not, see <http:#www.gnu.org/licenses/>.\u001b[39;00m\n\u001b[1;32m     20\u001b[0m \u001b[38;5;66;03m#\u001b[39;00m\n\u001b[1;32m     22\u001b[0m \u001b[38;5;28;01mimport\u001b[39;00m \u001b[38;5;21;01mdolfin\u001b[39;00m\n\u001b[0;32m---> 24\u001b[0m \u001b[38;5;28;01mfrom\u001b[39;00m \u001b[38;5;21;01m.\u001b[39;00m\u001b[38;5;21;01mcpp\u001b[39;00m \u001b[38;5;28;01mimport\u001b[39;00m Circle\n\u001b[1;32m     25\u001b[0m \u001b[38;5;28;01mfrom\u001b[39;00m \u001b[38;5;21;01m.\u001b[39;00m\u001b[38;5;21;01mcpp\u001b[39;00m \u001b[38;5;28;01mimport\u001b[39;00m Ellipse\n\u001b[1;32m     26\u001b[0m \u001b[38;5;28;01mfrom\u001b[39;00m \u001b[38;5;21;01m.\u001b[39;00m\u001b[38;5;21;01mcpp\u001b[39;00m \u001b[38;5;28;01mimport\u001b[39;00m Rectangle\n",
      "\u001b[0;31mImportError\u001b[0m: dlopen(/Users/maxhirsch/opt/anaconda3/envs/MLniCS/lib/python3.10/site-packages/mshr/cpp.cpython-310-darwin.so, 2): Symbol not found: __ZN6dolfin3MPI11is_receiverEi\n  Referenced from: /Users/maxhirsch/opt/anaconda3/envs/MLniCS/lib/libmshr.2019.1.dylib\n  Expected in: /Users/maxhirsch/opt/anaconda3/envs/MLniCS/lib/python3.10/site-packages/dolfin/../../../libdolfin.2019.1.dylib\n in /Users/maxhirsch/opt/anaconda3/envs/MLniCS/lib/libmshr.2019.1.dylib"
     ]
    }
   ],
   "source": [
    "from dolfin import *\n",
    "from mshr import *\n",
    "from rbnics.backends.dolfin.wrapping import counterclockwise\n",
    "from rbnics.shape_parametrization.utils.symbolic import VerticesMappingIO"
   ]
  },
  {
   "cell_type": "code",
   "execution_count": null,
   "metadata": {},
   "outputs": [],
   "source": [
    "# Geometrical parameters\n",
    "t = 1.  # mu[0]\n",
    "D = 1.  # mu[1]\n",
    "L = 1.  # mu[2]\n",
    "S = 1.  # mu[3]\n",
    "H = 1.  # mu[4]\n",
    "theta = pi  # mu[5]"
   ]
  },
  {
   "cell_type": "code",
   "execution_count": null,
   "metadata": {},
   "outputs": [],
   "source": [
    "# Define domain\n",
    "rectangle_1 = Rectangle(Point(D, L), Point(D + H, L + t))\n",
    "rectangle_2 = Rectangle(Point(0., L + t), Point(D, L + t + S))\n",
    "rectangle_3 = Rectangle(Point(0., L), Point(D, L + t))\n",
    "rectangle_4 = Rectangle(Point(0., 0.), Point(D, L))\n",
    "domain = rectangle_1 + rectangle_2 + rectangle_3 + rectangle_4"
   ]
  },
  {
   "cell_type": "code",
   "execution_count": null,
   "metadata": {},
   "outputs": [],
   "source": [
    "# Define vertices mappings of affine shape parametrization. These will be used\n",
    "# to partition the mesh in subdomains.\n",
    "vertices_mappings = [\n",
    "    {\n",
    "        (\"1.0\", \"2.0\"): (\"mu[1]\", \"mu[2] + mu[0]\"),\n",
    "        (\"1.0\", \"1.0\"): (\"mu[1]\", \"mu[2]\"),\n",
    "        (\"2.0\", \"1.0\"): (\"mu[1] + mu[4]\", \"mu[2] + (mu[4] * tan(mu[5]))\")\n",
    "    },  # subdomain 1\n",
    "    {\n",
    "        (\"2.0\", \"1.0\"): (\"mu[1] + mu[4]\", \"mu[2] + (mu[4] * tan(mu[5]))\"),\n",
    "        (\"2.0\", \"2.0\"): (\"mu[1] + mu[4]\", \"mu[2] + (mu[4] * tan(mu[5])) + mu[0]\"),\n",
    "        (\"1.0\", \"2.0\"): (\"mu[1]\", \"mu[2] + mu[0]\")\n",
    "    },  # subdomain 2\n",
    "    {\n",
    "        (\"0.0\", \"3.0\"): (\"0.0\", \"mu[2] + mu[3] + mu[0]\"),\n",
    "        (\"0.0\", \"2.0\"): (\"0.0\", \"mu[2] + mu[0]\"),\n",
    "        (\"1.0\", \"2.0\"): (\"mu[1]\", \"mu[2] + mu[0]\")\n",
    "    },  # subdomain 3\n",
    "    {\n",
    "        (\"1.0\", \"2.0\"): (\"mu[1]\", \"mu[2] + mu[0]\"),\n",
    "        (\"1.0\", \"3.0\"): (\"mu[1]\", \"mu[2] + mu[3] + mu[0]\"),\n",
    "        (\"0.0\", \"3.0\"): (\"0.0\", \"mu[2] + mu[3] + mu[0]\")\n",
    "    },  # subdomain 4\n",
    "    {\n",
    "        (\"0.0\", \"2.0\"): (\"0.0\", \"mu[2] + mu[0]\"),\n",
    "        (\"0.0\", \"1.0\"): (\"0.0\", \"mu[2]\"),\n",
    "        (\"1.0\", \"1.0\"): (\"mu[1]\", \"mu[2]\")\n",
    "    },  # subdomain 5\n",
    "    {\n",
    "        (\"1.0\", \"1.0\"): (\"mu[1]\", \"mu[2]\"),\n",
    "        (\"1.0\", \"2.0\"): (\"mu[1]\", \"mu[2] + mu[0]\"),\n",
    "        (\"0.0\", \"2.0\"): (\"0.0\", \"mu[2] + mu[0]\")\n",
    "    },  # subdomain 6\n",
    "    {\n",
    "        (\"0.0\", \"1.0\"): (\"0.0\", \"mu[2]\"),\n",
    "        (\"0.0\", \"0.0\"): (\"0.0\", \"0.0\"),\n",
    "        (\"1.0\", \"0.0\"): (\"mu[1]\", \"0.0\")\n",
    "    },  # subdomain 7\n",
    "    {\n",
    "        (\"1.0\", \"0.0\"): (\"mu[1]\", \"0.0\"),\n",
    "        (\"1.0\", \"1.0\"): (\"mu[1]\", \"mu[2]\"),\n",
    "        (\"0.0\", \"1.0\"): (\"0.0\", \"mu[2]\")\n",
    "    }  # subdomain 8\n",
    "]"
   ]
  },
  {
   "cell_type": "code",
   "execution_count": null,
   "metadata": {},
   "outputs": [],
   "source": [
    "# Create mesh\n",
    "for i, vertices_mapping in enumerate(vertices_mappings):\n",
    "    subdomain_i = Polygon([Point(*[float(coord)\n",
    "                           for coord in vertex]) for vertex in counterclockwise(vertices_mapping.keys())])\n",
    "    domain.set_subdomain(i + 1, subdomain_i)\n",
    "mesh = generate_mesh(domain, 50)"
   ]
  },
  {
   "cell_type": "code",
   "execution_count": null,
   "metadata": {},
   "outputs": [],
   "source": [
    "# Create subdomains\n",
    "subdomains = MeshFunction(\"size_t\", mesh, 2, mesh.domains())"
   ]
  },
  {
   "cell_type": "code",
   "execution_count": null,
   "metadata": {},
   "outputs": [],
   "source": [
    "# Create boundaries\n",
    "class Inlet(SubDomain):\n",
    "    def inside(self, x, on_boundary):\n",
    "        return on_boundary and abs(x[0] - D - H) < DOLFIN_EPS\n",
    "\n",
    "\n",
    "class Outlet(SubDomain):\n",
    "    def inside(self, x, on_boundary):\n",
    "        return on_boundary and abs(x[1]) < DOLFIN_EPS\n",
    "\n",
    "\n",
    "class Walls(SubDomain):\n",
    "    def inside(self, x, on_boundary):\n",
    "        return on_boundary and (\n",
    "            abs(x[0]) < DOLFIN_EPS\n",
    "            or abs(x[1] - D - t - S) < DOLFIN_EPS\n",
    "            or ((x[1] <= L or x[1] >= L + t) and abs(x[0] - D) < DOLFIN_EPS)\n",
    "            or (x[0] >= D and (abs(x[1] - L) < DOLFIN_EPS or abs(x[1] - L - t) < DOLFIN_EPS))\n",
    "        )\n",
    "\n",
    "\n",
    "boundaries = MeshFunction(\"size_t\", mesh, mesh.topology().dim() - 1)\n",
    "boundaries.set_all(0)\n",
    "inlet = Inlet()\n",
    "inlet_ID = 1\n",
    "inlet.mark(boundaries, inlet_ID)\n",
    "outlet = Outlet()\n",
    "outlet_ID = 2\n",
    "outlet.mark(boundaries, outlet_ID)\n",
    "walls = Walls()\n",
    "walls_ID = 3\n",
    "walls.mark(boundaries, walls_ID)"
   ]
  },
  {
   "cell_type": "code",
   "execution_count": null,
   "metadata": {},
   "outputs": [],
   "source": [
    "# Save to xml file\n",
    "VerticesMappingIO.save_file(vertices_mappings, \".\", \"t_bypass_vertices_mapping.vmp\")\n",
    "File(\"t_bypass.xml\") << mesh\n",
    "File(\"t_bypass_physical_region.xml\") << subdomains\n",
    "File(\"t_bypass_facet_region.xml\") << boundaries\n",
    "XDMFFile(\"t_bypass.xdmf\").write(mesh)\n",
    "XDMFFile(\"t_bypass_physical_region.xdmf\").write(subdomains)\n",
    "XDMFFile(\"t_bypass_facet_region.xdmf\").write(boundaries)"
   ]
  }
 ],
 "metadata": {
  "kernelspec": {
   "display_name": "Python 3 (ipykernel)",
   "language": "python",
   "name": "python3"
  },
  "language_info": {
   "codemirror_mode": {
    "name": "ipython",
    "version": 3
   },
   "file_extension": ".py",
   "mimetype": "text/x-python",
   "name": "python",
   "nbconvert_exporter": "python",
   "pygments_lexer": "ipython3",
   "version": "3.10.4"
  }
 },
 "nbformat": 4,
 "nbformat_minor": 2
}
