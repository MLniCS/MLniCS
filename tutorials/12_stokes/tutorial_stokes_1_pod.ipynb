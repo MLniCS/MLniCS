{
 "cells": [
  {
   "cell_type": "markdown",
   "metadata": {},
   "source": [
    "## TUTORIAL 12 - Stokes Equations\n",
    "**_Keywords: geometrical parametrization, POD-Galerkin method, mixed formulation, inf sup condition_**\n",
    "\n",
    "### 1. Introduction\n",
    "\n",
    "This tutorial addresses geometrical parametrization and the POD-Galerkin method applied to the steady Stokes equations in a domain $\\Omega_o \\subset \\mathbb{R}^2$ divided into 4 parts with boundary $\\Gamma_o$ shown below:\n",
    "\n",
    "<img src=\"data/t_bypass.png\" width=\"50%\"/>\n",
    "\n",
    "The problem is characterized by six parameters. We introduce a vector of parameters $\\boldsymbol{\\mu} = \\{t,D,L,S,H,\\theta \\}$ that control the shape of the subdomains. The ranges of the six parameters are the following:\n",
    "\n",
    "The parameter vector $\\boldsymbol{\\mu}$ is thus given by $$\\boldsymbol{\\mu}=(\\mu_0,\\mu_1,\\mu_2,\\mu_3,\\mu_4,\\mu_5)$$ which corresponds to $\\boldsymbol{\\mu} = \\{t,D,L,S,H,\\theta \\}$, respectively, on the parameter domain $$\\mathbb{P}=[0.5,1.5]\\times[0.5,1.5]\\times[0.5,1.5]\\times[0.5,1.5]\\times[0.5,1.5]\\times[0,\\pi/6]$$\n",
    "\n",
    "In this program, we apply the following conditions on the boundaries: \n",
    "* Zero velocity on the left boundary $\\Gamma_{o,w}$ \n",
    "* Constant inflow on the right boundary $\\Gamma_{o,in}$\n",
    "* Stress free Neumann condition on the bottom boundary $\\Gamma_{o,out}$\n",
    "\n",
    "In order to obtain a faster approximation of the problem we pursue a model reduction by means of a POD-Galerkin reduced order method from a fixed reference domain.\n",
    "\n"
   ]
  },
  {
   "cell_type": "markdown",
   "metadata": {},
   "source": [
    "### 2. Parametrized formulation\n",
    "\n",
    "Let $\\boldsymbol{u_o}(\\boldsymbol{\\mu})$ be the velocity vector and $p_o(\\boldsymbol{\\mu})$ be the pressure in the domain $\\Omega_o(\\boldsymbol{\\mu})$.\n",
    "\n",
    "We will directly provide a weak formulation for this problem:\n",
    "for a given parameter $\\boldsymbol{\\mu} \\in\\mathbb{P}$, find $\\boldsymbol{u_o}(\\boldsymbol{\\mu}) \\in\\mathbb{V_o}(\\boldsymbol{\\mu})$, $p_o \\in\\mathbb{M_o}$ such that \n",
    "\n",
    "<center>\n",
    "    $\n",
    "    \\begin{cases}\n",
    "        \\nu \\int_{\\Omega_o} \\nabla \\boldsymbol{u_o} : \\nabla \\boldsymbol{v_o} \\ d\\Omega - \\int_{\\Omega_o} p_o \\nabla \\cdot \\boldsymbol{v_o} \\ d\\Omega = \\int_{\\Omega_o} \\boldsymbol{f_o} \\cdot \\boldsymbol{v_o} \\ d\\Omega, \\quad \\forall \\boldsymbol{v_o} \\in\\mathbb{V_o},  \\\\\n",
    "        \\int_{\\Omega_o} q_o \\nabla \\cdot \\boldsymbol{u_o} \\ d\\Omega = 0, \\quad \\forall q_o \\in\\mathbb{M_o}\n",
    "    \\end{cases}\n",
    "    $\n",
    "</center>\n",
    "\n",
    "where\n",
    "\n",
    "* $\\nu$ represents kinematic viscosity\n",
    "* the functional space $\\mathbb{V_o}(\\boldsymbol{\\mu})$ is defined as $$\\mathbb{V_o}(\\boldsymbol{\\mu}) = [H_{\\Gamma_{o,w}}^{1}(\\Omega_o)]^2$$\n",
    "* the functional space $\\mathbb{M_o}(\\boldsymbol{\\mu})$ is defined as $$\\mathbb{M_o}(\\boldsymbol{\\mu}) = L^2(\\Omega_o)$$ Note that the functional spaces are parameter dependent due to the shape variation\n",
    "\n",
    "Since this problem utilizes mixed finite element discretization with the velocity and pressure as solution variables, the inf-sup condition is necessary for the well posedness of this problem. Thus, the supremizer operator $T^{\\mu}: \\mathbb{M_o}_h \\rightarrow \\mathbb{V_o}_h$ will be used.\n"
   ]
  },
  {
   "cell_type": "code",
   "execution_count": 1,
   "metadata": {},
   "outputs": [],
   "source": [
    "from dolfin import *\n",
    "from rbnics import *\n",
    "from sampling import LinearlyDependentUniformDistribution\n",
    "\n",
    "import sys\n",
    "sys.path.append(\"../../MLniCS/\")\n",
    "\n",
    "\n",
    "from mlnics import NN, Losses, Normalization\n",
    "import torch\n",
    "import numpy as np\n",
    "\n",
    "torch.manual_seed(0)\n",
    "np.random.seed(0)"
   ]
  },
  {
   "cell_type": "markdown",
   "metadata": {},
   "source": [
    "## 3. Affine decomposition\n",
    "\n",
    "In order to obtain an affine decomposition, we recast the problem on a fixed, parameter independent, reference domain $\\Omega$. We choose one characterized by $\\mu_0=\\mu_1=\\mu_2=\\mu_3=\\mu_4=1$ and $\\mu_5=0$, which we generate through the generate_mesh notebook provided in the *data* folder. \n",
    "\n"
   ]
  },
  {
   "cell_type": "code",
   "execution_count": 2,
   "metadata": {},
   "outputs": [],
   "source": [
    "@PullBackFormsToReferenceDomain()\n",
    "@AffineShapeParametrization(\"data/t_bypass_vertices_mapping.vmp\")\n",
    "class Stokes(StokesProblem):\n",
    "\n",
    "    # Default initialization of members\n",
    "    def __init__(self, V, **kwargs):\n",
    "        # Call the standard initialization\n",
    "        StokesProblem.__init__(self, V, **kwargs)\n",
    "        # ... and also store FEniCS data structures for assembly\n",
    "        assert \"subdomains\" in kwargs\n",
    "        assert \"boundaries\" in kwargs\n",
    "        self.subdomains, self.boundaries = kwargs[\"subdomains\"], kwargs[\"boundaries\"]\n",
    "        up = TrialFunction(V)\n",
    "        (self.u, self.p) = split(up)\n",
    "        vq = TestFunction(V)\n",
    "        (self.v, self.q) = split(vq)\n",
    "        self.dx = Measure(\"dx\")(subdomain_data=self.subdomains)\n",
    "        self.ds = Measure(\"ds\")(subdomain_data=self.boundaries)\n",
    "        #\n",
    "        self.f = Constant((0.0, -10.0))\n",
    "        self.g = Constant(0.0)\n",
    "\n",
    "    # Return custom problem name\n",
    "    def name(self):\n",
    "        return \"Stokes1POD\"\n",
    "\n",
    "    # Return theta multiplicative terms of the affine expansion of the problem.\n",
    "    @compute_theta_for_supremizers\n",
    "    def compute_theta(self, term):\n",
    "        if term == \"a\":\n",
    "            theta_a0 = 1.0\n",
    "            return (theta_a0, )\n",
    "        elif term in (\"b\", \"bt\"):\n",
    "            theta_b0 = 1.0\n",
    "            return (theta_b0, )\n",
    "        elif term == \"f\":\n",
    "            theta_f0 = 1.0\n",
    "            return (theta_f0, )\n",
    "        elif term == \"g\":\n",
    "            theta_g0 = 1.0\n",
    "            return (theta_g0, )\n",
    "        else:\n",
    "            raise ValueError(\"Invalid term for compute_theta().\")\n",
    "\n",
    "    # Return forms resulting from the discretization of the affine expansion of the problem operators.\n",
    "    @assemble_operator_for_supremizers\n",
    "    def assemble_operator(self, term):\n",
    "        dx = self.dx\n",
    "        if term == \"a\":\n",
    "            u = self.u\n",
    "            v = self.v\n",
    "            a0 = inner(grad(u), grad(v)) * dx\n",
    "            return (a0, )\n",
    "        elif term == \"b\":\n",
    "            u = self.u\n",
    "            q = self.q\n",
    "            b0 = - q * div(u) * dx\n",
    "            return (b0, )\n",
    "        elif term == \"bt\":\n",
    "            p = self.p\n",
    "            v = self.v\n",
    "            bt0 = - p * div(v) * dx\n",
    "            return (bt0, )\n",
    "        elif term == \"f\":\n",
    "            v = self.v\n",
    "            f0 = inner(self.f, v) * dx\n",
    "            return (f0, )\n",
    "        elif term == \"g\":\n",
    "            q = self.q\n",
    "            g0 = self.g * q * dx\n",
    "            return (g0, )\n",
    "        elif term == \"dirichlet_bc_u\":\n",
    "            bc0 = [DirichletBC(self.V.sub(0), Constant((0.0, 0.0)), self.boundaries, 3)]\n",
    "            return (bc0, )\n",
    "        elif term == \"inner_product_u\":\n",
    "            u = self.u\n",
    "            v = self.v\n",
    "            x0 = inner(grad(u), grad(v)) * dx\n",
    "            return (x0, )\n",
    "        elif term == \"inner_product_p\":\n",
    "            p = self.p\n",
    "            q = self.q\n",
    "            x0 = inner(p, q) * dx\n",
    "            return (x0, )\n",
    "        else:\n",
    "            raise ValueError(\"Invalid term for assemble_operator().\")"
   ]
  },
  {
   "cell_type": "markdown",
   "metadata": {},
   "source": [
    "## 4. Main program\n",
    "### 4.1. Read the mesh for this problem\n",
    "The mesh was generated by the [data/generate_mesh.ipynb](data/generate_mesh.ipynb) notebook."
   ]
  },
  {
   "cell_type": "code",
   "execution_count": 3,
   "metadata": {},
   "outputs": [],
   "source": [
    "mesh = Mesh(\"data/t_bypass.xml\")\n",
    "subdomains = MeshFunction(\"size_t\", mesh, \"data/t_bypass_physical_region.xml\")\n",
    "boundaries = MeshFunction(\"size_t\", mesh, \"data/t_bypass_facet_region.xml\")"
   ]
  },
  {
   "cell_type": "markdown",
   "metadata": {},
   "source": [
    "### 4.2. Create Finite Element space (Taylor-Hood P2-P1)"
   ]
  },
  {
   "cell_type": "code",
   "execution_count": 4,
   "metadata": {},
   "outputs": [],
   "source": [
    "element_u = VectorElement(\"Lagrange\", mesh.ufl_cell(), 2)\n",
    "element_p = FiniteElement(\"Lagrange\", mesh.ufl_cell(), 1)\n",
    "element = MixedElement(element_u, element_p)\n",
    "V = FunctionSpace(mesh, element, components=[[\"u\", \"s\"], \"p\"])"
   ]
  },
  {
   "cell_type": "markdown",
   "metadata": {},
   "source": [
    "### 4.3. Allocate an object of the Stokes class"
   ]
  },
  {
   "cell_type": "code",
   "execution_count": 5,
   "metadata": {},
   "outputs": [],
   "source": [
    "problem = Stokes(V, subdomains=subdomains, boundaries=boundaries)\n",
    "mu_range = [\n",
    "    (0.5, 1.5),\n",
    "    (0.5, 1.5),\n",
    "    (0.5, 1.5),\n",
    "    (0.5, 1.5),\n",
    "    (0.5, 1.5),\n",
    "    (0., pi / 6.)\n",
    "]\n",
    "problem.set_mu_range(mu_range)"
   ]
  },
  {
   "cell_type": "markdown",
   "metadata": {},
   "source": [
    "### 4.4. Prepare reduction with a POD-Galerkin method"
   ]
  },
  {
   "cell_type": "code",
   "execution_count": 6,
   "metadata": {},
   "outputs": [],
   "source": [
    "reduction_method = PODGalerkin(problem)\n",
    "reduction_method.set_Nmax(25)\n",
    "reduction_method.set_tolerance(1e-6)"
   ]
  },
  {
   "cell_type": "markdown",
   "metadata": {},
   "source": [
    "### 4.5. Perform the offline phase"
   ]
  },
  {
   "cell_type": "code",
   "execution_count": 7,
   "metadata": {
    "scrolled": true
   },
   "outputs": [],
   "source": [
    "reduction_method.initialize_training_set(10, sampling=LinearlyDependentUniformDistribution())\n",
    "reduced_problem = reduction_method.offline()"
   ]
  },
  {
   "cell_type": "code",
   "execution_count": 8,
   "metadata": {},
   "outputs": [],
   "source": [
    "net = NN.RONN(problem, reduction_method)\n",
    "\n",
    "reduction_method.initialize_testing_set(10)\n",
    "test_mu, val_mu = NN.get_test_validation(net, validation_proportion=0.2)"
   ]
  },
  {
   "cell_type": "code",
   "execution_count": 9,
   "metadata": {},
   "outputs": [],
   "source": [
    "input_normalization = Normalization.IdentityNormalization()\n",
    "output_normalization = Normalization.IdentityNormalization()"
   ]
  },
  {
   "cell_type": "code",
   "execution_count": 10,
   "metadata": {},
   "outputs": [],
   "source": [
    "pdnn_loss = Losses.PDNN_Loss(net, output_normalization)\n",
    "pinn_loss = Losses.PINN_Loss(net)\n",
    "prnn_loss = Losses.PRNN_Loss(net, output_normalization, omega=1.)"
   ]
  },
  {
   "cell_type": "code",
   "execution_count": 13,
   "metadata": {
    "scrolled": true
   },
   "outputs": [
    {
     "name": "stdout",
     "output_type": "stream",
     "text": [
      "0 0.4051827585963551\n",
      "100 0.2667107734793351\n",
      "200 0.17952973086377547\n",
      "300 0.12996146899854502\n",
      "400 0.0949724944519169\n",
      "500 0.06798304889138904\n",
      "600 0.04881241346352569\n",
      "700 0.03626873863631652\n",
      "800 0.02555769973963542\n",
      "900 0.019135333234444527\n",
      "1000 0.01515773981111265\n",
      "1100 0.012352563191192028\n",
      "1200 0.010337225611639264\n",
      "1300 0.009390564170944849\n",
      "1400 0.00770543510251153\n",
      "1500 0.0068466547552598666\n",
      "1600 0.0061708772367765384\n",
      "1700 0.005496863987671491\n",
      "1800 0.004971890350234114\n",
      "1900 0.0045048765814875436\n",
      "2000 0.0045045055529862035\n",
      "2100 0.004057834966951863\n",
      "2200 0.0036612206453879477\n",
      "2300 0.011993056210375214\n",
      "2400 0.003127955021090748\n",
      "2500 0.0029392338615943977\n",
      "2600 0.0028588106899216066\n",
      "2700 0.0025967425024413355\n",
      "2800 0.002404986545332513\n",
      "2900 0.0023608448738858066\n",
      "3000 0.002220206468337204\n",
      "3100 0.009058760611719226\n",
      "3200 0.015517911098778377\n",
      "3300 0.002400242000359577\n",
      "3400 0.007964790670265072\n",
      "3500 0.0019468062165643122\n",
      "3600 0.001667812212964292\n",
      "3700 0.0016232524361043936\n",
      "3800 0.0016907478890305868\n",
      "3900 0.00153545606775301\n",
      "4000 0.0014948773376128543\n",
      "4100 0.006954666994824895\n",
      "4200 0.0013308607775745205\n",
      "4300 0.001817325893393337\n",
      "4400 0.0015790369603382141\n",
      "4500 0.007535324814402438\n",
      "4600 0.002903575151959429\n",
      "4700 0.001743053296568268\n",
      "4800 0.002363722622565801\n",
      "4900 0.0014712177251372926\n",
      "5000 0.003094522030437234\n",
      "5100 0.0037216819446775668\n",
      "5200 0.001177112086975312\n",
      "5300 0.0009738949234642163\n",
      "5400 0.001018190898572354\n",
      "5500 0.008889200485345005\n",
      "5600 0.007888199882441063\n",
      "5700 0.0026193966581349623\n",
      "5800 0.002408952869895555\n",
      "5900 0.0032592960121869087\n",
      "6000 0.001916362089098835\n",
      "6100 0.009064510442724133\n",
      "6200 0.0011362747627949575\n",
      "6300 0.0009142968345695376\n",
      "6400 0.0009529969881184641\n",
      "6500 0.002650036456709911\n",
      "6600 0.0021397211475697214\n",
      "6700 0.002170852182930832\n",
      "6800 0.0007460892900689774\n",
      "6900 0.0007878122454555569\n",
      "7000 0.0016093526962825187\n",
      "7100 0.0008168105445661844\n",
      "7200 0.0012536557299462987\n",
      "7300 0.0008584049546890148\n",
      "7400 0.0008316822447767644\n",
      "7500 0.0006442952370327122\n",
      "7600 0.0014257589004512557\n",
      "7700 0.0006091561432976189\n",
      "7800 0.0006378547500460402\n",
      "7900 0.0005941155776014106\n",
      "8000 0.0005908436836153804\n",
      "8100 0.005967849193454372\n",
      "8200 0.0005617702337084322\n",
      "8300 0.0005925945439148907\n",
      "8400 0.0006087359977908387\n",
      "8500 0.000591673734565137\n",
      "8600 0.0014976878272277168\n",
      "8700 0.0256924070903163\n",
      "8800 0.0005189051012262406\n",
      "8900 0.008034098292366338\n",
      "9000 0.0027705505752138922\n",
      "9100 0.0008297673817319684\n",
      "9200 0.0006303547967093726\n",
      "9300 0.0005533359636129814\n",
      "9400 0.0005078892341287083\n",
      "9500 0.011243049551840287\n",
      "9600 0.0005783200243766802\n",
      "9700 0.0005501170898210251\n",
      "9800 0.0013972518219446382\n",
      "9900 0.017661700979124548\n"
     ]
    }
   ],
   "source": [
    "NN.normalize_and_train(net, pinn_loss, input_normalization, \n",
    "                       lr=0.001, epochs=10000, validation_set=None)"
   ]
  },
  {
   "cell_type": "markdown",
   "metadata": {},
   "source": [
    "### 4.6. Perform an online solve"
   ]
  },
  {
   "cell_type": "code",
   "execution_count": 20,
   "metadata": {},
   "outputs": [
    {
     "name": "stdout",
     "output_type": "stream",
     "text": [
      "[-2.97723307e+00 -1.73819003e-01  5.27737096e-01  8.08572131e-02\n",
      "  7.29858893e-02 -1.88452396e-01 -8.63193570e-03 -3.95754073e-02\n",
      " -8.27587017e-02 -2.11561447e-04 -1.47135969e-02 -3.13052826e-02\n",
      " -1.82649861e-02 -2.65170519e-02 -3.39918544e-03 -1.44730999e-02\n",
      " -1.42789287e-03 -2.43733596e-02 -3.26220096e-03  4.16975897e-03\n",
      " -1.90908004e+01 -1.68026714e+00 -5.49866429e-01 -3.47225652e-01\n",
      " -2.54197533e-01  1.05111156e-01 -7.78783565e-02  3.00719113e-02]\n"
     ]
    }
   ],
   "source": [
    "online_mu = (1.0, 1.0, 1.0, 1.0, 1.0, pi / 6.)\n",
    "reduced_problem.set_mu(online_mu)\n",
    "reduced_solution = reduced_problem.solve()\n",
    "print(reduced_solution)"
   ]
  },
  {
   "cell_type": "code",
   "execution_count": 21,
   "metadata": {},
   "outputs": [
    {
     "name": "stdout",
     "output_type": "stream",
     "text": [
      "[-1.57234609e+00  2.48595521e-01  5.47154427e-01  1.56634539e-01\n",
      " -7.96654880e-01 -2.31765866e-01 -2.08132058e-01 -1.93489566e-01\n",
      " -2.50324637e-01 -1.04816310e-01 -3.37909609e-02 -1.92666829e-01\n",
      "  1.76680148e-01 -1.51778722e+00  3.25706482e-01 -4.11917567e-01\n",
      " -4.49205339e-01 -6.38500154e-02 -1.46165453e-02  6.60463572e-02\n",
      " -1.89159908e+01 -1.80169630e+00 -5.89998364e-01 -4.72957611e-01\n",
      "  3.24774772e-01 -1.17775691e+00 -2.23173112e-01  1.14376724e-01]\n"
     ]
    },
    {
     "data": {
      "text/plain": [
       "RONN(\n",
       "  (layers): ModuleList(\n",
       "    (0): Linear(in_features=6, out_features=100, bias=True)\n",
       "    (1): Linear(in_features=100, out_features=100, bias=True)\n",
       "    (2): Linear(in_features=100, out_features=28, bias=True)\n",
       "  )\n",
       ")"
      ]
     },
     "execution_count": 21,
     "metadata": {},
     "output_type": "execute_result"
    }
   ],
   "source": [
    "net.eval()\n",
    "\n",
    "with torch.no_grad():\n",
    "    online_mu_nn = torch.tensor(online_mu)\n",
    "    # NOTE: Change output_normalization accordingly for the different losses\n",
    "    reduced_solution_nn = net.solve(online_mu_nn, input_normalization, output_normalization=None)\n",
    "    print(reduced_solution_nn)\n",
    "net.train()"
   ]
  },
  {
   "cell_type": "code",
   "execution_count": 22,
   "metadata": {},
   "outputs": [
    {
     "data": {
      "text/plain": [
       "<matplotlib.quiver.Quiver at 0x14b1f5c30>"
      ]
     },
     "execution_count": 22,
     "metadata": {},
     "output_type": "execute_result"
    },
    {
     "data": {
      "image/png": "[encoded data removed]",
      "text/plain": [
       "<Figure size 432x288 with 1 Axes>"
      ]
     },
     "metadata": {
      "needs_background": "light"
     },
     "output_type": "display_data"
    }
   ],
   "source": [
    "plot(reduced_solution, reduced_problem=reduced_problem, component=\"u\")"
   ]
  },
  {
   "cell_type": "code",
   "execution_count": 23,
   "metadata": {},
   "outputs": [
    {
     "data": {
      "text/plain": [
       "<matplotlib.quiver.Quiver at 0x14b626c50>"
      ]
     },
     "execution_count": 23,
     "metadata": {},
     "output_type": "execute_result"
    },
    {
     "data": {
      "image/png": "[encoded data removed]",
      "text/plain": [
       "<Figure size 432x288 with 1 Axes>"
      ]
     },
     "metadata": {
      "needs_background": "light"
     },
     "output_type": "display_data"
    }
   ],
   "source": [
    "plot(reduced_solution_nn, reduced_problem=reduced_problem, component=\"u\")"
   ]
  },
  {
   "cell_type": "code",
   "execution_count": 24,
   "metadata": {},
   "outputs": [
    {
     "data": {
      "text/plain": [
       "<matplotlib.tri.tricontour.TriContourSet at 0x14b91baf0>"
      ]
     },
     "execution_count": 24,
     "metadata": {},
     "output_type": "execute_result"
    },
    {
     "data": {
      "image/png": "[encoded data removed]",
      "text/plain": [
       "<Figure size 432x288 with 1 Axes>"
      ]
     },
     "metadata": {
      "needs_background": "light"
     },
     "output_type": "display_data"
    }
   ],
   "source": [
    "plot(reduced_solution, reduced_problem=reduced_problem, component=\"p\")"
   ]
  },
  {
   "cell_type": "code",
   "execution_count": 25,
   "metadata": {},
   "outputs": [
    {
     "data": {
      "text/plain": [
       "<matplotlib.tri.tricontour.TriContourSet at 0x14b28f850>"
      ]
     },
     "execution_count": 25,
     "metadata": {},
     "output_type": "execute_result"
    },
    {
     "data": {
      "image/png": "[encoded data removed]",
      "text/plain": [
       "<Figure size 432x288 with 1 Axes>"
      ]
     },
     "metadata": {
      "needs_background": "light"
     },
     "output_type": "display_data"
    }
   ],
   "source": [
    "plot(reduced_solution_nn, reduced_problem=reduced_problem, component=\"p\")"
   ]
  },
  {
   "cell_type": "code",
   "execution_count": null,
   "metadata": {},
   "outputs": [],
   "source": [
    "problem.operator['a'][0].array().shape"
   ]
  },
  {
   "cell_type": "code",
   "execution_count": null,
   "metadata": {},
   "outputs": [],
   "source": [
    "V.dim()"
   ]
  },
  {
   "cell_type": "code",
   "execution_count": null,
   "metadata": {},
   "outputs": [],
   "source": [
    "problem.operator['b'][0].array().shape"
   ]
  },
  {
   "cell_type": "code",
   "execution_count": null,
   "metadata": {
    "scrolled": true
   },
   "outputs": [],
   "source": [
    "problem.operator['bt'][0].array().shape"
   ]
  },
  {
   "cell_type": "code",
   "execution_count": null,
   "metadata": {},
   "outputs": [],
   "source": [
    "torch.sum(0., dim=1)"
   ]
  },
  {
   "cell_type": "markdown",
   "metadata": {},
   "source": [
    "### 4.7. Perform an error analysis"
   ]
  },
  {
   "cell_type": "code",
   "execution_count": null,
   "metadata": {},
   "outputs": [],
   "source": [
    "reduction_method.initialize_testing_set(100, sampling=LinearlyDependentUniformDistribution())\n",
    "reduction_method.error_analysis()"
   ]
  },
  {
   "cell_type": "markdown",
   "metadata": {},
   "source": [
    "### 4.8. Perform a speedup analysis"
   ]
  },
  {
   "cell_type": "code",
   "execution_count": null,
   "metadata": {},
   "outputs": [],
   "source": [
    "reduction_method.speedup_analysis()"
   ]
  },
  {
   "cell_type": "code",
   "execution_count": null,
   "metadata": {},
   "outputs": [],
   "source": []
  },
  {
   "cell_type": "code",
   "execution_count": null,
   "metadata": {},
   "outputs": [],
   "source": [
    "x1 = np.array((reduced_problem.basis_functions * reduced_solution).vector())"
   ]
  },
  {
   "cell_type": "code",
   "execution_count": null,
   "metadata": {},
   "outputs": [],
   "source": [
    "x2 = np.array((reduced_problem.basis_functions * reduced_solution_nn).vector())"
   ]
  },
  {
   "cell_type": "code",
   "execution_count": null,
   "metadata": {},
   "outputs": [],
   "source": [
    "np.mean(np.abs(x1 - x2))"
   ]
  },
  {
   "cell_type": "code",
   "execution_count": null,
   "metadata": {},
   "outputs": [],
   "source": []
  }
 ],
 "metadata": {
  "kernelspec": {
   "display_name": "Python 3 (ipykernel)",
   "language": "python",
   "name": "python3"
  },
  "language_info": {
   "codemirror_mode": {
    "name": "ipython",
    "version": 3
   },
   "file_extension": ".py",
   "mimetype": "text/x-python",
   "name": "python",
   "nbconvert_exporter": "python",
   "pygments_lexer": "ipython3",
   "version": "3.10.4"
  }
 },
 "nbformat": 4,
 "nbformat_minor": 2
}
