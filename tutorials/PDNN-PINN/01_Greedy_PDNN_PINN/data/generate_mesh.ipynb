{
 "cells": [
  {
   "cell_type": "code",
   "execution_count": 1,
   "metadata": {},
   "outputs": [
    {
     "ename": "ModuleNotFoundError",
     "evalue": "No module named 'mshr'",
     "output_type": "error",
     "traceback": [
      "\u001b[0;31m---------------------------------------------------------------------------\u001b[0m",
      "\u001b[0;31mModuleNotFoundError\u001b[0m                       Traceback (most recent call last)",
      "Input \u001b[0;32mIn [1]\u001b[0m, in \u001b[0;36m<cell line: 2>\u001b[0;34m()\u001b[0m\n\u001b[1;32m      1\u001b[0m \u001b[38;5;28;01mfrom\u001b[39;00m \u001b[38;5;21;01mdolfin\u001b[39;00m \u001b[38;5;28;01mimport\u001b[39;00m \u001b[38;5;241m*\u001b[39m\n\u001b[0;32m----> 2\u001b[0m \u001b[38;5;28;01mfrom\u001b[39;00m \u001b[38;5;21;01mmshr\u001b[39;00m \u001b[38;5;28;01mimport\u001b[39;00m \u001b[38;5;241m*\u001b[39m\n",
      "\u001b[0;31mModuleNotFoundError\u001b[0m: No module named 'mshr'"
     ]
    }
   ],
   "source": [
    "from dolfin import *\n",
    "from mshr import *"
   ]
  },
  {
   "cell_type": "code",
   "execution_count": null,
   "metadata": {},
   "outputs": [],
   "source": [
    "# Create mesh\n",
    "rectangle = Rectangle(Point(-1., -1.), Point(1., 1.))\n",
    "circle = Circle(Point(0., 0.), 0.5, segments=32)\n",
    "domain = rectangle\n",
    "domain.set_subdomain(1, circle)\n",
    "domain.set_subdomain(2, rectangle - circle)\n",
    "mesh = generate_mesh(domain, 15)"
   ]
  },
  {
   "cell_type": "code",
   "execution_count": null,
   "metadata": {},
   "outputs": [],
   "source": [
    "# Create subdomains\n",
    "subdomains = MeshFunction(\"size_t\", mesh, 2, mesh.domains())"
   ]
  },
  {
   "cell_type": "code",
   "execution_count": null,
   "metadata": {},
   "outputs": [],
   "source": [
    "# Create boundaries\n",
    "class Left(SubDomain):\n",
    "    def inside(self, x, on_boundary):\n",
    "        return on_boundary and abs(x[0] + 1.) < DOLFIN_EPS\n",
    "\n",
    "\n",
    "class Right(SubDomain):\n",
    "    def inside(self, x, on_boundary):\n",
    "        return on_boundary and abs(x[0] - 1.) < DOLFIN_EPS\n",
    "\n",
    "\n",
    "class Bottom(SubDomain):\n",
    "    def inside(self, x, on_boundary):\n",
    "        return on_boundary and abs(x[1] + 1.) < DOLFIN_EPS\n",
    "\n",
    "\n",
    "class Top(SubDomain):\n",
    "    def inside(self, x, on_boundary):\n",
    "        return on_boundary and abs(x[1] - 1.) < DOLFIN_EPS\n",
    "\n",
    "\n",
    "boundaries = MeshFunction(\"size_t\", mesh, mesh.topology().dim() - 1)\n",
    "boundaries.set_all(0)\n",
    "bottom = Bottom()\n",
    "bottom.mark(boundaries, 1)\n",
    "left = Left()\n",
    "left.mark(boundaries, 2)\n",
    "right = Right()\n",
    "right.mark(boundaries, 2)\n",
    "top = Top()\n",
    "top.mark(boundaries, 3)"
   ]
  },
  {
   "cell_type": "code",
   "execution_count": null,
   "metadata": {},
   "outputs": [],
   "source": [
    "# Save\n",
    "File(\"thermal_block.xml\") << mesh\n",
    "File(\"thermal_block_physical_region.xml\") << subdomains\n",
    "File(\"thermal_block_facet_region.xml\") << boundaries\n",
    "XDMFFile(\"thermal_block.xdmf\").write(mesh)\n",
    "XDMFFile(\"thermal_block_physical_region.xdmf\").write(subdomains)\n",
    "XDMFFile(\"thermal_block_facet_region.xdmf\").write(boundaries)"
   ]
  }
 ],
 "metadata": {
  "kernelspec": {
   "display_name": "Python 3 (ipykernel)",
   "language": "python",
   "name": "python3"
  },
  "language_info": {
   "codemirror_mode": {
    "name": "ipython",
    "version": 3
   },
   "file_extension": ".py",
   "mimetype": "text/x-python",
   "name": "python",
   "nbconvert_exporter": "python",
   "pygments_lexer": "ipython3",
   "version": "3.10.4"
  }
 },
 "nbformat": 4,
 "nbformat_minor": 2
}
