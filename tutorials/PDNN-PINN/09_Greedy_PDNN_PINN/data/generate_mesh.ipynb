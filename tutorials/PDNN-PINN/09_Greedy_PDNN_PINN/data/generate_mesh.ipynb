{
 "cells": [
  {
   "cell_type": "code",
   "execution_count": 1,
   "metadata": {},
   "outputs": [
    {
     "ename": "ImportError",
     "evalue": "dlopen(/Users/maxhirsch/opt/anaconda3/envs/Mesh/lib/python3.10/site-packages/mshr/cpp.cpython-310-darwin.so, 2): Symbol not found: __ZN6dolfin3MPI11is_receiverEi\n  Referenced from: /Users/maxhirsch/opt/anaconda3/envs/Mesh/lib/libmshr.2019.1.dylib\n  Expected in: /Users/maxhirsch/opt/anaconda3/envs/Mesh/lib/python3.10/site-packages/dolfin/../../../libdolfin.2019.1.dylib\n in /Users/maxhirsch/opt/anaconda3/envs/Mesh/lib/libmshr.2019.1.dylib",
     "output_type": "error",
     "traceback": [
      "\u001b[0;31m---------------------------------------------------------------------------\u001b[0m",
      "\u001b[0;31mImportError\u001b[0m                               Traceback (most recent call last)",
      "Input \u001b[0;32mIn [1]\u001b[0m, in \u001b[0;36m<cell line: 2>\u001b[0;34m()\u001b[0m\n\u001b[1;32m      1\u001b[0m \u001b[38;5;28;01mfrom\u001b[39;00m \u001b[38;5;21;01mdolfin\u001b[39;00m \u001b[38;5;28;01mimport\u001b[39;00m \u001b[38;5;241m*\u001b[39m\n\u001b[0;32m----> 2\u001b[0m \u001b[38;5;28;01mfrom\u001b[39;00m \u001b[38;5;21;01mmshr\u001b[39;00m \u001b[38;5;28;01mimport\u001b[39;00m \u001b[38;5;241m*\u001b[39m\n",
      "File \u001b[0;32m~/opt/anaconda3/envs/Mesh/lib/python3.10/site-packages/mshr/__init__.py:24\u001b[0m, in \u001b[0;36m<module>\u001b[0;34m\u001b[0m\n\u001b[1;32m      4\u001b[0m \u001b[38;5;66;03m# Copyright (C) 2017 Benjamin Kehlet\u001b[39;00m\n\u001b[1;32m      5\u001b[0m \n\u001b[1;32m      6\u001b[0m \u001b[38;5;66;03m# This file is part of mshr.\u001b[39;00m\n\u001b[0;32m   (...)\u001b[0m\n\u001b[1;32m     19\u001b[0m \u001b[38;5;66;03m# along with mshr.  If not, see <http:#www.gnu.org/licenses/>.\u001b[39;00m\n\u001b[1;32m     20\u001b[0m \u001b[38;5;66;03m#\u001b[39;00m\n\u001b[1;32m     22\u001b[0m \u001b[38;5;28;01mimport\u001b[39;00m \u001b[38;5;21;01mdolfin\u001b[39;00m\n\u001b[0;32m---> 24\u001b[0m \u001b[38;5;28;01mfrom\u001b[39;00m \u001b[38;5;21;01m.\u001b[39;00m\u001b[38;5;21;01mcpp\u001b[39;00m \u001b[38;5;28;01mimport\u001b[39;00m Circle\n\u001b[1;32m     25\u001b[0m \u001b[38;5;28;01mfrom\u001b[39;00m \u001b[38;5;21;01m.\u001b[39;00m\u001b[38;5;21;01mcpp\u001b[39;00m \u001b[38;5;28;01mimport\u001b[39;00m Ellipse\n\u001b[1;32m     26\u001b[0m \u001b[38;5;28;01mfrom\u001b[39;00m \u001b[38;5;21;01m.\u001b[39;00m\u001b[38;5;21;01mcpp\u001b[39;00m \u001b[38;5;28;01mimport\u001b[39;00m Rectangle\n",
      "\u001b[0;31mImportError\u001b[0m: dlopen(/Users/maxhirsch/opt/anaconda3/envs/Mesh/lib/python3.10/site-packages/mshr/cpp.cpython-310-darwin.so, 2): Symbol not found: __ZN6dolfin3MPI11is_receiverEi\n  Referenced from: /Users/maxhirsch/opt/anaconda3/envs/Mesh/lib/libmshr.2019.1.dylib\n  Expected in: /Users/maxhirsch/opt/anaconda3/envs/Mesh/lib/python3.10/site-packages/dolfin/../../../libdolfin.2019.1.dylib\n in /Users/maxhirsch/opt/anaconda3/envs/Mesh/lib/libmshr.2019.1.dylib"
     ]
    }
   ],
   "source": [
    "from dolfin import *\n",
    "from mshr import *"
   ]
  },
  {
   "cell_type": "code",
   "execution_count": null,
   "metadata": {},
   "outputs": [],
   "source": [
    "# Create mesh\n",
    "domain = Rectangle(Point(0., 0.), Point(1., 1.))\n",
    "subdomain1 = Rectangle(Point(0.0, 0.0), Point(1.0, 0.25))\n",
    "subdomain2 = Rectangle(Point(0.0, 0.25), Point(1.0, 1.0))\n",
    "domain.set_subdomain(1, subdomain1)  # add some fake subdomains to make sure that the mesh is split\n",
    "domain.set_subdomain(2, subdomain2)  # at x[1] = 0.25, since boundary id changes at (0, 0.25)\n",
    "mesh = generate_mesh(domain, 1)#50)"
   ]
  },
  {
   "cell_type": "code",
   "execution_count": null,
   "metadata": {},
   "outputs": [],
   "source": [
    "# Create subdomains\n",
    "subdomains = MeshFunction(\"size_t\", mesh, 2)\n",
    "subdomains.set_all(0)"
   ]
  },
  {
   "cell_type": "code",
   "execution_count": null,
   "metadata": {},
   "outputs": [],
   "source": [
    "# Create boundaries\n",
    "class Boundary1(SubDomain):\n",
    "    def inside(self, x, on_boundary):\n",
    "        return on_boundary and (\n",
    "            abs(x[1] - 0.) < DOLFIN_EPS\n",
    "            or (abs(x[0] - 0.) < DOLFIN_EPS and x[1] <= 0.25)\n",
    "        )\n",
    "\n",
    "\n",
    "class Boundary2(SubDomain):\n",
    "    def inside(self, x, on_boundary):\n",
    "        return on_boundary and (\n",
    "            abs(x[1] - 1.) < DOLFIN_EPS\n",
    "            or abs(x[0] - 1.) < DOLFIN_EPS\n",
    "            or (abs(x[0] - 0.) < DOLFIN_EPS and x[1] >= 0.25)\n",
    "        )\n",
    "\n",
    "\n",
    "boundaries = MeshFunction(\"size_t\", mesh, mesh.topology().dim() - 1)\n",
    "boundaries.set_all(0)\n",
    "boundary_1 = Boundary1()\n",
    "boundary_1.mark(boundaries, 1)\n",
    "boundary_2 = Boundary2()\n",
    "boundary_2.mark(boundaries, 2)"
   ]
  },
  {
   "cell_type": "code",
   "execution_count": null,
   "metadata": {},
   "outputs": [],
   "source": [
    "# Save\n",
    "File(\"square.xml\") << mesh\n",
    "File(\"square_physical_region.xml\") << subdomains\n",
    "File(\"square_facet_region.xml\") << boundaries\n",
    "XDMFFile(\"square.xdmf\").write(mesh)\n",
    "XDMFFile(\"square_physical_region.xdmf\").write(subdomains)\n",
    "XDMFFile(\"square_facet_region.xdmf\").write(boundaries)"
   ]
  },
  {
   "cell_type": "code",
   "execution_count": null,
   "metadata": {},
   "outputs": [],
   "source": []
  }
 ],
 "metadata": {
  "kernelspec": {
   "display_name": "Python 3 (ipykernel)",
   "language": "python",
   "name": "python3"
  },
  "language_info": {
   "codemirror_mode": {
    "name": "ipython",
    "version": 3
   },
   "file_extension": ".py",
   "mimetype": "text/x-python",
   "name": "python",
   "nbconvert_exporter": "python",
   "pygments_lexer": "ipython3",
   "version": "3.10.4"
  }
 },
 "nbformat": 4,
 "nbformat_minor": 4
}
